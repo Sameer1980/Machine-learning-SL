{
 "cells": [
  {
   "cell_type": "markdown",
   "metadata": {
    "application/vnd.databricks.v1+cell": {
     "inputWidgets": {},
     "nuid": "3c686f6b-ec1c-470b-96c8-5d1c457bee86",
     "showTitle": false,
     "title": ""
    }
   },
   "source": [
    "# Data Processing using Pyspark"
   ]
  },
  {
   "cell_type": "code",
   "execution_count": 0,
   "metadata": {
    "application/vnd.databricks.v1+cell": {
     "inputWidgets": {},
     "nuid": "1d64e931-8856-4018-a71e-cc3b913793e7",
     "showTitle": false,
     "title": ""
    }
   },
   "outputs": [
    {
     "data": {
      "text/html": [
       "<style scoped>\n",
       "  .ansiout {\n",
       "    display: block;\n",
       "    unicode-bidi: embed;\n",
       "    white-space: pre-wrap;\n",
       "    word-wrap: break-word;\n",
       "    word-break: break-all;\n",
       "    font-family: \"Source Code Pro\", \"Menlo\", monospace;;\n",
       "    font-size: 13px;\n",
       "    color: #555;\n",
       "    margin-left: 4px;\n",
       "    line-height: 19px;\n",
       "  }\n",
       "</style>\n",
       "<div class=\"ansiout\">Out[1]: </div>"
      ]
     },
     "metadata": {
      "application/vnd.databricks.v1+output": {
       "addedWidgets": {},
       "arguments": {},
       "data": "<div class=\"ansiout\">Out[1]: </div>",
       "datasetInfos": [],
       "removedWidgets": [],
       "type": "html"
      }
     },
     "output_type": "display_data"
    },
    {
     "data": {
      "text/html": [
       "\n",
       "        <div>\n",
       "            <p><b>SparkContext</b></p>\n",
       "\n",
       "            <p><a href=\"/?o=8974301114057873#setting/sparkui/0213-051455-swabs970/driver-957483604631097722\">Spark UI</a></p>\n",
       "\n",
       "            <dl>\n",
       "              <dt>Version</dt>\n",
       "                <dd><code>v3.0.1</code></dd>\n",
       "              <dt>Master</dt>\n",
       "                <dd><code>local[8]</code></dd>\n",
       "              <dt>AppName</dt>\n",
       "                <dd><code>Databricks Shell</code></dd>\n",
       "            </dl>\n",
       "        </div>\n",
       "        "
      ]
     },
     "metadata": {
      "application/vnd.databricks.v1+output": {
       "addedWidgets": {},
       "arguments": {},
       "data": "\n        <div>\n            <p><b>SparkContext</b></p>\n\n            <p><a href=\"/?o=8974301114057873#setting/sparkui/0213-051455-swabs970/driver-957483604631097722\">Spark UI</a></p>\n\n            <dl>\n              <dt>Version</dt>\n                <dd><code>v3.0.1</code></dd>\n              <dt>Master</dt>\n                <dd><code>local[8]</code></dd>\n              <dt>AppName</dt>\n                <dd><code>Databricks Shell</code></dd>\n            </dl>\n        </div>\n        ",
       "datasetInfos": [],
       "removedWidgets": [],
       "textData": null,
       "type": "htmlSandbox"
      }
     },
     "output_type": "display_data"
    }
   ],
   "source": [
    "sc"
   ]
  },
  {
   "cell_type": "code",
   "execution_count": 0,
   "metadata": {
    "application/vnd.databricks.v1+cell": {
     "inputWidgets": {},
     "nuid": "f45e689d-9802-4fc0-adde-a4b8352b31a6",
     "showTitle": false,
     "title": ""
    }
   },
   "outputs": [
    {
     "data": {
      "text/html": [
       "<style scoped>\n",
       "  .ansiout {\n",
       "    display: block;\n",
       "    unicode-bidi: embed;\n",
       "    white-space: pre-wrap;\n",
       "    word-wrap: break-word;\n",
       "    word-break: break-all;\n",
       "    font-family: \"Source Code Pro\", \"Menlo\", monospace;;\n",
       "    font-size: 13px;\n",
       "    color: #555;\n",
       "    margin-left: 4px;\n",
       "    line-height: 19px;\n",
       "  }\n",
       "</style>\n",
       "<div class=\"ansiout\">Out[2]: </div>"
      ]
     },
     "metadata": {
      "application/vnd.databricks.v1+output": {
       "addedWidgets": {},
       "arguments": {},
       "data": "<div class=\"ansiout\">Out[2]: </div>",
       "datasetInfos": [],
       "removedWidgets": [],
       "type": "html"
      }
     },
     "output_type": "display_data"
    },
    {
     "data": {
      "text/html": [
       "\n",
       "            <div>\n",
       "                <p><b>SparkSession - hive</b></p>\n",
       "                \n",
       "        <div>\n",
       "            <p><b>SparkContext</b></p>\n",
       "\n",
       "            <p><a href=\"/?o=8974301114057873#setting/sparkui/0213-051455-swabs970/driver-957483604631097722\">Spark UI</a></p>\n",
       "\n",
       "            <dl>\n",
       "              <dt>Version</dt>\n",
       "                <dd><code>v3.0.1</code></dd>\n",
       "              <dt>Master</dt>\n",
       "                <dd><code>local[8]</code></dd>\n",
       "              <dt>AppName</dt>\n",
       "                <dd><code>Databricks Shell</code></dd>\n",
       "            </dl>\n",
       "        </div>\n",
       "        \n",
       "            </div>\n",
       "        "
      ]
     },
     "metadata": {
      "application/vnd.databricks.v1+output": {
       "addedWidgets": {},
       "arguments": {},
       "data": "\n            <div>\n                <p><b>SparkSession - hive</b></p>\n                \n        <div>\n            <p><b>SparkContext</b></p>\n\n            <p><a href=\"/?o=8974301114057873#setting/sparkui/0213-051455-swabs970/driver-957483604631097722\">Spark UI</a></p>\n\n            <dl>\n              <dt>Version</dt>\n                <dd><code>v3.0.1</code></dd>\n              <dt>Master</dt>\n                <dd><code>local[8]</code></dd>\n              <dt>AppName</dt>\n                <dd><code>Databricks Shell</code></dd>\n            </dl>\n        </div>\n        \n            </div>\n        ",
       "datasetInfos": [],
       "removedWidgets": [],
       "textData": null,
       "type": "htmlSandbox"
      }
     },
     "output_type": "display_data"
    }
   ],
   "source": [
    "spark"
   ]
  },
  {
   "cell_type": "code",
   "execution_count": 0,
   "metadata": {
    "application/vnd.databricks.v1+cell": {
     "inputWidgets": {},
     "nuid": "fdca6947-e28e-4974-af01-8920d8e0c1a0",
     "showTitle": false,
     "title": ""
    }
   },
   "outputs": [
    {
     "data": {
      "text/html": [
       "<style scoped>\n",
       "  .ansiout {\n",
       "    display: block;\n",
       "    unicode-bidi: embed;\n",
       "    white-space: pre-wrap;\n",
       "    word-wrap: break-word;\n",
       "    word-break: break-all;\n",
       "    font-family: \"Source Code Pro\", \"Menlo\", monospace;;\n",
       "    font-size: 13px;\n",
       "    color: #555;\n",
       "    margin-left: 4px;\n",
       "    line-height: 19px;\n",
       "  }\n",
       "</style>\n",
       "<div class=\"ansiout\"></div>"
      ]
     },
     "metadata": {
      "application/vnd.databricks.v1+output": {
       "addedWidgets": {},
       "arguments": {},
       "data": "<div class=\"ansiout\"></div>",
       "datasetInfos": [],
       "removedWidgets": [],
       "type": "html"
      }
     },
     "output_type": "display_data"
    }
   ],
   "source": [
    "# Load csv Dataset \n",
    "#df=spark.read.csv('sample_data_csv.csv',inferSchema=True,header=True)\n",
    "df = spark.sql(\"select * from sample_data_csv\")"
   ]
  },
  {
   "cell_type": "code",
   "execution_count": 0,
   "metadata": {
    "application/vnd.databricks.v1+cell": {
     "inputWidgets": {},
     "nuid": "de08225c-530e-4ca3-af45-14ad47574562",
     "showTitle": false,
     "title": ""
    }
   },
   "outputs": [
    {
     "data": {
      "text/html": [
       "<style scoped>\n",
       "  .table-result-container {\n",
       "    max-height: 300px;\n",
       "    overflow: auto;\n",
       "  }\n",
       "  table, th, td {\n",
       "    border: 1px solid black;\n",
       "    border-collapse: collapse;\n",
       "  }\n",
       "  th, td {\n",
       "    padding: 5px;\n",
       "  }\n",
       "  th {\n",
       "    text-align: left;\n",
       "  }\n",
       "</style><div class='table-result-container'><table class='table-result'><thead style='background-color: white'><tr><th>ratings</th><th>age</th><th>experience</th><th>family</th><th>mobile</th></tr></thead><tbody><tr><td>3</td><td>32</td><td>9</td><td>3</td><td>Vivo</td></tr><tr><td>3</td><td>27</td><td>13</td><td>3</td><td>Apple</td></tr><tr><td>4</td><td>22</td><td>2.5</td><td>0</td><td>Samsung</td></tr><tr><td>4</td><td>37</td><td>16.5</td><td>4</td><td>Apple</td></tr><tr><td>5</td><td>27</td><td>9</td><td>1</td><td>MI</td></tr><tr><td>4</td><td>27</td><td>9</td><td>0</td><td>Oppo</td></tr><tr><td>5</td><td>37</td><td>23</td><td>5</td><td>Vivo</td></tr><tr><td>5</td><td>37</td><td>23</td><td>5</td><td>Samsung</td></tr><tr><td>3</td><td>22</td><td>2.5</td><td>0</td><td>Apple</td></tr><tr><td>3</td><td>27</td><td>6</td><td>0</td><td>MI</td></tr><tr><td>2</td><td>27</td><td>6</td><td>2</td><td>Oppo</td></tr><tr><td>5</td><td>27</td><td>6</td><td>2</td><td>Samsung</td></tr><tr><td>3</td><td>37</td><td>16.5</td><td>5</td><td>Apple</td></tr><tr><td>5</td><td>27</td><td>6</td><td>0</td><td>MI</td></tr><tr><td>4</td><td>22</td><td>6</td><td>1</td><td>Oppo</td></tr><tr><td>4</td><td>37</td><td>9</td><td>2</td><td>Samsung</td></tr><tr><td>4</td><td>27</td><td>6</td><td>1</td><td>Apple</td></tr><tr><td>1</td><td>37</td><td>23</td><td>5</td><td>MI</td></tr><tr><td>2</td><td>42</td><td>23</td><td>2</td><td>Oppo</td></tr><tr><td>4</td><td>37</td><td>6</td><td>0</td><td>Vivo</td></tr><tr><td>5</td><td>22</td><td>2.5</td><td>0</td><td>Samsung</td></tr><tr><td>3</td><td>37</td><td>16.5</td><td>5</td><td>Apple</td></tr><tr><td>3</td><td>42</td><td>23</td><td>5</td><td>MI</td></tr><tr><td>2</td><td>27</td><td>9</td><td>2</td><td>Samsung</td></tr><tr><td>4</td><td>27</td><td>6</td><td>1</td><td>Apple</td></tr><tr><td>5</td><td>27</td><td>2.5</td><td>0</td><td>MI</td></tr><tr><td>2</td><td>27</td><td>6</td><td>2</td><td>Oppo</td></tr><tr><td>5</td><td>37</td><td>13</td><td>1</td><td>Vivo</td></tr><tr><td>2</td><td>32</td><td>16.5</td><td>2</td><td>Oppo</td></tr><tr><td>3</td><td>27</td><td>6</td><td>0</td><td>MI</td></tr><tr><td>3</td><td>27</td><td>6</td><td>0</td><td>MI</td></tr><tr><td>4</td><td>22</td><td>6</td><td>1</td><td>Oppo</td></tr><tr><td>4</td><td>37</td><td>6</td><td>0</td><td>Vivo</td></tr></tbody></table></div>"
      ]
     },
     "metadata": {
      "application/vnd.databricks.v1+output": {
       "addedWidgets": {},
       "aggData": [],
       "aggError": "",
       "aggOverflow": false,
       "aggSchema": [],
       "aggSeriesLimitReached": false,
       "aggType": "",
       "arguments": {},
       "columnCustomDisplayInfos": {},
       "data": [
        [
         "3",
         "32",
         "9",
         "3",
         "Vivo"
        ],
        [
         "3",
         "27",
         "13",
         "3",
         "Apple"
        ],
        [
         "4",
         "22",
         "2.5",
         "0",
         "Samsung"
        ],
        [
         "4",
         "37",
         "16.5",
         "4",
         "Apple"
        ],
        [
         "5",
         "27",
         "9",
         "1",
         "MI"
        ],
        [
         "4",
         "27",
         "9",
         "0",
         "Oppo"
        ],
        [
         "5",
         "37",
         "23",
         "5",
         "Vivo"
        ],
        [
         "5",
         "37",
         "23",
         "5",
         "Samsung"
        ],
        [
         "3",
         "22",
         "2.5",
         "0",
         "Apple"
        ],
        [
         "3",
         "27",
         "6",
         "0",
         "MI"
        ],
        [
         "2",
         "27",
         "6",
         "2",
         "Oppo"
        ],
        [
         "5",
         "27",
         "6",
         "2",
         "Samsung"
        ],
        [
         "3",
         "37",
         "16.5",
         "5",
         "Apple"
        ],
        [
         "5",
         "27",
         "6",
         "0",
         "MI"
        ],
        [
         "4",
         "22",
         "6",
         "1",
         "Oppo"
        ],
        [
         "4",
         "37",
         "9",
         "2",
         "Samsung"
        ],
        [
         "4",
         "27",
         "6",
         "1",
         "Apple"
        ],
        [
         "1",
         "37",
         "23",
         "5",
         "MI"
        ],
        [
         "2",
         "42",
         "23",
         "2",
         "Oppo"
        ],
        [
         "4",
         "37",
         "6",
         "0",
         "Vivo"
        ],
        [
         "5",
         "22",
         "2.5",
         "0",
         "Samsung"
        ],
        [
         "3",
         "37",
         "16.5",
         "5",
         "Apple"
        ],
        [
         "3",
         "42",
         "23",
         "5",
         "MI"
        ],
        [
         "2",
         "27",
         "9",
         "2",
         "Samsung"
        ],
        [
         "4",
         "27",
         "6",
         "1",
         "Apple"
        ],
        [
         "5",
         "27",
         "2.5",
         "0",
         "MI"
        ],
        [
         "2",
         "27",
         "6",
         "2",
         "Oppo"
        ],
        [
         "5",
         "37",
         "13",
         "1",
         "Vivo"
        ],
        [
         "2",
         "32",
         "16.5",
         "2",
         "Oppo"
        ],
        [
         "3",
         "27",
         "6",
         "0",
         "MI"
        ],
        [
         "3",
         "27",
         "6",
         "0",
         "MI"
        ],
        [
         "4",
         "22",
         "6",
         "1",
         "Oppo"
        ],
        [
         "4",
         "37",
         "6",
         "0",
         "Vivo"
        ]
       ],
       "datasetInfos": [],
       "dbfsResultPath": null,
       "isJsonSchema": true,
       "overflow": false,
       "plotOptions": {
        "customPlotOptions": {},
        "displayType": "table",
        "pivotAggregation": null,
        "pivotColumns": null,
        "xColumns": null,
        "yColumns": null
       },
       "removedWidgets": [],
       "schema": [
        {
         "metadata": "{}",
         "name": "ratings",
         "type": "\"string\""
        },
        {
         "metadata": "{}",
         "name": "age",
         "type": "\"string\""
        },
        {
         "metadata": "{}",
         "name": "experience",
         "type": "\"string\""
        },
        {
         "metadata": "{}",
         "name": "family",
         "type": "\"string\""
        },
        {
         "metadata": "{}",
         "name": "mobile",
         "type": "\"string\""
        }
       ],
       "type": "table"
      }
     },
     "output_type": "display_data"
    }
   ],
   "source": [
    "display(df)"
   ]
  },
  {
   "cell_type": "code",
   "execution_count": 0,
   "metadata": {
    "application/vnd.databricks.v1+cell": {
     "inputWidgets": {},
     "nuid": "63045321-8217-49bf-b817-d0047056ece7",
     "showTitle": false,
     "title": ""
    }
   },
   "outputs": [
    {
     "data": {
      "text/html": [
       "<style scoped>\n",
       "  .ansiout {\n",
       "    display: block;\n",
       "    unicode-bidi: embed;\n",
       "    white-space: pre-wrap;\n",
       "    word-wrap: break-word;\n",
       "    word-break: break-all;\n",
       "    font-family: \"Source Code Pro\", \"Menlo\", monospace;;\n",
       "    font-size: 13px;\n",
       "    color: #555;\n",
       "    margin-left: 4px;\n",
       "    line-height: 19px;\n",
       "  }\n",
       "</style>\n",
       "<div class=\"ansiout\">Out[8]: [&#39;ratings&#39;, &#39;age&#39;, &#39;experience&#39;, &#39;family&#39;, &#39;mobile&#39;]</div>"
      ]
     },
     "metadata": {
      "application/vnd.databricks.v1+output": {
       "addedWidgets": {},
       "arguments": {},
       "data": "<div class=\"ansiout\">Out[8]: [&#39;ratings&#39;, &#39;age&#39;, &#39;experience&#39;, &#39;family&#39;, &#39;mobile&#39;]</div>",
       "datasetInfos": [],
       "removedWidgets": [],
       "type": "html"
      }
     },
     "output_type": "display_data"
    }
   ],
   "source": [
    "#columns of dataframe\n",
    "df.columns"
   ]
  },
  {
   "cell_type": "code",
   "execution_count": 0,
   "metadata": {
    "application/vnd.databricks.v1+cell": {
     "inputWidgets": {},
     "nuid": "8ccbaac4-3c14-4754-8456-0a63e2f05c83",
     "showTitle": false,
     "title": ""
    }
   },
   "outputs": [
    {
     "data": {
      "text/html": [
       "<style scoped>\n",
       "  .ansiout {\n",
       "    display: block;\n",
       "    unicode-bidi: embed;\n",
       "    white-space: pre-wrap;\n",
       "    word-wrap: break-word;\n",
       "    word-break: break-all;\n",
       "    font-family: \"Source Code Pro\", \"Menlo\", monospace;;\n",
       "    font-size: 13px;\n",
       "    color: #555;\n",
       "    margin-left: 4px;\n",
       "    line-height: 19px;\n",
       "  }\n",
       "</style>\n",
       "<div class=\"ansiout\">Out[9]: 5</div>"
      ]
     },
     "metadata": {
      "application/vnd.databricks.v1+output": {
       "addedWidgets": {},
       "arguments": {},
       "data": "<div class=\"ansiout\">Out[9]: 5</div>",
       "datasetInfos": [],
       "removedWidgets": [],
       "type": "html"
      }
     },
     "output_type": "display_data"
    }
   ],
   "source": [
    "#check number of columns\n",
    "len(df.columns)"
   ]
  },
  {
   "cell_type": "code",
   "execution_count": 0,
   "metadata": {
    "application/vnd.databricks.v1+cell": {
     "inputWidgets": {},
     "nuid": "c1ee2f8c-d7a7-466b-a79a-775e8c7e0af1",
     "showTitle": false,
     "title": ""
    }
   },
   "outputs": [
    {
     "data": {
      "text/html": [
       "<style scoped>\n",
       "  .ansiout {\n",
       "    display: block;\n",
       "    unicode-bidi: embed;\n",
       "    white-space: pre-wrap;\n",
       "    word-wrap: break-word;\n",
       "    word-break: break-all;\n",
       "    font-family: \"Source Code Pro\", \"Menlo\", monospace;;\n",
       "    font-size: 13px;\n",
       "    color: #555;\n",
       "    margin-left: 4px;\n",
       "    line-height: 19px;\n",
       "  }\n",
       "</style>\n",
       "<div class=\"ansiout\">Out[10]: 33</div>"
      ]
     },
     "metadata": {
      "application/vnd.databricks.v1+output": {
       "addedWidgets": {},
       "arguments": {},
       "data": "<div class=\"ansiout\">Out[10]: 33</div>",
       "datasetInfos": [],
       "removedWidgets": [],
       "type": "html"
      }
     },
     "output_type": "display_data"
    }
   ],
   "source": [
    "#number of records in dataframe\n",
    "df.count()"
   ]
  },
  {
   "cell_type": "code",
   "execution_count": 0,
   "metadata": {
    "application/vnd.databricks.v1+cell": {
     "inputWidgets": {},
     "nuid": "f9eba3f9-1068-4d3f-94f8-5808468badca",
     "showTitle": false,
     "title": ""
    }
   },
   "outputs": [
    {
     "data": {
      "text/html": [
       "<style scoped>\n",
       "  .ansiout {\n",
       "    display: block;\n",
       "    unicode-bidi: embed;\n",
       "    white-space: pre-wrap;\n",
       "    word-wrap: break-word;\n",
       "    word-break: break-all;\n",
       "    font-family: \"Source Code Pro\", \"Menlo\", monospace;;\n",
       "    font-size: 13px;\n",
       "    color: #555;\n",
       "    margin-left: 4px;\n",
       "    line-height: 19px;\n",
       "  }\n",
       "</style>\n",
       "<div class=\"ansiout\">(33, 5)\n",
       "</div>"
      ]
     },
     "metadata": {
      "application/vnd.databricks.v1+output": {
       "addedWidgets": {},
       "arguments": {},
       "data": "<div class=\"ansiout\">(33, 5)\n</div>",
       "datasetInfos": [],
       "removedWidgets": [],
       "type": "html"
      }
     },
     "output_type": "display_data"
    }
   ],
   "source": [
    "#shape of dataset\n",
    "print((df.count(),len(df.columns)))"
   ]
  },
  {
   "cell_type": "code",
   "execution_count": 0,
   "metadata": {
    "application/vnd.databricks.v1+cell": {
     "inputWidgets": {},
     "nuid": "11049a4e-dbe9-46e7-adec-95cb76b0a394",
     "showTitle": false,
     "title": ""
    }
   },
   "outputs": [
    {
     "data": {
      "text/html": [
       "<style scoped>\n",
       "  .ansiout {\n",
       "    display: block;\n",
       "    unicode-bidi: embed;\n",
       "    white-space: pre-wrap;\n",
       "    word-wrap: break-word;\n",
       "    word-break: break-all;\n",
       "    font-family: \"Source Code Pro\", \"Menlo\", monospace;;\n",
       "    font-size: 13px;\n",
       "    color: #555;\n",
       "    margin-left: 4px;\n",
       "    line-height: 19px;\n",
       "  }\n",
       "</style>\n",
       "<div class=\"ansiout\">root\n",
       "-- ratings: string (nullable = true)\n",
       "-- age: string (nullable = true)\n",
       "-- experience: string (nullable = true)\n",
       "-- family: string (nullable = true)\n",
       "-- mobile: string (nullable = true)\n",
       "\n",
       "</div>"
      ]
     },
     "metadata": {
      "application/vnd.databricks.v1+output": {
       "addedWidgets": {},
       "arguments": {},
       "data": "<div class=\"ansiout\">root\n |-- ratings: string (nullable = true)\n |-- age: string (nullable = true)\n |-- experience: string (nullable = true)\n |-- family: string (nullable = true)\n |-- mobile: string (nullable = true)\n\n</div>",
       "datasetInfos": [],
       "removedWidgets": [],
       "type": "html"
      }
     },
     "output_type": "display_data"
    }
   ],
   "source": [
    "#printSchema\n",
    "df.printSchema()"
   ]
  },
  {
   "cell_type": "code",
   "execution_count": 0,
   "metadata": {
    "application/vnd.databricks.v1+cell": {
     "inputWidgets": {},
     "nuid": "222da77b-f137-47e0-8fa6-cd485c8e8fba",
     "showTitle": false,
     "title": ""
    }
   },
   "outputs": [
    {
     "data": {
      "text/html": [
       "<style scoped>\n",
       "  .ansiout {\n",
       "    display: block;\n",
       "    unicode-bidi: embed;\n",
       "    white-space: pre-wrap;\n",
       "    word-wrap: break-word;\n",
       "    word-break: break-all;\n",
       "    font-family: \"Source Code Pro\", \"Menlo\", monospace;;\n",
       "    font-size: 13px;\n",
       "    color: #555;\n",
       "    margin-left: 4px;\n",
       "    line-height: 19px;\n",
       "  }\n",
       "</style>\n",
       "<div class=\"ansiout\">+-------+---+----------+------+-------+\n",
       "ratings|age|experience|family| mobile|\n",
       "+-------+---+----------+------+-------+\n",
       "      3| 32|         9|     3|   Vivo|\n",
       "      3| 27|        13|     3|  Apple|\n",
       "      4| 22|       2.5|     0|Samsung|\n",
       "      4| 37|      16.5|     4|  Apple|\n",
       "      5| 27|         9|     1|     MI|\n",
       "+-------+---+----------+------+-------+\n",
       "only showing top 5 rows\n",
       "\n",
       "</div>"
      ]
     },
     "metadata": {
      "application/vnd.databricks.v1+output": {
       "addedWidgets": {},
       "arguments": {},
       "data": "<div class=\"ansiout\">+-------+---+----------+------+-------+\n|ratings|age|experience|family| mobile|\n+-------+---+----------+------+-------+\n|      3| 32|         9|     3|   Vivo|\n|      3| 27|        13|     3|  Apple|\n|      4| 22|       2.5|     0|Samsung|\n|      4| 37|      16.5|     4|  Apple|\n|      5| 27|         9|     1|     MI|\n+-------+---+----------+------+-------+\nonly showing top 5 rows\n\n</div>",
       "datasetInfos": [],
       "removedWidgets": [],
       "type": "html"
      }
     },
     "output_type": "display_data"
    }
   ],
   "source": [
    "#fisrt few rows of dataframe\n",
    "df.show(5)"
   ]
  },
  {
   "cell_type": "code",
   "execution_count": 0,
   "metadata": {
    "application/vnd.databricks.v1+cell": {
     "inputWidgets": {},
     "nuid": "0fc966d3-5c01-458d-9b8a-33ed8dea4674",
     "showTitle": false,
     "title": ""
    }
   },
   "outputs": [
    {
     "data": {
      "text/html": [
       "<style scoped>\n",
       "  .table-result-container {\n",
       "    max-height: 300px;\n",
       "    overflow: auto;\n",
       "  }\n",
       "  table, th, td {\n",
       "    border: 1px solid black;\n",
       "    border-collapse: collapse;\n",
       "  }\n",
       "  th, td {\n",
       "    padding: 5px;\n",
       "  }\n",
       "  th {\n",
       "    text-align: left;\n",
       "  }\n",
       "</style><div class='table-result-container'><table class='table-result'><thead style='background-color: white'><tr><th>ratings</th><th>age</th><th>experience</th><th>family</th><th>mobile</th></tr></thead><tbody><tr><td>3</td><td>32</td><td>9</td><td>3</td><td>Vivo</td></tr><tr><td>3</td><td>27</td><td>13</td><td>3</td><td>Apple</td></tr><tr><td>4</td><td>22</td><td>2.5</td><td>0</td><td>Samsung</td></tr><tr><td>4</td><td>37</td><td>16.5</td><td>4</td><td>Apple</td></tr><tr><td>5</td><td>27</td><td>9</td><td>1</td><td>MI</td></tr><tr><td>4</td><td>27</td><td>9</td><td>0</td><td>Oppo</td></tr><tr><td>5</td><td>37</td><td>23</td><td>5</td><td>Vivo</td></tr><tr><td>5</td><td>37</td><td>23</td><td>5</td><td>Samsung</td></tr><tr><td>3</td><td>22</td><td>2.5</td><td>0</td><td>Apple</td></tr><tr><td>3</td><td>27</td><td>6</td><td>0</td><td>MI</td></tr><tr><td>2</td><td>27</td><td>6</td><td>2</td><td>Oppo</td></tr><tr><td>5</td><td>27</td><td>6</td><td>2</td><td>Samsung</td></tr><tr><td>3</td><td>37</td><td>16.5</td><td>5</td><td>Apple</td></tr><tr><td>5</td><td>27</td><td>6</td><td>0</td><td>MI</td></tr><tr><td>4</td><td>22</td><td>6</td><td>1</td><td>Oppo</td></tr><tr><td>4</td><td>37</td><td>9</td><td>2</td><td>Samsung</td></tr><tr><td>4</td><td>27</td><td>6</td><td>1</td><td>Apple</td></tr><tr><td>1</td><td>37</td><td>23</td><td>5</td><td>MI</td></tr><tr><td>2</td><td>42</td><td>23</td><td>2</td><td>Oppo</td></tr><tr><td>4</td><td>37</td><td>6</td><td>0</td><td>Vivo</td></tr><tr><td>5</td><td>22</td><td>2.5</td><td>0</td><td>Samsung</td></tr><tr><td>3</td><td>37</td><td>16.5</td><td>5</td><td>Apple</td></tr><tr><td>3</td><td>42</td><td>23</td><td>5</td><td>MI</td></tr><tr><td>2</td><td>27</td><td>9</td><td>2</td><td>Samsung</td></tr><tr><td>4</td><td>27</td><td>6</td><td>1</td><td>Apple</td></tr><tr><td>5</td><td>27</td><td>2.5</td><td>0</td><td>MI</td></tr><tr><td>2</td><td>27</td><td>6</td><td>2</td><td>Oppo</td></tr><tr><td>5</td><td>37</td><td>13</td><td>1</td><td>Vivo</td></tr><tr><td>2</td><td>32</td><td>16.5</td><td>2</td><td>Oppo</td></tr><tr><td>3</td><td>27</td><td>6</td><td>0</td><td>MI</td></tr><tr><td>3</td><td>27</td><td>6</td><td>0</td><td>MI</td></tr><tr><td>4</td><td>22</td><td>6</td><td>1</td><td>Oppo</td></tr><tr><td>4</td><td>37</td><td>6</td><td>0</td><td>Vivo</td></tr></tbody></table></div>"
      ]
     },
     "metadata": {
      "application/vnd.databricks.v1+output": {
       "addedWidgets": {},
       "aggData": [],
       "aggError": "",
       "aggOverflow": false,
       "aggSchema": [],
       "aggSeriesLimitReached": false,
       "aggType": "",
       "arguments": {},
       "columnCustomDisplayInfos": {},
       "data": [
        [
         "3",
         "32",
         "9",
         "3",
         "Vivo"
        ],
        [
         "3",
         "27",
         "13",
         "3",
         "Apple"
        ],
        [
         "4",
         "22",
         "2.5",
         "0",
         "Samsung"
        ],
        [
         "4",
         "37",
         "16.5",
         "4",
         "Apple"
        ],
        [
         "5",
         "27",
         "9",
         "1",
         "MI"
        ],
        [
         "4",
         "27",
         "9",
         "0",
         "Oppo"
        ],
        [
         "5",
         "37",
         "23",
         "5",
         "Vivo"
        ],
        [
         "5",
         "37",
         "23",
         "5",
         "Samsung"
        ],
        [
         "3",
         "22",
         "2.5",
         "0",
         "Apple"
        ],
        [
         "3",
         "27",
         "6",
         "0",
         "MI"
        ],
        [
         "2",
         "27",
         "6",
         "2",
         "Oppo"
        ],
        [
         "5",
         "27",
         "6",
         "2",
         "Samsung"
        ],
        [
         "3",
         "37",
         "16.5",
         "5",
         "Apple"
        ],
        [
         "5",
         "27",
         "6",
         "0",
         "MI"
        ],
        [
         "4",
         "22",
         "6",
         "1",
         "Oppo"
        ],
        [
         "4",
         "37",
         "9",
         "2",
         "Samsung"
        ],
        [
         "4",
         "27",
         "6",
         "1",
         "Apple"
        ],
        [
         "1",
         "37",
         "23",
         "5",
         "MI"
        ],
        [
         "2",
         "42",
         "23",
         "2",
         "Oppo"
        ],
        [
         "4",
         "37",
         "6",
         "0",
         "Vivo"
        ],
        [
         "5",
         "22",
         "2.5",
         "0",
         "Samsung"
        ],
        [
         "3",
         "37",
         "16.5",
         "5",
         "Apple"
        ],
        [
         "3",
         "42",
         "23",
         "5",
         "MI"
        ],
        [
         "2",
         "27",
         "9",
         "2",
         "Samsung"
        ],
        [
         "4",
         "27",
         "6",
         "1",
         "Apple"
        ],
        [
         "5",
         "27",
         "2.5",
         "0",
         "MI"
        ],
        [
         "2",
         "27",
         "6",
         "2",
         "Oppo"
        ],
        [
         "5",
         "37",
         "13",
         "1",
         "Vivo"
        ],
        [
         "2",
         "32",
         "16.5",
         "2",
         "Oppo"
        ],
        [
         "3",
         "27",
         "6",
         "0",
         "MI"
        ],
        [
         "3",
         "27",
         "6",
         "0",
         "MI"
        ],
        [
         "4",
         "22",
         "6",
         "1",
         "Oppo"
        ],
        [
         "4",
         "37",
         "6",
         "0",
         "Vivo"
        ]
       ],
       "datasetInfos": [],
       "dbfsResultPath": null,
       "isJsonSchema": true,
       "overflow": false,
       "plotOptions": {
        "customPlotOptions": {},
        "displayType": "table",
        "pivotAggregation": null,
        "pivotColumns": null,
        "xColumns": null,
        "yColumns": null
       },
       "removedWidgets": [],
       "schema": [
        {
         "metadata": "{}",
         "name": "ratings",
         "type": "\"string\""
        },
        {
         "metadata": "{}",
         "name": "age",
         "type": "\"string\""
        },
        {
         "metadata": "{}",
         "name": "experience",
         "type": "\"string\""
        },
        {
         "metadata": "{}",
         "name": "family",
         "type": "\"string\""
        },
        {
         "metadata": "{}",
         "name": "mobile",
         "type": "\"string\""
        }
       ],
       "type": "table"
      }
     },
     "output_type": "display_data"
    }
   ],
   "source": [
    "display(df)"
   ]
  },
  {
   "cell_type": "code",
   "execution_count": 0,
   "metadata": {
    "application/vnd.databricks.v1+cell": {
     "inputWidgets": {},
     "nuid": "7d54c597-c60c-4d0e-bd2e-f60458152acc",
     "showTitle": false,
     "title": ""
    }
   },
   "outputs": [
    {
     "data": {
      "text/html": [
       "<style scoped>\n",
       "  .ansiout {\n",
       "    display: block;\n",
       "    unicode-bidi: embed;\n",
       "    white-space: pre-wrap;\n",
       "    word-wrap: break-word;\n",
       "    word-break: break-all;\n",
       "    font-family: \"Source Code Pro\", \"Menlo\", monospace;;\n",
       "    font-size: 13px;\n",
       "    color: #555;\n",
       "    margin-left: 4px;\n",
       "    line-height: 19px;\n",
       "  }\n",
       "</style>\n",
       "<div class=\"ansiout\">+---+-------+\n",
       "age| mobile|\n",
       "+---+-------+\n",
       " 32|   Vivo|\n",
       " 27|  Apple|\n",
       " 22|Samsung|\n",
       " 37|  Apple|\n",
       " 27|     MI|\n",
       "+---+-------+\n",
       "only showing top 5 rows\n",
       "\n",
       "</div>"
      ]
     },
     "metadata": {
      "application/vnd.databricks.v1+output": {
       "addedWidgets": {},
       "arguments": {},
       "data": "<div class=\"ansiout\">+---+-------+\n|age| mobile|\n+---+-------+\n| 32|   Vivo|\n| 27|  Apple|\n| 22|Samsung|\n| 37|  Apple|\n| 27|     MI|\n+---+-------+\nonly showing top 5 rows\n\n</div>",
       "datasetInfos": [],
       "removedWidgets": [],
       "type": "html"
      }
     },
     "output_type": "display_data"
    }
   ],
   "source": [
    "#select only 2 columns\n",
    "df.select('age','mobile').show(5)"
   ]
  },
  {
   "cell_type": "code",
   "execution_count": 0,
   "metadata": {
    "application/vnd.databricks.v1+cell": {
     "inputWidgets": {},
     "nuid": "8cff1953-b0db-4cd7-9bc5-4aa52b28c749",
     "showTitle": false,
     "title": ""
    }
   },
   "outputs": [
    {
     "data": {
      "text/html": [
       "<style scoped>\n",
       "  .ansiout {\n",
       "    display: block;\n",
       "    unicode-bidi: embed;\n",
       "    white-space: pre-wrap;\n",
       "    word-wrap: break-word;\n",
       "    word-break: break-all;\n",
       "    font-family: \"Source Code Pro\", \"Menlo\", monospace;;\n",
       "    font-size: 13px;\n",
       "    color: #555;\n",
       "    margin-left: 4px;\n",
       "    line-height: 19px;\n",
       "  }\n",
       "</style>\n",
       "<div class=\"ansiout\">+-------+------------------+------------------+------------------+------------------+------+\n",
       "summary|           ratings|               age|        experience|            family|mobile|\n",
       "+-------+------------------+------------------+------------------+------------------+------+\n",
       "  count|                33|                33|                33|                33|    33|\n",
       "   mean|3.5757575757575757|30.484848484848484|10.303030303030303|1.8181818181818181|  null|\n",
       " stddev|1.1188806636071336|  6.18527087180309| 6.770731351213326|1.8448330794164254|  null|\n",
       "    min|                 1|                22|                13|                 0| Apple|\n",
       "    max|                 5|                42|                 9|                 5|  Vivo|\n",
       "+-------+------------------+------------------+------------------+------------------+------+\n",
       "\n",
       "</div>"
      ]
     },
     "metadata": {
      "application/vnd.databricks.v1+output": {
       "addedWidgets": {},
       "arguments": {},
       "data": "<div class=\"ansiout\">+-------+------------------+------------------+------------------+------------------+------+\n|summary|           ratings|               age|        experience|            family|mobile|\n+-------+------------------+------------------+------------------+------------------+------+\n|  count|                33|                33|                33|                33|    33|\n|   mean|3.5757575757575757|30.484848484848484|10.303030303030303|1.8181818181818181|  null|\n| stddev|1.1188806636071336|  6.18527087180309| 6.770731351213326|1.8448330794164254|  null|\n|    min|                 1|                22|                13|                 0| Apple|\n|    max|                 5|                42|                 9|                 5|  Vivo|\n+-------+------------------+------------------+------------------+------------------+------+\n\n</div>",
       "datasetInfos": [],
       "removedWidgets": [],
       "type": "html"
      }
     },
     "output_type": "display_data"
    }
   ],
   "source": [
    "#info about dataframe\n",
    "df.describe().show()"
   ]
  },
  {
   "cell_type": "code",
   "execution_count": 0,
   "metadata": {
    "application/vnd.databricks.v1+cell": {
     "inputWidgets": {},
     "nuid": "42658a4b-c58f-461e-95bf-39a3adcab45d",
     "showTitle": false,
     "title": ""
    }
   },
   "outputs": [
    {
     "data": {
      "text/html": [
       "<style scoped>\n",
       "  .ansiout {\n",
       "    display: block;\n",
       "    unicode-bidi: embed;\n",
       "    white-space: pre-wrap;\n",
       "    word-wrap: break-word;\n",
       "    word-break: break-all;\n",
       "    font-family: \"Source Code Pro\", \"Menlo\", monospace;;\n",
       "    font-size: 13px;\n",
       "    color: #555;\n",
       "    margin-left: 4px;\n",
       "    line-height: 19px;\n",
       "  }\n",
       "</style>\n",
       "<div class=\"ansiout\"></div>"
      ]
     },
     "metadata": {
      "application/vnd.databricks.v1+output": {
       "addedWidgets": {},
       "arguments": {},
       "data": "<div class=\"ansiout\"></div>",
       "datasetInfos": [],
       "removedWidgets": [],
       "type": "html"
      }
     },
     "output_type": "display_data"
    }
   ],
   "source": [
    "from pyspark.sql.types import StringType,DoubleType,IntegerType"
   ]
  },
  {
   "cell_type": "code",
   "execution_count": 0,
   "metadata": {
    "application/vnd.databricks.v1+cell": {
     "inputWidgets": {},
     "nuid": "d96a1869-a0c7-48c4-9a37-33f37cbbfaee",
     "showTitle": false,
     "title": ""
    }
   },
   "outputs": [
    {
     "data": {
      "text/html": [
       "<style scoped>\n",
       "  .ansiout {\n",
       "    display: block;\n",
       "    unicode-bidi: embed;\n",
       "    white-space: pre-wrap;\n",
       "    word-wrap: break-word;\n",
       "    word-break: break-all;\n",
       "    font-family: \"Source Code Pro\", \"Menlo\", monospace;;\n",
       "    font-size: 13px;\n",
       "    color: #555;\n",
       "    margin-left: 4px;\n",
       "    line-height: 19px;\n",
       "  }\n",
       "</style>\n",
       "<div class=\"ansiout\"></div>"
      ]
     },
     "metadata": {
      "application/vnd.databricks.v1+output": {
       "addedWidgets": {},
       "arguments": {},
       "data": "<div class=\"ansiout\"></div>",
       "datasetInfos": [
        {
         "name": "df",
         "schema": {
          "fields": [
           {
            "metadata": {},
            "name": "ratings",
            "nullable": true,
            "type": "string"
           },
           {
            "metadata": {},
            "name": "age",
            "nullable": true,
            "type": "string"
           },
           {
            "metadata": {},
            "name": "experience",
            "nullable": true,
            "type": "string"
           },
           {
            "metadata": {},
            "name": "family",
            "nullable": true,
            "type": "string"
           },
           {
            "metadata": {},
            "name": "mobile",
            "nullable": true,
            "type": "string"
           },
           {
            "metadata": {},
            "name": "age_after_10_yrs",
            "nullable": true,
            "type": "double"
           }
          ],
          "type": "struct"
         },
         "tableIdentifier": null,
         "typeStr": "pyspark.sql.dataframe.DataFrame"
        }
       ],
       "removedWidgets": [],
       "type": "html"
      }
     },
     "output_type": "display_data"
    }
   ],
   "source": [
    "#with column\n",
    "df = df.withColumn(\"age_after_10_yrs\",(df[\"age\"]+10))                 "
   ]
  },
  {
   "cell_type": "code",
   "execution_count": 0,
   "metadata": {
    "application/vnd.databricks.v1+cell": {
     "inputWidgets": {},
     "nuid": "f9a0c933-1af8-4cd4-b911-34dc93fd35df",
     "showTitle": false,
     "title": ""
    }
   },
   "outputs": [
    {
     "data": {
      "text/html": [
       "<style scoped>\n",
       "  .table-result-container {\n",
       "    max-height: 300px;\n",
       "    overflow: auto;\n",
       "  }\n",
       "  table, th, td {\n",
       "    border: 1px solid black;\n",
       "    border-collapse: collapse;\n",
       "  }\n",
       "  th, td {\n",
       "    padding: 5px;\n",
       "  }\n",
       "  th {\n",
       "    text-align: left;\n",
       "  }\n",
       "</style><div class='table-result-container'><table class='table-result'><thead style='background-color: white'><tr><th>ratings</th><th>age</th><th>experience</th><th>family</th><th>mobile</th><th>age_after_10_yrs</th></tr></thead><tbody><tr><td>3</td><td>32</td><td>9</td><td>3</td><td>Vivo</td><td>42.0</td></tr><tr><td>3</td><td>27</td><td>13</td><td>3</td><td>Apple</td><td>37.0</td></tr><tr><td>4</td><td>22</td><td>2.5</td><td>0</td><td>Samsung</td><td>32.0</td></tr><tr><td>4</td><td>37</td><td>16.5</td><td>4</td><td>Apple</td><td>47.0</td></tr><tr><td>5</td><td>27</td><td>9</td><td>1</td><td>MI</td><td>37.0</td></tr><tr><td>4</td><td>27</td><td>9</td><td>0</td><td>Oppo</td><td>37.0</td></tr><tr><td>5</td><td>37</td><td>23</td><td>5</td><td>Vivo</td><td>47.0</td></tr><tr><td>5</td><td>37</td><td>23</td><td>5</td><td>Samsung</td><td>47.0</td></tr><tr><td>3</td><td>22</td><td>2.5</td><td>0</td><td>Apple</td><td>32.0</td></tr><tr><td>3</td><td>27</td><td>6</td><td>0</td><td>MI</td><td>37.0</td></tr><tr><td>2</td><td>27</td><td>6</td><td>2</td><td>Oppo</td><td>37.0</td></tr><tr><td>5</td><td>27</td><td>6</td><td>2</td><td>Samsung</td><td>37.0</td></tr><tr><td>3</td><td>37</td><td>16.5</td><td>5</td><td>Apple</td><td>47.0</td></tr><tr><td>5</td><td>27</td><td>6</td><td>0</td><td>MI</td><td>37.0</td></tr><tr><td>4</td><td>22</td><td>6</td><td>1</td><td>Oppo</td><td>32.0</td></tr><tr><td>4</td><td>37</td><td>9</td><td>2</td><td>Samsung</td><td>47.0</td></tr><tr><td>4</td><td>27</td><td>6</td><td>1</td><td>Apple</td><td>37.0</td></tr><tr><td>1</td><td>37</td><td>23</td><td>5</td><td>MI</td><td>47.0</td></tr><tr><td>2</td><td>42</td><td>23</td><td>2</td><td>Oppo</td><td>52.0</td></tr><tr><td>4</td><td>37</td><td>6</td><td>0</td><td>Vivo</td><td>47.0</td></tr><tr><td>5</td><td>22</td><td>2.5</td><td>0</td><td>Samsung</td><td>32.0</td></tr><tr><td>3</td><td>37</td><td>16.5</td><td>5</td><td>Apple</td><td>47.0</td></tr><tr><td>3</td><td>42</td><td>23</td><td>5</td><td>MI</td><td>52.0</td></tr><tr><td>2</td><td>27</td><td>9</td><td>2</td><td>Samsung</td><td>37.0</td></tr><tr><td>4</td><td>27</td><td>6</td><td>1</td><td>Apple</td><td>37.0</td></tr><tr><td>5</td><td>27</td><td>2.5</td><td>0</td><td>MI</td><td>37.0</td></tr><tr><td>2</td><td>27</td><td>6</td><td>2</td><td>Oppo</td><td>37.0</td></tr><tr><td>5</td><td>37</td><td>13</td><td>1</td><td>Vivo</td><td>47.0</td></tr><tr><td>2</td><td>32</td><td>16.5</td><td>2</td><td>Oppo</td><td>42.0</td></tr><tr><td>3</td><td>27</td><td>6</td><td>0</td><td>MI</td><td>37.0</td></tr><tr><td>3</td><td>27</td><td>6</td><td>0</td><td>MI</td><td>37.0</td></tr><tr><td>4</td><td>22</td><td>6</td><td>1</td><td>Oppo</td><td>32.0</td></tr><tr><td>4</td><td>37</td><td>6</td><td>0</td><td>Vivo</td><td>47.0</td></tr></tbody></table></div>"
      ]
     },
     "metadata": {
      "application/vnd.databricks.v1+output": {
       "addedWidgets": {},
       "aggData": [],
       "aggError": "",
       "aggOverflow": false,
       "aggSchema": [],
       "aggSeriesLimitReached": false,
       "aggType": "",
       "arguments": {},
       "columnCustomDisplayInfos": {},
       "data": [
        [
         "3",
         "32",
         "9",
         "3",
         "Vivo",
         42
        ],
        [
         "3",
         "27",
         "13",
         "3",
         "Apple",
         37
        ],
        [
         "4",
         "22",
         "2.5",
         "0",
         "Samsung",
         32
        ],
        [
         "4",
         "37",
         "16.5",
         "4",
         "Apple",
         47
        ],
        [
         "5",
         "27",
         "9",
         "1",
         "MI",
         37
        ],
        [
         "4",
         "27",
         "9",
         "0",
         "Oppo",
         37
        ],
        [
         "5",
         "37",
         "23",
         "5",
         "Vivo",
         47
        ],
        [
         "5",
         "37",
         "23",
         "5",
         "Samsung",
         47
        ],
        [
         "3",
         "22",
         "2.5",
         "0",
         "Apple",
         32
        ],
        [
         "3",
         "27",
         "6",
         "0",
         "MI",
         37
        ],
        [
         "2",
         "27",
         "6",
         "2",
         "Oppo",
         37
        ],
        [
         "5",
         "27",
         "6",
         "2",
         "Samsung",
         37
        ],
        [
         "3",
         "37",
         "16.5",
         "5",
         "Apple",
         47
        ],
        [
         "5",
         "27",
         "6",
         "0",
         "MI",
         37
        ],
        [
         "4",
         "22",
         "6",
         "1",
         "Oppo",
         32
        ],
        [
         "4",
         "37",
         "9",
         "2",
         "Samsung",
         47
        ],
        [
         "4",
         "27",
         "6",
         "1",
         "Apple",
         37
        ],
        [
         "1",
         "37",
         "23",
         "5",
         "MI",
         47
        ],
        [
         "2",
         "42",
         "23",
         "2",
         "Oppo",
         52
        ],
        [
         "4",
         "37",
         "6",
         "0",
         "Vivo",
         47
        ],
        [
         "5",
         "22",
         "2.5",
         "0",
         "Samsung",
         32
        ],
        [
         "3",
         "37",
         "16.5",
         "5",
         "Apple",
         47
        ],
        [
         "3",
         "42",
         "23",
         "5",
         "MI",
         52
        ],
        [
         "2",
         "27",
         "9",
         "2",
         "Samsung",
         37
        ],
        [
         "4",
         "27",
         "6",
         "1",
         "Apple",
         37
        ],
        [
         "5",
         "27",
         "2.5",
         "0",
         "MI",
         37
        ],
        [
         "2",
         "27",
         "6",
         "2",
         "Oppo",
         37
        ],
        [
         "5",
         "37",
         "13",
         "1",
         "Vivo",
         47
        ],
        [
         "2",
         "32",
         "16.5",
         "2",
         "Oppo",
         42
        ],
        [
         "3",
         "27",
         "6",
         "0",
         "MI",
         37
        ],
        [
         "3",
         "27",
         "6",
         "0",
         "MI",
         37
        ],
        [
         "4",
         "22",
         "6",
         "1",
         "Oppo",
         32
        ],
        [
         "4",
         "37",
         "6",
         "0",
         "Vivo",
         47
        ]
       ],
       "datasetInfos": [],
       "dbfsResultPath": null,
       "isJsonSchema": true,
       "overflow": false,
       "plotOptions": {
        "customPlotOptions": {},
        "displayType": "table",
        "pivotAggregation": null,
        "pivotColumns": null,
        "xColumns": null,
        "yColumns": null
       },
       "removedWidgets": [],
       "schema": [
        {
         "metadata": "{}",
         "name": "ratings",
         "type": "\"string\""
        },
        {
         "metadata": "{}",
         "name": "age",
         "type": "\"string\""
        },
        {
         "metadata": "{}",
         "name": "experience",
         "type": "\"string\""
        },
        {
         "metadata": "{}",
         "name": "family",
         "type": "\"string\""
        },
        {
         "metadata": "{}",
         "name": "mobile",
         "type": "\"string\""
        },
        {
         "metadata": "{}",
         "name": "age_after_10_yrs",
         "type": "\"double\""
        }
       ],
       "type": "table"
      }
     },
     "output_type": "display_data"
    }
   ],
   "source": [
    "display(df)"
   ]
  },
  {
   "cell_type": "code",
   "execution_count": 0,
   "metadata": {
    "application/vnd.databricks.v1+cell": {
     "inputWidgets": {},
     "nuid": "74e7b30e-d57d-4042-a91b-2693a483a6b2",
     "showTitle": false,
     "title": ""
    }
   },
   "outputs": [
    {
     "data": {
      "text/html": [
       "<style scoped>\n",
       "  .ansiout {\n",
       "    display: block;\n",
       "    unicode-bidi: embed;\n",
       "    white-space: pre-wrap;\n",
       "    word-wrap: break-word;\n",
       "    word-break: break-all;\n",
       "    font-family: \"Source Code Pro\", \"Menlo\", monospace;;\n",
       "    font-size: 13px;\n",
       "    color: #555;\n",
       "    margin-left: 4px;\n",
       "    line-height: 19px;\n",
       "  }\n",
       "</style>\n",
       "<div class=\"ansiout\">+-------+---+----------+------+-------+----------------+----------+\n",
       "ratings|age|experience|family|mobile |age_after_10_yrs|age_double|\n",
       "+-------+---+----------+------+-------+----------------+----------+\n",
       "3      |32 |9         |3     |Vivo   |42.0            |32.0      |\n",
       "3      |27 |13        |3     |Apple  |37.0            |27.0      |\n",
       "4      |22 |2.5       |0     |Samsung|32.0            |22.0      |\n",
       "4      |37 |16.5      |4     |Apple  |47.0            |37.0      |\n",
       "5      |27 |9         |1     |MI     |37.0            |27.0      |\n",
       "4      |27 |9         |0     |Oppo   |37.0            |27.0      |\n",
       "5      |37 |23        |5     |Vivo   |47.0            |37.0      |\n",
       "5      |37 |23        |5     |Samsung|47.0            |37.0      |\n",
       "3      |22 |2.5       |0     |Apple  |32.0            |22.0      |\n",
       "3      |27 |6         |0     |MI     |37.0            |27.0      |\n",
       "+-------+---+----------+------+-------+----------------+----------+\n",
       "only showing top 10 rows\n",
       "\n",
       "</div>"
      ]
     },
     "metadata": {
      "application/vnd.databricks.v1+output": {
       "addedWidgets": {},
       "arguments": {},
       "data": "<div class=\"ansiout\">+-------+---+----------+------+-------+----------------+----------+\n|ratings|age|experience|family|mobile |age_after_10_yrs|age_double|\n+-------+---+----------+------+-------+----------------+----------+\n|3      |32 |9         |3     |Vivo   |42.0            |32.0      |\n|3      |27 |13        |3     |Apple  |37.0            |27.0      |\n|4      |22 |2.5       |0     |Samsung|32.0            |22.0      |\n|4      |37 |16.5      |4     |Apple  |47.0            |37.0      |\n|5      |27 |9         |1     |MI     |37.0            |27.0      |\n|4      |27 |9         |0     |Oppo   |37.0            |27.0      |\n|5      |37 |23        |5     |Vivo   |47.0            |37.0      |\n|5      |37 |23        |5     |Samsung|47.0            |37.0      |\n|3      |22 |2.5       |0     |Apple  |32.0            |22.0      |\n|3      |27 |6         |0     |MI     |37.0            |27.0      |\n+-------+---+----------+------+-------+----------------+----------+\nonly showing top 10 rows\n\n</div>",
       "datasetInfos": [],
       "removedWidgets": [],
       "type": "html"
      }
     },
     "output_type": "display_data"
    }
   ],
   "source": [
    "df.withColumn('age_double',df['age'].cast(DoubleType())).show(10,False)"
   ]
  },
  {
   "cell_type": "code",
   "execution_count": 0,
   "metadata": {
    "application/vnd.databricks.v1+cell": {
     "inputWidgets": {},
     "nuid": "f69b0faa-7e52-4b39-9eb0-a27bbed0fbd5",
     "showTitle": false,
     "title": ""
    }
   },
   "outputs": [
    {
     "data": {
      "text/html": [
       "<style scoped>\n",
       "  .ansiout {\n",
       "    display: block;\n",
       "    unicode-bidi: embed;\n",
       "    white-space: pre-wrap;\n",
       "    word-wrap: break-word;\n",
       "    word-break: break-all;\n",
       "    font-family: \"Source Code Pro\", \"Menlo\", monospace;;\n",
       "    font-size: 13px;\n",
       "    color: #555;\n",
       "    margin-left: 4px;\n",
       "    line-height: 19px;\n",
       "  }\n",
       "</style>\n",
       "<div class=\"ansiout\">+-------+---+----------+------+------+----------------+\n",
       "ratings|age|experience|family|mobile|age_after_10_yrs|\n",
       "+-------+---+----------+------+------+----------------+\n",
       "      3| 32|         9|     3|  Vivo|            42.0|\n",
       "      5| 37|        23|     5|  Vivo|            47.0|\n",
       "      4| 37|         6|     0|  Vivo|            47.0|\n",
       "      5| 37|        13|     1|  Vivo|            47.0|\n",
       "      4| 37|         6|     0|  Vivo|            47.0|\n",
       "+-------+---+----------+------+------+----------------+\n",
       "\n",
       "</div>"
      ]
     },
     "metadata": {
      "application/vnd.databricks.v1+output": {
       "addedWidgets": {},
       "arguments": {},
       "data": "<div class=\"ansiout\">+-------+---+----------+------+------+----------------+\n|ratings|age|experience|family|mobile|age_after_10_yrs|\n+-------+---+----------+------+------+----------------+\n|      3| 32|         9|     3|  Vivo|            42.0|\n|      5| 37|        23|     5|  Vivo|            47.0|\n|      4| 37|         6|     0|  Vivo|            47.0|\n|      5| 37|        13|     1|  Vivo|            47.0|\n|      4| 37|         6|     0|  Vivo|            47.0|\n+-------+---+----------+------+------+----------------+\n\n</div>",
       "datasetInfos": [],
       "removedWidgets": [],
       "type": "html"
      }
     },
     "output_type": "display_data"
    }
   ],
   "source": [
    "#filter the records \n",
    "df.filter(df['mobile']=='Vivo').show()"
   ]
  },
  {
   "cell_type": "code",
   "execution_count": 0,
   "metadata": {
    "application/vnd.databricks.v1+cell": {
     "inputWidgets": {},
     "nuid": "c1955976-bcd3-4ca2-bc35-49d976b35e06",
     "showTitle": false,
     "title": ""
    }
   },
   "outputs": [
    {
     "data": {
      "text/html": [
       "<style scoped>\n",
       "  .ansiout {\n",
       "    display: block;\n",
       "    unicode-bidi: embed;\n",
       "    white-space: pre-wrap;\n",
       "    word-wrap: break-word;\n",
       "    word-break: break-all;\n",
       "    font-family: \"Source Code Pro\", \"Menlo\", monospace;;\n",
       "    font-size: 13px;\n",
       "    color: #555;\n",
       "    margin-left: 4px;\n",
       "    line-height: 19px;\n",
       "  }\n",
       "</style>\n",
       "<div class=\"ansiout\">+---+-------+------+\n",
       "age|ratings|mobile|\n",
       "+---+-------+------+\n",
       " 32|      3|  Vivo|\n",
       " 37|      5|  Vivo|\n",
       " 37|      4|  Vivo|\n",
       " 37|      5|  Vivo|\n",
       " 37|      4|  Vivo|\n",
       "+---+-------+------+\n",
       "\n",
       "</div>"
      ]
     },
     "metadata": {
      "application/vnd.databricks.v1+output": {
       "addedWidgets": {},
       "arguments": {},
       "data": "<div class=\"ansiout\">+---+-------+------+\n|age|ratings|mobile|\n+---+-------+------+\n| 32|      3|  Vivo|\n| 37|      5|  Vivo|\n| 37|      4|  Vivo|\n| 37|      5|  Vivo|\n| 37|      4|  Vivo|\n+---+-------+------+\n\n</div>",
       "datasetInfos": [],
       "removedWidgets": [],
       "type": "html"
      }
     },
     "output_type": "display_data"
    }
   ],
   "source": [
    "#filter the records \n",
    "df.filter(df['mobile']=='Vivo').select('age','ratings','mobile').show()"
   ]
  },
  {
   "cell_type": "code",
   "execution_count": 0,
   "metadata": {
    "application/vnd.databricks.v1+cell": {
     "inputWidgets": {},
     "nuid": "742566f5-199d-40b5-8665-ef56a7090ec4",
     "showTitle": false,
     "title": ""
    }
   },
   "outputs": [
    {
     "data": {
      "text/html": [
       "<style scoped>\n",
       "  .ansiout {\n",
       "    display: block;\n",
       "    unicode-bidi: embed;\n",
       "    white-space: pre-wrap;\n",
       "    word-wrap: break-word;\n",
       "    word-break: break-all;\n",
       "    font-family: \"Source Code Pro\", \"Menlo\", monospace;;\n",
       "    font-size: 13px;\n",
       "    color: #555;\n",
       "    margin-left: 4px;\n",
       "    line-height: 19px;\n",
       "  }\n",
       "</style>\n",
       "<div class=\"ansiout\">+-------+---+----------+------+------+----------------+\n",
       "ratings|age|experience|family|mobile|age_after_10_yrs|\n",
       "+-------+---+----------+------+------+----------------+\n",
       "      5| 37|        23|     5|  Vivo|            47.0|\n",
       "      5| 37|        13|     1|  Vivo|            47.0|\n",
       "+-------+---+----------+------+------+----------------+\n",
       "\n",
       "</div>"
      ]
     },
     "metadata": {
      "application/vnd.databricks.v1+output": {
       "addedWidgets": {},
       "arguments": {},
       "data": "<div class=\"ansiout\">+-------+---+----------+------+------+----------------+\n|ratings|age|experience|family|mobile|age_after_10_yrs|\n+-------+---+----------+------+------+----------------+\n|      5| 37|        23|     5|  Vivo|            47.0|\n|      5| 37|        13|     1|  Vivo|            47.0|\n+-------+---+----------+------+------+----------------+\n\n</div>",
       "datasetInfos": [],
       "removedWidgets": [],
       "type": "html"
      }
     },
     "output_type": "display_data"
    }
   ],
   "source": [
    "#filter the multiple conditions\n",
    "df.filter(df['mobile']=='Vivo').filter(df['experience'] >10).show()"
   ]
  },
  {
   "cell_type": "code",
   "execution_count": 0,
   "metadata": {
    "application/vnd.databricks.v1+cell": {
     "inputWidgets": {},
     "nuid": "1e67d98d-0c5f-45a1-accd-1c166a18e910",
     "showTitle": false,
     "title": ""
    }
   },
   "outputs": [
    {
     "data": {
      "text/html": [
       "<style scoped>\n",
       "  .ansiout {\n",
       "    display: block;\n",
       "    unicode-bidi: embed;\n",
       "    white-space: pre-wrap;\n",
       "    word-wrap: break-word;\n",
       "    word-break: break-all;\n",
       "    font-family: \"Source Code Pro\", \"Menlo\", monospace;;\n",
       "    font-size: 13px;\n",
       "    color: #555;\n",
       "    margin-left: 4px;\n",
       "    line-height: 19px;\n",
       "  }\n",
       "</style>\n",
       "<div class=\"ansiout\">+-------+---+----------+------+------+----------------+\n",
       "ratings|age|experience|family|mobile|age_after_10_yrs|\n",
       "+-------+---+----------+------+------+----------------+\n",
       "      5| 37|        23|     5|  Vivo|            47.0|\n",
       "      5| 37|        13|     1|  Vivo|            47.0|\n",
       "+-------+---+----------+------+------+----------------+\n",
       "\n",
       "</div>"
      ]
     },
     "metadata": {
      "application/vnd.databricks.v1+output": {
       "addedWidgets": {},
       "arguments": {},
       "data": "<div class=\"ansiout\">+-------+---+----------+------+------+----------------+\n|ratings|age|experience|family|mobile|age_after_10_yrs|\n+-------+---+----------+------+------+----------------+\n|      5| 37|        23|     5|  Vivo|            47.0|\n|      5| 37|        13|     1|  Vivo|            47.0|\n+-------+---+----------+------+------+----------------+\n\n</div>",
       "datasetInfos": [],
       "removedWidgets": [],
       "type": "html"
      }
     },
     "output_type": "display_data"
    }
   ],
   "source": [
    "#filter the multiple conditions\n",
    "df.filter((df['mobile']=='Vivo')&(df['experience'] >10)).show()"
   ]
  },
  {
   "cell_type": "code",
   "execution_count": 0,
   "metadata": {
    "application/vnd.databricks.v1+cell": {
     "inputWidgets": {},
     "nuid": "df6debf2-a8d1-4940-b6f9-512c14615112",
     "showTitle": false,
     "title": ""
    }
   },
   "outputs": [
    {
     "data": {
      "text/html": [
       "<style scoped>\n",
       "  .ansiout {\n",
       "    display: block;\n",
       "    unicode-bidi: embed;\n",
       "    white-space: pre-wrap;\n",
       "    word-wrap: break-word;\n",
       "    word-break: break-all;\n",
       "    font-family: \"Source Code Pro\", \"Menlo\", monospace;;\n",
       "    font-size: 13px;\n",
       "    color: #555;\n",
       "    margin-left: 4px;\n",
       "    line-height: 19px;\n",
       "  }\n",
       "</style>\n",
       "<div class=\"ansiout\">+-------+\n",
       " mobile|\n",
       "+-------+\n",
       "     MI|\n",
       "   Oppo|\n",
       "Samsung|\n",
       "   Vivo|\n",
       "  Apple|\n",
       "+-------+\n",
       "\n",
       "</div>"
      ]
     },
     "metadata": {
      "application/vnd.databricks.v1+output": {
       "addedWidgets": {},
       "arguments": {},
       "data": "<div class=\"ansiout\">+-------+\n| mobile|\n+-------+\n|     MI|\n|   Oppo|\n|Samsung|\n|   Vivo|\n|  Apple|\n+-------+\n\n</div>",
       "datasetInfos": [],
       "removedWidgets": [],
       "type": "html"
      }
     },
     "output_type": "display_data"
    }
   ],
   "source": [
    "#Distinct Values in a column\n",
    "df.select('mobile').distinct().show()"
   ]
  },
  {
   "cell_type": "code",
   "execution_count": 0,
   "metadata": {
    "application/vnd.databricks.v1+cell": {
     "inputWidgets": {},
     "nuid": "64be55d8-a81a-435d-9094-eaab9ba4ed82",
     "showTitle": false,
     "title": ""
    }
   },
   "outputs": [
    {
     "data": {
      "text/html": [
       "<style scoped>\n",
       "  .ansiout {\n",
       "    display: block;\n",
       "    unicode-bidi: embed;\n",
       "    white-space: pre-wrap;\n",
       "    word-wrap: break-word;\n",
       "    word-break: break-all;\n",
       "    font-family: \"Source Code Pro\", \"Menlo\", monospace;;\n",
       "    font-size: 13px;\n",
       "    color: #555;\n",
       "    margin-left: 4px;\n",
       "    line-height: 19px;\n",
       "  }\n",
       "</style>\n",
       "<div class=\"ansiout\">Out[30]: 5</div>"
      ]
     },
     "metadata": {
      "application/vnd.databricks.v1+output": {
       "addedWidgets": {},
       "arguments": {},
       "data": "<div class=\"ansiout\">Out[30]: 5</div>",
       "datasetInfos": [],
       "removedWidgets": [],
       "type": "html"
      }
     },
     "output_type": "display_data"
    }
   ],
   "source": [
    "#distinct value count\n",
    "df.select('mobile').distinct().count()"
   ]
  },
  {
   "cell_type": "code",
   "execution_count": 0,
   "metadata": {
    "application/vnd.databricks.v1+cell": {
     "inputWidgets": {},
     "nuid": "e2c3c232-c93b-44fb-9ab3-e562fef19d21",
     "showTitle": false,
     "title": ""
    }
   },
   "outputs": [
    {
     "data": {
      "text/html": [
       "<style scoped>\n",
       "  .ansiout {\n",
       "    display: block;\n",
       "    unicode-bidi: embed;\n",
       "    white-space: pre-wrap;\n",
       "    word-wrap: break-word;\n",
       "    word-break: break-all;\n",
       "    font-family: \"Source Code Pro\", \"Menlo\", monospace;;\n",
       "    font-size: 13px;\n",
       "    color: #555;\n",
       "    margin-left: 4px;\n",
       "    line-height: 19px;\n",
       "  }\n",
       "</style>\n",
       "<div class=\"ansiout\">+-------+-----+\n",
       "mobile |count|\n",
       "+-------+-----+\n",
       "MI     |8    |\n",
       "Oppo   |7    |\n",
       "Samsung|6    |\n",
       "Vivo   |5    |\n",
       "Apple  |7    |\n",
       "+-------+-----+\n",
       "\n",
       "</div>"
      ]
     },
     "metadata": {
      "application/vnd.databricks.v1+output": {
       "addedWidgets": {},
       "arguments": {},
       "data": "<div class=\"ansiout\">+-------+-----+\n|mobile |count|\n+-------+-----+\n|MI     |8    |\n|Oppo   |7    |\n|Samsung|6    |\n|Vivo   |5    |\n|Apple  |7    |\n+-------+-----+\n\n</div>",
       "datasetInfos": [],
       "removedWidgets": [],
       "type": "html"
      }
     },
     "output_type": "display_data"
    }
   ],
   "source": [
    "df.groupBy('mobile').count().show(5,False)"
   ]
  },
  {
   "cell_type": "code",
   "execution_count": 0,
   "metadata": {
    "application/vnd.databricks.v1+cell": {
     "inputWidgets": {},
     "nuid": "33a68988-bddf-45ab-82a7-a65f709b2c17",
     "showTitle": false,
     "title": ""
    }
   },
   "outputs": [
    {
     "data": {
      "text/html": [
       "<style scoped>\n",
       "  .ansiout {\n",
       "    display: block;\n",
       "    unicode-bidi: embed;\n",
       "    white-space: pre-wrap;\n",
       "    word-wrap: break-word;\n",
       "    word-break: break-all;\n",
       "    font-family: \"Source Code Pro\", \"Menlo\", monospace;;\n",
       "    font-size: 13px;\n",
       "    color: #555;\n",
       "    margin-left: 4px;\n",
       "    line-height: 19px;\n",
       "  }\n",
       "</style>\n",
       "<div class=\"ansiout\">+-------+-----+\n",
       "mobile |count|\n",
       "+-------+-----+\n",
       "MI     |8    |\n",
       "Oppo   |7    |\n",
       "Apple  |7    |\n",
       "Samsung|6    |\n",
       "Vivo   |5    |\n",
       "+-------+-----+\n",
       "\n",
       "</div>"
      ]
     },
     "metadata": {
      "application/vnd.databricks.v1+output": {
       "addedWidgets": {},
       "arguments": {},
       "data": "<div class=\"ansiout\">+-------+-----+\n|mobile |count|\n+-------+-----+\n|MI     |8    |\n|Oppo   |7    |\n|Apple  |7    |\n|Samsung|6    |\n|Vivo   |5    |\n+-------+-----+\n\n</div>",
       "datasetInfos": [],
       "removedWidgets": [],
       "type": "html"
      }
     },
     "output_type": "display_data"
    }
   ],
   "source": [
    "# Value counts\n",
    "df.groupBy('mobile').count().orderBy('count',ascending=False).show(5,False)"
   ]
  },
  {
   "cell_type": "code",
   "execution_count": 0,
   "metadata": {
    "application/vnd.databricks.v1+cell": {
     "inputWidgets": {},
     "nuid": "f7ac2550-e1b9-492e-86b0-da2c0a61abbb",
     "showTitle": false,
     "title": ""
    }
   },
   "outputs": [
    {
     "data": {
      "text/html": [
       "<style scoped>\n",
       "  .ansiout {\n",
       "    display: block;\n",
       "    unicode-bidi: embed;\n",
       "    white-space: pre-wrap;\n",
       "    word-wrap: break-word;\n",
       "    word-break: break-all;\n",
       "    font-family: \"Source Code Pro\", \"Menlo\", monospace;;\n",
       "    font-size: 13px;\n",
       "    color: #555;\n",
       "    margin-left: 4px;\n",
       "    line-height: 19px;\n",
       "  }\n",
       "</style>\n",
       "<div class=\"ansiout\">+-------+---------------------+\n",
       "mobile |avg(age_after_10_yrs)|\n",
       "+-------+---------------------+\n",
       "MI     |40.125               |\n",
       "Oppo   |38.42857142857143    |\n",
       "Samsung|38.666666666666664   |\n",
       "Vivo   |46.0                 |\n",
       "Apple  |40.57142857142857    |\n",
       "+-------+---------------------+\n",
       "\n",
       "</div>"
      ]
     },
     "metadata": {
      "application/vnd.databricks.v1+output": {
       "addedWidgets": {},
       "arguments": {},
       "data": "<div class=\"ansiout\">+-------+---------------------+\n|mobile |avg(age_after_10_yrs)|\n+-------+---------------------+\n|MI     |40.125               |\n|Oppo   |38.42857142857143    |\n|Samsung|38.666666666666664   |\n|Vivo   |46.0                 |\n|Apple  |40.57142857142857    |\n+-------+---------------------+\n\n</div>",
       "datasetInfos": [],
       "removedWidgets": [],
       "type": "html"
      }
     },
     "output_type": "display_data"
    }
   ],
   "source": [
    "# Value counts\n",
    "df.groupBy('mobile').mean().show(5,False)"
   ]
  },
  {
   "cell_type": "code",
   "execution_count": 0,
   "metadata": {
    "application/vnd.databricks.v1+cell": {
     "inputWidgets": {},
     "nuid": "4ede1e22-bb2b-4695-b31c-bbe6292bcad8",
     "showTitle": false,
     "title": ""
    }
   },
   "outputs": [
    {
     "data": {
      "text/html": [
       "<style scoped>\n",
       "  .ansiout {\n",
       "    display: block;\n",
       "    unicode-bidi: embed;\n",
       "    white-space: pre-wrap;\n",
       "    word-wrap: break-word;\n",
       "    word-break: break-all;\n",
       "    font-family: \"Source Code Pro\", \"Menlo\", monospace;;\n",
       "    font-size: 13px;\n",
       "    color: #555;\n",
       "    margin-left: 4px;\n",
       "    line-height: 19px;\n",
       "  }\n",
       "</style>\n",
       "<div class=\"ansiout\">+-------+---------------------+\n",
       "mobile |sum(age_after_10_yrs)|\n",
       "+-------+---------------------+\n",
       "MI     |321.0                |\n",
       "Oppo   |269.0                |\n",
       "Samsung|232.0                |\n",
       "Vivo   |230.0                |\n",
       "Apple  |284.0                |\n",
       "+-------+---------------------+\n",
       "\n",
       "</div>"
      ]
     },
     "metadata": {
      "application/vnd.databricks.v1+output": {
       "addedWidgets": {},
       "arguments": {},
       "data": "<div class=\"ansiout\">+-------+---------------------+\n|mobile |sum(age_after_10_yrs)|\n+-------+---------------------+\n|MI     |321.0                |\n|Oppo   |269.0                |\n|Samsung|232.0                |\n|Vivo   |230.0                |\n|Apple  |284.0                |\n+-------+---------------------+\n\n</div>",
       "datasetInfos": [],
       "removedWidgets": [],
       "type": "html"
      }
     },
     "output_type": "display_data"
    }
   ],
   "source": [
    "df.groupBy('mobile').sum().show(5,False)"
   ]
  },
  {
   "cell_type": "code",
   "execution_count": 0,
   "metadata": {
    "application/vnd.databricks.v1+cell": {
     "inputWidgets": {},
     "nuid": "3b431372-eda1-419e-a09b-c4f1eeb3b805",
     "showTitle": false,
     "title": ""
    }
   },
   "outputs": [
    {
     "data": {
      "text/html": [
       "<style scoped>\n",
       "  .ansiout {\n",
       "    display: block;\n",
       "    unicode-bidi: embed;\n",
       "    white-space: pre-wrap;\n",
       "    word-wrap: break-word;\n",
       "    word-break: break-all;\n",
       "    font-family: \"Source Code Pro\", \"Menlo\", monospace;;\n",
       "    font-size: 13px;\n",
       "    color: #555;\n",
       "    margin-left: 4px;\n",
       "    line-height: 19px;\n",
       "  }\n",
       "</style>\n",
       "<div class=\"ansiout\">+-------+---------------------+\n",
       "mobile |max(age_after_10_yrs)|\n",
       "+-------+---------------------+\n",
       "MI     |52.0                 |\n",
       "Oppo   |52.0                 |\n",
       "Samsung|47.0                 |\n",
       "Vivo   |47.0                 |\n",
       "Apple  |47.0                 |\n",
       "+-------+---------------------+\n",
       "\n",
       "</div>"
      ]
     },
     "metadata": {
      "application/vnd.databricks.v1+output": {
       "addedWidgets": {},
       "arguments": {},
       "data": "<div class=\"ansiout\">+-------+---------------------+\n|mobile |max(age_after_10_yrs)|\n+-------+---------------------+\n|MI     |52.0                 |\n|Oppo   |52.0                 |\n|Samsung|47.0                 |\n|Vivo   |47.0                 |\n|Apple  |47.0                 |\n+-------+---------------------+\n\n</div>",
       "datasetInfos": [],
       "removedWidgets": [],
       "type": "html"
      }
     },
     "output_type": "display_data"
    }
   ],
   "source": [
    "# Value counts\n",
    "df.groupBy('mobile').max().show(5,False)"
   ]
  },
  {
   "cell_type": "code",
   "execution_count": 0,
   "metadata": {
    "application/vnd.databricks.v1+cell": {
     "inputWidgets": {},
     "nuid": "27f67c8b-d9b3-4332-8e91-63d9543f936e",
     "showTitle": false,
     "title": ""
    }
   },
   "outputs": [
    {
     "data": {
      "text/html": [
       "<style scoped>\n",
       "  .ansiout {\n",
       "    display: block;\n",
       "    unicode-bidi: embed;\n",
       "    white-space: pre-wrap;\n",
       "    word-wrap: break-word;\n",
       "    word-break: break-all;\n",
       "    font-family: \"Source Code Pro\", \"Menlo\", monospace;;\n",
       "    font-size: 13px;\n",
       "    color: #555;\n",
       "    margin-left: 4px;\n",
       "    line-height: 19px;\n",
       "  }\n",
       "</style>\n",
       "<div class=\"ansiout\">+-------+---------------------+\n",
       "mobile |min(age_after_10_yrs)|\n",
       "+-------+---------------------+\n",
       "MI     |37.0                 |\n",
       "Oppo   |32.0                 |\n",
       "Samsung|32.0                 |\n",
       "Vivo   |42.0                 |\n",
       "Apple  |32.0                 |\n",
       "+-------+---------------------+\n",
       "\n",
       "</div>"
      ]
     },
     "metadata": {
      "application/vnd.databricks.v1+output": {
       "addedWidgets": {},
       "arguments": {},
       "data": "<div class=\"ansiout\">+-------+---------------------+\n|mobile |min(age_after_10_yrs)|\n+-------+---------------------+\n|MI     |37.0                 |\n|Oppo   |32.0                 |\n|Samsung|32.0                 |\n|Vivo   |42.0                 |\n|Apple  |32.0                 |\n+-------+---------------------+\n\n</div>",
       "datasetInfos": [],
       "removedWidgets": [],
       "type": "html"
      }
     },
     "output_type": "display_data"
    }
   ],
   "source": [
    "# Value counts\n",
    "df.groupBy('mobile').min().show(5,False)"
   ]
  },
  {
   "cell_type": "code",
   "execution_count": 0,
   "metadata": {
    "application/vnd.databricks.v1+cell": {
     "inputWidgets": {},
     "nuid": "56bce73c-e7f5-480e-b991-1b7acf5af1f6",
     "showTitle": false,
     "title": ""
    }
   },
   "outputs": [
    {
     "data": {
      "text/html": [
       "<style scoped>\n",
       "  .ansiout {\n",
       "    display: block;\n",
       "    unicode-bidi: embed;\n",
       "    white-space: pre-wrap;\n",
       "    word-wrap: break-word;\n",
       "    word-break: break-all;\n",
       "    font-family: \"Source Code Pro\", \"Menlo\", monospace;;\n",
       "    font-size: 13px;\n",
       "    color: #555;\n",
       "    margin-left: 4px;\n",
       "    line-height: 19px;\n",
       "  }\n",
       "</style>\n",
       "<div class=\"ansiout\">+-------+---------------+\n",
       "mobile |sum(experience)|\n",
       "+-------+---------------+\n",
       "MI     |81.5           |\n",
       "Oppo   |72.5           |\n",
       "Samsung|52.0           |\n",
       "Vivo   |57.0           |\n",
       "Apple  |77.0           |\n",
       "+-------+---------------+\n",
       "\n",
       "</div>"
      ]
     },
     "metadata": {
      "application/vnd.databricks.v1+output": {
       "addedWidgets": {},
       "arguments": {},
       "data": "<div class=\"ansiout\">+-------+---------------+\n|mobile |sum(experience)|\n+-------+---------------+\n|MI     |81.5           |\n|Oppo   |72.5           |\n|Samsung|52.0           |\n|Vivo   |57.0           |\n|Apple  |77.0           |\n+-------+---------------+\n\n</div>",
       "datasetInfos": [],
       "removedWidgets": [],
       "type": "html"
      }
     },
     "output_type": "display_data"
    }
   ],
   "source": [
    "#Aggregation\n",
    "df.groupBy('mobile').agg({'experience':'sum'}).show(5,False)"
   ]
  },
  {
   "cell_type": "code",
   "execution_count": 0,
   "metadata": {
    "application/vnd.databricks.v1+cell": {
     "inputWidgets": {},
     "nuid": "53c78deb-df47-4d0a-b4b8-77106b096cbb",
     "showTitle": false,
     "title": ""
    }
   },
   "outputs": [
    {
     "data": {
      "text/html": [
       "<style scoped>\n",
       "  .ansiout {\n",
       "    display: block;\n",
       "    unicode-bidi: embed;\n",
       "    white-space: pre-wrap;\n",
       "    word-wrap: break-word;\n",
       "    word-break: break-all;\n",
       "    font-family: \"Source Code Pro\", \"Menlo\", monospace;;\n",
       "    font-size: 13px;\n",
       "    color: #555;\n",
       "    margin-left: 4px;\n",
       "    line-height: 19px;\n",
       "  }\n",
       "</style>\n",
       "<div class=\"ansiout\"></div>"
      ]
     },
     "metadata": {
      "application/vnd.databricks.v1+output": {
       "addedWidgets": {},
       "arguments": {},
       "data": "<div class=\"ansiout\"></div>",
       "datasetInfos": [],
       "removedWidgets": [],
       "type": "html"
      }
     },
     "output_type": "display_data"
    }
   ],
   "source": [
    "# UDF\n",
    "from pyspark.sql.functions import udf"
   ]
  },
  {
   "cell_type": "code",
   "execution_count": 0,
   "metadata": {
    "application/vnd.databricks.v1+cell": {
     "inputWidgets": {},
     "nuid": "c1501a05-7d13-4dda-80ac-1ab0e51eff8c",
     "showTitle": false,
     "title": ""
    }
   },
   "outputs": [
    {
     "data": {
      "text/html": [
       "<style scoped>\n",
       "  .ansiout {\n",
       "    display: block;\n",
       "    unicode-bidi: embed;\n",
       "    white-space: pre-wrap;\n",
       "    word-wrap: break-word;\n",
       "    word-break: break-all;\n",
       "    font-family: \"Source Code Pro\", \"Menlo\", monospace;;\n",
       "    font-size: 13px;\n",
       "    color: #555;\n",
       "    margin-left: 4px;\n",
       "    line-height: 19px;\n",
       "  }\n",
       "</style>\n",
       "<div class=\"ansiout\"></div>"
      ]
     },
     "metadata": {
      "application/vnd.databricks.v1+output": {
       "addedWidgets": {},
       "arguments": {},
       "data": "<div class=\"ansiout\"></div>",
       "datasetInfos": [],
       "removedWidgets": [],
       "type": "html"
      }
     },
     "output_type": "display_data"
    }
   ],
   "source": [
    "#normal function \n",
    "def price_range(brand):\n",
    "    if brand in ['Samsung','Apple']:\n",
    "        return 'High Price'\n",
    "    elif brand =='MI':\n",
    "        return 'Mid Price'\n",
    "    else:\n",
    "        return 'Low Price'"
   ]
  },
  {
   "cell_type": "code",
   "execution_count": 0,
   "metadata": {
    "application/vnd.databricks.v1+cell": {
     "inputWidgets": {},
     "nuid": "e7b4d193-26ec-47c5-a12c-4e08174aeba7",
     "showTitle": false,
     "title": ""
    }
   },
   "outputs": [
    {
     "data": {
      "text/html": [
       "<style scoped>\n",
       "  .ansiout {\n",
       "    display: block;\n",
       "    unicode-bidi: embed;\n",
       "    white-space: pre-wrap;\n",
       "    word-wrap: break-word;\n",
       "    word-break: break-all;\n",
       "    font-family: \"Source Code Pro\", \"Menlo\", monospace;;\n",
       "    font-size: 13px;\n",
       "    color: #555;\n",
       "    margin-left: 4px;\n",
       "    line-height: 19px;\n",
       "  }\n",
       "</style>\n",
       "<div class=\"ansiout\"></div>"
      ]
     },
     "metadata": {
      "application/vnd.databricks.v1+output": {
       "addedWidgets": {},
       "arguments": {},
       "data": "<div class=\"ansiout\"></div>",
       "datasetInfos": [],
       "removedWidgets": [],
       "type": "html"
      }
     },
     "output_type": "display_data"
    }
   ],
   "source": [
    "#create udf using python function\n",
    "brand_udf= udf(price_range,StringType())"
   ]
  },
  {
   "cell_type": "code",
   "execution_count": 0,
   "metadata": {
    "application/vnd.databricks.v1+cell": {
     "inputWidgets": {},
     "nuid": "d2073e82-9d32-4391-8ceb-3abd738cc00e",
     "showTitle": false,
     "title": ""
    }
   },
   "outputs": [
    {
     "data": {
      "text/html": [
       "<style scoped>\n",
       "  .table-result-container {\n",
       "    max-height: 300px;\n",
       "    overflow: auto;\n",
       "  }\n",
       "  table, th, td {\n",
       "    border: 1px solid black;\n",
       "    border-collapse: collapse;\n",
       "  }\n",
       "  th, td {\n",
       "    padding: 5px;\n",
       "  }\n",
       "  th {\n",
       "    text-align: left;\n",
       "  }\n",
       "</style><div class='table-result-container'><table class='table-result'><thead style='background-color: white'><tr><th>ratings</th><th>age</th><th>experience</th><th>family</th><th>mobile</th></tr></thead><tbody><tr><td>3</td><td>32</td><td>9</td><td>3</td><td>Vivo</td></tr><tr><td>3</td><td>27</td><td>13</td><td>3</td><td>Apple</td></tr><tr><td>4</td><td>22</td><td>2.5</td><td>0</td><td>Samsung</td></tr><tr><td>4</td><td>37</td><td>16.5</td><td>4</td><td>Apple</td></tr><tr><td>5</td><td>27</td><td>9</td><td>1</td><td>MI</td></tr><tr><td>4</td><td>27</td><td>9</td><td>0</td><td>Oppo</td></tr><tr><td>5</td><td>37</td><td>23</td><td>5</td><td>Vivo</td></tr><tr><td>5</td><td>37</td><td>23</td><td>5</td><td>Samsung</td></tr><tr><td>3</td><td>22</td><td>2.5</td><td>0</td><td>Apple</td></tr><tr><td>3</td><td>27</td><td>6</td><td>0</td><td>MI</td></tr><tr><td>2</td><td>27</td><td>6</td><td>2</td><td>Oppo</td></tr><tr><td>5</td><td>27</td><td>6</td><td>2</td><td>Samsung</td></tr><tr><td>3</td><td>37</td><td>16.5</td><td>5</td><td>Apple</td></tr><tr><td>5</td><td>27</td><td>6</td><td>0</td><td>MI</td></tr><tr><td>4</td><td>22</td><td>6</td><td>1</td><td>Oppo</td></tr><tr><td>4</td><td>37</td><td>9</td><td>2</td><td>Samsung</td></tr><tr><td>4</td><td>27</td><td>6</td><td>1</td><td>Apple</td></tr><tr><td>1</td><td>37</td><td>23</td><td>5</td><td>MI</td></tr><tr><td>2</td><td>42</td><td>23</td><td>2</td><td>Oppo</td></tr><tr><td>4</td><td>37</td><td>6</td><td>0</td><td>Vivo</td></tr><tr><td>5</td><td>22</td><td>2.5</td><td>0</td><td>Samsung</td></tr><tr><td>3</td><td>37</td><td>16.5</td><td>5</td><td>Apple</td></tr><tr><td>3</td><td>42</td><td>23</td><td>5</td><td>MI</td></tr><tr><td>2</td><td>27</td><td>9</td><td>2</td><td>Samsung</td></tr><tr><td>4</td><td>27</td><td>6</td><td>1</td><td>Apple</td></tr><tr><td>5</td><td>27</td><td>2.5</td><td>0</td><td>MI</td></tr><tr><td>2</td><td>27</td><td>6</td><td>2</td><td>Oppo</td></tr><tr><td>5</td><td>37</td><td>13</td><td>1</td><td>Vivo</td></tr><tr><td>2</td><td>32</td><td>16.5</td><td>2</td><td>Oppo</td></tr><tr><td>3</td><td>27</td><td>6</td><td>0</td><td>MI</td></tr><tr><td>3</td><td>27</td><td>6</td><td>0</td><td>MI</td></tr><tr><td>4</td><td>22</td><td>6</td><td>1</td><td>Oppo</td></tr><tr><td>4</td><td>37</td><td>6</td><td>0</td><td>Vivo</td></tr></tbody></table></div>"
      ]
     },
     "metadata": {
      "application/vnd.databricks.v1+output": {
       "addedWidgets": {},
       "aggData": [],
       "aggError": "",
       "aggOverflow": false,
       "aggSchema": [],
       "aggSeriesLimitReached": false,
       "aggType": "",
       "arguments": {},
       "columnCustomDisplayInfos": {},
       "data": [
        [
         "3",
         "32",
         "9",
         "3",
         "Vivo"
        ],
        [
         "3",
         "27",
         "13",
         "3",
         "Apple"
        ],
        [
         "4",
         "22",
         "2.5",
         "0",
         "Samsung"
        ],
        [
         "4",
         "37",
         "16.5",
         "4",
         "Apple"
        ],
        [
         "5",
         "27",
         "9",
         "1",
         "MI"
        ],
        [
         "4",
         "27",
         "9",
         "0",
         "Oppo"
        ],
        [
         "5",
         "37",
         "23",
         "5",
         "Vivo"
        ],
        [
         "5",
         "37",
         "23",
         "5",
         "Samsung"
        ],
        [
         "3",
         "22",
         "2.5",
         "0",
         "Apple"
        ],
        [
         "3",
         "27",
         "6",
         "0",
         "MI"
        ],
        [
         "2",
         "27",
         "6",
         "2",
         "Oppo"
        ],
        [
         "5",
         "27",
         "6",
         "2",
         "Samsung"
        ],
        [
         "3",
         "37",
         "16.5",
         "5",
         "Apple"
        ],
        [
         "5",
         "27",
         "6",
         "0",
         "MI"
        ],
        [
         "4",
         "22",
         "6",
         "1",
         "Oppo"
        ],
        [
         "4",
         "37",
         "9",
         "2",
         "Samsung"
        ],
        [
         "4",
         "27",
         "6",
         "1",
         "Apple"
        ],
        [
         "1",
         "37",
         "23",
         "5",
         "MI"
        ],
        [
         "2",
         "42",
         "23",
         "2",
         "Oppo"
        ],
        [
         "4",
         "37",
         "6",
         "0",
         "Vivo"
        ],
        [
         "5",
         "22",
         "2.5",
         "0",
         "Samsung"
        ],
        [
         "3",
         "37",
         "16.5",
         "5",
         "Apple"
        ],
        [
         "3",
         "42",
         "23",
         "5",
         "MI"
        ],
        [
         "2",
         "27",
         "9",
         "2",
         "Samsung"
        ],
        [
         "4",
         "27",
         "6",
         "1",
         "Apple"
        ],
        [
         "5",
         "27",
         "2.5",
         "0",
         "MI"
        ],
        [
         "2",
         "27",
         "6",
         "2",
         "Oppo"
        ],
        [
         "5",
         "37",
         "13",
         "1",
         "Vivo"
        ],
        [
         "2",
         "32",
         "16.5",
         "2",
         "Oppo"
        ],
        [
         "3",
         "27",
         "6",
         "0",
         "MI"
        ],
        [
         "3",
         "27",
         "6",
         "0",
         "MI"
        ],
        [
         "4",
         "22",
         "6",
         "1",
         "Oppo"
        ],
        [
         "4",
         "37",
         "6",
         "0",
         "Vivo"
        ]
       ],
       "datasetInfos": [],
       "dbfsResultPath": null,
       "isJsonSchema": true,
       "overflow": false,
       "plotOptions": {
        "customPlotOptions": {},
        "displayType": "table",
        "pivotAggregation": null,
        "pivotColumns": null,
        "xColumns": null,
        "yColumns": null
       },
       "removedWidgets": [],
       "schema": [
        {
         "metadata": "{}",
         "name": "ratings",
         "type": "\"string\""
        },
        {
         "metadata": "{}",
         "name": "age",
         "type": "\"string\""
        },
        {
         "metadata": "{}",
         "name": "experience",
         "type": "\"string\""
        },
        {
         "metadata": "{}",
         "name": "family",
         "type": "\"string\""
        },
        {
         "metadata": "{}",
         "name": "mobile",
         "type": "\"string\""
        }
       ],
       "type": "table"
      }
     },
     "output_type": "display_data"
    }
   ],
   "source": [
    "display(df)"
   ]
  },
  {
   "cell_type": "code",
   "execution_count": 0,
   "metadata": {
    "application/vnd.databricks.v1+cell": {
     "inputWidgets": {},
     "nuid": "7845d262-ca52-4e29-b362-f991a6f7dd51",
     "showTitle": false,
     "title": ""
    }
   },
   "outputs": [
    {
     "data": {
      "text/html": [
       "<style scoped>\n",
       "  .ansiout {\n",
       "    display: block;\n",
       "    unicode-bidi: embed;\n",
       "    white-space: pre-wrap;\n",
       "    word-wrap: break-word;\n",
       "    word-break: break-all;\n",
       "    font-family: \"Source Code Pro\", \"Menlo\", monospace;;\n",
       "    font-size: 13px;\n",
       "    color: #555;\n",
       "    margin-left: 4px;\n",
       "    line-height: 19px;\n",
       "  }\n",
       "</style>\n",
       "<div class=\"ansiout\">+-------+---+----------+------+-------+-----------+\n",
       "ratings|age|experience|family|mobile |price_range|\n",
       "+-------+---+----------+------+-------+-----------+\n",
       "3      |32 |9         |3     |Vivo   |Low Price  |\n",
       "3      |27 |13        |3     |Apple  |High Price |\n",
       "4      |22 |2.5       |0     |Samsung|High Price |\n",
       "4      |37 |16.5      |4     |Apple  |High Price |\n",
       "5      |27 |9         |1     |MI     |Mid Price  |\n",
       "4      |27 |9         |0     |Oppo   |Low Price  |\n",
       "5      |37 |23        |5     |Vivo   |Low Price  |\n",
       "5      |37 |23        |5     |Samsung|High Price |\n",
       "3      |22 |2.5       |0     |Apple  |High Price |\n",
       "3      |27 |6         |0     |MI     |Mid Price  |\n",
       "+-------+---+----------+------+-------+-----------+\n",
       "only showing top 10 rows\n",
       "\n",
       "</div>"
      ]
     },
     "metadata": {
      "application/vnd.databricks.v1+output": {
       "addedWidgets": {},
       "arguments": {},
       "data": "<div class=\"ansiout\">+-------+---+----------+------+-------+-----------+\n|ratings|age|experience|family|mobile |price_range|\n+-------+---+----------+------+-------+-----------+\n|3      |32 |9         |3     |Vivo   |Low Price  |\n|3      |27 |13        |3     |Apple  |High Price |\n|4      |22 |2.5       |0     |Samsung|High Price |\n|4      |37 |16.5      |4     |Apple  |High Price |\n|5      |27 |9         |1     |MI     |Mid Price  |\n|4      |27 |9         |0     |Oppo   |Low Price  |\n|5      |37 |23        |5     |Vivo   |Low Price  |\n|5      |37 |23        |5     |Samsung|High Price |\n|3      |22 |2.5       |0     |Apple  |High Price |\n|3      |27 |6         |0     |MI     |Mid Price  |\n+-------+---+----------+------+-------+-----------+\nonly showing top 10 rows\n\n</div>",
       "datasetInfos": [],
       "removedWidgets": [],
       "type": "html"
      }
     },
     "output_type": "display_data"
    }
   ],
   "source": [
    "#apply udf on dataframe\n",
    "df.withColumn('price_range',brand_udf(df['mobile'])).show(10,False)"
   ]
  },
  {
   "cell_type": "code",
   "execution_count": 0,
   "metadata": {
    "application/vnd.databricks.v1+cell": {
     "inputWidgets": {},
     "nuid": "ec0fc889-a4c6-4525-aa49-95a511b1dfa3",
     "showTitle": false,
     "title": ""
    }
   },
   "outputs": [
    {
     "data": {
      "text/html": [
       "<style scoped>\n",
       "  .ansiout {\n",
       "    display: block;\n",
       "    unicode-bidi: embed;\n",
       "    white-space: pre-wrap;\n",
       "    word-wrap: break-word;\n",
       "    word-break: break-all;\n",
       "    font-family: \"Source Code Pro\", \"Menlo\", monospace;;\n",
       "    font-size: 13px;\n",
       "    color: #555;\n",
       "    margin-left: 4px;\n",
       "    line-height: 19px;\n",
       "  }\n",
       "</style>\n",
       "<div class=\"ansiout\"></div>"
      ]
     },
     "metadata": {
      "application/vnd.databricks.v1+output": {
       "addedWidgets": {},
       "arguments": {},
       "data": "<div class=\"ansiout\"></div>",
       "datasetInfos": [],
       "removedWidgets": [],
       "type": "html"
      }
     },
     "output_type": "display_data"
    }
   ],
   "source": [
    "#using lambda function\n",
    "age_udf = udf(lambda age: \"young\" if age <= 30 else \"senior\", StringType())"
   ]
  },
  {
   "cell_type": "code",
   "execution_count": 0,
   "metadata": {
    "application/vnd.databricks.v1+cell": {
     "inputWidgets": {},
     "nuid": "3e304670-6676-43e1-8cb9-4323e37c3a20",
     "showTitle": false,
     "title": ""
    }
   },
   "outputs": [
    {
     "data": {
      "text/html": [
       "<style scoped>\n",
       "  .ansiout {\n",
       "    display: block;\n",
       "    unicode-bidi: embed;\n",
       "    white-space: pre-wrap;\n",
       "    word-wrap: break-word;\n",
       "    word-break: break-all;\n",
       "    font-family: \"Source Code Pro\", \"Menlo\", monospace;;\n",
       "    font-size: 13px;\n",
       "    color: #555;\n",
       "    margin-left: 4px;\n",
       "    line-height: 19px;\n",
       "  }\n",
       "</style>\n",
       "<div class=\"ansiout\"></div>"
      ]
     },
     "metadata": {
      "application/vnd.databricks.v1+output": {
       "addedWidgets": {},
       "arguments": {},
       "data": "<div class=\"ansiout\"></div>",
       "datasetInfos": [
        {
         "name": "df",
         "schema": {
          "fields": [
           {
            "metadata": {},
            "name": "ratings",
            "nullable": true,
            "type": "string"
           },
           {
            "metadata": {},
            "name": "age",
            "nullable": true,
            "type": "string"
           },
           {
            "metadata": {},
            "name": "experience",
            "nullable": true,
            "type": "string"
           },
           {
            "metadata": {},
            "name": "family",
            "nullable": true,
            "type": "string"
           },
           {
            "metadata": {},
            "name": "mobile",
            "nullable": true,
            "type": "string"
           },
           {
            "metadata": {},
            "name": "age_after_10_yrs",
            "nullable": true,
            "type": "double"
           }
          ],
          "type": "struct"
         },
         "tableIdentifier": null,
         "typeStr": "pyspark.sql.dataframe.DataFrame"
        }
       ],
       "removedWidgets": [],
       "type": "html"
      }
     },
     "output_type": "display_data"
    }
   ],
   "source": [
    "#drop duplicate values\n",
    "df=df.dropDuplicates()"
   ]
  },
  {
   "cell_type": "code",
   "execution_count": 0,
   "metadata": {
    "application/vnd.databricks.v1+cell": {
     "inputWidgets": {},
     "nuid": "61f82039-8fb2-4562-aa85-190367bf6a94",
     "showTitle": false,
     "title": ""
    }
   },
   "outputs": [],
   "source": [
    "#validate new count\n",
    "df.count()"
   ]
  },
  {
   "cell_type": "code",
   "execution_count": 0,
   "metadata": {
    "application/vnd.databricks.v1+cell": {
     "inputWidgets": {},
     "nuid": "7f667a39-c836-4295-8068-d05c68798db5",
     "showTitle": false,
     "title": ""
    }
   },
   "outputs": [
    {
     "data": {
      "text/html": [
       "<style scoped>\n",
       "  .ansiout {\n",
       "    display: block;\n",
       "    unicode-bidi: embed;\n",
       "    white-space: pre-wrap;\n",
       "    word-wrap: break-word;\n",
       "    word-break: break-all;\n",
       "    font-family: \"Source Code Pro\", \"Menlo\", monospace;;\n",
       "    font-size: 13px;\n",
       "    color: #555;\n",
       "    margin-left: 4px;\n",
       "    line-height: 19px;\n",
       "  }\n",
       "</style>\n",
       "<div class=\"ansiout\"></div>"
      ]
     },
     "metadata": {
      "application/vnd.databricks.v1+output": {
       "addedWidgets": {},
       "arguments": {},
       "data": "<div class=\"ansiout\"></div>",
       "datasetInfos": [
        {
         "name": "df_new",
         "schema": {
          "fields": [
           {
            "metadata": {},
            "name": "ratings",
            "nullable": true,
            "type": "string"
           },
           {
            "metadata": {},
            "name": "age",
            "nullable": true,
            "type": "string"
           },
           {
            "metadata": {},
            "name": "experience",
            "nullable": true,
            "type": "string"
           },
           {
            "metadata": {},
            "name": "family",
            "nullable": true,
            "type": "string"
           },
           {
            "metadata": {},
            "name": "age_after_10_yrs",
            "nullable": true,
            "type": "double"
           }
          ],
          "type": "struct"
         },
         "tableIdentifier": null,
         "typeStr": "pyspark.sql.dataframe.DataFrame"
        }
       ],
       "removedWidgets": [],
       "type": "html"
      }
     },
     "output_type": "display_data"
    }
   ],
   "source": [
    "#drop column of dataframe\n",
    "df_new=df.drop('mobile')"
   ]
  },
  {
   "cell_type": "code",
   "execution_count": 0,
   "metadata": {
    "application/vnd.databricks.v1+cell": {
     "inputWidgets": {},
     "nuid": "83afaddc-c41c-4bf5-87f8-f557d5cff5c3",
     "showTitle": false,
     "title": ""
    }
   },
   "outputs": [],
   "source": []
  }
 ],
 "metadata": {
  "application/vnd.databricks.v1+notebook": {
   "dashboards": [],
   "language": "python",
   "notebookName": "1_Data_Exploration",
   "notebookOrigID": 57306892089705,
   "widgets": {}
  },
  "kernelspec": {
   "display_name": "Python 3",
   "language": "python",
   "name": "python3"
  },
  "language_info": {
   "codemirror_mode": {
    "name": "ipython",
    "version": 3
   },
   "file_extension": ".py",
   "mimetype": "text/x-python",
   "name": "python",
   "nbconvert_exporter": "python",
   "pygments_lexer": "ipython3",
   "version": "3.8.5"
  }
 },
 "nbformat": 4,
 "nbformat_minor": 1
}
