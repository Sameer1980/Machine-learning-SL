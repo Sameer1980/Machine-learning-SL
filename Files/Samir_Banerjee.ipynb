{
 "cells": [
  {
   "cell_type": "code",
   "execution_count": null,
   "metadata": {},
   "outputs": [],
   "source": [
    "#Question No. 8 \n",
    "import pandas as pd\n",
    "pd.merge(df1,df2,on='business',how='left')"
   ]
  },
  {
   "cell_type": "code",
   "execution_count": null,
   "metadata": {},
   "outputs": [],
   "source": [
    "#Question No. 9 \n",
    "new_df=df(df['Region']=='Asia')\n",
    "new_df"
   ]
  },
  {
   "cell_type": "code",
   "execution_count": null,
   "metadata": {},
   "outputs": [],
   "source": [
    "#Question No. 1\n",
    "df=DataFrame(lst)\n"
   ]
  },
  {
   "cell_type": "code",
   "execution_count": null,
   "metadata": {},
   "outputs": [],
   "source": [
    "#Question No. 2\n",
    "df(df['Name']=='xyz'|df['Name']=='mnu',df['Age']=22)"
   ]
  },
  {
   "cell_type": "code",
   "execution_count": null,
   "metadata": {},
   "outputs": [],
   "source": [
    "#Question No. 6\n",
    "import numpy as np\n",
    "def my_func1(date,sales):\n",
    "    max_ind=np.argmax(sales)\n",
    "    min_ind=np.argmin(sales)\n",
    "    max_sales=sales(max_ind)\n",
    "    max_date=date(max_ind)\n",
    "    min_sales=sales(min_ind)\n",
    "    min_date=date(min_ind)\n",
    "    return (max_date,max_sales,min_date,min_sales)"
   ]
  },
  {
   "cell_type": "code",
   "execution_count": null,
   "metadata": {},
   "outputs": [],
   "source": [
    "#Question No. 10\n",
    "df[df['Age']>=20].apply(lambda x:x+15)"
   ]
  }
 ],
 "metadata": {
  "kernelspec": {
   "display_name": "Python 3",
   "language": "python",
   "name": "python3"
  },
  "language_info": {
   "codemirror_mode": {
    "name": "ipython",
    "version": 3
   },
   "file_extension": ".py",
   "mimetype": "text/x-python",
   "name": "python",
   "nbconvert_exporter": "python",
   "pygments_lexer": "ipython3",
   "version": "3.8.5"
  }
 },
 "nbformat": 4,
 "nbformat_minor": 4
}
