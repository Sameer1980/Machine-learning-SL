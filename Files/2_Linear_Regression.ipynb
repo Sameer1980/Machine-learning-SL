{
 "cells": [
  {
   "cell_type": "markdown",
   "metadata": {
    "application/vnd.databricks.v1+cell": {
     "inputWidgets": {},
     "nuid": "68670bf6-096f-40f0-a1ae-3e335eb5e3a7",
     "showTitle": false,
     "title": ""
    }
   },
   "source": [
    "# Linear Regression using Pyspark"
   ]
  },
  {
   "cell_type": "code",
   "execution_count": 1,
   "metadata": {
    "application/vnd.databricks.v1+cell": {
     "inputWidgets": {},
     "nuid": "e4c115fd-1e02-4d0b-81b7-3faf6ee0319f",
     "showTitle": false,
     "title": ""
    }
   },
   "outputs": [
    {
     "ename": "ModuleNotFoundError",
     "evalue": "No module named 'pyspark'",
     "output_type": "error",
     "traceback": [
      "\u001b[1;31m---------------------------------------------------------------------------\u001b[0m",
      "\u001b[1;31mModuleNotFoundError\u001b[0m                       Traceback (most recent call last)",
      "\u001b[1;32m<ipython-input-1-1bf8d91c27f8>\u001b[0m in \u001b[0;36m<module>\u001b[1;34m\u001b[0m\n\u001b[0;32m      1\u001b[0m \u001b[1;31m#create sparksession object\u001b[0m\u001b[1;33m\u001b[0m\u001b[1;33m\u001b[0m\u001b[1;33m\u001b[0m\u001b[0m\n\u001b[1;32m----> 2\u001b[1;33m \u001b[1;32mfrom\u001b[0m \u001b[0mpyspark\u001b[0m\u001b[1;33m.\u001b[0m\u001b[0msql\u001b[0m \u001b[1;32mimport\u001b[0m \u001b[0mSparkSession\u001b[0m\u001b[1;33m\u001b[0m\u001b[1;33m\u001b[0m\u001b[0m\n\u001b[0m\u001b[0;32m      3\u001b[0m \u001b[0mspark\u001b[0m\u001b[1;33m=\u001b[0m\u001b[0mSparkSession\u001b[0m\u001b[1;33m.\u001b[0m\u001b[0mbuilder\u001b[0m\u001b[1;33m.\u001b[0m\u001b[0mappName\u001b[0m\u001b[1;33m(\u001b[0m\u001b[1;34m'lin_reg'\u001b[0m\u001b[1;33m)\u001b[0m\u001b[1;33m.\u001b[0m\u001b[0mgetOrCreate\u001b[0m\u001b[1;33m(\u001b[0m\u001b[1;33m)\u001b[0m\u001b[1;33m\u001b[0m\u001b[1;33m\u001b[0m\u001b[0m\n",
      "\u001b[1;31mModuleNotFoundError\u001b[0m: No module named 'pyspark'"
     ]
    }
   ],
   "source": [
    "#create sparksession object\n",
    "from pyspark.sql import SparkSession\n",
    "spark=SparkSession.builder.appName('lin_reg').getOrCreate()"
   ]
  },
  {
   "cell_type": "code",
   "execution_count": 0,
   "metadata": {
    "application/vnd.databricks.v1+cell": {
     "inputWidgets": {},
     "nuid": "e19ee640-c56e-4235-8129-056512b4dd1d",
     "showTitle": false,
     "title": ""
    }
   },
   "outputs": [
    {
     "data": {
      "text/html": [
       "<style scoped>\n",
       "  .ansiout {\n",
       "    display: block;\n",
       "    unicode-bidi: embed;\n",
       "    white-space: pre-wrap;\n",
       "    word-wrap: break-word;\n",
       "    word-break: break-all;\n",
       "    font-family: \"Source Code Pro\", \"Menlo\", monospace;;\n",
       "    font-size: 13px;\n",
       "    color: #555;\n",
       "    margin-left: 4px;\n",
       "    line-height: 19px;\n",
       "  }\n",
       "</style>\n",
       "<div class=\"ansiout\"></div>"
      ]
     },
     "metadata": {
      "application/vnd.databricks.v1+output": {
       "addedWidgets": {},
       "arguments": {},
       "data": "<div class=\"ansiout\"></div>",
       "datasetInfos": [],
       "removedWidgets": [],
       "type": "html"
      }
     },
     "output_type": "display_data"
    }
   ],
   "source": [
    "#import Linear Regression from spark's MLlib\n",
    "from pyspark.ml.regression import LinearRegression"
   ]
  },
  {
   "cell_type": "code",
   "execution_count": 0,
   "metadata": {
    "application/vnd.databricks.v1+cell": {
     "inputWidgets": {},
     "nuid": "536de34d-ed6a-42ed-a8f2-8876f136ba92",
     "showTitle": false,
     "title": ""
    }
   },
   "outputs": [
    {
     "data": {
      "text/html": [
       "<style scoped>\n",
       "  .ansiout {\n",
       "    display: block;\n",
       "    unicode-bidi: embed;\n",
       "    white-space: pre-wrap;\n",
       "    word-wrap: break-word;\n",
       "    word-break: break-all;\n",
       "    font-family: \"Source Code Pro\", \"Menlo\", monospace;;\n",
       "    font-size: 13px;\n",
       "    color: #555;\n",
       "    margin-left: 4px;\n",
       "    line-height: 19px;\n",
       "  }\n",
       "</style>\n",
       "<div class=\"ansiout\"></div>"
      ]
     },
     "metadata": {
      "application/vnd.databricks.v1+output": {
       "addedWidgets": {},
       "arguments": {},
       "data": "<div class=\"ansiout\"></div>",
       "datasetInfos": [],
       "removedWidgets": [],
       "type": "html"
      }
     },
     "output_type": "display_data"
    }
   ],
   "source": [
    "#Load the dataset\n",
    "df=spark.read.csv('/FileStore/tables/Linear_regression_dataset.csv',inferSchema=True,header=True)"
   ]
  },
  {
   "cell_type": "code",
   "execution_count": 0,
   "metadata": {
    "application/vnd.databricks.v1+cell": {
     "inputWidgets": {},
     "nuid": "51e1f659-1b6b-4825-93f0-9e1d156c5e9f",
     "showTitle": false,
     "title": ""
    }
   },
   "outputs": [
    {
     "data": {
      "text/html": [
       "<style scoped>\n",
       "  .ansiout {\n",
       "    display: block;\n",
       "    unicode-bidi: embed;\n",
       "    white-space: pre-wrap;\n",
       "    word-wrap: break-word;\n",
       "    word-break: break-all;\n",
       "    font-family: \"Source Code Pro\", \"Menlo\", monospace;;\n",
       "    font-size: 13px;\n",
       "    color: #555;\n",
       "    margin-left: 4px;\n",
       "    line-height: 19px;\n",
       "  }\n",
       "</style>\n",
       "<div class=\"ansiout\">(1232, 6)\n",
       "</div>"
      ]
     },
     "metadata": {
      "application/vnd.databricks.v1+output": {
       "addedWidgets": {},
       "arguments": {},
       "data": "<div class=\"ansiout\">(1232, 6)\n</div>",
       "datasetInfos": [],
       "removedWidgets": [],
       "type": "html"
      }
     },
     "output_type": "display_data"
    }
   ],
   "source": [
    "#validate the size of data\n",
    "print((df.count(), len(df.columns)))"
   ]
  },
  {
   "cell_type": "code",
   "execution_count": 0,
   "metadata": {
    "application/vnd.databricks.v1+cell": {
     "inputWidgets": {},
     "nuid": "ce33199c-948a-4825-b654-c7db16093d43",
     "showTitle": false,
     "title": ""
    }
   },
   "outputs": [
    {
     "data": {
      "text/html": [
       "<style scoped>\n",
       "  .ansiout {\n",
       "    display: block;\n",
       "    unicode-bidi: embed;\n",
       "    white-space: pre-wrap;\n",
       "    word-wrap: break-word;\n",
       "    word-break: break-all;\n",
       "    font-family: \"Source Code Pro\", \"Menlo\", monospace;;\n",
       "    font-size: 13px;\n",
       "    color: #555;\n",
       "    margin-left: 4px;\n",
       "    line-height: 19px;\n",
       "  }\n",
       "</style>\n",
       "<div class=\"ansiout\">root\n",
       "-- var_1: integer (nullable = true)\n",
       "-- var_2: integer (nullable = true)\n",
       "-- var_3: integer (nullable = true)\n",
       "-- var_4: double (nullable = true)\n",
       "-- var_5: double (nullable = true)\n",
       "-- output: double (nullable = true)\n",
       "\n",
       "</div>"
      ]
     },
     "metadata": {
      "application/vnd.databricks.v1+output": {
       "addedWidgets": {},
       "arguments": {},
       "data": "<div class=\"ansiout\">root\n |-- var_1: integer (nullable = true)\n |-- var_2: integer (nullable = true)\n |-- var_3: integer (nullable = true)\n |-- var_4: double (nullable = true)\n |-- var_5: double (nullable = true)\n |-- output: double (nullable = true)\n\n</div>",
       "datasetInfos": [],
       "removedWidgets": [],
       "type": "html"
      }
     },
     "output_type": "display_data"
    }
   ],
   "source": [
    "#explore the data\n",
    "df.printSchema()"
   ]
  },
  {
   "cell_type": "code",
   "execution_count": 0,
   "metadata": {
    "application/vnd.databricks.v1+cell": {
     "inputWidgets": {},
     "nuid": "955ddc0c-5a82-4d94-af13-ffb8541ca618",
     "showTitle": false,
     "title": ""
    }
   },
   "outputs": [
    {
     "data": {
      "text/html": [
       "<style scoped>\n",
       "  .table-result-container {\n",
       "    max-height: 300px;\n",
       "    overflow: auto;\n",
       "  }\n",
       "  table, th, td {\n",
       "    border: 1px solid black;\n",
       "    border-collapse: collapse;\n",
       "  }\n",
       "  th, td {\n",
       "    padding: 5px;\n",
       "  }\n",
       "  th {\n",
       "    text-align: left;\n",
       "  }\n",
       "</style><div class='table-result-container'><table class='table-result'><thead style='background-color: white'><tr><th>var_1</th><th>var_2</th><th>var_3</th><th>var_4</th><th>var_5</th><th>output</th></tr></thead><tbody><tr><td>734</td><td>688</td><td>81</td><td>0.328</td><td>0.259</td><td>0.418</td></tr><tr><td>700</td><td>600</td><td>94</td><td>0.32</td><td>0.247</td><td>0.389</td></tr><tr><td>712</td><td>705</td><td>93</td><td>0.311</td><td>0.247</td><td>0.417</td></tr><tr><td>734</td><td>806</td><td>69</td><td>0.315</td><td>0.26</td><td>0.415</td></tr><tr><td>613</td><td>759</td><td>61</td><td>0.302</td><td>0.24</td><td>0.378</td></tr><tr><td>748</td><td>676</td><td>85</td><td>0.318</td><td>0.255</td><td>0.422</td></tr><tr><td>669</td><td>588</td><td>97</td><td>0.315</td><td>0.251</td><td>0.411</td></tr><tr><td>667</td><td>845</td><td>68</td><td>0.324</td><td>0.251</td><td>0.381</td></tr><tr><td>758</td><td>890</td><td>64</td><td>0.33</td><td>0.274</td><td>0.436</td></tr><tr><td>726</td><td>670</td><td>88</td><td>0.335</td><td>0.268</td><td>0.422</td></tr><tr><td>583</td><td>794</td><td>55</td><td>0.302</td><td>0.236</td><td>0.371</td></tr><tr><td>676</td><td>746</td><td>72</td><td>0.317</td><td>0.265</td><td>0.4</td></tr><tr><td>767</td><td>699</td><td>89</td><td>0.332</td><td>0.274</td><td>0.433</td></tr><tr><td>637</td><td>597</td><td>86</td><td>0.317</td><td>0.252</td><td>0.374</td></tr><tr><td>609</td><td>724</td><td>69</td><td>0.308</td><td>0.244</td><td>0.382</td></tr><tr><td>776</td><td>733</td><td>83</td><td>0.325</td><td>0.259</td><td>0.437</td></tr><tr><td>701</td><td>832</td><td>66</td><td>0.325</td><td>0.26</td><td>0.39</td></tr><tr><td>650</td><td>709</td><td>74</td><td>0.316</td><td>0.249</td><td>0.386</td></tr><tr><td>804</td><td>668</td><td>95</td><td>0.337</td><td>0.265</td><td>0.453</td></tr><tr><td>713</td><td>614</td><td>94</td><td>0.31</td><td>0.238</td><td>0.404</td></tr><tr><td>684</td><td>680</td><td>81</td><td>0.317</td><td>0.255</td><td>0.4</td></tr><tr><td>651</td><td>674</td><td>79</td><td>0.304</td><td>0.243</td><td>0.395</td></tr><tr><td>651</td><td>710</td><td>76</td><td>0.319</td><td>0.247</td><td>0.38</td></tr><tr><td>619</td><td>651</td><td>75</td><td>0.296</td><td>0.234</td><td>0.369</td></tr><tr><td>718</td><td>649</td><td>94</td><td>0.327</td><td>0.269</td><td>0.397</td></tr><tr><td>765</td><td>648</td><td>88</td><td>0.338</td><td>0.271</td><td>0.421</td></tr><tr><td>697</td><td>577</td><td>90</td><td>0.317</td><td>0.24</td><td>0.394</td></tr><tr><td>808</td><td>707</td><td>93</td><td>0.334</td><td>0.273</td><td>0.446</td></tr><tr><td>716</td><td>784</td><td>73</td><td>0.309</td><td>0.245</td><td>0.407</td></tr><tr><td>731</td><td>594</td><td>98</td><td>0.322</td><td>0.261</td><td>0.428</td></tr><tr><td>731</td><td>662</td><td>94</td><td>0.322</td><td>0.25</td><td>0.413</td></tr><tr><td>641</td><td>605</td><td>89</td><td>0.308</td><td>0.243</td><td>0.387</td></tr><tr><td>708</td><td>860</td><td>69</td><td>0.316</td><td>0.257</td><td>0.413</td></tr><tr><td>875</td><td>737</td><td>90</td><td>0.349</td><td>0.28</td><td>0.461</td></tr><tr><td>654</td><td>756</td><td>71</td><td>0.314</td><td>0.256</td><td>0.401</td></tr><tr><td>654</td><td>706</td><td>79</td><td>0.319</td><td>0.252</td><td>0.388</td></tr><tr><td>735</td><td>720</td><td>79</td><td>0.326</td><td>0.256</td><td>0.408</td></tr><tr><td>704</td><td>760</td><td>80</td><td>0.317</td><td>0.25</td><td>0.396</td></tr><tr><td>735</td><td>774</td><td>73</td><td>0.329</td><td>0.258</td><td>0.41</td></tr><tr><td>787</td><td>711</td><td>95</td><td>0.34</td><td>0.277</td><td>0.434</td></tr><tr><td>625</td><td>702</td><td>72</td><td>0.318</td><td>0.247</td><td>0.388</td></tr><tr><td>615</td><td>796</td><td>56</td><td>0.311</td><td>0.258</td><td>0.374</td></tr><tr><td>730</td><td>762</td><td>71</td><td>0.329</td><td>0.275</td><td>0.415</td></tr><tr><td>667</td><td>633</td><td>86</td><td>0.313</td><td>0.253</td><td>0.402</td></tr><tr><td>644</td><td>612</td><td>82</td><td>0.322</td><td>0.257</td><td>0.375</td></tr><tr><td>721</td><td>638</td><td>96</td><td>0.325</td><td>0.261</td><td>0.425</td></tr><tr><td>619</td><td>804</td><td>63</td><td>0.306</td><td>0.247</td><td>0.36</td></tr><tr><td>718</td><td>742</td><td>77</td><td>0.335</td><td>0.264</td><td>0.391</td></tr><tr><td>867</td><td>657</td><td>97</td><td>0.343</td><td>0.263</td><td>0.444</td></tr><tr><td>645</td><td>679</td><td>74</td><td>0.311</td><td>0.244</td><td>0.369</td></tr><tr><td>713</td><td>529</td><td>102</td><td>0.323</td><td>0.253</td><td>0.395</td></tr><tr><td>610</td><td>712</td><td>72</td><td>0.309</td><td>0.244</td><td>0.368</td></tr><tr><td>593</td><td>611</td><td>71</td><td>0.305</td><td>0.237</td><td>0.349</td></tr><tr><td>556</td><td>675</td><td>67</td><td>0.292</td><td>0.233</td><td>0.348</td></tr><tr><td>570</td><td>578</td><td>86</td><td>0.303</td><td>0.242</td><td>0.368</td></tr><tr><td>762</td><td>692</td><td>90</td><td>0.341</td><td>0.273</td><td>0.425</td></tr><tr><td>707</td><td>614</td><td>91</td><td>0.322</td><td>0.244</td><td>0.402</td></tr><tr><td>855</td><td>677</td><td>96</td><td>0.34</td><td>0.283</td><td>0.46</td></tr><tr><td>743</td><td>761</td><td>81</td><td>0.317</td><td>0.249</td><td>0.413</td></tr><tr><td>624</td><td>643</td><td>80</td><td>0.309</td><td>0.242</td><td>0.383</td></tr><tr><td>713</td><td>836</td><td>65</td><td>0.325</td><td>0.25</td><td>0.416</td></tr><tr><td>738</td><td>629</td><td>91</td><td>0.339</td><td>0.258</td><td>0.401</td></tr><tr><td>613</td><td>785</td><td>66</td><td>0.316</td><td>0.259</td><td>0.386</td></tr><tr><td>818</td><td>744</td><td>89</td><td>0.339</td><td>0.268</td><td>0.451</td></tr><tr><td>685</td><td>767</td><td>75</td><td>0.32</td><td>0.257</td><td>0.401</td></tr><tr><td>752</td><td>704</td><td>88</td><td>0.332</td><td>0.268</td><td>0.42</td></tr><tr><td>790</td><td>685</td><td>91</td><td>0.338</td><td>0.272</td><td>0.436</td></tr><tr><td>646</td><td>752</td><td>69</td><td>0.322</td><td>0.248</td><td>0.378</td></tr><tr><td>770</td><td>717</td><td>83</td><td>0.336</td><td>0.263</td><td>0.425</td></tr><tr><td>751</td><td>743</td><td>81</td><td>0.335</td><td>0.268</td><td>0.415</td></tr><tr><td>719</td><td>717</td><td>80</td><td>0.321</td><td>0.254</td><td>0.403</td></tr><tr><td>611</td><td>729</td><td>76</td><td>0.303</td><td>0.247</td><td>0.362</td></tr><tr><td>676</td><td>845</td><td>67</td><td>0.331</td><td>0.274</td><td>0.399</td></tr><tr><td>681</td><td>702</td><td>80</td><td>0.311</td><td>0.248</td><td>0.39</td></tr><tr><td>667</td><td>692</td><td>80</td><td>0.322</td><td>0.252</td><td>0.379</td></tr><tr><td>750</td><td>804</td><td>77</td><td>0.335</td><td>0.262</td><td>0.424</td></tr><tr><td>781</td><td>671</td><td>94</td><td>0.341</td><td>0.273</td><td>0.422</td></tr><tr><td>656</td><td>652</td><td>79</td><td>0.314</td><td>0.249</td><td>0.383</td></tr><tr><td>859</td><td>693</td><td>95</td><td>0.35</td><td>0.267</td><td>0.436</td></tr><tr><td>663</td><td>626</td><td>81</td><td>0.324</td><td>0.256</td><td>0.378</td></tr><tr><td>772</td><td>640</td><td>97</td><td>0.332</td><td>0.26</td><td>0.413</td></tr><tr><td>587</td><td>866</td><td>57</td><td>0.304</td><td>0.242</td><td>0.373</td></tr><tr><td>665</td><td>581</td><td>90</td><td>0.317</td><td>0.246</td><td>0.371</td></tr><tr><td>513</td><td>698</td><td>61</td><td>0.298</td><td>0.236</td><td>0.339</td></tr><tr><td>697</td><td>583</td><td>92</td><td>0.321</td><td>0.257</td><td>0.408</td></tr><tr><td>736</td><td>641</td><td>86</td><td>0.332</td><td>0.263</td><td>0.402</td></tr><tr><td>802</td><td>649</td><td>96</td><td>0.333</td><td>0.247</td><td>0.403</td></tr><tr><td>787</td><td>687</td><td>90</td><td>0.338</td><td>0.276</td><td>0.419</td></tr><tr><td>755</td><td>728</td><td>85</td><td>0.312</td><td>0.248</td><td>0.454</td></tr><tr><td>655</td><td>742</td><td>69</td><td>0.318</td><td>0.25</td><td>0.39</td></tr><tr><td>720</td><td>782</td><td>70</td><td>0.324</td><td>0.253</td><td>0.418</td></tr><tr><td>735</td><td>641</td><td>86</td><td>0.339</td><td>0.263</td><td>0.405</td></tr><tr><td>741</td><td>876</td><td>64</td><td>0.332</td><td>0.268</td><td>0.415</td></tr><tr><td>872</td><td>736</td><td>95</td><td>0.352</td><td>0.27</td><td>0.454</td></tr><tr><td>707</td><td>672</td><td>83</td><td>0.332</td><td>0.255</td><td>0.407</td></tr><tr><td>724</td><td>732</td><td>79</td><td>0.329</td><td>0.258</td><td>0.411</td></tr><tr><td>673</td><td>723</td><td>78</td><td>0.318</td><td>0.247</td><td>0.394</td></tr><tr><td>773</td><td>865</td><td>65</td><td>0.339</td><td>0.264</td><td>0.417</td></tr><tr><td>804</td><td>715</td><td>92</td><td>0.343</td><td>0.261</td><td>0.441</td></tr><tr><td>743</td><td>745</td><td>86</td><td>0.331</td><td>0.26</td><td>0.416</td></tr><tr><td>772</td><td>766</td><td>87</td><td>0.34</td><td>0.268</td><td>0.416</td></tr><tr><td>643</td><td>770</td><td>74</td><td>0.319</td><td>0.26</td><td>0.4</td></tr><tr><td>686</td><td>842</td><td>65</td><td>0.318</td><td>0.259</td><td>0.405</td></tr><tr><td>883</td><td>761</td><td>97</td><td>0.35</td><td>0.285</td><td>0.441</td></tr><tr><td>780</td><td>611</td><td>95</td><td>0.346</td><td>0.27</td><td>0.412</td></tr><tr><td>785</td><td>818</td><td>80</td><td>0.341</td><td>0.263</td><td>0.426</td></tr><tr><td>817</td><td>765</td><td>87</td><td>0.345</td><td>0.274</td><td>0.429</td></tr><tr><td>671</td><td>757</td><td>70</td><td>0.335</td><td>0.27</td><td>0.394</td></tr><tr><td>915</td><td>753</td><td>103</td><td>0.362</td><td>0.283</td><td>0.478</td></tr><tr><td>759</td><td>761</td><td>75</td><td>0.328</td><td>0.262</td><td>0.397</td></tr><tr><td>820</td><td>709</td><td>93</td><td>0.334</td><td>0.258</td><td>0.447</td></tr><tr><td>636</td><td>768</td><td>62</td><td>0.318</td><td>0.252</td><td>0.387</td></tr><tr><td>638</td><td>769</td><td>75</td><td>0.321</td><td>0.242</td><td>0.381</td></tr><tr><td>640</td><td>692</td><td>85</td><td>0.314</td><td>0.258</td><td>0.402</td></tr><tr><td>657</td><td>611</td><td>88</td><td>0.309</td><td>0.257</td><td>0.389</td></tr><tr><td>730</td><td>640</td><td>91</td><td>0.332</td><td>0.263</td><td>0.415</td></tr><tr><td>803</td><td>754</td><td>84</td><td>0.343</td><td>0.263</td><td>0.439</td></tr><tr><td>784</td><td>740</td><td>87</td><td>0.32</td><td>0.26</td><td>0.445</td></tr><tr><td>798</td><td>771</td><td>75</td><td>0.333</td><td>0.266</td><td>0.44</td></tr><tr><td>710</td><td>874</td><td>59</td><td>0.337</td><td>0.258</td><td>0.406</td></tr><tr><td>720</td><td>706</td><td>82</td><td>0.327</td><td>0.251</td><td>0.415</td></tr><tr><td>753</td><td>778</td><td>72</td><td>0.345</td><td>0.27</td><td>0.408</td></tr><tr><td>782</td><td>869</td><td>68</td><td>0.333</td><td>0.267</td><td>0.429</td></tr><tr><td>845</td><td>694</td><td>95</td><td>0.358</td><td>0.28</td><td>0.447</td></tr><tr><td>855</td><td>671</td><td>97</td><td>0.354</td><td>0.278</td><td>0.443</td></tr><tr><td>811</td><td>729</td><td>89</td><td>0.332</td><td>0.263</td><td>0.448</td></tr><tr><td>704</td><td>800</td><td>74</td><td>0.321</td><td>0.247</td><td>0.408</td></tr><tr><td>805</td><td>761</td><td>81</td><td>0.339</td><td>0.262</td><td>0.424</td></tr><tr><td>747</td><td>822</td><td>74</td><td>0.336</td><td>0.263</td><td>0.415</td></tr><tr><td>821</td><td>857</td><td>74</td><td>0.34</td><td>0.271</td><td>0.444</td></tr><tr><td>770</td><td>767</td><td>84</td><td>0.326</td><td>0.254</td><td>0.433</td></tr><tr><td>712</td><td>743</td><td>86</td><td>0.323</td><td>0.263</td><td>0.415</td></tr><tr><td>691</td><td>781</td><td>75</td><td>0.32</td><td>0.269</td><td>0.397</td></tr><tr><td>765</td><td>697</td><td>100</td><td>0.33</td><td>0.268</td><td>0.413</td></tr><tr><td>700</td><td>648</td><td>84</td><td>0.333</td><td>0.264</td><td>0.399</td></tr><tr><td>750</td><td>689</td><td>90</td><td>0.325</td><td>0.253</td><td>0.431</td></tr><tr><td>829</td><td>745</td><td>88</td><td>0.34</td><td>0.279</td><td>0.408</td></tr><tr><td>799</td><td>715</td><td>89</td><td>0.34</td><td>0.266</td><td>0.42</td></tr><tr><td>789</td><td>727</td><td>89</td><td>0.342</td><td>0.271</td><td>0.427</td></tr><tr><td>646</td><td>690</td><td>75</td><td>0.318</td><td>0.242</td><td>0.369</td></tr><tr><td>799</td><td>680</td><td>92</td><td>0.332</td><td>0.255</td><td>0.438</td></tr><tr><td>735</td><td>884</td><td>67</td><td>0.32</td><td>0.258</td><td>0.403</td></tr><tr><td>637</td><td>764</td><td>63</td><td>0.317</td><td>0.25</td><td>0.39</td></tr><tr><td>671</td><td>811</td><td>61</td><td>0.318</td><td>0.265</td><td>0.389</td></tr><tr><td>640</td><td>759</td><td>72</td><td>0.321</td><td>0.262</td><td>0.382</td></tr><tr><td>779</td><td>725</td><td>86</td><td>0.35</td><td>0.281</td><td>0.433</td></tr><tr><td>774</td><td>671</td><td>97</td><td>0.34</td><td>0.26</td><td>0.422</td></tr><tr><td>901</td><td>967</td><td>79</td><td>0.354</td><td>0.283</td><td>0.462</td></tr><tr><td>714</td><td>610</td><td>86</td><td>0.331</td><td>0.264</td><td>0.399</td></tr><tr><td>641</td><td>825</td><td>59</td><td>0.323</td><td>0.251</td><td>0.373</td></tr><tr><td>712</td><td>732</td><td>90</td><td>0.321</td><td>0.25</td><td>0.413</td></tr><tr><td>810</td><td>733</td><td>84</td><td>0.339</td><td>0.275</td><td>0.435</td></tr><tr><td>756</td><td>868</td><td>69</td><td>0.333</td><td>0.272</td><td>0.412</td></tr><tr><td>867</td><td>657</td><td>96</td><td>0.362</td><td>0.279</td><td>0.444</td></tr><tr><td>752</td><td>690</td><td>85</td><td>0.333</td><td>0.271</td><td>0.422</td></tr><tr><td>693</td><td>839</td><td>72</td><td>0.318</td><td>0.246</td><td>0.404</td></tr><tr><td>783</td><td>853</td><td>72</td><td>0.335</td><td>0.267</td><td>0.436</td></tr><tr><td>811</td><td>704</td><td>96</td><td>0.343</td><td>0.268</td><td>0.428</td></tr><tr><td>860</td><td>758</td><td>90</td><td>0.354</td><td>0.28</td><td>0.437</td></tr><tr><td>887</td><td>797</td><td>88</td><td>0.345</td><td>0.287</td><td>0.458</td></tr><tr><td>790</td><td>891</td><td>71</td><td>0.336</td><td>0.267</td><td>0.448</td></tr><tr><td>723</td><td>813</td><td>73</td><td>0.33</td><td>0.26</td><td>0.412</td></tr><tr><td>706</td><td>778</td><td>69</td><td>0.322</td><td>0.261</td><td>0.388</td></tr><tr><td>822</td><td>731</td><td>94</td><td>0.345</td><td>0.284</td><td>0.417</td></tr><tr><td>735</td><td>727</td><td>82</td><td>0.337</td><td>0.275</td><td>0.406</td></tr><tr><td>801</td><td>776</td><td>83</td><td>0.329</td><td>0.262</td><td>0.456</td></tr><tr><td>718</td><td>725</td><td>79</td><td>0.33</td><td>0.264</td><td>0.391</td></tr><tr><td>804</td><td>750</td><td>88</td><td>0.342</td><td>0.275</td><td>0.432</td></tr><tr><td>968</td><td>777</td><td>94</td><td>0.366</td><td>0.29</td><td>0.463</td></tr><tr><td>741</td><td>758</td><td>76</td><td>0.338</td><td>0.256</td><td>0.407</td></tr><tr><td>892</td><td>821</td><td>89</td><td>0.354</td><td>0.274</td><td>0.458</td></tr><tr><td>724</td><td>846</td><td>68</td><td>0.325</td><td>0.263</td><td>0.411</td></tr><tr><td>741</td><td>666</td><td>89</td><td>0.322</td><td>0.251</td><td>0.411</td></tr><tr><td>794</td><td>813</td><td>88</td><td>0.337</td><td>0.287</td><td>0.425</td></tr><tr><td>683</td><td>720</td><td>71</td><td>0.322</td><td>0.254</td><td>0.387</td></tr><tr><td>725</td><td>829</td><td>78</td><td>0.337</td><td>0.274</td><td>0.405</td></tr><tr><td>782</td><td>944</td><td>66</td><td>0.336</td><td>0.268</td><td>0.433</td></tr><tr><td>816</td><td>844</td><td>75</td><td>0.328</td><td>0.263</td><td>0.426</td></tr><tr><td>753</td><td>699</td><td>83</td><td>0.327</td><td>0.259</td><td>0.419</td></tr><tr><td>673</td><td>783</td><td>73</td><td>0.325</td><td>0.256</td><td>0.39</td></tr><tr><td>773</td><td>788</td><td>76</td><td>0.331</td><td>0.267</td><td>0.424</td></tr><tr><td>849</td><td>805</td><td>79</td><td>0.337</td><td>0.27</td><td>0.455</td></tr><tr><td>768</td><td>899</td><td>70</td><td>0.339</td><td>0.277</td><td>0.424</td></tr><tr><td>820</td><td>825</td><td>86</td><td>0.351</td><td>0.269</td><td>0.435</td></tr><tr><td>716</td><td>834</td><td>66</td><td>0.319</td><td>0.268</td><td>0.422</td></tr><tr><td>868</td><td>794</td><td>90</td><td>0.342</td><td>0.28</td><td>0.464</td></tr><tr><td>749</td><td>801</td><td>80</td><td>0.336</td><td>0.257</td><td>0.432</td></tr><tr><td>870</td><td>782</td><td>78</td><td>0.349</td><td>0.28</td><td>0.457</td></tr><tr><td>813</td><td>812</td><td>76</td><td>0.341</td><td>0.27</td><td>0.433</td></tr><tr><td>822</td><td>675</td><td>95</td><td>0.329</td><td>0.274</td><td>0.449</td></tr><tr><td>758</td><td>772</td><td>78</td><td>0.331</td><td>0.264</td><td>0.435</td></tr><tr><td>735</td><td>719</td><td>82</td><td>0.332</td><td>0.255</td><td>0.409</td></tr><tr><td>757</td><td>971</td><td>62</td><td>0.332</td><td>0.271</td><td>0.411</td></tr><tr><td>766</td><td>732</td><td>89</td><td>0.334</td><td>0.274</td><td>0.425</td></tr><tr><td>820</td><td>751</td><td>88</td><td>0.348</td><td>0.276</td><td>0.432</td></tr><tr><td>730</td><td>833</td><td>75</td><td>0.327</td><td>0.258</td><td>0.42</td></tr><tr><td>801</td><td>683</td><td>96</td><td>0.347</td><td>0.287</td><td>0.425</td></tr><tr><td>834</td><td>731</td><td>97</td><td>0.334</td><td>0.264</td><td>0.445</td></tr><tr><td>930</td><td>767</td><td>97</td><td>0.363</td><td>0.285</td><td>0.461</td></tr><tr><td>771</td><td>727</td><td>93</td><td>0.34</td><td>0.26</td><td>0.412</td></tr><tr><td>865</td><td>812</td><td>85</td><td>0.347</td><td>0.267</td><td>0.447</td></tr><tr><td>691</td><td>797</td><td>67</td><td>0.327</td><td>0.263</td><td>0.397</td></tr><tr><td>731</td><td>679</td><td>88</td><td>0.332</td><td>0.263</td><td>0.416</td></tr><tr><td>756</td><td>792</td><td>78</td><td>0.325</td><td>0.272</td><td>0.424</td></tr><tr><td>746</td><td>790</td><td>76</td><td>0.324</td><td>0.259</td><td>0.422</td></tr><tr><td>781</td><td>762</td><td>83</td><td>0.337</td><td>0.269</td><td>0.431</td></tr><tr><td>689</td><td>856</td><td>61</td><td>0.314</td><td>0.255</td><td>0.42</td></tr><tr><td>835</td><td>784</td><td>80</td><td>0.338</td><td>0.278</td><td>0.446</td></tr><tr><td>809</td><td>754</td><td>87</td><td>0.348</td><td>0.284</td><td>0.463</td></tr><tr><td>746</td><td>872</td><td>71</td><td>0.338</td><td>0.262</td><td>0.418</td></tr><tr><td>696</td><td>856</td><td>77</td><td>0.332</td><td>0.256</td><td>0.421</td></tr><tr><td>769</td><td>674</td><td>90</td><td>0.333</td><td>0.265</td><td>0.435</td></tr><tr><td>729</td><td>800</td><td>74</td><td>0.327</td><td>0.269</td><td>0.434</td></tr><tr><td>910</td><td>805</td><td>95</td><td>0.357</td><td>0.281</td><td>0.454</td></tr><tr><td>703</td><td>714</td><td>79</td><td>0.324</td><td>0.27</td><td>0.44</td></tr><tr><td>741</td><td>645</td><td>99</td><td>0.322</td><td>0.262</td><td>0.425</td></tr><tr><td>820</td><td>889</td><td>73</td><td>0.339</td><td>0.261</td><td>0.446</td></tr><tr><td>790</td><td>642</td><td>93</td><td>0.334</td><td>0.271</td><td>0.453</td></tr><tr><td>740</td><td>862</td><td>67</td><td>0.333</td><td>0.267</td><td>0.411</td></tr><tr><td>723</td><td>787</td><td>71</td><td>0.321</td><td>0.272</td><td>0.428</td></tr><tr><td>717</td><td>732</td><td>83</td><td>0.339</td><td>0.272</td><td>0.409</td></tr><tr><td>693</td><td>609</td><td>89</td><td>0.322</td><td>0.256</td><td>0.408</td></tr><tr><td>701</td><td>935</td><td>56</td><td>0.32</td><td>0.263</td><td>0.396</td></tr><tr><td>761</td><td>643</td><td>95</td><td>0.325</td><td>0.27</td><td>0.409</td></tr><tr><td>685</td><td>755</td><td>71</td><td>0.326</td><td>0.253</td><td>0.395</td></tr><tr><td>726</td><td>697</td><td>81</td><td>0.331</td><td>0.259</td><td>0.423</td></tr><tr><td>688</td><td>662</td><td>83</td><td>0.323</td><td>0.259</td><td>0.391</td></tr><tr><td>722</td><td>648</td><td>83</td><td>0.322</td><td>0.258</td><td>0.416</td></tr><tr><td>886</td><td>789</td><td>95</td><td>0.355</td><td>0.276</td><td>0.45</td></tr><tr><td>772</td><td>658</td><td>88</td><td>0.33</td><td>0.262</td><td>0.407</td></tr><tr><td>807</td><td>726</td><td>88</td><td>0.348</td><td>0.27</td><td>0.423</td></tr><tr><td>680</td><td>769</td><td>67</td><td>0.322</td><td>0.259</td><td>0.4</td></tr><tr><td>684</td><td>726</td><td>82</td><td>0.333</td><td>0.257</td><td>0.391</td></tr><tr><td>699</td><td>751</td><td>69</td><td>0.317</td><td>0.256</td><td>0.391</td></tr><tr><td>649</td><td>745</td><td>75</td><td>0.319</td><td>0.261</td><td>0.396</td></tr><tr><td>805</td><td>634</td><td>100</td><td>0.339</td><td>0.27</td><td>0.423</td></tr><tr><td>750</td><td>936</td><td>67</td><td>0.329</td><td>0.274</td><td>0.425</td></tr><tr><td>865</td><td>858</td><td>79</td><td>0.329</td><td>0.267</td><td>0.468</td></tr><tr><td>775</td><td>705</td><td>80</td><td>0.331</td><td>0.265</td><td>0.407</td></tr><tr><td>639</td><td>673</td><td>81</td><td>0.322</td><td>0.252</td><td>0.386</td></tr><tr><td>836</td><td>734</td><td>92</td><td>0.341</td><td>0.282</td><td>0.429</td></tr><tr><td>615</td><td>899</td><td>51</td><td>0.31</td><td>0.253</td><td>0.393</td></tr><tr><td>803</td><td>668</td><td>96</td><td>0.343</td><td>0.27</td><td>0.434</td></tr><tr><td>842</td><td>830</td><td>78</td><td>0.345</td><td>0.281</td><td>0.432</td></tr><tr><td>949</td><td>768</td><td>98</td><td>0.36</td><td>0.282</td><td>0.472</td></tr><tr><td>789</td><td>665</td><td>89</td><td>0.328</td><td>0.268</td><td>0.458</td></tr><tr><td>865</td><td>831</td><td>83</td><td>0.333</td><td>0.268</td><td>0.457</td></tr><tr><td>750</td><td>907</td><td>76</td><td>0.331</td><td>0.25</td><td>0.418</td></tr><tr><td>858</td><td>857</td><td>80</td><td>0.351</td><td>0.276</td><td>0.444</td></tr><tr><td>833</td><td>923</td><td>68</td><td>0.345</td><td>0.275</td><td>0.455</td></tr><tr><td>827</td><td>844</td><td>72</td><td>0.337</td><td>0.272</td><td>0.449</td></tr><tr><td>718</td><td>700</td><td>83</td><td>0.329</td><td>0.264</td><td>0.406</td></tr><tr><td>803</td><td>698</td><td>92</td><td>0.342</td><td>0.267</td><td>0.436</td></tr><tr><td>720</td><td>905</td><td>58</td><td>0.322</td><td>0.259</td><td>0.397</td></tr><tr><td>761</td><td>684</td><td>93</td><td>0.332</td><td>0.262</td><td>0.423</td></tr><tr><td>634</td><td>757</td><td>67</td><td>0.321</td><td>0.248</td><td>0.387</td></tr><tr><td>780</td><td>715</td><td>92</td><td>0.332</td><td>0.266</td><td>0.431</td></tr><tr><td>635</td><td>769</td><td>67</td><td>0.313</td><td>0.249</td><td>0.392</td></tr><tr><td>684</td><td>731</td><td>71</td><td>0.317</td><td>0.249</td><td>0.409</td></tr><tr><td>897</td><td>808</td><td>101</td><td>0.353</td><td>0.268</td><td>0.458</td></tr><tr><td>793</td><td>742</td><td>91</td><td>0.343</td><td>0.27</td><td>0.433</td></tr><tr><td>840</td><td>781</td><td>86</td><td>0.345</td><td>0.267</td><td>0.443</td></tr><tr><td>680</td><td>744</td><td>72</td><td>0.321</td><td>0.26</td><td>0.401</td></tr><tr><td>768</td><td>705</td><td>87</td><td>0.342</td><td>0.273</td><td>0.414</td></tr><tr><td>698</td><td>823</td><td>63</td><td>0.331</td><td>0.27</td><td>0.396</td></tr><tr><td>850</td><td>770</td><td>91</td><td>0.357</td><td>0.27</td><td>0.438</td></tr><tr><td>855</td><td>659</td><td>105</td><td>0.344</td><td>0.278</td><td>0.46</td></tr><tr><td>714</td><td>842</td><td>70</td><td>0.32</td><td>0.258</td><td>0.405</td></tr><tr><td>860</td><td>794</td><td>89</td><td>0.329</td><td>0.266</td><td>0.457</td></tr><tr><td>719</td><td>823</td><td>67</td><td>0.328</td><td>0.26</td><td>0.403</td></tr><tr><td>736</td><td>743</td><td>77</td><td>0.33</td><td>0.268</td><td>0.413</td></tr><tr><td>717</td><td>685</td><td>84</td><td>0.33</td><td>0.263</td><td>0.417</td></tr><tr><td>907</td><td>740</td><td>101</td><td>0.349</td><td>0.284</td><td>0.475</td></tr><tr><td>743</td><td>820</td><td>71</td><td>0.323</td><td>0.268</td><td>0.405</td></tr><tr><td>961</td><td>809</td><td>95</td><td>0.36</td><td>0.289</td><td>0.491</td></tr><tr><td>724</td><td>683</td><td>88</td><td>0.323</td><td>0.259</td><td>0.416</td></tr><tr><td>791</td><td>715</td><td>86</td><td>0.331</td><td>0.263</td><td>0.446</td></tr><tr><td>694</td><td>886</td><td>69</td><td>0.318</td><td>0.245</td><td>0.395</td></tr><tr><td>699</td><td>778</td><td>68</td><td>0.316</td><td>0.254</td><td>0.401</td></tr><tr><td>853</td><td>892</td><td>74</td><td>0.344</td><td>0.267</td><td>0.445</td></tr><tr><td>591</td><td>928</td><td>43</td><td>0.3</td><td>0.24</td><td>0.375</td></tr><tr><td>751</td><td>692</td><td>91</td><td>0.333</td><td>0.266</td><td>0.421</td></tr><tr><td>805</td><td>677</td><td>87</td><td>0.336</td><td>0.263</td><td>0.431</td></tr><tr><td>836</td><td>867</td><td>83</td><td>0.336</td><td>0.274</td><td>0.427</td></tr><tr><td>574</td><td>556</td><td>85</td><td>0.303</td><td>0.243</td><td>0.368</td></tr><tr><td>714</td><td>873</td><td>68</td><td>0.329</td><td>0.256</td><td>0.419</td></tr><tr><td>801</td><td>758</td><td>90</td><td>0.341</td><td>0.277</td><td>0.431</td></tr><tr><td>711</td><td>716</td><td>83</td><td>0.326</td><td>0.258</td><td>0.401</td></tr><tr><td>642</td><td>754</td><td>66</td><td>0.314</td><td>0.247</td><td>0.374</td></tr><tr><td>877</td><td>716</td><td>101</td><td>0.356</td><td>0.271</td><td>0.453</td></tr><tr><td>768</td><td>643</td><td>96</td><td>0.327</td><td>0.254</td><td>0.417</td></tr><tr><td>791</td><td>697</td><td>86</td><td>0.343</td><td>0.261</td><td>0.419</td></tr><tr><td>753</td><td>801</td><td>75</td><td>0.338</td><td>0.267</td><td>0.42</td></tr><tr><td>678</td><td>831</td><td>64</td><td>0.333</td><td>0.261</td><td>0.388</td></tr><tr><td>795</td><td>637</td><td>93</td><td>0.344</td><td>0.271</td><td>0.41</td></tr><tr><td>755</td><td>638</td><td>100</td><td>0.338</td><td>0.264</td><td>0.425</td></tr><tr><td>876</td><td>796</td><td>85</td><td>0.35</td><td>0.279</td><td>0.454</td></tr><tr><td>715</td><td>852</td><td>63</td><td>0.32</td><td>0.265</td><td>0.404</td></tr><tr><td>826</td><td>969</td><td>71</td><td>0.33</td><td>0.266</td><td>0.454</td></tr><tr><td>894</td><td>826</td><td>86</td><td>0.349</td><td>0.279</td><td>0.455</td></tr><tr><td>851</td><td>644</td><td>99</td><td>0.341</td><td>0.282</td><td>0.433</td></tr><tr><td>819</td><td>674</td><td>98</td><td>0.346</td><td>0.267</td><td>0.423</td></tr><tr><td>708</td><td>565</td><td>101</td><td>0.331</td><td>0.26</td><td>0.409</td></tr><tr><td>667</td><td>773</td><td>67</td><td>0.309</td><td>0.246</td><td>0.403</td></tr><tr><td>859</td><td>665</td><td>93</td><td>0.345</td><td>0.277</td><td>0.444</td></tr><tr><td>706</td><td>759</td><td>67</td><td>0.321</td><td>0.246</td><td>0.413</td></tr><tr><td>856</td><td>798</td><td>81</td><td>0.338</td><td>0.268</td><td>0.449</td></tr><tr><td>709</td><td>774</td><td>78</td><td>0.33</td><td>0.253</td><td>0.408</td></tr><tr><td>739</td><td>837</td><td>74</td><td>0.321</td><td>0.249</td><td>0.412</td></tr><tr><td>778</td><td>898</td><td>73</td><td>0.337</td><td>0.274</td><td>0.423</td></tr><tr><td>575</td><td>864</td><td>55</td><td>0.3</td><td>0.248</td><td>0.379</td></tr><tr><td>699</td><td>763</td><td>79</td><td>0.337</td><td>0.261</td><td>0.403</td></tr><tr><td>749</td><td>695</td><td>84</td><td>0.338</td><td>0.262</td><td>0.417</td></tr><tr><td>737</td><td>891</td><td>62</td><td>0.323</td><td>0.256</td><td>0.398</td></tr><tr><td>713</td><td>643</td><td>92</td><td>0.32</td><td>0.264</td><td>0.409</td></tr><tr><td>627</td><td>821</td><td>56</td><td>0.32</td><td>0.253</td><td>0.39</td></tr><tr><td>768</td><td>712</td><td>94</td><td>0.332</td><td>0.272</td><td>0.437</td></tr><tr><td>735</td><td>718</td><td>83</td><td>0.334</td><td>0.261</td><td>0.418</td></tr><tr><td>690</td><td>703</td><td>75</td><td>0.322</td><td>0.256</td><td>0.395</td></tr><tr><td>897</td><td>697</td><td>103</td><td>0.354</td><td>0.275</td><td>0.455</td></tr><tr><td>800</td><td>654</td><td>103</td><td>0.339</td><td>0.261</td><td>0.432</td></tr><tr><td>710</td><td>724</td><td>80</td><td>0.339</td><td>0.259</td><td>0.422</td></tr><tr><td>641</td><td>730</td><td>72</td><td>0.319</td><td>0.244</td><td>0.381</td></tr><tr><td>662</td><td>815</td><td>66</td><td>0.321</td><td>0.253</td><td>0.381</td></tr><tr><td>814</td><td>699</td><td>93</td><td>0.35</td><td>0.275</td><td>0.419</td></tr><tr><td>783</td><td>616</td><td>95</td><td>0.344</td><td>0.267</td><td>0.442</td></tr><tr><td>787</td><td>648</td><td>97</td><td>0.338</td><td>0.268</td><td>0.425</td></tr><tr><td>673</td><td>918</td><td>55</td><td>0.314</td><td>0.253</td><td>0.39</td></tr><tr><td>843</td><td>882</td><td>72</td><td>0.338</td><td>0.269</td><td>0.455</td></tr><tr><td>813</td><td>828</td><td>78</td><td>0.327</td><td>0.261</td><td>0.43</td></tr><tr><td>691</td><td>730</td><td>75</td><td>0.327</td><td>0.261</td><td>0.405</td></tr><tr><td>818</td><td>677</td><td>92</td><td>0.341</td><td>0.267</td><td>0.442</td></tr><tr><td>729</td><td>643</td><td>88</td><td>0.324</td><td>0.26</td><td>0.412</td></tr><tr><td>687</td><td>829</td><td>63</td><td>0.319</td><td>0.248</td><td>0.38</td></tr><tr><td>772</td><td>745</td><td>82</td><td>0.334</td><td>0.266</td><td>0.439</td></tr><tr><td>777</td><td>701</td><td>88</td><td>0.336</td><td>0.261</td><td>0.43</td></tr><tr><td>798</td><td>795</td><td>83</td><td>0.334</td><td>0.268</td><td>0.451</td></tr><tr><td>735</td><td>850</td><td>66</td><td>0.324</td><td>0.262</td><td>0.419</td></tr><tr><td>897</td><td>821</td><td>91</td><td>0.35</td><td>0.278</td><td>0.458</td></tr><tr><td>923</td><td>906</td><td>73</td><td>0.354</td><td>0.292</td><td>0.483</td></tr><tr><td>724</td><td>876</td><td>66</td><td>0.32</td><td>0.26</td><td>0.409</td></tr><tr><td>742</td><td>744</td><td>76</td><td>0.326</td><td>0.264</td><td>0.423</td></tr><tr><td>847</td><td>769</td><td>93</td><td>0.347</td><td>0.271</td><td>0.451</td></tr><tr><td>729</td><td>858</td><td>65</td><td>0.318</td><td>0.266</td><td>0.409</td></tr><tr><td>758</td><td>744</td><td>86</td><td>0.323</td><td>0.255</td><td>0.425</td></tr><tr><td>740</td><td>806</td><td>68</td><td>0.319</td><td>0.251</td><td>0.426</td></tr><tr><td>771</td><td>766</td><td>85</td><td>0.337</td><td>0.272</td><td>0.433</td></tr><tr><td>670</td><td>812</td><td>68</td><td>0.319</td><td>0.253</td><td>0.396</td></tr><tr><td>642</td><td>713</td><td>82</td><td>0.323</td><td>0.249</td><td>0.387</td></tr><tr><td>804</td><td>713</td><td>95</td><td>0.334</td><td>0.267</td><td>0.435</td></tr><tr><td>884</td><td>645</td><td>102</td><td>0.345</td><td>0.264</td><td>0.439</td></tr><tr><td>746</td><td>719</td><td>86</td><td>0.329</td><td>0.26</td><td>0.414</td></tr><tr><td>657</td><td>858</td><td>62</td><td>0.313</td><td>0.247</td><td>0.393</td></tr><tr><td>789</td><td>812</td><td>79</td><td>0.336</td><td>0.252</td><td>0.399</td></tr><tr><td>927</td><td>627</td><td>116</td><td>0.36</td><td>0.288</td><td>0.445</td></tr><tr><td>799</td><td>748</td><td>90</td><td>0.342</td><td>0.266</td><td>0.46</td></tr><tr><td>814</td><td>684</td><td>93</td><td>0.339</td><td>0.27</td><td>0.441</td></tr><tr><td>672</td><td>887</td><td>62</td><td>0.32</td><td>0.258</td><td>0.388</td></tr><tr><td>890</td><td>968</td><td>73</td><td>0.344</td><td>0.275</td><td>0.471</td></tr><tr><td>767</td><td>753</td><td>80</td><td>0.325</td><td>0.263</td><td>0.43</td></tr><tr><td>864</td><td>869</td><td>82</td><td>0.352</td><td>0.28</td><td>0.472</td></tr><tr><td>792</td><td>754</td><td>85</td><td>0.333</td><td>0.265</td><td>0.429</td></tr><tr><td>810</td><td>714</td><td>95</td><td>0.346</td><td>0.271</td><td>0.429</td></tr><tr><td>794</td><td>913</td><td>74</td><td>0.341</td><td>0.272</td><td>0.435</td></tr><tr><td>792</td><td>745</td><td>85</td><td>0.341</td><td>0.267</td><td>0.423</td></tr><tr><td>764</td><td>904</td><td>65</td><td>0.335</td><td>0.256</td><td>0.411</td></tr><tr><td>978</td><td>839</td><td>95</td><td>0.356</td><td>0.286</td><td>0.47</td></tr><tr><td>825</td><td>765</td><td>85</td><td>0.343</td><td>0.274</td><td>0.447</td></tr><tr><td>950</td><td>816</td><td>90</td><td>0.367</td><td>0.288</td><td>0.47</td></tr><tr><td>968</td><td>897</td><td>82</td><td>0.362</td><td>0.294</td><td>0.455</td></tr><tr><td>823</td><td>827</td><td>79</td><td>0.343</td><td>0.275</td><td>0.438</td></tr><tr><td>731</td><td>797</td><td>79</td><td>0.331</td><td>0.262</td><td>0.409</td></tr><tr><td>938</td><td>944</td><td>72</td><td>0.361</td><td>0.278</td><td>0.477</td></tr><tr><td>879</td><td>930</td><td>77</td><td>0.348</td><td>0.288</td><td>0.425</td></tr><tr><td>798</td><td>729</td><td>86</td><td>0.341</td><td>0.257</td><td>0.431</td></tr><tr><td>740</td><td>826</td><td>73</td><td>0.325</td><td>0.246</td><td>0.403</td></tr><tr><td>748</td><td>880</td><td>69</td><td>0.337</td><td>0.27</td><td>0.407</td></tr><tr><td>738</td><td>902</td><td>67</td><td>0.326</td><td>0.266</td><td>0.432</td></tr><tr><td>807</td><td>738</td><td>94</td><td>0.346</td><td>0.263</td><td>0.43</td></tr><tr><td>871</td><td>814</td><td>87</td><td>0.354</td><td>0.277</td><td>0.45</td></tr><tr><td>947</td><td>813</td><td>91</td><td>0.36</td><td>0.27</td><td>0.458</td></tr><tr><td>708</td><td>830</td><td>65</td><td>0.329</td><td>0.251</td><td>0.4</td></tr><tr><td>793</td><td>888</td><td>69</td><td>0.339</td><td>0.267</td><td>0.424</td></tr><tr><td>752</td><td>815</td><td>76</td><td>0.33</td><td>0.254</td><td>0.402</td></tr><tr><td>907</td><td>780</td><td>91</td><td>0.361</td><td>0.269</td><td>0.442</td></tr><tr><td>925</td><td>747</td><td>97</td><td>0.362</td><td>0.278</td><td>0.472</td></tr><tr><td>887</td><td>771</td><td>95</td><td>0.356</td><td>0.27</td><td>0.455</td></tr><tr><td>733</td><td>842</td><td>69</td><td>0.329</td><td>0.257</td><td>0.399</td></tr><tr><td>848</td><td>974</td><td>71</td><td>0.352</td><td>0.283</td><td>0.446</td></tr><tr><td>861</td><td>908</td><td>83</td><td>0.341</td><td>0.275</td><td>0.469</td></tr><tr><td>711</td><td>826</td><td>70</td><td>0.322</td><td>0.256</td><td>0.395</td></tr><tr><td>908</td><td>676</td><td>100</td><td>0.347</td><td>0.277</td><td>0.459</td></tr><tr><td>840</td><td>661</td><td>103</td><td>0.341</td><td>0.266</td><td>0.436</td></tr><tr><td>851</td><td>815</td><td>78</td><td>0.353</td><td>0.279</td><td>0.447</td></tr><tr><td>836</td><td>718</td><td>94</td><td>0.35</td><td>0.278</td><td>0.448</td></tr><tr><td>747</td><td>920</td><td>67</td><td>0.329</td><td>0.257</td><td>0.42</td></tr><tr><td>777</td><td>870</td><td>75</td><td>0.337</td><td>0.277</td><td>0.429</td></tr><tr><td>865</td><td>711</td><td>96</td><td>0.341</td><td>0.272</td><td>0.451</td></tr><tr><td>1009</td><td>860</td><td>97</td><td>0.373</td><td>0.289</td><td>0.467</td></tr><tr><td>906</td><td>1028</td><td>72</td><td>0.348</td><td>0.288</td><td>0.472</td></tr><tr><td>747</td><td>882</td><td>69</td><td>0.326</td><td>0.261</td><td>0.443</td></tr><tr><td>691</td><td>852</td><td>64</td><td>0.325</td><td>0.263</td><td>0.395</td></tr><tr><td>823</td><td>675</td><td>97</td><td>0.355</td><td>0.267</td><td>0.42</td></tr><tr><td>856</td><td>921</td><td>64</td><td>0.348</td><td>0.282</td><td>0.433</td></tr><tr><td>793</td><td>787</td><td>77</td><td>0.339</td><td>0.266</td><td>0.42</td></tr><tr><td>815</td><td>886</td><td>74</td><td>0.353</td><td>0.273</td><td>0.426</td></tr><tr><td>686</td><td>845</td><td>63</td><td>0.328</td><td>0.264</td><td>0.384</td></tr><tr><td>718</td><td>853</td><td>68</td><td>0.323</td><td>0.265</td><td>0.427</td></tr><tr><td>853</td><td>711</td><td>97</td><td>0.363</td><td>0.279</td><td>0.434</td></tr><tr><td>900</td><td>731</td><td>98</td><td>0.366</td><td>0.282</td><td>0.453</td></tr><tr><td>893</td><td>846</td><td>87</td><td>0.355</td><td>0.259</td><td>0.446</td></tr><tr><td>841</td><td>846</td><td>77</td><td>0.351</td><td>0.275</td><td>0.431</td></tr><tr><td>775</td><td>782</td><td>78</td><td>0.334</td><td>0.259</td><td>0.419</td></tr><tr><td>710</td><td>781</td><td>74</td><td>0.332</td><td>0.252</td><td>0.393</td></tr><tr><td>859</td><td>905</td><td>79</td><td>0.343</td><td>0.269</td><td>0.455</td></tr><tr><td>872</td><td>831</td><td>86</td><td>0.356</td><td>0.271</td><td>0.434</td></tr><tr><td>809</td><td>838</td><td>75</td><td>0.338</td><td>0.262</td><td>0.426</td></tr><tr><td>772</td><td>913</td><td>69</td><td>0.343</td><td>0.274</td><td>0.411</td></tr><tr><td>945</td><td>859</td><td>95</td><td>0.361</td><td>0.293</td><td>0.479</td></tr><tr><td>883</td><td>862</td><td>84</td><td>0.352</td><td>0.28</td><td>0.457</td></tr><tr><td>787</td><td>783</td><td>85</td><td>0.335</td><td>0.272</td><td>0.415</td></tr><tr><td>665</td><td>812</td><td>65</td><td>0.314</td><td>0.246</td><td>0.393</td></tr><tr><td>826</td><td>581</td><td>106</td><td>0.342</td><td>0.272</td><td>0.453</td></tr><tr><td>817</td><td>785</td><td>79</td><td>0.347</td><td>0.273</td><td>0.447</td></tr><tr><td>876</td><td>729</td><td>92</td><td>0.348</td><td>0.28</td><td>0.463</td></tr><tr><td>831</td><td>792</td><td>90</td><td>0.337</td><td>0.264</td><td>0.433</td></tr><tr><td>861</td><td>931</td><td>80</td><td>0.339</td><td>0.271</td><td>0.444</td></tr><tr><td>750</td><td>760</td><td>77</td><td>0.337</td><td>0.262</td><td>0.402</td></tr><tr><td>850</td><td>779</td><td>89</td><td>0.347</td><td>0.272</td><td>0.448</td></tr><tr><td>826</td><td>855</td><td>77</td><td>0.347</td><td>0.291</td><td>0.461</td></tr><tr><td>722</td><td>863</td><td>65</td><td>0.323</td><td>0.264</td><td>0.415</td></tr><tr><td>667</td><td>923</td><td>54</td><td>0.317</td><td>0.248</td><td>0.373</td></tr><tr><td>874</td><td>620</td><td>102</td><td>0.356</td><td>0.28</td><td>0.436</td></tr><tr><td>714</td><td>899</td><td>72</td><td>0.324</td><td>0.263</td><td>0.399</td></tr><tr><td>669</td><td>678</td><td>83</td><td>0.31</td><td>0.252</td><td>0.387</td></tr><tr><td>707</td><td>812</td><td>74</td><td>0.33</td><td>0.26</td><td>0.396</td></tr><tr><td>734</td><td>818</td><td>70</td><td>0.328</td><td>0.266</td><td>0.389</td></tr><tr><td>644</td><td>783</td><td>65</td><td>0.31</td><td>0.249</td><td>0.394</td></tr><tr><td>706</td><td>645</td><td>88</td><td>0.33</td><td>0.259</td><td>0.394</td></tr><tr><td>965</td><td>656</td><td>114</td><td>0.364</td><td>0.288</td><td>0.46</td></tr><tr><td>804</td><td>866</td><td>74</td><td>0.338</td><td>0.257</td><td>0.397</td></tr><tr><td>713</td><td>808</td><td>75</td><td>0.326</td><td>0.264</td><td>0.395</td></tr><tr><td>650</td><td>718</td><td>69</td><td>0.311</td><td>0.254</td><td>0.374</td></tr><tr><td>749</td><td>635</td><td>98</td><td>0.33</td><td>0.253</td><td>0.409</td></tr><tr><td>859</td><td>855</td><td>76</td><td>0.345</td><td>0.276</td><td>0.468</td></tr><tr><td>845</td><td>739</td><td>89</td><td>0.353</td><td>0.274</td><td>0.421</td></tr><tr><td>810</td><td>782</td><td>83</td><td>0.341</td><td>0.258</td><td>0.441</td></tr><tr><td>620</td><td>751</td><td>63</td><td>0.321</td><td>0.261</td><td>0.385</td></tr><tr><td>940</td><td>871</td><td>88</td><td>0.357</td><td>0.289</td><td>0.462</td></tr><tr><td>816</td><td>768</td><td>88</td><td>0.34</td><td>0.266</td><td>0.448</td></tr><tr><td>829</td><td>794</td><td>84</td><td>0.346</td><td>0.272</td><td>0.416</td></tr><tr><td>791</td><td>581</td><td>101</td><td>0.343</td><td>0.27</td><td>0.426</td></tr><tr><td>812</td><td>681</td><td>98</td><td>0.341</td><td>0.268</td><td>0.429</td></tr><tr><td>851</td><td>857</td><td>78</td><td>0.352</td><td>0.291</td><td>0.463</td></tr><tr><td>687</td><td>759</td><td>68</td><td>0.321</td><td>0.263</td><td>0.396</td></tr><tr><td>779</td><td>833</td><td>80</td><td>0.341</td><td>0.273</td><td>0.417</td></tr><tr><td>651</td><td>764</td><td>76</td><td>0.321</td><td>0.253</td><td>0.389</td></tr><tr><td>868</td><td>815</td><td>86</td><td>0.358</td><td>0.286</td><td>0.467</td></tr><tr><td>923</td><td>908</td><td>83</td><td>0.357</td><td>0.288</td><td>0.478</td></tr><tr><td>784</td><td>790</td><td>79</td><td>0.332</td><td>0.258</td><td>0.415</td></tr><tr><td>740</td><td>669</td><td>92</td><td>0.346</td><td>0.259</td><td>0.395</td></tr><tr><td>777</td><td>660</td><td>84</td><td>0.344</td><td>0.259</td><td>0.403</td></tr><tr><td>747</td><td>820</td><td>67</td><td>0.333</td><td>0.264</td><td>0.407</td></tr><tr><td>742</td><td>645</td><td>88</td><td>0.33</td><td>0.268</td><td>0.418</td></tr><tr><td>681</td><td>742</td><td>78</td><td>0.325</td><td>0.26</td><td>0.398</td></tr><tr><td>772</td><td>861</td><td>68</td><td>0.333</td><td>0.27</td><td>0.409</td></tr><tr><td>691</td><td>740</td><td>78</td><td>0.316</td><td>0.258</td><td>0.425</td></tr><tr><td>777</td><td>709</td><td>88</td><td>0.332</td><td>0.262</td><td>0.405</td></tr><tr><td>891</td><td>688</td><td>96</td><td>0.362</td><td>0.287</td><td>0.436</td></tr><tr><td>764</td><td>946</td><td>65</td><td>0.339</td><td>0.26</td><td>0.423</td></tr><tr><td>668</td><td>840</td><td>68</td><td>0.322</td><td>0.255</td><td>0.385</td></tr><tr><td>725</td><td>760</td><td>79</td><td>0.329</td><td>0.262</td><td>0.404</td></tr><tr><td>795</td><td>891</td><td>76</td><td>0.342</td><td>0.271</td><td>0.407</td></tr><tr><td>925</td><td>833</td><td>90</td><td>0.355</td><td>0.28</td><td>0.485</td></tr><tr><td>784</td><td>793</td><td>90</td><td>0.337</td><td>0.258</td><td>0.414</td></tr><tr><td>689</td><td>708</td><td>73</td><td>0.324</td><td>0.255</td><td>0.396</td></tr><tr><td>807</td><td>823</td><td>77</td><td>0.334</td><td>0.274</td><td>0.438</td></tr><tr><td>654</td><td>694</td><td>76</td><td>0.31</td><td>0.244</td><td>0.389</td></tr><tr><td>773</td><td>648</td><td>96</td><td>0.333</td><td>0.27</td><td>0.432</td></tr><tr><td>949</td><td>903</td><td>88</td><td>0.35</td><td>0.274</td><td>0.472</td></tr><tr><td>928</td><td>921</td><td>85</td><td>0.359</td><td>0.283</td><td>0.457</td></tr><tr><td>762</td><td>943</td><td>70</td><td>0.339</td><td>0.276</td><td>0.431</td></tr><tr><td>772</td><td>771</td><td>76</td><td>0.32</td><td>0.251</td><td>0.401</td></tr><tr><td>898</td><td>794</td><td>85</td><td>0.36</td><td>0.281</td><td>0.447</td></tr><tr><td>778</td><td>773</td><td>81</td><td>0.331</td><td>0.256</td><td>0.422</td></tr><tr><td>952</td><td>769</td><td>99</td><td>0.369</td><td>0.293</td><td>0.475</td></tr><tr><td>961</td><td>964</td><td>83</td><td>0.355</td><td>0.287</td><td>0.472</td></tr><tr><td>783</td><td>1103</td><td>53</td><td>0.323</td><td>0.256</td><td>0.42</td></tr><tr><td>688</td><td>703</td><td>80</td><td>0.329</td><td>0.257</td><td>0.393</td></tr><tr><td>753</td><td>792</td><td>82</td><td>0.336</td><td>0.262</td><td>0.397</td></tr><tr><td>746</td><td>786</td><td>75</td><td>0.332</td><td>0.267</td><td>0.398</td></tr><tr><td>703</td><td>652</td><td>90</td><td>0.316</td><td>0.252</td><td>0.384</td></tr><tr><td>894</td><td>899</td><td>80</td><td>0.353</td><td>0.279</td><td>0.441</td></tr><tr><td>877</td><td>900</td><td>78</td><td>0.357</td><td>0.288</td><td>0.425</td></tr><tr><td>741</td><td>668</td><td>88</td><td>0.327</td><td>0.262</td><td>0.406</td></tr><tr><td>746</td><td>779</td><td>71</td><td>0.324</td><td>0.27</td><td>0.412</td></tr><tr><td>871</td><td>787</td><td>92</td><td>0.36</td><td>0.288</td><td>0.436</td></tr><tr><td>861</td><td>900</td><td>78</td><td>0.344</td><td>0.265</td><td>0.452</td></tr><tr><td>650</td><td>790</td><td>67</td><td>0.325</td><td>0.256</td><td>0.387</td></tr><tr><td>776</td><td>833</td><td>73</td><td>0.329</td><td>0.266</td><td>0.407</td></tr><tr><td>771</td><td>682</td><td>91</td><td>0.338</td><td>0.265</td><td>0.402</td></tr><tr><td>993</td><td>895</td><td>85</td><td>0.366</td><td>0.287</td><td>0.484</td></tr><tr><td>752</td><td>862</td><td>68</td><td>0.331</td><td>0.253</td><td>0.388</td></tr><tr><td>759</td><td>706</td><td>88</td><td>0.33</td><td>0.267</td><td>0.407</td></tr><tr><td>928</td><td>799</td><td>90</td><td>0.358</td><td>0.284</td><td>0.469</td></tr><tr><td>766</td><td>809</td><td>74</td><td>0.331</td><td>0.259</td><td>0.42</td></tr><tr><td>767</td><td>559</td><td>104</td><td>0.331</td><td>0.262</td><td>0.408</td></tr><tr><td>786</td><td>745</td><td>85</td><td>0.346</td><td>0.267</td><td>0.413</td></tr><tr><td>686</td><td>698</td><td>80</td><td>0.33</td><td>0.264</td><td>0.395</td></tr><tr><td>684</td><td>770</td><td>71</td><td>0.331</td><td>0.26</td><td>0.38</td></tr><tr><td>738</td><td>739</td><td>84</td><td>0.325</td><td>0.27</td><td>0.414</td></tr><tr><td>776</td><td>664</td><td>94</td><td>0.338</td><td>0.265</td><td>0.411</td></tr><tr><td>722</td><td>785</td><td>73</td><td>0.324</td><td>0.264</td><td>0.396</td></tr><tr><td>790</td><td>813</td><td>76</td><td>0.335</td><td>0.275</td><td>0.409</td></tr><tr><td>758</td><td>967</td><td>67</td><td>0.323</td><td>0.273</td><td>0.422</td></tr><tr><td>899</td><td>837</td><td>85</td><td>0.362</td><td>0.275</td><td>0.434</td></tr><tr><td>581</td><td>724</td><td>64</td><td>0.314</td><td>0.248</td><td>0.346</td></tr><tr><td>716</td><td>630</td><td>85</td><td>0.33</td><td>0.267</td><td>0.409</td></tr><tr><td>675</td><td>694</td><td>84</td><td>0.32</td><td>0.263</td><td>0.397</td></tr><tr><td>675</td><td>662</td><td>81</td><td>0.321</td><td>0.261</td><td>0.383</td></tr><tr><td>733</td><td>792</td><td>69</td><td>0.328</td><td>0.258</td><td>0.378</td></tr><tr><td>693</td><td>830</td><td>71</td><td>0.327</td><td>0.264</td><td>0.385</td></tr><tr><td>732</td><td>682</td><td>94</td><td>0.326</td><td>0.257</td><td>0.386</td></tr><tr><td>672</td><td>744</td><td>59</td><td>0.305</td><td>0.248</td><td>0.39</td></tr><tr><td>821</td><td>761</td><td>88</td><td>0.353</td><td>0.279</td><td>0.435</td></tr><tr><td>715</td><td>846</td><td>68</td><td>0.33</td><td>0.254</td><td>0.394</td></tr><tr><td>877</td><td>740</td><td>97</td><td>0.351</td><td>0.274</td><td>0.426</td></tr><tr><td>707</td><td>806</td><td>75</td><td>0.335</td><td>0.267</td><td>0.393</td></tr><tr><td>679</td><td>772</td><td>61</td><td>0.312</td><td>0.252</td><td>0.389</td></tr><tr><td>734</td><td>731</td><td>82</td><td>0.339</td><td>0.26</td><td>0.406</td></tr><tr><td>808</td><td>636</td><td>103</td><td>0.34</td><td>0.276</td><td>0.427</td></tr><tr><td>758</td><td>744</td><td>87</td><td>0.341</td><td>0.272</td><td>0.395</td></tr><tr><td>835</td><td>751</td><td>86</td><td>0.329</td><td>0.267</td><td>0.431</td></tr><tr><td>847</td><td>742</td><td>95</td><td>0.35</td><td>0.279</td><td>0.436</td></tr><tr><td>682</td><td>569</td><td>98</td><td>0.316</td><td>0.254</td><td>0.388</td></tr><tr><td>705</td><td>656</td><td>89</td><td>0.34</td><td>0.259</td><td>0.398</td></tr><tr><td>599</td><td>669</td><td>73</td><td>0.321</td><td>0.246</td><td>0.347</td></tr><tr><td>579</td><td>671</td><td>72</td><td>0.301</td><td>0.243</td><td>0.338</td></tr><tr><td>593</td><td>624</td><td>78</td><td>0.307</td><td>0.254</td><td>0.364</td></tr><tr><td>738</td><td>690</td><td>86</td><td>0.336</td><td>0.261</td><td>0.383</td></tr><tr><td>660</td><td>609</td><td>90</td><td>0.328</td><td>0.26</td><td>0.382</td></tr><tr><td>674</td><td>746</td><td>76</td><td>0.323</td><td>0.266</td><td>0.383</td></tr><tr><td>791</td><td>794</td><td>75</td><td>0.337</td><td>0.256</td><td>0.407</td></tr><tr><td>608</td><td>668</td><td>81</td><td>0.313</td><td>0.246</td><td>0.359</td></tr><tr><td>610</td><td>667</td><td>72</td><td>0.315</td><td>0.256</td><td>0.364</td></tr><tr><td>548</td><td>636</td><td>63</td><td>0.313</td><td>0.248</td><td>0.339</td></tr><tr><td>740</td><td>604</td><td>92</td><td>0.33</td><td>0.268</td><td>0.375</td></tr><tr><td>747</td><td>653</td><td>90</td><td>0.341</td><td>0.277</td><td>0.391</td></tr><tr><td>648</td><td>581</td><td>87</td><td>0.313</td><td>0.252</td><td>0.37</td></tr><tr><td>599</td><td>653</td><td>72</td><td>0.31</td><td>0.235</td><td>0.342</td></tr><tr><td>733</td><td>746</td><td>76</td><td>0.328</td><td>0.261</td><td>0.406</td></tr><tr><td>745</td><td>672</td><td>96</td><td>0.346</td><td>0.258</td><td>0.386</td></tr><tr><td>686</td><td>717</td><td>70</td><td>0.32</td><td>0.253</td><td>0.377</td></tr><tr><td>693</td><td>595</td><td>96</td><td>0.324</td><td>0.255</td><td>0.381</td></tr><tr><td>617</td><td>636</td><td>82</td><td>0.313</td><td>0.255</td><td>0.386</td></tr><tr><td>679</td><td>799</td><td>64</td><td>0.323</td><td>0.263</td><td>0.402</td></tr><tr><td>574</td><td>647</td><td>72</td><td>0.302</td><td>0.244</td><td>0.355</td></tr><tr><td>631</td><td>604</td><td>83</td><td>0.323</td><td>0.262</td><td>0.375</td></tr><tr><td>682</td><td>753</td><td>77</td><td>0.321</td><td>0.25</td><td>0.393</td></tr><tr><td>780</td><td>682</td><td>96</td><td>0.333</td><td>0.263</td><td>0.414</td></tr><tr><td>749</td><td>644</td><td>94</td><td>0.328</td><td>0.258</td><td>0.393</td></tr><tr><td>686</td><td>796</td><td>67</td><td>0.319</td><td>0.254</td><td>0.401</td></tr><tr><td>731</td><td>712</td><td>84</td><td>0.34</td><td>0.269</td><td>0.401</td></tr><tr><td>653</td><td>649</td><td>81</td><td>0.314</td><td>0.255</td><td>0.374</td></tr><tr><td>695</td><td>734</td><td>77</td><td>0.309</td><td>0.253</td><td>0.39</td></tr><tr><td>758</td><td>681</td><td>87</td><td>0.336</td><td>0.262</td><td>0.391</td></tr><tr><td>689</td><td>691</td><td>74</td><td>0.32</td><td>0.258</td><td>0.403</td></tr><tr><td>576</td><td>759</td><td>57</td><td>0.313</td><td>0.254</td><td>0.35</td></tr><tr><td>817</td><td>794</td><td>84</td><td>0.333</td><td>0.247</td><td>0.416</td></tr><tr><td>605</td><td>717</td><td>65</td><td>0.309</td><td>0.244</td><td>0.347</td></tr><tr><td>727</td><td>722</td><td>82</td><td>0.328</td><td>0.264</td><td>0.394</td></tr><tr><td>665</td><td>565</td><td>93</td><td>0.326</td><td>0.253</td><td>0.359</td></tr><tr><td>799</td><td>744</td><td>83</td><td>0.336</td><td>0.271</td><td>0.396</td></tr><tr><td>776</td><td>652</td><td>95</td><td>0.344</td><td>0.28</td><td>0.42</td></tr><tr><td>579</td><td>655</td><td>71</td><td>0.308</td><td>0.246</td><td>0.357</td></tr><tr><td>640</td><td>646</td><td>77</td><td>0.317</td><td>0.244</td><td>0.365</td></tr><tr><td>674</td><td>777</td><td>71</td><td>0.316</td><td>0.256</td><td>0.387</td></tr><tr><td>760</td><td>776</td><td>84</td><td>0.331</td><td>0.248</td><td>0.389</td></tr><tr><td>629</td><td>680</td><td>78</td><td>0.303</td><td>0.241</td><td>0.358</td></tr><tr><td>768</td><td>632</td><td>98</td><td>0.338</td><td>0.263</td><td>0.398</td></tr><tr><td>636</td><td>646</td><td>84</td><td>0.31</td><td>0.244</td><td>0.362</td></tr><tr><td>702</td><td>674</td><td>83</td><td>0.328</td><td>0.255</td><td>0.383</td></tr><tr><td>649</td><td>697</td><td>75</td><td>0.309</td><td>0.246</td><td>0.381</td></tr><tr><td>651</td><td>648</td><td>84</td><td>0.322</td><td>0.255</td><td>0.357</td></tr><tr><td>829</td><td>814</td><td>85</td><td>0.341</td><td>0.27</td><td>0.424</td></tr><tr><td>684</td><td>622</td><td>91</td><td>0.322</td><td>0.257</td><td>0.4</td></tr><tr><td>682</td><td>821</td><td>65</td><td>0.311</td><td>0.25</td><td>0.396</td></tr><tr><td>669</td><td>698</td><td>76</td><td>0.33</td><td>0.245</td><td>0.37</td></tr><tr><td>699</td><td>664</td><td>88</td><td>0.344</td><td>0.272</td><td>0.395</td></tr><tr><td>690</td><td>706</td><td>80</td><td>0.329</td><td>0.26</td><td>0.391</td></tr><tr><td>690</td><td>774</td><td>77</td><td>0.314</td><td>0.263</td><td>0.392</td></tr><tr><td>682</td><td>633</td><td>94</td><td>0.32</td><td>0.258</td><td>0.379</td></tr><tr><td>693</td><td>597</td><td>91</td><td>0.325</td><td>0.265</td><td>0.399</td></tr><tr><td>732</td><td>737</td><td>77</td><td>0.324</td><td>0.267</td><td>0.391</td></tr><tr><td>750</td><td>754</td><td>79</td><td>0.337</td><td>0.259</td><td>0.409</td></tr><tr><td>573</td><td>656</td><td>75</td><td>0.313</td><td>0.242</td><td>0.345</td></tr><tr><td>707</td><td>709</td><td>75</td><td>0.328</td><td>0.267</td><td>0.395</td></tr><tr><td>728</td><td>685</td><td>86</td><td>0.328</td><td>0.262</td><td>0.382</td></tr><tr><td>732</td><td>760</td><td>74</td><td>0.32</td><td>0.256</td><td>0.384</td></tr><tr><td>666</td><td>729</td><td>74</td><td>0.324</td><td>0.265</td><td>0.385</td></tr><tr><td>662</td><td>598</td><td>85</td><td>0.322</td><td>0.25</td><td>0.37</td></tr><tr><td>775</td><td>613</td><td>91</td><td>0.323</td><td>0.256</td><td>0.408</td></tr><tr><td>603</td><td>749</td><td>67</td><td>0.3</td><td>0.241</td><td>0.366</td></tr><tr><td>733</td><td>570</td><td>103</td><td>0.336</td><td>0.254</td><td>0.391</td></tr><tr><td>646</td><td>729</td><td>77</td><td>0.327</td><td>0.255</td><td>0.363</td></tr><tr><td>733</td><td>619</td><td>95</td><td>0.33</td><td>0.259</td><td>0.405</td></tr><tr><td>673</td><td>673</td><td>75</td><td>0.32</td><td>0.257</td><td>0.38</td></tr><tr><td>640</td><td>680</td><td>77</td><td>0.333</td><td>0.259</td><td>0.373</td></tr><tr><td>719</td><td>710</td><td>85</td><td>0.323</td><td>0.262</td><td>0.396</td></tr><tr><td>599</td><td>698</td><td>70</td><td>0.32</td><td>0.256</td><td>0.358</td></tr><tr><td>676</td><td>696</td><td>83</td><td>0.331</td><td>0.259</td><td>0.376</td></tr><tr><td>767</td><td>661</td><td>86</td><td>0.328</td><td>0.265</td><td>0.419</td></tr><tr><td>584</td><td>680</td><td>63</td><td>0.298</td><td>0.234</td><td>0.35</td></tr><tr><td>708</td><td>686</td><td>87</td><td>0.326</td><td>0.252</td><td>0.379</td></tr><tr><td>774</td><td>735</td><td>83</td><td>0.351</td><td>0.277</td><td>0.403</td></tr><tr><td>669</td><td>578</td><td>91</td><td>0.311</td><td>0.256</td><td>0.386</td></tr><tr><td>702</td><td>623</td><td>93</td><td>0.319</td><td>0.261</td><td>0.387</td></tr><tr><td>693</td><td>750</td><td>69</td><td>0.328</td><td>0.271</td><td>0.383</td></tr><tr><td>632</td><td>691</td><td>75</td><td>0.309</td><td>0.247</td><td>0.37</td></tr><tr><td>604</td><td>654</td><td>73</td><td>0.31</td><td>0.245</td><td>0.365</td></tr><tr><td>617</td><td>816</td><td>59</td><td>0.318</td><td>0.242</td><td>0.351</td></tr><tr><td>647</td><td>669</td><td>86</td><td>0.306</td><td>0.239</td><td>0.345</td></tr><tr><td>690</td><td>635</td><td>92</td><td>0.329</td><td>0.261</td><td>0.373</td></tr><tr><td>554</td><td>536</td><td>77</td><td>0.306</td><td>0.24</td><td>0.339</td></tr><tr><td>707</td><td>679</td><td>81</td><td>0.318</td><td>0.259</td><td>0.382</td></tr><tr><td>740</td><td>738</td><td>80</td><td>0.334</td><td>0.276</td><td>0.402</td></tr><tr><td>632</td><td>630</td><td>81</td><td>0.319</td><td>0.247</td><td>0.361</td></tr><tr><td>683</td><td>595</td><td>87</td><td>0.311</td><td>0.246</td><td>0.385</td></tr><tr><td>698</td><td>792</td><td>74</td><td>0.331</td><td>0.269</td><td>0.391</td></tr><tr><td>712</td><td>576</td><td>99</td><td>0.331</td><td>0.261</td><td>0.381</td></tr><tr><td>629</td><td>735</td><td>67</td><td>0.314</td><td>0.243</td><td>0.364</td></tr><tr><td>637</td><td>680</td><td>74</td><td>0.311</td><td>0.241</td><td>0.359</td></tr><tr><td>642</td><td>626</td><td>89</td><td>0.319</td><td>0.251</td><td>0.369</td></tr><tr><td>694</td><td>728</td><td>73</td><td>0.32</td><td>0.257</td><td>0.384</td></tr><tr><td>699</td><td>600</td><td>92</td><td>0.316</td><td>0.25</td><td>0.39</td></tr><tr><td>632</td><td>608</td><td>86</td><td>0.321</td><td>0.258</td><td>0.363</td></tr><tr><td>695</td><td>714</td><td>83</td><td>0.326</td><td>0.263</td><td>0.394</td></tr><tr><td>731</td><td>651</td><td>89</td><td>0.323</td><td>0.26</td><td>0.398</td></tr><tr><td>555</td><td>741</td><td>54</td><td>0.298</td><td>0.242</td><td>0.348</td></tr><tr><td>550</td><td>789</td><td>54</td><td>0.305</td><td>0.238</td><td>0.359</td></tr><tr><td>813</td><td>689</td><td>89</td><td>0.357</td><td>0.283</td><td>0.42</td></tr><tr><td>714</td><td>771</td><td>75</td><td>0.321</td><td>0.261</td><td>0.385</td></tr><tr><td>660</td><td>694</td><td>77</td><td>0.31</td><td>0.261</td><td>0.383</td></tr><tr><td>631</td><td>757</td><td>71</td><td>0.303</td><td>0.244</td><td>0.37</td></tr><tr><td>641</td><td>596</td><td>87</td><td>0.309</td><td>0.246</td><td>0.368</td></tr><tr><td>666</td><td>731</td><td>78</td><td>0.314</td><td>0.261</td><td>0.387</td></tr><tr><td>703</td><td>658</td><td>88</td><td>0.324</td><td>0.25</td><td>0.378</td></tr><tr><td>617</td><td>631</td><td>82</td><td>0.306</td><td>0.244</td><td>0.351</td></tr><tr><td>704</td><td>648</td><td>84</td><td>0.321</td><td>0.259</td><td>0.391</td></tr><tr><td>628</td><td>544</td><td>94</td><td>0.305</td><td>0.248</td><td>0.352</td></tr><tr><td>682</td><td>616</td><td>87</td><td>0.314</td><td>0.257</td><td>0.375</td></tr><tr><td>759</td><td>672</td><td>91</td><td>0.34</td><td>0.274</td><td>0.421</td></tr><tr><td>628</td><td>592</td><td>81</td><td>0.309</td><td>0.251</td><td>0.373</td></tr><tr><td>703</td><td>532</td><td>100</td><td>0.325</td><td>0.256</td><td>0.396</td></tr><tr><td>772</td><td>748</td><td>85</td><td>0.333</td><td>0.263</td><td>0.395</td></tr><tr><td>800</td><td>620</td><td>104</td><td>0.336</td><td>0.263</td><td>0.399</td></tr><tr><td>597</td><td>734</td><td>65</td><td>0.306</td><td>0.239</td><td>0.355</td></tr><tr><td>651</td><td>616</td><td>85</td><td>0.317</td><td>0.247</td><td>0.369</td></tr><tr><td>594</td><td>583</td><td>83</td><td>0.31</td><td>0.247</td><td>0.351</td></tr><tr><td>664</td><td>744</td><td>68</td><td>0.317</td><td>0.257</td><td>0.398</td></tr><tr><td>670</td><td>626</td><td>83</td><td>0.318</td><td>0.248</td><td>0.368</td></tr><tr><td>578</td><td>633</td><td>76</td><td>0.309</td><td>0.249</td><td>0.337</td></tr><tr><td>637</td><td>735</td><td>70</td><td>0.32</td><td>0.252</td><td>0.368</td></tr><tr><td>763</td><td>680</td><td>87</td><td>0.332</td><td>0.268</td><td>0.419</td></tr><tr><td>747</td><td>829</td><td>69</td><td>0.339</td><td>0.258</td><td>0.403</td></tr><tr><td>729</td><td>880</td><td>67</td><td>0.322</td><td>0.258</td><td>0.418</td></tr><tr><td>842</td><td>825</td><td>78</td><td>0.352</td><td>0.278</td><td>0.43</td></tr><tr><td>770</td><td>803</td><td>75</td><td>0.326</td><td>0.252</td><td>0.401</td></tr><tr><td>720</td><td>801</td><td>76</td><td>0.326</td><td>0.264</td><td>0.432</td></tr><tr><td>748</td><td>746</td><td>77</td><td>0.319</td><td>0.258</td><td>0.415</td></tr><tr><td>783</td><td>752</td><td>84</td><td>0.33</td><td>0.266</td><td>0.427</td></tr><tr><td>742</td><td>957</td><td>61</td><td>0.324</td><td>0.263</td><td>0.422</td></tr><tr><td>896</td><td>735</td><td>98</td><td>0.349</td><td>0.272</td><td>0.451</td></tr><tr><td>648</td><td>678</td><td>76</td><td>0.318</td><td>0.253</td><td>0.373</td></tr><tr><td>715</td><td>691</td><td>83</td><td>0.328</td><td>0.262</td><td>0.412</td></tr><tr><td>635</td><td>675</td><td>73</td><td>0.309</td><td>0.252</td><td>0.371</td></tr><tr><td>862</td><td>817</td><td>91</td><td>0.346</td><td>0.276</td><td>0.428</td></tr><tr><td>786</td><td>806</td><td>85</td><td>0.328</td><td>0.261</td><td>0.43</td></tr><tr><td>741</td><td>720</td><td>91</td><td>0.328</td><td>0.265</td><td>0.401</td></tr><tr><td>823</td><td>698</td><td>92</td><td>0.339</td><td>0.268</td><td>0.434</td></tr><tr><td>788</td><td>758</td><td>89</td><td>0.336</td><td>0.262</td><td>0.418</td></tr><tr><td>806</td><td>789</td><td>81</td><td>0.333</td><td>0.26</td><td>0.428</td></tr><tr><td>702</td><td>749</td><td>80</td><td>0.327</td><td>0.254</td><td>0.41</td></tr><tr><td>723</td><td>744</td><td>80</td><td>0.33</td><td>0.264</td><td>0.403</td></tr><tr><td>668</td><td>763</td><td>65</td><td>0.332</td><td>0.26</td><td>0.378</td></tr><tr><td>760</td><td>801</td><td>78</td><td>0.335</td><td>0.272</td><td>0.428</td></tr><tr><td>783</td><td>669</td><td>90</td><td>0.324</td><td>0.26</td><td>0.43</td></tr><tr><td>798</td><td>693</td><td>95</td><td>0.34</td><td>0.263</td><td>0.378</td></tr><tr><td>823</td><td>849</td><td>75</td><td>0.333</td><td>0.266</td><td>0.43</td></tr><tr><td>845</td><td>655</td><td>96</td><td>0.336</td><td>0.269</td><td>0.446</td></tr><tr><td>615</td><td>719</td><td>72</td><td>0.319</td><td>0.25</td><td>0.381</td></tr><tr><td>708</td><td>760</td><td>73</td><td>0.327</td><td>0.258</td><td>0.395</td></tr><tr><td>794</td><td>696</td><td>95</td><td>0.346</td><td>0.271</td><td>0.415</td></tr><tr><td>786</td><td>684</td><td>92</td><td>0.338</td><td>0.255</td><td>0.404</td></tr><tr><td>680</td><td>781</td><td>70</td><td>0.318</td><td>0.256</td><td>0.398</td></tr><tr><td>644</td><td>699</td><td>72</td><td>0.31</td><td>0.247</td><td>0.363</td></tr><tr><td>732</td><td>717</td><td>86</td><td>0.325</td><td>0.254</td><td>0.387</td></tr><tr><td>831</td><td>841</td><td>84</td><td>0.337</td><td>0.284</td><td>0.43</td></tr><tr><td>798</td><td>714</td><td>87</td><td>0.338</td><td>0.263</td><td>0.424</td></tr><tr><td>654</td><td>569</td><td>96</td><td>0.322</td><td>0.255</td><td>0.381</td></tr><tr><td>654</td><td>673</td><td>76</td><td>0.313</td><td>0.252</td><td>0.39</td></tr><tr><td>638</td><td>679</td><td>73</td><td>0.313</td><td>0.251</td><td>0.37</td></tr><tr><td>667</td><td>734</td><td>77</td><td>0.321</td><td>0.255</td><td>0.385</td></tr><tr><td>741</td><td>839</td><td>71</td><td>0.325</td><td>0.261</td><td>0.428</td></tr><tr><td>637</td><td>688</td><td>78</td><td>0.322</td><td>0.254</td><td>0.379</td></tr><tr><td>783</td><td>578</td><td>108</td><td>0.339</td><td>0.263</td><td>0.401</td></tr><tr><td>797</td><td>738</td><td>90</td><td>0.347</td><td>0.271</td><td>0.43</td></tr><tr><td>731</td><td>760</td><td>76</td><td>0.322</td><td>0.252</td><td>0.39</td></tr><tr><td>739</td><td>713</td><td>86</td><td>0.327</td><td>0.253</td><td>0.4</td></tr><tr><td>663</td><td>700</td><td>64</td><td>0.321</td><td>0.25</td><td>0.374</td></tr><tr><td>656</td><td>723</td><td>74</td><td>0.321</td><td>0.261</td><td>0.388</td></tr><tr><td>718</td><td>835</td><td>67</td><td>0.326</td><td>0.253</td><td>0.399</td></tr><tr><td>698</td><td>618</td><td>83</td><td>0.322</td><td>0.253</td><td>0.375</td></tr><tr><td>601</td><td>611</td><td>79</td><td>0.309</td><td>0.236</td><td>0.327</td></tr><tr><td>771</td><td>743</td><td>87</td><td>0.331</td><td>0.267</td><td>0.428</td></tr><tr><td>809</td><td>733</td><td>86</td><td>0.329</td><td>0.269</td><td>0.427</td></tr><tr><td>632</td><td>781</td><td>66</td><td>0.315</td><td>0.246</td><td>0.363</td></tr><tr><td>818</td><td>764</td><td>83</td><td>0.336</td><td>0.263</td><td>0.43</td></tr><tr><td>800</td><td>720</td><td>81</td><td>0.347</td><td>0.282</td><td>0.429</td></tr><tr><td>732</td><td>703</td><td>90</td><td>0.333</td><td>0.251</td><td>0.386</td></tr><tr><td>686</td><td>729</td><td>77</td><td>0.324</td><td>0.254</td><td>0.39</td></tr><tr><td>736</td><td>720</td><td>85</td><td>0.315</td><td>0.253</td><td>0.392</td></tr><tr><td>677</td><td>666</td><td>89</td><td>0.327</td><td>0.255</td><td>0.376</td></tr><tr><td>729</td><td>861</td><td>60</td><td>0.324</td><td>0.265</td><td>0.385</td></tr><tr><td>729</td><td>688</td><td>84</td><td>0.318</td><td>0.253</td><td>0.424</td></tr><tr><td>706</td><td>691</td><td>83</td><td>0.319</td><td>0.261</td><td>0.388</td></tr><tr><td>687</td><td>639</td><td>91</td><td>0.313</td><td>0.252</td><td>0.401</td></tr><tr><td>682</td><td>579</td><td>95</td><td>0.328</td><td>0.261</td><td>0.382</td></tr><tr><td>690</td><td>802</td><td>71</td><td>0.319</td><td>0.263</td><td>0.379</td></tr><tr><td>705</td><td>782</td><td>77</td><td>0.326</td><td>0.264</td><td>0.407</td></tr><tr><td>633</td><td>636</td><td>84</td><td>0.31</td><td>0.247</td><td>0.375</td></tr><tr><td>695</td><td>568</td><td>98</td><td>0.323</td><td>0.257</td><td>0.385</td></tr><tr><td>839</td><td>660</td><td>97</td><td>0.344</td><td>0.267</td><td>0.425</td></tr><tr><td>757</td><td>787</td><td>77</td><td>0.325</td><td>0.264</td><td>0.401</td></tr><tr><td>667</td><td>673</td><td>75</td><td>0.312</td><td>0.245</td><td>0.383</td></tr><tr><td>568</td><td>708</td><td>57</td><td>0.311</td><td>0.247</td><td>0.347</td></tr><tr><td>650</td><td>622</td><td>83</td><td>0.32</td><td>0.255</td><td>0.368</td></tr><tr><td>719</td><td>818</td><td>74</td><td>0.326</td><td>0.255</td><td>0.412</td></tr><tr><td>556</td><td>674</td><td>62</td><td>0.299</td><td>0.233</td><td>0.348</td></tr><tr><td>747</td><td>572</td><td>101</td><td>0.335</td><td>0.264</td><td>0.379</td></tr><tr><td>617</td><td>785</td><td>62</td><td>0.322</td><td>0.253</td><td>0.381</td></tr><tr><td>759</td><td>588</td><td>99</td><td>0.331</td><td>0.269</td><td>0.425</td></tr><tr><td>632</td><td>655</td><td>80</td><td>0.317</td><td>0.247</td><td>0.361</td></tr><tr><td>681</td><td>667</td><td>85</td><td>0.328</td><td>0.252</td><td>0.391</td></tr><tr><td>810</td><td>764</td><td>86</td><td>0.341</td><td>0.283</td><td>0.441</td></tr><tr><td>696</td><td>697</td><td>81</td><td>0.319</td><td>0.249</td><td>0.381</td></tr><tr><td>762</td><td>658</td><td>96</td><td>0.331</td><td>0.26</td><td>0.397</td></tr><tr><td>679</td><td>736</td><td>74</td><td>0.314</td><td>0.247</td><td>0.395</td></tr><tr><td>627</td><td>747</td><td>70</td><td>0.313</td><td>0.244</td><td>0.356</td></tr><tr><td>761</td><td>766</td><td>75</td><td>0.335</td><td>0.265</td><td>0.384</td></tr><tr><td>829</td><td>643</td><td>104</td><td>0.342</td><td>0.271</td><td>0.432</td></tr><tr><td>693</td><td>630</td><td>80</td><td>0.323</td><td>0.264</td><td>0.371</td></tr><tr><td>673</td><td>686</td><td>84</td><td>0.317</td><td>0.268</td><td>0.399</td></tr><tr><td>580</td><td>600</td><td>79</td><td>0.306</td><td>0.244</td><td>0.348</td></tr><tr><td>641</td><td>734</td><td>67</td><td>0.317</td><td>0.262</td><td>0.37</td></tr><tr><td>673</td><td>675</td><td>81</td><td>0.318</td><td>0.265</td><td>0.385</td></tr><tr><td>593</td><td>585</td><td>78</td><td>0.312</td><td>0.251</td><td>0.362</td></tr><tr><td>652</td><td>676</td><td>90</td><td>0.32</td><td>0.257</td><td>0.369</td></tr><tr><td>758</td><td>679</td><td>87</td><td>0.339</td><td>0.276</td><td>0.404</td></tr><tr><td>738</td><td>796</td><td>77</td><td>0.327</td><td>0.259</td><td>0.404</td></tr><tr><td>720</td><td>690</td><td>81</td><td>0.333</td><td>0.266</td><td>0.407</td></tr><tr><td>615</td><td>567</td><td>75</td><td>0.31</td><td>0.255</td><td>0.363</td></tr><tr><td>686</td><td>634</td><td>92</td><td>0.317</td><td>0.259</td><td>0.371</td></tr><tr><td>682</td><td>774</td><td>74</td><td>0.324</td><td>0.258</td><td>0.384</td></tr><tr><td>682</td><td>807</td><td>66</td><td>0.328</td><td>0.265</td><td>0.375</td></tr><tr><td>652</td><td>645</td><td>84</td><td>0.317</td><td>0.252</td><td>0.351</td></tr><tr><td>656</td><td>714</td><td>69</td><td>0.313</td><td>0.261</td><td>0.377</td></tr><tr><td>750</td><td>696</td><td>89</td><td>0.331</td><td>0.273</td><td>0.421</td></tr><tr><td>746</td><td>640</td><td>88</td><td>0.341</td><td>0.272</td><td>0.4</td></tr><tr><td>799</td><td>652</td><td>98</td><td>0.34</td><td>0.269</td><td>0.421</td></tr><tr><td>724</td><td>775</td><td>78</td><td>0.335</td><td>0.27</td><td>0.409</td></tr><tr><td>722</td><td>779</td><td>70</td><td>0.322</td><td>0.26</td><td>0.393</td></tr><tr><td>701</td><td>719</td><td>71</td><td>0.319</td><td>0.261</td><td>0.401</td></tr><tr><td>800</td><td>650</td><td>99</td><td>0.329</td><td>0.262</td><td>0.413</td></tr><tr><td>623</td><td>710</td><td>74</td><td>0.314</td><td>0.239</td><td>0.356</td></tr><tr><td>704</td><td>785</td><td>70</td><td>0.338</td><td>0.265</td><td>0.369</td></tr><tr><td>789</td><td>679</td><td>92</td><td>0.335</td><td>0.274</td><td>0.427</td></tr><tr><td>643</td><td>646</td><td>85</td><td>0.32</td><td>0.257</td><td>0.375</td></tr><tr><td>696</td><td>767</td><td>79</td><td>0.32</td><td>0.271</td><td>0.397</td></tr><tr><td>654</td><td>609</td><td>91</td><td>0.318</td><td>0.25</td><td>0.379</td></tr><tr><td>764</td><td>708</td><td>87</td><td>0.333</td><td>0.277</td><td>0.418</td></tr><tr><td>709</td><td>822</td><td>70</td><td>0.319</td><td>0.261</td><td>0.401</td></tr><tr><td>677</td><td>646</td><td>82</td><td>0.326</td><td>0.264</td><td>0.386</td></tr><tr><td>575</td><td>680</td><td>68</td><td>0.3</td><td>0.241</td><td>0.344</td></tr><tr><td>770</td><td>703</td><td>91</td><td>0.337</td><td>0.273</td><td>0.416</td></tr><tr><td>708</td><td>782</td><td>74</td><td>0.326</td><td>0.262</td><td>0.381</td></tr><tr><td>696</td><td>635</td><td>90</td><td>0.329</td><td>0.249</td><td>0.373</td></tr><tr><td>659</td><td>648</td><td>84</td><td>0.325</td><td>0.264</td><td>0.383</td></tr><tr><td>653</td><td>653</td><td>81</td><td>0.311</td><td>0.25</td><td>0.351</td></tr><tr><td>558</td><td>740</td><td>60</td><td>0.301</td><td>0.24</td><td>0.36</td></tr><tr><td>687</td><td>697</td><td>79</td><td>0.325</td><td>0.247</td><td>0.375</td></tr><tr><td>679</td><td>710</td><td>79</td><td>0.335</td><td>0.27</td><td>0.384</td></tr><tr><td>639</td><td>609</td><td>77</td><td>0.31</td><td>0.255</td><td>0.366</td></tr><tr><td>795</td><td>726</td><td>89</td><td>0.338</td><td>0.277</td><td>0.436</td></tr><tr><td>739</td><td>702</td><td>89</td><td>0.325</td><td>0.256</td><td>0.383</td></tr><tr><td>774</td><td>687</td><td>94</td><td>0.341</td><td>0.266</td><td>0.419</td></tr><tr><td>753</td><td>713</td><td>89</td><td>0.34</td><td>0.274</td><td>0.407</td></tr><tr><td>814</td><td>670</td><td>93</td><td>0.347</td><td>0.274</td><td>0.433</td></tr><tr><td>676</td><td>709</td><td>73</td><td>0.317</td><td>0.26</td><td>0.375</td></tr><tr><td>786</td><td>710</td><td>87</td><td>0.337</td><td>0.273</td><td>0.413</td></tr><tr><td>545</td><td>661</td><td>61</td><td>0.31</td><td>0.251</td><td>0.35</td></tr><tr><td>683</td><td>748</td><td>78</td><td>0.341</td><td>0.262</td><td>0.373</td></tr><tr><td>729</td><td>685</td><td>83</td><td>0.324</td><td>0.266</td><td>0.418</td></tr><tr><td>569</td><td>620</td><td>77</td><td>0.302</td><td>0.247</td><td>0.349</td></tr><tr><td>784</td><td>717</td><td>90</td><td>0.337</td><td>0.285</td><td>0.428</td></tr><tr><td>691</td><td>612</td><td>88</td><td>0.327</td><td>0.264</td><td>0.388</td></tr><tr><td>891</td><td>717</td><td>95</td><td>0.335</td><td>0.279</td><td>0.455</td></tr><tr><td>657</td><td>819</td><td>60</td><td>0.316</td><td>0.257</td><td>0.396</td></tr><tr><td>697</td><td>616</td><td>86</td><td>0.325</td><td>0.262</td><td>0.396</td></tr><tr><td>609</td><td>723</td><td>65</td><td>0.305</td><td>0.247</td><td>0.35</td></tr><tr><td>709</td><td>716</td><td>79</td><td>0.328</td><td>0.256</td><td>0.398</td></tr><tr><td>691</td><td>819</td><td>68</td><td>0.309</td><td>0.236</td><td>0.367</td></tr><tr><td>664</td><td>654</td><td>89</td><td>0.323</td><td>0.26</td><td>0.376</td></tr><tr><td>724</td><td>696</td><td>84</td><td>0.327</td><td>0.273</td><td>0.408</td></tr><tr><td>675</td><td>658</td><td>81</td><td>0.311</td><td>0.257</td><td>0.359</td></tr><tr><td>651</td><td>712</td><td>76</td><td>0.311</td><td>0.254</td><td>0.381</td></tr><tr><td>673</td><td>687</td><td>87</td><td>0.327</td><td>0.253</td><td>0.376</td></tr><tr><td>685</td><td>609</td><td>92</td><td>0.334</td><td>0.264</td><td>0.364</td></tr><tr><td>590</td><td>749</td><td>64</td><td>0.308</td><td>0.249</td><td>0.359</td></tr><tr><td>651</td><td>701</td><td>78</td><td>0.314</td><td>0.262</td><td>0.383</td></tr><tr><td>630</td><td>660</td><td>81</td><td>0.307</td><td>0.25</td><td>0.38</td></tr><tr><td>805</td><td>640</td><td>100</td><td>0.342</td><td>0.273</td><td>0.413</td></tr><tr><td>757</td><td>767</td><td>83</td><td>0.34</td><td>0.283</td><td>0.436</td></tr><tr><td>698</td><td>797</td><td>65</td><td>0.332</td><td>0.265</td><td>0.378</td></tr><tr><td>614</td><td>728</td><td>64</td><td>0.309</td><td>0.251</td><td>0.365</td></tr><tr><td>587</td><td>722</td><td>70</td><td>0.311</td><td>0.259</td><td>0.37</td></tr><tr><td>707</td><td>670</td><td>89</td><td>0.327</td><td>0.262</td><td>0.386</td></tr><tr><td>738</td><td>807</td><td>79</td><td>0.35</td><td>0.277</td><td>0.381</td></tr><tr><td>830</td><td>757</td><td>84</td><td>0.348</td><td>0.273</td><td>0.409</td></tr><tr><td>637</td><td>589</td><td>93</td><td>0.326</td><td>0.261</td><td>0.367</td></tr><tr><td>809</td><td>694</td><td>97</td><td>0.345</td><td>0.286</td><td>0.413</td></tr><tr><td>663</td><td>591</td><td>92</td><td>0.323</td><td>0.263</td><td>0.388</td></tr><tr><td>811</td><td>682</td><td>86</td><td>0.329</td><td>0.275</td><td>0.448</td></tr><tr><td>670</td><td>724</td><td>77</td><td>0.319</td><td>0.265</td><td>0.381</td></tr><tr><td>694</td><td>629</td><td>90</td><td>0.324</td><td>0.257</td><td>0.388</td></tr><tr><td>611</td><td>702</td><td>67</td><td>0.319</td><td>0.257</td><td>0.345</td></tr><tr><td>820</td><td>662</td><td>103</td><td>0.343</td><td>0.267</td><td>0.425</td></tr><tr><td>686</td><td>642</td><td>83</td><td>0.322</td><td>0.259</td><td>0.385</td></tr><tr><td>728</td><td>639</td><td>91</td><td>0.327</td><td>0.27</td><td>0.4</td></tr><tr><td>666</td><td>646</td><td>83</td><td>0.322</td><td>0.266</td><td>0.388</td></tr><tr><td>591</td><td>654</td><td>73</td><td>0.324</td><td>0.255</td><td>0.342</td></tr><tr><td>610</td><td>793</td><td>59</td><td>0.308</td><td>0.248</td><td>0.356</td></tr><tr><td>573</td><td>634</td><td>75</td><td>0.308</td><td>0.244</td><td>0.342</td></tr><tr><td>738</td><td>710</td><td>74</td><td>0.328</td><td>0.275</td><td>0.4</td></tr><tr><td>756</td><td>752</td><td>76</td><td>0.339</td><td>0.284</td><td>0.405</td></tr><tr><td>624</td><td>762</td><td>67</td><td>0.309</td><td>0.251</td><td>0.383</td></tr><tr><td>669</td><td>763</td><td>66</td><td>0.318</td><td>0.256</td><td>0.377</td></tr><tr><td>757</td><td>582</td><td>102</td><td>0.336</td><td>0.261</td><td>0.419</td></tr><tr><td>841</td><td>711</td><td>91</td><td>0.344</td><td>0.283</td><td>0.456</td></tr><tr><td>866</td><td>768</td><td>88</td><td>0.351</td><td>0.282</td><td>0.429</td></tr><tr><td>706</td><td>707</td><td>80</td><td>0.329</td><td>0.269</td><td>0.403</td></tr><tr><td>730</td><td>748</td><td>73</td><td>0.333</td><td>0.275</td><td>0.41</td></tr><tr><td>731</td><td>644</td><td>90</td><td>0.338</td><td>0.264</td><td>0.396</td></tr><tr><td>760</td><td>805</td><td>81</td><td>0.34</td><td>0.258</td><td>0.384</td></tr><tr><td>770</td><td>738</td><td>84</td><td>0.339</td><td>0.269</td><td>0.415</td></tr><tr><td>583</td><td>582</td><td>89</td><td>0.315</td><td>0.256</td><td>0.344</td></tr><tr><td>851</td><td>816</td><td>85</td><td>0.343</td><td>0.282</td><td>0.422</td></tr><tr><td>739</td><td>717</td><td>79</td><td>0.331</td><td>0.263</td><td>0.412</td></tr><tr><td>807</td><td>722</td><td>95</td><td>0.345</td><td>0.28</td><td>0.448</td></tr><tr><td>764</td><td>725</td><td>82</td><td>0.341</td><td>0.278</td><td>0.402</td></tr><tr><td>701</td><td>581</td><td>95</td><td>0.319</td><td>0.264</td><td>0.408</td></tr><tr><td>593</td><td>706</td><td>63</td><td>0.313</td><td>0.25</td><td>0.35</td></tr><tr><td>734</td><td>672</td><td>89</td><td>0.328</td><td>0.266</td><td>0.406</td></tr><tr><td>573</td><td>860</td><td>54</td><td>0.302</td><td>0.239</td><td>0.346</td></tr><tr><td>683</td><td>718</td><td>84</td><td>0.34</td><td>0.266</td><td>0.396</td></tr><tr><td>775</td><td>643</td><td>98</td><td>0.33</td><td>0.272</td><td>0.416</td></tr><tr><td>603</td><td>681</td><td>68</td><td>0.311</td><td>0.242</td><td>0.348</td></tr><tr><td>711</td><td>820</td><td>67</td><td>0.331</td><td>0.269</td><td>0.404</td></tr><tr><td>672</td><td>751</td><td>71</td><td>0.319</td><td>0.246</td><td>0.365</td></tr><tr><td>731</td><td>693</td><td>86</td><td>0.331</td><td>0.278</td><td>0.401</td></tr><tr><td>750</td><td>698</td><td>83</td><td>0.334</td><td>0.278</td><td>0.409</td></tr><tr><td>613</td><td>862</td><td>53</td><td>0.311</td><td>0.251</td><td>0.363</td></tr><tr><td>600</td><td>750</td><td>69</td><td>0.315</td><td>0.244</td><td>0.363</td></tr><tr><td>659</td><td>633</td><td>90</td><td>0.326</td><td>0.258</td><td>0.396</td></tr><tr><td>796</td><td>657</td><td>99</td><td>0.336</td><td>0.267</td><td>0.424</td></tr><tr><td>691</td><td>666</td><td>87</td><td>0.33</td><td>0.259</td><td>0.37</td></tr><tr><td>664</td><td>724</td><td>79</td><td>0.331</td><td>0.264</td><td>0.361</td></tr><tr><td>634</td><td>731</td><td>71</td><td>0.317</td><td>0.264</td><td>0.379</td></tr><tr><td>710</td><td>688</td><td>92</td><td>0.334</td><td>0.256</td><td>0.393</td></tr><tr><td>639</td><td>694</td><td>69</td><td>0.323</td><td>0.261</td><td>0.379</td></tr><tr><td>714</td><td>653</td><td>86</td><td>0.339</td><td>0.271</td><td>0.392</td></tr><tr><td>605</td><td>634</td><td>74</td><td>0.313</td><td>0.258</td><td>0.355</td></tr><tr><td>743</td><td>634</td><td>92</td><td>0.329</td><td>0.268</td><td>0.399</td></tr><tr><td>727</td><td>573</td><td>95</td><td>0.338</td><td>0.264</td><td>0.402</td></tr><tr><td>804</td><td>650</td><td>93</td><td>0.339</td><td>0.276</td><td>0.432</td></tr><tr><td>666</td><td>678</td><td>73</td><td>0.339</td><td>0.267</td><td>0.375</td></tr><tr><td>633</td><td>611</td><td>76</td><td>0.306</td><td>0.254</td><td>0.379</td></tr><tr><td>607</td><td>690</td><td>66</td><td>0.314</td><td>0.245</td><td>0.352</td></tr><tr><td>735</td><td>582</td><td>100</td><td>0.329</td><td>0.267</td><td>0.388</td></tr><tr><td>532</td><td>690</td><td>69</td><td>0.303</td><td>0.245</td><td>0.351</td></tr><tr><td>708</td><td>586</td><td>90</td><td>0.328</td><td>0.258</td><td>0.388</td></tr><tr><td>684</td><td>637</td><td>88</td><td>0.32</td><td>0.257</td><td>0.385</td></tr><tr><td>591</td><td>598</td><td>84</td><td>0.321</td><td>0.252</td><td>0.348</td></tr><tr><td>614</td><td>834</td><td>56</td><td>0.314</td><td>0.248</td><td>0.359</td></tr><tr><td>613</td><td>594</td><td>89</td><td>0.318</td><td>0.248</td><td>0.374</td></tr><tr><td>600</td><td>657</td><td>69</td><td>0.303</td><td>0.249</td><td>0.358</td></tr><tr><td>692</td><td>632</td><td>87</td><td>0.332</td><td>0.253</td><td>0.381</td></tr><tr><td>590</td><td>775</td><td>59</td><td>0.308</td><td>0.25</td><td>0.359</td></tr><tr><td>678</td><td>895</td><td>61</td><td>0.32</td><td>0.254</td><td>0.376</td></tr><tr><td>719</td><td>653</td><td>97</td><td>0.329</td><td>0.261</td><td>0.393</td></tr><tr><td>859</td><td>712</td><td>97</td><td>0.345</td><td>0.281</td><td>0.465</td></tr><tr><td>675</td><td>695</td><td>74</td><td>0.324</td><td>0.255</td><td>0.386</td></tr><tr><td>692</td><td>739</td><td>81</td><td>0.33</td><td>0.266</td><td>0.387</td></tr><tr><td>844</td><td>771</td><td>90</td><td>0.344</td><td>0.278</td><td>0.444</td></tr><tr><td>802</td><td>725</td><td>88</td><td>0.345</td><td>0.274</td><td>0.436</td></tr><tr><td>676</td><td>739</td><td>71</td><td>0.334</td><td>0.269</td><td>0.38</td></tr><tr><td>714</td><td>751</td><td>74</td><td>0.318</td><td>0.264</td><td>0.41</td></tr><tr><td>680</td><td>650</td><td>81</td><td>0.32</td><td>0.254</td><td>0.385</td></tr><tr><td>822</td><td>651</td><td>102</td><td>0.34</td><td>0.277</td><td>0.436</td></tr><tr><td>769</td><td>582</td><td>98</td><td>0.336</td><td>0.266</td><td>0.418</td></tr><tr><td>639</td><td>765</td><td>67</td><td>0.314</td><td>0.258</td><td>0.389</td></tr><tr><td>867</td><td>776</td><td>84</td><td>0.348</td><td>0.282</td><td>0.417</td></tr><tr><td>665</td><td>736</td><td>75</td><td>0.318</td><td>0.26</td><td>0.402</td></tr><tr><td>587</td><td>663</td><td>64</td><td>0.313</td><td>0.244</td><td>0.346</td></tr><tr><td>831</td><td>651</td><td>100</td><td>0.344</td><td>0.281</td><td>0.444</td></tr><tr><td>605</td><td>749</td><td>63</td><td>0.308</td><td>0.24</td><td>0.352</td></tr><tr><td>847</td><td>668</td><td>101</td><td>0.346</td><td>0.279</td><td>0.448</td></tr><tr><td>734</td><td>665</td><td>96</td><td>0.331</td><td>0.274</td><td>0.413</td></tr><tr><td>692</td><td>834</td><td>69</td><td>0.324</td><td>0.249</td><td>0.375</td></tr><tr><td>624</td><td>855</td><td>64</td><td>0.312</td><td>0.256</td><td>0.381</td></tr><tr><td>673</td><td>711</td><td>75</td><td>0.323</td><td>0.253</td><td>0.383</td></tr><tr><td>737</td><td>688</td><td>83</td><td>0.33</td><td>0.27</td><td>0.388</td></tr><tr><td>767</td><td>657</td><td>94</td><td>0.342</td><td>0.27</td><td>0.405</td></tr><tr><td>605</td><td>822</td><td>54</td><td>0.316</td><td>0.252</td><td>0.365</td></tr><tr><td>620</td><td>700</td><td>70</td><td>0.32</td><td>0.245</td><td>0.334</td></tr><tr><td>619</td><td>598</td><td>88</td><td>0.31</td><td>0.243</td><td>0.358</td></tr><tr><td>716</td><td>660</td><td>83</td><td>0.324</td><td>0.263</td><td>0.402</td></tr><tr><td>550</td><td>631</td><td>76</td><td>0.306</td><td>0.235</td><td>0.318</td></tr><tr><td>611</td><td>728</td><td>75</td><td>0.313</td><td>0.251</td><td>0.356</td></tr><tr><td>586</td><td>745</td><td>64</td><td>0.314</td><td>0.255</td><td>0.349</td></tr><tr><td>857</td><td>633</td><td>102</td><td>0.357</td><td>0.28</td><td>0.424</td></tr><tr><td>615</td><td>615</td><td>81</td><td>0.321</td><td>0.263</td><td>0.359</td></tr><tr><td>609</td><td>709</td><td>74</td><td>0.315</td><td>0.257</td><td>0.365</td></tr><tr><td>625</td><td>657</td><td>80</td><td>0.322</td><td>0.256</td><td>0.347</td></tr><tr><td>713</td><td>611</td><td>90</td><td>0.327</td><td>0.269</td><td>0.371</td></tr><tr><td>608</td><td>543</td><td>92</td><td>0.313</td><td>0.251</td><td>0.349</td></tr><tr><td>570</td><td>655</td><td>66</td><td>0.311</td><td>0.246</td><td>0.34</td></tr><tr><td>743</td><td>704</td><td>85</td><td>0.341</td><td>0.274</td><td>0.375</td></tr><tr><td>531</td><td>734</td><td>55</td><td>0.291</td><td>0.235</td><td>0.34</td></tr><tr><td>615</td><td>538</td><td>86</td><td>0.319</td><td>0.246</td><td>0.352</td></tr><tr><td>730</td><td>575</td><td>97</td><td>0.328</td><td>0.269</td><td>0.389</td></tr><tr><td>686</td><td>598</td><td>87</td><td>0.323</td><td>0.246</td><td>0.361</td></tr><tr><td>770</td><td>557</td><td>101</td><td>0.338</td><td>0.272</td><td>0.395</td></tr><tr><td>708</td><td>630</td><td>92</td><td>0.321</td><td>0.267</td><td>0.391</td></tr><tr><td>570</td><td>662</td><td>73</td><td>0.31</td><td>0.247</td><td>0.337</td></tr><tr><td>595</td><td>686</td><td>74</td><td>0.312</td><td>0.246</td><td>0.345</td></tr><tr><td>629</td><td>671</td><td>72</td><td>0.323</td><td>0.26</td><td>0.359</td></tr><tr><td>616</td><td>652</td><td>76</td><td>0.321</td><td>0.25</td><td>0.341</td></tr><tr><td>583</td><td>739</td><td>67</td><td>0.313</td><td>0.244</td><td>0.346</td></tr><tr><td>682</td><td>553</td><td>90</td><td>0.326</td><td>0.252</td><td>0.373</td></tr><tr><td>796</td><td>709</td><td>95</td><td>0.344</td><td>0.275</td><td>0.417</td></tr><tr><td>628</td><td>723</td><td>72</td><td>0.322</td><td>0.246</td><td>0.328</td></tr><tr><td>712</td><td>827</td><td>75</td><td>0.338</td><td>0.259</td><td>0.368</td></tr><tr><td>655</td><td>703</td><td>75</td><td>0.331</td><td>0.255</td><td>0.358</td></tr><tr><td>840</td><td>586</td><td>108</td><td>0.353</td><td>0.271</td><td>0.401</td></tr><tr><td>688</td><td>703</td><td>79</td><td>0.327</td><td>0.261</td><td>0.392</td></tr><tr><td>570</td><td>786</td><td>57</td><td>0.301</td><td>0.249</td><td>0.366</td></tr><tr><td>664</td><td>711</td><td>64</td><td>0.32</td><td>0.254</td><td>0.359</td></tr><tr><td>710</td><td>649</td><td>91</td><td>0.333</td><td>0.261</td><td>0.394</td></tr><tr><td>648</td><td>534</td><td>88</td><td>0.325</td><td>0.248</td><td>0.365</td></tr><tr><td>675</td><td>792</td><td>68</td><td>0.32</td><td>0.25</td><td>0.389</td></tr><tr><td>724</td><td>736</td><td>76</td><td>0.341</td><td>0.271</td><td>0.386</td></tr><tr><td>601</td><td>690</td><td>75</td><td>0.317</td><td>0.244</td><td>0.348</td></tr><tr><td>646</td><td>625</td><td>82</td><td>0.319</td><td>0.256</td><td>0.361</td></tr><tr><td>681</td><td>588</td><td>83</td><td>0.325</td><td>0.264</td><td>0.382</td></tr><tr><td>758</td><td>606</td><td>98</td><td>0.333</td><td>0.254</td><td>0.391</td></tr><tr><td>735</td><td>694</td><td>86</td><td>0.342</td><td>0.269</td><td>0.402</td></tr><tr><td>712</td><td>565</td><td>92</td><td>0.323</td><td>0.263</td><td>0.402</td></tr><tr><td>552</td><td>683</td><td>71</td><td>0.31</td><td>0.244</td><td>0.335</td></tr><tr><td>659</td><td>671</td><td>80</td><td>0.333</td><td>0.259</td><td>0.365</td></tr><tr><td>662</td><td>689</td><td>82</td><td>0.327</td><td>0.273</td><td>0.375</td></tr><tr><td>714</td><td>733</td><td>79</td><td>0.33</td><td>0.256</td><td>0.371</td></tr><tr><td>661</td><td>563</td><td>88</td><td>0.319</td><td>0.249</td><td>0.363</td></tr><tr><td>659</td><td>612</td><td>91</td><td>0.322</td><td>0.256</td><td>0.37</td></tr><tr><td>696</td><td>661</td><td>84</td><td>0.333</td><td>0.264</td><td>0.377</td></tr><tr><td>618</td><td>657</td><td>68</td><td>0.321</td><td>0.254</td><td>0.356</td></tr><tr><td>669</td><td>826</td><td>66</td><td>0.327</td><td>0.251</td><td>0.365</td></tr><tr><td>684</td><td>721</td><td>80</td><td>0.33</td><td>0.268</td><td>0.389</td></tr><tr><td>776</td><td>631</td><td>98</td><td>0.343</td><td>0.26</td><td>0.394</td></tr><tr><td>662</td><td>694</td><td>77</td><td>0.311</td><td>0.255</td><td>0.37</td></tr><tr><td>620</td><td>768</td><td>72</td><td>0.303</td><td>0.247</td><td>0.366</td></tr><tr><td>653</td><td>632</td><td>81</td><td>0.322</td><td>0.263</td><td>0.378</td></tr><tr><td>667</td><td>662</td><td>77</td><td>0.327</td><td>0.259</td><td>0.364</td></tr><tr><td>798</td><td>561</td><td>102</td><td>0.342</td><td>0.272</td><td>0.401</td></tr><tr><td>647</td><td>660</td><td>76</td><td>0.309</td><td>0.244</td><td>0.369</td></tr><tr><td>673</td><td>669</td><td>82</td><td>0.336</td><td>0.272</td><td>0.378</td></tr><tr><td>662</td><td>657</td><td>79</td><td>0.335</td><td>0.254</td><td>0.35</td></tr><tr><td>572</td><td>646</td><td>71</td><td>0.311</td><td>0.235</td><td>0.329</td></tr><tr><td>671</td><td>623</td><td>89</td><td>0.324</td><td>0.263</td><td>0.368</td></tr><tr><td>689</td><td>551</td><td>90</td><td>0.321</td><td>0.247</td><td>0.373</td></tr><tr><td>676</td><td>701</td><td>80</td><td>0.32</td><td>0.261</td><td>0.373</td></tr><tr><td>751</td><td>657</td><td>88</td><td>0.335</td><td>0.274</td><td>0.391</td></tr><tr><td>541</td><td>830</td><td>60</td><td>0.302</td><td>0.229</td><td>0.33</td></tr><tr><td>634</td><td>723</td><td>72</td><td>0.322</td><td>0.252</td><td>0.358</td></tr><tr><td>677</td><td>643</td><td>86</td><td>0.331</td><td>0.265</td><td>0.365</td></tr><tr><td>690</td><td>698</td><td>83</td><td>0.336</td><td>0.272</td><td>0.377</td></tr><tr><td>799</td><td>774</td><td>76</td><td>0.339</td><td>0.266</td><td>0.427</td></tr><tr><td>754</td><td>561</td><td>97</td><td>0.345</td><td>0.266</td><td>0.389</td></tr><tr><td>738</td><td>647</td><td>89</td><td>0.338</td><td>0.267</td><td>0.401</td></tr><tr><td>629</td><td>657</td><td>79</td><td>0.318</td><td>0.253</td><td>0.348</td></tr></tbody></table>Showing the first 1000 rows.</div>"
      ]
     },
     "metadata": {
      "application/vnd.databricks.v1+output": {
       "addedWidgets": {},
       "aggData": [],
       "aggError": "",
       "aggOverflow": false,
       "aggSchema": [],
       "aggSeriesLimitReached": false,
       "aggType": "",
       "arguments": {},
       "columnCustomDisplayInfos": {},
       "data": [
        [
         734,
         688,
         81,
         0.328,
         0.259,
         0.418
        ],
        [
         700,
         600,
         94,
         0.32,
         0.247,
         0.389
        ],
        [
         712,
         705,
         93,
         0.311,
         0.247,
         0.417
        ],
        [
         734,
         806,
         69,
         0.315,
         0.26,
         0.415
        ],
        [
         613,
         759,
         61,
         0.302,
         0.24,
         0.378
        ],
        [
         748,
         676,
         85,
         0.318,
         0.255,
         0.422
        ],
        [
         669,
         588,
         97,
         0.315,
         0.251,
         0.411
        ],
        [
         667,
         845,
         68,
         0.324,
         0.251,
         0.381
        ],
        [
         758,
         890,
         64,
         0.33,
         0.274,
         0.436
        ],
        [
         726,
         670,
         88,
         0.335,
         0.268,
         0.422
        ],
        [
         583,
         794,
         55,
         0.302,
         0.236,
         0.371
        ],
        [
         676,
         746,
         72,
         0.317,
         0.265,
         0.4
        ],
        [
         767,
         699,
         89,
         0.332,
         0.274,
         0.433
        ],
        [
         637,
         597,
         86,
         0.317,
         0.252,
         0.374
        ],
        [
         609,
         724,
         69,
         0.308,
         0.244,
         0.382
        ],
        [
         776,
         733,
         83,
         0.325,
         0.259,
         0.437
        ],
        [
         701,
         832,
         66,
         0.325,
         0.26,
         0.39
        ],
        [
         650,
         709,
         74,
         0.316,
         0.249,
         0.386
        ],
        [
         804,
         668,
         95,
         0.337,
         0.265,
         0.453
        ],
        [
         713,
         614,
         94,
         0.31,
         0.238,
         0.404
        ],
        [
         684,
         680,
         81,
         0.317,
         0.255,
         0.4
        ],
        [
         651,
         674,
         79,
         0.304,
         0.243,
         0.395
        ],
        [
         651,
         710,
         76,
         0.319,
         0.247,
         0.38
        ],
        [
         619,
         651,
         75,
         0.296,
         0.234,
         0.369
        ],
        [
         718,
         649,
         94,
         0.327,
         0.269,
         0.397
        ],
        [
         765,
         648,
         88,
         0.338,
         0.271,
         0.421
        ],
        [
         697,
         577,
         90,
         0.317,
         0.24,
         0.394
        ],
        [
         808,
         707,
         93,
         0.334,
         0.273,
         0.446
        ],
        [
         716,
         784,
         73,
         0.309,
         0.245,
         0.407
        ],
        [
         731,
         594,
         98,
         0.322,
         0.261,
         0.428
        ],
        [
         731,
         662,
         94,
         0.322,
         0.25,
         0.413
        ],
        [
         641,
         605,
         89,
         0.308,
         0.243,
         0.387
        ],
        [
         708,
         860,
         69,
         0.316,
         0.257,
         0.413
        ],
        [
         875,
         737,
         90,
         0.349,
         0.28,
         0.461
        ],
        [
         654,
         756,
         71,
         0.314,
         0.256,
         0.401
        ],
        [
         654,
         706,
         79,
         0.319,
         0.252,
         0.388
        ],
        [
         735,
         720,
         79,
         0.326,
         0.256,
         0.408
        ],
        [
         704,
         760,
         80,
         0.317,
         0.25,
         0.396
        ],
        [
         735,
         774,
         73,
         0.329,
         0.258,
         0.41
        ],
        [
         787,
         711,
         95,
         0.34,
         0.277,
         0.434
        ],
        [
         625,
         702,
         72,
         0.318,
         0.247,
         0.388
        ],
        [
         615,
         796,
         56,
         0.311,
         0.258,
         0.374
        ],
        [
         730,
         762,
         71,
         0.329,
         0.275,
         0.415
        ],
        [
         667,
         633,
         86,
         0.313,
         0.253,
         0.402
        ],
        [
         644,
         612,
         82,
         0.322,
         0.257,
         0.375
        ],
        [
         721,
         638,
         96,
         0.325,
         0.261,
         0.425
        ],
        [
         619,
         804,
         63,
         0.306,
         0.247,
         0.36
        ],
        [
         718,
         742,
         77,
         0.335,
         0.264,
         0.391
        ],
        [
         867,
         657,
         97,
         0.343,
         0.263,
         0.444
        ],
        [
         645,
         679,
         74,
         0.311,
         0.244,
         0.369
        ],
        [
         713,
         529,
         102,
         0.323,
         0.253,
         0.395
        ],
        [
         610,
         712,
         72,
         0.309,
         0.244,
         0.368
        ],
        [
         593,
         611,
         71,
         0.305,
         0.237,
         0.349
        ],
        [
         556,
         675,
         67,
         0.292,
         0.233,
         0.348
        ],
        [
         570,
         578,
         86,
         0.303,
         0.242,
         0.368
        ],
        [
         762,
         692,
         90,
         0.341,
         0.273,
         0.425
        ],
        [
         707,
         614,
         91,
         0.322,
         0.244,
         0.402
        ],
        [
         855,
         677,
         96,
         0.34,
         0.283,
         0.46
        ],
        [
         743,
         761,
         81,
         0.317,
         0.249,
         0.413
        ],
        [
         624,
         643,
         80,
         0.309,
         0.242,
         0.383
        ],
        [
         713,
         836,
         65,
         0.325,
         0.25,
         0.416
        ],
        [
         738,
         629,
         91,
         0.339,
         0.258,
         0.401
        ],
        [
         613,
         785,
         66,
         0.316,
         0.259,
         0.386
        ],
        [
         818,
         744,
         89,
         0.339,
         0.268,
         0.451
        ],
        [
         685,
         767,
         75,
         0.32,
         0.257,
         0.401
        ],
        [
         752,
         704,
         88,
         0.332,
         0.268,
         0.42
        ],
        [
         790,
         685,
         91,
         0.338,
         0.272,
         0.436
        ],
        [
         646,
         752,
         69,
         0.322,
         0.248,
         0.378
        ],
        [
         770,
         717,
         83,
         0.336,
         0.263,
         0.425
        ],
        [
         751,
         743,
         81,
         0.335,
         0.268,
         0.415
        ],
        [
         719,
         717,
         80,
         0.321,
         0.254,
         0.403
        ],
        [
         611,
         729,
         76,
         0.303,
         0.247,
         0.362
        ],
        [
         676,
         845,
         67,
         0.331,
         0.274,
         0.399
        ],
        [
         681,
         702,
         80,
         0.311,
         0.248,
         0.39
        ],
        [
         667,
         692,
         80,
         0.322,
         0.252,
         0.379
        ],
        [
         750,
         804,
         77,
         0.335,
         0.262,
         0.424
        ],
        [
         781,
         671,
         94,
         0.341,
         0.273,
         0.422
        ],
        [
         656,
         652,
         79,
         0.314,
         0.249,
         0.383
        ],
        [
         859,
         693,
         95,
         0.35,
         0.267,
         0.436
        ],
        [
         663,
         626,
         81,
         0.324,
         0.256,
         0.378
        ],
        [
         772,
         640,
         97,
         0.332,
         0.26,
         0.413
        ],
        [
         587,
         866,
         57,
         0.304,
         0.242,
         0.373
        ],
        [
         665,
         581,
         90,
         0.317,
         0.246,
         0.371
        ],
        [
         513,
         698,
         61,
         0.298,
         0.236,
         0.339
        ],
        [
         697,
         583,
         92,
         0.321,
         0.257,
         0.408
        ],
        [
         736,
         641,
         86,
         0.332,
         0.263,
         0.402
        ],
        [
         802,
         649,
         96,
         0.333,
         0.247,
         0.403
        ],
        [
         787,
         687,
         90,
         0.338,
         0.276,
         0.419
        ],
        [
         755,
         728,
         85,
         0.312,
         0.248,
         0.454
        ],
        [
         655,
         742,
         69,
         0.318,
         0.25,
         0.39
        ],
        [
         720,
         782,
         70,
         0.324,
         0.253,
         0.418
        ],
        [
         735,
         641,
         86,
         0.339,
         0.263,
         0.405
        ],
        [
         741,
         876,
         64,
         0.332,
         0.268,
         0.415
        ],
        [
         872,
         736,
         95,
         0.352,
         0.27,
         0.454
        ],
        [
         707,
         672,
         83,
         0.332,
         0.255,
         0.407
        ],
        [
         724,
         732,
         79,
         0.329,
         0.258,
         0.411
        ],
        [
         673,
         723,
         78,
         0.318,
         0.247,
         0.394
        ],
        [
         773,
         865,
         65,
         0.339,
         0.264,
         0.417
        ],
        [
         804,
         715,
         92,
         0.343,
         0.261,
         0.441
        ],
        [
         743,
         745,
         86,
         0.331,
         0.26,
         0.416
        ],
        [
         772,
         766,
         87,
         0.34,
         0.268,
         0.416
        ],
        [
         643,
         770,
         74,
         0.319,
         0.26,
         0.4
        ],
        [
         686,
         842,
         65,
         0.318,
         0.259,
         0.405
        ],
        [
         883,
         761,
         97,
         0.35,
         0.285,
         0.441
        ],
        [
         780,
         611,
         95,
         0.346,
         0.27,
         0.412
        ],
        [
         785,
         818,
         80,
         0.341,
         0.263,
         0.426
        ],
        [
         817,
         765,
         87,
         0.345,
         0.274,
         0.429
        ],
        [
         671,
         757,
         70,
         0.335,
         0.27,
         0.394
        ],
        [
         915,
         753,
         103,
         0.362,
         0.283,
         0.478
        ],
        [
         759,
         761,
         75,
         0.328,
         0.262,
         0.397
        ],
        [
         820,
         709,
         93,
         0.334,
         0.258,
         0.447
        ],
        [
         636,
         768,
         62,
         0.318,
         0.252,
         0.387
        ],
        [
         638,
         769,
         75,
         0.321,
         0.242,
         0.381
        ],
        [
         640,
         692,
         85,
         0.314,
         0.258,
         0.402
        ],
        [
         657,
         611,
         88,
         0.309,
         0.257,
         0.389
        ],
        [
         730,
         640,
         91,
         0.332,
         0.263,
         0.415
        ],
        [
         803,
         754,
         84,
         0.343,
         0.263,
         0.439
        ],
        [
         784,
         740,
         87,
         0.32,
         0.26,
         0.445
        ],
        [
         798,
         771,
         75,
         0.333,
         0.266,
         0.44
        ],
        [
         710,
         874,
         59,
         0.337,
         0.258,
         0.406
        ],
        [
         720,
         706,
         82,
         0.327,
         0.251,
         0.415
        ],
        [
         753,
         778,
         72,
         0.345,
         0.27,
         0.408
        ],
        [
         782,
         869,
         68,
         0.333,
         0.267,
         0.429
        ],
        [
         845,
         694,
         95,
         0.358,
         0.28,
         0.447
        ],
        [
         855,
         671,
         97,
         0.354,
         0.278,
         0.443
        ],
        [
         811,
         729,
         89,
         0.332,
         0.263,
         0.448
        ],
        [
         704,
         800,
         74,
         0.321,
         0.247,
         0.408
        ],
        [
         805,
         761,
         81,
         0.339,
         0.262,
         0.424
        ],
        [
         747,
         822,
         74,
         0.336,
         0.263,
         0.415
        ],
        [
         821,
         857,
         74,
         0.34,
         0.271,
         0.444
        ],
        [
         770,
         767,
         84,
         0.326,
         0.254,
         0.433
        ],
        [
         712,
         743,
         86,
         0.323,
         0.263,
         0.415
        ],
        [
         691,
         781,
         75,
         0.32,
         0.269,
         0.397
        ],
        [
         765,
         697,
         100,
         0.33,
         0.268,
         0.413
        ],
        [
         700,
         648,
         84,
         0.333,
         0.264,
         0.399
        ],
        [
         750,
         689,
         90,
         0.325,
         0.253,
         0.431
        ],
        [
         829,
         745,
         88,
         0.34,
         0.279,
         0.408
        ],
        [
         799,
         715,
         89,
         0.34,
         0.266,
         0.42
        ],
        [
         789,
         727,
         89,
         0.342,
         0.271,
         0.427
        ],
        [
         646,
         690,
         75,
         0.318,
         0.242,
         0.369
        ],
        [
         799,
         680,
         92,
         0.332,
         0.255,
         0.438
        ],
        [
         735,
         884,
         67,
         0.32,
         0.258,
         0.403
        ],
        [
         637,
         764,
         63,
         0.317,
         0.25,
         0.39
        ],
        [
         671,
         811,
         61,
         0.318,
         0.265,
         0.389
        ],
        [
         640,
         759,
         72,
         0.321,
         0.262,
         0.382
        ],
        [
         779,
         725,
         86,
         0.35,
         0.281,
         0.433
        ],
        [
         774,
         671,
         97,
         0.34,
         0.26,
         0.422
        ],
        [
         901,
         967,
         79,
         0.354,
         0.283,
         0.462
        ],
        [
         714,
         610,
         86,
         0.331,
         0.264,
         0.399
        ],
        [
         641,
         825,
         59,
         0.323,
         0.251,
         0.373
        ],
        [
         712,
         732,
         90,
         0.321,
         0.25,
         0.413
        ],
        [
         810,
         733,
         84,
         0.339,
         0.275,
         0.435
        ],
        [
         756,
         868,
         69,
         0.333,
         0.272,
         0.412
        ],
        [
         867,
         657,
         96,
         0.362,
         0.279,
         0.444
        ],
        [
         752,
         690,
         85,
         0.333,
         0.271,
         0.422
        ],
        [
         693,
         839,
         72,
         0.318,
         0.246,
         0.404
        ],
        [
         783,
         853,
         72,
         0.335,
         0.267,
         0.436
        ],
        [
         811,
         704,
         96,
         0.343,
         0.268,
         0.428
        ],
        [
         860,
         758,
         90,
         0.354,
         0.28,
         0.437
        ],
        [
         887,
         797,
         88,
         0.345,
         0.287,
         0.458
        ],
        [
         790,
         891,
         71,
         0.336,
         0.267,
         0.448
        ],
        [
         723,
         813,
         73,
         0.33,
         0.26,
         0.412
        ],
        [
         706,
         778,
         69,
         0.322,
         0.261,
         0.388
        ],
        [
         822,
         731,
         94,
         0.345,
         0.284,
         0.417
        ],
        [
         735,
         727,
         82,
         0.337,
         0.275,
         0.406
        ],
        [
         801,
         776,
         83,
         0.329,
         0.262,
         0.456
        ],
        [
         718,
         725,
         79,
         0.33,
         0.264,
         0.391
        ],
        [
         804,
         750,
         88,
         0.342,
         0.275,
         0.432
        ],
        [
         968,
         777,
         94,
         0.366,
         0.29,
         0.463
        ],
        [
         741,
         758,
         76,
         0.338,
         0.256,
         0.407
        ],
        [
         892,
         821,
         89,
         0.354,
         0.274,
         0.458
        ],
        [
         724,
         846,
         68,
         0.325,
         0.263,
         0.411
        ],
        [
         741,
         666,
         89,
         0.322,
         0.251,
         0.411
        ],
        [
         794,
         813,
         88,
         0.337,
         0.287,
         0.425
        ],
        [
         683,
         720,
         71,
         0.322,
         0.254,
         0.387
        ],
        [
         725,
         829,
         78,
         0.337,
         0.274,
         0.405
        ],
        [
         782,
         944,
         66,
         0.336,
         0.268,
         0.433
        ],
        [
         816,
         844,
         75,
         0.328,
         0.263,
         0.426
        ],
        [
         753,
         699,
         83,
         0.327,
         0.259,
         0.419
        ],
        [
         673,
         783,
         73,
         0.325,
         0.256,
         0.39
        ],
        [
         773,
         788,
         76,
         0.331,
         0.267,
         0.424
        ],
        [
         849,
         805,
         79,
         0.337,
         0.27,
         0.455
        ],
        [
         768,
         899,
         70,
         0.339,
         0.277,
         0.424
        ],
        [
         820,
         825,
         86,
         0.351,
         0.269,
         0.435
        ],
        [
         716,
         834,
         66,
         0.319,
         0.268,
         0.422
        ],
        [
         868,
         794,
         90,
         0.342,
         0.28,
         0.464
        ],
        [
         749,
         801,
         80,
         0.336,
         0.257,
         0.432
        ],
        [
         870,
         782,
         78,
         0.349,
         0.28,
         0.457
        ],
        [
         813,
         812,
         76,
         0.341,
         0.27,
         0.433
        ],
        [
         822,
         675,
         95,
         0.329,
         0.274,
         0.449
        ],
        [
         758,
         772,
         78,
         0.331,
         0.264,
         0.435
        ],
        [
         735,
         719,
         82,
         0.332,
         0.255,
         0.409
        ],
        [
         757,
         971,
         62,
         0.332,
         0.271,
         0.411
        ],
        [
         766,
         732,
         89,
         0.334,
         0.274,
         0.425
        ],
        [
         820,
         751,
         88,
         0.348,
         0.276,
         0.432
        ],
        [
         730,
         833,
         75,
         0.327,
         0.258,
         0.42
        ],
        [
         801,
         683,
         96,
         0.347,
         0.287,
         0.425
        ],
        [
         834,
         731,
         97,
         0.334,
         0.264,
         0.445
        ],
        [
         930,
         767,
         97,
         0.363,
         0.285,
         0.461
        ],
        [
         771,
         727,
         93,
         0.34,
         0.26,
         0.412
        ],
        [
         865,
         812,
         85,
         0.347,
         0.267,
         0.447
        ],
        [
         691,
         797,
         67,
         0.327,
         0.263,
         0.397
        ],
        [
         731,
         679,
         88,
         0.332,
         0.263,
         0.416
        ],
        [
         756,
         792,
         78,
         0.325,
         0.272,
         0.424
        ],
        [
         746,
         790,
         76,
         0.324,
         0.259,
         0.422
        ],
        [
         781,
         762,
         83,
         0.337,
         0.269,
         0.431
        ],
        [
         689,
         856,
         61,
         0.314,
         0.255,
         0.42
        ],
        [
         835,
         784,
         80,
         0.338,
         0.278,
         0.446
        ],
        [
         809,
         754,
         87,
         0.348,
         0.284,
         0.463
        ],
        [
         746,
         872,
         71,
         0.338,
         0.262,
         0.418
        ],
        [
         696,
         856,
         77,
         0.332,
         0.256,
         0.421
        ],
        [
         769,
         674,
         90,
         0.333,
         0.265,
         0.435
        ],
        [
         729,
         800,
         74,
         0.327,
         0.269,
         0.434
        ],
        [
         910,
         805,
         95,
         0.357,
         0.281,
         0.454
        ],
        [
         703,
         714,
         79,
         0.324,
         0.27,
         0.44
        ],
        [
         741,
         645,
         99,
         0.322,
         0.262,
         0.425
        ],
        [
         820,
         889,
         73,
         0.339,
         0.261,
         0.446
        ],
        [
         790,
         642,
         93,
         0.334,
         0.271,
         0.453
        ],
        [
         740,
         862,
         67,
         0.333,
         0.267,
         0.411
        ],
        [
         723,
         787,
         71,
         0.321,
         0.272,
         0.428
        ],
        [
         717,
         732,
         83,
         0.339,
         0.272,
         0.409
        ],
        [
         693,
         609,
         89,
         0.322,
         0.256,
         0.408
        ],
        [
         701,
         935,
         56,
         0.32,
         0.263,
         0.396
        ],
        [
         761,
         643,
         95,
         0.325,
         0.27,
         0.409
        ],
        [
         685,
         755,
         71,
         0.326,
         0.253,
         0.395
        ],
        [
         726,
         697,
         81,
         0.331,
         0.259,
         0.423
        ],
        [
         688,
         662,
         83,
         0.323,
         0.259,
         0.391
        ],
        [
         722,
         648,
         83,
         0.322,
         0.258,
         0.416
        ],
        [
         886,
         789,
         95,
         0.355,
         0.276,
         0.45
        ],
        [
         772,
         658,
         88,
         0.33,
         0.262,
         0.407
        ],
        [
         807,
         726,
         88,
         0.348,
         0.27,
         0.423
        ],
        [
         680,
         769,
         67,
         0.322,
         0.259,
         0.4
        ],
        [
         684,
         726,
         82,
         0.333,
         0.257,
         0.391
        ],
        [
         699,
         751,
         69,
         0.317,
         0.256,
         0.391
        ],
        [
         649,
         745,
         75,
         0.319,
         0.261,
         0.396
        ],
        [
         805,
         634,
         100,
         0.339,
         0.27,
         0.423
        ],
        [
         750,
         936,
         67,
         0.329,
         0.274,
         0.425
        ],
        [
         865,
         858,
         79,
         0.329,
         0.267,
         0.468
        ],
        [
         775,
         705,
         80,
         0.331,
         0.265,
         0.407
        ],
        [
         639,
         673,
         81,
         0.322,
         0.252,
         0.386
        ],
        [
         836,
         734,
         92,
         0.341,
         0.282,
         0.429
        ],
        [
         615,
         899,
         51,
         0.31,
         0.253,
         0.393
        ],
        [
         803,
         668,
         96,
         0.343,
         0.27,
         0.434
        ],
        [
         842,
         830,
         78,
         0.345,
         0.281,
         0.432
        ],
        [
         949,
         768,
         98,
         0.36,
         0.282,
         0.472
        ],
        [
         789,
         665,
         89,
         0.328,
         0.268,
         0.458
        ],
        [
         865,
         831,
         83,
         0.333,
         0.268,
         0.457
        ],
        [
         750,
         907,
         76,
         0.331,
         0.25,
         0.418
        ],
        [
         858,
         857,
         80,
         0.351,
         0.276,
         0.444
        ],
        [
         833,
         923,
         68,
         0.345,
         0.275,
         0.455
        ],
        [
         827,
         844,
         72,
         0.337,
         0.272,
         0.449
        ],
        [
         718,
         700,
         83,
         0.329,
         0.264,
         0.406
        ],
        [
         803,
         698,
         92,
         0.342,
         0.267,
         0.436
        ],
        [
         720,
         905,
         58,
         0.322,
         0.259,
         0.397
        ],
        [
         761,
         684,
         93,
         0.332,
         0.262,
         0.423
        ],
        [
         634,
         757,
         67,
         0.321,
         0.248,
         0.387
        ],
        [
         780,
         715,
         92,
         0.332,
         0.266,
         0.431
        ],
        [
         635,
         769,
         67,
         0.313,
         0.249,
         0.392
        ],
        [
         684,
         731,
         71,
         0.317,
         0.249,
         0.409
        ],
        [
         897,
         808,
         101,
         0.353,
         0.268,
         0.458
        ],
        [
         793,
         742,
         91,
         0.343,
         0.27,
         0.433
        ],
        [
         840,
         781,
         86,
         0.345,
         0.267,
         0.443
        ],
        [
         680,
         744,
         72,
         0.321,
         0.26,
         0.401
        ],
        [
         768,
         705,
         87,
         0.342,
         0.273,
         0.414
        ],
        [
         698,
         823,
         63,
         0.331,
         0.27,
         0.396
        ],
        [
         850,
         770,
         91,
         0.357,
         0.27,
         0.438
        ],
        [
         855,
         659,
         105,
         0.344,
         0.278,
         0.46
        ],
        [
         714,
         842,
         70,
         0.32,
         0.258,
         0.405
        ],
        [
         860,
         794,
         89,
         0.329,
         0.266,
         0.457
        ],
        [
         719,
         823,
         67,
         0.328,
         0.26,
         0.403
        ],
        [
         736,
         743,
         77,
         0.33,
         0.268,
         0.413
        ],
        [
         717,
         685,
         84,
         0.33,
         0.263,
         0.417
        ],
        [
         907,
         740,
         101,
         0.349,
         0.284,
         0.475
        ],
        [
         743,
         820,
         71,
         0.323,
         0.268,
         0.405
        ],
        [
         961,
         809,
         95,
         0.36,
         0.289,
         0.491
        ],
        [
         724,
         683,
         88,
         0.323,
         0.259,
         0.416
        ],
        [
         791,
         715,
         86,
         0.331,
         0.263,
         0.446
        ],
        [
         694,
         886,
         69,
         0.318,
         0.245,
         0.395
        ],
        [
         699,
         778,
         68,
         0.316,
         0.254,
         0.401
        ],
        [
         853,
         892,
         74,
         0.344,
         0.267,
         0.445
        ],
        [
         591,
         928,
         43,
         0.3,
         0.24,
         0.375
        ],
        [
         751,
         692,
         91,
         0.333,
         0.266,
         0.421
        ],
        [
         805,
         677,
         87,
         0.336,
         0.263,
         0.431
        ],
        [
         836,
         867,
         83,
         0.336,
         0.274,
         0.427
        ],
        [
         574,
         556,
         85,
         0.303,
         0.243,
         0.368
        ],
        [
         714,
         873,
         68,
         0.329,
         0.256,
         0.419
        ],
        [
         801,
         758,
         90,
         0.341,
         0.277,
         0.431
        ],
        [
         711,
         716,
         83,
         0.326,
         0.258,
         0.401
        ],
        [
         642,
         754,
         66,
         0.314,
         0.247,
         0.374
        ],
        [
         877,
         716,
         101,
         0.356,
         0.271,
         0.453
        ],
        [
         768,
         643,
         96,
         0.327,
         0.254,
         0.417
        ],
        [
         791,
         697,
         86,
         0.343,
         0.261,
         0.419
        ],
        [
         753,
         801,
         75,
         0.338,
         0.267,
         0.42
        ],
        [
         678,
         831,
         64,
         0.333,
         0.261,
         0.388
        ],
        [
         795,
         637,
         93,
         0.344,
         0.271,
         0.41
        ],
        [
         755,
         638,
         100,
         0.338,
         0.264,
         0.425
        ],
        [
         876,
         796,
         85,
         0.35,
         0.279,
         0.454
        ],
        [
         715,
         852,
         63,
         0.32,
         0.265,
         0.404
        ],
        [
         826,
         969,
         71,
         0.33,
         0.266,
         0.454
        ],
        [
         894,
         826,
         86,
         0.349,
         0.279,
         0.455
        ],
        [
         851,
         644,
         99,
         0.341,
         0.282,
         0.433
        ],
        [
         819,
         674,
         98,
         0.346,
         0.267,
         0.423
        ],
        [
         708,
         565,
         101,
         0.331,
         0.26,
         0.409
        ],
        [
         667,
         773,
         67,
         0.309,
         0.246,
         0.403
        ],
        [
         859,
         665,
         93,
         0.345,
         0.277,
         0.444
        ],
        [
         706,
         759,
         67,
         0.321,
         0.246,
         0.413
        ],
        [
         856,
         798,
         81,
         0.338,
         0.268,
         0.449
        ],
        [
         709,
         774,
         78,
         0.33,
         0.253,
         0.408
        ],
        [
         739,
         837,
         74,
         0.321,
         0.249,
         0.412
        ],
        [
         778,
         898,
         73,
         0.337,
         0.274,
         0.423
        ],
        [
         575,
         864,
         55,
         0.3,
         0.248,
         0.379
        ],
        [
         699,
         763,
         79,
         0.337,
         0.261,
         0.403
        ],
        [
         749,
         695,
         84,
         0.338,
         0.262,
         0.417
        ],
        [
         737,
         891,
         62,
         0.323,
         0.256,
         0.398
        ],
        [
         713,
         643,
         92,
         0.32,
         0.264,
         0.409
        ],
        [
         627,
         821,
         56,
         0.32,
         0.253,
         0.39
        ],
        [
         768,
         712,
         94,
         0.332,
         0.272,
         0.437
        ],
        [
         735,
         718,
         83,
         0.334,
         0.261,
         0.418
        ],
        [
         690,
         703,
         75,
         0.322,
         0.256,
         0.395
        ],
        [
         897,
         697,
         103,
         0.354,
         0.275,
         0.455
        ],
        [
         800,
         654,
         103,
         0.339,
         0.261,
         0.432
        ],
        [
         710,
         724,
         80,
         0.339,
         0.259,
         0.422
        ],
        [
         641,
         730,
         72,
         0.319,
         0.244,
         0.381
        ],
        [
         662,
         815,
         66,
         0.321,
         0.253,
         0.381
        ],
        [
         814,
         699,
         93,
         0.35,
         0.275,
         0.419
        ],
        [
         783,
         616,
         95,
         0.344,
         0.267,
         0.442
        ],
        [
         787,
         648,
         97,
         0.338,
         0.268,
         0.425
        ],
        [
         673,
         918,
         55,
         0.314,
         0.253,
         0.39
        ],
        [
         843,
         882,
         72,
         0.338,
         0.269,
         0.455
        ],
        [
         813,
         828,
         78,
         0.327,
         0.261,
         0.43
        ],
        [
         691,
         730,
         75,
         0.327,
         0.261,
         0.405
        ],
        [
         818,
         677,
         92,
         0.341,
         0.267,
         0.442
        ],
        [
         729,
         643,
         88,
         0.324,
         0.26,
         0.412
        ],
        [
         687,
         829,
         63,
         0.319,
         0.248,
         0.38
        ],
        [
         772,
         745,
         82,
         0.334,
         0.266,
         0.439
        ],
        [
         777,
         701,
         88,
         0.336,
         0.261,
         0.43
        ],
        [
         798,
         795,
         83,
         0.334,
         0.268,
         0.451
        ],
        [
         735,
         850,
         66,
         0.324,
         0.262,
         0.419
        ],
        [
         897,
         821,
         91,
         0.35,
         0.278,
         0.458
        ],
        [
         923,
         906,
         73,
         0.354,
         0.292,
         0.483
        ],
        [
         724,
         876,
         66,
         0.32,
         0.26,
         0.409
        ],
        [
         742,
         744,
         76,
         0.326,
         0.264,
         0.423
        ],
        [
         847,
         769,
         93,
         0.347,
         0.271,
         0.451
        ],
        [
         729,
         858,
         65,
         0.318,
         0.266,
         0.409
        ],
        [
         758,
         744,
         86,
         0.323,
         0.255,
         0.425
        ],
        [
         740,
         806,
         68,
         0.319,
         0.251,
         0.426
        ],
        [
         771,
         766,
         85,
         0.337,
         0.272,
         0.433
        ],
        [
         670,
         812,
         68,
         0.319,
         0.253,
         0.396
        ],
        [
         642,
         713,
         82,
         0.323,
         0.249,
         0.387
        ],
        [
         804,
         713,
         95,
         0.334,
         0.267,
         0.435
        ],
        [
         884,
         645,
         102,
         0.345,
         0.264,
         0.439
        ],
        [
         746,
         719,
         86,
         0.329,
         0.26,
         0.414
        ],
        [
         657,
         858,
         62,
         0.313,
         0.247,
         0.393
        ],
        [
         789,
         812,
         79,
         0.336,
         0.252,
         0.399
        ],
        [
         927,
         627,
         116,
         0.36,
         0.288,
         0.445
        ],
        [
         799,
         748,
         90,
         0.342,
         0.266,
         0.46
        ],
        [
         814,
         684,
         93,
         0.339,
         0.27,
         0.441
        ],
        [
         672,
         887,
         62,
         0.32,
         0.258,
         0.388
        ],
        [
         890,
         968,
         73,
         0.344,
         0.275,
         0.471
        ],
        [
         767,
         753,
         80,
         0.325,
         0.263,
         0.43
        ],
        [
         864,
         869,
         82,
         0.352,
         0.28,
         0.472
        ],
        [
         792,
         754,
         85,
         0.333,
         0.265,
         0.429
        ],
        [
         810,
         714,
         95,
         0.346,
         0.271,
         0.429
        ],
        [
         794,
         913,
         74,
         0.341,
         0.272,
         0.435
        ],
        [
         792,
         745,
         85,
         0.341,
         0.267,
         0.423
        ],
        [
         764,
         904,
         65,
         0.335,
         0.256,
         0.411
        ],
        [
         978,
         839,
         95,
         0.356,
         0.286,
         0.47
        ],
        [
         825,
         765,
         85,
         0.343,
         0.274,
         0.447
        ],
        [
         950,
         816,
         90,
         0.367,
         0.288,
         0.47
        ],
        [
         968,
         897,
         82,
         0.362,
         0.294,
         0.455
        ],
        [
         823,
         827,
         79,
         0.343,
         0.275,
         0.438
        ],
        [
         731,
         797,
         79,
         0.331,
         0.262,
         0.409
        ],
        [
         938,
         944,
         72,
         0.361,
         0.278,
         0.477
        ],
        [
         879,
         930,
         77,
         0.348,
         0.288,
         0.425
        ],
        [
         798,
         729,
         86,
         0.341,
         0.257,
         0.431
        ],
        [
         740,
         826,
         73,
         0.325,
         0.246,
         0.403
        ],
        [
         748,
         880,
         69,
         0.337,
         0.27,
         0.407
        ],
        [
         738,
         902,
         67,
         0.326,
         0.266,
         0.432
        ],
        [
         807,
         738,
         94,
         0.346,
         0.263,
         0.43
        ],
        [
         871,
         814,
         87,
         0.354,
         0.277,
         0.45
        ],
        [
         947,
         813,
         91,
         0.36,
         0.27,
         0.458
        ],
        [
         708,
         830,
         65,
         0.329,
         0.251,
         0.4
        ],
        [
         793,
         888,
         69,
         0.339,
         0.267,
         0.424
        ],
        [
         752,
         815,
         76,
         0.33,
         0.254,
         0.402
        ],
        [
         907,
         780,
         91,
         0.361,
         0.269,
         0.442
        ],
        [
         925,
         747,
         97,
         0.362,
         0.278,
         0.472
        ],
        [
         887,
         771,
         95,
         0.356,
         0.27,
         0.455
        ],
        [
         733,
         842,
         69,
         0.329,
         0.257,
         0.399
        ],
        [
         848,
         974,
         71,
         0.352,
         0.283,
         0.446
        ],
        [
         861,
         908,
         83,
         0.341,
         0.275,
         0.469
        ],
        [
         711,
         826,
         70,
         0.322,
         0.256,
         0.395
        ],
        [
         908,
         676,
         100,
         0.347,
         0.277,
         0.459
        ],
        [
         840,
         661,
         103,
         0.341,
         0.266,
         0.436
        ],
        [
         851,
         815,
         78,
         0.353,
         0.279,
         0.447
        ],
        [
         836,
         718,
         94,
         0.35,
         0.278,
         0.448
        ],
        [
         747,
         920,
         67,
         0.329,
         0.257,
         0.42
        ],
        [
         777,
         870,
         75,
         0.337,
         0.277,
         0.429
        ],
        [
         865,
         711,
         96,
         0.341,
         0.272,
         0.451
        ],
        [
         1009,
         860,
         97,
         0.373,
         0.289,
         0.467
        ],
        [
         906,
         1028,
         72,
         0.348,
         0.288,
         0.472
        ],
        [
         747,
         882,
         69,
         0.326,
         0.261,
         0.443
        ],
        [
         691,
         852,
         64,
         0.325,
         0.263,
         0.395
        ],
        [
         823,
         675,
         97,
         0.355,
         0.267,
         0.42
        ],
        [
         856,
         921,
         64,
         0.348,
         0.282,
         0.433
        ],
        [
         793,
         787,
         77,
         0.339,
         0.266,
         0.42
        ],
        [
         815,
         886,
         74,
         0.353,
         0.273,
         0.426
        ],
        [
         686,
         845,
         63,
         0.328,
         0.264,
         0.384
        ],
        [
         718,
         853,
         68,
         0.323,
         0.265,
         0.427
        ],
        [
         853,
         711,
         97,
         0.363,
         0.279,
         0.434
        ],
        [
         900,
         731,
         98,
         0.366,
         0.282,
         0.453
        ],
        [
         893,
         846,
         87,
         0.355,
         0.259,
         0.446
        ],
        [
         841,
         846,
         77,
         0.351,
         0.275,
         0.431
        ],
        [
         775,
         782,
         78,
         0.334,
         0.259,
         0.419
        ],
        [
         710,
         781,
         74,
         0.332,
         0.252,
         0.393
        ],
        [
         859,
         905,
         79,
         0.343,
         0.269,
         0.455
        ],
        [
         872,
         831,
         86,
         0.356,
         0.271,
         0.434
        ],
        [
         809,
         838,
         75,
         0.338,
         0.262,
         0.426
        ],
        [
         772,
         913,
         69,
         0.343,
         0.274,
         0.411
        ],
        [
         945,
         859,
         95,
         0.361,
         0.293,
         0.479
        ],
        [
         883,
         862,
         84,
         0.352,
         0.28,
         0.457
        ],
        [
         787,
         783,
         85,
         0.335,
         0.272,
         0.415
        ],
        [
         665,
         812,
         65,
         0.314,
         0.246,
         0.393
        ],
        [
         826,
         581,
         106,
         0.342,
         0.272,
         0.453
        ],
        [
         817,
         785,
         79,
         0.347,
         0.273,
         0.447
        ],
        [
         876,
         729,
         92,
         0.348,
         0.28,
         0.463
        ],
        [
         831,
         792,
         90,
         0.337,
         0.264,
         0.433
        ],
        [
         861,
         931,
         80,
         0.339,
         0.271,
         0.444
        ],
        [
         750,
         760,
         77,
         0.337,
         0.262,
         0.402
        ],
        [
         850,
         779,
         89,
         0.347,
         0.272,
         0.448
        ],
        [
         826,
         855,
         77,
         0.347,
         0.291,
         0.461
        ],
        [
         722,
         863,
         65,
         0.323,
         0.264,
         0.415
        ],
        [
         667,
         923,
         54,
         0.317,
         0.248,
         0.373
        ],
        [
         874,
         620,
         102,
         0.356,
         0.28,
         0.436
        ],
        [
         714,
         899,
         72,
         0.324,
         0.263,
         0.399
        ],
        [
         669,
         678,
         83,
         0.31,
         0.252,
         0.387
        ],
        [
         707,
         812,
         74,
         0.33,
         0.26,
         0.396
        ],
        [
         734,
         818,
         70,
         0.328,
         0.266,
         0.389
        ],
        [
         644,
         783,
         65,
         0.31,
         0.249,
         0.394
        ],
        [
         706,
         645,
         88,
         0.33,
         0.259,
         0.394
        ],
        [
         965,
         656,
         114,
         0.364,
         0.288,
         0.46
        ],
        [
         804,
         866,
         74,
         0.338,
         0.257,
         0.397
        ],
        [
         713,
         808,
         75,
         0.326,
         0.264,
         0.395
        ],
        [
         650,
         718,
         69,
         0.311,
         0.254,
         0.374
        ],
        [
         749,
         635,
         98,
         0.33,
         0.253,
         0.409
        ],
        [
         859,
         855,
         76,
         0.345,
         0.276,
         0.468
        ],
        [
         845,
         739,
         89,
         0.353,
         0.274,
         0.421
        ],
        [
         810,
         782,
         83,
         0.341,
         0.258,
         0.441
        ],
        [
         620,
         751,
         63,
         0.321,
         0.261,
         0.385
        ],
        [
         940,
         871,
         88,
         0.357,
         0.289,
         0.462
        ],
        [
         816,
         768,
         88,
         0.34,
         0.266,
         0.448
        ],
        [
         829,
         794,
         84,
         0.346,
         0.272,
         0.416
        ],
        [
         791,
         581,
         101,
         0.343,
         0.27,
         0.426
        ],
        [
         812,
         681,
         98,
         0.341,
         0.268,
         0.429
        ],
        [
         851,
         857,
         78,
         0.352,
         0.291,
         0.463
        ],
        [
         687,
         759,
         68,
         0.321,
         0.263,
         0.396
        ],
        [
         779,
         833,
         80,
         0.341,
         0.273,
         0.417
        ],
        [
         651,
         764,
         76,
         0.321,
         0.253,
         0.389
        ],
        [
         868,
         815,
         86,
         0.358,
         0.286,
         0.467
        ],
        [
         923,
         908,
         83,
         0.357,
         0.288,
         0.478
        ],
        [
         784,
         790,
         79,
         0.332,
         0.258,
         0.415
        ],
        [
         740,
         669,
         92,
         0.346,
         0.259,
         0.395
        ],
        [
         777,
         660,
         84,
         0.344,
         0.259,
         0.403
        ],
        [
         747,
         820,
         67,
         0.333,
         0.264,
         0.407
        ],
        [
         742,
         645,
         88,
         0.33,
         0.268,
         0.418
        ],
        [
         681,
         742,
         78,
         0.325,
         0.26,
         0.398
        ],
        [
         772,
         861,
         68,
         0.333,
         0.27,
         0.409
        ],
        [
         691,
         740,
         78,
         0.316,
         0.258,
         0.425
        ],
        [
         777,
         709,
         88,
         0.332,
         0.262,
         0.405
        ],
        [
         891,
         688,
         96,
         0.362,
         0.287,
         0.436
        ],
        [
         764,
         946,
         65,
         0.339,
         0.26,
         0.423
        ],
        [
         668,
         840,
         68,
         0.322,
         0.255,
         0.385
        ],
        [
         725,
         760,
         79,
         0.329,
         0.262,
         0.404
        ],
        [
         795,
         891,
         76,
         0.342,
         0.271,
         0.407
        ],
        [
         925,
         833,
         90,
         0.355,
         0.28,
         0.485
        ],
        [
         784,
         793,
         90,
         0.337,
         0.258,
         0.414
        ],
        [
         689,
         708,
         73,
         0.324,
         0.255,
         0.396
        ],
        [
         807,
         823,
         77,
         0.334,
         0.274,
         0.438
        ],
        [
         654,
         694,
         76,
         0.31,
         0.244,
         0.389
        ],
        [
         773,
         648,
         96,
         0.333,
         0.27,
         0.432
        ],
        [
         949,
         903,
         88,
         0.35,
         0.274,
         0.472
        ],
        [
         928,
         921,
         85,
         0.359,
         0.283,
         0.457
        ],
        [
         762,
         943,
         70,
         0.339,
         0.276,
         0.431
        ],
        [
         772,
         771,
         76,
         0.32,
         0.251,
         0.401
        ],
        [
         898,
         794,
         85,
         0.36,
         0.281,
         0.447
        ],
        [
         778,
         773,
         81,
         0.331,
         0.256,
         0.422
        ],
        [
         952,
         769,
         99,
         0.369,
         0.293,
         0.475
        ],
        [
         961,
         964,
         83,
         0.355,
         0.287,
         0.472
        ],
        [
         783,
         1103,
         53,
         0.323,
         0.256,
         0.42
        ],
        [
         688,
         703,
         80,
         0.329,
         0.257,
         0.393
        ],
        [
         753,
         792,
         82,
         0.336,
         0.262,
         0.397
        ],
        [
         746,
         786,
         75,
         0.332,
         0.267,
         0.398
        ],
        [
         703,
         652,
         90,
         0.316,
         0.252,
         0.384
        ],
        [
         894,
         899,
         80,
         0.353,
         0.279,
         0.441
        ],
        [
         877,
         900,
         78,
         0.357,
         0.288,
         0.425
        ],
        [
         741,
         668,
         88,
         0.327,
         0.262,
         0.406
        ],
        [
         746,
         779,
         71,
         0.324,
         0.27,
         0.412
        ],
        [
         871,
         787,
         92,
         0.36,
         0.288,
         0.436
        ],
        [
         861,
         900,
         78,
         0.344,
         0.265,
         0.452
        ],
        [
         650,
         790,
         67,
         0.325,
         0.256,
         0.387
        ],
        [
         776,
         833,
         73,
         0.329,
         0.266,
         0.407
        ],
        [
         771,
         682,
         91,
         0.338,
         0.265,
         0.402
        ],
        [
         993,
         895,
         85,
         0.366,
         0.287,
         0.484
        ],
        [
         752,
         862,
         68,
         0.331,
         0.253,
         0.388
        ],
        [
         759,
         706,
         88,
         0.33,
         0.267,
         0.407
        ],
        [
         928,
         799,
         90,
         0.358,
         0.284,
         0.469
        ],
        [
         766,
         809,
         74,
         0.331,
         0.259,
         0.42
        ],
        [
         767,
         559,
         104,
         0.331,
         0.262,
         0.408
        ],
        [
         786,
         745,
         85,
         0.346,
         0.267,
         0.413
        ],
        [
         686,
         698,
         80,
         0.33,
         0.264,
         0.395
        ],
        [
         684,
         770,
         71,
         0.331,
         0.26,
         0.38
        ],
        [
         738,
         739,
         84,
         0.325,
         0.27,
         0.414
        ],
        [
         776,
         664,
         94,
         0.338,
         0.265,
         0.411
        ],
        [
         722,
         785,
         73,
         0.324,
         0.264,
         0.396
        ],
        [
         790,
         813,
         76,
         0.335,
         0.275,
         0.409
        ],
        [
         758,
         967,
         67,
         0.323,
         0.273,
         0.422
        ],
        [
         899,
         837,
         85,
         0.362,
         0.275,
         0.434
        ],
        [
         581,
         724,
         64,
         0.314,
         0.248,
         0.346
        ],
        [
         716,
         630,
         85,
         0.33,
         0.267,
         0.409
        ],
        [
         675,
         694,
         84,
         0.32,
         0.263,
         0.397
        ],
        [
         675,
         662,
         81,
         0.321,
         0.261,
         0.383
        ],
        [
         733,
         792,
         69,
         0.328,
         0.258,
         0.378
        ],
        [
         693,
         830,
         71,
         0.327,
         0.264,
         0.385
        ],
        [
         732,
         682,
         94,
         0.326,
         0.257,
         0.386
        ],
        [
         672,
         744,
         59,
         0.305,
         0.248,
         0.39
        ],
        [
         821,
         761,
         88,
         0.353,
         0.279,
         0.435
        ],
        [
         715,
         846,
         68,
         0.33,
         0.254,
         0.394
        ],
        [
         877,
         740,
         97,
         0.351,
         0.274,
         0.426
        ],
        [
         707,
         806,
         75,
         0.335,
         0.267,
         0.393
        ],
        [
         679,
         772,
         61,
         0.312,
         0.252,
         0.389
        ],
        [
         734,
         731,
         82,
         0.339,
         0.26,
         0.406
        ],
        [
         808,
         636,
         103,
         0.34,
         0.276,
         0.427
        ],
        [
         758,
         744,
         87,
         0.341,
         0.272,
         0.395
        ],
        [
         835,
         751,
         86,
         0.329,
         0.267,
         0.431
        ],
        [
         847,
         742,
         95,
         0.35,
         0.279,
         0.436
        ],
        [
         682,
         569,
         98,
         0.316,
         0.254,
         0.388
        ],
        [
         705,
         656,
         89,
         0.34,
         0.259,
         0.398
        ],
        [
         599,
         669,
         73,
         0.321,
         0.246,
         0.347
        ],
        [
         579,
         671,
         72,
         0.301,
         0.243,
         0.338
        ],
        [
         593,
         624,
         78,
         0.307,
         0.254,
         0.364
        ],
        [
         738,
         690,
         86,
         0.336,
         0.261,
         0.383
        ],
        [
         660,
         609,
         90,
         0.328,
         0.26,
         0.382
        ],
        [
         674,
         746,
         76,
         0.323,
         0.266,
         0.383
        ],
        [
         791,
         794,
         75,
         0.337,
         0.256,
         0.407
        ],
        [
         608,
         668,
         81,
         0.313,
         0.246,
         0.359
        ],
        [
         610,
         667,
         72,
         0.315,
         0.256,
         0.364
        ],
        [
         548,
         636,
         63,
         0.313,
         0.248,
         0.339
        ],
        [
         740,
         604,
         92,
         0.33,
         0.268,
         0.375
        ],
        [
         747,
         653,
         90,
         0.341,
         0.277,
         0.391
        ],
        [
         648,
         581,
         87,
         0.313,
         0.252,
         0.37
        ],
        [
         599,
         653,
         72,
         0.31,
         0.235,
         0.342
        ],
        [
         733,
         746,
         76,
         0.328,
         0.261,
         0.406
        ],
        [
         745,
         672,
         96,
         0.346,
         0.258,
         0.386
        ],
        [
         686,
         717,
         70,
         0.32,
         0.253,
         0.377
        ],
        [
         693,
         595,
         96,
         0.324,
         0.255,
         0.381
        ],
        [
         617,
         636,
         82,
         0.313,
         0.255,
         0.386
        ],
        [
         679,
         799,
         64,
         0.323,
         0.263,
         0.402
        ],
        [
         574,
         647,
         72,
         0.302,
         0.244,
         0.355
        ],
        [
         631,
         604,
         83,
         0.323,
         0.262,
         0.375
        ],
        [
         682,
         753,
         77,
         0.321,
         0.25,
         0.393
        ],
        [
         780,
         682,
         96,
         0.333,
         0.263,
         0.414
        ],
        [
         749,
         644,
         94,
         0.328,
         0.258,
         0.393
        ],
        [
         686,
         796,
         67,
         0.319,
         0.254,
         0.401
        ],
        [
         731,
         712,
         84,
         0.34,
         0.269,
         0.401
        ],
        [
         653,
         649,
         81,
         0.314,
         0.255,
         0.374
        ],
        [
         695,
         734,
         77,
         0.309,
         0.253,
         0.39
        ],
        [
         758,
         681,
         87,
         0.336,
         0.262,
         0.391
        ],
        [
         689,
         691,
         74,
         0.32,
         0.258,
         0.403
        ],
        [
         576,
         759,
         57,
         0.313,
         0.254,
         0.35
        ],
        [
         817,
         794,
         84,
         0.333,
         0.247,
         0.416
        ],
        [
         605,
         717,
         65,
         0.309,
         0.244,
         0.347
        ],
        [
         727,
         722,
         82,
         0.328,
         0.264,
         0.394
        ],
        [
         665,
         565,
         93,
         0.326,
         0.253,
         0.359
        ],
        [
         799,
         744,
         83,
         0.336,
         0.271,
         0.396
        ],
        [
         776,
         652,
         95,
         0.344,
         0.28,
         0.42
        ],
        [
         579,
         655,
         71,
         0.308,
         0.246,
         0.357
        ],
        [
         640,
         646,
         77,
         0.317,
         0.244,
         0.365
        ],
        [
         674,
         777,
         71,
         0.316,
         0.256,
         0.387
        ],
        [
         760,
         776,
         84,
         0.331,
         0.248,
         0.389
        ],
        [
         629,
         680,
         78,
         0.303,
         0.241,
         0.358
        ],
        [
         768,
         632,
         98,
         0.338,
         0.263,
         0.398
        ],
        [
         636,
         646,
         84,
         0.31,
         0.244,
         0.362
        ],
        [
         702,
         674,
         83,
         0.328,
         0.255,
         0.383
        ],
        [
         649,
         697,
         75,
         0.309,
         0.246,
         0.381
        ],
        [
         651,
         648,
         84,
         0.322,
         0.255,
         0.357
        ],
        [
         829,
         814,
         85,
         0.341,
         0.27,
         0.424
        ],
        [
         684,
         622,
         91,
         0.322,
         0.257,
         0.4
        ],
        [
         682,
         821,
         65,
         0.311,
         0.25,
         0.396
        ],
        [
         669,
         698,
         76,
         0.33,
         0.245,
         0.37
        ],
        [
         699,
         664,
         88,
         0.344,
         0.272,
         0.395
        ],
        [
         690,
         706,
         80,
         0.329,
         0.26,
         0.391
        ],
        [
         690,
         774,
         77,
         0.314,
         0.263,
         0.392
        ],
        [
         682,
         633,
         94,
         0.32,
         0.258,
         0.379
        ],
        [
         693,
         597,
         91,
         0.325,
         0.265,
         0.399
        ],
        [
         732,
         737,
         77,
         0.324,
         0.267,
         0.391
        ],
        [
         750,
         754,
         79,
         0.337,
         0.259,
         0.409
        ],
        [
         573,
         656,
         75,
         0.313,
         0.242,
         0.345
        ],
        [
         707,
         709,
         75,
         0.328,
         0.267,
         0.395
        ],
        [
         728,
         685,
         86,
         0.328,
         0.262,
         0.382
        ],
        [
         732,
         760,
         74,
         0.32,
         0.256,
         0.384
        ],
        [
         666,
         729,
         74,
         0.324,
         0.265,
         0.385
        ],
        [
         662,
         598,
         85,
         0.322,
         0.25,
         0.37
        ],
        [
         775,
         613,
         91,
         0.323,
         0.256,
         0.408
        ],
        [
         603,
         749,
         67,
         0.3,
         0.241,
         0.366
        ],
        [
         733,
         570,
         103,
         0.336,
         0.254,
         0.391
        ],
        [
         646,
         729,
         77,
         0.327,
         0.255,
         0.363
        ],
        [
         733,
         619,
         95,
         0.33,
         0.259,
         0.405
        ],
        [
         673,
         673,
         75,
         0.32,
         0.257,
         0.38
        ],
        [
         640,
         680,
         77,
         0.333,
         0.259,
         0.373
        ],
        [
         719,
         710,
         85,
         0.323,
         0.262,
         0.396
        ],
        [
         599,
         698,
         70,
         0.32,
         0.256,
         0.358
        ],
        [
         676,
         696,
         83,
         0.331,
         0.259,
         0.376
        ],
        [
         767,
         661,
         86,
         0.328,
         0.265,
         0.419
        ],
        [
         584,
         680,
         63,
         0.298,
         0.234,
         0.35
        ],
        [
         708,
         686,
         87,
         0.326,
         0.252,
         0.379
        ],
        [
         774,
         735,
         83,
         0.351,
         0.277,
         0.403
        ],
        [
         669,
         578,
         91,
         0.311,
         0.256,
         0.386
        ],
        [
         702,
         623,
         93,
         0.319,
         0.261,
         0.387
        ],
        [
         693,
         750,
         69,
         0.328,
         0.271,
         0.383
        ],
        [
         632,
         691,
         75,
         0.309,
         0.247,
         0.37
        ],
        [
         604,
         654,
         73,
         0.31,
         0.245,
         0.365
        ],
        [
         617,
         816,
         59,
         0.318,
         0.242,
         0.351
        ],
        [
         647,
         669,
         86,
         0.306,
         0.239,
         0.345
        ],
        [
         690,
         635,
         92,
         0.329,
         0.261,
         0.373
        ],
        [
         554,
         536,
         77,
         0.306,
         0.24,
         0.339
        ],
        [
         707,
         679,
         81,
         0.318,
         0.259,
         0.382
        ],
        [
         740,
         738,
         80,
         0.334,
         0.276,
         0.402
        ],
        [
         632,
         630,
         81,
         0.319,
         0.247,
         0.361
        ],
        [
         683,
         595,
         87,
         0.311,
         0.246,
         0.385
        ],
        [
         698,
         792,
         74,
         0.331,
         0.269,
         0.391
        ],
        [
         712,
         576,
         99,
         0.331,
         0.261,
         0.381
        ],
        [
         629,
         735,
         67,
         0.314,
         0.243,
         0.364
        ],
        [
         637,
         680,
         74,
         0.311,
         0.241,
         0.359
        ],
        [
         642,
         626,
         89,
         0.319,
         0.251,
         0.369
        ],
        [
         694,
         728,
         73,
         0.32,
         0.257,
         0.384
        ],
        [
         699,
         600,
         92,
         0.316,
         0.25,
         0.39
        ],
        [
         632,
         608,
         86,
         0.321,
         0.258,
         0.363
        ],
        [
         695,
         714,
         83,
         0.326,
         0.263,
         0.394
        ],
        [
         731,
         651,
         89,
         0.323,
         0.26,
         0.398
        ],
        [
         555,
         741,
         54,
         0.298,
         0.242,
         0.348
        ],
        [
         550,
         789,
         54,
         0.305,
         0.238,
         0.359
        ],
        [
         813,
         689,
         89,
         0.357,
         0.283,
         0.42
        ],
        [
         714,
         771,
         75,
         0.321,
         0.261,
         0.385
        ],
        [
         660,
         694,
         77,
         0.31,
         0.261,
         0.383
        ],
        [
         631,
         757,
         71,
         0.303,
         0.244,
         0.37
        ],
        [
         641,
         596,
         87,
         0.309,
         0.246,
         0.368
        ],
        [
         666,
         731,
         78,
         0.314,
         0.261,
         0.387
        ],
        [
         703,
         658,
         88,
         0.324,
         0.25,
         0.378
        ],
        [
         617,
         631,
         82,
         0.306,
         0.244,
         0.351
        ],
        [
         704,
         648,
         84,
         0.321,
         0.259,
         0.391
        ],
        [
         628,
         544,
         94,
         0.305,
         0.248,
         0.352
        ],
        [
         682,
         616,
         87,
         0.314,
         0.257,
         0.375
        ],
        [
         759,
         672,
         91,
         0.34,
         0.274,
         0.421
        ],
        [
         628,
         592,
         81,
         0.309,
         0.251,
         0.373
        ],
        [
         703,
         532,
         100,
         0.325,
         0.256,
         0.396
        ],
        [
         772,
         748,
         85,
         0.333,
         0.263,
         0.395
        ],
        [
         800,
         620,
         104,
         0.336,
         0.263,
         0.399
        ],
        [
         597,
         734,
         65,
         0.306,
         0.239,
         0.355
        ],
        [
         651,
         616,
         85,
         0.317,
         0.247,
         0.369
        ],
        [
         594,
         583,
         83,
         0.31,
         0.247,
         0.351
        ],
        [
         664,
         744,
         68,
         0.317,
         0.257,
         0.398
        ],
        [
         670,
         626,
         83,
         0.318,
         0.248,
         0.368
        ],
        [
         578,
         633,
         76,
         0.309,
         0.249,
         0.337
        ],
        [
         637,
         735,
         70,
         0.32,
         0.252,
         0.368
        ],
        [
         763,
         680,
         87,
         0.332,
         0.268,
         0.419
        ],
        [
         747,
         829,
         69,
         0.339,
         0.258,
         0.403
        ],
        [
         729,
         880,
         67,
         0.322,
         0.258,
         0.418
        ],
        [
         842,
         825,
         78,
         0.352,
         0.278,
         0.43
        ],
        [
         770,
         803,
         75,
         0.326,
         0.252,
         0.401
        ],
        [
         720,
         801,
         76,
         0.326,
         0.264,
         0.432
        ],
        [
         748,
         746,
         77,
         0.319,
         0.258,
         0.415
        ],
        [
         783,
         752,
         84,
         0.33,
         0.266,
         0.427
        ],
        [
         742,
         957,
         61,
         0.324,
         0.263,
         0.422
        ],
        [
         896,
         735,
         98,
         0.349,
         0.272,
         0.451
        ],
        [
         648,
         678,
         76,
         0.318,
         0.253,
         0.373
        ],
        [
         715,
         691,
         83,
         0.328,
         0.262,
         0.412
        ],
        [
         635,
         675,
         73,
         0.309,
         0.252,
         0.371
        ],
        [
         862,
         817,
         91,
         0.346,
         0.276,
         0.428
        ],
        [
         786,
         806,
         85,
         0.328,
         0.261,
         0.43
        ],
        [
         741,
         720,
         91,
         0.328,
         0.265,
         0.401
        ],
        [
         823,
         698,
         92,
         0.339,
         0.268,
         0.434
        ],
        [
         788,
         758,
         89,
         0.336,
         0.262,
         0.418
        ],
        [
         806,
         789,
         81,
         0.333,
         0.26,
         0.428
        ],
        [
         702,
         749,
         80,
         0.327,
         0.254,
         0.41
        ],
        [
         723,
         744,
         80,
         0.33,
         0.264,
         0.403
        ],
        [
         668,
         763,
         65,
         0.332,
         0.26,
         0.378
        ],
        [
         760,
         801,
         78,
         0.335,
         0.272,
         0.428
        ],
        [
         783,
         669,
         90,
         0.324,
         0.26,
         0.43
        ],
        [
         798,
         693,
         95,
         0.34,
         0.263,
         0.378
        ],
        [
         823,
         849,
         75,
         0.333,
         0.266,
         0.43
        ],
        [
         845,
         655,
         96,
         0.336,
         0.269,
         0.446
        ],
        [
         615,
         719,
         72,
         0.319,
         0.25,
         0.381
        ],
        [
         708,
         760,
         73,
         0.327,
         0.258,
         0.395
        ],
        [
         794,
         696,
         95,
         0.346,
         0.271,
         0.415
        ],
        [
         786,
         684,
         92,
         0.338,
         0.255,
         0.404
        ],
        [
         680,
         781,
         70,
         0.318,
         0.256,
         0.398
        ],
        [
         644,
         699,
         72,
         0.31,
         0.247,
         0.363
        ],
        [
         732,
         717,
         86,
         0.325,
         0.254,
         0.387
        ],
        [
         831,
         841,
         84,
         0.337,
         0.284,
         0.43
        ],
        [
         798,
         714,
         87,
         0.338,
         0.263,
         0.424
        ],
        [
         654,
         569,
         96,
         0.322,
         0.255,
         0.381
        ],
        [
         654,
         673,
         76,
         0.313,
         0.252,
         0.39
        ],
        [
         638,
         679,
         73,
         0.313,
         0.251,
         0.37
        ],
        [
         667,
         734,
         77,
         0.321,
         0.255,
         0.385
        ],
        [
         741,
         839,
         71,
         0.325,
         0.261,
         0.428
        ],
        [
         637,
         688,
         78,
         0.322,
         0.254,
         0.379
        ],
        [
         783,
         578,
         108,
         0.339,
         0.263,
         0.401
        ],
        [
         797,
         738,
         90,
         0.347,
         0.271,
         0.43
        ],
        [
         731,
         760,
         76,
         0.322,
         0.252,
         0.39
        ],
        [
         739,
         713,
         86,
         0.327,
         0.253,
         0.4
        ],
        [
         663,
         700,
         64,
         0.321,
         0.25,
         0.374
        ],
        [
         656,
         723,
         74,
         0.321,
         0.261,
         0.388
        ],
        [
         718,
         835,
         67,
         0.326,
         0.253,
         0.399
        ],
        [
         698,
         618,
         83,
         0.322,
         0.253,
         0.375
        ],
        [
         601,
         611,
         79,
         0.309,
         0.236,
         0.327
        ],
        [
         771,
         743,
         87,
         0.331,
         0.267,
         0.428
        ],
        [
         809,
         733,
         86,
         0.329,
         0.269,
         0.427
        ],
        [
         632,
         781,
         66,
         0.315,
         0.246,
         0.363
        ],
        [
         818,
         764,
         83,
         0.336,
         0.263,
         0.43
        ],
        [
         800,
         720,
         81,
         0.347,
         0.282,
         0.429
        ],
        [
         732,
         703,
         90,
         0.333,
         0.251,
         0.386
        ],
        [
         686,
         729,
         77,
         0.324,
         0.254,
         0.39
        ],
        [
         736,
         720,
         85,
         0.315,
         0.253,
         0.392
        ],
        [
         677,
         666,
         89,
         0.327,
         0.255,
         0.376
        ],
        [
         729,
         861,
         60,
         0.324,
         0.265,
         0.385
        ],
        [
         729,
         688,
         84,
         0.318,
         0.253,
         0.424
        ],
        [
         706,
         691,
         83,
         0.319,
         0.261,
         0.388
        ],
        [
         687,
         639,
         91,
         0.313,
         0.252,
         0.401
        ],
        [
         682,
         579,
         95,
         0.328,
         0.261,
         0.382
        ],
        [
         690,
         802,
         71,
         0.319,
         0.263,
         0.379
        ],
        [
         705,
         782,
         77,
         0.326,
         0.264,
         0.407
        ],
        [
         633,
         636,
         84,
         0.31,
         0.247,
         0.375
        ],
        [
         695,
         568,
         98,
         0.323,
         0.257,
         0.385
        ],
        [
         839,
         660,
         97,
         0.344,
         0.267,
         0.425
        ],
        [
         757,
         787,
         77,
         0.325,
         0.264,
         0.401
        ],
        [
         667,
         673,
         75,
         0.312,
         0.245,
         0.383
        ],
        [
         568,
         708,
         57,
         0.311,
         0.247,
         0.347
        ],
        [
         650,
         622,
         83,
         0.32,
         0.255,
         0.368
        ],
        [
         719,
         818,
         74,
         0.326,
         0.255,
         0.412
        ],
        [
         556,
         674,
         62,
         0.299,
         0.233,
         0.348
        ],
        [
         747,
         572,
         101,
         0.335,
         0.264,
         0.379
        ],
        [
         617,
         785,
         62,
         0.322,
         0.253,
         0.381
        ],
        [
         759,
         588,
         99,
         0.331,
         0.269,
         0.425
        ],
        [
         632,
         655,
         80,
         0.317,
         0.247,
         0.361
        ],
        [
         681,
         667,
         85,
         0.328,
         0.252,
         0.391
        ],
        [
         810,
         764,
         86,
         0.341,
         0.283,
         0.441
        ],
        [
         696,
         697,
         81,
         0.319,
         0.249,
         0.381
        ],
        [
         762,
         658,
         96,
         0.331,
         0.26,
         0.397
        ],
        [
         679,
         736,
         74,
         0.314,
         0.247,
         0.395
        ],
        [
         627,
         747,
         70,
         0.313,
         0.244,
         0.356
        ],
        [
         761,
         766,
         75,
         0.335,
         0.265,
         0.384
        ],
        [
         829,
         643,
         104,
         0.342,
         0.271,
         0.432
        ],
        [
         693,
         630,
         80,
         0.323,
         0.264,
         0.371
        ],
        [
         673,
         686,
         84,
         0.317,
         0.268,
         0.399
        ],
        [
         580,
         600,
         79,
         0.306,
         0.244,
         0.348
        ],
        [
         641,
         734,
         67,
         0.317,
         0.262,
         0.37
        ],
        [
         673,
         675,
         81,
         0.318,
         0.265,
         0.385
        ],
        [
         593,
         585,
         78,
         0.312,
         0.251,
         0.362
        ],
        [
         652,
         676,
         90,
         0.32,
         0.257,
         0.369
        ],
        [
         758,
         679,
         87,
         0.339,
         0.276,
         0.404
        ],
        [
         738,
         796,
         77,
         0.327,
         0.259,
         0.404
        ],
        [
         720,
         690,
         81,
         0.333,
         0.266,
         0.407
        ],
        [
         615,
         567,
         75,
         0.31,
         0.255,
         0.363
        ],
        [
         686,
         634,
         92,
         0.317,
         0.259,
         0.371
        ],
        [
         682,
         774,
         74,
         0.324,
         0.258,
         0.384
        ],
        [
         682,
         807,
         66,
         0.328,
         0.265,
         0.375
        ],
        [
         652,
         645,
         84,
         0.317,
         0.252,
         0.351
        ],
        [
         656,
         714,
         69,
         0.313,
         0.261,
         0.377
        ],
        [
         750,
         696,
         89,
         0.331,
         0.273,
         0.421
        ],
        [
         746,
         640,
         88,
         0.341,
         0.272,
         0.4
        ],
        [
         799,
         652,
         98,
         0.34,
         0.269,
         0.421
        ],
        [
         724,
         775,
         78,
         0.335,
         0.27,
         0.409
        ],
        [
         722,
         779,
         70,
         0.322,
         0.26,
         0.393
        ],
        [
         701,
         719,
         71,
         0.319,
         0.261,
         0.401
        ],
        [
         800,
         650,
         99,
         0.329,
         0.262,
         0.413
        ],
        [
         623,
         710,
         74,
         0.314,
         0.239,
         0.356
        ],
        [
         704,
         785,
         70,
         0.338,
         0.265,
         0.369
        ],
        [
         789,
         679,
         92,
         0.335,
         0.274,
         0.427
        ],
        [
         643,
         646,
         85,
         0.32,
         0.257,
         0.375
        ],
        [
         696,
         767,
         79,
         0.32,
         0.271,
         0.397
        ],
        [
         654,
         609,
         91,
         0.318,
         0.25,
         0.379
        ],
        [
         764,
         708,
         87,
         0.333,
         0.277,
         0.418
        ],
        [
         709,
         822,
         70,
         0.319,
         0.261,
         0.401
        ],
        [
         677,
         646,
         82,
         0.326,
         0.264,
         0.386
        ],
        [
         575,
         680,
         68,
         0.3,
         0.241,
         0.344
        ],
        [
         770,
         703,
         91,
         0.337,
         0.273,
         0.416
        ],
        [
         708,
         782,
         74,
         0.326,
         0.262,
         0.381
        ],
        [
         696,
         635,
         90,
         0.329,
         0.249,
         0.373
        ],
        [
         659,
         648,
         84,
         0.325,
         0.264,
         0.383
        ],
        [
         653,
         653,
         81,
         0.311,
         0.25,
         0.351
        ],
        [
         558,
         740,
         60,
         0.301,
         0.24,
         0.36
        ],
        [
         687,
         697,
         79,
         0.325,
         0.247,
         0.375
        ],
        [
         679,
         710,
         79,
         0.335,
         0.27,
         0.384
        ],
        [
         639,
         609,
         77,
         0.31,
         0.255,
         0.366
        ],
        [
         795,
         726,
         89,
         0.338,
         0.277,
         0.436
        ],
        [
         739,
         702,
         89,
         0.325,
         0.256,
         0.383
        ],
        [
         774,
         687,
         94,
         0.341,
         0.266,
         0.419
        ],
        [
         753,
         713,
         89,
         0.34,
         0.274,
         0.407
        ],
        [
         814,
         670,
         93,
         0.347,
         0.274,
         0.433
        ],
        [
         676,
         709,
         73,
         0.317,
         0.26,
         0.375
        ],
        [
         786,
         710,
         87,
         0.337,
         0.273,
         0.413
        ],
        [
         545,
         661,
         61,
         0.31,
         0.251,
         0.35
        ],
        [
         683,
         748,
         78,
         0.341,
         0.262,
         0.373
        ],
        [
         729,
         685,
         83,
         0.324,
         0.266,
         0.418
        ],
        [
         569,
         620,
         77,
         0.302,
         0.247,
         0.349
        ],
        [
         784,
         717,
         90,
         0.337,
         0.285,
         0.428
        ],
        [
         691,
         612,
         88,
         0.327,
         0.264,
         0.388
        ],
        [
         891,
         717,
         95,
         0.335,
         0.279,
         0.455
        ],
        [
         657,
         819,
         60,
         0.316,
         0.257,
         0.396
        ],
        [
         697,
         616,
         86,
         0.325,
         0.262,
         0.396
        ],
        [
         609,
         723,
         65,
         0.305,
         0.247,
         0.35
        ],
        [
         709,
         716,
         79,
         0.328,
         0.256,
         0.398
        ],
        [
         691,
         819,
         68,
         0.309,
         0.236,
         0.367
        ],
        [
         664,
         654,
         89,
         0.323,
         0.26,
         0.376
        ],
        [
         724,
         696,
         84,
         0.327,
         0.273,
         0.408
        ],
        [
         675,
         658,
         81,
         0.311,
         0.257,
         0.359
        ],
        [
         651,
         712,
         76,
         0.311,
         0.254,
         0.381
        ],
        [
         673,
         687,
         87,
         0.327,
         0.253,
         0.376
        ],
        [
         685,
         609,
         92,
         0.334,
         0.264,
         0.364
        ],
        [
         590,
         749,
         64,
         0.308,
         0.249,
         0.359
        ],
        [
         651,
         701,
         78,
         0.314,
         0.262,
         0.383
        ],
        [
         630,
         660,
         81,
         0.307,
         0.25,
         0.38
        ],
        [
         805,
         640,
         100,
         0.342,
         0.273,
         0.413
        ],
        [
         757,
         767,
         83,
         0.34,
         0.283,
         0.436
        ],
        [
         698,
         797,
         65,
         0.332,
         0.265,
         0.378
        ],
        [
         614,
         728,
         64,
         0.309,
         0.251,
         0.365
        ],
        [
         587,
         722,
         70,
         0.311,
         0.259,
         0.37
        ],
        [
         707,
         670,
         89,
         0.327,
         0.262,
         0.386
        ],
        [
         738,
         807,
         79,
         0.35,
         0.277,
         0.381
        ],
        [
         830,
         757,
         84,
         0.348,
         0.273,
         0.409
        ],
        [
         637,
         589,
         93,
         0.326,
         0.261,
         0.367
        ],
        [
         809,
         694,
         97,
         0.345,
         0.286,
         0.413
        ],
        [
         663,
         591,
         92,
         0.323,
         0.263,
         0.388
        ],
        [
         811,
         682,
         86,
         0.329,
         0.275,
         0.448
        ],
        [
         670,
         724,
         77,
         0.319,
         0.265,
         0.381
        ],
        [
         694,
         629,
         90,
         0.324,
         0.257,
         0.388
        ],
        [
         611,
         702,
         67,
         0.319,
         0.257,
         0.345
        ],
        [
         820,
         662,
         103,
         0.343,
         0.267,
         0.425
        ],
        [
         686,
         642,
         83,
         0.322,
         0.259,
         0.385
        ],
        [
         728,
         639,
         91,
         0.327,
         0.27,
         0.4
        ],
        [
         666,
         646,
         83,
         0.322,
         0.266,
         0.388
        ],
        [
         591,
         654,
         73,
         0.324,
         0.255,
         0.342
        ],
        [
         610,
         793,
         59,
         0.308,
         0.248,
         0.356
        ],
        [
         573,
         634,
         75,
         0.308,
         0.244,
         0.342
        ],
        [
         738,
         710,
         74,
         0.328,
         0.275,
         0.4
        ],
        [
         756,
         752,
         76,
         0.339,
         0.284,
         0.405
        ],
        [
         624,
         762,
         67,
         0.309,
         0.251,
         0.383
        ],
        [
         669,
         763,
         66,
         0.318,
         0.256,
         0.377
        ],
        [
         757,
         582,
         102,
         0.336,
         0.261,
         0.419
        ],
        [
         841,
         711,
         91,
         0.344,
         0.283,
         0.456
        ],
        [
         866,
         768,
         88,
         0.351,
         0.282,
         0.429
        ],
        [
         706,
         707,
         80,
         0.329,
         0.269,
         0.403
        ],
        [
         730,
         748,
         73,
         0.333,
         0.275,
         0.41
        ],
        [
         731,
         644,
         90,
         0.338,
         0.264,
         0.396
        ],
        [
         760,
         805,
         81,
         0.34,
         0.258,
         0.384
        ],
        [
         770,
         738,
         84,
         0.339,
         0.269,
         0.415
        ],
        [
         583,
         582,
         89,
         0.315,
         0.256,
         0.344
        ],
        [
         851,
         816,
         85,
         0.343,
         0.282,
         0.422
        ],
        [
         739,
         717,
         79,
         0.331,
         0.263,
         0.412
        ],
        [
         807,
         722,
         95,
         0.345,
         0.28,
         0.448
        ],
        [
         764,
         725,
         82,
         0.341,
         0.278,
         0.402
        ],
        [
         701,
         581,
         95,
         0.319,
         0.264,
         0.408
        ],
        [
         593,
         706,
         63,
         0.313,
         0.25,
         0.35
        ],
        [
         734,
         672,
         89,
         0.328,
         0.266,
         0.406
        ],
        [
         573,
         860,
         54,
         0.302,
         0.239,
         0.346
        ],
        [
         683,
         718,
         84,
         0.34,
         0.266,
         0.396
        ],
        [
         775,
         643,
         98,
         0.33,
         0.272,
         0.416
        ],
        [
         603,
         681,
         68,
         0.311,
         0.242,
         0.348
        ],
        [
         711,
         820,
         67,
         0.331,
         0.269,
         0.404
        ],
        [
         672,
         751,
         71,
         0.319,
         0.246,
         0.365
        ],
        [
         731,
         693,
         86,
         0.331,
         0.278,
         0.401
        ],
        [
         750,
         698,
         83,
         0.334,
         0.278,
         0.409
        ],
        [
         613,
         862,
         53,
         0.311,
         0.251,
         0.363
        ],
        [
         600,
         750,
         69,
         0.315,
         0.244,
         0.363
        ],
        [
         659,
         633,
         90,
         0.326,
         0.258,
         0.396
        ],
        [
         796,
         657,
         99,
         0.336,
         0.267,
         0.424
        ],
        [
         691,
         666,
         87,
         0.33,
         0.259,
         0.37
        ],
        [
         664,
         724,
         79,
         0.331,
         0.264,
         0.361
        ],
        [
         634,
         731,
         71,
         0.317,
         0.264,
         0.379
        ],
        [
         710,
         688,
         92,
         0.334,
         0.256,
         0.393
        ],
        [
         639,
         694,
         69,
         0.323,
         0.261,
         0.379
        ],
        [
         714,
         653,
         86,
         0.339,
         0.271,
         0.392
        ],
        [
         605,
         634,
         74,
         0.313,
         0.258,
         0.355
        ],
        [
         743,
         634,
         92,
         0.329,
         0.268,
         0.399
        ],
        [
         727,
         573,
         95,
         0.338,
         0.264,
         0.402
        ],
        [
         804,
         650,
         93,
         0.339,
         0.276,
         0.432
        ],
        [
         666,
         678,
         73,
         0.339,
         0.267,
         0.375
        ],
        [
         633,
         611,
         76,
         0.306,
         0.254,
         0.379
        ],
        [
         607,
         690,
         66,
         0.314,
         0.245,
         0.352
        ],
        [
         735,
         582,
         100,
         0.329,
         0.267,
         0.388
        ],
        [
         532,
         690,
         69,
         0.303,
         0.245,
         0.351
        ],
        [
         708,
         586,
         90,
         0.328,
         0.258,
         0.388
        ],
        [
         684,
         637,
         88,
         0.32,
         0.257,
         0.385
        ],
        [
         591,
         598,
         84,
         0.321,
         0.252,
         0.348
        ],
        [
         614,
         834,
         56,
         0.314,
         0.248,
         0.359
        ],
        [
         613,
         594,
         89,
         0.318,
         0.248,
         0.374
        ],
        [
         600,
         657,
         69,
         0.303,
         0.249,
         0.358
        ],
        [
         692,
         632,
         87,
         0.332,
         0.253,
         0.381
        ],
        [
         590,
         775,
         59,
         0.308,
         0.25,
         0.359
        ],
        [
         678,
         895,
         61,
         0.32,
         0.254,
         0.376
        ],
        [
         719,
         653,
         97,
         0.329,
         0.261,
         0.393
        ],
        [
         859,
         712,
         97,
         0.345,
         0.281,
         0.465
        ],
        [
         675,
         695,
         74,
         0.324,
         0.255,
         0.386
        ],
        [
         692,
         739,
         81,
         0.33,
         0.266,
         0.387
        ],
        [
         844,
         771,
         90,
         0.344,
         0.278,
         0.444
        ],
        [
         802,
         725,
         88,
         0.345,
         0.274,
         0.436
        ],
        [
         676,
         739,
         71,
         0.334,
         0.269,
         0.38
        ],
        [
         714,
         751,
         74,
         0.318,
         0.264,
         0.41
        ],
        [
         680,
         650,
         81,
         0.32,
         0.254,
         0.385
        ],
        [
         822,
         651,
         102,
         0.34,
         0.277,
         0.436
        ],
        [
         769,
         582,
         98,
         0.336,
         0.266,
         0.418
        ],
        [
         639,
         765,
         67,
         0.314,
         0.258,
         0.389
        ],
        [
         867,
         776,
         84,
         0.348,
         0.282,
         0.417
        ],
        [
         665,
         736,
         75,
         0.318,
         0.26,
         0.402
        ],
        [
         587,
         663,
         64,
         0.313,
         0.244,
         0.346
        ],
        [
         831,
         651,
         100,
         0.344,
         0.281,
         0.444
        ],
        [
         605,
         749,
         63,
         0.308,
         0.24,
         0.352
        ],
        [
         847,
         668,
         101,
         0.346,
         0.279,
         0.448
        ],
        [
         734,
         665,
         96,
         0.331,
         0.274,
         0.413
        ],
        [
         692,
         834,
         69,
         0.324,
         0.249,
         0.375
        ],
        [
         624,
         855,
         64,
         0.312,
         0.256,
         0.381
        ],
        [
         673,
         711,
         75,
         0.323,
         0.253,
         0.383
        ],
        [
         737,
         688,
         83,
         0.33,
         0.27,
         0.388
        ],
        [
         767,
         657,
         94,
         0.342,
         0.27,
         0.405
        ],
        [
         605,
         822,
         54,
         0.316,
         0.252,
         0.365
        ],
        [
         620,
         700,
         70,
         0.32,
         0.245,
         0.334
        ],
        [
         619,
         598,
         88,
         0.31,
         0.243,
         0.358
        ],
        [
         716,
         660,
         83,
         0.324,
         0.263,
         0.402
        ],
        [
         550,
         631,
         76,
         0.306,
         0.235,
         0.318
        ],
        [
         611,
         728,
         75,
         0.313,
         0.251,
         0.356
        ],
        [
         586,
         745,
         64,
         0.314,
         0.255,
         0.349
        ],
        [
         857,
         633,
         102,
         0.357,
         0.28,
         0.424
        ],
        [
         615,
         615,
         81,
         0.321,
         0.263,
         0.359
        ],
        [
         609,
         709,
         74,
         0.315,
         0.257,
         0.365
        ],
        [
         625,
         657,
         80,
         0.322,
         0.256,
         0.347
        ],
        [
         713,
         611,
         90,
         0.327,
         0.269,
         0.371
        ],
        [
         608,
         543,
         92,
         0.313,
         0.251,
         0.349
        ],
        [
         570,
         655,
         66,
         0.311,
         0.246,
         0.34
        ],
        [
         743,
         704,
         85,
         0.341,
         0.274,
         0.375
        ],
        [
         531,
         734,
         55,
         0.291,
         0.235,
         0.34
        ],
        [
         615,
         538,
         86,
         0.319,
         0.246,
         0.352
        ],
        [
         730,
         575,
         97,
         0.328,
         0.269,
         0.389
        ],
        [
         686,
         598,
         87,
         0.323,
         0.246,
         0.361
        ],
        [
         770,
         557,
         101,
         0.338,
         0.272,
         0.395
        ],
        [
         708,
         630,
         92,
         0.321,
         0.267,
         0.391
        ],
        [
         570,
         662,
         73,
         0.31,
         0.247,
         0.337
        ],
        [
         595,
         686,
         74,
         0.312,
         0.246,
         0.345
        ],
        [
         629,
         671,
         72,
         0.323,
         0.26,
         0.359
        ],
        [
         616,
         652,
         76,
         0.321,
         0.25,
         0.341
        ],
        [
         583,
         739,
         67,
         0.313,
         0.244,
         0.346
        ],
        [
         682,
         553,
         90,
         0.326,
         0.252,
         0.373
        ],
        [
         796,
         709,
         95,
         0.344,
         0.275,
         0.417
        ],
        [
         628,
         723,
         72,
         0.322,
         0.246,
         0.328
        ],
        [
         712,
         827,
         75,
         0.338,
         0.259,
         0.368
        ],
        [
         655,
         703,
         75,
         0.331,
         0.255,
         0.358
        ],
        [
         840,
         586,
         108,
         0.353,
         0.271,
         0.401
        ],
        [
         688,
         703,
         79,
         0.327,
         0.261,
         0.392
        ],
        [
         570,
         786,
         57,
         0.301,
         0.249,
         0.366
        ],
        [
         664,
         711,
         64,
         0.32,
         0.254,
         0.359
        ],
        [
         710,
         649,
         91,
         0.333,
         0.261,
         0.394
        ],
        [
         648,
         534,
         88,
         0.325,
         0.248,
         0.365
        ],
        [
         675,
         792,
         68,
         0.32,
         0.25,
         0.389
        ],
        [
         724,
         736,
         76,
         0.341,
         0.271,
         0.386
        ],
        [
         601,
         690,
         75,
         0.317,
         0.244,
         0.348
        ],
        [
         646,
         625,
         82,
         0.319,
         0.256,
         0.361
        ],
        [
         681,
         588,
         83,
         0.325,
         0.264,
         0.382
        ],
        [
         758,
         606,
         98,
         0.333,
         0.254,
         0.391
        ],
        [
         735,
         694,
         86,
         0.342,
         0.269,
         0.402
        ],
        [
         712,
         565,
         92,
         0.323,
         0.263,
         0.402
        ],
        [
         552,
         683,
         71,
         0.31,
         0.244,
         0.335
        ],
        [
         659,
         671,
         80,
         0.333,
         0.259,
         0.365
        ],
        [
         662,
         689,
         82,
         0.327,
         0.273,
         0.375
        ],
        [
         714,
         733,
         79,
         0.33,
         0.256,
         0.371
        ],
        [
         661,
         563,
         88,
         0.319,
         0.249,
         0.363
        ],
        [
         659,
         612,
         91,
         0.322,
         0.256,
         0.37
        ],
        [
         696,
         661,
         84,
         0.333,
         0.264,
         0.377
        ],
        [
         618,
         657,
         68,
         0.321,
         0.254,
         0.356
        ],
        [
         669,
         826,
         66,
         0.327,
         0.251,
         0.365
        ],
        [
         684,
         721,
         80,
         0.33,
         0.268,
         0.389
        ],
        [
         776,
         631,
         98,
         0.343,
         0.26,
         0.394
        ],
        [
         662,
         694,
         77,
         0.311,
         0.255,
         0.37
        ],
        [
         620,
         768,
         72,
         0.303,
         0.247,
         0.366
        ],
        [
         653,
         632,
         81,
         0.322,
         0.263,
         0.378
        ],
        [
         667,
         662,
         77,
         0.327,
         0.259,
         0.364
        ],
        [
         798,
         561,
         102,
         0.342,
         0.272,
         0.401
        ],
        [
         647,
         660,
         76,
         0.309,
         0.244,
         0.369
        ],
        [
         673,
         669,
         82,
         0.336,
         0.272,
         0.378
        ],
        [
         662,
         657,
         79,
         0.335,
         0.254,
         0.35
        ],
        [
         572,
         646,
         71,
         0.311,
         0.235,
         0.329
        ],
        [
         671,
         623,
         89,
         0.324,
         0.263,
         0.368
        ],
        [
         689,
         551,
         90,
         0.321,
         0.247,
         0.373
        ],
        [
         676,
         701,
         80,
         0.32,
         0.261,
         0.373
        ],
        [
         751,
         657,
         88,
         0.335,
         0.274,
         0.391
        ],
        [
         541,
         830,
         60,
         0.302,
         0.229,
         0.33
        ],
        [
         634,
         723,
         72,
         0.322,
         0.252,
         0.358
        ],
        [
         677,
         643,
         86,
         0.331,
         0.265,
         0.365
        ],
        [
         690,
         698,
         83,
         0.336,
         0.272,
         0.377
        ],
        [
         799,
         774,
         76,
         0.339,
         0.266,
         0.427
        ],
        [
         754,
         561,
         97,
         0.345,
         0.266,
         0.389
        ],
        [
         738,
         647,
         89,
         0.338,
         0.267,
         0.401
        ],
        [
         629,
         657,
         79,
         0.318,
         0.253,
         0.348
        ]
       ],
       "datasetInfos": [],
       "dbfsResultPath": null,
       "isJsonSchema": true,
       "overflow": true,
       "plotOptions": {
        "customPlotOptions": {},
        "displayType": "table",
        "pivotAggregation": null,
        "pivotColumns": null,
        "xColumns": null,
        "yColumns": null
       },
       "removedWidgets": [],
       "schema": [
        {
         "metadata": "{}",
         "name": "var_1",
         "type": "\"integer\""
        },
        {
         "metadata": "{}",
         "name": "var_2",
         "type": "\"integer\""
        },
        {
         "metadata": "{}",
         "name": "var_3",
         "type": "\"integer\""
        },
        {
         "metadata": "{}",
         "name": "var_4",
         "type": "\"double\""
        },
        {
         "metadata": "{}",
         "name": "var_5",
         "type": "\"double\""
        },
        {
         "metadata": "{}",
         "name": "output",
         "type": "\"double\""
        }
       ],
       "type": "table"
      }
     },
     "output_type": "display_data"
    }
   ],
   "source": [
    "display(df)"
   ]
  },
  {
   "cell_type": "code",
   "execution_count": 0,
   "metadata": {
    "application/vnd.databricks.v1+cell": {
     "inputWidgets": {},
     "nuid": "e1822260-4b49-4a00-b576-e04ef56a732c",
     "showTitle": false,
     "title": ""
    }
   },
   "outputs": [
    {
     "data": {
      "text/html": [
       "<style scoped>\n",
       "  .ansiout {\n",
       "    display: block;\n",
       "    unicode-bidi: embed;\n",
       "    white-space: pre-wrap;\n",
       "    word-wrap: break-word;\n",
       "    word-break: break-all;\n",
       "    font-family: \"Source Code Pro\", \"Menlo\", monospace;;\n",
       "    font-size: 13px;\n",
       "    color: #555;\n",
       "    margin-left: 4px;\n",
       "    line-height: 19px;\n",
       "  }\n",
       "</style>\n",
       "<div class=\"ansiout\">+-------+-----------------+-----------------+------------------+--------------------+--------------------+-------------------+\n",
       "summary|var_1            |var_2            |var_3             |var_4               |var_5               |output             |\n",
       "+-------+-----------------+-----------------+------------------+--------------------+--------------------+-------------------+\n",
       "count  |1232             |1232             |1232              |1232                |1232                |1232               |\n",
       "mean   |715.0819805194806|715.0819805194806|80.90422077922078 |0.3263311688311693  |0.25927272727272715 |0.39734172077922014|\n",
       "stddev |91.5342940441652 |93.07993263118064|11.458139049993724|0.015012772334166148|0.012907228928000298|0.03326689862173776|\n",
       "min    |463              |472              |40                |0.277               |0.214               |0.301              |\n",
       "max    |1009             |1103             |116               |0.373               |0.294               |0.491              |\n",
       "+-------+-----------------+-----------------+------------------+--------------------+--------------------+-------------------+\n",
       "\n",
       "</div>"
      ]
     },
     "metadata": {
      "application/vnd.databricks.v1+output": {
       "addedWidgets": {},
       "arguments": {},
       "data": "<div class=\"ansiout\">+-------+-----------------+-----------------+------------------+--------------------+--------------------+-------------------+\n|summary|var_1            |var_2            |var_3             |var_4               |var_5               |output             |\n+-------+-----------------+-----------------+------------------+--------------------+--------------------+-------------------+\n|count  |1232             |1232             |1232              |1232                |1232                |1232               |\n|mean   |715.0819805194806|715.0819805194806|80.90422077922078 |0.3263311688311693  |0.25927272727272715 |0.39734172077922014|\n|stddev |91.5342940441652 |93.07993263118064|11.458139049993724|0.015012772334166148|0.012907228928000298|0.03326689862173776|\n|min    |463              |472              |40                |0.277               |0.214               |0.301              |\n|max    |1009             |1103             |116               |0.373               |0.294               |0.491              |\n+-------+-----------------+-----------------+------------------+--------------------+--------------------+-------------------+\n\n</div>",
       "datasetInfos": [],
       "removedWidgets": [],
       "type": "html"
      }
     },
     "output_type": "display_data"
    }
   ],
   "source": [
    "#view statistical measures of data \n",
    "df.describe().show(5,False)"
   ]
  },
  {
   "cell_type": "code",
   "execution_count": 0,
   "metadata": {
    "application/vnd.databricks.v1+cell": {
     "inputWidgets": {},
     "nuid": "53d7b6aa-e4b8-4b14-bb48-de5589f219a8",
     "showTitle": false,
     "title": ""
    }
   },
   "outputs": [
    {
     "data": {
      "text/html": [
       "<style scoped>\n",
       "  .ansiout {\n",
       "    display: block;\n",
       "    unicode-bidi: embed;\n",
       "    white-space: pre-wrap;\n",
       "    word-wrap: break-word;\n",
       "    word-break: break-all;\n",
       "    font-family: \"Source Code Pro\", \"Menlo\", monospace;;\n",
       "    font-size: 13px;\n",
       "    color: #555;\n",
       "    margin-left: 4px;\n",
       "    line-height: 19px;\n",
       "  }\n",
       "</style>\n",
       "<div class=\"ansiout\">Out[29]: [Row(var_1=734, var_2=688, var_3=81, var_4=0.328, var_5=0.259, output=0.418),\n",
       " Row(var_1=700, var_2=600, var_3=94, var_4=0.32, var_5=0.247, output=0.389),\n",
       " Row(var_1=712, var_2=705, var_3=93, var_4=0.311, var_5=0.247, output=0.417)]</div>"
      ]
     },
     "metadata": {
      "application/vnd.databricks.v1+output": {
       "addedWidgets": {},
       "arguments": {},
       "data": "<div class=\"ansiout\">Out[29]: [Row(var_1=734, var_2=688, var_3=81, var_4=0.328, var_5=0.259, output=0.418),\n Row(var_1=700, var_2=600, var_3=94, var_4=0.32, var_5=0.247, output=0.389),\n Row(var_1=712, var_2=705, var_3=93, var_4=0.311, var_5=0.247, output=0.417)]</div>",
       "datasetInfos": [],
       "removedWidgets": [],
       "type": "html"
      }
     },
     "output_type": "display_data"
    }
   ],
   "source": [
    "#sneak into the dataset\n",
    "df.head(3)"
   ]
  },
  {
   "cell_type": "code",
   "execution_count": 0,
   "metadata": {
    "application/vnd.databricks.v1+cell": {
     "inputWidgets": {},
     "nuid": "63038eb5-3d8c-4a53-8e5c-59c44129052c",
     "showTitle": false,
     "title": ""
    }
   },
   "outputs": [
    {
     "data": {
      "text/html": [
       "<style scoped>\n",
       "  .ansiout {\n",
       "    display: block;\n",
       "    unicode-bidi: embed;\n",
       "    white-space: pre-wrap;\n",
       "    word-wrap: break-word;\n",
       "    word-break: break-all;\n",
       "    font-family: \"Source Code Pro\", \"Menlo\", monospace;;\n",
       "    font-size: 13px;\n",
       "    color: #555;\n",
       "    margin-left: 4px;\n",
       "    line-height: 19px;\n",
       "  }\n",
       "</style>\n",
       "<div class=\"ansiout\"></div>"
      ]
     },
     "metadata": {
      "application/vnd.databricks.v1+output": {
       "addedWidgets": {},
       "arguments": {},
       "data": "<div class=\"ansiout\"></div>",
       "datasetInfos": [],
       "removedWidgets": [],
       "type": "html"
      }
     },
     "output_type": "display_data"
    }
   ],
   "source": [
    "#import corr function from pyspark functions\n",
    "from pyspark.sql.functions import corr"
   ]
  },
  {
   "cell_type": "code",
   "execution_count": 0,
   "metadata": {
    "application/vnd.databricks.v1+cell": {
     "inputWidgets": {},
     "nuid": "611bec30-b647-4ad2-9da1-71cb3a5c7e50",
     "showTitle": false,
     "title": ""
    }
   },
   "outputs": [
    {
     "data": {
      "text/html": [
       "<style scoped>\n",
       "  .ansiout {\n",
       "    display: block;\n",
       "    unicode-bidi: embed;\n",
       "    white-space: pre-wrap;\n",
       "    word-wrap: break-word;\n",
       "    word-break: break-all;\n",
       "    font-family: \"Source Code Pro\", \"Menlo\", monospace;;\n",
       "    font-size: 13px;\n",
       "    color: #555;\n",
       "    margin-left: 4px;\n",
       "    line-height: 19px;\n",
       "  }\n",
       "</style>\n",
       "<div class=\"ansiout\">+-------------------+\n",
       "corr(var_1, output)|\n",
       "+-------------------+\n",
       " 0.9187399607627283|\n",
       "+-------------------+\n",
       "\n",
       "</div>"
      ]
     },
     "metadata": {
      "application/vnd.databricks.v1+output": {
       "addedWidgets": {},
       "arguments": {},
       "data": "<div class=\"ansiout\">+-------------------+\n|corr(var_1, output)|\n+-------------------+\n| 0.9187399607627283|\n+-------------------+\n\n</div>",
       "datasetInfos": [],
       "removedWidgets": [],
       "type": "html"
      }
     },
     "output_type": "display_data"
    }
   ],
   "source": [
    "# check for correlation\n",
    "df.select(corr('var_1','output')).show()"
   ]
  },
  {
   "cell_type": "code",
   "execution_count": 0,
   "metadata": {
    "application/vnd.databricks.v1+cell": {
     "inputWidgets": {},
     "nuid": "c6a66a45-ae84-46fc-b180-1c0e086917ac",
     "showTitle": false,
     "title": ""
    }
   },
   "outputs": [
    {
     "data": {
      "text/html": [
       "<style scoped>\n",
       "  .ansiout {\n",
       "    display: block;\n",
       "    unicode-bidi: embed;\n",
       "    white-space: pre-wrap;\n",
       "    word-wrap: break-word;\n",
       "    word-break: break-all;\n",
       "    font-family: \"Source Code Pro\", \"Menlo\", monospace;;\n",
       "    font-size: 13px;\n",
       "    color: #555;\n",
       "    margin-left: 4px;\n",
       "    line-height: 19px;\n",
       "  }\n",
       "</style>\n",
       "<div class=\"ansiout\"></div>"
      ]
     },
     "metadata": {
      "application/vnd.databricks.v1+output": {
       "addedWidgets": {},
       "arguments": {},
       "data": "<div class=\"ansiout\"></div>",
       "datasetInfos": [],
       "removedWidgets": [],
       "type": "html"
      }
     },
     "output_type": "display_data"
    }
   ],
   "source": [
    "#import vectorassembler to create dense vectors\n",
    "from pyspark.ml.linalg import Vector\n",
    "from pyspark.ml.feature import VectorAssembler"
   ]
  },
  {
   "cell_type": "code",
   "execution_count": 0,
   "metadata": {
    "application/vnd.databricks.v1+cell": {
     "inputWidgets": {},
     "nuid": "030b7f0a-04e3-47a4-a82e-0d3769d32a55",
     "showTitle": false,
     "title": ""
    }
   },
   "outputs": [
    {
     "data": {
      "text/html": [
       "<style scoped>\n",
       "  .ansiout {\n",
       "    display: block;\n",
       "    unicode-bidi: embed;\n",
       "    white-space: pre-wrap;\n",
       "    word-wrap: break-word;\n",
       "    word-break: break-all;\n",
       "    font-family: \"Source Code Pro\", \"Menlo\", monospace;;\n",
       "    font-size: 13px;\n",
       "    color: #555;\n",
       "    margin-left: 4px;\n",
       "    line-height: 19px;\n",
       "  }\n",
       "</style>\n",
       "<div class=\"ansiout\">Out[11]: [&#39;var_1&#39;, &#39;var_2&#39;, &#39;var_3&#39;, &#39;var_4&#39;, &#39;var_5&#39;, &#39;output&#39;]</div>"
      ]
     },
     "metadata": {
      "application/vnd.databricks.v1+output": {
       "addedWidgets": {},
       "arguments": {},
       "data": "<div class=\"ansiout\">Out[11]: [&#39;var_1&#39;, &#39;var_2&#39;, &#39;var_3&#39;, &#39;var_4&#39;, &#39;var_5&#39;, &#39;output&#39;]</div>",
       "datasetInfos": [],
       "removedWidgets": [],
       "type": "html"
      }
     },
     "output_type": "display_data"
    }
   ],
   "source": [
    "#select the columns to create input vector\n",
    "df.columns"
   ]
  },
  {
   "cell_type": "code",
   "execution_count": 0,
   "metadata": {
    "application/vnd.databricks.v1+cell": {
     "inputWidgets": {},
     "nuid": "f80380c6-8d50-45c5-8d39-d98c9214b2b3",
     "showTitle": false,
     "title": ""
    }
   },
   "outputs": [
    {
     "data": {
      "text/html": [
       "<style scoped>\n",
       "  .ansiout {\n",
       "    display: block;\n",
       "    unicode-bidi: embed;\n",
       "    white-space: pre-wrap;\n",
       "    word-wrap: break-word;\n",
       "    word-break: break-all;\n",
       "    font-family: \"Source Code Pro\", \"Menlo\", monospace;;\n",
       "    font-size: 13px;\n",
       "    color: #555;\n",
       "    margin-left: 4px;\n",
       "    line-height: 19px;\n",
       "  }\n",
       "</style>\n",
       "<div class=\"ansiout\"></div>"
      ]
     },
     "metadata": {
      "application/vnd.databricks.v1+output": {
       "addedWidgets": {},
       "arguments": {},
       "data": "<div class=\"ansiout\"></div>",
       "datasetInfos": [],
       "removedWidgets": [],
       "type": "html"
      }
     },
     "output_type": "display_data"
    }
   ],
   "source": [
    "#create the vector assembler \n",
    "vec_assmebler=VectorAssembler(inputCols=['var_1', 'var_2', 'var_3', 'var_4', 'var_5'],outputCol='features')"
   ]
  },
  {
   "cell_type": "code",
   "execution_count": 0,
   "metadata": {
    "application/vnd.databricks.v1+cell": {
     "inputWidgets": {},
     "nuid": "bda59e68-029a-4a8e-8642-622374b8ab8f",
     "showTitle": false,
     "title": ""
    }
   },
   "outputs": [
    {
     "data": {
      "text/html": [
       "<style scoped>\n",
       "  .ansiout {\n",
       "    display: block;\n",
       "    unicode-bidi: embed;\n",
       "    white-space: pre-wrap;\n",
       "    word-wrap: break-word;\n",
       "    word-break: break-all;\n",
       "    font-family: \"Source Code Pro\", \"Menlo\", monospace;;\n",
       "    font-size: 13px;\n",
       "    color: #555;\n",
       "    margin-left: 4px;\n",
       "    line-height: 19px;\n",
       "  }\n",
       "</style>\n",
       "<div class=\"ansiout\"></div>"
      ]
     },
     "metadata": {
      "application/vnd.databricks.v1+output": {
       "addedWidgets": {},
       "arguments": {},
       "data": "<div class=\"ansiout\"></div>",
       "datasetInfos": [],
       "removedWidgets": [],
       "type": "html"
      }
     },
     "output_type": "display_data"
    }
   ],
   "source": [
    "#transform the values\n",
    "features_df=vec_assmebler.transform(df)"
   ]
  },
  {
   "cell_type": "code",
   "execution_count": 0,
   "metadata": {
    "application/vnd.databricks.v1+cell": {
     "inputWidgets": {},
     "nuid": "15efb69e-e165-4622-80ea-d3d7f6d47d23",
     "showTitle": false,
     "title": ""
    }
   },
   "outputs": [
    {
     "data": {
      "text/html": [
       "<style scoped>\n",
       "  .ansiout {\n",
       "    display: block;\n",
       "    unicode-bidi: embed;\n",
       "    white-space: pre-wrap;\n",
       "    word-wrap: break-word;\n",
       "    word-break: break-all;\n",
       "    font-family: \"Source Code Pro\", \"Menlo\", monospace;;\n",
       "    font-size: 13px;\n",
       "    color: #555;\n",
       "    margin-left: 4px;\n",
       "    line-height: 19px;\n",
       "  }\n",
       "</style>\n",
       "<div class=\"ansiout\">root\n",
       "-- var_1: integer (nullable = true)\n",
       "-- var_2: integer (nullable = true)\n",
       "-- var_3: integer (nullable = true)\n",
       "-- var_4: double (nullable = true)\n",
       "-- var_5: double (nullable = true)\n",
       "-- output: double (nullable = true)\n",
       "-- features: vector (nullable = true)\n",
       "\n",
       "</div>"
      ]
     },
     "metadata": {
      "application/vnd.databricks.v1+output": {
       "addedWidgets": {},
       "arguments": {},
       "data": "<div class=\"ansiout\">root\n |-- var_1: integer (nullable = true)\n |-- var_2: integer (nullable = true)\n |-- var_3: integer (nullable = true)\n |-- var_4: double (nullable = true)\n |-- var_5: double (nullable = true)\n |-- output: double (nullable = true)\n |-- features: vector (nullable = true)\n\n</div>",
       "datasetInfos": [],
       "removedWidgets": [],
       "type": "html"
      }
     },
     "output_type": "display_data"
    }
   ],
   "source": [
    "#validate the presence of dense vectors \n",
    "features_df.printSchema()"
   ]
  },
  {
   "cell_type": "code",
   "execution_count": 0,
   "metadata": {
    "application/vnd.databricks.v1+cell": {
     "inputWidgets": {},
     "nuid": "6249d790-0df2-4627-a162-061c01436870",
     "showTitle": false,
     "title": ""
    }
   },
   "outputs": [
    {
     "data": {
      "text/html": [
       "<style scoped>\n",
       "  .table-result-container {\n",
       "    max-height: 300px;\n",
       "    overflow: auto;\n",
       "  }\n",
       "  table, th, td {\n",
       "    border: 1px solid black;\n",
       "    border-collapse: collapse;\n",
       "  }\n",
       "  th, td {\n",
       "    padding: 5px;\n",
       "  }\n",
       "  th {\n",
       "    text-align: left;\n",
       "  }\n",
       "</style><div class='table-result-container'><table class='table-result'><thead style='background-color: white'><tr><th>var_1</th><th>var_2</th><th>var_3</th><th>var_4</th><th>var_5</th><th>output</th><th>features</th></tr></thead><tbody><tr><td>734</td><td>688</td><td>81</td><td>0.328</td><td>0.259</td><td>0.418</td><td>Map(vectorType -> dense, length -> 5, values -> List(734.0, 688.0, 81.0, 0.328, 0.259))</td></tr><tr><td>700</td><td>600</td><td>94</td><td>0.32</td><td>0.247</td><td>0.389</td><td>Map(vectorType -> dense, length -> 5, values -> List(700.0, 600.0, 94.0, 0.32, 0.247))</td></tr><tr><td>712</td><td>705</td><td>93</td><td>0.311</td><td>0.247</td><td>0.417</td><td>Map(vectorType -> dense, length -> 5, values -> List(712.0, 705.0, 93.0, 0.311, 0.247))</td></tr><tr><td>734</td><td>806</td><td>69</td><td>0.315</td><td>0.26</td><td>0.415</td><td>Map(vectorType -> dense, length -> 5, values -> List(734.0, 806.0, 69.0, 0.315, 0.26))</td></tr><tr><td>613</td><td>759</td><td>61</td><td>0.302</td><td>0.24</td><td>0.378</td><td>Map(vectorType -> dense, length -> 5, values -> List(613.0, 759.0, 61.0, 0.302, 0.24))</td></tr><tr><td>748</td><td>676</td><td>85</td><td>0.318</td><td>0.255</td><td>0.422</td><td>Map(vectorType -> dense, length -> 5, values -> List(748.0, 676.0, 85.0, 0.318, 0.255))</td></tr><tr><td>669</td><td>588</td><td>97</td><td>0.315</td><td>0.251</td><td>0.411</td><td>Map(vectorType -> dense, length -> 5, values -> List(669.0, 588.0, 97.0, 0.315, 0.251))</td></tr><tr><td>667</td><td>845</td><td>68</td><td>0.324</td><td>0.251</td><td>0.381</td><td>Map(vectorType -> dense, length -> 5, values -> List(667.0, 845.0, 68.0, 0.324, 0.251))</td></tr><tr><td>758</td><td>890</td><td>64</td><td>0.33</td><td>0.274</td><td>0.436</td><td>Map(vectorType -> dense, length -> 5, values -> List(758.0, 890.0, 64.0, 0.33, 0.274))</td></tr><tr><td>726</td><td>670</td><td>88</td><td>0.335</td><td>0.268</td><td>0.422</td><td>Map(vectorType -> dense, length -> 5, values -> List(726.0, 670.0, 88.0, 0.335, 0.268))</td></tr><tr><td>583</td><td>794</td><td>55</td><td>0.302</td><td>0.236</td><td>0.371</td><td>Map(vectorType -> dense, length -> 5, values -> List(583.0, 794.0, 55.0, 0.302, 0.236))</td></tr><tr><td>676</td><td>746</td><td>72</td><td>0.317</td><td>0.265</td><td>0.4</td><td>Map(vectorType -> dense, length -> 5, values -> List(676.0, 746.0, 72.0, 0.317, 0.265))</td></tr><tr><td>767</td><td>699</td><td>89</td><td>0.332</td><td>0.274</td><td>0.433</td><td>Map(vectorType -> dense, length -> 5, values -> List(767.0, 699.0, 89.0, 0.332, 0.274))</td></tr><tr><td>637</td><td>597</td><td>86</td><td>0.317</td><td>0.252</td><td>0.374</td><td>Map(vectorType -> dense, length -> 5, values -> List(637.0, 597.0, 86.0, 0.317, 0.252))</td></tr><tr><td>609</td><td>724</td><td>69</td><td>0.308</td><td>0.244</td><td>0.382</td><td>Map(vectorType -> dense, length -> 5, values -> List(609.0, 724.0, 69.0, 0.308, 0.244))</td></tr><tr><td>776</td><td>733</td><td>83</td><td>0.325</td><td>0.259</td><td>0.437</td><td>Map(vectorType -> dense, length -> 5, values -> List(776.0, 733.0, 83.0, 0.325, 0.259))</td></tr><tr><td>701</td><td>832</td><td>66</td><td>0.325</td><td>0.26</td><td>0.39</td><td>Map(vectorType -> dense, length -> 5, values -> List(701.0, 832.0, 66.0, 0.325, 0.26))</td></tr><tr><td>650</td><td>709</td><td>74</td><td>0.316</td><td>0.249</td><td>0.386</td><td>Map(vectorType -> dense, length -> 5, values -> List(650.0, 709.0, 74.0, 0.316, 0.249))</td></tr><tr><td>804</td><td>668</td><td>95</td><td>0.337</td><td>0.265</td><td>0.453</td><td>Map(vectorType -> dense, length -> 5, values -> List(804.0, 668.0, 95.0, 0.337, 0.265))</td></tr><tr><td>713</td><td>614</td><td>94</td><td>0.31</td><td>0.238</td><td>0.404</td><td>Map(vectorType -> dense, length -> 5, values -> List(713.0, 614.0, 94.0, 0.31, 0.238))</td></tr><tr><td>684</td><td>680</td><td>81</td><td>0.317</td><td>0.255</td><td>0.4</td><td>Map(vectorType -> dense, length -> 5, values -> List(684.0, 680.0, 81.0, 0.317, 0.255))</td></tr><tr><td>651</td><td>674</td><td>79</td><td>0.304</td><td>0.243</td><td>0.395</td><td>Map(vectorType -> dense, length -> 5, values -> List(651.0, 674.0, 79.0, 0.304, 0.243))</td></tr><tr><td>651</td><td>710</td><td>76</td><td>0.319</td><td>0.247</td><td>0.38</td><td>Map(vectorType -> dense, length -> 5, values -> List(651.0, 710.0, 76.0, 0.319, 0.247))</td></tr><tr><td>619</td><td>651</td><td>75</td><td>0.296</td><td>0.234</td><td>0.369</td><td>Map(vectorType -> dense, length -> 5, values -> List(619.0, 651.0, 75.0, 0.296, 0.234))</td></tr><tr><td>718</td><td>649</td><td>94</td><td>0.327</td><td>0.269</td><td>0.397</td><td>Map(vectorType -> dense, length -> 5, values -> List(718.0, 649.0, 94.0, 0.327, 0.269))</td></tr><tr><td>765</td><td>648</td><td>88</td><td>0.338</td><td>0.271</td><td>0.421</td><td>Map(vectorType -> dense, length -> 5, values -> List(765.0, 648.0, 88.0, 0.338, 0.271))</td></tr><tr><td>697</td><td>577</td><td>90</td><td>0.317</td><td>0.24</td><td>0.394</td><td>Map(vectorType -> dense, length -> 5, values -> List(697.0, 577.0, 90.0, 0.317, 0.24))</td></tr><tr><td>808</td><td>707</td><td>93</td><td>0.334</td><td>0.273</td><td>0.446</td><td>Map(vectorType -> dense, length -> 5, values -> List(808.0, 707.0, 93.0, 0.334, 0.273))</td></tr><tr><td>716</td><td>784</td><td>73</td><td>0.309</td><td>0.245</td><td>0.407</td><td>Map(vectorType -> dense, length -> 5, values -> List(716.0, 784.0, 73.0, 0.309, 0.245))</td></tr><tr><td>731</td><td>594</td><td>98</td><td>0.322</td><td>0.261</td><td>0.428</td><td>Map(vectorType -> dense, length -> 5, values -> List(731.0, 594.0, 98.0, 0.322, 0.261))</td></tr><tr><td>731</td><td>662</td><td>94</td><td>0.322</td><td>0.25</td><td>0.413</td><td>Map(vectorType -> dense, length -> 5, values -> List(731.0, 662.0, 94.0, 0.322, 0.25))</td></tr><tr><td>641</td><td>605</td><td>89</td><td>0.308</td><td>0.243</td><td>0.387</td><td>Map(vectorType -> dense, length -> 5, values -> List(641.0, 605.0, 89.0, 0.308, 0.243))</td></tr><tr><td>708</td><td>860</td><td>69</td><td>0.316</td><td>0.257</td><td>0.413</td><td>Map(vectorType -> dense, length -> 5, values -> List(708.0, 860.0, 69.0, 0.316, 0.257))</td></tr><tr><td>875</td><td>737</td><td>90</td><td>0.349</td><td>0.28</td><td>0.461</td><td>Map(vectorType -> dense, length -> 5, values -> List(875.0, 737.0, 90.0, 0.349, 0.28))</td></tr><tr><td>654</td><td>756</td><td>71</td><td>0.314</td><td>0.256</td><td>0.401</td><td>Map(vectorType -> dense, length -> 5, values -> List(654.0, 756.0, 71.0, 0.314, 0.256))</td></tr><tr><td>654</td><td>706</td><td>79</td><td>0.319</td><td>0.252</td><td>0.388</td><td>Map(vectorType -> dense, length -> 5, values -> List(654.0, 706.0, 79.0, 0.319, 0.252))</td></tr><tr><td>735</td><td>720</td><td>79</td><td>0.326</td><td>0.256</td><td>0.408</td><td>Map(vectorType -> dense, length -> 5, values -> List(735.0, 720.0, 79.0, 0.326, 0.256))</td></tr><tr><td>704</td><td>760</td><td>80</td><td>0.317</td><td>0.25</td><td>0.396</td><td>Map(vectorType -> dense, length -> 5, values -> List(704.0, 760.0, 80.0, 0.317, 0.25))</td></tr><tr><td>735</td><td>774</td><td>73</td><td>0.329</td><td>0.258</td><td>0.41</td><td>Map(vectorType -> dense, length -> 5, values -> List(735.0, 774.0, 73.0, 0.329, 0.258))</td></tr><tr><td>787</td><td>711</td><td>95</td><td>0.34</td><td>0.277</td><td>0.434</td><td>Map(vectorType -> dense, length -> 5, values -> List(787.0, 711.0, 95.0, 0.34, 0.277))</td></tr><tr><td>625</td><td>702</td><td>72</td><td>0.318</td><td>0.247</td><td>0.388</td><td>Map(vectorType -> dense, length -> 5, values -> List(625.0, 702.0, 72.0, 0.318, 0.247))</td></tr><tr><td>615</td><td>796</td><td>56</td><td>0.311</td><td>0.258</td><td>0.374</td><td>Map(vectorType -> dense, length -> 5, values -> List(615.0, 796.0, 56.0, 0.311, 0.258))</td></tr><tr><td>730</td><td>762</td><td>71</td><td>0.329</td><td>0.275</td><td>0.415</td><td>Map(vectorType -> dense, length -> 5, values -> List(730.0, 762.0, 71.0, 0.329, 0.275))</td></tr><tr><td>667</td><td>633</td><td>86</td><td>0.313</td><td>0.253</td><td>0.402</td><td>Map(vectorType -> dense, length -> 5, values -> List(667.0, 633.0, 86.0, 0.313, 0.253))</td></tr><tr><td>644</td><td>612</td><td>82</td><td>0.322</td><td>0.257</td><td>0.375</td><td>Map(vectorType -> dense, length -> 5, values -> List(644.0, 612.0, 82.0, 0.322, 0.257))</td></tr><tr><td>721</td><td>638</td><td>96</td><td>0.325</td><td>0.261</td><td>0.425</td><td>Map(vectorType -> dense, length -> 5, values -> List(721.0, 638.0, 96.0, 0.325, 0.261))</td></tr><tr><td>619</td><td>804</td><td>63</td><td>0.306</td><td>0.247</td><td>0.36</td><td>Map(vectorType -> dense, length -> 5, values -> List(619.0, 804.0, 63.0, 0.306, 0.247))</td></tr><tr><td>718</td><td>742</td><td>77</td><td>0.335</td><td>0.264</td><td>0.391</td><td>Map(vectorType -> dense, length -> 5, values -> List(718.0, 742.0, 77.0, 0.335, 0.264))</td></tr><tr><td>867</td><td>657</td><td>97</td><td>0.343</td><td>0.263</td><td>0.444</td><td>Map(vectorType -> dense, length -> 5, values -> List(867.0, 657.0, 97.0, 0.343, 0.263))</td></tr><tr><td>645</td><td>679</td><td>74</td><td>0.311</td><td>0.244</td><td>0.369</td><td>Map(vectorType -> dense, length -> 5, values -> List(645.0, 679.0, 74.0, 0.311, 0.244))</td></tr><tr><td>713</td><td>529</td><td>102</td><td>0.323</td><td>0.253</td><td>0.395</td><td>Map(vectorType -> dense, length -> 5, values -> List(713.0, 529.0, 102.0, 0.323, 0.253))</td></tr><tr><td>610</td><td>712</td><td>72</td><td>0.309</td><td>0.244</td><td>0.368</td><td>Map(vectorType -> dense, length -> 5, values -> List(610.0, 712.0, 72.0, 0.309, 0.244))</td></tr><tr><td>593</td><td>611</td><td>71</td><td>0.305</td><td>0.237</td><td>0.349</td><td>Map(vectorType -> dense, length -> 5, values -> List(593.0, 611.0, 71.0, 0.305, 0.237))</td></tr><tr><td>556</td><td>675</td><td>67</td><td>0.292</td><td>0.233</td><td>0.348</td><td>Map(vectorType -> dense, length -> 5, values -> List(556.0, 675.0, 67.0, 0.292, 0.233))</td></tr><tr><td>570</td><td>578</td><td>86</td><td>0.303</td><td>0.242</td><td>0.368</td><td>Map(vectorType -> dense, length -> 5, values -> List(570.0, 578.0, 86.0, 0.303, 0.242))</td></tr><tr><td>762</td><td>692</td><td>90</td><td>0.341</td><td>0.273</td><td>0.425</td><td>Map(vectorType -> dense, length -> 5, values -> List(762.0, 692.0, 90.0, 0.341, 0.273))</td></tr><tr><td>707</td><td>614</td><td>91</td><td>0.322</td><td>0.244</td><td>0.402</td><td>Map(vectorType -> dense, length -> 5, values -> List(707.0, 614.0, 91.0, 0.322, 0.244))</td></tr><tr><td>855</td><td>677</td><td>96</td><td>0.34</td><td>0.283</td><td>0.46</td><td>Map(vectorType -> dense, length -> 5, values -> List(855.0, 677.0, 96.0, 0.34, 0.283))</td></tr><tr><td>743</td><td>761</td><td>81</td><td>0.317</td><td>0.249</td><td>0.413</td><td>Map(vectorType -> dense, length -> 5, values -> List(743.0, 761.0, 81.0, 0.317, 0.249))</td></tr><tr><td>624</td><td>643</td><td>80</td><td>0.309</td><td>0.242</td><td>0.383</td><td>Map(vectorType -> dense, length -> 5, values -> List(624.0, 643.0, 80.0, 0.309, 0.242))</td></tr><tr><td>713</td><td>836</td><td>65</td><td>0.325</td><td>0.25</td><td>0.416</td><td>Map(vectorType -> dense, length -> 5, values -> List(713.0, 836.0, 65.0, 0.325, 0.25))</td></tr><tr><td>738</td><td>629</td><td>91</td><td>0.339</td><td>0.258</td><td>0.401</td><td>Map(vectorType -> dense, length -> 5, values -> List(738.0, 629.0, 91.0, 0.339, 0.258))</td></tr><tr><td>613</td><td>785</td><td>66</td><td>0.316</td><td>0.259</td><td>0.386</td><td>Map(vectorType -> dense, length -> 5, values -> List(613.0, 785.0, 66.0, 0.316, 0.259))</td></tr><tr><td>818</td><td>744</td><td>89</td><td>0.339</td><td>0.268</td><td>0.451</td><td>Map(vectorType -> dense, length -> 5, values -> List(818.0, 744.0, 89.0, 0.339, 0.268))</td></tr><tr><td>685</td><td>767</td><td>75</td><td>0.32</td><td>0.257</td><td>0.401</td><td>Map(vectorType -> dense, length -> 5, values -> List(685.0, 767.0, 75.0, 0.32, 0.257))</td></tr><tr><td>752</td><td>704</td><td>88</td><td>0.332</td><td>0.268</td><td>0.42</td><td>Map(vectorType -> dense, length -> 5, values -> List(752.0, 704.0, 88.0, 0.332, 0.268))</td></tr><tr><td>790</td><td>685</td><td>91</td><td>0.338</td><td>0.272</td><td>0.436</td><td>Map(vectorType -> dense, length -> 5, values -> List(790.0, 685.0, 91.0, 0.338, 0.272))</td></tr><tr><td>646</td><td>752</td><td>69</td><td>0.322</td><td>0.248</td><td>0.378</td><td>Map(vectorType -> dense, length -> 5, values -> List(646.0, 752.0, 69.0, 0.322, 0.248))</td></tr><tr><td>770</td><td>717</td><td>83</td><td>0.336</td><td>0.263</td><td>0.425</td><td>Map(vectorType -> dense, length -> 5, values -> List(770.0, 717.0, 83.0, 0.336, 0.263))</td></tr><tr><td>751</td><td>743</td><td>81</td><td>0.335</td><td>0.268</td><td>0.415</td><td>Map(vectorType -> dense, length -> 5, values -> List(751.0, 743.0, 81.0, 0.335, 0.268))</td></tr><tr><td>719</td><td>717</td><td>80</td><td>0.321</td><td>0.254</td><td>0.403</td><td>Map(vectorType -> dense, length -> 5, values -> List(719.0, 717.0, 80.0, 0.321, 0.254))</td></tr><tr><td>611</td><td>729</td><td>76</td><td>0.303</td><td>0.247</td><td>0.362</td><td>Map(vectorType -> dense, length -> 5, values -> List(611.0, 729.0, 76.0, 0.303, 0.247))</td></tr><tr><td>676</td><td>845</td><td>67</td><td>0.331</td><td>0.274</td><td>0.399</td><td>Map(vectorType -> dense, length -> 5, values -> List(676.0, 845.0, 67.0, 0.331, 0.274))</td></tr><tr><td>681</td><td>702</td><td>80</td><td>0.311</td><td>0.248</td><td>0.39</td><td>Map(vectorType -> dense, length -> 5, values -> List(681.0, 702.0, 80.0, 0.311, 0.248))</td></tr><tr><td>667</td><td>692</td><td>80</td><td>0.322</td><td>0.252</td><td>0.379</td><td>Map(vectorType -> dense, length -> 5, values -> List(667.0, 692.0, 80.0, 0.322, 0.252))</td></tr><tr><td>750</td><td>804</td><td>77</td><td>0.335</td><td>0.262</td><td>0.424</td><td>Map(vectorType -> dense, length -> 5, values -> List(750.0, 804.0, 77.0, 0.335, 0.262))</td></tr><tr><td>781</td><td>671</td><td>94</td><td>0.341</td><td>0.273</td><td>0.422</td><td>Map(vectorType -> dense, length -> 5, values -> List(781.0, 671.0, 94.0, 0.341, 0.273))</td></tr><tr><td>656</td><td>652</td><td>79</td><td>0.314</td><td>0.249</td><td>0.383</td><td>Map(vectorType -> dense, length -> 5, values -> List(656.0, 652.0, 79.0, 0.314, 0.249))</td></tr><tr><td>859</td><td>693</td><td>95</td><td>0.35</td><td>0.267</td><td>0.436</td><td>Map(vectorType -> dense, length -> 5, values -> List(859.0, 693.0, 95.0, 0.35, 0.267))</td></tr><tr><td>663</td><td>626</td><td>81</td><td>0.324</td><td>0.256</td><td>0.378</td><td>Map(vectorType -> dense, length -> 5, values -> List(663.0, 626.0, 81.0, 0.324, 0.256))</td></tr><tr><td>772</td><td>640</td><td>97</td><td>0.332</td><td>0.26</td><td>0.413</td><td>Map(vectorType -> dense, length -> 5, values -> List(772.0, 640.0, 97.0, 0.332, 0.26))</td></tr><tr><td>587</td><td>866</td><td>57</td><td>0.304</td><td>0.242</td><td>0.373</td><td>Map(vectorType -> dense, length -> 5, values -> List(587.0, 866.0, 57.0, 0.304, 0.242))</td></tr><tr><td>665</td><td>581</td><td>90</td><td>0.317</td><td>0.246</td><td>0.371</td><td>Map(vectorType -> dense, length -> 5, values -> List(665.0, 581.0, 90.0, 0.317, 0.246))</td></tr><tr><td>513</td><td>698</td><td>61</td><td>0.298</td><td>0.236</td><td>0.339</td><td>Map(vectorType -> dense, length -> 5, values -> List(513.0, 698.0, 61.0, 0.298, 0.236))</td></tr><tr><td>697</td><td>583</td><td>92</td><td>0.321</td><td>0.257</td><td>0.408</td><td>Map(vectorType -> dense, length -> 5, values -> List(697.0, 583.0, 92.0, 0.321, 0.257))</td></tr><tr><td>736</td><td>641</td><td>86</td><td>0.332</td><td>0.263</td><td>0.402</td><td>Map(vectorType -> dense, length -> 5, values -> List(736.0, 641.0, 86.0, 0.332, 0.263))</td></tr><tr><td>802</td><td>649</td><td>96</td><td>0.333</td><td>0.247</td><td>0.403</td><td>Map(vectorType -> dense, length -> 5, values -> List(802.0, 649.0, 96.0, 0.333, 0.247))</td></tr><tr><td>787</td><td>687</td><td>90</td><td>0.338</td><td>0.276</td><td>0.419</td><td>Map(vectorType -> dense, length -> 5, values -> List(787.0, 687.0, 90.0, 0.338, 0.276))</td></tr><tr><td>755</td><td>728</td><td>85</td><td>0.312</td><td>0.248</td><td>0.454</td><td>Map(vectorType -> dense, length -> 5, values -> List(755.0, 728.0, 85.0, 0.312, 0.248))</td></tr><tr><td>655</td><td>742</td><td>69</td><td>0.318</td><td>0.25</td><td>0.39</td><td>Map(vectorType -> dense, length -> 5, values -> List(655.0, 742.0, 69.0, 0.318, 0.25))</td></tr><tr><td>720</td><td>782</td><td>70</td><td>0.324</td><td>0.253</td><td>0.418</td><td>Map(vectorType -> dense, length -> 5, values -> List(720.0, 782.0, 70.0, 0.324, 0.253))</td></tr><tr><td>735</td><td>641</td><td>86</td><td>0.339</td><td>0.263</td><td>0.405</td><td>Map(vectorType -> dense, length -> 5, values -> List(735.0, 641.0, 86.0, 0.339, 0.263))</td></tr><tr><td>741</td><td>876</td><td>64</td><td>0.332</td><td>0.268</td><td>0.415</td><td>Map(vectorType -> dense, length -> 5, values -> List(741.0, 876.0, 64.0, 0.332, 0.268))</td></tr><tr><td>872</td><td>736</td><td>95</td><td>0.352</td><td>0.27</td><td>0.454</td><td>Map(vectorType -> dense, length -> 5, values -> List(872.0, 736.0, 95.0, 0.352, 0.27))</td></tr><tr><td>707</td><td>672</td><td>83</td><td>0.332</td><td>0.255</td><td>0.407</td><td>Map(vectorType -> dense, length -> 5, values -> List(707.0, 672.0, 83.0, 0.332, 0.255))</td></tr><tr><td>724</td><td>732</td><td>79</td><td>0.329</td><td>0.258</td><td>0.411</td><td>Map(vectorType -> dense, length -> 5, values -> List(724.0, 732.0, 79.0, 0.329, 0.258))</td></tr><tr><td>673</td><td>723</td><td>78</td><td>0.318</td><td>0.247</td><td>0.394</td><td>Map(vectorType -> dense, length -> 5, values -> List(673.0, 723.0, 78.0, 0.318, 0.247))</td></tr><tr><td>773</td><td>865</td><td>65</td><td>0.339</td><td>0.264</td><td>0.417</td><td>Map(vectorType -> dense, length -> 5, values -> List(773.0, 865.0, 65.0, 0.339, 0.264))</td></tr><tr><td>804</td><td>715</td><td>92</td><td>0.343</td><td>0.261</td><td>0.441</td><td>Map(vectorType -> dense, length -> 5, values -> List(804.0, 715.0, 92.0, 0.343, 0.261))</td></tr><tr><td>743</td><td>745</td><td>86</td><td>0.331</td><td>0.26</td><td>0.416</td><td>Map(vectorType -> dense, length -> 5, values -> List(743.0, 745.0, 86.0, 0.331, 0.26))</td></tr><tr><td>772</td><td>766</td><td>87</td><td>0.34</td><td>0.268</td><td>0.416</td><td>Map(vectorType -> dense, length -> 5, values -> List(772.0, 766.0, 87.0, 0.34, 0.268))</td></tr><tr><td>643</td><td>770</td><td>74</td><td>0.319</td><td>0.26</td><td>0.4</td><td>Map(vectorType -> dense, length -> 5, values -> List(643.0, 770.0, 74.0, 0.319, 0.26))</td></tr><tr><td>686</td><td>842</td><td>65</td><td>0.318</td><td>0.259</td><td>0.405</td><td>Map(vectorType -> dense, length -> 5, values -> List(686.0, 842.0, 65.0, 0.318, 0.259))</td></tr><tr><td>883</td><td>761</td><td>97</td><td>0.35</td><td>0.285</td><td>0.441</td><td>Map(vectorType -> dense, length -> 5, values -> List(883.0, 761.0, 97.0, 0.35, 0.285))</td></tr><tr><td>780</td><td>611</td><td>95</td><td>0.346</td><td>0.27</td><td>0.412</td><td>Map(vectorType -> dense, length -> 5, values -> List(780.0, 611.0, 95.0, 0.346, 0.27))</td></tr><tr><td>785</td><td>818</td><td>80</td><td>0.341</td><td>0.263</td><td>0.426</td><td>Map(vectorType -> dense, length -> 5, values -> List(785.0, 818.0, 80.0, 0.341, 0.263))</td></tr><tr><td>817</td><td>765</td><td>87</td><td>0.345</td><td>0.274</td><td>0.429</td><td>Map(vectorType -> dense, length -> 5, values -> List(817.0, 765.0, 87.0, 0.345, 0.274))</td></tr><tr><td>671</td><td>757</td><td>70</td><td>0.335</td><td>0.27</td><td>0.394</td><td>Map(vectorType -> dense, length -> 5, values -> List(671.0, 757.0, 70.0, 0.335, 0.27))</td></tr><tr><td>915</td><td>753</td><td>103</td><td>0.362</td><td>0.283</td><td>0.478</td><td>Map(vectorType -> dense, length -> 5, values -> List(915.0, 753.0, 103.0, 0.362, 0.283))</td></tr><tr><td>759</td><td>761</td><td>75</td><td>0.328</td><td>0.262</td><td>0.397</td><td>Map(vectorType -> dense, length -> 5, values -> List(759.0, 761.0, 75.0, 0.328, 0.262))</td></tr><tr><td>820</td><td>709</td><td>93</td><td>0.334</td><td>0.258</td><td>0.447</td><td>Map(vectorType -> dense, length -> 5, values -> List(820.0, 709.0, 93.0, 0.334, 0.258))</td></tr><tr><td>636</td><td>768</td><td>62</td><td>0.318</td><td>0.252</td><td>0.387</td><td>Map(vectorType -> dense, length -> 5, values -> List(636.0, 768.0, 62.0, 0.318, 0.252))</td></tr><tr><td>638</td><td>769</td><td>75</td><td>0.321</td><td>0.242</td><td>0.381</td><td>Map(vectorType -> dense, length -> 5, values -> List(638.0, 769.0, 75.0, 0.321, 0.242))</td></tr><tr><td>640</td><td>692</td><td>85</td><td>0.314</td><td>0.258</td><td>0.402</td><td>Map(vectorType -> dense, length -> 5, values -> List(640.0, 692.0, 85.0, 0.314, 0.258))</td></tr><tr><td>657</td><td>611</td><td>88</td><td>0.309</td><td>0.257</td><td>0.389</td><td>Map(vectorType -> dense, length -> 5, values -> List(657.0, 611.0, 88.0, 0.309, 0.257))</td></tr><tr><td>730</td><td>640</td><td>91</td><td>0.332</td><td>0.263</td><td>0.415</td><td>Map(vectorType -> dense, length -> 5, values -> List(730.0, 640.0, 91.0, 0.332, 0.263))</td></tr><tr><td>803</td><td>754</td><td>84</td><td>0.343</td><td>0.263</td><td>0.439</td><td>Map(vectorType -> dense, length -> 5, values -> List(803.0, 754.0, 84.0, 0.343, 0.263))</td></tr><tr><td>784</td><td>740</td><td>87</td><td>0.32</td><td>0.26</td><td>0.445</td><td>Map(vectorType -> dense, length -> 5, values -> List(784.0, 740.0, 87.0, 0.32, 0.26))</td></tr><tr><td>798</td><td>771</td><td>75</td><td>0.333</td><td>0.266</td><td>0.44</td><td>Map(vectorType -> dense, length -> 5, values -> List(798.0, 771.0, 75.0, 0.333, 0.266))</td></tr><tr><td>710</td><td>874</td><td>59</td><td>0.337</td><td>0.258</td><td>0.406</td><td>Map(vectorType -> dense, length -> 5, values -> List(710.0, 874.0, 59.0, 0.337, 0.258))</td></tr><tr><td>720</td><td>706</td><td>82</td><td>0.327</td><td>0.251</td><td>0.415</td><td>Map(vectorType -> dense, length -> 5, values -> List(720.0, 706.0, 82.0, 0.327, 0.251))</td></tr><tr><td>753</td><td>778</td><td>72</td><td>0.345</td><td>0.27</td><td>0.408</td><td>Map(vectorType -> dense, length -> 5, values -> List(753.0, 778.0, 72.0, 0.345, 0.27))</td></tr><tr><td>782</td><td>869</td><td>68</td><td>0.333</td><td>0.267</td><td>0.429</td><td>Map(vectorType -> dense, length -> 5, values -> List(782.0, 869.0, 68.0, 0.333, 0.267))</td></tr><tr><td>845</td><td>694</td><td>95</td><td>0.358</td><td>0.28</td><td>0.447</td><td>Map(vectorType -> dense, length -> 5, values -> List(845.0, 694.0, 95.0, 0.358, 0.28))</td></tr><tr><td>855</td><td>671</td><td>97</td><td>0.354</td><td>0.278</td><td>0.443</td><td>Map(vectorType -> dense, length -> 5, values -> List(855.0, 671.0, 97.0, 0.354, 0.278))</td></tr><tr><td>811</td><td>729</td><td>89</td><td>0.332</td><td>0.263</td><td>0.448</td><td>Map(vectorType -> dense, length -> 5, values -> List(811.0, 729.0, 89.0, 0.332, 0.263))</td></tr><tr><td>704</td><td>800</td><td>74</td><td>0.321</td><td>0.247</td><td>0.408</td><td>Map(vectorType -> dense, length -> 5, values -> List(704.0, 800.0, 74.0, 0.321, 0.247))</td></tr><tr><td>805</td><td>761</td><td>81</td><td>0.339</td><td>0.262</td><td>0.424</td><td>Map(vectorType -> dense, length -> 5, values -> List(805.0, 761.0, 81.0, 0.339, 0.262))</td></tr><tr><td>747</td><td>822</td><td>74</td><td>0.336</td><td>0.263</td><td>0.415</td><td>Map(vectorType -> dense, length -> 5, values -> List(747.0, 822.0, 74.0, 0.336, 0.263))</td></tr><tr><td>821</td><td>857</td><td>74</td><td>0.34</td><td>0.271</td><td>0.444</td><td>Map(vectorType -> dense, length -> 5, values -> List(821.0, 857.0, 74.0, 0.34, 0.271))</td></tr><tr><td>770</td><td>767</td><td>84</td><td>0.326</td><td>0.254</td><td>0.433</td><td>Map(vectorType -> dense, length -> 5, values -> List(770.0, 767.0, 84.0, 0.326, 0.254))</td></tr><tr><td>712</td><td>743</td><td>86</td><td>0.323</td><td>0.263</td><td>0.415</td><td>Map(vectorType -> dense, length -> 5, values -> List(712.0, 743.0, 86.0, 0.323, 0.263))</td></tr><tr><td>691</td><td>781</td><td>75</td><td>0.32</td><td>0.269</td><td>0.397</td><td>Map(vectorType -> dense, length -> 5, values -> List(691.0, 781.0, 75.0, 0.32, 0.269))</td></tr><tr><td>765</td><td>697</td><td>100</td><td>0.33</td><td>0.268</td><td>0.413</td><td>Map(vectorType -> dense, length -> 5, values -> List(765.0, 697.0, 100.0, 0.33, 0.268))</td></tr><tr><td>700</td><td>648</td><td>84</td><td>0.333</td><td>0.264</td><td>0.399</td><td>Map(vectorType -> dense, length -> 5, values -> List(700.0, 648.0, 84.0, 0.333, 0.264))</td></tr><tr><td>750</td><td>689</td><td>90</td><td>0.325</td><td>0.253</td><td>0.431</td><td>Map(vectorType -> dense, length -> 5, values -> List(750.0, 689.0, 90.0, 0.325, 0.253))</td></tr><tr><td>829</td><td>745</td><td>88</td><td>0.34</td><td>0.279</td><td>0.408</td><td>Map(vectorType -> dense, length -> 5, values -> List(829.0, 745.0, 88.0, 0.34, 0.279))</td></tr><tr><td>799</td><td>715</td><td>89</td><td>0.34</td><td>0.266</td><td>0.42</td><td>Map(vectorType -> dense, length -> 5, values -> List(799.0, 715.0, 89.0, 0.34, 0.266))</td></tr><tr><td>789</td><td>727</td><td>89</td><td>0.342</td><td>0.271</td><td>0.427</td><td>Map(vectorType -> dense, length -> 5, values -> List(789.0, 727.0, 89.0, 0.342, 0.271))</td></tr><tr><td>646</td><td>690</td><td>75</td><td>0.318</td><td>0.242</td><td>0.369</td><td>Map(vectorType -> dense, length -> 5, values -> List(646.0, 690.0, 75.0, 0.318, 0.242))</td></tr><tr><td>799</td><td>680</td><td>92</td><td>0.332</td><td>0.255</td><td>0.438</td><td>Map(vectorType -> dense, length -> 5, values -> List(799.0, 680.0, 92.0, 0.332, 0.255))</td></tr><tr><td>735</td><td>884</td><td>67</td><td>0.32</td><td>0.258</td><td>0.403</td><td>Map(vectorType -> dense, length -> 5, values -> List(735.0, 884.0, 67.0, 0.32, 0.258))</td></tr><tr><td>637</td><td>764</td><td>63</td><td>0.317</td><td>0.25</td><td>0.39</td><td>Map(vectorType -> dense, length -> 5, values -> List(637.0, 764.0, 63.0, 0.317, 0.25))</td></tr><tr><td>671</td><td>811</td><td>61</td><td>0.318</td><td>0.265</td><td>0.389</td><td>Map(vectorType -> dense, length -> 5, values -> List(671.0, 811.0, 61.0, 0.318, 0.265))</td></tr><tr><td>640</td><td>759</td><td>72</td><td>0.321</td><td>0.262</td><td>0.382</td><td>Map(vectorType -> dense, length -> 5, values -> List(640.0, 759.0, 72.0, 0.321, 0.262))</td></tr><tr><td>779</td><td>725</td><td>86</td><td>0.35</td><td>0.281</td><td>0.433</td><td>Map(vectorType -> dense, length -> 5, values -> List(779.0, 725.0, 86.0, 0.35, 0.281))</td></tr><tr><td>774</td><td>671</td><td>97</td><td>0.34</td><td>0.26</td><td>0.422</td><td>Map(vectorType -> dense, length -> 5, values -> List(774.0, 671.0, 97.0, 0.34, 0.26))</td></tr><tr><td>901</td><td>967</td><td>79</td><td>0.354</td><td>0.283</td><td>0.462</td><td>Map(vectorType -> dense, length -> 5, values -> List(901.0, 967.0, 79.0, 0.354, 0.283))</td></tr><tr><td>714</td><td>610</td><td>86</td><td>0.331</td><td>0.264</td><td>0.399</td><td>Map(vectorType -> dense, length -> 5, values -> List(714.0, 610.0, 86.0, 0.331, 0.264))</td></tr><tr><td>641</td><td>825</td><td>59</td><td>0.323</td><td>0.251</td><td>0.373</td><td>Map(vectorType -> dense, length -> 5, values -> List(641.0, 825.0, 59.0, 0.323, 0.251))</td></tr><tr><td>712</td><td>732</td><td>90</td><td>0.321</td><td>0.25</td><td>0.413</td><td>Map(vectorType -> dense, length -> 5, values -> List(712.0, 732.0, 90.0, 0.321, 0.25))</td></tr><tr><td>810</td><td>733</td><td>84</td><td>0.339</td><td>0.275</td><td>0.435</td><td>Map(vectorType -> dense, length -> 5, values -> List(810.0, 733.0, 84.0, 0.339, 0.275))</td></tr><tr><td>756</td><td>868</td><td>69</td><td>0.333</td><td>0.272</td><td>0.412</td><td>Map(vectorType -> dense, length -> 5, values -> List(756.0, 868.0, 69.0, 0.333, 0.272))</td></tr><tr><td>867</td><td>657</td><td>96</td><td>0.362</td><td>0.279</td><td>0.444</td><td>Map(vectorType -> dense, length -> 5, values -> List(867.0, 657.0, 96.0, 0.362, 0.279))</td></tr><tr><td>752</td><td>690</td><td>85</td><td>0.333</td><td>0.271</td><td>0.422</td><td>Map(vectorType -> dense, length -> 5, values -> List(752.0, 690.0, 85.0, 0.333, 0.271))</td></tr><tr><td>693</td><td>839</td><td>72</td><td>0.318</td><td>0.246</td><td>0.404</td><td>Map(vectorType -> dense, length -> 5, values -> List(693.0, 839.0, 72.0, 0.318, 0.246))</td></tr><tr><td>783</td><td>853</td><td>72</td><td>0.335</td><td>0.267</td><td>0.436</td><td>Map(vectorType -> dense, length -> 5, values -> List(783.0, 853.0, 72.0, 0.335, 0.267))</td></tr><tr><td>811</td><td>704</td><td>96</td><td>0.343</td><td>0.268</td><td>0.428</td><td>Map(vectorType -> dense, length -> 5, values -> List(811.0, 704.0, 96.0, 0.343, 0.268))</td></tr><tr><td>860</td><td>758</td><td>90</td><td>0.354</td><td>0.28</td><td>0.437</td><td>Map(vectorType -> dense, length -> 5, values -> List(860.0, 758.0, 90.0, 0.354, 0.28))</td></tr><tr><td>887</td><td>797</td><td>88</td><td>0.345</td><td>0.287</td><td>0.458</td><td>Map(vectorType -> dense, length -> 5, values -> List(887.0, 797.0, 88.0, 0.345, 0.287))</td></tr><tr><td>790</td><td>891</td><td>71</td><td>0.336</td><td>0.267</td><td>0.448</td><td>Map(vectorType -> dense, length -> 5, values -> List(790.0, 891.0, 71.0, 0.336, 0.267))</td></tr><tr><td>723</td><td>813</td><td>73</td><td>0.33</td><td>0.26</td><td>0.412</td><td>Map(vectorType -> dense, length -> 5, values -> List(723.0, 813.0, 73.0, 0.33, 0.26))</td></tr><tr><td>706</td><td>778</td><td>69</td><td>0.322</td><td>0.261</td><td>0.388</td><td>Map(vectorType -> dense, length -> 5, values -> List(706.0, 778.0, 69.0, 0.322, 0.261))</td></tr><tr><td>822</td><td>731</td><td>94</td><td>0.345</td><td>0.284</td><td>0.417</td><td>Map(vectorType -> dense, length -> 5, values -> List(822.0, 731.0, 94.0, 0.345, 0.284))</td></tr><tr><td>735</td><td>727</td><td>82</td><td>0.337</td><td>0.275</td><td>0.406</td><td>Map(vectorType -> dense, length -> 5, values -> List(735.0, 727.0, 82.0, 0.337, 0.275))</td></tr><tr><td>801</td><td>776</td><td>83</td><td>0.329</td><td>0.262</td><td>0.456</td><td>Map(vectorType -> dense, length -> 5, values -> List(801.0, 776.0, 83.0, 0.329, 0.262))</td></tr><tr><td>718</td><td>725</td><td>79</td><td>0.33</td><td>0.264</td><td>0.391</td><td>Map(vectorType -> dense, length -> 5, values -> List(718.0, 725.0, 79.0, 0.33, 0.264))</td></tr><tr><td>804</td><td>750</td><td>88</td><td>0.342</td><td>0.275</td><td>0.432</td><td>Map(vectorType -> dense, length -> 5, values -> List(804.0, 750.0, 88.0, 0.342, 0.275))</td></tr><tr><td>968</td><td>777</td><td>94</td><td>0.366</td><td>0.29</td><td>0.463</td><td>Map(vectorType -> dense, length -> 5, values -> List(968.0, 777.0, 94.0, 0.366, 0.29))</td></tr><tr><td>741</td><td>758</td><td>76</td><td>0.338</td><td>0.256</td><td>0.407</td><td>Map(vectorType -> dense, length -> 5, values -> List(741.0, 758.0, 76.0, 0.338, 0.256))</td></tr><tr><td>892</td><td>821</td><td>89</td><td>0.354</td><td>0.274</td><td>0.458</td><td>Map(vectorType -> dense, length -> 5, values -> List(892.0, 821.0, 89.0, 0.354, 0.274))</td></tr><tr><td>724</td><td>846</td><td>68</td><td>0.325</td><td>0.263</td><td>0.411</td><td>Map(vectorType -> dense, length -> 5, values -> List(724.0, 846.0, 68.0, 0.325, 0.263))</td></tr><tr><td>741</td><td>666</td><td>89</td><td>0.322</td><td>0.251</td><td>0.411</td><td>Map(vectorType -> dense, length -> 5, values -> List(741.0, 666.0, 89.0, 0.322, 0.251))</td></tr><tr><td>794</td><td>813</td><td>88</td><td>0.337</td><td>0.287</td><td>0.425</td><td>Map(vectorType -> dense, length -> 5, values -> List(794.0, 813.0, 88.0, 0.337, 0.287))</td></tr><tr><td>683</td><td>720</td><td>71</td><td>0.322</td><td>0.254</td><td>0.387</td><td>Map(vectorType -> dense, length -> 5, values -> List(683.0, 720.0, 71.0, 0.322, 0.254))</td></tr><tr><td>725</td><td>829</td><td>78</td><td>0.337</td><td>0.274</td><td>0.405</td><td>Map(vectorType -> dense, length -> 5, values -> List(725.0, 829.0, 78.0, 0.337, 0.274))</td></tr><tr><td>782</td><td>944</td><td>66</td><td>0.336</td><td>0.268</td><td>0.433</td><td>Map(vectorType -> dense, length -> 5, values -> List(782.0, 944.0, 66.0, 0.336, 0.268))</td></tr><tr><td>816</td><td>844</td><td>75</td><td>0.328</td><td>0.263</td><td>0.426</td><td>Map(vectorType -> dense, length -> 5, values -> List(816.0, 844.0, 75.0, 0.328, 0.263))</td></tr><tr><td>753</td><td>699</td><td>83</td><td>0.327</td><td>0.259</td><td>0.419</td><td>Map(vectorType -> dense, length -> 5, values -> List(753.0, 699.0, 83.0, 0.327, 0.259))</td></tr><tr><td>673</td><td>783</td><td>73</td><td>0.325</td><td>0.256</td><td>0.39</td><td>Map(vectorType -> dense, length -> 5, values -> List(673.0, 783.0, 73.0, 0.325, 0.256))</td></tr><tr><td>773</td><td>788</td><td>76</td><td>0.331</td><td>0.267</td><td>0.424</td><td>Map(vectorType -> dense, length -> 5, values -> List(773.0, 788.0, 76.0, 0.331, 0.267))</td></tr><tr><td>849</td><td>805</td><td>79</td><td>0.337</td><td>0.27</td><td>0.455</td><td>Map(vectorType -> dense, length -> 5, values -> List(849.0, 805.0, 79.0, 0.337, 0.27))</td></tr><tr><td>768</td><td>899</td><td>70</td><td>0.339</td><td>0.277</td><td>0.424</td><td>Map(vectorType -> dense, length -> 5, values -> List(768.0, 899.0, 70.0, 0.339, 0.277))</td></tr><tr><td>820</td><td>825</td><td>86</td><td>0.351</td><td>0.269</td><td>0.435</td><td>Map(vectorType -> dense, length -> 5, values -> List(820.0, 825.0, 86.0, 0.351, 0.269))</td></tr><tr><td>716</td><td>834</td><td>66</td><td>0.319</td><td>0.268</td><td>0.422</td><td>Map(vectorType -> dense, length -> 5, values -> List(716.0, 834.0, 66.0, 0.319, 0.268))</td></tr><tr><td>868</td><td>794</td><td>90</td><td>0.342</td><td>0.28</td><td>0.464</td><td>Map(vectorType -> dense, length -> 5, values -> List(868.0, 794.0, 90.0, 0.342, 0.28))</td></tr><tr><td>749</td><td>801</td><td>80</td><td>0.336</td><td>0.257</td><td>0.432</td><td>Map(vectorType -> dense, length -> 5, values -> List(749.0, 801.0, 80.0, 0.336, 0.257))</td></tr><tr><td>870</td><td>782</td><td>78</td><td>0.349</td><td>0.28</td><td>0.457</td><td>Map(vectorType -> dense, length -> 5, values -> List(870.0, 782.0, 78.0, 0.349, 0.28))</td></tr><tr><td>813</td><td>812</td><td>76</td><td>0.341</td><td>0.27</td><td>0.433</td><td>Map(vectorType -> dense, length -> 5, values -> List(813.0, 812.0, 76.0, 0.341, 0.27))</td></tr><tr><td>822</td><td>675</td><td>95</td><td>0.329</td><td>0.274</td><td>0.449</td><td>Map(vectorType -> dense, length -> 5, values -> List(822.0, 675.0, 95.0, 0.329, 0.274))</td></tr><tr><td>758</td><td>772</td><td>78</td><td>0.331</td><td>0.264</td><td>0.435</td><td>Map(vectorType -> dense, length -> 5, values -> List(758.0, 772.0, 78.0, 0.331, 0.264))</td></tr><tr><td>735</td><td>719</td><td>82</td><td>0.332</td><td>0.255</td><td>0.409</td><td>Map(vectorType -> dense, length -> 5, values -> List(735.0, 719.0, 82.0, 0.332, 0.255))</td></tr><tr><td>757</td><td>971</td><td>62</td><td>0.332</td><td>0.271</td><td>0.411</td><td>Map(vectorType -> dense, length -> 5, values -> List(757.0, 971.0, 62.0, 0.332, 0.271))</td></tr><tr><td>766</td><td>732</td><td>89</td><td>0.334</td><td>0.274</td><td>0.425</td><td>Map(vectorType -> dense, length -> 5, values -> List(766.0, 732.0, 89.0, 0.334, 0.274))</td></tr><tr><td>820</td><td>751</td><td>88</td><td>0.348</td><td>0.276</td><td>0.432</td><td>Map(vectorType -> dense, length -> 5, values -> List(820.0, 751.0, 88.0, 0.348, 0.276))</td></tr><tr><td>730</td><td>833</td><td>75</td><td>0.327</td><td>0.258</td><td>0.42</td><td>Map(vectorType -> dense, length -> 5, values -> List(730.0, 833.0, 75.0, 0.327, 0.258))</td></tr><tr><td>801</td><td>683</td><td>96</td><td>0.347</td><td>0.287</td><td>0.425</td><td>Map(vectorType -> dense, length -> 5, values -> List(801.0, 683.0, 96.0, 0.347, 0.287))</td></tr><tr><td>834</td><td>731</td><td>97</td><td>0.334</td><td>0.264</td><td>0.445</td><td>Map(vectorType -> dense, length -> 5, values -> List(834.0, 731.0, 97.0, 0.334, 0.264))</td></tr><tr><td>930</td><td>767</td><td>97</td><td>0.363</td><td>0.285</td><td>0.461</td><td>Map(vectorType -> dense, length -> 5, values -> List(930.0, 767.0, 97.0, 0.363, 0.285))</td></tr><tr><td>771</td><td>727</td><td>93</td><td>0.34</td><td>0.26</td><td>0.412</td><td>Map(vectorType -> dense, length -> 5, values -> List(771.0, 727.0, 93.0, 0.34, 0.26))</td></tr><tr><td>865</td><td>812</td><td>85</td><td>0.347</td><td>0.267</td><td>0.447</td><td>Map(vectorType -> dense, length -> 5, values -> List(865.0, 812.0, 85.0, 0.347, 0.267))</td></tr><tr><td>691</td><td>797</td><td>67</td><td>0.327</td><td>0.263</td><td>0.397</td><td>Map(vectorType -> dense, length -> 5, values -> List(691.0, 797.0, 67.0, 0.327, 0.263))</td></tr><tr><td>731</td><td>679</td><td>88</td><td>0.332</td><td>0.263</td><td>0.416</td><td>Map(vectorType -> dense, length -> 5, values -> List(731.0, 679.0, 88.0, 0.332, 0.263))</td></tr><tr><td>756</td><td>792</td><td>78</td><td>0.325</td><td>0.272</td><td>0.424</td><td>Map(vectorType -> dense, length -> 5, values -> List(756.0, 792.0, 78.0, 0.325, 0.272))</td></tr><tr><td>746</td><td>790</td><td>76</td><td>0.324</td><td>0.259</td><td>0.422</td><td>Map(vectorType -> dense, length -> 5, values -> List(746.0, 790.0, 76.0, 0.324, 0.259))</td></tr><tr><td>781</td><td>762</td><td>83</td><td>0.337</td><td>0.269</td><td>0.431</td><td>Map(vectorType -> dense, length -> 5, values -> List(781.0, 762.0, 83.0, 0.337, 0.269))</td></tr><tr><td>689</td><td>856</td><td>61</td><td>0.314</td><td>0.255</td><td>0.42</td><td>Map(vectorType -> dense, length -> 5, values -> List(689.0, 856.0, 61.0, 0.314, 0.255))</td></tr><tr><td>835</td><td>784</td><td>80</td><td>0.338</td><td>0.278</td><td>0.446</td><td>Map(vectorType -> dense, length -> 5, values -> List(835.0, 784.0, 80.0, 0.338, 0.278))</td></tr><tr><td>809</td><td>754</td><td>87</td><td>0.348</td><td>0.284</td><td>0.463</td><td>Map(vectorType -> dense, length -> 5, values -> List(809.0, 754.0, 87.0, 0.348, 0.284))</td></tr><tr><td>746</td><td>872</td><td>71</td><td>0.338</td><td>0.262</td><td>0.418</td><td>Map(vectorType -> dense, length -> 5, values -> List(746.0, 872.0, 71.0, 0.338, 0.262))</td></tr><tr><td>696</td><td>856</td><td>77</td><td>0.332</td><td>0.256</td><td>0.421</td><td>Map(vectorType -> dense, length -> 5, values -> List(696.0, 856.0, 77.0, 0.332, 0.256))</td></tr><tr><td>769</td><td>674</td><td>90</td><td>0.333</td><td>0.265</td><td>0.435</td><td>Map(vectorType -> dense, length -> 5, values -> List(769.0, 674.0, 90.0, 0.333, 0.265))</td></tr><tr><td>729</td><td>800</td><td>74</td><td>0.327</td><td>0.269</td><td>0.434</td><td>Map(vectorType -> dense, length -> 5, values -> List(729.0, 800.0, 74.0, 0.327, 0.269))</td></tr><tr><td>910</td><td>805</td><td>95</td><td>0.357</td><td>0.281</td><td>0.454</td><td>Map(vectorType -> dense, length -> 5, values -> List(910.0, 805.0, 95.0, 0.357, 0.281))</td></tr><tr><td>703</td><td>714</td><td>79</td><td>0.324</td><td>0.27</td><td>0.44</td><td>Map(vectorType -> dense, length -> 5, values -> List(703.0, 714.0, 79.0, 0.324, 0.27))</td></tr><tr><td>741</td><td>645</td><td>99</td><td>0.322</td><td>0.262</td><td>0.425</td><td>Map(vectorType -> dense, length -> 5, values -> List(741.0, 645.0, 99.0, 0.322, 0.262))</td></tr><tr><td>820</td><td>889</td><td>73</td><td>0.339</td><td>0.261</td><td>0.446</td><td>Map(vectorType -> dense, length -> 5, values -> List(820.0, 889.0, 73.0, 0.339, 0.261))</td></tr><tr><td>790</td><td>642</td><td>93</td><td>0.334</td><td>0.271</td><td>0.453</td><td>Map(vectorType -> dense, length -> 5, values -> List(790.0, 642.0, 93.0, 0.334, 0.271))</td></tr><tr><td>740</td><td>862</td><td>67</td><td>0.333</td><td>0.267</td><td>0.411</td><td>Map(vectorType -> dense, length -> 5, values -> List(740.0, 862.0, 67.0, 0.333, 0.267))</td></tr><tr><td>723</td><td>787</td><td>71</td><td>0.321</td><td>0.272</td><td>0.428</td><td>Map(vectorType -> dense, length -> 5, values -> List(723.0, 787.0, 71.0, 0.321, 0.272))</td></tr><tr><td>717</td><td>732</td><td>83</td><td>0.339</td><td>0.272</td><td>0.409</td><td>Map(vectorType -> dense, length -> 5, values -> List(717.0, 732.0, 83.0, 0.339, 0.272))</td></tr><tr><td>693</td><td>609</td><td>89</td><td>0.322</td><td>0.256</td><td>0.408</td><td>Map(vectorType -> dense, length -> 5, values -> List(693.0, 609.0, 89.0, 0.322, 0.256))</td></tr><tr><td>701</td><td>935</td><td>56</td><td>0.32</td><td>0.263</td><td>0.396</td><td>Map(vectorType -> dense, length -> 5, values -> List(701.0, 935.0, 56.0, 0.32, 0.263))</td></tr><tr><td>761</td><td>643</td><td>95</td><td>0.325</td><td>0.27</td><td>0.409</td><td>Map(vectorType -> dense, length -> 5, values -> List(761.0, 643.0, 95.0, 0.325, 0.27))</td></tr><tr><td>685</td><td>755</td><td>71</td><td>0.326</td><td>0.253</td><td>0.395</td><td>Map(vectorType -> dense, length -> 5, values -> List(685.0, 755.0, 71.0, 0.326, 0.253))</td></tr><tr><td>726</td><td>697</td><td>81</td><td>0.331</td><td>0.259</td><td>0.423</td><td>Map(vectorType -> dense, length -> 5, values -> List(726.0, 697.0, 81.0, 0.331, 0.259))</td></tr><tr><td>688</td><td>662</td><td>83</td><td>0.323</td><td>0.259</td><td>0.391</td><td>Map(vectorType -> dense, length -> 5, values -> List(688.0, 662.0, 83.0, 0.323, 0.259))</td></tr><tr><td>722</td><td>648</td><td>83</td><td>0.322</td><td>0.258</td><td>0.416</td><td>Map(vectorType -> dense, length -> 5, values -> List(722.0, 648.0, 83.0, 0.322, 0.258))</td></tr><tr><td>886</td><td>789</td><td>95</td><td>0.355</td><td>0.276</td><td>0.45</td><td>Map(vectorType -> dense, length -> 5, values -> List(886.0, 789.0, 95.0, 0.355, 0.276))</td></tr><tr><td>772</td><td>658</td><td>88</td><td>0.33</td><td>0.262</td><td>0.407</td><td>Map(vectorType -> dense, length -> 5, values -> List(772.0, 658.0, 88.0, 0.33, 0.262))</td></tr><tr><td>807</td><td>726</td><td>88</td><td>0.348</td><td>0.27</td><td>0.423</td><td>Map(vectorType -> dense, length -> 5, values -> List(807.0, 726.0, 88.0, 0.348, 0.27))</td></tr><tr><td>680</td><td>769</td><td>67</td><td>0.322</td><td>0.259</td><td>0.4</td><td>Map(vectorType -> dense, length -> 5, values -> List(680.0, 769.0, 67.0, 0.322, 0.259))</td></tr><tr><td>684</td><td>726</td><td>82</td><td>0.333</td><td>0.257</td><td>0.391</td><td>Map(vectorType -> dense, length -> 5, values -> List(684.0, 726.0, 82.0, 0.333, 0.257))</td></tr><tr><td>699</td><td>751</td><td>69</td><td>0.317</td><td>0.256</td><td>0.391</td><td>Map(vectorType -> dense, length -> 5, values -> List(699.0, 751.0, 69.0, 0.317, 0.256))</td></tr><tr><td>649</td><td>745</td><td>75</td><td>0.319</td><td>0.261</td><td>0.396</td><td>Map(vectorType -> dense, length -> 5, values -> List(649.0, 745.0, 75.0, 0.319, 0.261))</td></tr><tr><td>805</td><td>634</td><td>100</td><td>0.339</td><td>0.27</td><td>0.423</td><td>Map(vectorType -> dense, length -> 5, values -> List(805.0, 634.0, 100.0, 0.339, 0.27))</td></tr><tr><td>750</td><td>936</td><td>67</td><td>0.329</td><td>0.274</td><td>0.425</td><td>Map(vectorType -> dense, length -> 5, values -> List(750.0, 936.0, 67.0, 0.329, 0.274))</td></tr><tr><td>865</td><td>858</td><td>79</td><td>0.329</td><td>0.267</td><td>0.468</td><td>Map(vectorType -> dense, length -> 5, values -> List(865.0, 858.0, 79.0, 0.329, 0.267))</td></tr><tr><td>775</td><td>705</td><td>80</td><td>0.331</td><td>0.265</td><td>0.407</td><td>Map(vectorType -> dense, length -> 5, values -> List(775.0, 705.0, 80.0, 0.331, 0.265))</td></tr><tr><td>639</td><td>673</td><td>81</td><td>0.322</td><td>0.252</td><td>0.386</td><td>Map(vectorType -> dense, length -> 5, values -> List(639.0, 673.0, 81.0, 0.322, 0.252))</td></tr><tr><td>836</td><td>734</td><td>92</td><td>0.341</td><td>0.282</td><td>0.429</td><td>Map(vectorType -> dense, length -> 5, values -> List(836.0, 734.0, 92.0, 0.341, 0.282))</td></tr><tr><td>615</td><td>899</td><td>51</td><td>0.31</td><td>0.253</td><td>0.393</td><td>Map(vectorType -> dense, length -> 5, values -> List(615.0, 899.0, 51.0, 0.31, 0.253))</td></tr><tr><td>803</td><td>668</td><td>96</td><td>0.343</td><td>0.27</td><td>0.434</td><td>Map(vectorType -> dense, length -> 5, values -> List(803.0, 668.0, 96.0, 0.343, 0.27))</td></tr><tr><td>842</td><td>830</td><td>78</td><td>0.345</td><td>0.281</td><td>0.432</td><td>Map(vectorType -> dense, length -> 5, values -> List(842.0, 830.0, 78.0, 0.345, 0.281))</td></tr><tr><td>949</td><td>768</td><td>98</td><td>0.36</td><td>0.282</td><td>0.472</td><td>Map(vectorType -> dense, length -> 5, values -> List(949.0, 768.0, 98.0, 0.36, 0.282))</td></tr><tr><td>789</td><td>665</td><td>89</td><td>0.328</td><td>0.268</td><td>0.458</td><td>Map(vectorType -> dense, length -> 5, values -> List(789.0, 665.0, 89.0, 0.328, 0.268))</td></tr><tr><td>865</td><td>831</td><td>83</td><td>0.333</td><td>0.268</td><td>0.457</td><td>Map(vectorType -> dense, length -> 5, values -> List(865.0, 831.0, 83.0, 0.333, 0.268))</td></tr><tr><td>750</td><td>907</td><td>76</td><td>0.331</td><td>0.25</td><td>0.418</td><td>Map(vectorType -> dense, length -> 5, values -> List(750.0, 907.0, 76.0, 0.331, 0.25))</td></tr><tr><td>858</td><td>857</td><td>80</td><td>0.351</td><td>0.276</td><td>0.444</td><td>Map(vectorType -> dense, length -> 5, values -> List(858.0, 857.0, 80.0, 0.351, 0.276))</td></tr><tr><td>833</td><td>923</td><td>68</td><td>0.345</td><td>0.275</td><td>0.455</td><td>Map(vectorType -> dense, length -> 5, values -> List(833.0, 923.0, 68.0, 0.345, 0.275))</td></tr><tr><td>827</td><td>844</td><td>72</td><td>0.337</td><td>0.272</td><td>0.449</td><td>Map(vectorType -> dense, length -> 5, values -> List(827.0, 844.0, 72.0, 0.337, 0.272))</td></tr><tr><td>718</td><td>700</td><td>83</td><td>0.329</td><td>0.264</td><td>0.406</td><td>Map(vectorType -> dense, length -> 5, values -> List(718.0, 700.0, 83.0, 0.329, 0.264))</td></tr><tr><td>803</td><td>698</td><td>92</td><td>0.342</td><td>0.267</td><td>0.436</td><td>Map(vectorType -> dense, length -> 5, values -> List(803.0, 698.0, 92.0, 0.342, 0.267))</td></tr><tr><td>720</td><td>905</td><td>58</td><td>0.322</td><td>0.259</td><td>0.397</td><td>Map(vectorType -> dense, length -> 5, values -> List(720.0, 905.0, 58.0, 0.322, 0.259))</td></tr><tr><td>761</td><td>684</td><td>93</td><td>0.332</td><td>0.262</td><td>0.423</td><td>Map(vectorType -> dense, length -> 5, values -> List(761.0, 684.0, 93.0, 0.332, 0.262))</td></tr><tr><td>634</td><td>757</td><td>67</td><td>0.321</td><td>0.248</td><td>0.387</td><td>Map(vectorType -> dense, length -> 5, values -> List(634.0, 757.0, 67.0, 0.321, 0.248))</td></tr><tr><td>780</td><td>715</td><td>92</td><td>0.332</td><td>0.266</td><td>0.431</td><td>Map(vectorType -> dense, length -> 5, values -> List(780.0, 715.0, 92.0, 0.332, 0.266))</td></tr><tr><td>635</td><td>769</td><td>67</td><td>0.313</td><td>0.249</td><td>0.392</td><td>Map(vectorType -> dense, length -> 5, values -> List(635.0, 769.0, 67.0, 0.313, 0.249))</td></tr><tr><td>684</td><td>731</td><td>71</td><td>0.317</td><td>0.249</td><td>0.409</td><td>Map(vectorType -> dense, length -> 5, values -> List(684.0, 731.0, 71.0, 0.317, 0.249))</td></tr><tr><td>897</td><td>808</td><td>101</td><td>0.353</td><td>0.268</td><td>0.458</td><td>Map(vectorType -> dense, length -> 5, values -> List(897.0, 808.0, 101.0, 0.353, 0.268))</td></tr><tr><td>793</td><td>742</td><td>91</td><td>0.343</td><td>0.27</td><td>0.433</td><td>Map(vectorType -> dense, length -> 5, values -> List(793.0, 742.0, 91.0, 0.343, 0.27))</td></tr><tr><td>840</td><td>781</td><td>86</td><td>0.345</td><td>0.267</td><td>0.443</td><td>Map(vectorType -> dense, length -> 5, values -> List(840.0, 781.0, 86.0, 0.345, 0.267))</td></tr><tr><td>680</td><td>744</td><td>72</td><td>0.321</td><td>0.26</td><td>0.401</td><td>Map(vectorType -> dense, length -> 5, values -> List(680.0, 744.0, 72.0, 0.321, 0.26))</td></tr><tr><td>768</td><td>705</td><td>87</td><td>0.342</td><td>0.273</td><td>0.414</td><td>Map(vectorType -> dense, length -> 5, values -> List(768.0, 705.0, 87.0, 0.342, 0.273))</td></tr><tr><td>698</td><td>823</td><td>63</td><td>0.331</td><td>0.27</td><td>0.396</td><td>Map(vectorType -> dense, length -> 5, values -> List(698.0, 823.0, 63.0, 0.331, 0.27))</td></tr><tr><td>850</td><td>770</td><td>91</td><td>0.357</td><td>0.27</td><td>0.438</td><td>Map(vectorType -> dense, length -> 5, values -> List(850.0, 770.0, 91.0, 0.357, 0.27))</td></tr><tr><td>855</td><td>659</td><td>105</td><td>0.344</td><td>0.278</td><td>0.46</td><td>Map(vectorType -> dense, length -> 5, values -> List(855.0, 659.0, 105.0, 0.344, 0.278))</td></tr><tr><td>714</td><td>842</td><td>70</td><td>0.32</td><td>0.258</td><td>0.405</td><td>Map(vectorType -> dense, length -> 5, values -> List(714.0, 842.0, 70.0, 0.32, 0.258))</td></tr><tr><td>860</td><td>794</td><td>89</td><td>0.329</td><td>0.266</td><td>0.457</td><td>Map(vectorType -> dense, length -> 5, values -> List(860.0, 794.0, 89.0, 0.329, 0.266))</td></tr><tr><td>719</td><td>823</td><td>67</td><td>0.328</td><td>0.26</td><td>0.403</td><td>Map(vectorType -> dense, length -> 5, values -> List(719.0, 823.0, 67.0, 0.328, 0.26))</td></tr><tr><td>736</td><td>743</td><td>77</td><td>0.33</td><td>0.268</td><td>0.413</td><td>Map(vectorType -> dense, length -> 5, values -> List(736.0, 743.0, 77.0, 0.33, 0.268))</td></tr><tr><td>717</td><td>685</td><td>84</td><td>0.33</td><td>0.263</td><td>0.417</td><td>Map(vectorType -> dense, length -> 5, values -> List(717.0, 685.0, 84.0, 0.33, 0.263))</td></tr><tr><td>907</td><td>740</td><td>101</td><td>0.349</td><td>0.284</td><td>0.475</td><td>Map(vectorType -> dense, length -> 5, values -> List(907.0, 740.0, 101.0, 0.349, 0.284))</td></tr><tr><td>743</td><td>820</td><td>71</td><td>0.323</td><td>0.268</td><td>0.405</td><td>Map(vectorType -> dense, length -> 5, values -> List(743.0, 820.0, 71.0, 0.323, 0.268))</td></tr><tr><td>961</td><td>809</td><td>95</td><td>0.36</td><td>0.289</td><td>0.491</td><td>Map(vectorType -> dense, length -> 5, values -> List(961.0, 809.0, 95.0, 0.36, 0.289))</td></tr><tr><td>724</td><td>683</td><td>88</td><td>0.323</td><td>0.259</td><td>0.416</td><td>Map(vectorType -> dense, length -> 5, values -> List(724.0, 683.0, 88.0, 0.323, 0.259))</td></tr><tr><td>791</td><td>715</td><td>86</td><td>0.331</td><td>0.263</td><td>0.446</td><td>Map(vectorType -> dense, length -> 5, values -> List(791.0, 715.0, 86.0, 0.331, 0.263))</td></tr><tr><td>694</td><td>886</td><td>69</td><td>0.318</td><td>0.245</td><td>0.395</td><td>Map(vectorType -> dense, length -> 5, values -> List(694.0, 886.0, 69.0, 0.318, 0.245))</td></tr><tr><td>699</td><td>778</td><td>68</td><td>0.316</td><td>0.254</td><td>0.401</td><td>Map(vectorType -> dense, length -> 5, values -> List(699.0, 778.0, 68.0, 0.316, 0.254))</td></tr><tr><td>853</td><td>892</td><td>74</td><td>0.344</td><td>0.267</td><td>0.445</td><td>Map(vectorType -> dense, length -> 5, values -> List(853.0, 892.0, 74.0, 0.344, 0.267))</td></tr><tr><td>591</td><td>928</td><td>43</td><td>0.3</td><td>0.24</td><td>0.375</td><td>Map(vectorType -> dense, length -> 5, values -> List(591.0, 928.0, 43.0, 0.3, 0.24))</td></tr><tr><td>751</td><td>692</td><td>91</td><td>0.333</td><td>0.266</td><td>0.421</td><td>Map(vectorType -> dense, length -> 5, values -> List(751.0, 692.0, 91.0, 0.333, 0.266))</td></tr><tr><td>805</td><td>677</td><td>87</td><td>0.336</td><td>0.263</td><td>0.431</td><td>Map(vectorType -> dense, length -> 5, values -> List(805.0, 677.0, 87.0, 0.336, 0.263))</td></tr><tr><td>836</td><td>867</td><td>83</td><td>0.336</td><td>0.274</td><td>0.427</td><td>Map(vectorType -> dense, length -> 5, values -> List(836.0, 867.0, 83.0, 0.336, 0.274))</td></tr><tr><td>574</td><td>556</td><td>85</td><td>0.303</td><td>0.243</td><td>0.368</td><td>Map(vectorType -> dense, length -> 5, values -> List(574.0, 556.0, 85.0, 0.303, 0.243))</td></tr><tr><td>714</td><td>873</td><td>68</td><td>0.329</td><td>0.256</td><td>0.419</td><td>Map(vectorType -> dense, length -> 5, values -> List(714.0, 873.0, 68.0, 0.329, 0.256))</td></tr><tr><td>801</td><td>758</td><td>90</td><td>0.341</td><td>0.277</td><td>0.431</td><td>Map(vectorType -> dense, length -> 5, values -> List(801.0, 758.0, 90.0, 0.341, 0.277))</td></tr><tr><td>711</td><td>716</td><td>83</td><td>0.326</td><td>0.258</td><td>0.401</td><td>Map(vectorType -> dense, length -> 5, values -> List(711.0, 716.0, 83.0, 0.326, 0.258))</td></tr><tr><td>642</td><td>754</td><td>66</td><td>0.314</td><td>0.247</td><td>0.374</td><td>Map(vectorType -> dense, length -> 5, values -> List(642.0, 754.0, 66.0, 0.314, 0.247))</td></tr><tr><td>877</td><td>716</td><td>101</td><td>0.356</td><td>0.271</td><td>0.453</td><td>Map(vectorType -> dense, length -> 5, values -> List(877.0, 716.0, 101.0, 0.356, 0.271))</td></tr><tr><td>768</td><td>643</td><td>96</td><td>0.327</td><td>0.254</td><td>0.417</td><td>Map(vectorType -> dense, length -> 5, values -> List(768.0, 643.0, 96.0, 0.327, 0.254))</td></tr><tr><td>791</td><td>697</td><td>86</td><td>0.343</td><td>0.261</td><td>0.419</td><td>Map(vectorType -> dense, length -> 5, values -> List(791.0, 697.0, 86.0, 0.343, 0.261))</td></tr><tr><td>753</td><td>801</td><td>75</td><td>0.338</td><td>0.267</td><td>0.42</td><td>Map(vectorType -> dense, length -> 5, values -> List(753.0, 801.0, 75.0, 0.338, 0.267))</td></tr><tr><td>678</td><td>831</td><td>64</td><td>0.333</td><td>0.261</td><td>0.388</td><td>Map(vectorType -> dense, length -> 5, values -> List(678.0, 831.0, 64.0, 0.333, 0.261))</td></tr><tr><td>795</td><td>637</td><td>93</td><td>0.344</td><td>0.271</td><td>0.41</td><td>Map(vectorType -> dense, length -> 5, values -> List(795.0, 637.0, 93.0, 0.344, 0.271))</td></tr><tr><td>755</td><td>638</td><td>100</td><td>0.338</td><td>0.264</td><td>0.425</td><td>Map(vectorType -> dense, length -> 5, values -> List(755.0, 638.0, 100.0, 0.338, 0.264))</td></tr><tr><td>876</td><td>796</td><td>85</td><td>0.35</td><td>0.279</td><td>0.454</td><td>Map(vectorType -> dense, length -> 5, values -> List(876.0, 796.0, 85.0, 0.35, 0.279))</td></tr><tr><td>715</td><td>852</td><td>63</td><td>0.32</td><td>0.265</td><td>0.404</td><td>Map(vectorType -> dense, length -> 5, values -> List(715.0, 852.0, 63.0, 0.32, 0.265))</td></tr><tr><td>826</td><td>969</td><td>71</td><td>0.33</td><td>0.266</td><td>0.454</td><td>Map(vectorType -> dense, length -> 5, values -> List(826.0, 969.0, 71.0, 0.33, 0.266))</td></tr><tr><td>894</td><td>826</td><td>86</td><td>0.349</td><td>0.279</td><td>0.455</td><td>Map(vectorType -> dense, length -> 5, values -> List(894.0, 826.0, 86.0, 0.349, 0.279))</td></tr><tr><td>851</td><td>644</td><td>99</td><td>0.341</td><td>0.282</td><td>0.433</td><td>Map(vectorType -> dense, length -> 5, values -> List(851.0, 644.0, 99.0, 0.341, 0.282))</td></tr><tr><td>819</td><td>674</td><td>98</td><td>0.346</td><td>0.267</td><td>0.423</td><td>Map(vectorType -> dense, length -> 5, values -> List(819.0, 674.0, 98.0, 0.346, 0.267))</td></tr><tr><td>708</td><td>565</td><td>101</td><td>0.331</td><td>0.26</td><td>0.409</td><td>Map(vectorType -> dense, length -> 5, values -> List(708.0, 565.0, 101.0, 0.331, 0.26))</td></tr><tr><td>667</td><td>773</td><td>67</td><td>0.309</td><td>0.246</td><td>0.403</td><td>Map(vectorType -> dense, length -> 5, values -> List(667.0, 773.0, 67.0, 0.309, 0.246))</td></tr><tr><td>859</td><td>665</td><td>93</td><td>0.345</td><td>0.277</td><td>0.444</td><td>Map(vectorType -> dense, length -> 5, values -> List(859.0, 665.0, 93.0, 0.345, 0.277))</td></tr><tr><td>706</td><td>759</td><td>67</td><td>0.321</td><td>0.246</td><td>0.413</td><td>Map(vectorType -> dense, length -> 5, values -> List(706.0, 759.0, 67.0, 0.321, 0.246))</td></tr><tr><td>856</td><td>798</td><td>81</td><td>0.338</td><td>0.268</td><td>0.449</td><td>Map(vectorType -> dense, length -> 5, values -> List(856.0, 798.0, 81.0, 0.338, 0.268))</td></tr><tr><td>709</td><td>774</td><td>78</td><td>0.33</td><td>0.253</td><td>0.408</td><td>Map(vectorType -> dense, length -> 5, values -> List(709.0, 774.0, 78.0, 0.33, 0.253))</td></tr><tr><td>739</td><td>837</td><td>74</td><td>0.321</td><td>0.249</td><td>0.412</td><td>Map(vectorType -> dense, length -> 5, values -> List(739.0, 837.0, 74.0, 0.321, 0.249))</td></tr><tr><td>778</td><td>898</td><td>73</td><td>0.337</td><td>0.274</td><td>0.423</td><td>Map(vectorType -> dense, length -> 5, values -> List(778.0, 898.0, 73.0, 0.337, 0.274))</td></tr><tr><td>575</td><td>864</td><td>55</td><td>0.3</td><td>0.248</td><td>0.379</td><td>Map(vectorType -> dense, length -> 5, values -> List(575.0, 864.0, 55.0, 0.3, 0.248))</td></tr><tr><td>699</td><td>763</td><td>79</td><td>0.337</td><td>0.261</td><td>0.403</td><td>Map(vectorType -> dense, length -> 5, values -> List(699.0, 763.0, 79.0, 0.337, 0.261))</td></tr><tr><td>749</td><td>695</td><td>84</td><td>0.338</td><td>0.262</td><td>0.417</td><td>Map(vectorType -> dense, length -> 5, values -> List(749.0, 695.0, 84.0, 0.338, 0.262))</td></tr><tr><td>737</td><td>891</td><td>62</td><td>0.323</td><td>0.256</td><td>0.398</td><td>Map(vectorType -> dense, length -> 5, values -> List(737.0, 891.0, 62.0, 0.323, 0.256))</td></tr><tr><td>713</td><td>643</td><td>92</td><td>0.32</td><td>0.264</td><td>0.409</td><td>Map(vectorType -> dense, length -> 5, values -> List(713.0, 643.0, 92.0, 0.32, 0.264))</td></tr><tr><td>627</td><td>821</td><td>56</td><td>0.32</td><td>0.253</td><td>0.39</td><td>Map(vectorType -> dense, length -> 5, values -> List(627.0, 821.0, 56.0, 0.32, 0.253))</td></tr><tr><td>768</td><td>712</td><td>94</td><td>0.332</td><td>0.272</td><td>0.437</td><td>Map(vectorType -> dense, length -> 5, values -> List(768.0, 712.0, 94.0, 0.332, 0.272))</td></tr><tr><td>735</td><td>718</td><td>83</td><td>0.334</td><td>0.261</td><td>0.418</td><td>Map(vectorType -> dense, length -> 5, values -> List(735.0, 718.0, 83.0, 0.334, 0.261))</td></tr><tr><td>690</td><td>703</td><td>75</td><td>0.322</td><td>0.256</td><td>0.395</td><td>Map(vectorType -> dense, length -> 5, values -> List(690.0, 703.0, 75.0, 0.322, 0.256))</td></tr><tr><td>897</td><td>697</td><td>103</td><td>0.354</td><td>0.275</td><td>0.455</td><td>Map(vectorType -> dense, length -> 5, values -> List(897.0, 697.0, 103.0, 0.354, 0.275))</td></tr><tr><td>800</td><td>654</td><td>103</td><td>0.339</td><td>0.261</td><td>0.432</td><td>Map(vectorType -> dense, length -> 5, values -> List(800.0, 654.0, 103.0, 0.339, 0.261))</td></tr><tr><td>710</td><td>724</td><td>80</td><td>0.339</td><td>0.259</td><td>0.422</td><td>Map(vectorType -> dense, length -> 5, values -> List(710.0, 724.0, 80.0, 0.339, 0.259))</td></tr><tr><td>641</td><td>730</td><td>72</td><td>0.319</td><td>0.244</td><td>0.381</td><td>Map(vectorType -> dense, length -> 5, values -> List(641.0, 730.0, 72.0, 0.319, 0.244))</td></tr><tr><td>662</td><td>815</td><td>66</td><td>0.321</td><td>0.253</td><td>0.381</td><td>Map(vectorType -> dense, length -> 5, values -> List(662.0, 815.0, 66.0, 0.321, 0.253))</td></tr><tr><td>814</td><td>699</td><td>93</td><td>0.35</td><td>0.275</td><td>0.419</td><td>Map(vectorType -> dense, length -> 5, values -> List(814.0, 699.0, 93.0, 0.35, 0.275))</td></tr><tr><td>783</td><td>616</td><td>95</td><td>0.344</td><td>0.267</td><td>0.442</td><td>Map(vectorType -> dense, length -> 5, values -> List(783.0, 616.0, 95.0, 0.344, 0.267))</td></tr><tr><td>787</td><td>648</td><td>97</td><td>0.338</td><td>0.268</td><td>0.425</td><td>Map(vectorType -> dense, length -> 5, values -> List(787.0, 648.0, 97.0, 0.338, 0.268))</td></tr><tr><td>673</td><td>918</td><td>55</td><td>0.314</td><td>0.253</td><td>0.39</td><td>Map(vectorType -> dense, length -> 5, values -> List(673.0, 918.0, 55.0, 0.314, 0.253))</td></tr><tr><td>843</td><td>882</td><td>72</td><td>0.338</td><td>0.269</td><td>0.455</td><td>Map(vectorType -> dense, length -> 5, values -> List(843.0, 882.0, 72.0, 0.338, 0.269))</td></tr><tr><td>813</td><td>828</td><td>78</td><td>0.327</td><td>0.261</td><td>0.43</td><td>Map(vectorType -> dense, length -> 5, values -> List(813.0, 828.0, 78.0, 0.327, 0.261))</td></tr><tr><td>691</td><td>730</td><td>75</td><td>0.327</td><td>0.261</td><td>0.405</td><td>Map(vectorType -> dense, length -> 5, values -> List(691.0, 730.0, 75.0, 0.327, 0.261))</td></tr><tr><td>818</td><td>677</td><td>92</td><td>0.341</td><td>0.267</td><td>0.442</td><td>Map(vectorType -> dense, length -> 5, values -> List(818.0, 677.0, 92.0, 0.341, 0.267))</td></tr><tr><td>729</td><td>643</td><td>88</td><td>0.324</td><td>0.26</td><td>0.412</td><td>Map(vectorType -> dense, length -> 5, values -> List(729.0, 643.0, 88.0, 0.324, 0.26))</td></tr><tr><td>687</td><td>829</td><td>63</td><td>0.319</td><td>0.248</td><td>0.38</td><td>Map(vectorType -> dense, length -> 5, values -> List(687.0, 829.0, 63.0, 0.319, 0.248))</td></tr><tr><td>772</td><td>745</td><td>82</td><td>0.334</td><td>0.266</td><td>0.439</td><td>Map(vectorType -> dense, length -> 5, values -> List(772.0, 745.0, 82.0, 0.334, 0.266))</td></tr><tr><td>777</td><td>701</td><td>88</td><td>0.336</td><td>0.261</td><td>0.43</td><td>Map(vectorType -> dense, length -> 5, values -> List(777.0, 701.0, 88.0, 0.336, 0.261))</td></tr><tr><td>798</td><td>795</td><td>83</td><td>0.334</td><td>0.268</td><td>0.451</td><td>Map(vectorType -> dense, length -> 5, values -> List(798.0, 795.0, 83.0, 0.334, 0.268))</td></tr><tr><td>735</td><td>850</td><td>66</td><td>0.324</td><td>0.262</td><td>0.419</td><td>Map(vectorType -> dense, length -> 5, values -> List(735.0, 850.0, 66.0, 0.324, 0.262))</td></tr><tr><td>897</td><td>821</td><td>91</td><td>0.35</td><td>0.278</td><td>0.458</td><td>Map(vectorType -> dense, length -> 5, values -> List(897.0, 821.0, 91.0, 0.35, 0.278))</td></tr><tr><td>923</td><td>906</td><td>73</td><td>0.354</td><td>0.292</td><td>0.483</td><td>Map(vectorType -> dense, length -> 5, values -> List(923.0, 906.0, 73.0, 0.354, 0.292))</td></tr><tr><td>724</td><td>876</td><td>66</td><td>0.32</td><td>0.26</td><td>0.409</td><td>Map(vectorType -> dense, length -> 5, values -> List(724.0, 876.0, 66.0, 0.32, 0.26))</td></tr><tr><td>742</td><td>744</td><td>76</td><td>0.326</td><td>0.264</td><td>0.423</td><td>Map(vectorType -> dense, length -> 5, values -> List(742.0, 744.0, 76.0, 0.326, 0.264))</td></tr><tr><td>847</td><td>769</td><td>93</td><td>0.347</td><td>0.271</td><td>0.451</td><td>Map(vectorType -> dense, length -> 5, values -> List(847.0, 769.0, 93.0, 0.347, 0.271))</td></tr><tr><td>729</td><td>858</td><td>65</td><td>0.318</td><td>0.266</td><td>0.409</td><td>Map(vectorType -> dense, length -> 5, values -> List(729.0, 858.0, 65.0, 0.318, 0.266))</td></tr><tr><td>758</td><td>744</td><td>86</td><td>0.323</td><td>0.255</td><td>0.425</td><td>Map(vectorType -> dense, length -> 5, values -> List(758.0, 744.0, 86.0, 0.323, 0.255))</td></tr><tr><td>740</td><td>806</td><td>68</td><td>0.319</td><td>0.251</td><td>0.426</td><td>Map(vectorType -> dense, length -> 5, values -> List(740.0, 806.0, 68.0, 0.319, 0.251))</td></tr><tr><td>771</td><td>766</td><td>85</td><td>0.337</td><td>0.272</td><td>0.433</td><td>Map(vectorType -> dense, length -> 5, values -> List(771.0, 766.0, 85.0, 0.337, 0.272))</td></tr><tr><td>670</td><td>812</td><td>68</td><td>0.319</td><td>0.253</td><td>0.396</td><td>Map(vectorType -> dense, length -> 5, values -> List(670.0, 812.0, 68.0, 0.319, 0.253))</td></tr><tr><td>642</td><td>713</td><td>82</td><td>0.323</td><td>0.249</td><td>0.387</td><td>Map(vectorType -> dense, length -> 5, values -> List(642.0, 713.0, 82.0, 0.323, 0.249))</td></tr><tr><td>804</td><td>713</td><td>95</td><td>0.334</td><td>0.267</td><td>0.435</td><td>Map(vectorType -> dense, length -> 5, values -> List(804.0, 713.0, 95.0, 0.334, 0.267))</td></tr><tr><td>884</td><td>645</td><td>102</td><td>0.345</td><td>0.264</td><td>0.439</td><td>Map(vectorType -> dense, length -> 5, values -> List(884.0, 645.0, 102.0, 0.345, 0.264))</td></tr><tr><td>746</td><td>719</td><td>86</td><td>0.329</td><td>0.26</td><td>0.414</td><td>Map(vectorType -> dense, length -> 5, values -> List(746.0, 719.0, 86.0, 0.329, 0.26))</td></tr><tr><td>657</td><td>858</td><td>62</td><td>0.313</td><td>0.247</td><td>0.393</td><td>Map(vectorType -> dense, length -> 5, values -> List(657.0, 858.0, 62.0, 0.313, 0.247))</td></tr><tr><td>789</td><td>812</td><td>79</td><td>0.336</td><td>0.252</td><td>0.399</td><td>Map(vectorType -> dense, length -> 5, values -> List(789.0, 812.0, 79.0, 0.336, 0.252))</td></tr><tr><td>927</td><td>627</td><td>116</td><td>0.36</td><td>0.288</td><td>0.445</td><td>Map(vectorType -> dense, length -> 5, values -> List(927.0, 627.0, 116.0, 0.36, 0.288))</td></tr><tr><td>799</td><td>748</td><td>90</td><td>0.342</td><td>0.266</td><td>0.46</td><td>Map(vectorType -> dense, length -> 5, values -> List(799.0, 748.0, 90.0, 0.342, 0.266))</td></tr><tr><td>814</td><td>684</td><td>93</td><td>0.339</td><td>0.27</td><td>0.441</td><td>Map(vectorType -> dense, length -> 5, values -> List(814.0, 684.0, 93.0, 0.339, 0.27))</td></tr><tr><td>672</td><td>887</td><td>62</td><td>0.32</td><td>0.258</td><td>0.388</td><td>Map(vectorType -> dense, length -> 5, values -> List(672.0, 887.0, 62.0, 0.32, 0.258))</td></tr><tr><td>890</td><td>968</td><td>73</td><td>0.344</td><td>0.275</td><td>0.471</td><td>Map(vectorType -> dense, length -> 5, values -> List(890.0, 968.0, 73.0, 0.344, 0.275))</td></tr><tr><td>767</td><td>753</td><td>80</td><td>0.325</td><td>0.263</td><td>0.43</td><td>Map(vectorType -> dense, length -> 5, values -> List(767.0, 753.0, 80.0, 0.325, 0.263))</td></tr><tr><td>864</td><td>869</td><td>82</td><td>0.352</td><td>0.28</td><td>0.472</td><td>Map(vectorType -> dense, length -> 5, values -> List(864.0, 869.0, 82.0, 0.352, 0.28))</td></tr><tr><td>792</td><td>754</td><td>85</td><td>0.333</td><td>0.265</td><td>0.429</td><td>Map(vectorType -> dense, length -> 5, values -> List(792.0, 754.0, 85.0, 0.333, 0.265))</td></tr><tr><td>810</td><td>714</td><td>95</td><td>0.346</td><td>0.271</td><td>0.429</td><td>Map(vectorType -> dense, length -> 5, values -> List(810.0, 714.0, 95.0, 0.346, 0.271))</td></tr><tr><td>794</td><td>913</td><td>74</td><td>0.341</td><td>0.272</td><td>0.435</td><td>Map(vectorType -> dense, length -> 5, values -> List(794.0, 913.0, 74.0, 0.341, 0.272))</td></tr><tr><td>792</td><td>745</td><td>85</td><td>0.341</td><td>0.267</td><td>0.423</td><td>Map(vectorType -> dense, length -> 5, values -> List(792.0, 745.0, 85.0, 0.341, 0.267))</td></tr><tr><td>764</td><td>904</td><td>65</td><td>0.335</td><td>0.256</td><td>0.411</td><td>Map(vectorType -> dense, length -> 5, values -> List(764.0, 904.0, 65.0, 0.335, 0.256))</td></tr><tr><td>978</td><td>839</td><td>95</td><td>0.356</td><td>0.286</td><td>0.47</td><td>Map(vectorType -> dense, length -> 5, values -> List(978.0, 839.0, 95.0, 0.356, 0.286))</td></tr><tr><td>825</td><td>765</td><td>85</td><td>0.343</td><td>0.274</td><td>0.447</td><td>Map(vectorType -> dense, length -> 5, values -> List(825.0, 765.0, 85.0, 0.343, 0.274))</td></tr><tr><td>950</td><td>816</td><td>90</td><td>0.367</td><td>0.288</td><td>0.47</td><td>Map(vectorType -> dense, length -> 5, values -> List(950.0, 816.0, 90.0, 0.367, 0.288))</td></tr><tr><td>968</td><td>897</td><td>82</td><td>0.362</td><td>0.294</td><td>0.455</td><td>Map(vectorType -> dense, length -> 5, values -> List(968.0, 897.0, 82.0, 0.362, 0.294))</td></tr><tr><td>823</td><td>827</td><td>79</td><td>0.343</td><td>0.275</td><td>0.438</td><td>Map(vectorType -> dense, length -> 5, values -> List(823.0, 827.0, 79.0, 0.343, 0.275))</td></tr><tr><td>731</td><td>797</td><td>79</td><td>0.331</td><td>0.262</td><td>0.409</td><td>Map(vectorType -> dense, length -> 5, values -> List(731.0, 797.0, 79.0, 0.331, 0.262))</td></tr><tr><td>938</td><td>944</td><td>72</td><td>0.361</td><td>0.278</td><td>0.477</td><td>Map(vectorType -> dense, length -> 5, values -> List(938.0, 944.0, 72.0, 0.361, 0.278))</td></tr><tr><td>879</td><td>930</td><td>77</td><td>0.348</td><td>0.288</td><td>0.425</td><td>Map(vectorType -> dense, length -> 5, values -> List(879.0, 930.0, 77.0, 0.348, 0.288))</td></tr><tr><td>798</td><td>729</td><td>86</td><td>0.341</td><td>0.257</td><td>0.431</td><td>Map(vectorType -> dense, length -> 5, values -> List(798.0, 729.0, 86.0, 0.341, 0.257))</td></tr><tr><td>740</td><td>826</td><td>73</td><td>0.325</td><td>0.246</td><td>0.403</td><td>Map(vectorType -> dense, length -> 5, values -> List(740.0, 826.0, 73.0, 0.325, 0.246))</td></tr><tr><td>748</td><td>880</td><td>69</td><td>0.337</td><td>0.27</td><td>0.407</td><td>Map(vectorType -> dense, length -> 5, values -> List(748.0, 880.0, 69.0, 0.337, 0.27))</td></tr><tr><td>738</td><td>902</td><td>67</td><td>0.326</td><td>0.266</td><td>0.432</td><td>Map(vectorType -> dense, length -> 5, values -> List(738.0, 902.0, 67.0, 0.326, 0.266))</td></tr><tr><td>807</td><td>738</td><td>94</td><td>0.346</td><td>0.263</td><td>0.43</td><td>Map(vectorType -> dense, length -> 5, values -> List(807.0, 738.0, 94.0, 0.346, 0.263))</td></tr><tr><td>871</td><td>814</td><td>87</td><td>0.354</td><td>0.277</td><td>0.45</td><td>Map(vectorType -> dense, length -> 5, values -> List(871.0, 814.0, 87.0, 0.354, 0.277))</td></tr><tr><td>947</td><td>813</td><td>91</td><td>0.36</td><td>0.27</td><td>0.458</td><td>Map(vectorType -> dense, length -> 5, values -> List(947.0, 813.0, 91.0, 0.36, 0.27))</td></tr><tr><td>708</td><td>830</td><td>65</td><td>0.329</td><td>0.251</td><td>0.4</td><td>Map(vectorType -> dense, length -> 5, values -> List(708.0, 830.0, 65.0, 0.329, 0.251))</td></tr><tr><td>793</td><td>888</td><td>69</td><td>0.339</td><td>0.267</td><td>0.424</td><td>Map(vectorType -> dense, length -> 5, values -> List(793.0, 888.0, 69.0, 0.339, 0.267))</td></tr><tr><td>752</td><td>815</td><td>76</td><td>0.33</td><td>0.254</td><td>0.402</td><td>Map(vectorType -> dense, length -> 5, values -> List(752.0, 815.0, 76.0, 0.33, 0.254))</td></tr><tr><td>907</td><td>780</td><td>91</td><td>0.361</td><td>0.269</td><td>0.442</td><td>Map(vectorType -> dense, length -> 5, values -> List(907.0, 780.0, 91.0, 0.361, 0.269))</td></tr><tr><td>925</td><td>747</td><td>97</td><td>0.362</td><td>0.278</td><td>0.472</td><td>Map(vectorType -> dense, length -> 5, values -> List(925.0, 747.0, 97.0, 0.362, 0.278))</td></tr><tr><td>887</td><td>771</td><td>95</td><td>0.356</td><td>0.27</td><td>0.455</td><td>Map(vectorType -> dense, length -> 5, values -> List(887.0, 771.0, 95.0, 0.356, 0.27))</td></tr><tr><td>733</td><td>842</td><td>69</td><td>0.329</td><td>0.257</td><td>0.399</td><td>Map(vectorType -> dense, length -> 5, values -> List(733.0, 842.0, 69.0, 0.329, 0.257))</td></tr><tr><td>848</td><td>974</td><td>71</td><td>0.352</td><td>0.283</td><td>0.446</td><td>Map(vectorType -> dense, length -> 5, values -> List(848.0, 974.0, 71.0, 0.352, 0.283))</td></tr><tr><td>861</td><td>908</td><td>83</td><td>0.341</td><td>0.275</td><td>0.469</td><td>Map(vectorType -> dense, length -> 5, values -> List(861.0, 908.0, 83.0, 0.341, 0.275))</td></tr><tr><td>711</td><td>826</td><td>70</td><td>0.322</td><td>0.256</td><td>0.395</td><td>Map(vectorType -> dense, length -> 5, values -> List(711.0, 826.0, 70.0, 0.322, 0.256))</td></tr><tr><td>908</td><td>676</td><td>100</td><td>0.347</td><td>0.277</td><td>0.459</td><td>Map(vectorType -> dense, length -> 5, values -> List(908.0, 676.0, 100.0, 0.347, 0.277))</td></tr><tr><td>840</td><td>661</td><td>103</td><td>0.341</td><td>0.266</td><td>0.436</td><td>Map(vectorType -> dense, length -> 5, values -> List(840.0, 661.0, 103.0, 0.341, 0.266))</td></tr><tr><td>851</td><td>815</td><td>78</td><td>0.353</td><td>0.279</td><td>0.447</td><td>Map(vectorType -> dense, length -> 5, values -> List(851.0, 815.0, 78.0, 0.353, 0.279))</td></tr><tr><td>836</td><td>718</td><td>94</td><td>0.35</td><td>0.278</td><td>0.448</td><td>Map(vectorType -> dense, length -> 5, values -> List(836.0, 718.0, 94.0, 0.35, 0.278))</td></tr><tr><td>747</td><td>920</td><td>67</td><td>0.329</td><td>0.257</td><td>0.42</td><td>Map(vectorType -> dense, length -> 5, values -> List(747.0, 920.0, 67.0, 0.329, 0.257))</td></tr><tr><td>777</td><td>870</td><td>75</td><td>0.337</td><td>0.277</td><td>0.429</td><td>Map(vectorType -> dense, length -> 5, values -> List(777.0, 870.0, 75.0, 0.337, 0.277))</td></tr><tr><td>865</td><td>711</td><td>96</td><td>0.341</td><td>0.272</td><td>0.451</td><td>Map(vectorType -> dense, length -> 5, values -> List(865.0, 711.0, 96.0, 0.341, 0.272))</td></tr><tr><td>1009</td><td>860</td><td>97</td><td>0.373</td><td>0.289</td><td>0.467</td><td>Map(vectorType -> dense, length -> 5, values -> List(1009.0, 860.0, 97.0, 0.373, 0.289))</td></tr><tr><td>906</td><td>1028</td><td>72</td><td>0.348</td><td>0.288</td><td>0.472</td><td>Map(vectorType -> dense, length -> 5, values -> List(906.0, 1028.0, 72.0, 0.348, 0.288))</td></tr><tr><td>747</td><td>882</td><td>69</td><td>0.326</td><td>0.261</td><td>0.443</td><td>Map(vectorType -> dense, length -> 5, values -> List(747.0, 882.0, 69.0, 0.326, 0.261))</td></tr><tr><td>691</td><td>852</td><td>64</td><td>0.325</td><td>0.263</td><td>0.395</td><td>Map(vectorType -> dense, length -> 5, values -> List(691.0, 852.0, 64.0, 0.325, 0.263))</td></tr><tr><td>823</td><td>675</td><td>97</td><td>0.355</td><td>0.267</td><td>0.42</td><td>Map(vectorType -> dense, length -> 5, values -> List(823.0, 675.0, 97.0, 0.355, 0.267))</td></tr><tr><td>856</td><td>921</td><td>64</td><td>0.348</td><td>0.282</td><td>0.433</td><td>Map(vectorType -> dense, length -> 5, values -> List(856.0, 921.0, 64.0, 0.348, 0.282))</td></tr><tr><td>793</td><td>787</td><td>77</td><td>0.339</td><td>0.266</td><td>0.42</td><td>Map(vectorType -> dense, length -> 5, values -> List(793.0, 787.0, 77.0, 0.339, 0.266))</td></tr><tr><td>815</td><td>886</td><td>74</td><td>0.353</td><td>0.273</td><td>0.426</td><td>Map(vectorType -> dense, length -> 5, values -> List(815.0, 886.0, 74.0, 0.353, 0.273))</td></tr><tr><td>686</td><td>845</td><td>63</td><td>0.328</td><td>0.264</td><td>0.384</td><td>Map(vectorType -> dense, length -> 5, values -> List(686.0, 845.0, 63.0, 0.328, 0.264))</td></tr><tr><td>718</td><td>853</td><td>68</td><td>0.323</td><td>0.265</td><td>0.427</td><td>Map(vectorType -> dense, length -> 5, values -> List(718.0, 853.0, 68.0, 0.323, 0.265))</td></tr><tr><td>853</td><td>711</td><td>97</td><td>0.363</td><td>0.279</td><td>0.434</td><td>Map(vectorType -> dense, length -> 5, values -> List(853.0, 711.0, 97.0, 0.363, 0.279))</td></tr><tr><td>900</td><td>731</td><td>98</td><td>0.366</td><td>0.282</td><td>0.453</td><td>Map(vectorType -> dense, length -> 5, values -> List(900.0, 731.0, 98.0, 0.366, 0.282))</td></tr><tr><td>893</td><td>846</td><td>87</td><td>0.355</td><td>0.259</td><td>0.446</td><td>Map(vectorType -> dense, length -> 5, values -> List(893.0, 846.0, 87.0, 0.355, 0.259))</td></tr><tr><td>841</td><td>846</td><td>77</td><td>0.351</td><td>0.275</td><td>0.431</td><td>Map(vectorType -> dense, length -> 5, values -> List(841.0, 846.0, 77.0, 0.351, 0.275))</td></tr><tr><td>775</td><td>782</td><td>78</td><td>0.334</td><td>0.259</td><td>0.419</td><td>Map(vectorType -> dense, length -> 5, values -> List(775.0, 782.0, 78.0, 0.334, 0.259))</td></tr><tr><td>710</td><td>781</td><td>74</td><td>0.332</td><td>0.252</td><td>0.393</td><td>Map(vectorType -> dense, length -> 5, values -> List(710.0, 781.0, 74.0, 0.332, 0.252))</td></tr><tr><td>859</td><td>905</td><td>79</td><td>0.343</td><td>0.269</td><td>0.455</td><td>Map(vectorType -> dense, length -> 5, values -> List(859.0, 905.0, 79.0, 0.343, 0.269))</td></tr><tr><td>872</td><td>831</td><td>86</td><td>0.356</td><td>0.271</td><td>0.434</td><td>Map(vectorType -> dense, length -> 5, values -> List(872.0, 831.0, 86.0, 0.356, 0.271))</td></tr><tr><td>809</td><td>838</td><td>75</td><td>0.338</td><td>0.262</td><td>0.426</td><td>Map(vectorType -> dense, length -> 5, values -> List(809.0, 838.0, 75.0, 0.338, 0.262))</td></tr><tr><td>772</td><td>913</td><td>69</td><td>0.343</td><td>0.274</td><td>0.411</td><td>Map(vectorType -> dense, length -> 5, values -> List(772.0, 913.0, 69.0, 0.343, 0.274))</td></tr><tr><td>945</td><td>859</td><td>95</td><td>0.361</td><td>0.293</td><td>0.479</td><td>Map(vectorType -> dense, length -> 5, values -> List(945.0, 859.0, 95.0, 0.361, 0.293))</td></tr><tr><td>883</td><td>862</td><td>84</td><td>0.352</td><td>0.28</td><td>0.457</td><td>Map(vectorType -> dense, length -> 5, values -> List(883.0, 862.0, 84.0, 0.352, 0.28))</td></tr><tr><td>787</td><td>783</td><td>85</td><td>0.335</td><td>0.272</td><td>0.415</td><td>Map(vectorType -> dense, length -> 5, values -> List(787.0, 783.0, 85.0, 0.335, 0.272))</td></tr><tr><td>665</td><td>812</td><td>65</td><td>0.314</td><td>0.246</td><td>0.393</td><td>Map(vectorType -> dense, length -> 5, values -> List(665.0, 812.0, 65.0, 0.314, 0.246))</td></tr><tr><td>826</td><td>581</td><td>106</td><td>0.342</td><td>0.272</td><td>0.453</td><td>Map(vectorType -> dense, length -> 5, values -> List(826.0, 581.0, 106.0, 0.342, 0.272))</td></tr><tr><td>817</td><td>785</td><td>79</td><td>0.347</td><td>0.273</td><td>0.447</td><td>Map(vectorType -> dense, length -> 5, values -> List(817.0, 785.0, 79.0, 0.347, 0.273))</td></tr><tr><td>876</td><td>729</td><td>92</td><td>0.348</td><td>0.28</td><td>0.463</td><td>Map(vectorType -> dense, length -> 5, values -> List(876.0, 729.0, 92.0, 0.348, 0.28))</td></tr><tr><td>831</td><td>792</td><td>90</td><td>0.337</td><td>0.264</td><td>0.433</td><td>Map(vectorType -> dense, length -> 5, values -> List(831.0, 792.0, 90.0, 0.337, 0.264))</td></tr><tr><td>861</td><td>931</td><td>80</td><td>0.339</td><td>0.271</td><td>0.444</td><td>Map(vectorType -> dense, length -> 5, values -> List(861.0, 931.0, 80.0, 0.339, 0.271))</td></tr><tr><td>750</td><td>760</td><td>77</td><td>0.337</td><td>0.262</td><td>0.402</td><td>Map(vectorType -> dense, length -> 5, values -> List(750.0, 760.0, 77.0, 0.337, 0.262))</td></tr><tr><td>850</td><td>779</td><td>89</td><td>0.347</td><td>0.272</td><td>0.448</td><td>Map(vectorType -> dense, length -> 5, values -> List(850.0, 779.0, 89.0, 0.347, 0.272))</td></tr><tr><td>826</td><td>855</td><td>77</td><td>0.347</td><td>0.291</td><td>0.461</td><td>Map(vectorType -> dense, length -> 5, values -> List(826.0, 855.0, 77.0, 0.347, 0.291))</td></tr><tr><td>722</td><td>863</td><td>65</td><td>0.323</td><td>0.264</td><td>0.415</td><td>Map(vectorType -> dense, length -> 5, values -> List(722.0, 863.0, 65.0, 0.323, 0.264))</td></tr><tr><td>667</td><td>923</td><td>54</td><td>0.317</td><td>0.248</td><td>0.373</td><td>Map(vectorType -> dense, length -> 5, values -> List(667.0, 923.0, 54.0, 0.317, 0.248))</td></tr><tr><td>874</td><td>620</td><td>102</td><td>0.356</td><td>0.28</td><td>0.436</td><td>Map(vectorType -> dense, length -> 5, values -> List(874.0, 620.0, 102.0, 0.356, 0.28))</td></tr><tr><td>714</td><td>899</td><td>72</td><td>0.324</td><td>0.263</td><td>0.399</td><td>Map(vectorType -> dense, length -> 5, values -> List(714.0, 899.0, 72.0, 0.324, 0.263))</td></tr><tr><td>669</td><td>678</td><td>83</td><td>0.31</td><td>0.252</td><td>0.387</td><td>Map(vectorType -> dense, length -> 5, values -> List(669.0, 678.0, 83.0, 0.31, 0.252))</td></tr><tr><td>707</td><td>812</td><td>74</td><td>0.33</td><td>0.26</td><td>0.396</td><td>Map(vectorType -> dense, length -> 5, values -> List(707.0, 812.0, 74.0, 0.33, 0.26))</td></tr><tr><td>734</td><td>818</td><td>70</td><td>0.328</td><td>0.266</td><td>0.389</td><td>Map(vectorType -> dense, length -> 5, values -> List(734.0, 818.0, 70.0, 0.328, 0.266))</td></tr><tr><td>644</td><td>783</td><td>65</td><td>0.31</td><td>0.249</td><td>0.394</td><td>Map(vectorType -> dense, length -> 5, values -> List(644.0, 783.0, 65.0, 0.31, 0.249))</td></tr><tr><td>706</td><td>645</td><td>88</td><td>0.33</td><td>0.259</td><td>0.394</td><td>Map(vectorType -> dense, length -> 5, values -> List(706.0, 645.0, 88.0, 0.33, 0.259))</td></tr><tr><td>965</td><td>656</td><td>114</td><td>0.364</td><td>0.288</td><td>0.46</td><td>Map(vectorType -> dense, length -> 5, values -> List(965.0, 656.0, 114.0, 0.364, 0.288))</td></tr><tr><td>804</td><td>866</td><td>74</td><td>0.338</td><td>0.257</td><td>0.397</td><td>Map(vectorType -> dense, length -> 5, values -> List(804.0, 866.0, 74.0, 0.338, 0.257))</td></tr><tr><td>713</td><td>808</td><td>75</td><td>0.326</td><td>0.264</td><td>0.395</td><td>Map(vectorType -> dense, length -> 5, values -> List(713.0, 808.0, 75.0, 0.326, 0.264))</td></tr><tr><td>650</td><td>718</td><td>69</td><td>0.311</td><td>0.254</td><td>0.374</td><td>Map(vectorType -> dense, length -> 5, values -> List(650.0, 718.0, 69.0, 0.311, 0.254))</td></tr><tr><td>749</td><td>635</td><td>98</td><td>0.33</td><td>0.253</td><td>0.409</td><td>Map(vectorType -> dense, length -> 5, values -> List(749.0, 635.0, 98.0, 0.33, 0.253))</td></tr><tr><td>859</td><td>855</td><td>76</td><td>0.345</td><td>0.276</td><td>0.468</td><td>Map(vectorType -> dense, length -> 5, values -> List(859.0, 855.0, 76.0, 0.345, 0.276))</td></tr><tr><td>845</td><td>739</td><td>89</td><td>0.353</td><td>0.274</td><td>0.421</td><td>Map(vectorType -> dense, length -> 5, values -> List(845.0, 739.0, 89.0, 0.353, 0.274))</td></tr><tr><td>810</td><td>782</td><td>83</td><td>0.341</td><td>0.258</td><td>0.441</td><td>Map(vectorType -> dense, length -> 5, values -> List(810.0, 782.0, 83.0, 0.341, 0.258))</td></tr><tr><td>620</td><td>751</td><td>63</td><td>0.321</td><td>0.261</td><td>0.385</td><td>Map(vectorType -> dense, length -> 5, values -> List(620.0, 751.0, 63.0, 0.321, 0.261))</td></tr><tr><td>940</td><td>871</td><td>88</td><td>0.357</td><td>0.289</td><td>0.462</td><td>Map(vectorType -> dense, length -> 5, values -> List(940.0, 871.0, 88.0, 0.357, 0.289))</td></tr><tr><td>816</td><td>768</td><td>88</td><td>0.34</td><td>0.266</td><td>0.448</td><td>Map(vectorType -> dense, length -> 5, values -> List(816.0, 768.0, 88.0, 0.34, 0.266))</td></tr><tr><td>829</td><td>794</td><td>84</td><td>0.346</td><td>0.272</td><td>0.416</td><td>Map(vectorType -> dense, length -> 5, values -> List(829.0, 794.0, 84.0, 0.346, 0.272))</td></tr><tr><td>791</td><td>581</td><td>101</td><td>0.343</td><td>0.27</td><td>0.426</td><td>Map(vectorType -> dense, length -> 5, values -> List(791.0, 581.0, 101.0, 0.343, 0.27))</td></tr><tr><td>812</td><td>681</td><td>98</td><td>0.341</td><td>0.268</td><td>0.429</td><td>Map(vectorType -> dense, length -> 5, values -> List(812.0, 681.0, 98.0, 0.341, 0.268))</td></tr><tr><td>851</td><td>857</td><td>78</td><td>0.352</td><td>0.291</td><td>0.463</td><td>Map(vectorType -> dense, length -> 5, values -> List(851.0, 857.0, 78.0, 0.352, 0.291))</td></tr><tr><td>687</td><td>759</td><td>68</td><td>0.321</td><td>0.263</td><td>0.396</td><td>Map(vectorType -> dense, length -> 5, values -> List(687.0, 759.0, 68.0, 0.321, 0.263))</td></tr><tr><td>779</td><td>833</td><td>80</td><td>0.341</td><td>0.273</td><td>0.417</td><td>Map(vectorType -> dense, length -> 5, values -> List(779.0, 833.0, 80.0, 0.341, 0.273))</td></tr><tr><td>651</td><td>764</td><td>76</td><td>0.321</td><td>0.253</td><td>0.389</td><td>Map(vectorType -> dense, length -> 5, values -> List(651.0, 764.0, 76.0, 0.321, 0.253))</td></tr><tr><td>868</td><td>815</td><td>86</td><td>0.358</td><td>0.286</td><td>0.467</td><td>Map(vectorType -> dense, length -> 5, values -> List(868.0, 815.0, 86.0, 0.358, 0.286))</td></tr><tr><td>923</td><td>908</td><td>83</td><td>0.357</td><td>0.288</td><td>0.478</td><td>Map(vectorType -> dense, length -> 5, values -> List(923.0, 908.0, 83.0, 0.357, 0.288))</td></tr><tr><td>784</td><td>790</td><td>79</td><td>0.332</td><td>0.258</td><td>0.415</td><td>Map(vectorType -> dense, length -> 5, values -> List(784.0, 790.0, 79.0, 0.332, 0.258))</td></tr><tr><td>740</td><td>669</td><td>92</td><td>0.346</td><td>0.259</td><td>0.395</td><td>Map(vectorType -> dense, length -> 5, values -> List(740.0, 669.0, 92.0, 0.346, 0.259))</td></tr><tr><td>777</td><td>660</td><td>84</td><td>0.344</td><td>0.259</td><td>0.403</td><td>Map(vectorType -> dense, length -> 5, values -> List(777.0, 660.0, 84.0, 0.344, 0.259))</td></tr><tr><td>747</td><td>820</td><td>67</td><td>0.333</td><td>0.264</td><td>0.407</td><td>Map(vectorType -> dense, length -> 5, values -> List(747.0, 820.0, 67.0, 0.333, 0.264))</td></tr><tr><td>742</td><td>645</td><td>88</td><td>0.33</td><td>0.268</td><td>0.418</td><td>Map(vectorType -> dense, length -> 5, values -> List(742.0, 645.0, 88.0, 0.33, 0.268))</td></tr><tr><td>681</td><td>742</td><td>78</td><td>0.325</td><td>0.26</td><td>0.398</td><td>Map(vectorType -> dense, length -> 5, values -> List(681.0, 742.0, 78.0, 0.325, 0.26))</td></tr><tr><td>772</td><td>861</td><td>68</td><td>0.333</td><td>0.27</td><td>0.409</td><td>Map(vectorType -> dense, length -> 5, values -> List(772.0, 861.0, 68.0, 0.333, 0.27))</td></tr><tr><td>691</td><td>740</td><td>78</td><td>0.316</td><td>0.258</td><td>0.425</td><td>Map(vectorType -> dense, length -> 5, values -> List(691.0, 740.0, 78.0, 0.316, 0.258))</td></tr><tr><td>777</td><td>709</td><td>88</td><td>0.332</td><td>0.262</td><td>0.405</td><td>Map(vectorType -> dense, length -> 5, values -> List(777.0, 709.0, 88.0, 0.332, 0.262))</td></tr><tr><td>891</td><td>688</td><td>96</td><td>0.362</td><td>0.287</td><td>0.436</td><td>Map(vectorType -> dense, length -> 5, values -> List(891.0, 688.0, 96.0, 0.362, 0.287))</td></tr><tr><td>764</td><td>946</td><td>65</td><td>0.339</td><td>0.26</td><td>0.423</td><td>Map(vectorType -> dense, length -> 5, values -> List(764.0, 946.0, 65.0, 0.339, 0.26))</td></tr><tr><td>668</td><td>840</td><td>68</td><td>0.322</td><td>0.255</td><td>0.385</td><td>Map(vectorType -> dense, length -> 5, values -> List(668.0, 840.0, 68.0, 0.322, 0.255))</td></tr><tr><td>725</td><td>760</td><td>79</td><td>0.329</td><td>0.262</td><td>0.404</td><td>Map(vectorType -> dense, length -> 5, values -> List(725.0, 760.0, 79.0, 0.329, 0.262))</td></tr><tr><td>795</td><td>891</td><td>76</td><td>0.342</td><td>0.271</td><td>0.407</td><td>Map(vectorType -> dense, length -> 5, values -> List(795.0, 891.0, 76.0, 0.342, 0.271))</td></tr><tr><td>925</td><td>833</td><td>90</td><td>0.355</td><td>0.28</td><td>0.485</td><td>Map(vectorType -> dense, length -> 5, values -> List(925.0, 833.0, 90.0, 0.355, 0.28))</td></tr><tr><td>784</td><td>793</td><td>90</td><td>0.337</td><td>0.258</td><td>0.414</td><td>Map(vectorType -> dense, length -> 5, values -> List(784.0, 793.0, 90.0, 0.337, 0.258))</td></tr><tr><td>689</td><td>708</td><td>73</td><td>0.324</td><td>0.255</td><td>0.396</td><td>Map(vectorType -> dense, length -> 5, values -> List(689.0, 708.0, 73.0, 0.324, 0.255))</td></tr><tr><td>807</td><td>823</td><td>77</td><td>0.334</td><td>0.274</td><td>0.438</td><td>Map(vectorType -> dense, length -> 5, values -> List(807.0, 823.0, 77.0, 0.334, 0.274))</td></tr><tr><td>654</td><td>694</td><td>76</td><td>0.31</td><td>0.244</td><td>0.389</td><td>Map(vectorType -> dense, length -> 5, values -> List(654.0, 694.0, 76.0, 0.31, 0.244))</td></tr><tr><td>773</td><td>648</td><td>96</td><td>0.333</td><td>0.27</td><td>0.432</td><td>Map(vectorType -> dense, length -> 5, values -> List(773.0, 648.0, 96.0, 0.333, 0.27))</td></tr><tr><td>949</td><td>903</td><td>88</td><td>0.35</td><td>0.274</td><td>0.472</td><td>Map(vectorType -> dense, length -> 5, values -> List(949.0, 903.0, 88.0, 0.35, 0.274))</td></tr><tr><td>928</td><td>921</td><td>85</td><td>0.359</td><td>0.283</td><td>0.457</td><td>Map(vectorType -> dense, length -> 5, values -> List(928.0, 921.0, 85.0, 0.359, 0.283))</td></tr><tr><td>762</td><td>943</td><td>70</td><td>0.339</td><td>0.276</td><td>0.431</td><td>Map(vectorType -> dense, length -> 5, values -> List(762.0, 943.0, 70.0, 0.339, 0.276))</td></tr><tr><td>772</td><td>771</td><td>76</td><td>0.32</td><td>0.251</td><td>0.401</td><td>Map(vectorType -> dense, length -> 5, values -> List(772.0, 771.0, 76.0, 0.32, 0.251))</td></tr><tr><td>898</td><td>794</td><td>85</td><td>0.36</td><td>0.281</td><td>0.447</td><td>Map(vectorType -> dense, length -> 5, values -> List(898.0, 794.0, 85.0, 0.36, 0.281))</td></tr><tr><td>778</td><td>773</td><td>81</td><td>0.331</td><td>0.256</td><td>0.422</td><td>Map(vectorType -> dense, length -> 5, values -> List(778.0, 773.0, 81.0, 0.331, 0.256))</td></tr><tr><td>952</td><td>769</td><td>99</td><td>0.369</td><td>0.293</td><td>0.475</td><td>Map(vectorType -> dense, length -> 5, values -> List(952.0, 769.0, 99.0, 0.369, 0.293))</td></tr><tr><td>961</td><td>964</td><td>83</td><td>0.355</td><td>0.287</td><td>0.472</td><td>Map(vectorType -> dense, length -> 5, values -> List(961.0, 964.0, 83.0, 0.355, 0.287))</td></tr><tr><td>783</td><td>1103</td><td>53</td><td>0.323</td><td>0.256</td><td>0.42</td><td>Map(vectorType -> dense, length -> 5, values -> List(783.0, 1103.0, 53.0, 0.323, 0.256))</td></tr><tr><td>688</td><td>703</td><td>80</td><td>0.329</td><td>0.257</td><td>0.393</td><td>Map(vectorType -> dense, length -> 5, values -> List(688.0, 703.0, 80.0, 0.329, 0.257))</td></tr><tr><td>753</td><td>792</td><td>82</td><td>0.336</td><td>0.262</td><td>0.397</td><td>Map(vectorType -> dense, length -> 5, values -> List(753.0, 792.0, 82.0, 0.336, 0.262))</td></tr><tr><td>746</td><td>786</td><td>75</td><td>0.332</td><td>0.267</td><td>0.398</td><td>Map(vectorType -> dense, length -> 5, values -> List(746.0, 786.0, 75.0, 0.332, 0.267))</td></tr><tr><td>703</td><td>652</td><td>90</td><td>0.316</td><td>0.252</td><td>0.384</td><td>Map(vectorType -> dense, length -> 5, values -> List(703.0, 652.0, 90.0, 0.316, 0.252))</td></tr><tr><td>894</td><td>899</td><td>80</td><td>0.353</td><td>0.279</td><td>0.441</td><td>Map(vectorType -> dense, length -> 5, values -> List(894.0, 899.0, 80.0, 0.353, 0.279))</td></tr><tr><td>877</td><td>900</td><td>78</td><td>0.357</td><td>0.288</td><td>0.425</td><td>Map(vectorType -> dense, length -> 5, values -> List(877.0, 900.0, 78.0, 0.357, 0.288))</td></tr><tr><td>741</td><td>668</td><td>88</td><td>0.327</td><td>0.262</td><td>0.406</td><td>Map(vectorType -> dense, length -> 5, values -> List(741.0, 668.0, 88.0, 0.327, 0.262))</td></tr><tr><td>746</td><td>779</td><td>71</td><td>0.324</td><td>0.27</td><td>0.412</td><td>Map(vectorType -> dense, length -> 5, values -> List(746.0, 779.0, 71.0, 0.324, 0.27))</td></tr><tr><td>871</td><td>787</td><td>92</td><td>0.36</td><td>0.288</td><td>0.436</td><td>Map(vectorType -> dense, length -> 5, values -> List(871.0, 787.0, 92.0, 0.36, 0.288))</td></tr><tr><td>861</td><td>900</td><td>78</td><td>0.344</td><td>0.265</td><td>0.452</td><td>Map(vectorType -> dense, length -> 5, values -> List(861.0, 900.0, 78.0, 0.344, 0.265))</td></tr><tr><td>650</td><td>790</td><td>67</td><td>0.325</td><td>0.256</td><td>0.387</td><td>Map(vectorType -> dense, length -> 5, values -> List(650.0, 790.0, 67.0, 0.325, 0.256))</td></tr><tr><td>776</td><td>833</td><td>73</td><td>0.329</td><td>0.266</td><td>0.407</td><td>Map(vectorType -> dense, length -> 5, values -> List(776.0, 833.0, 73.0, 0.329, 0.266))</td></tr><tr><td>771</td><td>682</td><td>91</td><td>0.338</td><td>0.265</td><td>0.402</td><td>Map(vectorType -> dense, length -> 5, values -> List(771.0, 682.0, 91.0, 0.338, 0.265))</td></tr><tr><td>993</td><td>895</td><td>85</td><td>0.366</td><td>0.287</td><td>0.484</td><td>Map(vectorType -> dense, length -> 5, values -> List(993.0, 895.0, 85.0, 0.366, 0.287))</td></tr><tr><td>752</td><td>862</td><td>68</td><td>0.331</td><td>0.253</td><td>0.388</td><td>Map(vectorType -> dense, length -> 5, values -> List(752.0, 862.0, 68.0, 0.331, 0.253))</td></tr><tr><td>759</td><td>706</td><td>88</td><td>0.33</td><td>0.267</td><td>0.407</td><td>Map(vectorType -> dense, length -> 5, values -> List(759.0, 706.0, 88.0, 0.33, 0.267))</td></tr><tr><td>928</td><td>799</td><td>90</td><td>0.358</td><td>0.284</td><td>0.469</td><td>Map(vectorType -> dense, length -> 5, values -> List(928.0, 799.0, 90.0, 0.358, 0.284))</td></tr><tr><td>766</td><td>809</td><td>74</td><td>0.331</td><td>0.259</td><td>0.42</td><td>Map(vectorType -> dense, length -> 5, values -> List(766.0, 809.0, 74.0, 0.331, 0.259))</td></tr><tr><td>767</td><td>559</td><td>104</td><td>0.331</td><td>0.262</td><td>0.408</td><td>Map(vectorType -> dense, length -> 5, values -> List(767.0, 559.0, 104.0, 0.331, 0.262))</td></tr><tr><td>786</td><td>745</td><td>85</td><td>0.346</td><td>0.267</td><td>0.413</td><td>Map(vectorType -> dense, length -> 5, values -> List(786.0, 745.0, 85.0, 0.346, 0.267))</td></tr><tr><td>686</td><td>698</td><td>80</td><td>0.33</td><td>0.264</td><td>0.395</td><td>Map(vectorType -> dense, length -> 5, values -> List(686.0, 698.0, 80.0, 0.33, 0.264))</td></tr><tr><td>684</td><td>770</td><td>71</td><td>0.331</td><td>0.26</td><td>0.38</td><td>Map(vectorType -> dense, length -> 5, values -> List(684.0, 770.0, 71.0, 0.331, 0.26))</td></tr><tr><td>738</td><td>739</td><td>84</td><td>0.325</td><td>0.27</td><td>0.414</td><td>Map(vectorType -> dense, length -> 5, values -> List(738.0, 739.0, 84.0, 0.325, 0.27))</td></tr><tr><td>776</td><td>664</td><td>94</td><td>0.338</td><td>0.265</td><td>0.411</td><td>Map(vectorType -> dense, length -> 5, values -> List(776.0, 664.0, 94.0, 0.338, 0.265))</td></tr><tr><td>722</td><td>785</td><td>73</td><td>0.324</td><td>0.264</td><td>0.396</td><td>Map(vectorType -> dense, length -> 5, values -> List(722.0, 785.0, 73.0, 0.324, 0.264))</td></tr><tr><td>790</td><td>813</td><td>76</td><td>0.335</td><td>0.275</td><td>0.409</td><td>Map(vectorType -> dense, length -> 5, values -> List(790.0, 813.0, 76.0, 0.335, 0.275))</td></tr><tr><td>758</td><td>967</td><td>67</td><td>0.323</td><td>0.273</td><td>0.422</td><td>Map(vectorType -> dense, length -> 5, values -> List(758.0, 967.0, 67.0, 0.323, 0.273))</td></tr><tr><td>899</td><td>837</td><td>85</td><td>0.362</td><td>0.275</td><td>0.434</td><td>Map(vectorType -> dense, length -> 5, values -> List(899.0, 837.0, 85.0, 0.362, 0.275))</td></tr><tr><td>581</td><td>724</td><td>64</td><td>0.314</td><td>0.248</td><td>0.346</td><td>Map(vectorType -> dense, length -> 5, values -> List(581.0, 724.0, 64.0, 0.314, 0.248))</td></tr><tr><td>716</td><td>630</td><td>85</td><td>0.33</td><td>0.267</td><td>0.409</td><td>Map(vectorType -> dense, length -> 5, values -> List(716.0, 630.0, 85.0, 0.33, 0.267))</td></tr><tr><td>675</td><td>694</td><td>84</td><td>0.32</td><td>0.263</td><td>0.397</td><td>Map(vectorType -> dense, length -> 5, values -> List(675.0, 694.0, 84.0, 0.32, 0.263))</td></tr><tr><td>675</td><td>662</td><td>81</td><td>0.321</td><td>0.261</td><td>0.383</td><td>Map(vectorType -> dense, length -> 5, values -> List(675.0, 662.0, 81.0, 0.321, 0.261))</td></tr><tr><td>733</td><td>792</td><td>69</td><td>0.328</td><td>0.258</td><td>0.378</td><td>Map(vectorType -> dense, length -> 5, values -> List(733.0, 792.0, 69.0, 0.328, 0.258))</td></tr><tr><td>693</td><td>830</td><td>71</td><td>0.327</td><td>0.264</td><td>0.385</td><td>Map(vectorType -> dense, length -> 5, values -> List(693.0, 830.0, 71.0, 0.327, 0.264))</td></tr><tr><td>732</td><td>682</td><td>94</td><td>0.326</td><td>0.257</td><td>0.386</td><td>Map(vectorType -> dense, length -> 5, values -> List(732.0, 682.0, 94.0, 0.326, 0.257))</td></tr><tr><td>672</td><td>744</td><td>59</td><td>0.305</td><td>0.248</td><td>0.39</td><td>Map(vectorType -> dense, length -> 5, values -> List(672.0, 744.0, 59.0, 0.305, 0.248))</td></tr><tr><td>821</td><td>761</td><td>88</td><td>0.353</td><td>0.279</td><td>0.435</td><td>Map(vectorType -> dense, length -> 5, values -> List(821.0, 761.0, 88.0, 0.353, 0.279))</td></tr><tr><td>715</td><td>846</td><td>68</td><td>0.33</td><td>0.254</td><td>0.394</td><td>Map(vectorType -> dense, length -> 5, values -> List(715.0, 846.0, 68.0, 0.33, 0.254))</td></tr><tr><td>877</td><td>740</td><td>97</td><td>0.351</td><td>0.274</td><td>0.426</td><td>Map(vectorType -> dense, length -> 5, values -> List(877.0, 740.0, 97.0, 0.351, 0.274))</td></tr><tr><td>707</td><td>806</td><td>75</td><td>0.335</td><td>0.267</td><td>0.393</td><td>Map(vectorType -> dense, length -> 5, values -> List(707.0, 806.0, 75.0, 0.335, 0.267))</td></tr><tr><td>679</td><td>772</td><td>61</td><td>0.312</td><td>0.252</td><td>0.389</td><td>Map(vectorType -> dense, length -> 5, values -> List(679.0, 772.0, 61.0, 0.312, 0.252))</td></tr><tr><td>734</td><td>731</td><td>82</td><td>0.339</td><td>0.26</td><td>0.406</td><td>Map(vectorType -> dense, length -> 5, values -> List(734.0, 731.0, 82.0, 0.339, 0.26))</td></tr><tr><td>808</td><td>636</td><td>103</td><td>0.34</td><td>0.276</td><td>0.427</td><td>Map(vectorType -> dense, length -> 5, values -> List(808.0, 636.0, 103.0, 0.34, 0.276))</td></tr><tr><td>758</td><td>744</td><td>87</td><td>0.341</td><td>0.272</td><td>0.395</td><td>Map(vectorType -> dense, length -> 5, values -> List(758.0, 744.0, 87.0, 0.341, 0.272))</td></tr><tr><td>835</td><td>751</td><td>86</td><td>0.329</td><td>0.267</td><td>0.431</td><td>Map(vectorType -> dense, length -> 5, values -> List(835.0, 751.0, 86.0, 0.329, 0.267))</td></tr><tr><td>847</td><td>742</td><td>95</td><td>0.35</td><td>0.279</td><td>0.436</td><td>Map(vectorType -> dense, length -> 5, values -> List(847.0, 742.0, 95.0, 0.35, 0.279))</td></tr><tr><td>682</td><td>569</td><td>98</td><td>0.316</td><td>0.254</td><td>0.388</td><td>Map(vectorType -> dense, length -> 5, values -> List(682.0, 569.0, 98.0, 0.316, 0.254))</td></tr><tr><td>705</td><td>656</td><td>89</td><td>0.34</td><td>0.259</td><td>0.398</td><td>Map(vectorType -> dense, length -> 5, values -> List(705.0, 656.0, 89.0, 0.34, 0.259))</td></tr><tr><td>599</td><td>669</td><td>73</td><td>0.321</td><td>0.246</td><td>0.347</td><td>Map(vectorType -> dense, length -> 5, values -> List(599.0, 669.0, 73.0, 0.321, 0.246))</td></tr><tr><td>579</td><td>671</td><td>72</td><td>0.301</td><td>0.243</td><td>0.338</td><td>Map(vectorType -> dense, length -> 5, values -> List(579.0, 671.0, 72.0, 0.301, 0.243))</td></tr><tr><td>593</td><td>624</td><td>78</td><td>0.307</td><td>0.254</td><td>0.364</td><td>Map(vectorType -> dense, length -> 5, values -> List(593.0, 624.0, 78.0, 0.307, 0.254))</td></tr><tr><td>738</td><td>690</td><td>86</td><td>0.336</td><td>0.261</td><td>0.383</td><td>Map(vectorType -> dense, length -> 5, values -> List(738.0, 690.0, 86.0, 0.336, 0.261))</td></tr><tr><td>660</td><td>609</td><td>90</td><td>0.328</td><td>0.26</td><td>0.382</td><td>Map(vectorType -> dense, length -> 5, values -> List(660.0, 609.0, 90.0, 0.328, 0.26))</td></tr><tr><td>674</td><td>746</td><td>76</td><td>0.323</td><td>0.266</td><td>0.383</td><td>Map(vectorType -> dense, length -> 5, values -> List(674.0, 746.0, 76.0, 0.323, 0.266))</td></tr><tr><td>791</td><td>794</td><td>75</td><td>0.337</td><td>0.256</td><td>0.407</td><td>Map(vectorType -> dense, length -> 5, values -> List(791.0, 794.0, 75.0, 0.337, 0.256))</td></tr><tr><td>608</td><td>668</td><td>81</td><td>0.313</td><td>0.246</td><td>0.359</td><td>Map(vectorType -> dense, length -> 5, values -> List(608.0, 668.0, 81.0, 0.313, 0.246))</td></tr><tr><td>610</td><td>667</td><td>72</td><td>0.315</td><td>0.256</td><td>0.364</td><td>Map(vectorType -> dense, length -> 5, values -> List(610.0, 667.0, 72.0, 0.315, 0.256))</td></tr><tr><td>548</td><td>636</td><td>63</td><td>0.313</td><td>0.248</td><td>0.339</td><td>Map(vectorType -> dense, length -> 5, values -> List(548.0, 636.0, 63.0, 0.313, 0.248))</td></tr><tr><td>740</td><td>604</td><td>92</td><td>0.33</td><td>0.268</td><td>0.375</td><td>Map(vectorType -> dense, length -> 5, values -> List(740.0, 604.0, 92.0, 0.33, 0.268))</td></tr><tr><td>747</td><td>653</td><td>90</td><td>0.341</td><td>0.277</td><td>0.391</td><td>Map(vectorType -> dense, length -> 5, values -> List(747.0, 653.0, 90.0, 0.341, 0.277))</td></tr><tr><td>648</td><td>581</td><td>87</td><td>0.313</td><td>0.252</td><td>0.37</td><td>Map(vectorType -> dense, length -> 5, values -> List(648.0, 581.0, 87.0, 0.313, 0.252))</td></tr><tr><td>599</td><td>653</td><td>72</td><td>0.31</td><td>0.235</td><td>0.342</td><td>Map(vectorType -> dense, length -> 5, values -> List(599.0, 653.0, 72.0, 0.31, 0.235))</td></tr><tr><td>733</td><td>746</td><td>76</td><td>0.328</td><td>0.261</td><td>0.406</td><td>Map(vectorType -> dense, length -> 5, values -> List(733.0, 746.0, 76.0, 0.328, 0.261))</td></tr><tr><td>745</td><td>672</td><td>96</td><td>0.346</td><td>0.258</td><td>0.386</td><td>Map(vectorType -> dense, length -> 5, values -> List(745.0, 672.0, 96.0, 0.346, 0.258))</td></tr><tr><td>686</td><td>717</td><td>70</td><td>0.32</td><td>0.253</td><td>0.377</td><td>Map(vectorType -> dense, length -> 5, values -> List(686.0, 717.0, 70.0, 0.32, 0.253))</td></tr><tr><td>693</td><td>595</td><td>96</td><td>0.324</td><td>0.255</td><td>0.381</td><td>Map(vectorType -> dense, length -> 5, values -> List(693.0, 595.0, 96.0, 0.324, 0.255))</td></tr><tr><td>617</td><td>636</td><td>82</td><td>0.313</td><td>0.255</td><td>0.386</td><td>Map(vectorType -> dense, length -> 5, values -> List(617.0, 636.0, 82.0, 0.313, 0.255))</td></tr><tr><td>679</td><td>799</td><td>64</td><td>0.323</td><td>0.263</td><td>0.402</td><td>Map(vectorType -> dense, length -> 5, values -> List(679.0, 799.0, 64.0, 0.323, 0.263))</td></tr><tr><td>574</td><td>647</td><td>72</td><td>0.302</td><td>0.244</td><td>0.355</td><td>Map(vectorType -> dense, length -> 5, values -> List(574.0, 647.0, 72.0, 0.302, 0.244))</td></tr><tr><td>631</td><td>604</td><td>83</td><td>0.323</td><td>0.262</td><td>0.375</td><td>Map(vectorType -> dense, length -> 5, values -> List(631.0, 604.0, 83.0, 0.323, 0.262))</td></tr><tr><td>682</td><td>753</td><td>77</td><td>0.321</td><td>0.25</td><td>0.393</td><td>Map(vectorType -> dense, length -> 5, values -> List(682.0, 753.0, 77.0, 0.321, 0.25))</td></tr><tr><td>780</td><td>682</td><td>96</td><td>0.333</td><td>0.263</td><td>0.414</td><td>Map(vectorType -> dense, length -> 5, values -> List(780.0, 682.0, 96.0, 0.333, 0.263))</td></tr><tr><td>749</td><td>644</td><td>94</td><td>0.328</td><td>0.258</td><td>0.393</td><td>Map(vectorType -> dense, length -> 5, values -> List(749.0, 644.0, 94.0, 0.328, 0.258))</td></tr><tr><td>686</td><td>796</td><td>67</td><td>0.319</td><td>0.254</td><td>0.401</td><td>Map(vectorType -> dense, length -> 5, values -> List(686.0, 796.0, 67.0, 0.319, 0.254))</td></tr><tr><td>731</td><td>712</td><td>84</td><td>0.34</td><td>0.269</td><td>0.401</td><td>Map(vectorType -> dense, length -> 5, values -> List(731.0, 712.0, 84.0, 0.34, 0.269))</td></tr><tr><td>653</td><td>649</td><td>81</td><td>0.314</td><td>0.255</td><td>0.374</td><td>Map(vectorType -> dense, length -> 5, values -> List(653.0, 649.0, 81.0, 0.314, 0.255))</td></tr><tr><td>695</td><td>734</td><td>77</td><td>0.309</td><td>0.253</td><td>0.39</td><td>Map(vectorType -> dense, length -> 5, values -> List(695.0, 734.0, 77.0, 0.309, 0.253))</td></tr><tr><td>758</td><td>681</td><td>87</td><td>0.336</td><td>0.262</td><td>0.391</td><td>Map(vectorType -> dense, length -> 5, values -> List(758.0, 681.0, 87.0, 0.336, 0.262))</td></tr><tr><td>689</td><td>691</td><td>74</td><td>0.32</td><td>0.258</td><td>0.403</td><td>Map(vectorType -> dense, length -> 5, values -> List(689.0, 691.0, 74.0, 0.32, 0.258))</td></tr><tr><td>576</td><td>759</td><td>57</td><td>0.313</td><td>0.254</td><td>0.35</td><td>Map(vectorType -> dense, length -> 5, values -> List(576.0, 759.0, 57.0, 0.313, 0.254))</td></tr><tr><td>817</td><td>794</td><td>84</td><td>0.333</td><td>0.247</td><td>0.416</td><td>Map(vectorType -> dense, length -> 5, values -> List(817.0, 794.0, 84.0, 0.333, 0.247))</td></tr><tr><td>605</td><td>717</td><td>65</td><td>0.309</td><td>0.244</td><td>0.347</td><td>Map(vectorType -> dense, length -> 5, values -> List(605.0, 717.0, 65.0, 0.309, 0.244))</td></tr><tr><td>727</td><td>722</td><td>82</td><td>0.328</td><td>0.264</td><td>0.394</td><td>Map(vectorType -> dense, length -> 5, values -> List(727.0, 722.0, 82.0, 0.328, 0.264))</td></tr><tr><td>665</td><td>565</td><td>93</td><td>0.326</td><td>0.253</td><td>0.359</td><td>Map(vectorType -> dense, length -> 5, values -> List(665.0, 565.0, 93.0, 0.326, 0.253))</td></tr><tr><td>799</td><td>744</td><td>83</td><td>0.336</td><td>0.271</td><td>0.396</td><td>Map(vectorType -> dense, length -> 5, values -> List(799.0, 744.0, 83.0, 0.336, 0.271))</td></tr><tr><td>776</td><td>652</td><td>95</td><td>0.344</td><td>0.28</td><td>0.42</td><td>Map(vectorType -> dense, length -> 5, values -> List(776.0, 652.0, 95.0, 0.344, 0.28))</td></tr><tr><td>579</td><td>655</td><td>71</td><td>0.308</td><td>0.246</td><td>0.357</td><td>Map(vectorType -> dense, length -> 5, values -> List(579.0, 655.0, 71.0, 0.308, 0.246))</td></tr><tr><td>640</td><td>646</td><td>77</td><td>0.317</td><td>0.244</td><td>0.365</td><td>Map(vectorType -> dense, length -> 5, values -> List(640.0, 646.0, 77.0, 0.317, 0.244))</td></tr><tr><td>674</td><td>777</td><td>71</td><td>0.316</td><td>0.256</td><td>0.387</td><td>Map(vectorType -> dense, length -> 5, values -> List(674.0, 777.0, 71.0, 0.316, 0.256))</td></tr><tr><td>760</td><td>776</td><td>84</td><td>0.331</td><td>0.248</td><td>0.389</td><td>Map(vectorType -> dense, length -> 5, values -> List(760.0, 776.0, 84.0, 0.331, 0.248))</td></tr><tr><td>629</td><td>680</td><td>78</td><td>0.303</td><td>0.241</td><td>0.358</td><td>Map(vectorType -> dense, length -> 5, values -> List(629.0, 680.0, 78.0, 0.303, 0.241))</td></tr><tr><td>768</td><td>632</td><td>98</td><td>0.338</td><td>0.263</td><td>0.398</td><td>Map(vectorType -> dense, length -> 5, values -> List(768.0, 632.0, 98.0, 0.338, 0.263))</td></tr><tr><td>636</td><td>646</td><td>84</td><td>0.31</td><td>0.244</td><td>0.362</td><td>Map(vectorType -> dense, length -> 5, values -> List(636.0, 646.0, 84.0, 0.31, 0.244))</td></tr><tr><td>702</td><td>674</td><td>83</td><td>0.328</td><td>0.255</td><td>0.383</td><td>Map(vectorType -> dense, length -> 5, values -> List(702.0, 674.0, 83.0, 0.328, 0.255))</td></tr><tr><td>649</td><td>697</td><td>75</td><td>0.309</td><td>0.246</td><td>0.381</td><td>Map(vectorType -> dense, length -> 5, values -> List(649.0, 697.0, 75.0, 0.309, 0.246))</td></tr><tr><td>651</td><td>648</td><td>84</td><td>0.322</td><td>0.255</td><td>0.357</td><td>Map(vectorType -> dense, length -> 5, values -> List(651.0, 648.0, 84.0, 0.322, 0.255))</td></tr><tr><td>829</td><td>814</td><td>85</td><td>0.341</td><td>0.27</td><td>0.424</td><td>Map(vectorType -> dense, length -> 5, values -> List(829.0, 814.0, 85.0, 0.341, 0.27))</td></tr><tr><td>684</td><td>622</td><td>91</td><td>0.322</td><td>0.257</td><td>0.4</td><td>Map(vectorType -> dense, length -> 5, values -> List(684.0, 622.0, 91.0, 0.322, 0.257))</td></tr><tr><td>682</td><td>821</td><td>65</td><td>0.311</td><td>0.25</td><td>0.396</td><td>Map(vectorType -> dense, length -> 5, values -> List(682.0, 821.0, 65.0, 0.311, 0.25))</td></tr><tr><td>669</td><td>698</td><td>76</td><td>0.33</td><td>0.245</td><td>0.37</td><td>Map(vectorType -> dense, length -> 5, values -> List(669.0, 698.0, 76.0, 0.33, 0.245))</td></tr><tr><td>699</td><td>664</td><td>88</td><td>0.344</td><td>0.272</td><td>0.395</td><td>Map(vectorType -> dense, length -> 5, values -> List(699.0, 664.0, 88.0, 0.344, 0.272))</td></tr><tr><td>690</td><td>706</td><td>80</td><td>0.329</td><td>0.26</td><td>0.391</td><td>Map(vectorType -> dense, length -> 5, values -> List(690.0, 706.0, 80.0, 0.329, 0.26))</td></tr><tr><td>690</td><td>774</td><td>77</td><td>0.314</td><td>0.263</td><td>0.392</td><td>Map(vectorType -> dense, length -> 5, values -> List(690.0, 774.0, 77.0, 0.314, 0.263))</td></tr><tr><td>682</td><td>633</td><td>94</td><td>0.32</td><td>0.258</td><td>0.379</td><td>Map(vectorType -> dense, length -> 5, values -> List(682.0, 633.0, 94.0, 0.32, 0.258))</td></tr><tr><td>693</td><td>597</td><td>91</td><td>0.325</td><td>0.265</td><td>0.399</td><td>Map(vectorType -> dense, length -> 5, values -> List(693.0, 597.0, 91.0, 0.325, 0.265))</td></tr><tr><td>732</td><td>737</td><td>77</td><td>0.324</td><td>0.267</td><td>0.391</td><td>Map(vectorType -> dense, length -> 5, values -> List(732.0, 737.0, 77.0, 0.324, 0.267))</td></tr><tr><td>750</td><td>754</td><td>79</td><td>0.337</td><td>0.259</td><td>0.409</td><td>Map(vectorType -> dense, length -> 5, values -> List(750.0, 754.0, 79.0, 0.337, 0.259))</td></tr><tr><td>573</td><td>656</td><td>75</td><td>0.313</td><td>0.242</td><td>0.345</td><td>Map(vectorType -> dense, length -> 5, values -> List(573.0, 656.0, 75.0, 0.313, 0.242))</td></tr><tr><td>707</td><td>709</td><td>75</td><td>0.328</td><td>0.267</td><td>0.395</td><td>Map(vectorType -> dense, length -> 5, values -> List(707.0, 709.0, 75.0, 0.328, 0.267))</td></tr><tr><td>728</td><td>685</td><td>86</td><td>0.328</td><td>0.262</td><td>0.382</td><td>Map(vectorType -> dense, length -> 5, values -> List(728.0, 685.0, 86.0, 0.328, 0.262))</td></tr><tr><td>732</td><td>760</td><td>74</td><td>0.32</td><td>0.256</td><td>0.384</td><td>Map(vectorType -> dense, length -> 5, values -> List(732.0, 760.0, 74.0, 0.32, 0.256))</td></tr><tr><td>666</td><td>729</td><td>74</td><td>0.324</td><td>0.265</td><td>0.385</td><td>Map(vectorType -> dense, length -> 5, values -> List(666.0, 729.0, 74.0, 0.324, 0.265))</td></tr><tr><td>662</td><td>598</td><td>85</td><td>0.322</td><td>0.25</td><td>0.37</td><td>Map(vectorType -> dense, length -> 5, values -> List(662.0, 598.0, 85.0, 0.322, 0.25))</td></tr><tr><td>775</td><td>613</td><td>91</td><td>0.323</td><td>0.256</td><td>0.408</td><td>Map(vectorType -> dense, length -> 5, values -> List(775.0, 613.0, 91.0, 0.323, 0.256))</td></tr><tr><td>603</td><td>749</td><td>67</td><td>0.3</td><td>0.241</td><td>0.366</td><td>Map(vectorType -> dense, length -> 5, values -> List(603.0, 749.0, 67.0, 0.3, 0.241))</td></tr><tr><td>733</td><td>570</td><td>103</td><td>0.336</td><td>0.254</td><td>0.391</td><td>Map(vectorType -> dense, length -> 5, values -> List(733.0, 570.0, 103.0, 0.336, 0.254))</td></tr><tr><td>646</td><td>729</td><td>77</td><td>0.327</td><td>0.255</td><td>0.363</td><td>Map(vectorType -> dense, length -> 5, values -> List(646.0, 729.0, 77.0, 0.327, 0.255))</td></tr><tr><td>733</td><td>619</td><td>95</td><td>0.33</td><td>0.259</td><td>0.405</td><td>Map(vectorType -> dense, length -> 5, values -> List(733.0, 619.0, 95.0, 0.33, 0.259))</td></tr><tr><td>673</td><td>673</td><td>75</td><td>0.32</td><td>0.257</td><td>0.38</td><td>Map(vectorType -> dense, length -> 5, values -> List(673.0, 673.0, 75.0, 0.32, 0.257))</td></tr><tr><td>640</td><td>680</td><td>77</td><td>0.333</td><td>0.259</td><td>0.373</td><td>Map(vectorType -> dense, length -> 5, values -> List(640.0, 680.0, 77.0, 0.333, 0.259))</td></tr><tr><td>719</td><td>710</td><td>85</td><td>0.323</td><td>0.262</td><td>0.396</td><td>Map(vectorType -> dense, length -> 5, values -> List(719.0, 710.0, 85.0, 0.323, 0.262))</td></tr><tr><td>599</td><td>698</td><td>70</td><td>0.32</td><td>0.256</td><td>0.358</td><td>Map(vectorType -> dense, length -> 5, values -> List(599.0, 698.0, 70.0, 0.32, 0.256))</td></tr><tr><td>676</td><td>696</td><td>83</td><td>0.331</td><td>0.259</td><td>0.376</td><td>Map(vectorType -> dense, length -> 5, values -> List(676.0, 696.0, 83.0, 0.331, 0.259))</td></tr><tr><td>767</td><td>661</td><td>86</td><td>0.328</td><td>0.265</td><td>0.419</td><td>Map(vectorType -> dense, length -> 5, values -> List(767.0, 661.0, 86.0, 0.328, 0.265))</td></tr><tr><td>584</td><td>680</td><td>63</td><td>0.298</td><td>0.234</td><td>0.35</td><td>Map(vectorType -> dense, length -> 5, values -> List(584.0, 680.0, 63.0, 0.298, 0.234))</td></tr><tr><td>708</td><td>686</td><td>87</td><td>0.326</td><td>0.252</td><td>0.379</td><td>Map(vectorType -> dense, length -> 5, values -> List(708.0, 686.0, 87.0, 0.326, 0.252))</td></tr><tr><td>774</td><td>735</td><td>83</td><td>0.351</td><td>0.277</td><td>0.403</td><td>Map(vectorType -> dense, length -> 5, values -> List(774.0, 735.0, 83.0, 0.351, 0.277))</td></tr><tr><td>669</td><td>578</td><td>91</td><td>0.311</td><td>0.256</td><td>0.386</td><td>Map(vectorType -> dense, length -> 5, values -> List(669.0, 578.0, 91.0, 0.311, 0.256))</td></tr><tr><td>702</td><td>623</td><td>93</td><td>0.319</td><td>0.261</td><td>0.387</td><td>Map(vectorType -> dense, length -> 5, values -> List(702.0, 623.0, 93.0, 0.319, 0.261))</td></tr><tr><td>693</td><td>750</td><td>69</td><td>0.328</td><td>0.271</td><td>0.383</td><td>Map(vectorType -> dense, length -> 5, values -> List(693.0, 750.0, 69.0, 0.328, 0.271))</td></tr><tr><td>632</td><td>691</td><td>75</td><td>0.309</td><td>0.247</td><td>0.37</td><td>Map(vectorType -> dense, length -> 5, values -> List(632.0, 691.0, 75.0, 0.309, 0.247))</td></tr><tr><td>604</td><td>654</td><td>73</td><td>0.31</td><td>0.245</td><td>0.365</td><td>Map(vectorType -> dense, length -> 5, values -> List(604.0, 654.0, 73.0, 0.31, 0.245))</td></tr><tr><td>617</td><td>816</td><td>59</td><td>0.318</td><td>0.242</td><td>0.351</td><td>Map(vectorType -> dense, length -> 5, values -> List(617.0, 816.0, 59.0, 0.318, 0.242))</td></tr><tr><td>647</td><td>669</td><td>86</td><td>0.306</td><td>0.239</td><td>0.345</td><td>Map(vectorType -> dense, length -> 5, values -> List(647.0, 669.0, 86.0, 0.306, 0.239))</td></tr><tr><td>690</td><td>635</td><td>92</td><td>0.329</td><td>0.261</td><td>0.373</td><td>Map(vectorType -> dense, length -> 5, values -> List(690.0, 635.0, 92.0, 0.329, 0.261))</td></tr><tr><td>554</td><td>536</td><td>77</td><td>0.306</td><td>0.24</td><td>0.339</td><td>Map(vectorType -> dense, length -> 5, values -> List(554.0, 536.0, 77.0, 0.306, 0.24))</td></tr><tr><td>707</td><td>679</td><td>81</td><td>0.318</td><td>0.259</td><td>0.382</td><td>Map(vectorType -> dense, length -> 5, values -> List(707.0, 679.0, 81.0, 0.318, 0.259))</td></tr><tr><td>740</td><td>738</td><td>80</td><td>0.334</td><td>0.276</td><td>0.402</td><td>Map(vectorType -> dense, length -> 5, values -> List(740.0, 738.0, 80.0, 0.334, 0.276))</td></tr><tr><td>632</td><td>630</td><td>81</td><td>0.319</td><td>0.247</td><td>0.361</td><td>Map(vectorType -> dense, length -> 5, values -> List(632.0, 630.0, 81.0, 0.319, 0.247))</td></tr><tr><td>683</td><td>595</td><td>87</td><td>0.311</td><td>0.246</td><td>0.385</td><td>Map(vectorType -> dense, length -> 5, values -> List(683.0, 595.0, 87.0, 0.311, 0.246))</td></tr><tr><td>698</td><td>792</td><td>74</td><td>0.331</td><td>0.269</td><td>0.391</td><td>Map(vectorType -> dense, length -> 5, values -> List(698.0, 792.0, 74.0, 0.331, 0.269))</td></tr><tr><td>712</td><td>576</td><td>99</td><td>0.331</td><td>0.261</td><td>0.381</td><td>Map(vectorType -> dense, length -> 5, values -> List(712.0, 576.0, 99.0, 0.331, 0.261))</td></tr><tr><td>629</td><td>735</td><td>67</td><td>0.314</td><td>0.243</td><td>0.364</td><td>Map(vectorType -> dense, length -> 5, values -> List(629.0, 735.0, 67.0, 0.314, 0.243))</td></tr><tr><td>637</td><td>680</td><td>74</td><td>0.311</td><td>0.241</td><td>0.359</td><td>Map(vectorType -> dense, length -> 5, values -> List(637.0, 680.0, 74.0, 0.311, 0.241))</td></tr><tr><td>642</td><td>626</td><td>89</td><td>0.319</td><td>0.251</td><td>0.369</td><td>Map(vectorType -> dense, length -> 5, values -> List(642.0, 626.0, 89.0, 0.319, 0.251))</td></tr><tr><td>694</td><td>728</td><td>73</td><td>0.32</td><td>0.257</td><td>0.384</td><td>Map(vectorType -> dense, length -> 5, values -> List(694.0, 728.0, 73.0, 0.32, 0.257))</td></tr><tr><td>699</td><td>600</td><td>92</td><td>0.316</td><td>0.25</td><td>0.39</td><td>Map(vectorType -> dense, length -> 5, values -> List(699.0, 600.0, 92.0, 0.316, 0.25))</td></tr><tr><td>632</td><td>608</td><td>86</td><td>0.321</td><td>0.258</td><td>0.363</td><td>Map(vectorType -> dense, length -> 5, values -> List(632.0, 608.0, 86.0, 0.321, 0.258))</td></tr><tr><td>695</td><td>714</td><td>83</td><td>0.326</td><td>0.263</td><td>0.394</td><td>Map(vectorType -> dense, length -> 5, values -> List(695.0, 714.0, 83.0, 0.326, 0.263))</td></tr><tr><td>731</td><td>651</td><td>89</td><td>0.323</td><td>0.26</td><td>0.398</td><td>Map(vectorType -> dense, length -> 5, values -> List(731.0, 651.0, 89.0, 0.323, 0.26))</td></tr><tr><td>555</td><td>741</td><td>54</td><td>0.298</td><td>0.242</td><td>0.348</td><td>Map(vectorType -> dense, length -> 5, values -> List(555.0, 741.0, 54.0, 0.298, 0.242))</td></tr><tr><td>550</td><td>789</td><td>54</td><td>0.305</td><td>0.238</td><td>0.359</td><td>Map(vectorType -> dense, length -> 5, values -> List(550.0, 789.0, 54.0, 0.305, 0.238))</td></tr><tr><td>813</td><td>689</td><td>89</td><td>0.357</td><td>0.283</td><td>0.42</td><td>Map(vectorType -> dense, length -> 5, values -> List(813.0, 689.0, 89.0, 0.357, 0.283))</td></tr><tr><td>714</td><td>771</td><td>75</td><td>0.321</td><td>0.261</td><td>0.385</td><td>Map(vectorType -> dense, length -> 5, values -> List(714.0, 771.0, 75.0, 0.321, 0.261))</td></tr><tr><td>660</td><td>694</td><td>77</td><td>0.31</td><td>0.261</td><td>0.383</td><td>Map(vectorType -> dense, length -> 5, values -> List(660.0, 694.0, 77.0, 0.31, 0.261))</td></tr><tr><td>631</td><td>757</td><td>71</td><td>0.303</td><td>0.244</td><td>0.37</td><td>Map(vectorType -> dense, length -> 5, values -> List(631.0, 757.0, 71.0, 0.303, 0.244))</td></tr><tr><td>641</td><td>596</td><td>87</td><td>0.309</td><td>0.246</td><td>0.368</td><td>Map(vectorType -> dense, length -> 5, values -> List(641.0, 596.0, 87.0, 0.309, 0.246))</td></tr><tr><td>666</td><td>731</td><td>78</td><td>0.314</td><td>0.261</td><td>0.387</td><td>Map(vectorType -> dense, length -> 5, values -> List(666.0, 731.0, 78.0, 0.314, 0.261))</td></tr><tr><td>703</td><td>658</td><td>88</td><td>0.324</td><td>0.25</td><td>0.378</td><td>Map(vectorType -> dense, length -> 5, values -> List(703.0, 658.0, 88.0, 0.324, 0.25))</td></tr><tr><td>617</td><td>631</td><td>82</td><td>0.306</td><td>0.244</td><td>0.351</td><td>Map(vectorType -> dense, length -> 5, values -> List(617.0, 631.0, 82.0, 0.306, 0.244))</td></tr><tr><td>704</td><td>648</td><td>84</td><td>0.321</td><td>0.259</td><td>0.391</td><td>Map(vectorType -> dense, length -> 5, values -> List(704.0, 648.0, 84.0, 0.321, 0.259))</td></tr><tr><td>628</td><td>544</td><td>94</td><td>0.305</td><td>0.248</td><td>0.352</td><td>Map(vectorType -> dense, length -> 5, values -> List(628.0, 544.0, 94.0, 0.305, 0.248))</td></tr><tr><td>682</td><td>616</td><td>87</td><td>0.314</td><td>0.257</td><td>0.375</td><td>Map(vectorType -> dense, length -> 5, values -> List(682.0, 616.0, 87.0, 0.314, 0.257))</td></tr><tr><td>759</td><td>672</td><td>91</td><td>0.34</td><td>0.274</td><td>0.421</td><td>Map(vectorType -> dense, length -> 5, values -> List(759.0, 672.0, 91.0, 0.34, 0.274))</td></tr><tr><td>628</td><td>592</td><td>81</td><td>0.309</td><td>0.251</td><td>0.373</td><td>Map(vectorType -> dense, length -> 5, values -> List(628.0, 592.0, 81.0, 0.309, 0.251))</td></tr><tr><td>703</td><td>532</td><td>100</td><td>0.325</td><td>0.256</td><td>0.396</td><td>Map(vectorType -> dense, length -> 5, values -> List(703.0, 532.0, 100.0, 0.325, 0.256))</td></tr><tr><td>772</td><td>748</td><td>85</td><td>0.333</td><td>0.263</td><td>0.395</td><td>Map(vectorType -> dense, length -> 5, values -> List(772.0, 748.0, 85.0, 0.333, 0.263))</td></tr><tr><td>800</td><td>620</td><td>104</td><td>0.336</td><td>0.263</td><td>0.399</td><td>Map(vectorType -> dense, length -> 5, values -> List(800.0, 620.0, 104.0, 0.336, 0.263))</td></tr><tr><td>597</td><td>734</td><td>65</td><td>0.306</td><td>0.239</td><td>0.355</td><td>Map(vectorType -> dense, length -> 5, values -> List(597.0, 734.0, 65.0, 0.306, 0.239))</td></tr><tr><td>651</td><td>616</td><td>85</td><td>0.317</td><td>0.247</td><td>0.369</td><td>Map(vectorType -> dense, length -> 5, values -> List(651.0, 616.0, 85.0, 0.317, 0.247))</td></tr><tr><td>594</td><td>583</td><td>83</td><td>0.31</td><td>0.247</td><td>0.351</td><td>Map(vectorType -> dense, length -> 5, values -> List(594.0, 583.0, 83.0, 0.31, 0.247))</td></tr><tr><td>664</td><td>744</td><td>68</td><td>0.317</td><td>0.257</td><td>0.398</td><td>Map(vectorType -> dense, length -> 5, values -> List(664.0, 744.0, 68.0, 0.317, 0.257))</td></tr><tr><td>670</td><td>626</td><td>83</td><td>0.318</td><td>0.248</td><td>0.368</td><td>Map(vectorType -> dense, length -> 5, values -> List(670.0, 626.0, 83.0, 0.318, 0.248))</td></tr><tr><td>578</td><td>633</td><td>76</td><td>0.309</td><td>0.249</td><td>0.337</td><td>Map(vectorType -> dense, length -> 5, values -> List(578.0, 633.0, 76.0, 0.309, 0.249))</td></tr><tr><td>637</td><td>735</td><td>70</td><td>0.32</td><td>0.252</td><td>0.368</td><td>Map(vectorType -> dense, length -> 5, values -> List(637.0, 735.0, 70.0, 0.32, 0.252))</td></tr><tr><td>763</td><td>680</td><td>87</td><td>0.332</td><td>0.268</td><td>0.419</td><td>Map(vectorType -> dense, length -> 5, values -> List(763.0, 680.0, 87.0, 0.332, 0.268))</td></tr><tr><td>747</td><td>829</td><td>69</td><td>0.339</td><td>0.258</td><td>0.403</td><td>Map(vectorType -> dense, length -> 5, values -> List(747.0, 829.0, 69.0, 0.339, 0.258))</td></tr><tr><td>729</td><td>880</td><td>67</td><td>0.322</td><td>0.258</td><td>0.418</td><td>Map(vectorType -> dense, length -> 5, values -> List(729.0, 880.0, 67.0, 0.322, 0.258))</td></tr><tr><td>842</td><td>825</td><td>78</td><td>0.352</td><td>0.278</td><td>0.43</td><td>Map(vectorType -> dense, length -> 5, values -> List(842.0, 825.0, 78.0, 0.352, 0.278))</td></tr><tr><td>770</td><td>803</td><td>75</td><td>0.326</td><td>0.252</td><td>0.401</td><td>Map(vectorType -> dense, length -> 5, values -> List(770.0, 803.0, 75.0, 0.326, 0.252))</td></tr><tr><td>720</td><td>801</td><td>76</td><td>0.326</td><td>0.264</td><td>0.432</td><td>Map(vectorType -> dense, length -> 5, values -> List(720.0, 801.0, 76.0, 0.326, 0.264))</td></tr><tr><td>748</td><td>746</td><td>77</td><td>0.319</td><td>0.258</td><td>0.415</td><td>Map(vectorType -> dense, length -> 5, values -> List(748.0, 746.0, 77.0, 0.319, 0.258))</td></tr><tr><td>783</td><td>752</td><td>84</td><td>0.33</td><td>0.266</td><td>0.427</td><td>Map(vectorType -> dense, length -> 5, values -> List(783.0, 752.0, 84.0, 0.33, 0.266))</td></tr><tr><td>742</td><td>957</td><td>61</td><td>0.324</td><td>0.263</td><td>0.422</td><td>Map(vectorType -> dense, length -> 5, values -> List(742.0, 957.0, 61.0, 0.324, 0.263))</td></tr><tr><td>896</td><td>735</td><td>98</td><td>0.349</td><td>0.272</td><td>0.451</td><td>Map(vectorType -> dense, length -> 5, values -> List(896.0, 735.0, 98.0, 0.349, 0.272))</td></tr><tr><td>648</td><td>678</td><td>76</td><td>0.318</td><td>0.253</td><td>0.373</td><td>Map(vectorType -> dense, length -> 5, values -> List(648.0, 678.0, 76.0, 0.318, 0.253))</td></tr><tr><td>715</td><td>691</td><td>83</td><td>0.328</td><td>0.262</td><td>0.412</td><td>Map(vectorType -> dense, length -> 5, values -> List(715.0, 691.0, 83.0, 0.328, 0.262))</td></tr><tr><td>635</td><td>675</td><td>73</td><td>0.309</td><td>0.252</td><td>0.371</td><td>Map(vectorType -> dense, length -> 5, values -> List(635.0, 675.0, 73.0, 0.309, 0.252))</td></tr><tr><td>862</td><td>817</td><td>91</td><td>0.346</td><td>0.276</td><td>0.428</td><td>Map(vectorType -> dense, length -> 5, values -> List(862.0, 817.0, 91.0, 0.346, 0.276))</td></tr><tr><td>786</td><td>806</td><td>85</td><td>0.328</td><td>0.261</td><td>0.43</td><td>Map(vectorType -> dense, length -> 5, values -> List(786.0, 806.0, 85.0, 0.328, 0.261))</td></tr><tr><td>741</td><td>720</td><td>91</td><td>0.328</td><td>0.265</td><td>0.401</td><td>Map(vectorType -> dense, length -> 5, values -> List(741.0, 720.0, 91.0, 0.328, 0.265))</td></tr><tr><td>823</td><td>698</td><td>92</td><td>0.339</td><td>0.268</td><td>0.434</td><td>Map(vectorType -> dense, length -> 5, values -> List(823.0, 698.0, 92.0, 0.339, 0.268))</td></tr><tr><td>788</td><td>758</td><td>89</td><td>0.336</td><td>0.262</td><td>0.418</td><td>Map(vectorType -> dense, length -> 5, values -> List(788.0, 758.0, 89.0, 0.336, 0.262))</td></tr><tr><td>806</td><td>789</td><td>81</td><td>0.333</td><td>0.26</td><td>0.428</td><td>Map(vectorType -> dense, length -> 5, values -> List(806.0, 789.0, 81.0, 0.333, 0.26))</td></tr><tr><td>702</td><td>749</td><td>80</td><td>0.327</td><td>0.254</td><td>0.41</td><td>Map(vectorType -> dense, length -> 5, values -> List(702.0, 749.0, 80.0, 0.327, 0.254))</td></tr><tr><td>723</td><td>744</td><td>80</td><td>0.33</td><td>0.264</td><td>0.403</td><td>Map(vectorType -> dense, length -> 5, values -> List(723.0, 744.0, 80.0, 0.33, 0.264))</td></tr><tr><td>668</td><td>763</td><td>65</td><td>0.332</td><td>0.26</td><td>0.378</td><td>Map(vectorType -> dense, length -> 5, values -> List(668.0, 763.0, 65.0, 0.332, 0.26))</td></tr><tr><td>760</td><td>801</td><td>78</td><td>0.335</td><td>0.272</td><td>0.428</td><td>Map(vectorType -> dense, length -> 5, values -> List(760.0, 801.0, 78.0, 0.335, 0.272))</td></tr><tr><td>783</td><td>669</td><td>90</td><td>0.324</td><td>0.26</td><td>0.43</td><td>Map(vectorType -> dense, length -> 5, values -> List(783.0, 669.0, 90.0, 0.324, 0.26))</td></tr><tr><td>798</td><td>693</td><td>95</td><td>0.34</td><td>0.263</td><td>0.378</td><td>Map(vectorType -> dense, length -> 5, values -> List(798.0, 693.0, 95.0, 0.34, 0.263))</td></tr><tr><td>823</td><td>849</td><td>75</td><td>0.333</td><td>0.266</td><td>0.43</td><td>Map(vectorType -> dense, length -> 5, values -> List(823.0, 849.0, 75.0, 0.333, 0.266))</td></tr><tr><td>845</td><td>655</td><td>96</td><td>0.336</td><td>0.269</td><td>0.446</td><td>Map(vectorType -> dense, length -> 5, values -> List(845.0, 655.0, 96.0, 0.336, 0.269))</td></tr><tr><td>615</td><td>719</td><td>72</td><td>0.319</td><td>0.25</td><td>0.381</td><td>Map(vectorType -> dense, length -> 5, values -> List(615.0, 719.0, 72.0, 0.319, 0.25))</td></tr><tr><td>708</td><td>760</td><td>73</td><td>0.327</td><td>0.258</td><td>0.395</td><td>Map(vectorType -> dense, length -> 5, values -> List(708.0, 760.0, 73.0, 0.327, 0.258))</td></tr><tr><td>794</td><td>696</td><td>95</td><td>0.346</td><td>0.271</td><td>0.415</td><td>Map(vectorType -> dense, length -> 5, values -> List(794.0, 696.0, 95.0, 0.346, 0.271))</td></tr><tr><td>786</td><td>684</td><td>92</td><td>0.338</td><td>0.255</td><td>0.404</td><td>Map(vectorType -> dense, length -> 5, values -> List(786.0, 684.0, 92.0, 0.338, 0.255))</td></tr><tr><td>680</td><td>781</td><td>70</td><td>0.318</td><td>0.256</td><td>0.398</td><td>Map(vectorType -> dense, length -> 5, values -> List(680.0, 781.0, 70.0, 0.318, 0.256))</td></tr><tr><td>644</td><td>699</td><td>72</td><td>0.31</td><td>0.247</td><td>0.363</td><td>Map(vectorType -> dense, length -> 5, values -> List(644.0, 699.0, 72.0, 0.31, 0.247))</td></tr><tr><td>732</td><td>717</td><td>86</td><td>0.325</td><td>0.254</td><td>0.387</td><td>Map(vectorType -> dense, length -> 5, values -> List(732.0, 717.0, 86.0, 0.325, 0.254))</td></tr><tr><td>831</td><td>841</td><td>84</td><td>0.337</td><td>0.284</td><td>0.43</td><td>Map(vectorType -> dense, length -> 5, values -> List(831.0, 841.0, 84.0, 0.337, 0.284))</td></tr><tr><td>798</td><td>714</td><td>87</td><td>0.338</td><td>0.263</td><td>0.424</td><td>Map(vectorType -> dense, length -> 5, values -> List(798.0, 714.0, 87.0, 0.338, 0.263))</td></tr><tr><td>654</td><td>569</td><td>96</td><td>0.322</td><td>0.255</td><td>0.381</td><td>Map(vectorType -> dense, length -> 5, values -> List(654.0, 569.0, 96.0, 0.322, 0.255))</td></tr><tr><td>654</td><td>673</td><td>76</td><td>0.313</td><td>0.252</td><td>0.39</td><td>Map(vectorType -> dense, length -> 5, values -> List(654.0, 673.0, 76.0, 0.313, 0.252))</td></tr><tr><td>638</td><td>679</td><td>73</td><td>0.313</td><td>0.251</td><td>0.37</td><td>Map(vectorType -> dense, length -> 5, values -> List(638.0, 679.0, 73.0, 0.313, 0.251))</td></tr><tr><td>667</td><td>734</td><td>77</td><td>0.321</td><td>0.255</td><td>0.385</td><td>Map(vectorType -> dense, length -> 5, values -> List(667.0, 734.0, 77.0, 0.321, 0.255))</td></tr><tr><td>741</td><td>839</td><td>71</td><td>0.325</td><td>0.261</td><td>0.428</td><td>Map(vectorType -> dense, length -> 5, values -> List(741.0, 839.0, 71.0, 0.325, 0.261))</td></tr><tr><td>637</td><td>688</td><td>78</td><td>0.322</td><td>0.254</td><td>0.379</td><td>Map(vectorType -> dense, length -> 5, values -> List(637.0, 688.0, 78.0, 0.322, 0.254))</td></tr><tr><td>783</td><td>578</td><td>108</td><td>0.339</td><td>0.263</td><td>0.401</td><td>Map(vectorType -> dense, length -> 5, values -> List(783.0, 578.0, 108.0, 0.339, 0.263))</td></tr><tr><td>797</td><td>738</td><td>90</td><td>0.347</td><td>0.271</td><td>0.43</td><td>Map(vectorType -> dense, length -> 5, values -> List(797.0, 738.0, 90.0, 0.347, 0.271))</td></tr><tr><td>731</td><td>760</td><td>76</td><td>0.322</td><td>0.252</td><td>0.39</td><td>Map(vectorType -> dense, length -> 5, values -> List(731.0, 760.0, 76.0, 0.322, 0.252))</td></tr><tr><td>739</td><td>713</td><td>86</td><td>0.327</td><td>0.253</td><td>0.4</td><td>Map(vectorType -> dense, length -> 5, values -> List(739.0, 713.0, 86.0, 0.327, 0.253))</td></tr><tr><td>663</td><td>700</td><td>64</td><td>0.321</td><td>0.25</td><td>0.374</td><td>Map(vectorType -> dense, length -> 5, values -> List(663.0, 700.0, 64.0, 0.321, 0.25))</td></tr><tr><td>656</td><td>723</td><td>74</td><td>0.321</td><td>0.261</td><td>0.388</td><td>Map(vectorType -> dense, length -> 5, values -> List(656.0, 723.0, 74.0, 0.321, 0.261))</td></tr><tr><td>718</td><td>835</td><td>67</td><td>0.326</td><td>0.253</td><td>0.399</td><td>Map(vectorType -> dense, length -> 5, values -> List(718.0, 835.0, 67.0, 0.326, 0.253))</td></tr><tr><td>698</td><td>618</td><td>83</td><td>0.322</td><td>0.253</td><td>0.375</td><td>Map(vectorType -> dense, length -> 5, values -> List(698.0, 618.0, 83.0, 0.322, 0.253))</td></tr><tr><td>601</td><td>611</td><td>79</td><td>0.309</td><td>0.236</td><td>0.327</td><td>Map(vectorType -> dense, length -> 5, values -> List(601.0, 611.0, 79.0, 0.309, 0.236))</td></tr><tr><td>771</td><td>743</td><td>87</td><td>0.331</td><td>0.267</td><td>0.428</td><td>Map(vectorType -> dense, length -> 5, values -> List(771.0, 743.0, 87.0, 0.331, 0.267))</td></tr><tr><td>809</td><td>733</td><td>86</td><td>0.329</td><td>0.269</td><td>0.427</td><td>Map(vectorType -> dense, length -> 5, values -> List(809.0, 733.0, 86.0, 0.329, 0.269))</td></tr><tr><td>632</td><td>781</td><td>66</td><td>0.315</td><td>0.246</td><td>0.363</td><td>Map(vectorType -> dense, length -> 5, values -> List(632.0, 781.0, 66.0, 0.315, 0.246))</td></tr><tr><td>818</td><td>764</td><td>83</td><td>0.336</td><td>0.263</td><td>0.43</td><td>Map(vectorType -> dense, length -> 5, values -> List(818.0, 764.0, 83.0, 0.336, 0.263))</td></tr><tr><td>800</td><td>720</td><td>81</td><td>0.347</td><td>0.282</td><td>0.429</td><td>Map(vectorType -> dense, length -> 5, values -> List(800.0, 720.0, 81.0, 0.347, 0.282))</td></tr><tr><td>732</td><td>703</td><td>90</td><td>0.333</td><td>0.251</td><td>0.386</td><td>Map(vectorType -> dense, length -> 5, values -> List(732.0, 703.0, 90.0, 0.333, 0.251))</td></tr><tr><td>686</td><td>729</td><td>77</td><td>0.324</td><td>0.254</td><td>0.39</td><td>Map(vectorType -> dense, length -> 5, values -> List(686.0, 729.0, 77.0, 0.324, 0.254))</td></tr><tr><td>736</td><td>720</td><td>85</td><td>0.315</td><td>0.253</td><td>0.392</td><td>Map(vectorType -> dense, length -> 5, values -> List(736.0, 720.0, 85.0, 0.315, 0.253))</td></tr><tr><td>677</td><td>666</td><td>89</td><td>0.327</td><td>0.255</td><td>0.376</td><td>Map(vectorType -> dense, length -> 5, values -> List(677.0, 666.0, 89.0, 0.327, 0.255))</td></tr><tr><td>729</td><td>861</td><td>60</td><td>0.324</td><td>0.265</td><td>0.385</td><td>Map(vectorType -> dense, length -> 5, values -> List(729.0, 861.0, 60.0, 0.324, 0.265))</td></tr><tr><td>729</td><td>688</td><td>84</td><td>0.318</td><td>0.253</td><td>0.424</td><td>Map(vectorType -> dense, length -> 5, values -> List(729.0, 688.0, 84.0, 0.318, 0.253))</td></tr><tr><td>706</td><td>691</td><td>83</td><td>0.319</td><td>0.261</td><td>0.388</td><td>Map(vectorType -> dense, length -> 5, values -> List(706.0, 691.0, 83.0, 0.319, 0.261))</td></tr><tr><td>687</td><td>639</td><td>91</td><td>0.313</td><td>0.252</td><td>0.401</td><td>Map(vectorType -> dense, length -> 5, values -> List(687.0, 639.0, 91.0, 0.313, 0.252))</td></tr><tr><td>682</td><td>579</td><td>95</td><td>0.328</td><td>0.261</td><td>0.382</td><td>Map(vectorType -> dense, length -> 5, values -> List(682.0, 579.0, 95.0, 0.328, 0.261))</td></tr><tr><td>690</td><td>802</td><td>71</td><td>0.319</td><td>0.263</td><td>0.379</td><td>Map(vectorType -> dense, length -> 5, values -> List(690.0, 802.0, 71.0, 0.319, 0.263))</td></tr><tr><td>705</td><td>782</td><td>77</td><td>0.326</td><td>0.264</td><td>0.407</td><td>Map(vectorType -> dense, length -> 5, values -> List(705.0, 782.0, 77.0, 0.326, 0.264))</td></tr><tr><td>633</td><td>636</td><td>84</td><td>0.31</td><td>0.247</td><td>0.375</td><td>Map(vectorType -> dense, length -> 5, values -> List(633.0, 636.0, 84.0, 0.31, 0.247))</td></tr><tr><td>695</td><td>568</td><td>98</td><td>0.323</td><td>0.257</td><td>0.385</td><td>Map(vectorType -> dense, length -> 5, values -> List(695.0, 568.0, 98.0, 0.323, 0.257))</td></tr><tr><td>839</td><td>660</td><td>97</td><td>0.344</td><td>0.267</td><td>0.425</td><td>Map(vectorType -> dense, length -> 5, values -> List(839.0, 660.0, 97.0, 0.344, 0.267))</td></tr><tr><td>757</td><td>787</td><td>77</td><td>0.325</td><td>0.264</td><td>0.401</td><td>Map(vectorType -> dense, length -> 5, values -> List(757.0, 787.0, 77.0, 0.325, 0.264))</td></tr><tr><td>667</td><td>673</td><td>75</td><td>0.312</td><td>0.245</td><td>0.383</td><td>Map(vectorType -> dense, length -> 5, values -> List(667.0, 673.0, 75.0, 0.312, 0.245))</td></tr><tr><td>568</td><td>708</td><td>57</td><td>0.311</td><td>0.247</td><td>0.347</td><td>Map(vectorType -> dense, length -> 5, values -> List(568.0, 708.0, 57.0, 0.311, 0.247))</td></tr><tr><td>650</td><td>622</td><td>83</td><td>0.32</td><td>0.255</td><td>0.368</td><td>Map(vectorType -> dense, length -> 5, values -> List(650.0, 622.0, 83.0, 0.32, 0.255))</td></tr><tr><td>719</td><td>818</td><td>74</td><td>0.326</td><td>0.255</td><td>0.412</td><td>Map(vectorType -> dense, length -> 5, values -> List(719.0, 818.0, 74.0, 0.326, 0.255))</td></tr><tr><td>556</td><td>674</td><td>62</td><td>0.299</td><td>0.233</td><td>0.348</td><td>Map(vectorType -> dense, length -> 5, values -> List(556.0, 674.0, 62.0, 0.299, 0.233))</td></tr><tr><td>747</td><td>572</td><td>101</td><td>0.335</td><td>0.264</td><td>0.379</td><td>Map(vectorType -> dense, length -> 5, values -> List(747.0, 572.0, 101.0, 0.335, 0.264))</td></tr><tr><td>617</td><td>785</td><td>62</td><td>0.322</td><td>0.253</td><td>0.381</td><td>Map(vectorType -> dense, length -> 5, values -> List(617.0, 785.0, 62.0, 0.322, 0.253))</td></tr><tr><td>759</td><td>588</td><td>99</td><td>0.331</td><td>0.269</td><td>0.425</td><td>Map(vectorType -> dense, length -> 5, values -> List(759.0, 588.0, 99.0, 0.331, 0.269))</td></tr><tr><td>632</td><td>655</td><td>80</td><td>0.317</td><td>0.247</td><td>0.361</td><td>Map(vectorType -> dense, length -> 5, values -> List(632.0, 655.0, 80.0, 0.317, 0.247))</td></tr><tr><td>681</td><td>667</td><td>85</td><td>0.328</td><td>0.252</td><td>0.391</td><td>Map(vectorType -> dense, length -> 5, values -> List(681.0, 667.0, 85.0, 0.328, 0.252))</td></tr><tr><td>810</td><td>764</td><td>86</td><td>0.341</td><td>0.283</td><td>0.441</td><td>Map(vectorType -> dense, length -> 5, values -> List(810.0, 764.0, 86.0, 0.341, 0.283))</td></tr><tr><td>696</td><td>697</td><td>81</td><td>0.319</td><td>0.249</td><td>0.381</td><td>Map(vectorType -> dense, length -> 5, values -> List(696.0, 697.0, 81.0, 0.319, 0.249))</td></tr><tr><td>762</td><td>658</td><td>96</td><td>0.331</td><td>0.26</td><td>0.397</td><td>Map(vectorType -> dense, length -> 5, values -> List(762.0, 658.0, 96.0, 0.331, 0.26))</td></tr><tr><td>679</td><td>736</td><td>74</td><td>0.314</td><td>0.247</td><td>0.395</td><td>Map(vectorType -> dense, length -> 5, values -> List(679.0, 736.0, 74.0, 0.314, 0.247))</td></tr><tr><td>627</td><td>747</td><td>70</td><td>0.313</td><td>0.244</td><td>0.356</td><td>Map(vectorType -> dense, length -> 5, values -> List(627.0, 747.0, 70.0, 0.313, 0.244))</td></tr><tr><td>761</td><td>766</td><td>75</td><td>0.335</td><td>0.265</td><td>0.384</td><td>Map(vectorType -> dense, length -> 5, values -> List(761.0, 766.0, 75.0, 0.335, 0.265))</td></tr><tr><td>829</td><td>643</td><td>104</td><td>0.342</td><td>0.271</td><td>0.432</td><td>Map(vectorType -> dense, length -> 5, values -> List(829.0, 643.0, 104.0, 0.342, 0.271))</td></tr><tr><td>693</td><td>630</td><td>80</td><td>0.323</td><td>0.264</td><td>0.371</td><td>Map(vectorType -> dense, length -> 5, values -> List(693.0, 630.0, 80.0, 0.323, 0.264))</td></tr><tr><td>673</td><td>686</td><td>84</td><td>0.317</td><td>0.268</td><td>0.399</td><td>Map(vectorType -> dense, length -> 5, values -> List(673.0, 686.0, 84.0, 0.317, 0.268))</td></tr><tr><td>580</td><td>600</td><td>79</td><td>0.306</td><td>0.244</td><td>0.348</td><td>Map(vectorType -> dense, length -> 5, values -> List(580.0, 600.0, 79.0, 0.306, 0.244))</td></tr><tr><td>641</td><td>734</td><td>67</td><td>0.317</td><td>0.262</td><td>0.37</td><td>Map(vectorType -> dense, length -> 5, values -> List(641.0, 734.0, 67.0, 0.317, 0.262))</td></tr><tr><td>673</td><td>675</td><td>81</td><td>0.318</td><td>0.265</td><td>0.385</td><td>Map(vectorType -> dense, length -> 5, values -> List(673.0, 675.0, 81.0, 0.318, 0.265))</td></tr><tr><td>593</td><td>585</td><td>78</td><td>0.312</td><td>0.251</td><td>0.362</td><td>Map(vectorType -> dense, length -> 5, values -> List(593.0, 585.0, 78.0, 0.312, 0.251))</td></tr><tr><td>652</td><td>676</td><td>90</td><td>0.32</td><td>0.257</td><td>0.369</td><td>Map(vectorType -> dense, length -> 5, values -> List(652.0, 676.0, 90.0, 0.32, 0.257))</td></tr><tr><td>758</td><td>679</td><td>87</td><td>0.339</td><td>0.276</td><td>0.404</td><td>Map(vectorType -> dense, length -> 5, values -> List(758.0, 679.0, 87.0, 0.339, 0.276))</td></tr><tr><td>738</td><td>796</td><td>77</td><td>0.327</td><td>0.259</td><td>0.404</td><td>Map(vectorType -> dense, length -> 5, values -> List(738.0, 796.0, 77.0, 0.327, 0.259))</td></tr><tr><td>720</td><td>690</td><td>81</td><td>0.333</td><td>0.266</td><td>0.407</td><td>Map(vectorType -> dense, length -> 5, values -> List(720.0, 690.0, 81.0, 0.333, 0.266))</td></tr><tr><td>615</td><td>567</td><td>75</td><td>0.31</td><td>0.255</td><td>0.363</td><td>Map(vectorType -> dense, length -> 5, values -> List(615.0, 567.0, 75.0, 0.31, 0.255))</td></tr><tr><td>686</td><td>634</td><td>92</td><td>0.317</td><td>0.259</td><td>0.371</td><td>Map(vectorType -> dense, length -> 5, values -> List(686.0, 634.0, 92.0, 0.317, 0.259))</td></tr><tr><td>682</td><td>774</td><td>74</td><td>0.324</td><td>0.258</td><td>0.384</td><td>Map(vectorType -> dense, length -> 5, values -> List(682.0, 774.0, 74.0, 0.324, 0.258))</td></tr><tr><td>682</td><td>807</td><td>66</td><td>0.328</td><td>0.265</td><td>0.375</td><td>Map(vectorType -> dense, length -> 5, values -> List(682.0, 807.0, 66.0, 0.328, 0.265))</td></tr><tr><td>652</td><td>645</td><td>84</td><td>0.317</td><td>0.252</td><td>0.351</td><td>Map(vectorType -> dense, length -> 5, values -> List(652.0, 645.0, 84.0, 0.317, 0.252))</td></tr><tr><td>656</td><td>714</td><td>69</td><td>0.313</td><td>0.261</td><td>0.377</td><td>Map(vectorType -> dense, length -> 5, values -> List(656.0, 714.0, 69.0, 0.313, 0.261))</td></tr><tr><td>750</td><td>696</td><td>89</td><td>0.331</td><td>0.273</td><td>0.421</td><td>Map(vectorType -> dense, length -> 5, values -> List(750.0, 696.0, 89.0, 0.331, 0.273))</td></tr><tr><td>746</td><td>640</td><td>88</td><td>0.341</td><td>0.272</td><td>0.4</td><td>Map(vectorType -> dense, length -> 5, values -> List(746.0, 640.0, 88.0, 0.341, 0.272))</td></tr><tr><td>799</td><td>652</td><td>98</td><td>0.34</td><td>0.269</td><td>0.421</td><td>Map(vectorType -> dense, length -> 5, values -> List(799.0, 652.0, 98.0, 0.34, 0.269))</td></tr><tr><td>724</td><td>775</td><td>78</td><td>0.335</td><td>0.27</td><td>0.409</td><td>Map(vectorType -> dense, length -> 5, values -> List(724.0, 775.0, 78.0, 0.335, 0.27))</td></tr><tr><td>722</td><td>779</td><td>70</td><td>0.322</td><td>0.26</td><td>0.393</td><td>Map(vectorType -> dense, length -> 5, values -> List(722.0, 779.0, 70.0, 0.322, 0.26))</td></tr><tr><td>701</td><td>719</td><td>71</td><td>0.319</td><td>0.261</td><td>0.401</td><td>Map(vectorType -> dense, length -> 5, values -> List(701.0, 719.0, 71.0, 0.319, 0.261))</td></tr><tr><td>800</td><td>650</td><td>99</td><td>0.329</td><td>0.262</td><td>0.413</td><td>Map(vectorType -> dense, length -> 5, values -> List(800.0, 650.0, 99.0, 0.329, 0.262))</td></tr><tr><td>623</td><td>710</td><td>74</td><td>0.314</td><td>0.239</td><td>0.356</td><td>Map(vectorType -> dense, length -> 5, values -> List(623.0, 710.0, 74.0, 0.314, 0.239))</td></tr><tr><td>704</td><td>785</td><td>70</td><td>0.338</td><td>0.265</td><td>0.369</td><td>Map(vectorType -> dense, length -> 5, values -> List(704.0, 785.0, 70.0, 0.338, 0.265))</td></tr><tr><td>789</td><td>679</td><td>92</td><td>0.335</td><td>0.274</td><td>0.427</td><td>Map(vectorType -> dense, length -> 5, values -> List(789.0, 679.0, 92.0, 0.335, 0.274))</td></tr><tr><td>643</td><td>646</td><td>85</td><td>0.32</td><td>0.257</td><td>0.375</td><td>Map(vectorType -> dense, length -> 5, values -> List(643.0, 646.0, 85.0, 0.32, 0.257))</td></tr><tr><td>696</td><td>767</td><td>79</td><td>0.32</td><td>0.271</td><td>0.397</td><td>Map(vectorType -> dense, length -> 5, values -> List(696.0, 767.0, 79.0, 0.32, 0.271))</td></tr><tr><td>654</td><td>609</td><td>91</td><td>0.318</td><td>0.25</td><td>0.379</td><td>Map(vectorType -> dense, length -> 5, values -> List(654.0, 609.0, 91.0, 0.318, 0.25))</td></tr><tr><td>764</td><td>708</td><td>87</td><td>0.333</td><td>0.277</td><td>0.418</td><td>Map(vectorType -> dense, length -> 5, values -> List(764.0, 708.0, 87.0, 0.333, 0.277))</td></tr><tr><td>709</td><td>822</td><td>70</td><td>0.319</td><td>0.261</td><td>0.401</td><td>Map(vectorType -> dense, length -> 5, values -> List(709.0, 822.0, 70.0, 0.319, 0.261))</td></tr><tr><td>677</td><td>646</td><td>82</td><td>0.326</td><td>0.264</td><td>0.386</td><td>Map(vectorType -> dense, length -> 5, values -> List(677.0, 646.0, 82.0, 0.326, 0.264))</td></tr><tr><td>575</td><td>680</td><td>68</td><td>0.3</td><td>0.241</td><td>0.344</td><td>Map(vectorType -> dense, length -> 5, values -> List(575.0, 680.0, 68.0, 0.3, 0.241))</td></tr><tr><td>770</td><td>703</td><td>91</td><td>0.337</td><td>0.273</td><td>0.416</td><td>Map(vectorType -> dense, length -> 5, values -> List(770.0, 703.0, 91.0, 0.337, 0.273))</td></tr><tr><td>708</td><td>782</td><td>74</td><td>0.326</td><td>0.262</td><td>0.381</td><td>Map(vectorType -> dense, length -> 5, values -> List(708.0, 782.0, 74.0, 0.326, 0.262))</td></tr><tr><td>696</td><td>635</td><td>90</td><td>0.329</td><td>0.249</td><td>0.373</td><td>Map(vectorType -> dense, length -> 5, values -> List(696.0, 635.0, 90.0, 0.329, 0.249))</td></tr><tr><td>659</td><td>648</td><td>84</td><td>0.325</td><td>0.264</td><td>0.383</td><td>Map(vectorType -> dense, length -> 5, values -> List(659.0, 648.0, 84.0, 0.325, 0.264))</td></tr><tr><td>653</td><td>653</td><td>81</td><td>0.311</td><td>0.25</td><td>0.351</td><td>Map(vectorType -> dense, length -> 5, values -> List(653.0, 653.0, 81.0, 0.311, 0.25))</td></tr><tr><td>558</td><td>740</td><td>60</td><td>0.301</td><td>0.24</td><td>0.36</td><td>Map(vectorType -> dense, length -> 5, values -> List(558.0, 740.0, 60.0, 0.301, 0.24))</td></tr><tr><td>687</td><td>697</td><td>79</td><td>0.325</td><td>0.247</td><td>0.375</td><td>Map(vectorType -> dense, length -> 5, values -> List(687.0, 697.0, 79.0, 0.325, 0.247))</td></tr><tr><td>679</td><td>710</td><td>79</td><td>0.335</td><td>0.27</td><td>0.384</td><td>Map(vectorType -> dense, length -> 5, values -> List(679.0, 710.0, 79.0, 0.335, 0.27))</td></tr><tr><td>639</td><td>609</td><td>77</td><td>0.31</td><td>0.255</td><td>0.366</td><td>Map(vectorType -> dense, length -> 5, values -> List(639.0, 609.0, 77.0, 0.31, 0.255))</td></tr><tr><td>795</td><td>726</td><td>89</td><td>0.338</td><td>0.277</td><td>0.436</td><td>Map(vectorType -> dense, length -> 5, values -> List(795.0, 726.0, 89.0, 0.338, 0.277))</td></tr><tr><td>739</td><td>702</td><td>89</td><td>0.325</td><td>0.256</td><td>0.383</td><td>Map(vectorType -> dense, length -> 5, values -> List(739.0, 702.0, 89.0, 0.325, 0.256))</td></tr><tr><td>774</td><td>687</td><td>94</td><td>0.341</td><td>0.266</td><td>0.419</td><td>Map(vectorType -> dense, length -> 5, values -> List(774.0, 687.0, 94.0, 0.341, 0.266))</td></tr><tr><td>753</td><td>713</td><td>89</td><td>0.34</td><td>0.274</td><td>0.407</td><td>Map(vectorType -> dense, length -> 5, values -> List(753.0, 713.0, 89.0, 0.34, 0.274))</td></tr><tr><td>814</td><td>670</td><td>93</td><td>0.347</td><td>0.274</td><td>0.433</td><td>Map(vectorType -> dense, length -> 5, values -> List(814.0, 670.0, 93.0, 0.347, 0.274))</td></tr><tr><td>676</td><td>709</td><td>73</td><td>0.317</td><td>0.26</td><td>0.375</td><td>Map(vectorType -> dense, length -> 5, values -> List(676.0, 709.0, 73.0, 0.317, 0.26))</td></tr><tr><td>786</td><td>710</td><td>87</td><td>0.337</td><td>0.273</td><td>0.413</td><td>Map(vectorType -> dense, length -> 5, values -> List(786.0, 710.0, 87.0, 0.337, 0.273))</td></tr><tr><td>545</td><td>661</td><td>61</td><td>0.31</td><td>0.251</td><td>0.35</td><td>Map(vectorType -> dense, length -> 5, values -> List(545.0, 661.0, 61.0, 0.31, 0.251))</td></tr><tr><td>683</td><td>748</td><td>78</td><td>0.341</td><td>0.262</td><td>0.373</td><td>Map(vectorType -> dense, length -> 5, values -> List(683.0, 748.0, 78.0, 0.341, 0.262))</td></tr><tr><td>729</td><td>685</td><td>83</td><td>0.324</td><td>0.266</td><td>0.418</td><td>Map(vectorType -> dense, length -> 5, values -> List(729.0, 685.0, 83.0, 0.324, 0.266))</td></tr><tr><td>569</td><td>620</td><td>77</td><td>0.302</td><td>0.247</td><td>0.349</td><td>Map(vectorType -> dense, length -> 5, values -> List(569.0, 620.0, 77.0, 0.302, 0.247))</td></tr><tr><td>784</td><td>717</td><td>90</td><td>0.337</td><td>0.285</td><td>0.428</td><td>Map(vectorType -> dense, length -> 5, values -> List(784.0, 717.0, 90.0, 0.337, 0.285))</td></tr><tr><td>691</td><td>612</td><td>88</td><td>0.327</td><td>0.264</td><td>0.388</td><td>Map(vectorType -> dense, length -> 5, values -> List(691.0, 612.0, 88.0, 0.327, 0.264))</td></tr><tr><td>891</td><td>717</td><td>95</td><td>0.335</td><td>0.279</td><td>0.455</td><td>Map(vectorType -> dense, length -> 5, values -> List(891.0, 717.0, 95.0, 0.335, 0.279))</td></tr><tr><td>657</td><td>819</td><td>60</td><td>0.316</td><td>0.257</td><td>0.396</td><td>Map(vectorType -> dense, length -> 5, values -> List(657.0, 819.0, 60.0, 0.316, 0.257))</td></tr><tr><td>697</td><td>616</td><td>86</td><td>0.325</td><td>0.262</td><td>0.396</td><td>Map(vectorType -> dense, length -> 5, values -> List(697.0, 616.0, 86.0, 0.325, 0.262))</td></tr><tr><td>609</td><td>723</td><td>65</td><td>0.305</td><td>0.247</td><td>0.35</td><td>Map(vectorType -> dense, length -> 5, values -> List(609.0, 723.0, 65.0, 0.305, 0.247))</td></tr><tr><td>709</td><td>716</td><td>79</td><td>0.328</td><td>0.256</td><td>0.398</td><td>Map(vectorType -> dense, length -> 5, values -> List(709.0, 716.0, 79.0, 0.328, 0.256))</td></tr><tr><td>691</td><td>819</td><td>68</td><td>0.309</td><td>0.236</td><td>0.367</td><td>Map(vectorType -> dense, length -> 5, values -> List(691.0, 819.0, 68.0, 0.309, 0.236))</td></tr><tr><td>664</td><td>654</td><td>89</td><td>0.323</td><td>0.26</td><td>0.376</td><td>Map(vectorType -> dense, length -> 5, values -> List(664.0, 654.0, 89.0, 0.323, 0.26))</td></tr><tr><td>724</td><td>696</td><td>84</td><td>0.327</td><td>0.273</td><td>0.408</td><td>Map(vectorType -> dense, length -> 5, values -> List(724.0, 696.0, 84.0, 0.327, 0.273))</td></tr><tr><td>675</td><td>658</td><td>81</td><td>0.311</td><td>0.257</td><td>0.359</td><td>Map(vectorType -> dense, length -> 5, values -> List(675.0, 658.0, 81.0, 0.311, 0.257))</td></tr><tr><td>651</td><td>712</td><td>76</td><td>0.311</td><td>0.254</td><td>0.381</td><td>Map(vectorType -> dense, length -> 5, values -> List(651.0, 712.0, 76.0, 0.311, 0.254))</td></tr><tr><td>673</td><td>687</td><td>87</td><td>0.327</td><td>0.253</td><td>0.376</td><td>Map(vectorType -> dense, length -> 5, values -> List(673.0, 687.0, 87.0, 0.327, 0.253))</td></tr><tr><td>685</td><td>609</td><td>92</td><td>0.334</td><td>0.264</td><td>0.364</td><td>Map(vectorType -> dense, length -> 5, values -> List(685.0, 609.0, 92.0, 0.334, 0.264))</td></tr><tr><td>590</td><td>749</td><td>64</td><td>0.308</td><td>0.249</td><td>0.359</td><td>Map(vectorType -> dense, length -> 5, values -> List(590.0, 749.0, 64.0, 0.308, 0.249))</td></tr><tr><td>651</td><td>701</td><td>78</td><td>0.314</td><td>0.262</td><td>0.383</td><td>Map(vectorType -> dense, length -> 5, values -> List(651.0, 701.0, 78.0, 0.314, 0.262))</td></tr><tr><td>630</td><td>660</td><td>81</td><td>0.307</td><td>0.25</td><td>0.38</td><td>Map(vectorType -> dense, length -> 5, values -> List(630.0, 660.0, 81.0, 0.307, 0.25))</td></tr><tr><td>805</td><td>640</td><td>100</td><td>0.342</td><td>0.273</td><td>0.413</td><td>Map(vectorType -> dense, length -> 5, values -> List(805.0, 640.0, 100.0, 0.342, 0.273))</td></tr><tr><td>757</td><td>767</td><td>83</td><td>0.34</td><td>0.283</td><td>0.436</td><td>Map(vectorType -> dense, length -> 5, values -> List(757.0, 767.0, 83.0, 0.34, 0.283))</td></tr><tr><td>698</td><td>797</td><td>65</td><td>0.332</td><td>0.265</td><td>0.378</td><td>Map(vectorType -> dense, length -> 5, values -> List(698.0, 797.0, 65.0, 0.332, 0.265))</td></tr><tr><td>614</td><td>728</td><td>64</td><td>0.309</td><td>0.251</td><td>0.365</td><td>Map(vectorType -> dense, length -> 5, values -> List(614.0, 728.0, 64.0, 0.309, 0.251))</td></tr><tr><td>587</td><td>722</td><td>70</td><td>0.311</td><td>0.259</td><td>0.37</td><td>Map(vectorType -> dense, length -> 5, values -> List(587.0, 722.0, 70.0, 0.311, 0.259))</td></tr><tr><td>707</td><td>670</td><td>89</td><td>0.327</td><td>0.262</td><td>0.386</td><td>Map(vectorType -> dense, length -> 5, values -> List(707.0, 670.0, 89.0, 0.327, 0.262))</td></tr><tr><td>738</td><td>807</td><td>79</td><td>0.35</td><td>0.277</td><td>0.381</td><td>Map(vectorType -> dense, length -> 5, values -> List(738.0, 807.0, 79.0, 0.35, 0.277))</td></tr><tr><td>830</td><td>757</td><td>84</td><td>0.348</td><td>0.273</td><td>0.409</td><td>Map(vectorType -> dense, length -> 5, values -> List(830.0, 757.0, 84.0, 0.348, 0.273))</td></tr><tr><td>637</td><td>589</td><td>93</td><td>0.326</td><td>0.261</td><td>0.367</td><td>Map(vectorType -> dense, length -> 5, values -> List(637.0, 589.0, 93.0, 0.326, 0.261))</td></tr><tr><td>809</td><td>694</td><td>97</td><td>0.345</td><td>0.286</td><td>0.413</td><td>Map(vectorType -> dense, length -> 5, values -> List(809.0, 694.0, 97.0, 0.345, 0.286))</td></tr><tr><td>663</td><td>591</td><td>92</td><td>0.323</td><td>0.263</td><td>0.388</td><td>Map(vectorType -> dense, length -> 5, values -> List(663.0, 591.0, 92.0, 0.323, 0.263))</td></tr><tr><td>811</td><td>682</td><td>86</td><td>0.329</td><td>0.275</td><td>0.448</td><td>Map(vectorType -> dense, length -> 5, values -> List(811.0, 682.0, 86.0, 0.329, 0.275))</td></tr><tr><td>670</td><td>724</td><td>77</td><td>0.319</td><td>0.265</td><td>0.381</td><td>Map(vectorType -> dense, length -> 5, values -> List(670.0, 724.0, 77.0, 0.319, 0.265))</td></tr><tr><td>694</td><td>629</td><td>90</td><td>0.324</td><td>0.257</td><td>0.388</td><td>Map(vectorType -> dense, length -> 5, values -> List(694.0, 629.0, 90.0, 0.324, 0.257))</td></tr><tr><td>611</td><td>702</td><td>67</td><td>0.319</td><td>0.257</td><td>0.345</td><td>Map(vectorType -> dense, length -> 5, values -> List(611.0, 702.0, 67.0, 0.319, 0.257))</td></tr><tr><td>820</td><td>662</td><td>103</td><td>0.343</td><td>0.267</td><td>0.425</td><td>Map(vectorType -> dense, length -> 5, values -> List(820.0, 662.0, 103.0, 0.343, 0.267))</td></tr><tr><td>686</td><td>642</td><td>83</td><td>0.322</td><td>0.259</td><td>0.385</td><td>Map(vectorType -> dense, length -> 5, values -> List(686.0, 642.0, 83.0, 0.322, 0.259))</td></tr><tr><td>728</td><td>639</td><td>91</td><td>0.327</td><td>0.27</td><td>0.4</td><td>Map(vectorType -> dense, length -> 5, values -> List(728.0, 639.0, 91.0, 0.327, 0.27))</td></tr><tr><td>666</td><td>646</td><td>83</td><td>0.322</td><td>0.266</td><td>0.388</td><td>Map(vectorType -> dense, length -> 5, values -> List(666.0, 646.0, 83.0, 0.322, 0.266))</td></tr><tr><td>591</td><td>654</td><td>73</td><td>0.324</td><td>0.255</td><td>0.342</td><td>Map(vectorType -> dense, length -> 5, values -> List(591.0, 654.0, 73.0, 0.324, 0.255))</td></tr><tr><td>610</td><td>793</td><td>59</td><td>0.308</td><td>0.248</td><td>0.356</td><td>Map(vectorType -> dense, length -> 5, values -> List(610.0, 793.0, 59.0, 0.308, 0.248))</td></tr><tr><td>573</td><td>634</td><td>75</td><td>0.308</td><td>0.244</td><td>0.342</td><td>Map(vectorType -> dense, length -> 5, values -> List(573.0, 634.0, 75.0, 0.308, 0.244))</td></tr><tr><td>738</td><td>710</td><td>74</td><td>0.328</td><td>0.275</td><td>0.4</td><td>Map(vectorType -> dense, length -> 5, values -> List(738.0, 710.0, 74.0, 0.328, 0.275))</td></tr><tr><td>756</td><td>752</td><td>76</td><td>0.339</td><td>0.284</td><td>0.405</td><td>Map(vectorType -> dense, length -> 5, values -> List(756.0, 752.0, 76.0, 0.339, 0.284))</td></tr><tr><td>624</td><td>762</td><td>67</td><td>0.309</td><td>0.251</td><td>0.383</td><td>Map(vectorType -> dense, length -> 5, values -> List(624.0, 762.0, 67.0, 0.309, 0.251))</td></tr><tr><td>669</td><td>763</td><td>66</td><td>0.318</td><td>0.256</td><td>0.377</td><td>Map(vectorType -> dense, length -> 5, values -> List(669.0, 763.0, 66.0, 0.318, 0.256))</td></tr><tr><td>757</td><td>582</td><td>102</td><td>0.336</td><td>0.261</td><td>0.419</td><td>Map(vectorType -> dense, length -> 5, values -> List(757.0, 582.0, 102.0, 0.336, 0.261))</td></tr><tr><td>841</td><td>711</td><td>91</td><td>0.344</td><td>0.283</td><td>0.456</td><td>Map(vectorType -> dense, length -> 5, values -> List(841.0, 711.0, 91.0, 0.344, 0.283))</td></tr><tr><td>866</td><td>768</td><td>88</td><td>0.351</td><td>0.282</td><td>0.429</td><td>Map(vectorType -> dense, length -> 5, values -> List(866.0, 768.0, 88.0, 0.351, 0.282))</td></tr><tr><td>706</td><td>707</td><td>80</td><td>0.329</td><td>0.269</td><td>0.403</td><td>Map(vectorType -> dense, length -> 5, values -> List(706.0, 707.0, 80.0, 0.329, 0.269))</td></tr><tr><td>730</td><td>748</td><td>73</td><td>0.333</td><td>0.275</td><td>0.41</td><td>Map(vectorType -> dense, length -> 5, values -> List(730.0, 748.0, 73.0, 0.333, 0.275))</td></tr><tr><td>731</td><td>644</td><td>90</td><td>0.338</td><td>0.264</td><td>0.396</td><td>Map(vectorType -> dense, length -> 5, values -> List(731.0, 644.0, 90.0, 0.338, 0.264))</td></tr><tr><td>760</td><td>805</td><td>81</td><td>0.34</td><td>0.258</td><td>0.384</td><td>Map(vectorType -> dense, length -> 5, values -> List(760.0, 805.0, 81.0, 0.34, 0.258))</td></tr><tr><td>770</td><td>738</td><td>84</td><td>0.339</td><td>0.269</td><td>0.415</td><td>Map(vectorType -> dense, length -> 5, values -> List(770.0, 738.0, 84.0, 0.339, 0.269))</td></tr><tr><td>583</td><td>582</td><td>89</td><td>0.315</td><td>0.256</td><td>0.344</td><td>Map(vectorType -> dense, length -> 5, values -> List(583.0, 582.0, 89.0, 0.315, 0.256))</td></tr><tr><td>851</td><td>816</td><td>85</td><td>0.343</td><td>0.282</td><td>0.422</td><td>Map(vectorType -> dense, length -> 5, values -> List(851.0, 816.0, 85.0, 0.343, 0.282))</td></tr><tr><td>739</td><td>717</td><td>79</td><td>0.331</td><td>0.263</td><td>0.412</td><td>Map(vectorType -> dense, length -> 5, values -> List(739.0, 717.0, 79.0, 0.331, 0.263))</td></tr><tr><td>807</td><td>722</td><td>95</td><td>0.345</td><td>0.28</td><td>0.448</td><td>Map(vectorType -> dense, length -> 5, values -> List(807.0, 722.0, 95.0, 0.345, 0.28))</td></tr><tr><td>764</td><td>725</td><td>82</td><td>0.341</td><td>0.278</td><td>0.402</td><td>Map(vectorType -> dense, length -> 5, values -> List(764.0, 725.0, 82.0, 0.341, 0.278))</td></tr><tr><td>701</td><td>581</td><td>95</td><td>0.319</td><td>0.264</td><td>0.408</td><td>Map(vectorType -> dense, length -> 5, values -> List(701.0, 581.0, 95.0, 0.319, 0.264))</td></tr><tr><td>593</td><td>706</td><td>63</td><td>0.313</td><td>0.25</td><td>0.35</td><td>Map(vectorType -> dense, length -> 5, values -> List(593.0, 706.0, 63.0, 0.313, 0.25))</td></tr><tr><td>734</td><td>672</td><td>89</td><td>0.328</td><td>0.266</td><td>0.406</td><td>Map(vectorType -> dense, length -> 5, values -> List(734.0, 672.0, 89.0, 0.328, 0.266))</td></tr><tr><td>573</td><td>860</td><td>54</td><td>0.302</td><td>0.239</td><td>0.346</td><td>Map(vectorType -> dense, length -> 5, values -> List(573.0, 860.0, 54.0, 0.302, 0.239))</td></tr><tr><td>683</td><td>718</td><td>84</td><td>0.34</td><td>0.266</td><td>0.396</td><td>Map(vectorType -> dense, length -> 5, values -> List(683.0, 718.0, 84.0, 0.34, 0.266))</td></tr><tr><td>775</td><td>643</td><td>98</td><td>0.33</td><td>0.272</td><td>0.416</td><td>Map(vectorType -> dense, length -> 5, values -> List(775.0, 643.0, 98.0, 0.33, 0.272))</td></tr><tr><td>603</td><td>681</td><td>68</td><td>0.311</td><td>0.242</td><td>0.348</td><td>Map(vectorType -> dense, length -> 5, values -> List(603.0, 681.0, 68.0, 0.311, 0.242))</td></tr><tr><td>711</td><td>820</td><td>67</td><td>0.331</td><td>0.269</td><td>0.404</td><td>Map(vectorType -> dense, length -> 5, values -> List(711.0, 820.0, 67.0, 0.331, 0.269))</td></tr><tr><td>672</td><td>751</td><td>71</td><td>0.319</td><td>0.246</td><td>0.365</td><td>Map(vectorType -> dense, length -> 5, values -> List(672.0, 751.0, 71.0, 0.319, 0.246))</td></tr><tr><td>731</td><td>693</td><td>86</td><td>0.331</td><td>0.278</td><td>0.401</td><td>Map(vectorType -> dense, length -> 5, values -> List(731.0, 693.0, 86.0, 0.331, 0.278))</td></tr><tr><td>750</td><td>698</td><td>83</td><td>0.334</td><td>0.278</td><td>0.409</td><td>Map(vectorType -> dense, length -> 5, values -> List(750.0, 698.0, 83.0, 0.334, 0.278))</td></tr><tr><td>613</td><td>862</td><td>53</td><td>0.311</td><td>0.251</td><td>0.363</td><td>Map(vectorType -> dense, length -> 5, values -> List(613.0, 862.0, 53.0, 0.311, 0.251))</td></tr><tr><td>600</td><td>750</td><td>69</td><td>0.315</td><td>0.244</td><td>0.363</td><td>Map(vectorType -> dense, length -> 5, values -> List(600.0, 750.0, 69.0, 0.315, 0.244))</td></tr><tr><td>659</td><td>633</td><td>90</td><td>0.326</td><td>0.258</td><td>0.396</td><td>Map(vectorType -> dense, length -> 5, values -> List(659.0, 633.0, 90.0, 0.326, 0.258))</td></tr><tr><td>796</td><td>657</td><td>99</td><td>0.336</td><td>0.267</td><td>0.424</td><td>Map(vectorType -> dense, length -> 5, values -> List(796.0, 657.0, 99.0, 0.336, 0.267))</td></tr><tr><td>691</td><td>666</td><td>87</td><td>0.33</td><td>0.259</td><td>0.37</td><td>Map(vectorType -> dense, length -> 5, values -> List(691.0, 666.0, 87.0, 0.33, 0.259))</td></tr><tr><td>664</td><td>724</td><td>79</td><td>0.331</td><td>0.264</td><td>0.361</td><td>Map(vectorType -> dense, length -> 5, values -> List(664.0, 724.0, 79.0, 0.331, 0.264))</td></tr><tr><td>634</td><td>731</td><td>71</td><td>0.317</td><td>0.264</td><td>0.379</td><td>Map(vectorType -> dense, length -> 5, values -> List(634.0, 731.0, 71.0, 0.317, 0.264))</td></tr><tr><td>710</td><td>688</td><td>92</td><td>0.334</td><td>0.256</td><td>0.393</td><td>Map(vectorType -> dense, length -> 5, values -> List(710.0, 688.0, 92.0, 0.334, 0.256))</td></tr><tr><td>639</td><td>694</td><td>69</td><td>0.323</td><td>0.261</td><td>0.379</td><td>Map(vectorType -> dense, length -> 5, values -> List(639.0, 694.0, 69.0, 0.323, 0.261))</td></tr><tr><td>714</td><td>653</td><td>86</td><td>0.339</td><td>0.271</td><td>0.392</td><td>Map(vectorType -> dense, length -> 5, values -> List(714.0, 653.0, 86.0, 0.339, 0.271))</td></tr><tr><td>605</td><td>634</td><td>74</td><td>0.313</td><td>0.258</td><td>0.355</td><td>Map(vectorType -> dense, length -> 5, values -> List(605.0, 634.0, 74.0, 0.313, 0.258))</td></tr><tr><td>743</td><td>634</td><td>92</td><td>0.329</td><td>0.268</td><td>0.399</td><td>Map(vectorType -> dense, length -> 5, values -> List(743.0, 634.0, 92.0, 0.329, 0.268))</td></tr><tr><td>727</td><td>573</td><td>95</td><td>0.338</td><td>0.264</td><td>0.402</td><td>Map(vectorType -> dense, length -> 5, values -> List(727.0, 573.0, 95.0, 0.338, 0.264))</td></tr><tr><td>804</td><td>650</td><td>93</td><td>0.339</td><td>0.276</td><td>0.432</td><td>Map(vectorType -> dense, length -> 5, values -> List(804.0, 650.0, 93.0, 0.339, 0.276))</td></tr><tr><td>666</td><td>678</td><td>73</td><td>0.339</td><td>0.267</td><td>0.375</td><td>Map(vectorType -> dense, length -> 5, values -> List(666.0, 678.0, 73.0, 0.339, 0.267))</td></tr><tr><td>633</td><td>611</td><td>76</td><td>0.306</td><td>0.254</td><td>0.379</td><td>Map(vectorType -> dense, length -> 5, values -> List(633.0, 611.0, 76.0, 0.306, 0.254))</td></tr><tr><td>607</td><td>690</td><td>66</td><td>0.314</td><td>0.245</td><td>0.352</td><td>Map(vectorType -> dense, length -> 5, values -> List(607.0, 690.0, 66.0, 0.314, 0.245))</td></tr><tr><td>735</td><td>582</td><td>100</td><td>0.329</td><td>0.267</td><td>0.388</td><td>Map(vectorType -> dense, length -> 5, values -> List(735.0, 582.0, 100.0, 0.329, 0.267))</td></tr><tr><td>532</td><td>690</td><td>69</td><td>0.303</td><td>0.245</td><td>0.351</td><td>Map(vectorType -> dense, length -> 5, values -> List(532.0, 690.0, 69.0, 0.303, 0.245))</td></tr><tr><td>708</td><td>586</td><td>90</td><td>0.328</td><td>0.258</td><td>0.388</td><td>Map(vectorType -> dense, length -> 5, values -> List(708.0, 586.0, 90.0, 0.328, 0.258))</td></tr><tr><td>684</td><td>637</td><td>88</td><td>0.32</td><td>0.257</td><td>0.385</td><td>Map(vectorType -> dense, length -> 5, values -> List(684.0, 637.0, 88.0, 0.32, 0.257))</td></tr><tr><td>591</td><td>598</td><td>84</td><td>0.321</td><td>0.252</td><td>0.348</td><td>Map(vectorType -> dense, length -> 5, values -> List(591.0, 598.0, 84.0, 0.321, 0.252))</td></tr><tr><td>614</td><td>834</td><td>56</td><td>0.314</td><td>0.248</td><td>0.359</td><td>Map(vectorType -> dense, length -> 5, values -> List(614.0, 834.0, 56.0, 0.314, 0.248))</td></tr><tr><td>613</td><td>594</td><td>89</td><td>0.318</td><td>0.248</td><td>0.374</td><td>Map(vectorType -> dense, length -> 5, values -> List(613.0, 594.0, 89.0, 0.318, 0.248))</td></tr><tr><td>600</td><td>657</td><td>69</td><td>0.303</td><td>0.249</td><td>0.358</td><td>Map(vectorType -> dense, length -> 5, values -> List(600.0, 657.0, 69.0, 0.303, 0.249))</td></tr><tr><td>692</td><td>632</td><td>87</td><td>0.332</td><td>0.253</td><td>0.381</td><td>Map(vectorType -> dense, length -> 5, values -> List(692.0, 632.0, 87.0, 0.332, 0.253))</td></tr><tr><td>590</td><td>775</td><td>59</td><td>0.308</td><td>0.25</td><td>0.359</td><td>Map(vectorType -> dense, length -> 5, values -> List(590.0, 775.0, 59.0, 0.308, 0.25))</td></tr><tr><td>678</td><td>895</td><td>61</td><td>0.32</td><td>0.254</td><td>0.376</td><td>Map(vectorType -> dense, length -> 5, values -> List(678.0, 895.0, 61.0, 0.32, 0.254))</td></tr><tr><td>719</td><td>653</td><td>97</td><td>0.329</td><td>0.261</td><td>0.393</td><td>Map(vectorType -> dense, length -> 5, values -> List(719.0, 653.0, 97.0, 0.329, 0.261))</td></tr><tr><td>859</td><td>712</td><td>97</td><td>0.345</td><td>0.281</td><td>0.465</td><td>Map(vectorType -> dense, length -> 5, values -> List(859.0, 712.0, 97.0, 0.345, 0.281))</td></tr><tr><td>675</td><td>695</td><td>74</td><td>0.324</td><td>0.255</td><td>0.386</td><td>Map(vectorType -> dense, length -> 5, values -> List(675.0, 695.0, 74.0, 0.324, 0.255))</td></tr><tr><td>692</td><td>739</td><td>81</td><td>0.33</td><td>0.266</td><td>0.387</td><td>Map(vectorType -> dense, length -> 5, values -> List(692.0, 739.0, 81.0, 0.33, 0.266))</td></tr><tr><td>844</td><td>771</td><td>90</td><td>0.344</td><td>0.278</td><td>0.444</td><td>Map(vectorType -> dense, length -> 5, values -> List(844.0, 771.0, 90.0, 0.344, 0.278))</td></tr><tr><td>802</td><td>725</td><td>88</td><td>0.345</td><td>0.274</td><td>0.436</td><td>Map(vectorType -> dense, length -> 5, values -> List(802.0, 725.0, 88.0, 0.345, 0.274))</td></tr><tr><td>676</td><td>739</td><td>71</td><td>0.334</td><td>0.269</td><td>0.38</td><td>Map(vectorType -> dense, length -> 5, values -> List(676.0, 739.0, 71.0, 0.334, 0.269))</td></tr><tr><td>714</td><td>751</td><td>74</td><td>0.318</td><td>0.264</td><td>0.41</td><td>Map(vectorType -> dense, length -> 5, values -> List(714.0, 751.0, 74.0, 0.318, 0.264))</td></tr><tr><td>680</td><td>650</td><td>81</td><td>0.32</td><td>0.254</td><td>0.385</td><td>Map(vectorType -> dense, length -> 5, values -> List(680.0, 650.0, 81.0, 0.32, 0.254))</td></tr><tr><td>822</td><td>651</td><td>102</td><td>0.34</td><td>0.277</td><td>0.436</td><td>Map(vectorType -> dense, length -> 5, values -> List(822.0, 651.0, 102.0, 0.34, 0.277))</td></tr><tr><td>769</td><td>582</td><td>98</td><td>0.336</td><td>0.266</td><td>0.418</td><td>Map(vectorType -> dense, length -> 5, values -> List(769.0, 582.0, 98.0, 0.336, 0.266))</td></tr><tr><td>639</td><td>765</td><td>67</td><td>0.314</td><td>0.258</td><td>0.389</td><td>Map(vectorType -> dense, length -> 5, values -> List(639.0, 765.0, 67.0, 0.314, 0.258))</td></tr><tr><td>867</td><td>776</td><td>84</td><td>0.348</td><td>0.282</td><td>0.417</td><td>Map(vectorType -> dense, length -> 5, values -> List(867.0, 776.0, 84.0, 0.348, 0.282))</td></tr><tr><td>665</td><td>736</td><td>75</td><td>0.318</td><td>0.26</td><td>0.402</td><td>Map(vectorType -> dense, length -> 5, values -> List(665.0, 736.0, 75.0, 0.318, 0.26))</td></tr><tr><td>587</td><td>663</td><td>64</td><td>0.313</td><td>0.244</td><td>0.346</td><td>Map(vectorType -> dense, length -> 5, values -> List(587.0, 663.0, 64.0, 0.313, 0.244))</td></tr><tr><td>831</td><td>651</td><td>100</td><td>0.344</td><td>0.281</td><td>0.444</td><td>Map(vectorType -> dense, length -> 5, values -> List(831.0, 651.0, 100.0, 0.344, 0.281))</td></tr><tr><td>605</td><td>749</td><td>63</td><td>0.308</td><td>0.24</td><td>0.352</td><td>Map(vectorType -> dense, length -> 5, values -> List(605.0, 749.0, 63.0, 0.308, 0.24))</td></tr><tr><td>847</td><td>668</td><td>101</td><td>0.346</td><td>0.279</td><td>0.448</td><td>Map(vectorType -> dense, length -> 5, values -> List(847.0, 668.0, 101.0, 0.346, 0.279))</td></tr><tr><td>734</td><td>665</td><td>96</td><td>0.331</td><td>0.274</td><td>0.413</td><td>Map(vectorType -> dense, length -> 5, values -> List(734.0, 665.0, 96.0, 0.331, 0.274))</td></tr><tr><td>692</td><td>834</td><td>69</td><td>0.324</td><td>0.249</td><td>0.375</td><td>Map(vectorType -> dense, length -> 5, values -> List(692.0, 834.0, 69.0, 0.324, 0.249))</td></tr><tr><td>624</td><td>855</td><td>64</td><td>0.312</td><td>0.256</td><td>0.381</td><td>Map(vectorType -> dense, length -> 5, values -> List(624.0, 855.0, 64.0, 0.312, 0.256))</td></tr><tr><td>673</td><td>711</td><td>75</td><td>0.323</td><td>0.253</td><td>0.383</td><td>Map(vectorType -> dense, length -> 5, values -> List(673.0, 711.0, 75.0, 0.323, 0.253))</td></tr><tr><td>737</td><td>688</td><td>83</td><td>0.33</td><td>0.27</td><td>0.388</td><td>Map(vectorType -> dense, length -> 5, values -> List(737.0, 688.0, 83.0, 0.33, 0.27))</td></tr><tr><td>767</td><td>657</td><td>94</td><td>0.342</td><td>0.27</td><td>0.405</td><td>Map(vectorType -> dense, length -> 5, values -> List(767.0, 657.0, 94.0, 0.342, 0.27))</td></tr><tr><td>605</td><td>822</td><td>54</td><td>0.316</td><td>0.252</td><td>0.365</td><td>Map(vectorType -> dense, length -> 5, values -> List(605.0, 822.0, 54.0, 0.316, 0.252))</td></tr><tr><td>620</td><td>700</td><td>70</td><td>0.32</td><td>0.245</td><td>0.334</td><td>Map(vectorType -> dense, length -> 5, values -> List(620.0, 700.0, 70.0, 0.32, 0.245))</td></tr><tr><td>619</td><td>598</td><td>88</td><td>0.31</td><td>0.243</td><td>0.358</td><td>Map(vectorType -> dense, length -> 5, values -> List(619.0, 598.0, 88.0, 0.31, 0.243))</td></tr><tr><td>716</td><td>660</td><td>83</td><td>0.324</td><td>0.263</td><td>0.402</td><td>Map(vectorType -> dense, length -> 5, values -> List(716.0, 660.0, 83.0, 0.324, 0.263))</td></tr><tr><td>550</td><td>631</td><td>76</td><td>0.306</td><td>0.235</td><td>0.318</td><td>Map(vectorType -> dense, length -> 5, values -> List(550.0, 631.0, 76.0, 0.306, 0.235))</td></tr><tr><td>611</td><td>728</td><td>75</td><td>0.313</td><td>0.251</td><td>0.356</td><td>Map(vectorType -> dense, length -> 5, values -> List(611.0, 728.0, 75.0, 0.313, 0.251))</td></tr><tr><td>586</td><td>745</td><td>64</td><td>0.314</td><td>0.255</td><td>0.349</td><td>Map(vectorType -> dense, length -> 5, values -> List(586.0, 745.0, 64.0, 0.314, 0.255))</td></tr><tr><td>857</td><td>633</td><td>102</td><td>0.357</td><td>0.28</td><td>0.424</td><td>Map(vectorType -> dense, length -> 5, values -> List(857.0, 633.0, 102.0, 0.357, 0.28))</td></tr><tr><td>615</td><td>615</td><td>81</td><td>0.321</td><td>0.263</td><td>0.359</td><td>Map(vectorType -> dense, length -> 5, values -> List(615.0, 615.0, 81.0, 0.321, 0.263))</td></tr><tr><td>609</td><td>709</td><td>74</td><td>0.315</td><td>0.257</td><td>0.365</td><td>Map(vectorType -> dense, length -> 5, values -> List(609.0, 709.0, 74.0, 0.315, 0.257))</td></tr><tr><td>625</td><td>657</td><td>80</td><td>0.322</td><td>0.256</td><td>0.347</td><td>Map(vectorType -> dense, length -> 5, values -> List(625.0, 657.0, 80.0, 0.322, 0.256))</td></tr><tr><td>713</td><td>611</td><td>90</td><td>0.327</td><td>0.269</td><td>0.371</td><td>Map(vectorType -> dense, length -> 5, values -> List(713.0, 611.0, 90.0, 0.327, 0.269))</td></tr><tr><td>608</td><td>543</td><td>92</td><td>0.313</td><td>0.251</td><td>0.349</td><td>Map(vectorType -> dense, length -> 5, values -> List(608.0, 543.0, 92.0, 0.313, 0.251))</td></tr><tr><td>570</td><td>655</td><td>66</td><td>0.311</td><td>0.246</td><td>0.34</td><td>Map(vectorType -> dense, length -> 5, values -> List(570.0, 655.0, 66.0, 0.311, 0.246))</td></tr><tr><td>743</td><td>704</td><td>85</td><td>0.341</td><td>0.274</td><td>0.375</td><td>Map(vectorType -> dense, length -> 5, values -> List(743.0, 704.0, 85.0, 0.341, 0.274))</td></tr><tr><td>531</td><td>734</td><td>55</td><td>0.291</td><td>0.235</td><td>0.34</td><td>Map(vectorType -> dense, length -> 5, values -> List(531.0, 734.0, 55.0, 0.291, 0.235))</td></tr><tr><td>615</td><td>538</td><td>86</td><td>0.319</td><td>0.246</td><td>0.352</td><td>Map(vectorType -> dense, length -> 5, values -> List(615.0, 538.0, 86.0, 0.319, 0.246))</td></tr><tr><td>730</td><td>575</td><td>97</td><td>0.328</td><td>0.269</td><td>0.389</td><td>Map(vectorType -> dense, length -> 5, values -> List(730.0, 575.0, 97.0, 0.328, 0.269))</td></tr><tr><td>686</td><td>598</td><td>87</td><td>0.323</td><td>0.246</td><td>0.361</td><td>Map(vectorType -> dense, length -> 5, values -> List(686.0, 598.0, 87.0, 0.323, 0.246))</td></tr><tr><td>770</td><td>557</td><td>101</td><td>0.338</td><td>0.272</td><td>0.395</td><td>Map(vectorType -> dense, length -> 5, values -> List(770.0, 557.0, 101.0, 0.338, 0.272))</td></tr><tr><td>708</td><td>630</td><td>92</td><td>0.321</td><td>0.267</td><td>0.391</td><td>Map(vectorType -> dense, length -> 5, values -> List(708.0, 630.0, 92.0, 0.321, 0.267))</td></tr><tr><td>570</td><td>662</td><td>73</td><td>0.31</td><td>0.247</td><td>0.337</td><td>Map(vectorType -> dense, length -> 5, values -> List(570.0, 662.0, 73.0, 0.31, 0.247))</td></tr><tr><td>595</td><td>686</td><td>74</td><td>0.312</td><td>0.246</td><td>0.345</td><td>Map(vectorType -> dense, length -> 5, values -> List(595.0, 686.0, 74.0, 0.312, 0.246))</td></tr><tr><td>629</td><td>671</td><td>72</td><td>0.323</td><td>0.26</td><td>0.359</td><td>Map(vectorType -> dense, length -> 5, values -> List(629.0, 671.0, 72.0, 0.323, 0.26))</td></tr><tr><td>616</td><td>652</td><td>76</td><td>0.321</td><td>0.25</td><td>0.341</td><td>Map(vectorType -> dense, length -> 5, values -> List(616.0, 652.0, 76.0, 0.321, 0.25))</td></tr><tr><td>583</td><td>739</td><td>67</td><td>0.313</td><td>0.244</td><td>0.346</td><td>Map(vectorType -> dense, length -> 5, values -> List(583.0, 739.0, 67.0, 0.313, 0.244))</td></tr><tr><td>682</td><td>553</td><td>90</td><td>0.326</td><td>0.252</td><td>0.373</td><td>Map(vectorType -> dense, length -> 5, values -> List(682.0, 553.0, 90.0, 0.326, 0.252))</td></tr><tr><td>796</td><td>709</td><td>95</td><td>0.344</td><td>0.275</td><td>0.417</td><td>Map(vectorType -> dense, length -> 5, values -> List(796.0, 709.0, 95.0, 0.344, 0.275))</td></tr><tr><td>628</td><td>723</td><td>72</td><td>0.322</td><td>0.246</td><td>0.328</td><td>Map(vectorType -> dense, length -> 5, values -> List(628.0, 723.0, 72.0, 0.322, 0.246))</td></tr><tr><td>712</td><td>827</td><td>75</td><td>0.338</td><td>0.259</td><td>0.368</td><td>Map(vectorType -> dense, length -> 5, values -> List(712.0, 827.0, 75.0, 0.338, 0.259))</td></tr><tr><td>655</td><td>703</td><td>75</td><td>0.331</td><td>0.255</td><td>0.358</td><td>Map(vectorType -> dense, length -> 5, values -> List(655.0, 703.0, 75.0, 0.331, 0.255))</td></tr><tr><td>840</td><td>586</td><td>108</td><td>0.353</td><td>0.271</td><td>0.401</td><td>Map(vectorType -> dense, length -> 5, values -> List(840.0, 586.0, 108.0, 0.353, 0.271))</td></tr><tr><td>688</td><td>703</td><td>79</td><td>0.327</td><td>0.261</td><td>0.392</td><td>Map(vectorType -> dense, length -> 5, values -> List(688.0, 703.0, 79.0, 0.327, 0.261))</td></tr><tr><td>570</td><td>786</td><td>57</td><td>0.301</td><td>0.249</td><td>0.366</td><td>Map(vectorType -> dense, length -> 5, values -> List(570.0, 786.0, 57.0, 0.301, 0.249))</td></tr><tr><td>664</td><td>711</td><td>64</td><td>0.32</td><td>0.254</td><td>0.359</td><td>Map(vectorType -> dense, length -> 5, values -> List(664.0, 711.0, 64.0, 0.32, 0.254))</td></tr><tr><td>710</td><td>649</td><td>91</td><td>0.333</td><td>0.261</td><td>0.394</td><td>Map(vectorType -> dense, length -> 5, values -> List(710.0, 649.0, 91.0, 0.333, 0.261))</td></tr><tr><td>648</td><td>534</td><td>88</td><td>0.325</td><td>0.248</td><td>0.365</td><td>Map(vectorType -> dense, length -> 5, values -> List(648.0, 534.0, 88.0, 0.325, 0.248))</td></tr><tr><td>675</td><td>792</td><td>68</td><td>0.32</td><td>0.25</td><td>0.389</td><td>Map(vectorType -> dense, length -> 5, values -> List(675.0, 792.0, 68.0, 0.32, 0.25))</td></tr><tr><td>724</td><td>736</td><td>76</td><td>0.341</td><td>0.271</td><td>0.386</td><td>Map(vectorType -> dense, length -> 5, values -> List(724.0, 736.0, 76.0, 0.341, 0.271))</td></tr><tr><td>601</td><td>690</td><td>75</td><td>0.317</td><td>0.244</td><td>0.348</td><td>Map(vectorType -> dense, length -> 5, values -> List(601.0, 690.0, 75.0, 0.317, 0.244))</td></tr><tr><td>646</td><td>625</td><td>82</td><td>0.319</td><td>0.256</td><td>0.361</td><td>Map(vectorType -> dense, length -> 5, values -> List(646.0, 625.0, 82.0, 0.319, 0.256))</td></tr><tr><td>681</td><td>588</td><td>83</td><td>0.325</td><td>0.264</td><td>0.382</td><td>Map(vectorType -> dense, length -> 5, values -> List(681.0, 588.0, 83.0, 0.325, 0.264))</td></tr><tr><td>758</td><td>606</td><td>98</td><td>0.333</td><td>0.254</td><td>0.391</td><td>Map(vectorType -> dense, length -> 5, values -> List(758.0, 606.0, 98.0, 0.333, 0.254))</td></tr><tr><td>735</td><td>694</td><td>86</td><td>0.342</td><td>0.269</td><td>0.402</td><td>Map(vectorType -> dense, length -> 5, values -> List(735.0, 694.0, 86.0, 0.342, 0.269))</td></tr><tr><td>712</td><td>565</td><td>92</td><td>0.323</td><td>0.263</td><td>0.402</td><td>Map(vectorType -> dense, length -> 5, values -> List(712.0, 565.0, 92.0, 0.323, 0.263))</td></tr><tr><td>552</td><td>683</td><td>71</td><td>0.31</td><td>0.244</td><td>0.335</td><td>Map(vectorType -> dense, length -> 5, values -> List(552.0, 683.0, 71.0, 0.31, 0.244))</td></tr><tr><td>659</td><td>671</td><td>80</td><td>0.333</td><td>0.259</td><td>0.365</td><td>Map(vectorType -> dense, length -> 5, values -> List(659.0, 671.0, 80.0, 0.333, 0.259))</td></tr><tr><td>662</td><td>689</td><td>82</td><td>0.327</td><td>0.273</td><td>0.375</td><td>Map(vectorType -> dense, length -> 5, values -> List(662.0, 689.0, 82.0, 0.327, 0.273))</td></tr><tr><td>714</td><td>733</td><td>79</td><td>0.33</td><td>0.256</td><td>0.371</td><td>Map(vectorType -> dense, length -> 5, values -> List(714.0, 733.0, 79.0, 0.33, 0.256))</td></tr><tr><td>661</td><td>563</td><td>88</td><td>0.319</td><td>0.249</td><td>0.363</td><td>Map(vectorType -> dense, length -> 5, values -> List(661.0, 563.0, 88.0, 0.319, 0.249))</td></tr><tr><td>659</td><td>612</td><td>91</td><td>0.322</td><td>0.256</td><td>0.37</td><td>Map(vectorType -> dense, length -> 5, values -> List(659.0, 612.0, 91.0, 0.322, 0.256))</td></tr><tr><td>696</td><td>661</td><td>84</td><td>0.333</td><td>0.264</td><td>0.377</td><td>Map(vectorType -> dense, length -> 5, values -> List(696.0, 661.0, 84.0, 0.333, 0.264))</td></tr><tr><td>618</td><td>657</td><td>68</td><td>0.321</td><td>0.254</td><td>0.356</td><td>Map(vectorType -> dense, length -> 5, values -> List(618.0, 657.0, 68.0, 0.321, 0.254))</td></tr><tr><td>669</td><td>826</td><td>66</td><td>0.327</td><td>0.251</td><td>0.365</td><td>Map(vectorType -> dense, length -> 5, values -> List(669.0, 826.0, 66.0, 0.327, 0.251))</td></tr><tr><td>684</td><td>721</td><td>80</td><td>0.33</td><td>0.268</td><td>0.389</td><td>Map(vectorType -> dense, length -> 5, values -> List(684.0, 721.0, 80.0, 0.33, 0.268))</td></tr><tr><td>776</td><td>631</td><td>98</td><td>0.343</td><td>0.26</td><td>0.394</td><td>Map(vectorType -> dense, length -> 5, values -> List(776.0, 631.0, 98.0, 0.343, 0.26))</td></tr><tr><td>662</td><td>694</td><td>77</td><td>0.311</td><td>0.255</td><td>0.37</td><td>Map(vectorType -> dense, length -> 5, values -> List(662.0, 694.0, 77.0, 0.311, 0.255))</td></tr><tr><td>620</td><td>768</td><td>72</td><td>0.303</td><td>0.247</td><td>0.366</td><td>Map(vectorType -> dense, length -> 5, values -> List(620.0, 768.0, 72.0, 0.303, 0.247))</td></tr><tr><td>653</td><td>632</td><td>81</td><td>0.322</td><td>0.263</td><td>0.378</td><td>Map(vectorType -> dense, length -> 5, values -> List(653.0, 632.0, 81.0, 0.322, 0.263))</td></tr><tr><td>667</td><td>662</td><td>77</td><td>0.327</td><td>0.259</td><td>0.364</td><td>Map(vectorType -> dense, length -> 5, values -> List(667.0, 662.0, 77.0, 0.327, 0.259))</td></tr><tr><td>798</td><td>561</td><td>102</td><td>0.342</td><td>0.272</td><td>0.401</td><td>Map(vectorType -> dense, length -> 5, values -> List(798.0, 561.0, 102.0, 0.342, 0.272))</td></tr><tr><td>647</td><td>660</td><td>76</td><td>0.309</td><td>0.244</td><td>0.369</td><td>Map(vectorType -> dense, length -> 5, values -> List(647.0, 660.0, 76.0, 0.309, 0.244))</td></tr><tr><td>673</td><td>669</td><td>82</td><td>0.336</td><td>0.272</td><td>0.378</td><td>Map(vectorType -> dense, length -> 5, values -> List(673.0, 669.0, 82.0, 0.336, 0.272))</td></tr><tr><td>662</td><td>657</td><td>79</td><td>0.335</td><td>0.254</td><td>0.35</td><td>Map(vectorType -> dense, length -> 5, values -> List(662.0, 657.0, 79.0, 0.335, 0.254))</td></tr><tr><td>572</td><td>646</td><td>71</td><td>0.311</td><td>0.235</td><td>0.329</td><td>Map(vectorType -> dense, length -> 5, values -> List(572.0, 646.0, 71.0, 0.311, 0.235))</td></tr><tr><td>671</td><td>623</td><td>89</td><td>0.324</td><td>0.263</td><td>0.368</td><td>Map(vectorType -> dense, length -> 5, values -> List(671.0, 623.0, 89.0, 0.324, 0.263))</td></tr><tr><td>689</td><td>551</td><td>90</td><td>0.321</td><td>0.247</td><td>0.373</td><td>Map(vectorType -> dense, length -> 5, values -> List(689.0, 551.0, 90.0, 0.321, 0.247))</td></tr><tr><td>676</td><td>701</td><td>80</td><td>0.32</td><td>0.261</td><td>0.373</td><td>Map(vectorType -> dense, length -> 5, values -> List(676.0, 701.0, 80.0, 0.32, 0.261))</td></tr><tr><td>751</td><td>657</td><td>88</td><td>0.335</td><td>0.274</td><td>0.391</td><td>Map(vectorType -> dense, length -> 5, values -> List(751.0, 657.0, 88.0, 0.335, 0.274))</td></tr><tr><td>541</td><td>830</td><td>60</td><td>0.302</td><td>0.229</td><td>0.33</td><td>Map(vectorType -> dense, length -> 5, values -> List(541.0, 830.0, 60.0, 0.302, 0.229))</td></tr><tr><td>634</td><td>723</td><td>72</td><td>0.322</td><td>0.252</td><td>0.358</td><td>Map(vectorType -> dense, length -> 5, values -> List(634.0, 723.0, 72.0, 0.322, 0.252))</td></tr><tr><td>677</td><td>643</td><td>86</td><td>0.331</td><td>0.265</td><td>0.365</td><td>Map(vectorType -> dense, length -> 5, values -> List(677.0, 643.0, 86.0, 0.331, 0.265))</td></tr><tr><td>690</td><td>698</td><td>83</td><td>0.336</td><td>0.272</td><td>0.377</td><td>Map(vectorType -> dense, length -> 5, values -> List(690.0, 698.0, 83.0, 0.336, 0.272))</td></tr><tr><td>799</td><td>774</td><td>76</td><td>0.339</td><td>0.266</td><td>0.427</td><td>Map(vectorType -> dense, length -> 5, values -> List(799.0, 774.0, 76.0, 0.339, 0.266))</td></tr><tr><td>754</td><td>561</td><td>97</td><td>0.345</td><td>0.266</td><td>0.389</td><td>Map(vectorType -> dense, length -> 5, values -> List(754.0, 561.0, 97.0, 0.345, 0.266))</td></tr><tr><td>738</td><td>647</td><td>89</td><td>0.338</td><td>0.267</td><td>0.401</td><td>Map(vectorType -> dense, length -> 5, values -> List(738.0, 647.0, 89.0, 0.338, 0.267))</td></tr><tr><td>629</td><td>657</td><td>79</td><td>0.318</td><td>0.253</td><td>0.348</td><td>Map(vectorType -> dense, length -> 5, values -> List(629.0, 657.0, 79.0, 0.318, 0.253))</td></tr></tbody></table>Showing the first 1000 rows.</div>"
      ]
     },
     "metadata": {
      "application/vnd.databricks.v1+output": {
       "addedWidgets": {},
       "aggData": [],
       "aggError": "",
       "aggOverflow": false,
       "aggSchema": [],
       "aggSeriesLimitReached": false,
       "aggType": "",
       "arguments": {},
       "columnCustomDisplayInfos": {},
       "data": [
        [
         734,
         688,
         81,
         0.328,
         0.259,
         0.418,
         {
          "length": 5,
          "values": [
           734,
           688,
           81,
           0.328,
           0.259
          ],
          "vectorType": "dense"
         }
        ],
        [
         700,
         600,
         94,
         0.32,
         0.247,
         0.389,
         {
          "length": 5,
          "values": [
           700,
           600,
           94,
           0.32,
           0.247
          ],
          "vectorType": "dense"
         }
        ],
        [
         712,
         705,
         93,
         0.311,
         0.247,
         0.417,
         {
          "length": 5,
          "values": [
           712,
           705,
           93,
           0.311,
           0.247
          ],
          "vectorType": "dense"
         }
        ],
        [
         734,
         806,
         69,
         0.315,
         0.26,
         0.415,
         {
          "length": 5,
          "values": [
           734,
           806,
           69,
           0.315,
           0.26
          ],
          "vectorType": "dense"
         }
        ],
        [
         613,
         759,
         61,
         0.302,
         0.24,
         0.378,
         {
          "length": 5,
          "values": [
           613,
           759,
           61,
           0.302,
           0.24
          ],
          "vectorType": "dense"
         }
        ],
        [
         748,
         676,
         85,
         0.318,
         0.255,
         0.422,
         {
          "length": 5,
          "values": [
           748,
           676,
           85,
           0.318,
           0.255
          ],
          "vectorType": "dense"
         }
        ],
        [
         669,
         588,
         97,
         0.315,
         0.251,
         0.411,
         {
          "length": 5,
          "values": [
           669,
           588,
           97,
           0.315,
           0.251
          ],
          "vectorType": "dense"
         }
        ],
        [
         667,
         845,
         68,
         0.324,
         0.251,
         0.381,
         {
          "length": 5,
          "values": [
           667,
           845,
           68,
           0.324,
           0.251
          ],
          "vectorType": "dense"
         }
        ],
        [
         758,
         890,
         64,
         0.33,
         0.274,
         0.436,
         {
          "length": 5,
          "values": [
           758,
           890,
           64,
           0.33,
           0.274
          ],
          "vectorType": "dense"
         }
        ],
        [
         726,
         670,
         88,
         0.335,
         0.268,
         0.422,
         {
          "length": 5,
          "values": [
           726,
           670,
           88,
           0.335,
           0.268
          ],
          "vectorType": "dense"
         }
        ],
        [
         583,
         794,
         55,
         0.302,
         0.236,
         0.371,
         {
          "length": 5,
          "values": [
           583,
           794,
           55,
           0.302,
           0.236
          ],
          "vectorType": "dense"
         }
        ],
        [
         676,
         746,
         72,
         0.317,
         0.265,
         0.4,
         {
          "length": 5,
          "values": [
           676,
           746,
           72,
           0.317,
           0.265
          ],
          "vectorType": "dense"
         }
        ],
        [
         767,
         699,
         89,
         0.332,
         0.274,
         0.433,
         {
          "length": 5,
          "values": [
           767,
           699,
           89,
           0.332,
           0.274
          ],
          "vectorType": "dense"
         }
        ],
        [
         637,
         597,
         86,
         0.317,
         0.252,
         0.374,
         {
          "length": 5,
          "values": [
           637,
           597,
           86,
           0.317,
           0.252
          ],
          "vectorType": "dense"
         }
        ],
        [
         609,
         724,
         69,
         0.308,
         0.244,
         0.382,
         {
          "length": 5,
          "values": [
           609,
           724,
           69,
           0.308,
           0.244
          ],
          "vectorType": "dense"
         }
        ],
        [
         776,
         733,
         83,
         0.325,
         0.259,
         0.437,
         {
          "length": 5,
          "values": [
           776,
           733,
           83,
           0.325,
           0.259
          ],
          "vectorType": "dense"
         }
        ],
        [
         701,
         832,
         66,
         0.325,
         0.26,
         0.39,
         {
          "length": 5,
          "values": [
           701,
           832,
           66,
           0.325,
           0.26
          ],
          "vectorType": "dense"
         }
        ],
        [
         650,
         709,
         74,
         0.316,
         0.249,
         0.386,
         {
          "length": 5,
          "values": [
           650,
           709,
           74,
           0.316,
           0.249
          ],
          "vectorType": "dense"
         }
        ],
        [
         804,
         668,
         95,
         0.337,
         0.265,
         0.453,
         {
          "length": 5,
          "values": [
           804,
           668,
           95,
           0.337,
           0.265
          ],
          "vectorType": "dense"
         }
        ],
        [
         713,
         614,
         94,
         0.31,
         0.238,
         0.404,
         {
          "length": 5,
          "values": [
           713,
           614,
           94,
           0.31,
           0.238
          ],
          "vectorType": "dense"
         }
        ],
        [
         684,
         680,
         81,
         0.317,
         0.255,
         0.4,
         {
          "length": 5,
          "values": [
           684,
           680,
           81,
           0.317,
           0.255
          ],
          "vectorType": "dense"
         }
        ],
        [
         651,
         674,
         79,
         0.304,
         0.243,
         0.395,
         {
          "length": 5,
          "values": [
           651,
           674,
           79,
           0.304,
           0.243
          ],
          "vectorType": "dense"
         }
        ],
        [
         651,
         710,
         76,
         0.319,
         0.247,
         0.38,
         {
          "length": 5,
          "values": [
           651,
           710,
           76,
           0.319,
           0.247
          ],
          "vectorType": "dense"
         }
        ],
        [
         619,
         651,
         75,
         0.296,
         0.234,
         0.369,
         {
          "length": 5,
          "values": [
           619,
           651,
           75,
           0.296,
           0.234
          ],
          "vectorType": "dense"
         }
        ],
        [
         718,
         649,
         94,
         0.327,
         0.269,
         0.397,
         {
          "length": 5,
          "values": [
           718,
           649,
           94,
           0.327,
           0.269
          ],
          "vectorType": "dense"
         }
        ],
        [
         765,
         648,
         88,
         0.338,
         0.271,
         0.421,
         {
          "length": 5,
          "values": [
           765,
           648,
           88,
           0.338,
           0.271
          ],
          "vectorType": "dense"
         }
        ],
        [
         697,
         577,
         90,
         0.317,
         0.24,
         0.394,
         {
          "length": 5,
          "values": [
           697,
           577,
           90,
           0.317,
           0.24
          ],
          "vectorType": "dense"
         }
        ],
        [
         808,
         707,
         93,
         0.334,
         0.273,
         0.446,
         {
          "length": 5,
          "values": [
           808,
           707,
           93,
           0.334,
           0.273
          ],
          "vectorType": "dense"
         }
        ],
        [
         716,
         784,
         73,
         0.309,
         0.245,
         0.407,
         {
          "length": 5,
          "values": [
           716,
           784,
           73,
           0.309,
           0.245
          ],
          "vectorType": "dense"
         }
        ],
        [
         731,
         594,
         98,
         0.322,
         0.261,
         0.428,
         {
          "length": 5,
          "values": [
           731,
           594,
           98,
           0.322,
           0.261
          ],
          "vectorType": "dense"
         }
        ],
        [
         731,
         662,
         94,
         0.322,
         0.25,
         0.413,
         {
          "length": 5,
          "values": [
           731,
           662,
           94,
           0.322,
           0.25
          ],
          "vectorType": "dense"
         }
        ],
        [
         641,
         605,
         89,
         0.308,
         0.243,
         0.387,
         {
          "length": 5,
          "values": [
           641,
           605,
           89,
           0.308,
           0.243
          ],
          "vectorType": "dense"
         }
        ],
        [
         708,
         860,
         69,
         0.316,
         0.257,
         0.413,
         {
          "length": 5,
          "values": [
           708,
           860,
           69,
           0.316,
           0.257
          ],
          "vectorType": "dense"
         }
        ],
        [
         875,
         737,
         90,
         0.349,
         0.28,
         0.461,
         {
          "length": 5,
          "values": [
           875,
           737,
           90,
           0.349,
           0.28
          ],
          "vectorType": "dense"
         }
        ],
        [
         654,
         756,
         71,
         0.314,
         0.256,
         0.401,
         {
          "length": 5,
          "values": [
           654,
           756,
           71,
           0.314,
           0.256
          ],
          "vectorType": "dense"
         }
        ],
        [
         654,
         706,
         79,
         0.319,
         0.252,
         0.388,
         {
          "length": 5,
          "values": [
           654,
           706,
           79,
           0.319,
           0.252
          ],
          "vectorType": "dense"
         }
        ],
        [
         735,
         720,
         79,
         0.326,
         0.256,
         0.408,
         {
          "length": 5,
          "values": [
           735,
           720,
           79,
           0.326,
           0.256
          ],
          "vectorType": "dense"
         }
        ],
        [
         704,
         760,
         80,
         0.317,
         0.25,
         0.396,
         {
          "length": 5,
          "values": [
           704,
           760,
           80,
           0.317,
           0.25
          ],
          "vectorType": "dense"
         }
        ],
        [
         735,
         774,
         73,
         0.329,
         0.258,
         0.41,
         {
          "length": 5,
          "values": [
           735,
           774,
           73,
           0.329,
           0.258
          ],
          "vectorType": "dense"
         }
        ],
        [
         787,
         711,
         95,
         0.34,
         0.277,
         0.434,
         {
          "length": 5,
          "values": [
           787,
           711,
           95,
           0.34,
           0.277
          ],
          "vectorType": "dense"
         }
        ],
        [
         625,
         702,
         72,
         0.318,
         0.247,
         0.388,
         {
          "length": 5,
          "values": [
           625,
           702,
           72,
           0.318,
           0.247
          ],
          "vectorType": "dense"
         }
        ],
        [
         615,
         796,
         56,
         0.311,
         0.258,
         0.374,
         {
          "length": 5,
          "values": [
           615,
           796,
           56,
           0.311,
           0.258
          ],
          "vectorType": "dense"
         }
        ],
        [
         730,
         762,
         71,
         0.329,
         0.275,
         0.415,
         {
          "length": 5,
          "values": [
           730,
           762,
           71,
           0.329,
           0.275
          ],
          "vectorType": "dense"
         }
        ],
        [
         667,
         633,
         86,
         0.313,
         0.253,
         0.402,
         {
          "length": 5,
          "values": [
           667,
           633,
           86,
           0.313,
           0.253
          ],
          "vectorType": "dense"
         }
        ],
        [
         644,
         612,
         82,
         0.322,
         0.257,
         0.375,
         {
          "length": 5,
          "values": [
           644,
           612,
           82,
           0.322,
           0.257
          ],
          "vectorType": "dense"
         }
        ],
        [
         721,
         638,
         96,
         0.325,
         0.261,
         0.425,
         {
          "length": 5,
          "values": [
           721,
           638,
           96,
           0.325,
           0.261
          ],
          "vectorType": "dense"
         }
        ],
        [
         619,
         804,
         63,
         0.306,
         0.247,
         0.36,
         {
          "length": 5,
          "values": [
           619,
           804,
           63,
           0.306,
           0.247
          ],
          "vectorType": "dense"
         }
        ],
        [
         718,
         742,
         77,
         0.335,
         0.264,
         0.391,
         {
          "length": 5,
          "values": [
           718,
           742,
           77,
           0.335,
           0.264
          ],
          "vectorType": "dense"
         }
        ],
        [
         867,
         657,
         97,
         0.343,
         0.263,
         0.444,
         {
          "length": 5,
          "values": [
           867,
           657,
           97,
           0.343,
           0.263
          ],
          "vectorType": "dense"
         }
        ],
        [
         645,
         679,
         74,
         0.311,
         0.244,
         0.369,
         {
          "length": 5,
          "values": [
           645,
           679,
           74,
           0.311,
           0.244
          ],
          "vectorType": "dense"
         }
        ],
        [
         713,
         529,
         102,
         0.323,
         0.253,
         0.395,
         {
          "length": 5,
          "values": [
           713,
           529,
           102,
           0.323,
           0.253
          ],
          "vectorType": "dense"
         }
        ],
        [
         610,
         712,
         72,
         0.309,
         0.244,
         0.368,
         {
          "length": 5,
          "values": [
           610,
           712,
           72,
           0.309,
           0.244
          ],
          "vectorType": "dense"
         }
        ],
        [
         593,
         611,
         71,
         0.305,
         0.237,
         0.349,
         {
          "length": 5,
          "values": [
           593,
           611,
           71,
           0.305,
           0.237
          ],
          "vectorType": "dense"
         }
        ],
        [
         556,
         675,
         67,
         0.292,
         0.233,
         0.348,
         {
          "length": 5,
          "values": [
           556,
           675,
           67,
           0.292,
           0.233
          ],
          "vectorType": "dense"
         }
        ],
        [
         570,
         578,
         86,
         0.303,
         0.242,
         0.368,
         {
          "length": 5,
          "values": [
           570,
           578,
           86,
           0.303,
           0.242
          ],
          "vectorType": "dense"
         }
        ],
        [
         762,
         692,
         90,
         0.341,
         0.273,
         0.425,
         {
          "length": 5,
          "values": [
           762,
           692,
           90,
           0.341,
           0.273
          ],
          "vectorType": "dense"
         }
        ],
        [
         707,
         614,
         91,
         0.322,
         0.244,
         0.402,
         {
          "length": 5,
          "values": [
           707,
           614,
           91,
           0.322,
           0.244
          ],
          "vectorType": "dense"
         }
        ],
        [
         855,
         677,
         96,
         0.34,
         0.283,
         0.46,
         {
          "length": 5,
          "values": [
           855,
           677,
           96,
           0.34,
           0.283
          ],
          "vectorType": "dense"
         }
        ],
        [
         743,
         761,
         81,
         0.317,
         0.249,
         0.413,
         {
          "length": 5,
          "values": [
           743,
           761,
           81,
           0.317,
           0.249
          ],
          "vectorType": "dense"
         }
        ],
        [
         624,
         643,
         80,
         0.309,
         0.242,
         0.383,
         {
          "length": 5,
          "values": [
           624,
           643,
           80,
           0.309,
           0.242
          ],
          "vectorType": "dense"
         }
        ],
        [
         713,
         836,
         65,
         0.325,
         0.25,
         0.416,
         {
          "length": 5,
          "values": [
           713,
           836,
           65,
           0.325,
           0.25
          ],
          "vectorType": "dense"
         }
        ],
        [
         738,
         629,
         91,
         0.339,
         0.258,
         0.401,
         {
          "length": 5,
          "values": [
           738,
           629,
           91,
           0.339,
           0.258
          ],
          "vectorType": "dense"
         }
        ],
        [
         613,
         785,
         66,
         0.316,
         0.259,
         0.386,
         {
          "length": 5,
          "values": [
           613,
           785,
           66,
           0.316,
           0.259
          ],
          "vectorType": "dense"
         }
        ],
        [
         818,
         744,
         89,
         0.339,
         0.268,
         0.451,
         {
          "length": 5,
          "values": [
           818,
           744,
           89,
           0.339,
           0.268
          ],
          "vectorType": "dense"
         }
        ],
        [
         685,
         767,
         75,
         0.32,
         0.257,
         0.401,
         {
          "length": 5,
          "values": [
           685,
           767,
           75,
           0.32,
           0.257
          ],
          "vectorType": "dense"
         }
        ],
        [
         752,
         704,
         88,
         0.332,
         0.268,
         0.42,
         {
          "length": 5,
          "values": [
           752,
           704,
           88,
           0.332,
           0.268
          ],
          "vectorType": "dense"
         }
        ],
        [
         790,
         685,
         91,
         0.338,
         0.272,
         0.436,
         {
          "length": 5,
          "values": [
           790,
           685,
           91,
           0.338,
           0.272
          ],
          "vectorType": "dense"
         }
        ],
        [
         646,
         752,
         69,
         0.322,
         0.248,
         0.378,
         {
          "length": 5,
          "values": [
           646,
           752,
           69,
           0.322,
           0.248
          ],
          "vectorType": "dense"
         }
        ],
        [
         770,
         717,
         83,
         0.336,
         0.263,
         0.425,
         {
          "length": 5,
          "values": [
           770,
           717,
           83,
           0.336,
           0.263
          ],
          "vectorType": "dense"
         }
        ],
        [
         751,
         743,
         81,
         0.335,
         0.268,
         0.415,
         {
          "length": 5,
          "values": [
           751,
           743,
           81,
           0.335,
           0.268
          ],
          "vectorType": "dense"
         }
        ],
        [
         719,
         717,
         80,
         0.321,
         0.254,
         0.403,
         {
          "length": 5,
          "values": [
           719,
           717,
           80,
           0.321,
           0.254
          ],
          "vectorType": "dense"
         }
        ],
        [
         611,
         729,
         76,
         0.303,
         0.247,
         0.362,
         {
          "length": 5,
          "values": [
           611,
           729,
           76,
           0.303,
           0.247
          ],
          "vectorType": "dense"
         }
        ],
        [
         676,
         845,
         67,
         0.331,
         0.274,
         0.399,
         {
          "length": 5,
          "values": [
           676,
           845,
           67,
           0.331,
           0.274
          ],
          "vectorType": "dense"
         }
        ],
        [
         681,
         702,
         80,
         0.311,
         0.248,
         0.39,
         {
          "length": 5,
          "values": [
           681,
           702,
           80,
           0.311,
           0.248
          ],
          "vectorType": "dense"
         }
        ],
        [
         667,
         692,
         80,
         0.322,
         0.252,
         0.379,
         {
          "length": 5,
          "values": [
           667,
           692,
           80,
           0.322,
           0.252
          ],
          "vectorType": "dense"
         }
        ],
        [
         750,
         804,
         77,
         0.335,
         0.262,
         0.424,
         {
          "length": 5,
          "values": [
           750,
           804,
           77,
           0.335,
           0.262
          ],
          "vectorType": "dense"
         }
        ],
        [
         781,
         671,
         94,
         0.341,
         0.273,
         0.422,
         {
          "length": 5,
          "values": [
           781,
           671,
           94,
           0.341,
           0.273
          ],
          "vectorType": "dense"
         }
        ],
        [
         656,
         652,
         79,
         0.314,
         0.249,
         0.383,
         {
          "length": 5,
          "values": [
           656,
           652,
           79,
           0.314,
           0.249
          ],
          "vectorType": "dense"
         }
        ],
        [
         859,
         693,
         95,
         0.35,
         0.267,
         0.436,
         {
          "length": 5,
          "values": [
           859,
           693,
           95,
           0.35,
           0.267
          ],
          "vectorType": "dense"
         }
        ],
        [
         663,
         626,
         81,
         0.324,
         0.256,
         0.378,
         {
          "length": 5,
          "values": [
           663,
           626,
           81,
           0.324,
           0.256
          ],
          "vectorType": "dense"
         }
        ],
        [
         772,
         640,
         97,
         0.332,
         0.26,
         0.413,
         {
          "length": 5,
          "values": [
           772,
           640,
           97,
           0.332,
           0.26
          ],
          "vectorType": "dense"
         }
        ],
        [
         587,
         866,
         57,
         0.304,
         0.242,
         0.373,
         {
          "length": 5,
          "values": [
           587,
           866,
           57,
           0.304,
           0.242
          ],
          "vectorType": "dense"
         }
        ],
        [
         665,
         581,
         90,
         0.317,
         0.246,
         0.371,
         {
          "length": 5,
          "values": [
           665,
           581,
           90,
           0.317,
           0.246
          ],
          "vectorType": "dense"
         }
        ],
        [
         513,
         698,
         61,
         0.298,
         0.236,
         0.339,
         {
          "length": 5,
          "values": [
           513,
           698,
           61,
           0.298,
           0.236
          ],
          "vectorType": "dense"
         }
        ],
        [
         697,
         583,
         92,
         0.321,
         0.257,
         0.408,
         {
          "length": 5,
          "values": [
           697,
           583,
           92,
           0.321,
           0.257
          ],
          "vectorType": "dense"
         }
        ],
        [
         736,
         641,
         86,
         0.332,
         0.263,
         0.402,
         {
          "length": 5,
          "values": [
           736,
           641,
           86,
           0.332,
           0.263
          ],
          "vectorType": "dense"
         }
        ],
        [
         802,
         649,
         96,
         0.333,
         0.247,
         0.403,
         {
          "length": 5,
          "values": [
           802,
           649,
           96,
           0.333,
           0.247
          ],
          "vectorType": "dense"
         }
        ],
        [
         787,
         687,
         90,
         0.338,
         0.276,
         0.419,
         {
          "length": 5,
          "values": [
           787,
           687,
           90,
           0.338,
           0.276
          ],
          "vectorType": "dense"
         }
        ],
        [
         755,
         728,
         85,
         0.312,
         0.248,
         0.454,
         {
          "length": 5,
          "values": [
           755,
           728,
           85,
           0.312,
           0.248
          ],
          "vectorType": "dense"
         }
        ],
        [
         655,
         742,
         69,
         0.318,
         0.25,
         0.39,
         {
          "length": 5,
          "values": [
           655,
           742,
           69,
           0.318,
           0.25
          ],
          "vectorType": "dense"
         }
        ],
        [
         720,
         782,
         70,
         0.324,
         0.253,
         0.418,
         {
          "length": 5,
          "values": [
           720,
           782,
           70,
           0.324,
           0.253
          ],
          "vectorType": "dense"
         }
        ],
        [
         735,
         641,
         86,
         0.339,
         0.263,
         0.405,
         {
          "length": 5,
          "values": [
           735,
           641,
           86,
           0.339,
           0.263
          ],
          "vectorType": "dense"
         }
        ],
        [
         741,
         876,
         64,
         0.332,
         0.268,
         0.415,
         {
          "length": 5,
          "values": [
           741,
           876,
           64,
           0.332,
           0.268
          ],
          "vectorType": "dense"
         }
        ],
        [
         872,
         736,
         95,
         0.352,
         0.27,
         0.454,
         {
          "length": 5,
          "values": [
           872,
           736,
           95,
           0.352,
           0.27
          ],
          "vectorType": "dense"
         }
        ],
        [
         707,
         672,
         83,
         0.332,
         0.255,
         0.407,
         {
          "length": 5,
          "values": [
           707,
           672,
           83,
           0.332,
           0.255
          ],
          "vectorType": "dense"
         }
        ],
        [
         724,
         732,
         79,
         0.329,
         0.258,
         0.411,
         {
          "length": 5,
          "values": [
           724,
           732,
           79,
           0.329,
           0.258
          ],
          "vectorType": "dense"
         }
        ],
        [
         673,
         723,
         78,
         0.318,
         0.247,
         0.394,
         {
          "length": 5,
          "values": [
           673,
           723,
           78,
           0.318,
           0.247
          ],
          "vectorType": "dense"
         }
        ],
        [
         773,
         865,
         65,
         0.339,
         0.264,
         0.417,
         {
          "length": 5,
          "values": [
           773,
           865,
           65,
           0.339,
           0.264
          ],
          "vectorType": "dense"
         }
        ],
        [
         804,
         715,
         92,
         0.343,
         0.261,
         0.441,
         {
          "length": 5,
          "values": [
           804,
           715,
           92,
           0.343,
           0.261
          ],
          "vectorType": "dense"
         }
        ],
        [
         743,
         745,
         86,
         0.331,
         0.26,
         0.416,
         {
          "length": 5,
          "values": [
           743,
           745,
           86,
           0.331,
           0.26
          ],
          "vectorType": "dense"
         }
        ],
        [
         772,
         766,
         87,
         0.34,
         0.268,
         0.416,
         {
          "length": 5,
          "values": [
           772,
           766,
           87,
           0.34,
           0.268
          ],
          "vectorType": "dense"
         }
        ],
        [
         643,
         770,
         74,
         0.319,
         0.26,
         0.4,
         {
          "length": 5,
          "values": [
           643,
           770,
           74,
           0.319,
           0.26
          ],
          "vectorType": "dense"
         }
        ],
        [
         686,
         842,
         65,
         0.318,
         0.259,
         0.405,
         {
          "length": 5,
          "values": [
           686,
           842,
           65,
           0.318,
           0.259
          ],
          "vectorType": "dense"
         }
        ],
        [
         883,
         761,
         97,
         0.35,
         0.285,
         0.441,
         {
          "length": 5,
          "values": [
           883,
           761,
           97,
           0.35,
           0.285
          ],
          "vectorType": "dense"
         }
        ],
        [
         780,
         611,
         95,
         0.346,
         0.27,
         0.412,
         {
          "length": 5,
          "values": [
           780,
           611,
           95,
           0.346,
           0.27
          ],
          "vectorType": "dense"
         }
        ],
        [
         785,
         818,
         80,
         0.341,
         0.263,
         0.426,
         {
          "length": 5,
          "values": [
           785,
           818,
           80,
           0.341,
           0.263
          ],
          "vectorType": "dense"
         }
        ],
        [
         817,
         765,
         87,
         0.345,
         0.274,
         0.429,
         {
          "length": 5,
          "values": [
           817,
           765,
           87,
           0.345,
           0.274
          ],
          "vectorType": "dense"
         }
        ],
        [
         671,
         757,
         70,
         0.335,
         0.27,
         0.394,
         {
          "length": 5,
          "values": [
           671,
           757,
           70,
           0.335,
           0.27
          ],
          "vectorType": "dense"
         }
        ],
        [
         915,
         753,
         103,
         0.362,
         0.283,
         0.478,
         {
          "length": 5,
          "values": [
           915,
           753,
           103,
           0.362,
           0.283
          ],
          "vectorType": "dense"
         }
        ],
        [
         759,
         761,
         75,
         0.328,
         0.262,
         0.397,
         {
          "length": 5,
          "values": [
           759,
           761,
           75,
           0.328,
           0.262
          ],
          "vectorType": "dense"
         }
        ],
        [
         820,
         709,
         93,
         0.334,
         0.258,
         0.447,
         {
          "length": 5,
          "values": [
           820,
           709,
           93,
           0.334,
           0.258
          ],
          "vectorType": "dense"
         }
        ],
        [
         636,
         768,
         62,
         0.318,
         0.252,
         0.387,
         {
          "length": 5,
          "values": [
           636,
           768,
           62,
           0.318,
           0.252
          ],
          "vectorType": "dense"
         }
        ],
        [
         638,
         769,
         75,
         0.321,
         0.242,
         0.381,
         {
          "length": 5,
          "values": [
           638,
           769,
           75,
           0.321,
           0.242
          ],
          "vectorType": "dense"
         }
        ],
        [
         640,
         692,
         85,
         0.314,
         0.258,
         0.402,
         {
          "length": 5,
          "values": [
           640,
           692,
           85,
           0.314,
           0.258
          ],
          "vectorType": "dense"
         }
        ],
        [
         657,
         611,
         88,
         0.309,
         0.257,
         0.389,
         {
          "length": 5,
          "values": [
           657,
           611,
           88,
           0.309,
           0.257
          ],
          "vectorType": "dense"
         }
        ],
        [
         730,
         640,
         91,
         0.332,
         0.263,
         0.415,
         {
          "length": 5,
          "values": [
           730,
           640,
           91,
           0.332,
           0.263
          ],
          "vectorType": "dense"
         }
        ],
        [
         803,
         754,
         84,
         0.343,
         0.263,
         0.439,
         {
          "length": 5,
          "values": [
           803,
           754,
           84,
           0.343,
           0.263
          ],
          "vectorType": "dense"
         }
        ],
        [
         784,
         740,
         87,
         0.32,
         0.26,
         0.445,
         {
          "length": 5,
          "values": [
           784,
           740,
           87,
           0.32,
           0.26
          ],
          "vectorType": "dense"
         }
        ],
        [
         798,
         771,
         75,
         0.333,
         0.266,
         0.44,
         {
          "length": 5,
          "values": [
           798,
           771,
           75,
           0.333,
           0.266
          ],
          "vectorType": "dense"
         }
        ],
        [
         710,
         874,
         59,
         0.337,
         0.258,
         0.406,
         {
          "length": 5,
          "values": [
           710,
           874,
           59,
           0.337,
           0.258
          ],
          "vectorType": "dense"
         }
        ],
        [
         720,
         706,
         82,
         0.327,
         0.251,
         0.415,
         {
          "length": 5,
          "values": [
           720,
           706,
           82,
           0.327,
           0.251
          ],
          "vectorType": "dense"
         }
        ],
        [
         753,
         778,
         72,
         0.345,
         0.27,
         0.408,
         {
          "length": 5,
          "values": [
           753,
           778,
           72,
           0.345,
           0.27
          ],
          "vectorType": "dense"
         }
        ],
        [
         782,
         869,
         68,
         0.333,
         0.267,
         0.429,
         {
          "length": 5,
          "values": [
           782,
           869,
           68,
           0.333,
           0.267
          ],
          "vectorType": "dense"
         }
        ],
        [
         845,
         694,
         95,
         0.358,
         0.28,
         0.447,
         {
          "length": 5,
          "values": [
           845,
           694,
           95,
           0.358,
           0.28
          ],
          "vectorType": "dense"
         }
        ],
        [
         855,
         671,
         97,
         0.354,
         0.278,
         0.443,
         {
          "length": 5,
          "values": [
           855,
           671,
           97,
           0.354,
           0.278
          ],
          "vectorType": "dense"
         }
        ],
        [
         811,
         729,
         89,
         0.332,
         0.263,
         0.448,
         {
          "length": 5,
          "values": [
           811,
           729,
           89,
           0.332,
           0.263
          ],
          "vectorType": "dense"
         }
        ],
        [
         704,
         800,
         74,
         0.321,
         0.247,
         0.408,
         {
          "length": 5,
          "values": [
           704,
           800,
           74,
           0.321,
           0.247
          ],
          "vectorType": "dense"
         }
        ],
        [
         805,
         761,
         81,
         0.339,
         0.262,
         0.424,
         {
          "length": 5,
          "values": [
           805,
           761,
           81,
           0.339,
           0.262
          ],
          "vectorType": "dense"
         }
        ],
        [
         747,
         822,
         74,
         0.336,
         0.263,
         0.415,
         {
          "length": 5,
          "values": [
           747,
           822,
           74,
           0.336,
           0.263
          ],
          "vectorType": "dense"
         }
        ],
        [
         821,
         857,
         74,
         0.34,
         0.271,
         0.444,
         {
          "length": 5,
          "values": [
           821,
           857,
           74,
           0.34,
           0.271
          ],
          "vectorType": "dense"
         }
        ],
        [
         770,
         767,
         84,
         0.326,
         0.254,
         0.433,
         {
          "length": 5,
          "values": [
           770,
           767,
           84,
           0.326,
           0.254
          ],
          "vectorType": "dense"
         }
        ],
        [
         712,
         743,
         86,
         0.323,
         0.263,
         0.415,
         {
          "length": 5,
          "values": [
           712,
           743,
           86,
           0.323,
           0.263
          ],
          "vectorType": "dense"
         }
        ],
        [
         691,
         781,
         75,
         0.32,
         0.269,
         0.397,
         {
          "length": 5,
          "values": [
           691,
           781,
           75,
           0.32,
           0.269
          ],
          "vectorType": "dense"
         }
        ],
        [
         765,
         697,
         100,
         0.33,
         0.268,
         0.413,
         {
          "length": 5,
          "values": [
           765,
           697,
           100,
           0.33,
           0.268
          ],
          "vectorType": "dense"
         }
        ],
        [
         700,
         648,
         84,
         0.333,
         0.264,
         0.399,
         {
          "length": 5,
          "values": [
           700,
           648,
           84,
           0.333,
           0.264
          ],
          "vectorType": "dense"
         }
        ],
        [
         750,
         689,
         90,
         0.325,
         0.253,
         0.431,
         {
          "length": 5,
          "values": [
           750,
           689,
           90,
           0.325,
           0.253
          ],
          "vectorType": "dense"
         }
        ],
        [
         829,
         745,
         88,
         0.34,
         0.279,
         0.408,
         {
          "length": 5,
          "values": [
           829,
           745,
           88,
           0.34,
           0.279
          ],
          "vectorType": "dense"
         }
        ],
        [
         799,
         715,
         89,
         0.34,
         0.266,
         0.42,
         {
          "length": 5,
          "values": [
           799,
           715,
           89,
           0.34,
           0.266
          ],
          "vectorType": "dense"
         }
        ],
        [
         789,
         727,
         89,
         0.342,
         0.271,
         0.427,
         {
          "length": 5,
          "values": [
           789,
           727,
           89,
           0.342,
           0.271
          ],
          "vectorType": "dense"
         }
        ],
        [
         646,
         690,
         75,
         0.318,
         0.242,
         0.369,
         {
          "length": 5,
          "values": [
           646,
           690,
           75,
           0.318,
           0.242
          ],
          "vectorType": "dense"
         }
        ],
        [
         799,
         680,
         92,
         0.332,
         0.255,
         0.438,
         {
          "length": 5,
          "values": [
           799,
           680,
           92,
           0.332,
           0.255
          ],
          "vectorType": "dense"
         }
        ],
        [
         735,
         884,
         67,
         0.32,
         0.258,
         0.403,
         {
          "length": 5,
          "values": [
           735,
           884,
           67,
           0.32,
           0.258
          ],
          "vectorType": "dense"
         }
        ],
        [
         637,
         764,
         63,
         0.317,
         0.25,
         0.39,
         {
          "length": 5,
          "values": [
           637,
           764,
           63,
           0.317,
           0.25
          ],
          "vectorType": "dense"
         }
        ],
        [
         671,
         811,
         61,
         0.318,
         0.265,
         0.389,
         {
          "length": 5,
          "values": [
           671,
           811,
           61,
           0.318,
           0.265
          ],
          "vectorType": "dense"
         }
        ],
        [
         640,
         759,
         72,
         0.321,
         0.262,
         0.382,
         {
          "length": 5,
          "values": [
           640,
           759,
           72,
           0.321,
           0.262
          ],
          "vectorType": "dense"
         }
        ],
        [
         779,
         725,
         86,
         0.35,
         0.281,
         0.433,
         {
          "length": 5,
          "values": [
           779,
           725,
           86,
           0.35,
           0.281
          ],
          "vectorType": "dense"
         }
        ],
        [
         774,
         671,
         97,
         0.34,
         0.26,
         0.422,
         {
          "length": 5,
          "values": [
           774,
           671,
           97,
           0.34,
           0.26
          ],
          "vectorType": "dense"
         }
        ],
        [
         901,
         967,
         79,
         0.354,
         0.283,
         0.462,
         {
          "length": 5,
          "values": [
           901,
           967,
           79,
           0.354,
           0.283
          ],
          "vectorType": "dense"
         }
        ],
        [
         714,
         610,
         86,
         0.331,
         0.264,
         0.399,
         {
          "length": 5,
          "values": [
           714,
           610,
           86,
           0.331,
           0.264
          ],
          "vectorType": "dense"
         }
        ],
        [
         641,
         825,
         59,
         0.323,
         0.251,
         0.373,
         {
          "length": 5,
          "values": [
           641,
           825,
           59,
           0.323,
           0.251
          ],
          "vectorType": "dense"
         }
        ],
        [
         712,
         732,
         90,
         0.321,
         0.25,
         0.413,
         {
          "length": 5,
          "values": [
           712,
           732,
           90,
           0.321,
           0.25
          ],
          "vectorType": "dense"
         }
        ],
        [
         810,
         733,
         84,
         0.339,
         0.275,
         0.435,
         {
          "length": 5,
          "values": [
           810,
           733,
           84,
           0.339,
           0.275
          ],
          "vectorType": "dense"
         }
        ],
        [
         756,
         868,
         69,
         0.333,
         0.272,
         0.412,
         {
          "length": 5,
          "values": [
           756,
           868,
           69,
           0.333,
           0.272
          ],
          "vectorType": "dense"
         }
        ],
        [
         867,
         657,
         96,
         0.362,
         0.279,
         0.444,
         {
          "length": 5,
          "values": [
           867,
           657,
           96,
           0.362,
           0.279
          ],
          "vectorType": "dense"
         }
        ],
        [
         752,
         690,
         85,
         0.333,
         0.271,
         0.422,
         {
          "length": 5,
          "values": [
           752,
           690,
           85,
           0.333,
           0.271
          ],
          "vectorType": "dense"
         }
        ],
        [
         693,
         839,
         72,
         0.318,
         0.246,
         0.404,
         {
          "length": 5,
          "values": [
           693,
           839,
           72,
           0.318,
           0.246
          ],
          "vectorType": "dense"
         }
        ],
        [
         783,
         853,
         72,
         0.335,
         0.267,
         0.436,
         {
          "length": 5,
          "values": [
           783,
           853,
           72,
           0.335,
           0.267
          ],
          "vectorType": "dense"
         }
        ],
        [
         811,
         704,
         96,
         0.343,
         0.268,
         0.428,
         {
          "length": 5,
          "values": [
           811,
           704,
           96,
           0.343,
           0.268
          ],
          "vectorType": "dense"
         }
        ],
        [
         860,
         758,
         90,
         0.354,
         0.28,
         0.437,
         {
          "length": 5,
          "values": [
           860,
           758,
           90,
           0.354,
           0.28
          ],
          "vectorType": "dense"
         }
        ],
        [
         887,
         797,
         88,
         0.345,
         0.287,
         0.458,
         {
          "length": 5,
          "values": [
           887,
           797,
           88,
           0.345,
           0.287
          ],
          "vectorType": "dense"
         }
        ],
        [
         790,
         891,
         71,
         0.336,
         0.267,
         0.448,
         {
          "length": 5,
          "values": [
           790,
           891,
           71,
           0.336,
           0.267
          ],
          "vectorType": "dense"
         }
        ],
        [
         723,
         813,
         73,
         0.33,
         0.26,
         0.412,
         {
          "length": 5,
          "values": [
           723,
           813,
           73,
           0.33,
           0.26
          ],
          "vectorType": "dense"
         }
        ],
        [
         706,
         778,
         69,
         0.322,
         0.261,
         0.388,
         {
          "length": 5,
          "values": [
           706,
           778,
           69,
           0.322,
           0.261
          ],
          "vectorType": "dense"
         }
        ],
        [
         822,
         731,
         94,
         0.345,
         0.284,
         0.417,
         {
          "length": 5,
          "values": [
           822,
           731,
           94,
           0.345,
           0.284
          ],
          "vectorType": "dense"
         }
        ],
        [
         735,
         727,
         82,
         0.337,
         0.275,
         0.406,
         {
          "length": 5,
          "values": [
           735,
           727,
           82,
           0.337,
           0.275
          ],
          "vectorType": "dense"
         }
        ],
        [
         801,
         776,
         83,
         0.329,
         0.262,
         0.456,
         {
          "length": 5,
          "values": [
           801,
           776,
           83,
           0.329,
           0.262
          ],
          "vectorType": "dense"
         }
        ],
        [
         718,
         725,
         79,
         0.33,
         0.264,
         0.391,
         {
          "length": 5,
          "values": [
           718,
           725,
           79,
           0.33,
           0.264
          ],
          "vectorType": "dense"
         }
        ],
        [
         804,
         750,
         88,
         0.342,
         0.275,
         0.432,
         {
          "length": 5,
          "values": [
           804,
           750,
           88,
           0.342,
           0.275
          ],
          "vectorType": "dense"
         }
        ],
        [
         968,
         777,
         94,
         0.366,
         0.29,
         0.463,
         {
          "length": 5,
          "values": [
           968,
           777,
           94,
           0.366,
           0.29
          ],
          "vectorType": "dense"
         }
        ],
        [
         741,
         758,
         76,
         0.338,
         0.256,
         0.407,
         {
          "length": 5,
          "values": [
           741,
           758,
           76,
           0.338,
           0.256
          ],
          "vectorType": "dense"
         }
        ],
        [
         892,
         821,
         89,
         0.354,
         0.274,
         0.458,
         {
          "length": 5,
          "values": [
           892,
           821,
           89,
           0.354,
           0.274
          ],
          "vectorType": "dense"
         }
        ],
        [
         724,
         846,
         68,
         0.325,
         0.263,
         0.411,
         {
          "length": 5,
          "values": [
           724,
           846,
           68,
           0.325,
           0.263
          ],
          "vectorType": "dense"
         }
        ],
        [
         741,
         666,
         89,
         0.322,
         0.251,
         0.411,
         {
          "length": 5,
          "values": [
           741,
           666,
           89,
           0.322,
           0.251
          ],
          "vectorType": "dense"
         }
        ],
        [
         794,
         813,
         88,
         0.337,
         0.287,
         0.425,
         {
          "length": 5,
          "values": [
           794,
           813,
           88,
           0.337,
           0.287
          ],
          "vectorType": "dense"
         }
        ],
        [
         683,
         720,
         71,
         0.322,
         0.254,
         0.387,
         {
          "length": 5,
          "values": [
           683,
           720,
           71,
           0.322,
           0.254
          ],
          "vectorType": "dense"
         }
        ],
        [
         725,
         829,
         78,
         0.337,
         0.274,
         0.405,
         {
          "length": 5,
          "values": [
           725,
           829,
           78,
           0.337,
           0.274
          ],
          "vectorType": "dense"
         }
        ],
        [
         782,
         944,
         66,
         0.336,
         0.268,
         0.433,
         {
          "length": 5,
          "values": [
           782,
           944,
           66,
           0.336,
           0.268
          ],
          "vectorType": "dense"
         }
        ],
        [
         816,
         844,
         75,
         0.328,
         0.263,
         0.426,
         {
          "length": 5,
          "values": [
           816,
           844,
           75,
           0.328,
           0.263
          ],
          "vectorType": "dense"
         }
        ],
        [
         753,
         699,
         83,
         0.327,
         0.259,
         0.419,
         {
          "length": 5,
          "values": [
           753,
           699,
           83,
           0.327,
           0.259
          ],
          "vectorType": "dense"
         }
        ],
        [
         673,
         783,
         73,
         0.325,
         0.256,
         0.39,
         {
          "length": 5,
          "values": [
           673,
           783,
           73,
           0.325,
           0.256
          ],
          "vectorType": "dense"
         }
        ],
        [
         773,
         788,
         76,
         0.331,
         0.267,
         0.424,
         {
          "length": 5,
          "values": [
           773,
           788,
           76,
           0.331,
           0.267
          ],
          "vectorType": "dense"
         }
        ],
        [
         849,
         805,
         79,
         0.337,
         0.27,
         0.455,
         {
          "length": 5,
          "values": [
           849,
           805,
           79,
           0.337,
           0.27
          ],
          "vectorType": "dense"
         }
        ],
        [
         768,
         899,
         70,
         0.339,
         0.277,
         0.424,
         {
          "length": 5,
          "values": [
           768,
           899,
           70,
           0.339,
           0.277
          ],
          "vectorType": "dense"
         }
        ],
        [
         820,
         825,
         86,
         0.351,
         0.269,
         0.435,
         {
          "length": 5,
          "values": [
           820,
           825,
           86,
           0.351,
           0.269
          ],
          "vectorType": "dense"
         }
        ],
        [
         716,
         834,
         66,
         0.319,
         0.268,
         0.422,
         {
          "length": 5,
          "values": [
           716,
           834,
           66,
           0.319,
           0.268
          ],
          "vectorType": "dense"
         }
        ],
        [
         868,
         794,
         90,
         0.342,
         0.28,
         0.464,
         {
          "length": 5,
          "values": [
           868,
           794,
           90,
           0.342,
           0.28
          ],
          "vectorType": "dense"
         }
        ],
        [
         749,
         801,
         80,
         0.336,
         0.257,
         0.432,
         {
          "length": 5,
          "values": [
           749,
           801,
           80,
           0.336,
           0.257
          ],
          "vectorType": "dense"
         }
        ],
        [
         870,
         782,
         78,
         0.349,
         0.28,
         0.457,
         {
          "length": 5,
          "values": [
           870,
           782,
           78,
           0.349,
           0.28
          ],
          "vectorType": "dense"
         }
        ],
        [
         813,
         812,
         76,
         0.341,
         0.27,
         0.433,
         {
          "length": 5,
          "values": [
           813,
           812,
           76,
           0.341,
           0.27
          ],
          "vectorType": "dense"
         }
        ],
        [
         822,
         675,
         95,
         0.329,
         0.274,
         0.449,
         {
          "length": 5,
          "values": [
           822,
           675,
           95,
           0.329,
           0.274
          ],
          "vectorType": "dense"
         }
        ],
        [
         758,
         772,
         78,
         0.331,
         0.264,
         0.435,
         {
          "length": 5,
          "values": [
           758,
           772,
           78,
           0.331,
           0.264
          ],
          "vectorType": "dense"
         }
        ],
        [
         735,
         719,
         82,
         0.332,
         0.255,
         0.409,
         {
          "length": 5,
          "values": [
           735,
           719,
           82,
           0.332,
           0.255
          ],
          "vectorType": "dense"
         }
        ],
        [
         757,
         971,
         62,
         0.332,
         0.271,
         0.411,
         {
          "length": 5,
          "values": [
           757,
           971,
           62,
           0.332,
           0.271
          ],
          "vectorType": "dense"
         }
        ],
        [
         766,
         732,
         89,
         0.334,
         0.274,
         0.425,
         {
          "length": 5,
          "values": [
           766,
           732,
           89,
           0.334,
           0.274
          ],
          "vectorType": "dense"
         }
        ],
        [
         820,
         751,
         88,
         0.348,
         0.276,
         0.432,
         {
          "length": 5,
          "values": [
           820,
           751,
           88,
           0.348,
           0.276
          ],
          "vectorType": "dense"
         }
        ],
        [
         730,
         833,
         75,
         0.327,
         0.258,
         0.42,
         {
          "length": 5,
          "values": [
           730,
           833,
           75,
           0.327,
           0.258
          ],
          "vectorType": "dense"
         }
        ],
        [
         801,
         683,
         96,
         0.347,
         0.287,
         0.425,
         {
          "length": 5,
          "values": [
           801,
           683,
           96,
           0.347,
           0.287
          ],
          "vectorType": "dense"
         }
        ],
        [
         834,
         731,
         97,
         0.334,
         0.264,
         0.445,
         {
          "length": 5,
          "values": [
           834,
           731,
           97,
           0.334,
           0.264
          ],
          "vectorType": "dense"
         }
        ],
        [
         930,
         767,
         97,
         0.363,
         0.285,
         0.461,
         {
          "length": 5,
          "values": [
           930,
           767,
           97,
           0.363,
           0.285
          ],
          "vectorType": "dense"
         }
        ],
        [
         771,
         727,
         93,
         0.34,
         0.26,
         0.412,
         {
          "length": 5,
          "values": [
           771,
           727,
           93,
           0.34,
           0.26
          ],
          "vectorType": "dense"
         }
        ],
        [
         865,
         812,
         85,
         0.347,
         0.267,
         0.447,
         {
          "length": 5,
          "values": [
           865,
           812,
           85,
           0.347,
           0.267
          ],
          "vectorType": "dense"
         }
        ],
        [
         691,
         797,
         67,
         0.327,
         0.263,
         0.397,
         {
          "length": 5,
          "values": [
           691,
           797,
           67,
           0.327,
           0.263
          ],
          "vectorType": "dense"
         }
        ],
        [
         731,
         679,
         88,
         0.332,
         0.263,
         0.416,
         {
          "length": 5,
          "values": [
           731,
           679,
           88,
           0.332,
           0.263
          ],
          "vectorType": "dense"
         }
        ],
        [
         756,
         792,
         78,
         0.325,
         0.272,
         0.424,
         {
          "length": 5,
          "values": [
           756,
           792,
           78,
           0.325,
           0.272
          ],
          "vectorType": "dense"
         }
        ],
        [
         746,
         790,
         76,
         0.324,
         0.259,
         0.422,
         {
          "length": 5,
          "values": [
           746,
           790,
           76,
           0.324,
           0.259
          ],
          "vectorType": "dense"
         }
        ],
        [
         781,
         762,
         83,
         0.337,
         0.269,
         0.431,
         {
          "length": 5,
          "values": [
           781,
           762,
           83,
           0.337,
           0.269
          ],
          "vectorType": "dense"
         }
        ],
        [
         689,
         856,
         61,
         0.314,
         0.255,
         0.42,
         {
          "length": 5,
          "values": [
           689,
           856,
           61,
           0.314,
           0.255
          ],
          "vectorType": "dense"
         }
        ],
        [
         835,
         784,
         80,
         0.338,
         0.278,
         0.446,
         {
          "length": 5,
          "values": [
           835,
           784,
           80,
           0.338,
           0.278
          ],
          "vectorType": "dense"
         }
        ],
        [
         809,
         754,
         87,
         0.348,
         0.284,
         0.463,
         {
          "length": 5,
          "values": [
           809,
           754,
           87,
           0.348,
           0.284
          ],
          "vectorType": "dense"
         }
        ],
        [
         746,
         872,
         71,
         0.338,
         0.262,
         0.418,
         {
          "length": 5,
          "values": [
           746,
           872,
           71,
           0.338,
           0.262
          ],
          "vectorType": "dense"
         }
        ],
        [
         696,
         856,
         77,
         0.332,
         0.256,
         0.421,
         {
          "length": 5,
          "values": [
           696,
           856,
           77,
           0.332,
           0.256
          ],
          "vectorType": "dense"
         }
        ],
        [
         769,
         674,
         90,
         0.333,
         0.265,
         0.435,
         {
          "length": 5,
          "values": [
           769,
           674,
           90,
           0.333,
           0.265
          ],
          "vectorType": "dense"
         }
        ],
        [
         729,
         800,
         74,
         0.327,
         0.269,
         0.434,
         {
          "length": 5,
          "values": [
           729,
           800,
           74,
           0.327,
           0.269
          ],
          "vectorType": "dense"
         }
        ],
        [
         910,
         805,
         95,
         0.357,
         0.281,
         0.454,
         {
          "length": 5,
          "values": [
           910,
           805,
           95,
           0.357,
           0.281
          ],
          "vectorType": "dense"
         }
        ],
        [
         703,
         714,
         79,
         0.324,
         0.27,
         0.44,
         {
          "length": 5,
          "values": [
           703,
           714,
           79,
           0.324,
           0.27
          ],
          "vectorType": "dense"
         }
        ],
        [
         741,
         645,
         99,
         0.322,
         0.262,
         0.425,
         {
          "length": 5,
          "values": [
           741,
           645,
           99,
           0.322,
           0.262
          ],
          "vectorType": "dense"
         }
        ],
        [
         820,
         889,
         73,
         0.339,
         0.261,
         0.446,
         {
          "length": 5,
          "values": [
           820,
           889,
           73,
           0.339,
           0.261
          ],
          "vectorType": "dense"
         }
        ],
        [
         790,
         642,
         93,
         0.334,
         0.271,
         0.453,
         {
          "length": 5,
          "values": [
           790,
           642,
           93,
           0.334,
           0.271
          ],
          "vectorType": "dense"
         }
        ],
        [
         740,
         862,
         67,
         0.333,
         0.267,
         0.411,
         {
          "length": 5,
          "values": [
           740,
           862,
           67,
           0.333,
           0.267
          ],
          "vectorType": "dense"
         }
        ],
        [
         723,
         787,
         71,
         0.321,
         0.272,
         0.428,
         {
          "length": 5,
          "values": [
           723,
           787,
           71,
           0.321,
           0.272
          ],
          "vectorType": "dense"
         }
        ],
        [
         717,
         732,
         83,
         0.339,
         0.272,
         0.409,
         {
          "length": 5,
          "values": [
           717,
           732,
           83,
           0.339,
           0.272
          ],
          "vectorType": "dense"
         }
        ],
        [
         693,
         609,
         89,
         0.322,
         0.256,
         0.408,
         {
          "length": 5,
          "values": [
           693,
           609,
           89,
           0.322,
           0.256
          ],
          "vectorType": "dense"
         }
        ],
        [
         701,
         935,
         56,
         0.32,
         0.263,
         0.396,
         {
          "length": 5,
          "values": [
           701,
           935,
           56,
           0.32,
           0.263
          ],
          "vectorType": "dense"
         }
        ],
        [
         761,
         643,
         95,
         0.325,
         0.27,
         0.409,
         {
          "length": 5,
          "values": [
           761,
           643,
           95,
           0.325,
           0.27
          ],
          "vectorType": "dense"
         }
        ],
        [
         685,
         755,
         71,
         0.326,
         0.253,
         0.395,
         {
          "length": 5,
          "values": [
           685,
           755,
           71,
           0.326,
           0.253
          ],
          "vectorType": "dense"
         }
        ],
        [
         726,
         697,
         81,
         0.331,
         0.259,
         0.423,
         {
          "length": 5,
          "values": [
           726,
           697,
           81,
           0.331,
           0.259
          ],
          "vectorType": "dense"
         }
        ],
        [
         688,
         662,
         83,
         0.323,
         0.259,
         0.391,
         {
          "length": 5,
          "values": [
           688,
           662,
           83,
           0.323,
           0.259
          ],
          "vectorType": "dense"
         }
        ],
        [
         722,
         648,
         83,
         0.322,
         0.258,
         0.416,
         {
          "length": 5,
          "values": [
           722,
           648,
           83,
           0.322,
           0.258
          ],
          "vectorType": "dense"
         }
        ],
        [
         886,
         789,
         95,
         0.355,
         0.276,
         0.45,
         {
          "length": 5,
          "values": [
           886,
           789,
           95,
           0.355,
           0.276
          ],
          "vectorType": "dense"
         }
        ],
        [
         772,
         658,
         88,
         0.33,
         0.262,
         0.407,
         {
          "length": 5,
          "values": [
           772,
           658,
           88,
           0.33,
           0.262
          ],
          "vectorType": "dense"
         }
        ],
        [
         807,
         726,
         88,
         0.348,
         0.27,
         0.423,
         {
          "length": 5,
          "values": [
           807,
           726,
           88,
           0.348,
           0.27
          ],
          "vectorType": "dense"
         }
        ],
        [
         680,
         769,
         67,
         0.322,
         0.259,
         0.4,
         {
          "length": 5,
          "values": [
           680,
           769,
           67,
           0.322,
           0.259
          ],
          "vectorType": "dense"
         }
        ],
        [
         684,
         726,
         82,
         0.333,
         0.257,
         0.391,
         {
          "length": 5,
          "values": [
           684,
           726,
           82,
           0.333,
           0.257
          ],
          "vectorType": "dense"
         }
        ],
        [
         699,
         751,
         69,
         0.317,
         0.256,
         0.391,
         {
          "length": 5,
          "values": [
           699,
           751,
           69,
           0.317,
           0.256
          ],
          "vectorType": "dense"
         }
        ],
        [
         649,
         745,
         75,
         0.319,
         0.261,
         0.396,
         {
          "length": 5,
          "values": [
           649,
           745,
           75,
           0.319,
           0.261
          ],
          "vectorType": "dense"
         }
        ],
        [
         805,
         634,
         100,
         0.339,
         0.27,
         0.423,
         {
          "length": 5,
          "values": [
           805,
           634,
           100,
           0.339,
           0.27
          ],
          "vectorType": "dense"
         }
        ],
        [
         750,
         936,
         67,
         0.329,
         0.274,
         0.425,
         {
          "length": 5,
          "values": [
           750,
           936,
           67,
           0.329,
           0.274
          ],
          "vectorType": "dense"
         }
        ],
        [
         865,
         858,
         79,
         0.329,
         0.267,
         0.468,
         {
          "length": 5,
          "values": [
           865,
           858,
           79,
           0.329,
           0.267
          ],
          "vectorType": "dense"
         }
        ],
        [
         775,
         705,
         80,
         0.331,
         0.265,
         0.407,
         {
          "length": 5,
          "values": [
           775,
           705,
           80,
           0.331,
           0.265
          ],
          "vectorType": "dense"
         }
        ],
        [
         639,
         673,
         81,
         0.322,
         0.252,
         0.386,
         {
          "length": 5,
          "values": [
           639,
           673,
           81,
           0.322,
           0.252
          ],
          "vectorType": "dense"
         }
        ],
        [
         836,
         734,
         92,
         0.341,
         0.282,
         0.429,
         {
          "length": 5,
          "values": [
           836,
           734,
           92,
           0.341,
           0.282
          ],
          "vectorType": "dense"
         }
        ],
        [
         615,
         899,
         51,
         0.31,
         0.253,
         0.393,
         {
          "length": 5,
          "values": [
           615,
           899,
           51,
           0.31,
           0.253
          ],
          "vectorType": "dense"
         }
        ],
        [
         803,
         668,
         96,
         0.343,
         0.27,
         0.434,
         {
          "length": 5,
          "values": [
           803,
           668,
           96,
           0.343,
           0.27
          ],
          "vectorType": "dense"
         }
        ],
        [
         842,
         830,
         78,
         0.345,
         0.281,
         0.432,
         {
          "length": 5,
          "values": [
           842,
           830,
           78,
           0.345,
           0.281
          ],
          "vectorType": "dense"
         }
        ],
        [
         949,
         768,
         98,
         0.36,
         0.282,
         0.472,
         {
          "length": 5,
          "values": [
           949,
           768,
           98,
           0.36,
           0.282
          ],
          "vectorType": "dense"
         }
        ],
        [
         789,
         665,
         89,
         0.328,
         0.268,
         0.458,
         {
          "length": 5,
          "values": [
           789,
           665,
           89,
           0.328,
           0.268
          ],
          "vectorType": "dense"
         }
        ],
        [
         865,
         831,
         83,
         0.333,
         0.268,
         0.457,
         {
          "length": 5,
          "values": [
           865,
           831,
           83,
           0.333,
           0.268
          ],
          "vectorType": "dense"
         }
        ],
        [
         750,
         907,
         76,
         0.331,
         0.25,
         0.418,
         {
          "length": 5,
          "values": [
           750,
           907,
           76,
           0.331,
           0.25
          ],
          "vectorType": "dense"
         }
        ],
        [
         858,
         857,
         80,
         0.351,
         0.276,
         0.444,
         {
          "length": 5,
          "values": [
           858,
           857,
           80,
           0.351,
           0.276
          ],
          "vectorType": "dense"
         }
        ],
        [
         833,
         923,
         68,
         0.345,
         0.275,
         0.455,
         {
          "length": 5,
          "values": [
           833,
           923,
           68,
           0.345,
           0.275
          ],
          "vectorType": "dense"
         }
        ],
        [
         827,
         844,
         72,
         0.337,
         0.272,
         0.449,
         {
          "length": 5,
          "values": [
           827,
           844,
           72,
           0.337,
           0.272
          ],
          "vectorType": "dense"
         }
        ],
        [
         718,
         700,
         83,
         0.329,
         0.264,
         0.406,
         {
          "length": 5,
          "values": [
           718,
           700,
           83,
           0.329,
           0.264
          ],
          "vectorType": "dense"
         }
        ],
        [
         803,
         698,
         92,
         0.342,
         0.267,
         0.436,
         {
          "length": 5,
          "values": [
           803,
           698,
           92,
           0.342,
           0.267
          ],
          "vectorType": "dense"
         }
        ],
        [
         720,
         905,
         58,
         0.322,
         0.259,
         0.397,
         {
          "length": 5,
          "values": [
           720,
           905,
           58,
           0.322,
           0.259
          ],
          "vectorType": "dense"
         }
        ],
        [
         761,
         684,
         93,
         0.332,
         0.262,
         0.423,
         {
          "length": 5,
          "values": [
           761,
           684,
           93,
           0.332,
           0.262
          ],
          "vectorType": "dense"
         }
        ],
        [
         634,
         757,
         67,
         0.321,
         0.248,
         0.387,
         {
          "length": 5,
          "values": [
           634,
           757,
           67,
           0.321,
           0.248
          ],
          "vectorType": "dense"
         }
        ],
        [
         780,
         715,
         92,
         0.332,
         0.266,
         0.431,
         {
          "length": 5,
          "values": [
           780,
           715,
           92,
           0.332,
           0.266
          ],
          "vectorType": "dense"
         }
        ],
        [
         635,
         769,
         67,
         0.313,
         0.249,
         0.392,
         {
          "length": 5,
          "values": [
           635,
           769,
           67,
           0.313,
           0.249
          ],
          "vectorType": "dense"
         }
        ],
        [
         684,
         731,
         71,
         0.317,
         0.249,
         0.409,
         {
          "length": 5,
          "values": [
           684,
           731,
           71,
           0.317,
           0.249
          ],
          "vectorType": "dense"
         }
        ],
        [
         897,
         808,
         101,
         0.353,
         0.268,
         0.458,
         {
          "length": 5,
          "values": [
           897,
           808,
           101,
           0.353,
           0.268
          ],
          "vectorType": "dense"
         }
        ],
        [
         793,
         742,
         91,
         0.343,
         0.27,
         0.433,
         {
          "length": 5,
          "values": [
           793,
           742,
           91,
           0.343,
           0.27
          ],
          "vectorType": "dense"
         }
        ],
        [
         840,
         781,
         86,
         0.345,
         0.267,
         0.443,
         {
          "length": 5,
          "values": [
           840,
           781,
           86,
           0.345,
           0.267
          ],
          "vectorType": "dense"
         }
        ],
        [
         680,
         744,
         72,
         0.321,
         0.26,
         0.401,
         {
          "length": 5,
          "values": [
           680,
           744,
           72,
           0.321,
           0.26
          ],
          "vectorType": "dense"
         }
        ],
        [
         768,
         705,
         87,
         0.342,
         0.273,
         0.414,
         {
          "length": 5,
          "values": [
           768,
           705,
           87,
           0.342,
           0.273
          ],
          "vectorType": "dense"
         }
        ],
        [
         698,
         823,
         63,
         0.331,
         0.27,
         0.396,
         {
          "length": 5,
          "values": [
           698,
           823,
           63,
           0.331,
           0.27
          ],
          "vectorType": "dense"
         }
        ],
        [
         850,
         770,
         91,
         0.357,
         0.27,
         0.438,
         {
          "length": 5,
          "values": [
           850,
           770,
           91,
           0.357,
           0.27
          ],
          "vectorType": "dense"
         }
        ],
        [
         855,
         659,
         105,
         0.344,
         0.278,
         0.46,
         {
          "length": 5,
          "values": [
           855,
           659,
           105,
           0.344,
           0.278
          ],
          "vectorType": "dense"
         }
        ],
        [
         714,
         842,
         70,
         0.32,
         0.258,
         0.405,
         {
          "length": 5,
          "values": [
           714,
           842,
           70,
           0.32,
           0.258
          ],
          "vectorType": "dense"
         }
        ],
        [
         860,
         794,
         89,
         0.329,
         0.266,
         0.457,
         {
          "length": 5,
          "values": [
           860,
           794,
           89,
           0.329,
           0.266
          ],
          "vectorType": "dense"
         }
        ],
        [
         719,
         823,
         67,
         0.328,
         0.26,
         0.403,
         {
          "length": 5,
          "values": [
           719,
           823,
           67,
           0.328,
           0.26
          ],
          "vectorType": "dense"
         }
        ],
        [
         736,
         743,
         77,
         0.33,
         0.268,
         0.413,
         {
          "length": 5,
          "values": [
           736,
           743,
           77,
           0.33,
           0.268
          ],
          "vectorType": "dense"
         }
        ],
        [
         717,
         685,
         84,
         0.33,
         0.263,
         0.417,
         {
          "length": 5,
          "values": [
           717,
           685,
           84,
           0.33,
           0.263
          ],
          "vectorType": "dense"
         }
        ],
        [
         907,
         740,
         101,
         0.349,
         0.284,
         0.475,
         {
          "length": 5,
          "values": [
           907,
           740,
           101,
           0.349,
           0.284
          ],
          "vectorType": "dense"
         }
        ],
        [
         743,
         820,
         71,
         0.323,
         0.268,
         0.405,
         {
          "length": 5,
          "values": [
           743,
           820,
           71,
           0.323,
           0.268
          ],
          "vectorType": "dense"
         }
        ],
        [
         961,
         809,
         95,
         0.36,
         0.289,
         0.491,
         {
          "length": 5,
          "values": [
           961,
           809,
           95,
           0.36,
           0.289
          ],
          "vectorType": "dense"
         }
        ],
        [
         724,
         683,
         88,
         0.323,
         0.259,
         0.416,
         {
          "length": 5,
          "values": [
           724,
           683,
           88,
           0.323,
           0.259
          ],
          "vectorType": "dense"
         }
        ],
        [
         791,
         715,
         86,
         0.331,
         0.263,
         0.446,
         {
          "length": 5,
          "values": [
           791,
           715,
           86,
           0.331,
           0.263
          ],
          "vectorType": "dense"
         }
        ],
        [
         694,
         886,
         69,
         0.318,
         0.245,
         0.395,
         {
          "length": 5,
          "values": [
           694,
           886,
           69,
           0.318,
           0.245
          ],
          "vectorType": "dense"
         }
        ],
        [
         699,
         778,
         68,
         0.316,
         0.254,
         0.401,
         {
          "length": 5,
          "values": [
           699,
           778,
           68,
           0.316,
           0.254
          ],
          "vectorType": "dense"
         }
        ],
        [
         853,
         892,
         74,
         0.344,
         0.267,
         0.445,
         {
          "length": 5,
          "values": [
           853,
           892,
           74,
           0.344,
           0.267
          ],
          "vectorType": "dense"
         }
        ],
        [
         591,
         928,
         43,
         0.3,
         0.24,
         0.375,
         {
          "length": 5,
          "values": [
           591,
           928,
           43,
           0.3,
           0.24
          ],
          "vectorType": "dense"
         }
        ],
        [
         751,
         692,
         91,
         0.333,
         0.266,
         0.421,
         {
          "length": 5,
          "values": [
           751,
           692,
           91,
           0.333,
           0.266
          ],
          "vectorType": "dense"
         }
        ],
        [
         805,
         677,
         87,
         0.336,
         0.263,
         0.431,
         {
          "length": 5,
          "values": [
           805,
           677,
           87,
           0.336,
           0.263
          ],
          "vectorType": "dense"
         }
        ],
        [
         836,
         867,
         83,
         0.336,
         0.274,
         0.427,
         {
          "length": 5,
          "values": [
           836,
           867,
           83,
           0.336,
           0.274
          ],
          "vectorType": "dense"
         }
        ],
        [
         574,
         556,
         85,
         0.303,
         0.243,
         0.368,
         {
          "length": 5,
          "values": [
           574,
           556,
           85,
           0.303,
           0.243
          ],
          "vectorType": "dense"
         }
        ],
        [
         714,
         873,
         68,
         0.329,
         0.256,
         0.419,
         {
          "length": 5,
          "values": [
           714,
           873,
           68,
           0.329,
           0.256
          ],
          "vectorType": "dense"
         }
        ],
        [
         801,
         758,
         90,
         0.341,
         0.277,
         0.431,
         {
          "length": 5,
          "values": [
           801,
           758,
           90,
           0.341,
           0.277
          ],
          "vectorType": "dense"
         }
        ],
        [
         711,
         716,
         83,
         0.326,
         0.258,
         0.401,
         {
          "length": 5,
          "values": [
           711,
           716,
           83,
           0.326,
           0.258
          ],
          "vectorType": "dense"
         }
        ],
        [
         642,
         754,
         66,
         0.314,
         0.247,
         0.374,
         {
          "length": 5,
          "values": [
           642,
           754,
           66,
           0.314,
           0.247
          ],
          "vectorType": "dense"
         }
        ],
        [
         877,
         716,
         101,
         0.356,
         0.271,
         0.453,
         {
          "length": 5,
          "values": [
           877,
           716,
           101,
           0.356,
           0.271
          ],
          "vectorType": "dense"
         }
        ],
        [
         768,
         643,
         96,
         0.327,
         0.254,
         0.417,
         {
          "length": 5,
          "values": [
           768,
           643,
           96,
           0.327,
           0.254
          ],
          "vectorType": "dense"
         }
        ],
        [
         791,
         697,
         86,
         0.343,
         0.261,
         0.419,
         {
          "length": 5,
          "values": [
           791,
           697,
           86,
           0.343,
           0.261
          ],
          "vectorType": "dense"
         }
        ],
        [
         753,
         801,
         75,
         0.338,
         0.267,
         0.42,
         {
          "length": 5,
          "values": [
           753,
           801,
           75,
           0.338,
           0.267
          ],
          "vectorType": "dense"
         }
        ],
        [
         678,
         831,
         64,
         0.333,
         0.261,
         0.388,
         {
          "length": 5,
          "values": [
           678,
           831,
           64,
           0.333,
           0.261
          ],
          "vectorType": "dense"
         }
        ],
        [
         795,
         637,
         93,
         0.344,
         0.271,
         0.41,
         {
          "length": 5,
          "values": [
           795,
           637,
           93,
           0.344,
           0.271
          ],
          "vectorType": "dense"
         }
        ],
        [
         755,
         638,
         100,
         0.338,
         0.264,
         0.425,
         {
          "length": 5,
          "values": [
           755,
           638,
           100,
           0.338,
           0.264
          ],
          "vectorType": "dense"
         }
        ],
        [
         876,
         796,
         85,
         0.35,
         0.279,
         0.454,
         {
          "length": 5,
          "values": [
           876,
           796,
           85,
           0.35,
           0.279
          ],
          "vectorType": "dense"
         }
        ],
        [
         715,
         852,
         63,
         0.32,
         0.265,
         0.404,
         {
          "length": 5,
          "values": [
           715,
           852,
           63,
           0.32,
           0.265
          ],
          "vectorType": "dense"
         }
        ],
        [
         826,
         969,
         71,
         0.33,
         0.266,
         0.454,
         {
          "length": 5,
          "values": [
           826,
           969,
           71,
           0.33,
           0.266
          ],
          "vectorType": "dense"
         }
        ],
        [
         894,
         826,
         86,
         0.349,
         0.279,
         0.455,
         {
          "length": 5,
          "values": [
           894,
           826,
           86,
           0.349,
           0.279
          ],
          "vectorType": "dense"
         }
        ],
        [
         851,
         644,
         99,
         0.341,
         0.282,
         0.433,
         {
          "length": 5,
          "values": [
           851,
           644,
           99,
           0.341,
           0.282
          ],
          "vectorType": "dense"
         }
        ],
        [
         819,
         674,
         98,
         0.346,
         0.267,
         0.423,
         {
          "length": 5,
          "values": [
           819,
           674,
           98,
           0.346,
           0.267
          ],
          "vectorType": "dense"
         }
        ],
        [
         708,
         565,
         101,
         0.331,
         0.26,
         0.409,
         {
          "length": 5,
          "values": [
           708,
           565,
           101,
           0.331,
           0.26
          ],
          "vectorType": "dense"
         }
        ],
        [
         667,
         773,
         67,
         0.309,
         0.246,
         0.403,
         {
          "length": 5,
          "values": [
           667,
           773,
           67,
           0.309,
           0.246
          ],
          "vectorType": "dense"
         }
        ],
        [
         859,
         665,
         93,
         0.345,
         0.277,
         0.444,
         {
          "length": 5,
          "values": [
           859,
           665,
           93,
           0.345,
           0.277
          ],
          "vectorType": "dense"
         }
        ],
        [
         706,
         759,
         67,
         0.321,
         0.246,
         0.413,
         {
          "length": 5,
          "values": [
           706,
           759,
           67,
           0.321,
           0.246
          ],
          "vectorType": "dense"
         }
        ],
        [
         856,
         798,
         81,
         0.338,
         0.268,
         0.449,
         {
          "length": 5,
          "values": [
           856,
           798,
           81,
           0.338,
           0.268
          ],
          "vectorType": "dense"
         }
        ],
        [
         709,
         774,
         78,
         0.33,
         0.253,
         0.408,
         {
          "length": 5,
          "values": [
           709,
           774,
           78,
           0.33,
           0.253
          ],
          "vectorType": "dense"
         }
        ],
        [
         739,
         837,
         74,
         0.321,
         0.249,
         0.412,
         {
          "length": 5,
          "values": [
           739,
           837,
           74,
           0.321,
           0.249
          ],
          "vectorType": "dense"
         }
        ],
        [
         778,
         898,
         73,
         0.337,
         0.274,
         0.423,
         {
          "length": 5,
          "values": [
           778,
           898,
           73,
           0.337,
           0.274
          ],
          "vectorType": "dense"
         }
        ],
        [
         575,
         864,
         55,
         0.3,
         0.248,
         0.379,
         {
          "length": 5,
          "values": [
           575,
           864,
           55,
           0.3,
           0.248
          ],
          "vectorType": "dense"
         }
        ],
        [
         699,
         763,
         79,
         0.337,
         0.261,
         0.403,
         {
          "length": 5,
          "values": [
           699,
           763,
           79,
           0.337,
           0.261
          ],
          "vectorType": "dense"
         }
        ],
        [
         749,
         695,
         84,
         0.338,
         0.262,
         0.417,
         {
          "length": 5,
          "values": [
           749,
           695,
           84,
           0.338,
           0.262
          ],
          "vectorType": "dense"
         }
        ],
        [
         737,
         891,
         62,
         0.323,
         0.256,
         0.398,
         {
          "length": 5,
          "values": [
           737,
           891,
           62,
           0.323,
           0.256
          ],
          "vectorType": "dense"
         }
        ],
        [
         713,
         643,
         92,
         0.32,
         0.264,
         0.409,
         {
          "length": 5,
          "values": [
           713,
           643,
           92,
           0.32,
           0.264
          ],
          "vectorType": "dense"
         }
        ],
        [
         627,
         821,
         56,
         0.32,
         0.253,
         0.39,
         {
          "length": 5,
          "values": [
           627,
           821,
           56,
           0.32,
           0.253
          ],
          "vectorType": "dense"
         }
        ],
        [
         768,
         712,
         94,
         0.332,
         0.272,
         0.437,
         {
          "length": 5,
          "values": [
           768,
           712,
           94,
           0.332,
           0.272
          ],
          "vectorType": "dense"
         }
        ],
        [
         735,
         718,
         83,
         0.334,
         0.261,
         0.418,
         {
          "length": 5,
          "values": [
           735,
           718,
           83,
           0.334,
           0.261
          ],
          "vectorType": "dense"
         }
        ],
        [
         690,
         703,
         75,
         0.322,
         0.256,
         0.395,
         {
          "length": 5,
          "values": [
           690,
           703,
           75,
           0.322,
           0.256
          ],
          "vectorType": "dense"
         }
        ],
        [
         897,
         697,
         103,
         0.354,
         0.275,
         0.455,
         {
          "length": 5,
          "values": [
           897,
           697,
           103,
           0.354,
           0.275
          ],
          "vectorType": "dense"
         }
        ],
        [
         800,
         654,
         103,
         0.339,
         0.261,
         0.432,
         {
          "length": 5,
          "values": [
           800,
           654,
           103,
           0.339,
           0.261
          ],
          "vectorType": "dense"
         }
        ],
        [
         710,
         724,
         80,
         0.339,
         0.259,
         0.422,
         {
          "length": 5,
          "values": [
           710,
           724,
           80,
           0.339,
           0.259
          ],
          "vectorType": "dense"
         }
        ],
        [
         641,
         730,
         72,
         0.319,
         0.244,
         0.381,
         {
          "length": 5,
          "values": [
           641,
           730,
           72,
           0.319,
           0.244
          ],
          "vectorType": "dense"
         }
        ],
        [
         662,
         815,
         66,
         0.321,
         0.253,
         0.381,
         {
          "length": 5,
          "values": [
           662,
           815,
           66,
           0.321,
           0.253
          ],
          "vectorType": "dense"
         }
        ],
        [
         814,
         699,
         93,
         0.35,
         0.275,
         0.419,
         {
          "length": 5,
          "values": [
           814,
           699,
           93,
           0.35,
           0.275
          ],
          "vectorType": "dense"
         }
        ],
        [
         783,
         616,
         95,
         0.344,
         0.267,
         0.442,
         {
          "length": 5,
          "values": [
           783,
           616,
           95,
           0.344,
           0.267
          ],
          "vectorType": "dense"
         }
        ],
        [
         787,
         648,
         97,
         0.338,
         0.268,
         0.425,
         {
          "length": 5,
          "values": [
           787,
           648,
           97,
           0.338,
           0.268
          ],
          "vectorType": "dense"
         }
        ],
        [
         673,
         918,
         55,
         0.314,
         0.253,
         0.39,
         {
          "length": 5,
          "values": [
           673,
           918,
           55,
           0.314,
           0.253
          ],
          "vectorType": "dense"
         }
        ],
        [
         843,
         882,
         72,
         0.338,
         0.269,
         0.455,
         {
          "length": 5,
          "values": [
           843,
           882,
           72,
           0.338,
           0.269
          ],
          "vectorType": "dense"
         }
        ],
        [
         813,
         828,
         78,
         0.327,
         0.261,
         0.43,
         {
          "length": 5,
          "values": [
           813,
           828,
           78,
           0.327,
           0.261
          ],
          "vectorType": "dense"
         }
        ],
        [
         691,
         730,
         75,
         0.327,
         0.261,
         0.405,
         {
          "length": 5,
          "values": [
           691,
           730,
           75,
           0.327,
           0.261
          ],
          "vectorType": "dense"
         }
        ],
        [
         818,
         677,
         92,
         0.341,
         0.267,
         0.442,
         {
          "length": 5,
          "values": [
           818,
           677,
           92,
           0.341,
           0.267
          ],
          "vectorType": "dense"
         }
        ],
        [
         729,
         643,
         88,
         0.324,
         0.26,
         0.412,
         {
          "length": 5,
          "values": [
           729,
           643,
           88,
           0.324,
           0.26
          ],
          "vectorType": "dense"
         }
        ],
        [
         687,
         829,
         63,
         0.319,
         0.248,
         0.38,
         {
          "length": 5,
          "values": [
           687,
           829,
           63,
           0.319,
           0.248
          ],
          "vectorType": "dense"
         }
        ],
        [
         772,
         745,
         82,
         0.334,
         0.266,
         0.439,
         {
          "length": 5,
          "values": [
           772,
           745,
           82,
           0.334,
           0.266
          ],
          "vectorType": "dense"
         }
        ],
        [
         777,
         701,
         88,
         0.336,
         0.261,
         0.43,
         {
          "length": 5,
          "values": [
           777,
           701,
           88,
           0.336,
           0.261
          ],
          "vectorType": "dense"
         }
        ],
        [
         798,
         795,
         83,
         0.334,
         0.268,
         0.451,
         {
          "length": 5,
          "values": [
           798,
           795,
           83,
           0.334,
           0.268
          ],
          "vectorType": "dense"
         }
        ],
        [
         735,
         850,
         66,
         0.324,
         0.262,
         0.419,
         {
          "length": 5,
          "values": [
           735,
           850,
           66,
           0.324,
           0.262
          ],
          "vectorType": "dense"
         }
        ],
        [
         897,
         821,
         91,
         0.35,
         0.278,
         0.458,
         {
          "length": 5,
          "values": [
           897,
           821,
           91,
           0.35,
           0.278
          ],
          "vectorType": "dense"
         }
        ],
        [
         923,
         906,
         73,
         0.354,
         0.292,
         0.483,
         {
          "length": 5,
          "values": [
           923,
           906,
           73,
           0.354,
           0.292
          ],
          "vectorType": "dense"
         }
        ],
        [
         724,
         876,
         66,
         0.32,
         0.26,
         0.409,
         {
          "length": 5,
          "values": [
           724,
           876,
           66,
           0.32,
           0.26
          ],
          "vectorType": "dense"
         }
        ],
        [
         742,
         744,
         76,
         0.326,
         0.264,
         0.423,
         {
          "length": 5,
          "values": [
           742,
           744,
           76,
           0.326,
           0.264
          ],
          "vectorType": "dense"
         }
        ],
        [
         847,
         769,
         93,
         0.347,
         0.271,
         0.451,
         {
          "length": 5,
          "values": [
           847,
           769,
           93,
           0.347,
           0.271
          ],
          "vectorType": "dense"
         }
        ],
        [
         729,
         858,
         65,
         0.318,
         0.266,
         0.409,
         {
          "length": 5,
          "values": [
           729,
           858,
           65,
           0.318,
           0.266
          ],
          "vectorType": "dense"
         }
        ],
        [
         758,
         744,
         86,
         0.323,
         0.255,
         0.425,
         {
          "length": 5,
          "values": [
           758,
           744,
           86,
           0.323,
           0.255
          ],
          "vectorType": "dense"
         }
        ],
        [
         740,
         806,
         68,
         0.319,
         0.251,
         0.426,
         {
          "length": 5,
          "values": [
           740,
           806,
           68,
           0.319,
           0.251
          ],
          "vectorType": "dense"
         }
        ],
        [
         771,
         766,
         85,
         0.337,
         0.272,
         0.433,
         {
          "length": 5,
          "values": [
           771,
           766,
           85,
           0.337,
           0.272
          ],
          "vectorType": "dense"
         }
        ],
        [
         670,
         812,
         68,
         0.319,
         0.253,
         0.396,
         {
          "length": 5,
          "values": [
           670,
           812,
           68,
           0.319,
           0.253
          ],
          "vectorType": "dense"
         }
        ],
        [
         642,
         713,
         82,
         0.323,
         0.249,
         0.387,
         {
          "length": 5,
          "values": [
           642,
           713,
           82,
           0.323,
           0.249
          ],
          "vectorType": "dense"
         }
        ],
        [
         804,
         713,
         95,
         0.334,
         0.267,
         0.435,
         {
          "length": 5,
          "values": [
           804,
           713,
           95,
           0.334,
           0.267
          ],
          "vectorType": "dense"
         }
        ],
        [
         884,
         645,
         102,
         0.345,
         0.264,
         0.439,
         {
          "length": 5,
          "values": [
           884,
           645,
           102,
           0.345,
           0.264
          ],
          "vectorType": "dense"
         }
        ],
        [
         746,
         719,
         86,
         0.329,
         0.26,
         0.414,
         {
          "length": 5,
          "values": [
           746,
           719,
           86,
           0.329,
           0.26
          ],
          "vectorType": "dense"
         }
        ],
        [
         657,
         858,
         62,
         0.313,
         0.247,
         0.393,
         {
          "length": 5,
          "values": [
           657,
           858,
           62,
           0.313,
           0.247
          ],
          "vectorType": "dense"
         }
        ],
        [
         789,
         812,
         79,
         0.336,
         0.252,
         0.399,
         {
          "length": 5,
          "values": [
           789,
           812,
           79,
           0.336,
           0.252
          ],
          "vectorType": "dense"
         }
        ],
        [
         927,
         627,
         116,
         0.36,
         0.288,
         0.445,
         {
          "length": 5,
          "values": [
           927,
           627,
           116,
           0.36,
           0.288
          ],
          "vectorType": "dense"
         }
        ],
        [
         799,
         748,
         90,
         0.342,
         0.266,
         0.46,
         {
          "length": 5,
          "values": [
           799,
           748,
           90,
           0.342,
           0.266
          ],
          "vectorType": "dense"
         }
        ],
        [
         814,
         684,
         93,
         0.339,
         0.27,
         0.441,
         {
          "length": 5,
          "values": [
           814,
           684,
           93,
           0.339,
           0.27
          ],
          "vectorType": "dense"
         }
        ],
        [
         672,
         887,
         62,
         0.32,
         0.258,
         0.388,
         {
          "length": 5,
          "values": [
           672,
           887,
           62,
           0.32,
           0.258
          ],
          "vectorType": "dense"
         }
        ],
        [
         890,
         968,
         73,
         0.344,
         0.275,
         0.471,
         {
          "length": 5,
          "values": [
           890,
           968,
           73,
           0.344,
           0.275
          ],
          "vectorType": "dense"
         }
        ],
        [
         767,
         753,
         80,
         0.325,
         0.263,
         0.43,
         {
          "length": 5,
          "values": [
           767,
           753,
           80,
           0.325,
           0.263
          ],
          "vectorType": "dense"
         }
        ],
        [
         864,
         869,
         82,
         0.352,
         0.28,
         0.472,
         {
          "length": 5,
          "values": [
           864,
           869,
           82,
           0.352,
           0.28
          ],
          "vectorType": "dense"
         }
        ],
        [
         792,
         754,
         85,
         0.333,
         0.265,
         0.429,
         {
          "length": 5,
          "values": [
           792,
           754,
           85,
           0.333,
           0.265
          ],
          "vectorType": "dense"
         }
        ],
        [
         810,
         714,
         95,
         0.346,
         0.271,
         0.429,
         {
          "length": 5,
          "values": [
           810,
           714,
           95,
           0.346,
           0.271
          ],
          "vectorType": "dense"
         }
        ],
        [
         794,
         913,
         74,
         0.341,
         0.272,
         0.435,
         {
          "length": 5,
          "values": [
           794,
           913,
           74,
           0.341,
           0.272
          ],
          "vectorType": "dense"
         }
        ],
        [
         792,
         745,
         85,
         0.341,
         0.267,
         0.423,
         {
          "length": 5,
          "values": [
           792,
           745,
           85,
           0.341,
           0.267
          ],
          "vectorType": "dense"
         }
        ],
        [
         764,
         904,
         65,
         0.335,
         0.256,
         0.411,
         {
          "length": 5,
          "values": [
           764,
           904,
           65,
           0.335,
           0.256
          ],
          "vectorType": "dense"
         }
        ],
        [
         978,
         839,
         95,
         0.356,
         0.286,
         0.47,
         {
          "length": 5,
          "values": [
           978,
           839,
           95,
           0.356,
           0.286
          ],
          "vectorType": "dense"
         }
        ],
        [
         825,
         765,
         85,
         0.343,
         0.274,
         0.447,
         {
          "length": 5,
          "values": [
           825,
           765,
           85,
           0.343,
           0.274
          ],
          "vectorType": "dense"
         }
        ],
        [
         950,
         816,
         90,
         0.367,
         0.288,
         0.47,
         {
          "length": 5,
          "values": [
           950,
           816,
           90,
           0.367,
           0.288
          ],
          "vectorType": "dense"
         }
        ],
        [
         968,
         897,
         82,
         0.362,
         0.294,
         0.455,
         {
          "length": 5,
          "values": [
           968,
           897,
           82,
           0.362,
           0.294
          ],
          "vectorType": "dense"
         }
        ],
        [
         823,
         827,
         79,
         0.343,
         0.275,
         0.438,
         {
          "length": 5,
          "values": [
           823,
           827,
           79,
           0.343,
           0.275
          ],
          "vectorType": "dense"
         }
        ],
        [
         731,
         797,
         79,
         0.331,
         0.262,
         0.409,
         {
          "length": 5,
          "values": [
           731,
           797,
           79,
           0.331,
           0.262
          ],
          "vectorType": "dense"
         }
        ],
        [
         938,
         944,
         72,
         0.361,
         0.278,
         0.477,
         {
          "length": 5,
          "values": [
           938,
           944,
           72,
           0.361,
           0.278
          ],
          "vectorType": "dense"
         }
        ],
        [
         879,
         930,
         77,
         0.348,
         0.288,
         0.425,
         {
          "length": 5,
          "values": [
           879,
           930,
           77,
           0.348,
           0.288
          ],
          "vectorType": "dense"
         }
        ],
        [
         798,
         729,
         86,
         0.341,
         0.257,
         0.431,
         {
          "length": 5,
          "values": [
           798,
           729,
           86,
           0.341,
           0.257
          ],
          "vectorType": "dense"
         }
        ],
        [
         740,
         826,
         73,
         0.325,
         0.246,
         0.403,
         {
          "length": 5,
          "values": [
           740,
           826,
           73,
           0.325,
           0.246
          ],
          "vectorType": "dense"
         }
        ],
        [
         748,
         880,
         69,
         0.337,
         0.27,
         0.407,
         {
          "length": 5,
          "values": [
           748,
           880,
           69,
           0.337,
           0.27
          ],
          "vectorType": "dense"
         }
        ],
        [
         738,
         902,
         67,
         0.326,
         0.266,
         0.432,
         {
          "length": 5,
          "values": [
           738,
           902,
           67,
           0.326,
           0.266
          ],
          "vectorType": "dense"
         }
        ],
        [
         807,
         738,
         94,
         0.346,
         0.263,
         0.43,
         {
          "length": 5,
          "values": [
           807,
           738,
           94,
           0.346,
           0.263
          ],
          "vectorType": "dense"
         }
        ],
        [
         871,
         814,
         87,
         0.354,
         0.277,
         0.45,
         {
          "length": 5,
          "values": [
           871,
           814,
           87,
           0.354,
           0.277
          ],
          "vectorType": "dense"
         }
        ],
        [
         947,
         813,
         91,
         0.36,
         0.27,
         0.458,
         {
          "length": 5,
          "values": [
           947,
           813,
           91,
           0.36,
           0.27
          ],
          "vectorType": "dense"
         }
        ],
        [
         708,
         830,
         65,
         0.329,
         0.251,
         0.4,
         {
          "length": 5,
          "values": [
           708,
           830,
           65,
           0.329,
           0.251
          ],
          "vectorType": "dense"
         }
        ],
        [
         793,
         888,
         69,
         0.339,
         0.267,
         0.424,
         {
          "length": 5,
          "values": [
           793,
           888,
           69,
           0.339,
           0.267
          ],
          "vectorType": "dense"
         }
        ],
        [
         752,
         815,
         76,
         0.33,
         0.254,
         0.402,
         {
          "length": 5,
          "values": [
           752,
           815,
           76,
           0.33,
           0.254
          ],
          "vectorType": "dense"
         }
        ],
        [
         907,
         780,
         91,
         0.361,
         0.269,
         0.442,
         {
          "length": 5,
          "values": [
           907,
           780,
           91,
           0.361,
           0.269
          ],
          "vectorType": "dense"
         }
        ],
        [
         925,
         747,
         97,
         0.362,
         0.278,
         0.472,
         {
          "length": 5,
          "values": [
           925,
           747,
           97,
           0.362,
           0.278
          ],
          "vectorType": "dense"
         }
        ],
        [
         887,
         771,
         95,
         0.356,
         0.27,
         0.455,
         {
          "length": 5,
          "values": [
           887,
           771,
           95,
           0.356,
           0.27
          ],
          "vectorType": "dense"
         }
        ],
        [
         733,
         842,
         69,
         0.329,
         0.257,
         0.399,
         {
          "length": 5,
          "values": [
           733,
           842,
           69,
           0.329,
           0.257
          ],
          "vectorType": "dense"
         }
        ],
        [
         848,
         974,
         71,
         0.352,
         0.283,
         0.446,
         {
          "length": 5,
          "values": [
           848,
           974,
           71,
           0.352,
           0.283
          ],
          "vectorType": "dense"
         }
        ],
        [
         861,
         908,
         83,
         0.341,
         0.275,
         0.469,
         {
          "length": 5,
          "values": [
           861,
           908,
           83,
           0.341,
           0.275
          ],
          "vectorType": "dense"
         }
        ],
        [
         711,
         826,
         70,
         0.322,
         0.256,
         0.395,
         {
          "length": 5,
          "values": [
           711,
           826,
           70,
           0.322,
           0.256
          ],
          "vectorType": "dense"
         }
        ],
        [
         908,
         676,
         100,
         0.347,
         0.277,
         0.459,
         {
          "length": 5,
          "values": [
           908,
           676,
           100,
           0.347,
           0.277
          ],
          "vectorType": "dense"
         }
        ],
        [
         840,
         661,
         103,
         0.341,
         0.266,
         0.436,
         {
          "length": 5,
          "values": [
           840,
           661,
           103,
           0.341,
           0.266
          ],
          "vectorType": "dense"
         }
        ],
        [
         851,
         815,
         78,
         0.353,
         0.279,
         0.447,
         {
          "length": 5,
          "values": [
           851,
           815,
           78,
           0.353,
           0.279
          ],
          "vectorType": "dense"
         }
        ],
        [
         836,
         718,
         94,
         0.35,
         0.278,
         0.448,
         {
          "length": 5,
          "values": [
           836,
           718,
           94,
           0.35,
           0.278
          ],
          "vectorType": "dense"
         }
        ],
        [
         747,
         920,
         67,
         0.329,
         0.257,
         0.42,
         {
          "length": 5,
          "values": [
           747,
           920,
           67,
           0.329,
           0.257
          ],
          "vectorType": "dense"
         }
        ],
        [
         777,
         870,
         75,
         0.337,
         0.277,
         0.429,
         {
          "length": 5,
          "values": [
           777,
           870,
           75,
           0.337,
           0.277
          ],
          "vectorType": "dense"
         }
        ],
        [
         865,
         711,
         96,
         0.341,
         0.272,
         0.451,
         {
          "length": 5,
          "values": [
           865,
           711,
           96,
           0.341,
           0.272
          ],
          "vectorType": "dense"
         }
        ],
        [
         1009,
         860,
         97,
         0.373,
         0.289,
         0.467,
         {
          "length": 5,
          "values": [
           1009,
           860,
           97,
           0.373,
           0.289
          ],
          "vectorType": "dense"
         }
        ],
        [
         906,
         1028,
         72,
         0.348,
         0.288,
         0.472,
         {
          "length": 5,
          "values": [
           906,
           1028,
           72,
           0.348,
           0.288
          ],
          "vectorType": "dense"
         }
        ],
        [
         747,
         882,
         69,
         0.326,
         0.261,
         0.443,
         {
          "length": 5,
          "values": [
           747,
           882,
           69,
           0.326,
           0.261
          ],
          "vectorType": "dense"
         }
        ],
        [
         691,
         852,
         64,
         0.325,
         0.263,
         0.395,
         {
          "length": 5,
          "values": [
           691,
           852,
           64,
           0.325,
           0.263
          ],
          "vectorType": "dense"
         }
        ],
        [
         823,
         675,
         97,
         0.355,
         0.267,
         0.42,
         {
          "length": 5,
          "values": [
           823,
           675,
           97,
           0.355,
           0.267
          ],
          "vectorType": "dense"
         }
        ],
        [
         856,
         921,
         64,
         0.348,
         0.282,
         0.433,
         {
          "length": 5,
          "values": [
           856,
           921,
           64,
           0.348,
           0.282
          ],
          "vectorType": "dense"
         }
        ],
        [
         793,
         787,
         77,
         0.339,
         0.266,
         0.42,
         {
          "length": 5,
          "values": [
           793,
           787,
           77,
           0.339,
           0.266
          ],
          "vectorType": "dense"
         }
        ],
        [
         815,
         886,
         74,
         0.353,
         0.273,
         0.426,
         {
          "length": 5,
          "values": [
           815,
           886,
           74,
           0.353,
           0.273
          ],
          "vectorType": "dense"
         }
        ],
        [
         686,
         845,
         63,
         0.328,
         0.264,
         0.384,
         {
          "length": 5,
          "values": [
           686,
           845,
           63,
           0.328,
           0.264
          ],
          "vectorType": "dense"
         }
        ],
        [
         718,
         853,
         68,
         0.323,
         0.265,
         0.427,
         {
          "length": 5,
          "values": [
           718,
           853,
           68,
           0.323,
           0.265
          ],
          "vectorType": "dense"
         }
        ],
        [
         853,
         711,
         97,
         0.363,
         0.279,
         0.434,
         {
          "length": 5,
          "values": [
           853,
           711,
           97,
           0.363,
           0.279
          ],
          "vectorType": "dense"
         }
        ],
        [
         900,
         731,
         98,
         0.366,
         0.282,
         0.453,
         {
          "length": 5,
          "values": [
           900,
           731,
           98,
           0.366,
           0.282
          ],
          "vectorType": "dense"
         }
        ],
        [
         893,
         846,
         87,
         0.355,
         0.259,
         0.446,
         {
          "length": 5,
          "values": [
           893,
           846,
           87,
           0.355,
           0.259
          ],
          "vectorType": "dense"
         }
        ],
        [
         841,
         846,
         77,
         0.351,
         0.275,
         0.431,
         {
          "length": 5,
          "values": [
           841,
           846,
           77,
           0.351,
           0.275
          ],
          "vectorType": "dense"
         }
        ],
        [
         775,
         782,
         78,
         0.334,
         0.259,
         0.419,
         {
          "length": 5,
          "values": [
           775,
           782,
           78,
           0.334,
           0.259
          ],
          "vectorType": "dense"
         }
        ],
        [
         710,
         781,
         74,
         0.332,
         0.252,
         0.393,
         {
          "length": 5,
          "values": [
           710,
           781,
           74,
           0.332,
           0.252
          ],
          "vectorType": "dense"
         }
        ],
        [
         859,
         905,
         79,
         0.343,
         0.269,
         0.455,
         {
          "length": 5,
          "values": [
           859,
           905,
           79,
           0.343,
           0.269
          ],
          "vectorType": "dense"
         }
        ],
        [
         872,
         831,
         86,
         0.356,
         0.271,
         0.434,
         {
          "length": 5,
          "values": [
           872,
           831,
           86,
           0.356,
           0.271
          ],
          "vectorType": "dense"
         }
        ],
        [
         809,
         838,
         75,
         0.338,
         0.262,
         0.426,
         {
          "length": 5,
          "values": [
           809,
           838,
           75,
           0.338,
           0.262
          ],
          "vectorType": "dense"
         }
        ],
        [
         772,
         913,
         69,
         0.343,
         0.274,
         0.411,
         {
          "length": 5,
          "values": [
           772,
           913,
           69,
           0.343,
           0.274
          ],
          "vectorType": "dense"
         }
        ],
        [
         945,
         859,
         95,
         0.361,
         0.293,
         0.479,
         {
          "length": 5,
          "values": [
           945,
           859,
           95,
           0.361,
           0.293
          ],
          "vectorType": "dense"
         }
        ],
        [
         883,
         862,
         84,
         0.352,
         0.28,
         0.457,
         {
          "length": 5,
          "values": [
           883,
           862,
           84,
           0.352,
           0.28
          ],
          "vectorType": "dense"
         }
        ],
        [
         787,
         783,
         85,
         0.335,
         0.272,
         0.415,
         {
          "length": 5,
          "values": [
           787,
           783,
           85,
           0.335,
           0.272
          ],
          "vectorType": "dense"
         }
        ],
        [
         665,
         812,
         65,
         0.314,
         0.246,
         0.393,
         {
          "length": 5,
          "values": [
           665,
           812,
           65,
           0.314,
           0.246
          ],
          "vectorType": "dense"
         }
        ],
        [
         826,
         581,
         106,
         0.342,
         0.272,
         0.453,
         {
          "length": 5,
          "values": [
           826,
           581,
           106,
           0.342,
           0.272
          ],
          "vectorType": "dense"
         }
        ],
        [
         817,
         785,
         79,
         0.347,
         0.273,
         0.447,
         {
          "length": 5,
          "values": [
           817,
           785,
           79,
           0.347,
           0.273
          ],
          "vectorType": "dense"
         }
        ],
        [
         876,
         729,
         92,
         0.348,
         0.28,
         0.463,
         {
          "length": 5,
          "values": [
           876,
           729,
           92,
           0.348,
           0.28
          ],
          "vectorType": "dense"
         }
        ],
        [
         831,
         792,
         90,
         0.337,
         0.264,
         0.433,
         {
          "length": 5,
          "values": [
           831,
           792,
           90,
           0.337,
           0.264
          ],
          "vectorType": "dense"
         }
        ],
        [
         861,
         931,
         80,
         0.339,
         0.271,
         0.444,
         {
          "length": 5,
          "values": [
           861,
           931,
           80,
           0.339,
           0.271
          ],
          "vectorType": "dense"
         }
        ],
        [
         750,
         760,
         77,
         0.337,
         0.262,
         0.402,
         {
          "length": 5,
          "values": [
           750,
           760,
           77,
           0.337,
           0.262
          ],
          "vectorType": "dense"
         }
        ],
        [
         850,
         779,
         89,
         0.347,
         0.272,
         0.448,
         {
          "length": 5,
          "values": [
           850,
           779,
           89,
           0.347,
           0.272
          ],
          "vectorType": "dense"
         }
        ],
        [
         826,
         855,
         77,
         0.347,
         0.291,
         0.461,
         {
          "length": 5,
          "values": [
           826,
           855,
           77,
           0.347,
           0.291
          ],
          "vectorType": "dense"
         }
        ],
        [
         722,
         863,
         65,
         0.323,
         0.264,
         0.415,
         {
          "length": 5,
          "values": [
           722,
           863,
           65,
           0.323,
           0.264
          ],
          "vectorType": "dense"
         }
        ],
        [
         667,
         923,
         54,
         0.317,
         0.248,
         0.373,
         {
          "length": 5,
          "values": [
           667,
           923,
           54,
           0.317,
           0.248
          ],
          "vectorType": "dense"
         }
        ],
        [
         874,
         620,
         102,
         0.356,
         0.28,
         0.436,
         {
          "length": 5,
          "values": [
           874,
           620,
           102,
           0.356,
           0.28
          ],
          "vectorType": "dense"
         }
        ],
        [
         714,
         899,
         72,
         0.324,
         0.263,
         0.399,
         {
          "length": 5,
          "values": [
           714,
           899,
           72,
           0.324,
           0.263
          ],
          "vectorType": "dense"
         }
        ],
        [
         669,
         678,
         83,
         0.31,
         0.252,
         0.387,
         {
          "length": 5,
          "values": [
           669,
           678,
           83,
           0.31,
           0.252
          ],
          "vectorType": "dense"
         }
        ],
        [
         707,
         812,
         74,
         0.33,
         0.26,
         0.396,
         {
          "length": 5,
          "values": [
           707,
           812,
           74,
           0.33,
           0.26
          ],
          "vectorType": "dense"
         }
        ],
        [
         734,
         818,
         70,
         0.328,
         0.266,
         0.389,
         {
          "length": 5,
          "values": [
           734,
           818,
           70,
           0.328,
           0.266
          ],
          "vectorType": "dense"
         }
        ],
        [
         644,
         783,
         65,
         0.31,
         0.249,
         0.394,
         {
          "length": 5,
          "values": [
           644,
           783,
           65,
           0.31,
           0.249
          ],
          "vectorType": "dense"
         }
        ],
        [
         706,
         645,
         88,
         0.33,
         0.259,
         0.394,
         {
          "length": 5,
          "values": [
           706,
           645,
           88,
           0.33,
           0.259
          ],
          "vectorType": "dense"
         }
        ],
        [
         965,
         656,
         114,
         0.364,
         0.288,
         0.46,
         {
          "length": 5,
          "values": [
           965,
           656,
           114,
           0.364,
           0.288
          ],
          "vectorType": "dense"
         }
        ],
        [
         804,
         866,
         74,
         0.338,
         0.257,
         0.397,
         {
          "length": 5,
          "values": [
           804,
           866,
           74,
           0.338,
           0.257
          ],
          "vectorType": "dense"
         }
        ],
        [
         713,
         808,
         75,
         0.326,
         0.264,
         0.395,
         {
          "length": 5,
          "values": [
           713,
           808,
           75,
           0.326,
           0.264
          ],
          "vectorType": "dense"
         }
        ],
        [
         650,
         718,
         69,
         0.311,
         0.254,
         0.374,
         {
          "length": 5,
          "values": [
           650,
           718,
           69,
           0.311,
           0.254
          ],
          "vectorType": "dense"
         }
        ],
        [
         749,
         635,
         98,
         0.33,
         0.253,
         0.409,
         {
          "length": 5,
          "values": [
           749,
           635,
           98,
           0.33,
           0.253
          ],
          "vectorType": "dense"
         }
        ],
        [
         859,
         855,
         76,
         0.345,
         0.276,
         0.468,
         {
          "length": 5,
          "values": [
           859,
           855,
           76,
           0.345,
           0.276
          ],
          "vectorType": "dense"
         }
        ],
        [
         845,
         739,
         89,
         0.353,
         0.274,
         0.421,
         {
          "length": 5,
          "values": [
           845,
           739,
           89,
           0.353,
           0.274
          ],
          "vectorType": "dense"
         }
        ],
        [
         810,
         782,
         83,
         0.341,
         0.258,
         0.441,
         {
          "length": 5,
          "values": [
           810,
           782,
           83,
           0.341,
           0.258
          ],
          "vectorType": "dense"
         }
        ],
        [
         620,
         751,
         63,
         0.321,
         0.261,
         0.385,
         {
          "length": 5,
          "values": [
           620,
           751,
           63,
           0.321,
           0.261
          ],
          "vectorType": "dense"
         }
        ],
        [
         940,
         871,
         88,
         0.357,
         0.289,
         0.462,
         {
          "length": 5,
          "values": [
           940,
           871,
           88,
           0.357,
           0.289
          ],
          "vectorType": "dense"
         }
        ],
        [
         816,
         768,
         88,
         0.34,
         0.266,
         0.448,
         {
          "length": 5,
          "values": [
           816,
           768,
           88,
           0.34,
           0.266
          ],
          "vectorType": "dense"
         }
        ],
        [
         829,
         794,
         84,
         0.346,
         0.272,
         0.416,
         {
          "length": 5,
          "values": [
           829,
           794,
           84,
           0.346,
           0.272
          ],
          "vectorType": "dense"
         }
        ],
        [
         791,
         581,
         101,
         0.343,
         0.27,
         0.426,
         {
          "length": 5,
          "values": [
           791,
           581,
           101,
           0.343,
           0.27
          ],
          "vectorType": "dense"
         }
        ],
        [
         812,
         681,
         98,
         0.341,
         0.268,
         0.429,
         {
          "length": 5,
          "values": [
           812,
           681,
           98,
           0.341,
           0.268
          ],
          "vectorType": "dense"
         }
        ],
        [
         851,
         857,
         78,
         0.352,
         0.291,
         0.463,
         {
          "length": 5,
          "values": [
           851,
           857,
           78,
           0.352,
           0.291
          ],
          "vectorType": "dense"
         }
        ],
        [
         687,
         759,
         68,
         0.321,
         0.263,
         0.396,
         {
          "length": 5,
          "values": [
           687,
           759,
           68,
           0.321,
           0.263
          ],
          "vectorType": "dense"
         }
        ],
        [
         779,
         833,
         80,
         0.341,
         0.273,
         0.417,
         {
          "length": 5,
          "values": [
           779,
           833,
           80,
           0.341,
           0.273
          ],
          "vectorType": "dense"
         }
        ],
        [
         651,
         764,
         76,
         0.321,
         0.253,
         0.389,
         {
          "length": 5,
          "values": [
           651,
           764,
           76,
           0.321,
           0.253
          ],
          "vectorType": "dense"
         }
        ],
        [
         868,
         815,
         86,
         0.358,
         0.286,
         0.467,
         {
          "length": 5,
          "values": [
           868,
           815,
           86,
           0.358,
           0.286
          ],
          "vectorType": "dense"
         }
        ],
        [
         923,
         908,
         83,
         0.357,
         0.288,
         0.478,
         {
          "length": 5,
          "values": [
           923,
           908,
           83,
           0.357,
           0.288
          ],
          "vectorType": "dense"
         }
        ],
        [
         784,
         790,
         79,
         0.332,
         0.258,
         0.415,
         {
          "length": 5,
          "values": [
           784,
           790,
           79,
           0.332,
           0.258
          ],
          "vectorType": "dense"
         }
        ],
        [
         740,
         669,
         92,
         0.346,
         0.259,
         0.395,
         {
          "length": 5,
          "values": [
           740,
           669,
           92,
           0.346,
           0.259
          ],
          "vectorType": "dense"
         }
        ],
        [
         777,
         660,
         84,
         0.344,
         0.259,
         0.403,
         {
          "length": 5,
          "values": [
           777,
           660,
           84,
           0.344,
           0.259
          ],
          "vectorType": "dense"
         }
        ],
        [
         747,
         820,
         67,
         0.333,
         0.264,
         0.407,
         {
          "length": 5,
          "values": [
           747,
           820,
           67,
           0.333,
           0.264
          ],
          "vectorType": "dense"
         }
        ],
        [
         742,
         645,
         88,
         0.33,
         0.268,
         0.418,
         {
          "length": 5,
          "values": [
           742,
           645,
           88,
           0.33,
           0.268
          ],
          "vectorType": "dense"
         }
        ],
        [
         681,
         742,
         78,
         0.325,
         0.26,
         0.398,
         {
          "length": 5,
          "values": [
           681,
           742,
           78,
           0.325,
           0.26
          ],
          "vectorType": "dense"
         }
        ],
        [
         772,
         861,
         68,
         0.333,
         0.27,
         0.409,
         {
          "length": 5,
          "values": [
           772,
           861,
           68,
           0.333,
           0.27
          ],
          "vectorType": "dense"
         }
        ],
        [
         691,
         740,
         78,
         0.316,
         0.258,
         0.425,
         {
          "length": 5,
          "values": [
           691,
           740,
           78,
           0.316,
           0.258
          ],
          "vectorType": "dense"
         }
        ],
        [
         777,
         709,
         88,
         0.332,
         0.262,
         0.405,
         {
          "length": 5,
          "values": [
           777,
           709,
           88,
           0.332,
           0.262
          ],
          "vectorType": "dense"
         }
        ],
        [
         891,
         688,
         96,
         0.362,
         0.287,
         0.436,
         {
          "length": 5,
          "values": [
           891,
           688,
           96,
           0.362,
           0.287
          ],
          "vectorType": "dense"
         }
        ],
        [
         764,
         946,
         65,
         0.339,
         0.26,
         0.423,
         {
          "length": 5,
          "values": [
           764,
           946,
           65,
           0.339,
           0.26
          ],
          "vectorType": "dense"
         }
        ],
        [
         668,
         840,
         68,
         0.322,
         0.255,
         0.385,
         {
          "length": 5,
          "values": [
           668,
           840,
           68,
           0.322,
           0.255
          ],
          "vectorType": "dense"
         }
        ],
        [
         725,
         760,
         79,
         0.329,
         0.262,
         0.404,
         {
          "length": 5,
          "values": [
           725,
           760,
           79,
           0.329,
           0.262
          ],
          "vectorType": "dense"
         }
        ],
        [
         795,
         891,
         76,
         0.342,
         0.271,
         0.407,
         {
          "length": 5,
          "values": [
           795,
           891,
           76,
           0.342,
           0.271
          ],
          "vectorType": "dense"
         }
        ],
        [
         925,
         833,
         90,
         0.355,
         0.28,
         0.485,
         {
          "length": 5,
          "values": [
           925,
           833,
           90,
           0.355,
           0.28
          ],
          "vectorType": "dense"
         }
        ],
        [
         784,
         793,
         90,
         0.337,
         0.258,
         0.414,
         {
          "length": 5,
          "values": [
           784,
           793,
           90,
           0.337,
           0.258
          ],
          "vectorType": "dense"
         }
        ],
        [
         689,
         708,
         73,
         0.324,
         0.255,
         0.396,
         {
          "length": 5,
          "values": [
           689,
           708,
           73,
           0.324,
           0.255
          ],
          "vectorType": "dense"
         }
        ],
        [
         807,
         823,
         77,
         0.334,
         0.274,
         0.438,
         {
          "length": 5,
          "values": [
           807,
           823,
           77,
           0.334,
           0.274
          ],
          "vectorType": "dense"
         }
        ],
        [
         654,
         694,
         76,
         0.31,
         0.244,
         0.389,
         {
          "length": 5,
          "values": [
           654,
           694,
           76,
           0.31,
           0.244
          ],
          "vectorType": "dense"
         }
        ],
        [
         773,
         648,
         96,
         0.333,
         0.27,
         0.432,
         {
          "length": 5,
          "values": [
           773,
           648,
           96,
           0.333,
           0.27
          ],
          "vectorType": "dense"
         }
        ],
        [
         949,
         903,
         88,
         0.35,
         0.274,
         0.472,
         {
          "length": 5,
          "values": [
           949,
           903,
           88,
           0.35,
           0.274
          ],
          "vectorType": "dense"
         }
        ],
        [
         928,
         921,
         85,
         0.359,
         0.283,
         0.457,
         {
          "length": 5,
          "values": [
           928,
           921,
           85,
           0.359,
           0.283
          ],
          "vectorType": "dense"
         }
        ],
        [
         762,
         943,
         70,
         0.339,
         0.276,
         0.431,
         {
          "length": 5,
          "values": [
           762,
           943,
           70,
           0.339,
           0.276
          ],
          "vectorType": "dense"
         }
        ],
        [
         772,
         771,
         76,
         0.32,
         0.251,
         0.401,
         {
          "length": 5,
          "values": [
           772,
           771,
           76,
           0.32,
           0.251
          ],
          "vectorType": "dense"
         }
        ],
        [
         898,
         794,
         85,
         0.36,
         0.281,
         0.447,
         {
          "length": 5,
          "values": [
           898,
           794,
           85,
           0.36,
           0.281
          ],
          "vectorType": "dense"
         }
        ],
        [
         778,
         773,
         81,
         0.331,
         0.256,
         0.422,
         {
          "length": 5,
          "values": [
           778,
           773,
           81,
           0.331,
           0.256
          ],
          "vectorType": "dense"
         }
        ],
        [
         952,
         769,
         99,
         0.369,
         0.293,
         0.475,
         {
          "length": 5,
          "values": [
           952,
           769,
           99,
           0.369,
           0.293
          ],
          "vectorType": "dense"
         }
        ],
        [
         961,
         964,
         83,
         0.355,
         0.287,
         0.472,
         {
          "length": 5,
          "values": [
           961,
           964,
           83,
           0.355,
           0.287
          ],
          "vectorType": "dense"
         }
        ],
        [
         783,
         1103,
         53,
         0.323,
         0.256,
         0.42,
         {
          "length": 5,
          "values": [
           783,
           1103,
           53,
           0.323,
           0.256
          ],
          "vectorType": "dense"
         }
        ],
        [
         688,
         703,
         80,
         0.329,
         0.257,
         0.393,
         {
          "length": 5,
          "values": [
           688,
           703,
           80,
           0.329,
           0.257
          ],
          "vectorType": "dense"
         }
        ],
        [
         753,
         792,
         82,
         0.336,
         0.262,
         0.397,
         {
          "length": 5,
          "values": [
           753,
           792,
           82,
           0.336,
           0.262
          ],
          "vectorType": "dense"
         }
        ],
        [
         746,
         786,
         75,
         0.332,
         0.267,
         0.398,
         {
          "length": 5,
          "values": [
           746,
           786,
           75,
           0.332,
           0.267
          ],
          "vectorType": "dense"
         }
        ],
        [
         703,
         652,
         90,
         0.316,
         0.252,
         0.384,
         {
          "length": 5,
          "values": [
           703,
           652,
           90,
           0.316,
           0.252
          ],
          "vectorType": "dense"
         }
        ],
        [
         894,
         899,
         80,
         0.353,
         0.279,
         0.441,
         {
          "length": 5,
          "values": [
           894,
           899,
           80,
           0.353,
           0.279
          ],
          "vectorType": "dense"
         }
        ],
        [
         877,
         900,
         78,
         0.357,
         0.288,
         0.425,
         {
          "length": 5,
          "values": [
           877,
           900,
           78,
           0.357,
           0.288
          ],
          "vectorType": "dense"
         }
        ],
        [
         741,
         668,
         88,
         0.327,
         0.262,
         0.406,
         {
          "length": 5,
          "values": [
           741,
           668,
           88,
           0.327,
           0.262
          ],
          "vectorType": "dense"
         }
        ],
        [
         746,
         779,
         71,
         0.324,
         0.27,
         0.412,
         {
          "length": 5,
          "values": [
           746,
           779,
           71,
           0.324,
           0.27
          ],
          "vectorType": "dense"
         }
        ],
        [
         871,
         787,
         92,
         0.36,
         0.288,
         0.436,
         {
          "length": 5,
          "values": [
           871,
           787,
           92,
           0.36,
           0.288
          ],
          "vectorType": "dense"
         }
        ],
        [
         861,
         900,
         78,
         0.344,
         0.265,
         0.452,
         {
          "length": 5,
          "values": [
           861,
           900,
           78,
           0.344,
           0.265
          ],
          "vectorType": "dense"
         }
        ],
        [
         650,
         790,
         67,
         0.325,
         0.256,
         0.387,
         {
          "length": 5,
          "values": [
           650,
           790,
           67,
           0.325,
           0.256
          ],
          "vectorType": "dense"
         }
        ],
        [
         776,
         833,
         73,
         0.329,
         0.266,
         0.407,
         {
          "length": 5,
          "values": [
           776,
           833,
           73,
           0.329,
           0.266
          ],
          "vectorType": "dense"
         }
        ],
        [
         771,
         682,
         91,
         0.338,
         0.265,
         0.402,
         {
          "length": 5,
          "values": [
           771,
           682,
           91,
           0.338,
           0.265
          ],
          "vectorType": "dense"
         }
        ],
        [
         993,
         895,
         85,
         0.366,
         0.287,
         0.484,
         {
          "length": 5,
          "values": [
           993,
           895,
           85,
           0.366,
           0.287
          ],
          "vectorType": "dense"
         }
        ],
        [
         752,
         862,
         68,
         0.331,
         0.253,
         0.388,
         {
          "length": 5,
          "values": [
           752,
           862,
           68,
           0.331,
           0.253
          ],
          "vectorType": "dense"
         }
        ],
        [
         759,
         706,
         88,
         0.33,
         0.267,
         0.407,
         {
          "length": 5,
          "values": [
           759,
           706,
           88,
           0.33,
           0.267
          ],
          "vectorType": "dense"
         }
        ],
        [
         928,
         799,
         90,
         0.358,
         0.284,
         0.469,
         {
          "length": 5,
          "values": [
           928,
           799,
           90,
           0.358,
           0.284
          ],
          "vectorType": "dense"
         }
        ],
        [
         766,
         809,
         74,
         0.331,
         0.259,
         0.42,
         {
          "length": 5,
          "values": [
           766,
           809,
           74,
           0.331,
           0.259
          ],
          "vectorType": "dense"
         }
        ],
        [
         767,
         559,
         104,
         0.331,
         0.262,
         0.408,
         {
          "length": 5,
          "values": [
           767,
           559,
           104,
           0.331,
           0.262
          ],
          "vectorType": "dense"
         }
        ],
        [
         786,
         745,
         85,
         0.346,
         0.267,
         0.413,
         {
          "length": 5,
          "values": [
           786,
           745,
           85,
           0.346,
           0.267
          ],
          "vectorType": "dense"
         }
        ],
        [
         686,
         698,
         80,
         0.33,
         0.264,
         0.395,
         {
          "length": 5,
          "values": [
           686,
           698,
           80,
           0.33,
           0.264
          ],
          "vectorType": "dense"
         }
        ],
        [
         684,
         770,
         71,
         0.331,
         0.26,
         0.38,
         {
          "length": 5,
          "values": [
           684,
           770,
           71,
           0.331,
           0.26
          ],
          "vectorType": "dense"
         }
        ],
        [
         738,
         739,
         84,
         0.325,
         0.27,
         0.414,
         {
          "length": 5,
          "values": [
           738,
           739,
           84,
           0.325,
           0.27
          ],
          "vectorType": "dense"
         }
        ],
        [
         776,
         664,
         94,
         0.338,
         0.265,
         0.411,
         {
          "length": 5,
          "values": [
           776,
           664,
           94,
           0.338,
           0.265
          ],
          "vectorType": "dense"
         }
        ],
        [
         722,
         785,
         73,
         0.324,
         0.264,
         0.396,
         {
          "length": 5,
          "values": [
           722,
           785,
           73,
           0.324,
           0.264
          ],
          "vectorType": "dense"
         }
        ],
        [
         790,
         813,
         76,
         0.335,
         0.275,
         0.409,
         {
          "length": 5,
          "values": [
           790,
           813,
           76,
           0.335,
           0.275
          ],
          "vectorType": "dense"
         }
        ],
        [
         758,
         967,
         67,
         0.323,
         0.273,
         0.422,
         {
          "length": 5,
          "values": [
           758,
           967,
           67,
           0.323,
           0.273
          ],
          "vectorType": "dense"
         }
        ],
        [
         899,
         837,
         85,
         0.362,
         0.275,
         0.434,
         {
          "length": 5,
          "values": [
           899,
           837,
           85,
           0.362,
           0.275
          ],
          "vectorType": "dense"
         }
        ],
        [
         581,
         724,
         64,
         0.314,
         0.248,
         0.346,
         {
          "length": 5,
          "values": [
           581,
           724,
           64,
           0.314,
           0.248
          ],
          "vectorType": "dense"
         }
        ],
        [
         716,
         630,
         85,
         0.33,
         0.267,
         0.409,
         {
          "length": 5,
          "values": [
           716,
           630,
           85,
           0.33,
           0.267
          ],
          "vectorType": "dense"
         }
        ],
        [
         675,
         694,
         84,
         0.32,
         0.263,
         0.397,
         {
          "length": 5,
          "values": [
           675,
           694,
           84,
           0.32,
           0.263
          ],
          "vectorType": "dense"
         }
        ],
        [
         675,
         662,
         81,
         0.321,
         0.261,
         0.383,
         {
          "length": 5,
          "values": [
           675,
           662,
           81,
           0.321,
           0.261
          ],
          "vectorType": "dense"
         }
        ],
        [
         733,
         792,
         69,
         0.328,
         0.258,
         0.378,
         {
          "length": 5,
          "values": [
           733,
           792,
           69,
           0.328,
           0.258
          ],
          "vectorType": "dense"
         }
        ],
        [
         693,
         830,
         71,
         0.327,
         0.264,
         0.385,
         {
          "length": 5,
          "values": [
           693,
           830,
           71,
           0.327,
           0.264
          ],
          "vectorType": "dense"
         }
        ],
        [
         732,
         682,
         94,
         0.326,
         0.257,
         0.386,
         {
          "length": 5,
          "values": [
           732,
           682,
           94,
           0.326,
           0.257
          ],
          "vectorType": "dense"
         }
        ],
        [
         672,
         744,
         59,
         0.305,
         0.248,
         0.39,
         {
          "length": 5,
          "values": [
           672,
           744,
           59,
           0.305,
           0.248
          ],
          "vectorType": "dense"
         }
        ],
        [
         821,
         761,
         88,
         0.353,
         0.279,
         0.435,
         {
          "length": 5,
          "values": [
           821,
           761,
           88,
           0.353,
           0.279
          ],
          "vectorType": "dense"
         }
        ],
        [
         715,
         846,
         68,
         0.33,
         0.254,
         0.394,
         {
          "length": 5,
          "values": [
           715,
           846,
           68,
           0.33,
           0.254
          ],
          "vectorType": "dense"
         }
        ],
        [
         877,
         740,
         97,
         0.351,
         0.274,
         0.426,
         {
          "length": 5,
          "values": [
           877,
           740,
           97,
           0.351,
           0.274
          ],
          "vectorType": "dense"
         }
        ],
        [
         707,
         806,
         75,
         0.335,
         0.267,
         0.393,
         {
          "length": 5,
          "values": [
           707,
           806,
           75,
           0.335,
           0.267
          ],
          "vectorType": "dense"
         }
        ],
        [
         679,
         772,
         61,
         0.312,
         0.252,
         0.389,
         {
          "length": 5,
          "values": [
           679,
           772,
           61,
           0.312,
           0.252
          ],
          "vectorType": "dense"
         }
        ],
        [
         734,
         731,
         82,
         0.339,
         0.26,
         0.406,
         {
          "length": 5,
          "values": [
           734,
           731,
           82,
           0.339,
           0.26
          ],
          "vectorType": "dense"
         }
        ],
        [
         808,
         636,
         103,
         0.34,
         0.276,
         0.427,
         {
          "length": 5,
          "values": [
           808,
           636,
           103,
           0.34,
           0.276
          ],
          "vectorType": "dense"
         }
        ],
        [
         758,
         744,
         87,
         0.341,
         0.272,
         0.395,
         {
          "length": 5,
          "values": [
           758,
           744,
           87,
           0.341,
           0.272
          ],
          "vectorType": "dense"
         }
        ],
        [
         835,
         751,
         86,
         0.329,
         0.267,
         0.431,
         {
          "length": 5,
          "values": [
           835,
           751,
           86,
           0.329,
           0.267
          ],
          "vectorType": "dense"
         }
        ],
        [
         847,
         742,
         95,
         0.35,
         0.279,
         0.436,
         {
          "length": 5,
          "values": [
           847,
           742,
           95,
           0.35,
           0.279
          ],
          "vectorType": "dense"
         }
        ],
        [
         682,
         569,
         98,
         0.316,
         0.254,
         0.388,
         {
          "length": 5,
          "values": [
           682,
           569,
           98,
           0.316,
           0.254
          ],
          "vectorType": "dense"
         }
        ],
        [
         705,
         656,
         89,
         0.34,
         0.259,
         0.398,
         {
          "length": 5,
          "values": [
           705,
           656,
           89,
           0.34,
           0.259
          ],
          "vectorType": "dense"
         }
        ],
        [
         599,
         669,
         73,
         0.321,
         0.246,
         0.347,
         {
          "length": 5,
          "values": [
           599,
           669,
           73,
           0.321,
           0.246
          ],
          "vectorType": "dense"
         }
        ],
        [
         579,
         671,
         72,
         0.301,
         0.243,
         0.338,
         {
          "length": 5,
          "values": [
           579,
           671,
           72,
           0.301,
           0.243
          ],
          "vectorType": "dense"
         }
        ],
        [
         593,
         624,
         78,
         0.307,
         0.254,
         0.364,
         {
          "length": 5,
          "values": [
           593,
           624,
           78,
           0.307,
           0.254
          ],
          "vectorType": "dense"
         }
        ],
        [
         738,
         690,
         86,
         0.336,
         0.261,
         0.383,
         {
          "length": 5,
          "values": [
           738,
           690,
           86,
           0.336,
           0.261
          ],
          "vectorType": "dense"
         }
        ],
        [
         660,
         609,
         90,
         0.328,
         0.26,
         0.382,
         {
          "length": 5,
          "values": [
           660,
           609,
           90,
           0.328,
           0.26
          ],
          "vectorType": "dense"
         }
        ],
        [
         674,
         746,
         76,
         0.323,
         0.266,
         0.383,
         {
          "length": 5,
          "values": [
           674,
           746,
           76,
           0.323,
           0.266
          ],
          "vectorType": "dense"
         }
        ],
        [
         791,
         794,
         75,
         0.337,
         0.256,
         0.407,
         {
          "length": 5,
          "values": [
           791,
           794,
           75,
           0.337,
           0.256
          ],
          "vectorType": "dense"
         }
        ],
        [
         608,
         668,
         81,
         0.313,
         0.246,
         0.359,
         {
          "length": 5,
          "values": [
           608,
           668,
           81,
           0.313,
           0.246
          ],
          "vectorType": "dense"
         }
        ],
        [
         610,
         667,
         72,
         0.315,
         0.256,
         0.364,
         {
          "length": 5,
          "values": [
           610,
           667,
           72,
           0.315,
           0.256
          ],
          "vectorType": "dense"
         }
        ],
        [
         548,
         636,
         63,
         0.313,
         0.248,
         0.339,
         {
          "length": 5,
          "values": [
           548,
           636,
           63,
           0.313,
           0.248
          ],
          "vectorType": "dense"
         }
        ],
        [
         740,
         604,
         92,
         0.33,
         0.268,
         0.375,
         {
          "length": 5,
          "values": [
           740,
           604,
           92,
           0.33,
           0.268
          ],
          "vectorType": "dense"
         }
        ],
        [
         747,
         653,
         90,
         0.341,
         0.277,
         0.391,
         {
          "length": 5,
          "values": [
           747,
           653,
           90,
           0.341,
           0.277
          ],
          "vectorType": "dense"
         }
        ],
        [
         648,
         581,
         87,
         0.313,
         0.252,
         0.37,
         {
          "length": 5,
          "values": [
           648,
           581,
           87,
           0.313,
           0.252
          ],
          "vectorType": "dense"
         }
        ],
        [
         599,
         653,
         72,
         0.31,
         0.235,
         0.342,
         {
          "length": 5,
          "values": [
           599,
           653,
           72,
           0.31,
           0.235
          ],
          "vectorType": "dense"
         }
        ],
        [
         733,
         746,
         76,
         0.328,
         0.261,
         0.406,
         {
          "length": 5,
          "values": [
           733,
           746,
           76,
           0.328,
           0.261
          ],
          "vectorType": "dense"
         }
        ],
        [
         745,
         672,
         96,
         0.346,
         0.258,
         0.386,
         {
          "length": 5,
          "values": [
           745,
           672,
           96,
           0.346,
           0.258
          ],
          "vectorType": "dense"
         }
        ],
        [
         686,
         717,
         70,
         0.32,
         0.253,
         0.377,
         {
          "length": 5,
          "values": [
           686,
           717,
           70,
           0.32,
           0.253
          ],
          "vectorType": "dense"
         }
        ],
        [
         693,
         595,
         96,
         0.324,
         0.255,
         0.381,
         {
          "length": 5,
          "values": [
           693,
           595,
           96,
           0.324,
           0.255
          ],
          "vectorType": "dense"
         }
        ],
        [
         617,
         636,
         82,
         0.313,
         0.255,
         0.386,
         {
          "length": 5,
          "values": [
           617,
           636,
           82,
           0.313,
           0.255
          ],
          "vectorType": "dense"
         }
        ],
        [
         679,
         799,
         64,
         0.323,
         0.263,
         0.402,
         {
          "length": 5,
          "values": [
           679,
           799,
           64,
           0.323,
           0.263
          ],
          "vectorType": "dense"
         }
        ],
        [
         574,
         647,
         72,
         0.302,
         0.244,
         0.355,
         {
          "length": 5,
          "values": [
           574,
           647,
           72,
           0.302,
           0.244
          ],
          "vectorType": "dense"
         }
        ],
        [
         631,
         604,
         83,
         0.323,
         0.262,
         0.375,
         {
          "length": 5,
          "values": [
           631,
           604,
           83,
           0.323,
           0.262
          ],
          "vectorType": "dense"
         }
        ],
        [
         682,
         753,
         77,
         0.321,
         0.25,
         0.393,
         {
          "length": 5,
          "values": [
           682,
           753,
           77,
           0.321,
           0.25
          ],
          "vectorType": "dense"
         }
        ],
        [
         780,
         682,
         96,
         0.333,
         0.263,
         0.414,
         {
          "length": 5,
          "values": [
           780,
           682,
           96,
           0.333,
           0.263
          ],
          "vectorType": "dense"
         }
        ],
        [
         749,
         644,
         94,
         0.328,
         0.258,
         0.393,
         {
          "length": 5,
          "values": [
           749,
           644,
           94,
           0.328,
           0.258
          ],
          "vectorType": "dense"
         }
        ],
        [
         686,
         796,
         67,
         0.319,
         0.254,
         0.401,
         {
          "length": 5,
          "values": [
           686,
           796,
           67,
           0.319,
           0.254
          ],
          "vectorType": "dense"
         }
        ],
        [
         731,
         712,
         84,
         0.34,
         0.269,
         0.401,
         {
          "length": 5,
          "values": [
           731,
           712,
           84,
           0.34,
           0.269
          ],
          "vectorType": "dense"
         }
        ],
        [
         653,
         649,
         81,
         0.314,
         0.255,
         0.374,
         {
          "length": 5,
          "values": [
           653,
           649,
           81,
           0.314,
           0.255
          ],
          "vectorType": "dense"
         }
        ],
        [
         695,
         734,
         77,
         0.309,
         0.253,
         0.39,
         {
          "length": 5,
          "values": [
           695,
           734,
           77,
           0.309,
           0.253
          ],
          "vectorType": "dense"
         }
        ],
        [
         758,
         681,
         87,
         0.336,
         0.262,
         0.391,
         {
          "length": 5,
          "values": [
           758,
           681,
           87,
           0.336,
           0.262
          ],
          "vectorType": "dense"
         }
        ],
        [
         689,
         691,
         74,
         0.32,
         0.258,
         0.403,
         {
          "length": 5,
          "values": [
           689,
           691,
           74,
           0.32,
           0.258
          ],
          "vectorType": "dense"
         }
        ],
        [
         576,
         759,
         57,
         0.313,
         0.254,
         0.35,
         {
          "length": 5,
          "values": [
           576,
           759,
           57,
           0.313,
           0.254
          ],
          "vectorType": "dense"
         }
        ],
        [
         817,
         794,
         84,
         0.333,
         0.247,
         0.416,
         {
          "length": 5,
          "values": [
           817,
           794,
           84,
           0.333,
           0.247
          ],
          "vectorType": "dense"
         }
        ],
        [
         605,
         717,
         65,
         0.309,
         0.244,
         0.347,
         {
          "length": 5,
          "values": [
           605,
           717,
           65,
           0.309,
           0.244
          ],
          "vectorType": "dense"
         }
        ],
        [
         727,
         722,
         82,
         0.328,
         0.264,
         0.394,
         {
          "length": 5,
          "values": [
           727,
           722,
           82,
           0.328,
           0.264
          ],
          "vectorType": "dense"
         }
        ],
        [
         665,
         565,
         93,
         0.326,
         0.253,
         0.359,
         {
          "length": 5,
          "values": [
           665,
           565,
           93,
           0.326,
           0.253
          ],
          "vectorType": "dense"
         }
        ],
        [
         799,
         744,
         83,
         0.336,
         0.271,
         0.396,
         {
          "length": 5,
          "values": [
           799,
           744,
           83,
           0.336,
           0.271
          ],
          "vectorType": "dense"
         }
        ],
        [
         776,
         652,
         95,
         0.344,
         0.28,
         0.42,
         {
          "length": 5,
          "values": [
           776,
           652,
           95,
           0.344,
           0.28
          ],
          "vectorType": "dense"
         }
        ],
        [
         579,
         655,
         71,
         0.308,
         0.246,
         0.357,
         {
          "length": 5,
          "values": [
           579,
           655,
           71,
           0.308,
           0.246
          ],
          "vectorType": "dense"
         }
        ],
        [
         640,
         646,
         77,
         0.317,
         0.244,
         0.365,
         {
          "length": 5,
          "values": [
           640,
           646,
           77,
           0.317,
           0.244
          ],
          "vectorType": "dense"
         }
        ],
        [
         674,
         777,
         71,
         0.316,
         0.256,
         0.387,
         {
          "length": 5,
          "values": [
           674,
           777,
           71,
           0.316,
           0.256
          ],
          "vectorType": "dense"
         }
        ],
        [
         760,
         776,
         84,
         0.331,
         0.248,
         0.389,
         {
          "length": 5,
          "values": [
           760,
           776,
           84,
           0.331,
           0.248
          ],
          "vectorType": "dense"
         }
        ],
        [
         629,
         680,
         78,
         0.303,
         0.241,
         0.358,
         {
          "length": 5,
          "values": [
           629,
           680,
           78,
           0.303,
           0.241
          ],
          "vectorType": "dense"
         }
        ],
        [
         768,
         632,
         98,
         0.338,
         0.263,
         0.398,
         {
          "length": 5,
          "values": [
           768,
           632,
           98,
           0.338,
           0.263
          ],
          "vectorType": "dense"
         }
        ],
        [
         636,
         646,
         84,
         0.31,
         0.244,
         0.362,
         {
          "length": 5,
          "values": [
           636,
           646,
           84,
           0.31,
           0.244
          ],
          "vectorType": "dense"
         }
        ],
        [
         702,
         674,
         83,
         0.328,
         0.255,
         0.383,
         {
          "length": 5,
          "values": [
           702,
           674,
           83,
           0.328,
           0.255
          ],
          "vectorType": "dense"
         }
        ],
        [
         649,
         697,
         75,
         0.309,
         0.246,
         0.381,
         {
          "length": 5,
          "values": [
           649,
           697,
           75,
           0.309,
           0.246
          ],
          "vectorType": "dense"
         }
        ],
        [
         651,
         648,
         84,
         0.322,
         0.255,
         0.357,
         {
          "length": 5,
          "values": [
           651,
           648,
           84,
           0.322,
           0.255
          ],
          "vectorType": "dense"
         }
        ],
        [
         829,
         814,
         85,
         0.341,
         0.27,
         0.424,
         {
          "length": 5,
          "values": [
           829,
           814,
           85,
           0.341,
           0.27
          ],
          "vectorType": "dense"
         }
        ],
        [
         684,
         622,
         91,
         0.322,
         0.257,
         0.4,
         {
          "length": 5,
          "values": [
           684,
           622,
           91,
           0.322,
           0.257
          ],
          "vectorType": "dense"
         }
        ],
        [
         682,
         821,
         65,
         0.311,
         0.25,
         0.396,
         {
          "length": 5,
          "values": [
           682,
           821,
           65,
           0.311,
           0.25
          ],
          "vectorType": "dense"
         }
        ],
        [
         669,
         698,
         76,
         0.33,
         0.245,
         0.37,
         {
          "length": 5,
          "values": [
           669,
           698,
           76,
           0.33,
           0.245
          ],
          "vectorType": "dense"
         }
        ],
        [
         699,
         664,
         88,
         0.344,
         0.272,
         0.395,
         {
          "length": 5,
          "values": [
           699,
           664,
           88,
           0.344,
           0.272
          ],
          "vectorType": "dense"
         }
        ],
        [
         690,
         706,
         80,
         0.329,
         0.26,
         0.391,
         {
          "length": 5,
          "values": [
           690,
           706,
           80,
           0.329,
           0.26
          ],
          "vectorType": "dense"
         }
        ],
        [
         690,
         774,
         77,
         0.314,
         0.263,
         0.392,
         {
          "length": 5,
          "values": [
           690,
           774,
           77,
           0.314,
           0.263
          ],
          "vectorType": "dense"
         }
        ],
        [
         682,
         633,
         94,
         0.32,
         0.258,
         0.379,
         {
          "length": 5,
          "values": [
           682,
           633,
           94,
           0.32,
           0.258
          ],
          "vectorType": "dense"
         }
        ],
        [
         693,
         597,
         91,
         0.325,
         0.265,
         0.399,
         {
          "length": 5,
          "values": [
           693,
           597,
           91,
           0.325,
           0.265
          ],
          "vectorType": "dense"
         }
        ],
        [
         732,
         737,
         77,
         0.324,
         0.267,
         0.391,
         {
          "length": 5,
          "values": [
           732,
           737,
           77,
           0.324,
           0.267
          ],
          "vectorType": "dense"
         }
        ],
        [
         750,
         754,
         79,
         0.337,
         0.259,
         0.409,
         {
          "length": 5,
          "values": [
           750,
           754,
           79,
           0.337,
           0.259
          ],
          "vectorType": "dense"
         }
        ],
        [
         573,
         656,
         75,
         0.313,
         0.242,
         0.345,
         {
          "length": 5,
          "values": [
           573,
           656,
           75,
           0.313,
           0.242
          ],
          "vectorType": "dense"
         }
        ],
        [
         707,
         709,
         75,
         0.328,
         0.267,
         0.395,
         {
          "length": 5,
          "values": [
           707,
           709,
           75,
           0.328,
           0.267
          ],
          "vectorType": "dense"
         }
        ],
        [
         728,
         685,
         86,
         0.328,
         0.262,
         0.382,
         {
          "length": 5,
          "values": [
           728,
           685,
           86,
           0.328,
           0.262
          ],
          "vectorType": "dense"
         }
        ],
        [
         732,
         760,
         74,
         0.32,
         0.256,
         0.384,
         {
          "length": 5,
          "values": [
           732,
           760,
           74,
           0.32,
           0.256
          ],
          "vectorType": "dense"
         }
        ],
        [
         666,
         729,
         74,
         0.324,
         0.265,
         0.385,
         {
          "length": 5,
          "values": [
           666,
           729,
           74,
           0.324,
           0.265
          ],
          "vectorType": "dense"
         }
        ],
        [
         662,
         598,
         85,
         0.322,
         0.25,
         0.37,
         {
          "length": 5,
          "values": [
           662,
           598,
           85,
           0.322,
           0.25
          ],
          "vectorType": "dense"
         }
        ],
        [
         775,
         613,
         91,
         0.323,
         0.256,
         0.408,
         {
          "length": 5,
          "values": [
           775,
           613,
           91,
           0.323,
           0.256
          ],
          "vectorType": "dense"
         }
        ],
        [
         603,
         749,
         67,
         0.3,
         0.241,
         0.366,
         {
          "length": 5,
          "values": [
           603,
           749,
           67,
           0.3,
           0.241
          ],
          "vectorType": "dense"
         }
        ],
        [
         733,
         570,
         103,
         0.336,
         0.254,
         0.391,
         {
          "length": 5,
          "values": [
           733,
           570,
           103,
           0.336,
           0.254
          ],
          "vectorType": "dense"
         }
        ],
        [
         646,
         729,
         77,
         0.327,
         0.255,
         0.363,
         {
          "length": 5,
          "values": [
           646,
           729,
           77,
           0.327,
           0.255
          ],
          "vectorType": "dense"
         }
        ],
        [
         733,
         619,
         95,
         0.33,
         0.259,
         0.405,
         {
          "length": 5,
          "values": [
           733,
           619,
           95,
           0.33,
           0.259
          ],
          "vectorType": "dense"
         }
        ],
        [
         673,
         673,
         75,
         0.32,
         0.257,
         0.38,
         {
          "length": 5,
          "values": [
           673,
           673,
           75,
           0.32,
           0.257
          ],
          "vectorType": "dense"
         }
        ],
        [
         640,
         680,
         77,
         0.333,
         0.259,
         0.373,
         {
          "length": 5,
          "values": [
           640,
           680,
           77,
           0.333,
           0.259
          ],
          "vectorType": "dense"
         }
        ],
        [
         719,
         710,
         85,
         0.323,
         0.262,
         0.396,
         {
          "length": 5,
          "values": [
           719,
           710,
           85,
           0.323,
           0.262
          ],
          "vectorType": "dense"
         }
        ],
        [
         599,
         698,
         70,
         0.32,
         0.256,
         0.358,
         {
          "length": 5,
          "values": [
           599,
           698,
           70,
           0.32,
           0.256
          ],
          "vectorType": "dense"
         }
        ],
        [
         676,
         696,
         83,
         0.331,
         0.259,
         0.376,
         {
          "length": 5,
          "values": [
           676,
           696,
           83,
           0.331,
           0.259
          ],
          "vectorType": "dense"
         }
        ],
        [
         767,
         661,
         86,
         0.328,
         0.265,
         0.419,
         {
          "length": 5,
          "values": [
           767,
           661,
           86,
           0.328,
           0.265
          ],
          "vectorType": "dense"
         }
        ],
        [
         584,
         680,
         63,
         0.298,
         0.234,
         0.35,
         {
          "length": 5,
          "values": [
           584,
           680,
           63,
           0.298,
           0.234
          ],
          "vectorType": "dense"
         }
        ],
        [
         708,
         686,
         87,
         0.326,
         0.252,
         0.379,
         {
          "length": 5,
          "values": [
           708,
           686,
           87,
           0.326,
           0.252
          ],
          "vectorType": "dense"
         }
        ],
        [
         774,
         735,
         83,
         0.351,
         0.277,
         0.403,
         {
          "length": 5,
          "values": [
           774,
           735,
           83,
           0.351,
           0.277
          ],
          "vectorType": "dense"
         }
        ],
        [
         669,
         578,
         91,
         0.311,
         0.256,
         0.386,
         {
          "length": 5,
          "values": [
           669,
           578,
           91,
           0.311,
           0.256
          ],
          "vectorType": "dense"
         }
        ],
        [
         702,
         623,
         93,
         0.319,
         0.261,
         0.387,
         {
          "length": 5,
          "values": [
           702,
           623,
           93,
           0.319,
           0.261
          ],
          "vectorType": "dense"
         }
        ],
        [
         693,
         750,
         69,
         0.328,
         0.271,
         0.383,
         {
          "length": 5,
          "values": [
           693,
           750,
           69,
           0.328,
           0.271
          ],
          "vectorType": "dense"
         }
        ],
        [
         632,
         691,
         75,
         0.309,
         0.247,
         0.37,
         {
          "length": 5,
          "values": [
           632,
           691,
           75,
           0.309,
           0.247
          ],
          "vectorType": "dense"
         }
        ],
        [
         604,
         654,
         73,
         0.31,
         0.245,
         0.365,
         {
          "length": 5,
          "values": [
           604,
           654,
           73,
           0.31,
           0.245
          ],
          "vectorType": "dense"
         }
        ],
        [
         617,
         816,
         59,
         0.318,
         0.242,
         0.351,
         {
          "length": 5,
          "values": [
           617,
           816,
           59,
           0.318,
           0.242
          ],
          "vectorType": "dense"
         }
        ],
        [
         647,
         669,
         86,
         0.306,
         0.239,
         0.345,
         {
          "length": 5,
          "values": [
           647,
           669,
           86,
           0.306,
           0.239
          ],
          "vectorType": "dense"
         }
        ],
        [
         690,
         635,
         92,
         0.329,
         0.261,
         0.373,
         {
          "length": 5,
          "values": [
           690,
           635,
           92,
           0.329,
           0.261
          ],
          "vectorType": "dense"
         }
        ],
        [
         554,
         536,
         77,
         0.306,
         0.24,
         0.339,
         {
          "length": 5,
          "values": [
           554,
           536,
           77,
           0.306,
           0.24
          ],
          "vectorType": "dense"
         }
        ],
        [
         707,
         679,
         81,
         0.318,
         0.259,
         0.382,
         {
          "length": 5,
          "values": [
           707,
           679,
           81,
           0.318,
           0.259
          ],
          "vectorType": "dense"
         }
        ],
        [
         740,
         738,
         80,
         0.334,
         0.276,
         0.402,
         {
          "length": 5,
          "values": [
           740,
           738,
           80,
           0.334,
           0.276
          ],
          "vectorType": "dense"
         }
        ],
        [
         632,
         630,
         81,
         0.319,
         0.247,
         0.361,
         {
          "length": 5,
          "values": [
           632,
           630,
           81,
           0.319,
           0.247
          ],
          "vectorType": "dense"
         }
        ],
        [
         683,
         595,
         87,
         0.311,
         0.246,
         0.385,
         {
          "length": 5,
          "values": [
           683,
           595,
           87,
           0.311,
           0.246
          ],
          "vectorType": "dense"
         }
        ],
        [
         698,
         792,
         74,
         0.331,
         0.269,
         0.391,
         {
          "length": 5,
          "values": [
           698,
           792,
           74,
           0.331,
           0.269
          ],
          "vectorType": "dense"
         }
        ],
        [
         712,
         576,
         99,
         0.331,
         0.261,
         0.381,
         {
          "length": 5,
          "values": [
           712,
           576,
           99,
           0.331,
           0.261
          ],
          "vectorType": "dense"
         }
        ],
        [
         629,
         735,
         67,
         0.314,
         0.243,
         0.364,
         {
          "length": 5,
          "values": [
           629,
           735,
           67,
           0.314,
           0.243
          ],
          "vectorType": "dense"
         }
        ],
        [
         637,
         680,
         74,
         0.311,
         0.241,
         0.359,
         {
          "length": 5,
          "values": [
           637,
           680,
           74,
           0.311,
           0.241
          ],
          "vectorType": "dense"
         }
        ],
        [
         642,
         626,
         89,
         0.319,
         0.251,
         0.369,
         {
          "length": 5,
          "values": [
           642,
           626,
           89,
           0.319,
           0.251
          ],
          "vectorType": "dense"
         }
        ],
        [
         694,
         728,
         73,
         0.32,
         0.257,
         0.384,
         {
          "length": 5,
          "values": [
           694,
           728,
           73,
           0.32,
           0.257
          ],
          "vectorType": "dense"
         }
        ],
        [
         699,
         600,
         92,
         0.316,
         0.25,
         0.39,
         {
          "length": 5,
          "values": [
           699,
           600,
           92,
           0.316,
           0.25
          ],
          "vectorType": "dense"
         }
        ],
        [
         632,
         608,
         86,
         0.321,
         0.258,
         0.363,
         {
          "length": 5,
          "values": [
           632,
           608,
           86,
           0.321,
           0.258
          ],
          "vectorType": "dense"
         }
        ],
        [
         695,
         714,
         83,
         0.326,
         0.263,
         0.394,
         {
          "length": 5,
          "values": [
           695,
           714,
           83,
           0.326,
           0.263
          ],
          "vectorType": "dense"
         }
        ],
        [
         731,
         651,
         89,
         0.323,
         0.26,
         0.398,
         {
          "length": 5,
          "values": [
           731,
           651,
           89,
           0.323,
           0.26
          ],
          "vectorType": "dense"
         }
        ],
        [
         555,
         741,
         54,
         0.298,
         0.242,
         0.348,
         {
          "length": 5,
          "values": [
           555,
           741,
           54,
           0.298,
           0.242
          ],
          "vectorType": "dense"
         }
        ],
        [
         550,
         789,
         54,
         0.305,
         0.238,
         0.359,
         {
          "length": 5,
          "values": [
           550,
           789,
           54,
           0.305,
           0.238
          ],
          "vectorType": "dense"
         }
        ],
        [
         813,
         689,
         89,
         0.357,
         0.283,
         0.42,
         {
          "length": 5,
          "values": [
           813,
           689,
           89,
           0.357,
           0.283
          ],
          "vectorType": "dense"
         }
        ],
        [
         714,
         771,
         75,
         0.321,
         0.261,
         0.385,
         {
          "length": 5,
          "values": [
           714,
           771,
           75,
           0.321,
           0.261
          ],
          "vectorType": "dense"
         }
        ],
        [
         660,
         694,
         77,
         0.31,
         0.261,
         0.383,
         {
          "length": 5,
          "values": [
           660,
           694,
           77,
           0.31,
           0.261
          ],
          "vectorType": "dense"
         }
        ],
        [
         631,
         757,
         71,
         0.303,
         0.244,
         0.37,
         {
          "length": 5,
          "values": [
           631,
           757,
           71,
           0.303,
           0.244
          ],
          "vectorType": "dense"
         }
        ],
        [
         641,
         596,
         87,
         0.309,
         0.246,
         0.368,
         {
          "length": 5,
          "values": [
           641,
           596,
           87,
           0.309,
           0.246
          ],
          "vectorType": "dense"
         }
        ],
        [
         666,
         731,
         78,
         0.314,
         0.261,
         0.387,
         {
          "length": 5,
          "values": [
           666,
           731,
           78,
           0.314,
           0.261
          ],
          "vectorType": "dense"
         }
        ],
        [
         703,
         658,
         88,
         0.324,
         0.25,
         0.378,
         {
          "length": 5,
          "values": [
           703,
           658,
           88,
           0.324,
           0.25
          ],
          "vectorType": "dense"
         }
        ],
        [
         617,
         631,
         82,
         0.306,
         0.244,
         0.351,
         {
          "length": 5,
          "values": [
           617,
           631,
           82,
           0.306,
           0.244
          ],
          "vectorType": "dense"
         }
        ],
        [
         704,
         648,
         84,
         0.321,
         0.259,
         0.391,
         {
          "length": 5,
          "values": [
           704,
           648,
           84,
           0.321,
           0.259
          ],
          "vectorType": "dense"
         }
        ],
        [
         628,
         544,
         94,
         0.305,
         0.248,
         0.352,
         {
          "length": 5,
          "values": [
           628,
           544,
           94,
           0.305,
           0.248
          ],
          "vectorType": "dense"
         }
        ],
        [
         682,
         616,
         87,
         0.314,
         0.257,
         0.375,
         {
          "length": 5,
          "values": [
           682,
           616,
           87,
           0.314,
           0.257
          ],
          "vectorType": "dense"
         }
        ],
        [
         759,
         672,
         91,
         0.34,
         0.274,
         0.421,
         {
          "length": 5,
          "values": [
           759,
           672,
           91,
           0.34,
           0.274
          ],
          "vectorType": "dense"
         }
        ],
        [
         628,
         592,
         81,
         0.309,
         0.251,
         0.373,
         {
          "length": 5,
          "values": [
           628,
           592,
           81,
           0.309,
           0.251
          ],
          "vectorType": "dense"
         }
        ],
        [
         703,
         532,
         100,
         0.325,
         0.256,
         0.396,
         {
          "length": 5,
          "values": [
           703,
           532,
           100,
           0.325,
           0.256
          ],
          "vectorType": "dense"
         }
        ],
        [
         772,
         748,
         85,
         0.333,
         0.263,
         0.395,
         {
          "length": 5,
          "values": [
           772,
           748,
           85,
           0.333,
           0.263
          ],
          "vectorType": "dense"
         }
        ],
        [
         800,
         620,
         104,
         0.336,
         0.263,
         0.399,
         {
          "length": 5,
          "values": [
           800,
           620,
           104,
           0.336,
           0.263
          ],
          "vectorType": "dense"
         }
        ],
        [
         597,
         734,
         65,
         0.306,
         0.239,
         0.355,
         {
          "length": 5,
          "values": [
           597,
           734,
           65,
           0.306,
           0.239
          ],
          "vectorType": "dense"
         }
        ],
        [
         651,
         616,
         85,
         0.317,
         0.247,
         0.369,
         {
          "length": 5,
          "values": [
           651,
           616,
           85,
           0.317,
           0.247
          ],
          "vectorType": "dense"
         }
        ],
        [
         594,
         583,
         83,
         0.31,
         0.247,
         0.351,
         {
          "length": 5,
          "values": [
           594,
           583,
           83,
           0.31,
           0.247
          ],
          "vectorType": "dense"
         }
        ],
        [
         664,
         744,
         68,
         0.317,
         0.257,
         0.398,
         {
          "length": 5,
          "values": [
           664,
           744,
           68,
           0.317,
           0.257
          ],
          "vectorType": "dense"
         }
        ],
        [
         670,
         626,
         83,
         0.318,
         0.248,
         0.368,
         {
          "length": 5,
          "values": [
           670,
           626,
           83,
           0.318,
           0.248
          ],
          "vectorType": "dense"
         }
        ],
        [
         578,
         633,
         76,
         0.309,
         0.249,
         0.337,
         {
          "length": 5,
          "values": [
           578,
           633,
           76,
           0.309,
           0.249
          ],
          "vectorType": "dense"
         }
        ],
        [
         637,
         735,
         70,
         0.32,
         0.252,
         0.368,
         {
          "length": 5,
          "values": [
           637,
           735,
           70,
           0.32,
           0.252
          ],
          "vectorType": "dense"
         }
        ],
        [
         763,
         680,
         87,
         0.332,
         0.268,
         0.419,
         {
          "length": 5,
          "values": [
           763,
           680,
           87,
           0.332,
           0.268
          ],
          "vectorType": "dense"
         }
        ],
        [
         747,
         829,
         69,
         0.339,
         0.258,
         0.403,
         {
          "length": 5,
          "values": [
           747,
           829,
           69,
           0.339,
           0.258
          ],
          "vectorType": "dense"
         }
        ],
        [
         729,
         880,
         67,
         0.322,
         0.258,
         0.418,
         {
          "length": 5,
          "values": [
           729,
           880,
           67,
           0.322,
           0.258
          ],
          "vectorType": "dense"
         }
        ],
        [
         842,
         825,
         78,
         0.352,
         0.278,
         0.43,
         {
          "length": 5,
          "values": [
           842,
           825,
           78,
           0.352,
           0.278
          ],
          "vectorType": "dense"
         }
        ],
        [
         770,
         803,
         75,
         0.326,
         0.252,
         0.401,
         {
          "length": 5,
          "values": [
           770,
           803,
           75,
           0.326,
           0.252
          ],
          "vectorType": "dense"
         }
        ],
        [
         720,
         801,
         76,
         0.326,
         0.264,
         0.432,
         {
          "length": 5,
          "values": [
           720,
           801,
           76,
           0.326,
           0.264
          ],
          "vectorType": "dense"
         }
        ],
        [
         748,
         746,
         77,
         0.319,
         0.258,
         0.415,
         {
          "length": 5,
          "values": [
           748,
           746,
           77,
           0.319,
           0.258
          ],
          "vectorType": "dense"
         }
        ],
        [
         783,
         752,
         84,
         0.33,
         0.266,
         0.427,
         {
          "length": 5,
          "values": [
           783,
           752,
           84,
           0.33,
           0.266
          ],
          "vectorType": "dense"
         }
        ],
        [
         742,
         957,
         61,
         0.324,
         0.263,
         0.422,
         {
          "length": 5,
          "values": [
           742,
           957,
           61,
           0.324,
           0.263
          ],
          "vectorType": "dense"
         }
        ],
        [
         896,
         735,
         98,
         0.349,
         0.272,
         0.451,
         {
          "length": 5,
          "values": [
           896,
           735,
           98,
           0.349,
           0.272
          ],
          "vectorType": "dense"
         }
        ],
        [
         648,
         678,
         76,
         0.318,
         0.253,
         0.373,
         {
          "length": 5,
          "values": [
           648,
           678,
           76,
           0.318,
           0.253
          ],
          "vectorType": "dense"
         }
        ],
        [
         715,
         691,
         83,
         0.328,
         0.262,
         0.412,
         {
          "length": 5,
          "values": [
           715,
           691,
           83,
           0.328,
           0.262
          ],
          "vectorType": "dense"
         }
        ],
        [
         635,
         675,
         73,
         0.309,
         0.252,
         0.371,
         {
          "length": 5,
          "values": [
           635,
           675,
           73,
           0.309,
           0.252
          ],
          "vectorType": "dense"
         }
        ],
        [
         862,
         817,
         91,
         0.346,
         0.276,
         0.428,
         {
          "length": 5,
          "values": [
           862,
           817,
           91,
           0.346,
           0.276
          ],
          "vectorType": "dense"
         }
        ],
        [
         786,
         806,
         85,
         0.328,
         0.261,
         0.43,
         {
          "length": 5,
          "values": [
           786,
           806,
           85,
           0.328,
           0.261
          ],
          "vectorType": "dense"
         }
        ],
        [
         741,
         720,
         91,
         0.328,
         0.265,
         0.401,
         {
          "length": 5,
          "values": [
           741,
           720,
           91,
           0.328,
           0.265
          ],
          "vectorType": "dense"
         }
        ],
        [
         823,
         698,
         92,
         0.339,
         0.268,
         0.434,
         {
          "length": 5,
          "values": [
           823,
           698,
           92,
           0.339,
           0.268
          ],
          "vectorType": "dense"
         }
        ],
        [
         788,
         758,
         89,
         0.336,
         0.262,
         0.418,
         {
          "length": 5,
          "values": [
           788,
           758,
           89,
           0.336,
           0.262
          ],
          "vectorType": "dense"
         }
        ],
        [
         806,
         789,
         81,
         0.333,
         0.26,
         0.428,
         {
          "length": 5,
          "values": [
           806,
           789,
           81,
           0.333,
           0.26
          ],
          "vectorType": "dense"
         }
        ],
        [
         702,
         749,
         80,
         0.327,
         0.254,
         0.41,
         {
          "length": 5,
          "values": [
           702,
           749,
           80,
           0.327,
           0.254
          ],
          "vectorType": "dense"
         }
        ],
        [
         723,
         744,
         80,
         0.33,
         0.264,
         0.403,
         {
          "length": 5,
          "values": [
           723,
           744,
           80,
           0.33,
           0.264
          ],
          "vectorType": "dense"
         }
        ],
        [
         668,
         763,
         65,
         0.332,
         0.26,
         0.378,
         {
          "length": 5,
          "values": [
           668,
           763,
           65,
           0.332,
           0.26
          ],
          "vectorType": "dense"
         }
        ],
        [
         760,
         801,
         78,
         0.335,
         0.272,
         0.428,
         {
          "length": 5,
          "values": [
           760,
           801,
           78,
           0.335,
           0.272
          ],
          "vectorType": "dense"
         }
        ],
        [
         783,
         669,
         90,
         0.324,
         0.26,
         0.43,
         {
          "length": 5,
          "values": [
           783,
           669,
           90,
           0.324,
           0.26
          ],
          "vectorType": "dense"
         }
        ],
        [
         798,
         693,
         95,
         0.34,
         0.263,
         0.378,
         {
          "length": 5,
          "values": [
           798,
           693,
           95,
           0.34,
           0.263
          ],
          "vectorType": "dense"
         }
        ],
        [
         823,
         849,
         75,
         0.333,
         0.266,
         0.43,
         {
          "length": 5,
          "values": [
           823,
           849,
           75,
           0.333,
           0.266
          ],
          "vectorType": "dense"
         }
        ],
        [
         845,
         655,
         96,
         0.336,
         0.269,
         0.446,
         {
          "length": 5,
          "values": [
           845,
           655,
           96,
           0.336,
           0.269
          ],
          "vectorType": "dense"
         }
        ],
        [
         615,
         719,
         72,
         0.319,
         0.25,
         0.381,
         {
          "length": 5,
          "values": [
           615,
           719,
           72,
           0.319,
           0.25
          ],
          "vectorType": "dense"
         }
        ],
        [
         708,
         760,
         73,
         0.327,
         0.258,
         0.395,
         {
          "length": 5,
          "values": [
           708,
           760,
           73,
           0.327,
           0.258
          ],
          "vectorType": "dense"
         }
        ],
        [
         794,
         696,
         95,
         0.346,
         0.271,
         0.415,
         {
          "length": 5,
          "values": [
           794,
           696,
           95,
           0.346,
           0.271
          ],
          "vectorType": "dense"
         }
        ],
        [
         786,
         684,
         92,
         0.338,
         0.255,
         0.404,
         {
          "length": 5,
          "values": [
           786,
           684,
           92,
           0.338,
           0.255
          ],
          "vectorType": "dense"
         }
        ],
        [
         680,
         781,
         70,
         0.318,
         0.256,
         0.398,
         {
          "length": 5,
          "values": [
           680,
           781,
           70,
           0.318,
           0.256
          ],
          "vectorType": "dense"
         }
        ],
        [
         644,
         699,
         72,
         0.31,
         0.247,
         0.363,
         {
          "length": 5,
          "values": [
           644,
           699,
           72,
           0.31,
           0.247
          ],
          "vectorType": "dense"
         }
        ],
        [
         732,
         717,
         86,
         0.325,
         0.254,
         0.387,
         {
          "length": 5,
          "values": [
           732,
           717,
           86,
           0.325,
           0.254
          ],
          "vectorType": "dense"
         }
        ],
        [
         831,
         841,
         84,
         0.337,
         0.284,
         0.43,
         {
          "length": 5,
          "values": [
           831,
           841,
           84,
           0.337,
           0.284
          ],
          "vectorType": "dense"
         }
        ],
        [
         798,
         714,
         87,
         0.338,
         0.263,
         0.424,
         {
          "length": 5,
          "values": [
           798,
           714,
           87,
           0.338,
           0.263
          ],
          "vectorType": "dense"
         }
        ],
        [
         654,
         569,
         96,
         0.322,
         0.255,
         0.381,
         {
          "length": 5,
          "values": [
           654,
           569,
           96,
           0.322,
           0.255
          ],
          "vectorType": "dense"
         }
        ],
        [
         654,
         673,
         76,
         0.313,
         0.252,
         0.39,
         {
          "length": 5,
          "values": [
           654,
           673,
           76,
           0.313,
           0.252
          ],
          "vectorType": "dense"
         }
        ],
        [
         638,
         679,
         73,
         0.313,
         0.251,
         0.37,
         {
          "length": 5,
          "values": [
           638,
           679,
           73,
           0.313,
           0.251
          ],
          "vectorType": "dense"
         }
        ],
        [
         667,
         734,
         77,
         0.321,
         0.255,
         0.385,
         {
          "length": 5,
          "values": [
           667,
           734,
           77,
           0.321,
           0.255
          ],
          "vectorType": "dense"
         }
        ],
        [
         741,
         839,
         71,
         0.325,
         0.261,
         0.428,
         {
          "length": 5,
          "values": [
           741,
           839,
           71,
           0.325,
           0.261
          ],
          "vectorType": "dense"
         }
        ],
        [
         637,
         688,
         78,
         0.322,
         0.254,
         0.379,
         {
          "length": 5,
          "values": [
           637,
           688,
           78,
           0.322,
           0.254
          ],
          "vectorType": "dense"
         }
        ],
        [
         783,
         578,
         108,
         0.339,
         0.263,
         0.401,
         {
          "length": 5,
          "values": [
           783,
           578,
           108,
           0.339,
           0.263
          ],
          "vectorType": "dense"
         }
        ],
        [
         797,
         738,
         90,
         0.347,
         0.271,
         0.43,
         {
          "length": 5,
          "values": [
           797,
           738,
           90,
           0.347,
           0.271
          ],
          "vectorType": "dense"
         }
        ],
        [
         731,
         760,
         76,
         0.322,
         0.252,
         0.39,
         {
          "length": 5,
          "values": [
           731,
           760,
           76,
           0.322,
           0.252
          ],
          "vectorType": "dense"
         }
        ],
        [
         739,
         713,
         86,
         0.327,
         0.253,
         0.4,
         {
          "length": 5,
          "values": [
           739,
           713,
           86,
           0.327,
           0.253
          ],
          "vectorType": "dense"
         }
        ],
        [
         663,
         700,
         64,
         0.321,
         0.25,
         0.374,
         {
          "length": 5,
          "values": [
           663,
           700,
           64,
           0.321,
           0.25
          ],
          "vectorType": "dense"
         }
        ],
        [
         656,
         723,
         74,
         0.321,
         0.261,
         0.388,
         {
          "length": 5,
          "values": [
           656,
           723,
           74,
           0.321,
           0.261
          ],
          "vectorType": "dense"
         }
        ],
        [
         718,
         835,
         67,
         0.326,
         0.253,
         0.399,
         {
          "length": 5,
          "values": [
           718,
           835,
           67,
           0.326,
           0.253
          ],
          "vectorType": "dense"
         }
        ],
        [
         698,
         618,
         83,
         0.322,
         0.253,
         0.375,
         {
          "length": 5,
          "values": [
           698,
           618,
           83,
           0.322,
           0.253
          ],
          "vectorType": "dense"
         }
        ],
        [
         601,
         611,
         79,
         0.309,
         0.236,
         0.327,
         {
          "length": 5,
          "values": [
           601,
           611,
           79,
           0.309,
           0.236
          ],
          "vectorType": "dense"
         }
        ],
        [
         771,
         743,
         87,
         0.331,
         0.267,
         0.428,
         {
          "length": 5,
          "values": [
           771,
           743,
           87,
           0.331,
           0.267
          ],
          "vectorType": "dense"
         }
        ],
        [
         809,
         733,
         86,
         0.329,
         0.269,
         0.427,
         {
          "length": 5,
          "values": [
           809,
           733,
           86,
           0.329,
           0.269
          ],
          "vectorType": "dense"
         }
        ],
        [
         632,
         781,
         66,
         0.315,
         0.246,
         0.363,
         {
          "length": 5,
          "values": [
           632,
           781,
           66,
           0.315,
           0.246
          ],
          "vectorType": "dense"
         }
        ],
        [
         818,
         764,
         83,
         0.336,
         0.263,
         0.43,
         {
          "length": 5,
          "values": [
           818,
           764,
           83,
           0.336,
           0.263
          ],
          "vectorType": "dense"
         }
        ],
        [
         800,
         720,
         81,
         0.347,
         0.282,
         0.429,
         {
          "length": 5,
          "values": [
           800,
           720,
           81,
           0.347,
           0.282
          ],
          "vectorType": "dense"
         }
        ],
        [
         732,
         703,
         90,
         0.333,
         0.251,
         0.386,
         {
          "length": 5,
          "values": [
           732,
           703,
           90,
           0.333,
           0.251
          ],
          "vectorType": "dense"
         }
        ],
        [
         686,
         729,
         77,
         0.324,
         0.254,
         0.39,
         {
          "length": 5,
          "values": [
           686,
           729,
           77,
           0.324,
           0.254
          ],
          "vectorType": "dense"
         }
        ],
        [
         736,
         720,
         85,
         0.315,
         0.253,
         0.392,
         {
          "length": 5,
          "values": [
           736,
           720,
           85,
           0.315,
           0.253
          ],
          "vectorType": "dense"
         }
        ],
        [
         677,
         666,
         89,
         0.327,
         0.255,
         0.376,
         {
          "length": 5,
          "values": [
           677,
           666,
           89,
           0.327,
           0.255
          ],
          "vectorType": "dense"
         }
        ],
        [
         729,
         861,
         60,
         0.324,
         0.265,
         0.385,
         {
          "length": 5,
          "values": [
           729,
           861,
           60,
           0.324,
           0.265
          ],
          "vectorType": "dense"
         }
        ],
        [
         729,
         688,
         84,
         0.318,
         0.253,
         0.424,
         {
          "length": 5,
          "values": [
           729,
           688,
           84,
           0.318,
           0.253
          ],
          "vectorType": "dense"
         }
        ],
        [
         706,
         691,
         83,
         0.319,
         0.261,
         0.388,
         {
          "length": 5,
          "values": [
           706,
           691,
           83,
           0.319,
           0.261
          ],
          "vectorType": "dense"
         }
        ],
        [
         687,
         639,
         91,
         0.313,
         0.252,
         0.401,
         {
          "length": 5,
          "values": [
           687,
           639,
           91,
           0.313,
           0.252
          ],
          "vectorType": "dense"
         }
        ],
        [
         682,
         579,
         95,
         0.328,
         0.261,
         0.382,
         {
          "length": 5,
          "values": [
           682,
           579,
           95,
           0.328,
           0.261
          ],
          "vectorType": "dense"
         }
        ],
        [
         690,
         802,
         71,
         0.319,
         0.263,
         0.379,
         {
          "length": 5,
          "values": [
           690,
           802,
           71,
           0.319,
           0.263
          ],
          "vectorType": "dense"
         }
        ],
        [
         705,
         782,
         77,
         0.326,
         0.264,
         0.407,
         {
          "length": 5,
          "values": [
           705,
           782,
           77,
           0.326,
           0.264
          ],
          "vectorType": "dense"
         }
        ],
        [
         633,
         636,
         84,
         0.31,
         0.247,
         0.375,
         {
          "length": 5,
          "values": [
           633,
           636,
           84,
           0.31,
           0.247
          ],
          "vectorType": "dense"
         }
        ],
        [
         695,
         568,
         98,
         0.323,
         0.257,
         0.385,
         {
          "length": 5,
          "values": [
           695,
           568,
           98,
           0.323,
           0.257
          ],
          "vectorType": "dense"
         }
        ],
        [
         839,
         660,
         97,
         0.344,
         0.267,
         0.425,
         {
          "length": 5,
          "values": [
           839,
           660,
           97,
           0.344,
           0.267
          ],
          "vectorType": "dense"
         }
        ],
        [
         757,
         787,
         77,
         0.325,
         0.264,
         0.401,
         {
          "length": 5,
          "values": [
           757,
           787,
           77,
           0.325,
           0.264
          ],
          "vectorType": "dense"
         }
        ],
        [
         667,
         673,
         75,
         0.312,
         0.245,
         0.383,
         {
          "length": 5,
          "values": [
           667,
           673,
           75,
           0.312,
           0.245
          ],
          "vectorType": "dense"
         }
        ],
        [
         568,
         708,
         57,
         0.311,
         0.247,
         0.347,
         {
          "length": 5,
          "values": [
           568,
           708,
           57,
           0.311,
           0.247
          ],
          "vectorType": "dense"
         }
        ],
        [
         650,
         622,
         83,
         0.32,
         0.255,
         0.368,
         {
          "length": 5,
          "values": [
           650,
           622,
           83,
           0.32,
           0.255
          ],
          "vectorType": "dense"
         }
        ],
        [
         719,
         818,
         74,
         0.326,
         0.255,
         0.412,
         {
          "length": 5,
          "values": [
           719,
           818,
           74,
           0.326,
           0.255
          ],
          "vectorType": "dense"
         }
        ],
        [
         556,
         674,
         62,
         0.299,
         0.233,
         0.348,
         {
          "length": 5,
          "values": [
           556,
           674,
           62,
           0.299,
           0.233
          ],
          "vectorType": "dense"
         }
        ],
        [
         747,
         572,
         101,
         0.335,
         0.264,
         0.379,
         {
          "length": 5,
          "values": [
           747,
           572,
           101,
           0.335,
           0.264
          ],
          "vectorType": "dense"
         }
        ],
        [
         617,
         785,
         62,
         0.322,
         0.253,
         0.381,
         {
          "length": 5,
          "values": [
           617,
           785,
           62,
           0.322,
           0.253
          ],
          "vectorType": "dense"
         }
        ],
        [
         759,
         588,
         99,
         0.331,
         0.269,
         0.425,
         {
          "length": 5,
          "values": [
           759,
           588,
           99,
           0.331,
           0.269
          ],
          "vectorType": "dense"
         }
        ],
        [
         632,
         655,
         80,
         0.317,
         0.247,
         0.361,
         {
          "length": 5,
          "values": [
           632,
           655,
           80,
           0.317,
           0.247
          ],
          "vectorType": "dense"
         }
        ],
        [
         681,
         667,
         85,
         0.328,
         0.252,
         0.391,
         {
          "length": 5,
          "values": [
           681,
           667,
           85,
           0.328,
           0.252
          ],
          "vectorType": "dense"
         }
        ],
        [
         810,
         764,
         86,
         0.341,
         0.283,
         0.441,
         {
          "length": 5,
          "values": [
           810,
           764,
           86,
           0.341,
           0.283
          ],
          "vectorType": "dense"
         }
        ],
        [
         696,
         697,
         81,
         0.319,
         0.249,
         0.381,
         {
          "length": 5,
          "values": [
           696,
           697,
           81,
           0.319,
           0.249
          ],
          "vectorType": "dense"
         }
        ],
        [
         762,
         658,
         96,
         0.331,
         0.26,
         0.397,
         {
          "length": 5,
          "values": [
           762,
           658,
           96,
           0.331,
           0.26
          ],
          "vectorType": "dense"
         }
        ],
        [
         679,
         736,
         74,
         0.314,
         0.247,
         0.395,
         {
          "length": 5,
          "values": [
           679,
           736,
           74,
           0.314,
           0.247
          ],
          "vectorType": "dense"
         }
        ],
        [
         627,
         747,
         70,
         0.313,
         0.244,
         0.356,
         {
          "length": 5,
          "values": [
           627,
           747,
           70,
           0.313,
           0.244
          ],
          "vectorType": "dense"
         }
        ],
        [
         761,
         766,
         75,
         0.335,
         0.265,
         0.384,
         {
          "length": 5,
          "values": [
           761,
           766,
           75,
           0.335,
           0.265
          ],
          "vectorType": "dense"
         }
        ],
        [
         829,
         643,
         104,
         0.342,
         0.271,
         0.432,
         {
          "length": 5,
          "values": [
           829,
           643,
           104,
           0.342,
           0.271
          ],
          "vectorType": "dense"
         }
        ],
        [
         693,
         630,
         80,
         0.323,
         0.264,
         0.371,
         {
          "length": 5,
          "values": [
           693,
           630,
           80,
           0.323,
           0.264
          ],
          "vectorType": "dense"
         }
        ],
        [
         673,
         686,
         84,
         0.317,
         0.268,
         0.399,
         {
          "length": 5,
          "values": [
           673,
           686,
           84,
           0.317,
           0.268
          ],
          "vectorType": "dense"
         }
        ],
        [
         580,
         600,
         79,
         0.306,
         0.244,
         0.348,
         {
          "length": 5,
          "values": [
           580,
           600,
           79,
           0.306,
           0.244
          ],
          "vectorType": "dense"
         }
        ],
        [
         641,
         734,
         67,
         0.317,
         0.262,
         0.37,
         {
          "length": 5,
          "values": [
           641,
           734,
           67,
           0.317,
           0.262
          ],
          "vectorType": "dense"
         }
        ],
        [
         673,
         675,
         81,
         0.318,
         0.265,
         0.385,
         {
          "length": 5,
          "values": [
           673,
           675,
           81,
           0.318,
           0.265
          ],
          "vectorType": "dense"
         }
        ],
        [
         593,
         585,
         78,
         0.312,
         0.251,
         0.362,
         {
          "length": 5,
          "values": [
           593,
           585,
           78,
           0.312,
           0.251
          ],
          "vectorType": "dense"
         }
        ],
        [
         652,
         676,
         90,
         0.32,
         0.257,
         0.369,
         {
          "length": 5,
          "values": [
           652,
           676,
           90,
           0.32,
           0.257
          ],
          "vectorType": "dense"
         }
        ],
        [
         758,
         679,
         87,
         0.339,
         0.276,
         0.404,
         {
          "length": 5,
          "values": [
           758,
           679,
           87,
           0.339,
           0.276
          ],
          "vectorType": "dense"
         }
        ],
        [
         738,
         796,
         77,
         0.327,
         0.259,
         0.404,
         {
          "length": 5,
          "values": [
           738,
           796,
           77,
           0.327,
           0.259
          ],
          "vectorType": "dense"
         }
        ],
        [
         720,
         690,
         81,
         0.333,
         0.266,
         0.407,
         {
          "length": 5,
          "values": [
           720,
           690,
           81,
           0.333,
           0.266
          ],
          "vectorType": "dense"
         }
        ],
        [
         615,
         567,
         75,
         0.31,
         0.255,
         0.363,
         {
          "length": 5,
          "values": [
           615,
           567,
           75,
           0.31,
           0.255
          ],
          "vectorType": "dense"
         }
        ],
        [
         686,
         634,
         92,
         0.317,
         0.259,
         0.371,
         {
          "length": 5,
          "values": [
           686,
           634,
           92,
           0.317,
           0.259
          ],
          "vectorType": "dense"
         }
        ],
        [
         682,
         774,
         74,
         0.324,
         0.258,
         0.384,
         {
          "length": 5,
          "values": [
           682,
           774,
           74,
           0.324,
           0.258
          ],
          "vectorType": "dense"
         }
        ],
        [
         682,
         807,
         66,
         0.328,
         0.265,
         0.375,
         {
          "length": 5,
          "values": [
           682,
           807,
           66,
           0.328,
           0.265
          ],
          "vectorType": "dense"
         }
        ],
        [
         652,
         645,
         84,
         0.317,
         0.252,
         0.351,
         {
          "length": 5,
          "values": [
           652,
           645,
           84,
           0.317,
           0.252
          ],
          "vectorType": "dense"
         }
        ],
        [
         656,
         714,
         69,
         0.313,
         0.261,
         0.377,
         {
          "length": 5,
          "values": [
           656,
           714,
           69,
           0.313,
           0.261
          ],
          "vectorType": "dense"
         }
        ],
        [
         750,
         696,
         89,
         0.331,
         0.273,
         0.421,
         {
          "length": 5,
          "values": [
           750,
           696,
           89,
           0.331,
           0.273
          ],
          "vectorType": "dense"
         }
        ],
        [
         746,
         640,
         88,
         0.341,
         0.272,
         0.4,
         {
          "length": 5,
          "values": [
           746,
           640,
           88,
           0.341,
           0.272
          ],
          "vectorType": "dense"
         }
        ],
        [
         799,
         652,
         98,
         0.34,
         0.269,
         0.421,
         {
          "length": 5,
          "values": [
           799,
           652,
           98,
           0.34,
           0.269
          ],
          "vectorType": "dense"
         }
        ],
        [
         724,
         775,
         78,
         0.335,
         0.27,
         0.409,
         {
          "length": 5,
          "values": [
           724,
           775,
           78,
           0.335,
           0.27
          ],
          "vectorType": "dense"
         }
        ],
        [
         722,
         779,
         70,
         0.322,
         0.26,
         0.393,
         {
          "length": 5,
          "values": [
           722,
           779,
           70,
           0.322,
           0.26
          ],
          "vectorType": "dense"
         }
        ],
        [
         701,
         719,
         71,
         0.319,
         0.261,
         0.401,
         {
          "length": 5,
          "values": [
           701,
           719,
           71,
           0.319,
           0.261
          ],
          "vectorType": "dense"
         }
        ],
        [
         800,
         650,
         99,
         0.329,
         0.262,
         0.413,
         {
          "length": 5,
          "values": [
           800,
           650,
           99,
           0.329,
           0.262
          ],
          "vectorType": "dense"
         }
        ],
        [
         623,
         710,
         74,
         0.314,
         0.239,
         0.356,
         {
          "length": 5,
          "values": [
           623,
           710,
           74,
           0.314,
           0.239
          ],
          "vectorType": "dense"
         }
        ],
        [
         704,
         785,
         70,
         0.338,
         0.265,
         0.369,
         {
          "length": 5,
          "values": [
           704,
           785,
           70,
           0.338,
           0.265
          ],
          "vectorType": "dense"
         }
        ],
        [
         789,
         679,
         92,
         0.335,
         0.274,
         0.427,
         {
          "length": 5,
          "values": [
           789,
           679,
           92,
           0.335,
           0.274
          ],
          "vectorType": "dense"
         }
        ],
        [
         643,
         646,
         85,
         0.32,
         0.257,
         0.375,
         {
          "length": 5,
          "values": [
           643,
           646,
           85,
           0.32,
           0.257
          ],
          "vectorType": "dense"
         }
        ],
        [
         696,
         767,
         79,
         0.32,
         0.271,
         0.397,
         {
          "length": 5,
          "values": [
           696,
           767,
           79,
           0.32,
           0.271
          ],
          "vectorType": "dense"
         }
        ],
        [
         654,
         609,
         91,
         0.318,
         0.25,
         0.379,
         {
          "length": 5,
          "values": [
           654,
           609,
           91,
           0.318,
           0.25
          ],
          "vectorType": "dense"
         }
        ],
        [
         764,
         708,
         87,
         0.333,
         0.277,
         0.418,
         {
          "length": 5,
          "values": [
           764,
           708,
           87,
           0.333,
           0.277
          ],
          "vectorType": "dense"
         }
        ],
        [
         709,
         822,
         70,
         0.319,
         0.261,
         0.401,
         {
          "length": 5,
          "values": [
           709,
           822,
           70,
           0.319,
           0.261
          ],
          "vectorType": "dense"
         }
        ],
        [
         677,
         646,
         82,
         0.326,
         0.264,
         0.386,
         {
          "length": 5,
          "values": [
           677,
           646,
           82,
           0.326,
           0.264
          ],
          "vectorType": "dense"
         }
        ],
        [
         575,
         680,
         68,
         0.3,
         0.241,
         0.344,
         {
          "length": 5,
          "values": [
           575,
           680,
           68,
           0.3,
           0.241
          ],
          "vectorType": "dense"
         }
        ],
        [
         770,
         703,
         91,
         0.337,
         0.273,
         0.416,
         {
          "length": 5,
          "values": [
           770,
           703,
           91,
           0.337,
           0.273
          ],
          "vectorType": "dense"
         }
        ],
        [
         708,
         782,
         74,
         0.326,
         0.262,
         0.381,
         {
          "length": 5,
          "values": [
           708,
           782,
           74,
           0.326,
           0.262
          ],
          "vectorType": "dense"
         }
        ],
        [
         696,
         635,
         90,
         0.329,
         0.249,
         0.373,
         {
          "length": 5,
          "values": [
           696,
           635,
           90,
           0.329,
           0.249
          ],
          "vectorType": "dense"
         }
        ],
        [
         659,
         648,
         84,
         0.325,
         0.264,
         0.383,
         {
          "length": 5,
          "values": [
           659,
           648,
           84,
           0.325,
           0.264
          ],
          "vectorType": "dense"
         }
        ],
        [
         653,
         653,
         81,
         0.311,
         0.25,
         0.351,
         {
          "length": 5,
          "values": [
           653,
           653,
           81,
           0.311,
           0.25
          ],
          "vectorType": "dense"
         }
        ],
        [
         558,
         740,
         60,
         0.301,
         0.24,
         0.36,
         {
          "length": 5,
          "values": [
           558,
           740,
           60,
           0.301,
           0.24
          ],
          "vectorType": "dense"
         }
        ],
        [
         687,
         697,
         79,
         0.325,
         0.247,
         0.375,
         {
          "length": 5,
          "values": [
           687,
           697,
           79,
           0.325,
           0.247
          ],
          "vectorType": "dense"
         }
        ],
        [
         679,
         710,
         79,
         0.335,
         0.27,
         0.384,
         {
          "length": 5,
          "values": [
           679,
           710,
           79,
           0.335,
           0.27
          ],
          "vectorType": "dense"
         }
        ],
        [
         639,
         609,
         77,
         0.31,
         0.255,
         0.366,
         {
          "length": 5,
          "values": [
           639,
           609,
           77,
           0.31,
           0.255
          ],
          "vectorType": "dense"
         }
        ],
        [
         795,
         726,
         89,
         0.338,
         0.277,
         0.436,
         {
          "length": 5,
          "values": [
           795,
           726,
           89,
           0.338,
           0.277
          ],
          "vectorType": "dense"
         }
        ],
        [
         739,
         702,
         89,
         0.325,
         0.256,
         0.383,
         {
          "length": 5,
          "values": [
           739,
           702,
           89,
           0.325,
           0.256
          ],
          "vectorType": "dense"
         }
        ],
        [
         774,
         687,
         94,
         0.341,
         0.266,
         0.419,
         {
          "length": 5,
          "values": [
           774,
           687,
           94,
           0.341,
           0.266
          ],
          "vectorType": "dense"
         }
        ],
        [
         753,
         713,
         89,
         0.34,
         0.274,
         0.407,
         {
          "length": 5,
          "values": [
           753,
           713,
           89,
           0.34,
           0.274
          ],
          "vectorType": "dense"
         }
        ],
        [
         814,
         670,
         93,
         0.347,
         0.274,
         0.433,
         {
          "length": 5,
          "values": [
           814,
           670,
           93,
           0.347,
           0.274
          ],
          "vectorType": "dense"
         }
        ],
        [
         676,
         709,
         73,
         0.317,
         0.26,
         0.375,
         {
          "length": 5,
          "values": [
           676,
           709,
           73,
           0.317,
           0.26
          ],
          "vectorType": "dense"
         }
        ],
        [
         786,
         710,
         87,
         0.337,
         0.273,
         0.413,
         {
          "length": 5,
          "values": [
           786,
           710,
           87,
           0.337,
           0.273
          ],
          "vectorType": "dense"
         }
        ],
        [
         545,
         661,
         61,
         0.31,
         0.251,
         0.35,
         {
          "length": 5,
          "values": [
           545,
           661,
           61,
           0.31,
           0.251
          ],
          "vectorType": "dense"
         }
        ],
        [
         683,
         748,
         78,
         0.341,
         0.262,
         0.373,
         {
          "length": 5,
          "values": [
           683,
           748,
           78,
           0.341,
           0.262
          ],
          "vectorType": "dense"
         }
        ],
        [
         729,
         685,
         83,
         0.324,
         0.266,
         0.418,
         {
          "length": 5,
          "values": [
           729,
           685,
           83,
           0.324,
           0.266
          ],
          "vectorType": "dense"
         }
        ],
        [
         569,
         620,
         77,
         0.302,
         0.247,
         0.349,
         {
          "length": 5,
          "values": [
           569,
           620,
           77,
           0.302,
           0.247
          ],
          "vectorType": "dense"
         }
        ],
        [
         784,
         717,
         90,
         0.337,
         0.285,
         0.428,
         {
          "length": 5,
          "values": [
           784,
           717,
           90,
           0.337,
           0.285
          ],
          "vectorType": "dense"
         }
        ],
        [
         691,
         612,
         88,
         0.327,
         0.264,
         0.388,
         {
          "length": 5,
          "values": [
           691,
           612,
           88,
           0.327,
           0.264
          ],
          "vectorType": "dense"
         }
        ],
        [
         891,
         717,
         95,
         0.335,
         0.279,
         0.455,
         {
          "length": 5,
          "values": [
           891,
           717,
           95,
           0.335,
           0.279
          ],
          "vectorType": "dense"
         }
        ],
        [
         657,
         819,
         60,
         0.316,
         0.257,
         0.396,
         {
          "length": 5,
          "values": [
           657,
           819,
           60,
           0.316,
           0.257
          ],
          "vectorType": "dense"
         }
        ],
        [
         697,
         616,
         86,
         0.325,
         0.262,
         0.396,
         {
          "length": 5,
          "values": [
           697,
           616,
           86,
           0.325,
           0.262
          ],
          "vectorType": "dense"
         }
        ],
        [
         609,
         723,
         65,
         0.305,
         0.247,
         0.35,
         {
          "length": 5,
          "values": [
           609,
           723,
           65,
           0.305,
           0.247
          ],
          "vectorType": "dense"
         }
        ],
        [
         709,
         716,
         79,
         0.328,
         0.256,
         0.398,
         {
          "length": 5,
          "values": [
           709,
           716,
           79,
           0.328,
           0.256
          ],
          "vectorType": "dense"
         }
        ],
        [
         691,
         819,
         68,
         0.309,
         0.236,
         0.367,
         {
          "length": 5,
          "values": [
           691,
           819,
           68,
           0.309,
           0.236
          ],
          "vectorType": "dense"
         }
        ],
        [
         664,
         654,
         89,
         0.323,
         0.26,
         0.376,
         {
          "length": 5,
          "values": [
           664,
           654,
           89,
           0.323,
           0.26
          ],
          "vectorType": "dense"
         }
        ],
        [
         724,
         696,
         84,
         0.327,
         0.273,
         0.408,
         {
          "length": 5,
          "values": [
           724,
           696,
           84,
           0.327,
           0.273
          ],
          "vectorType": "dense"
         }
        ],
        [
         675,
         658,
         81,
         0.311,
         0.257,
         0.359,
         {
          "length": 5,
          "values": [
           675,
           658,
           81,
           0.311,
           0.257
          ],
          "vectorType": "dense"
         }
        ],
        [
         651,
         712,
         76,
         0.311,
         0.254,
         0.381,
         {
          "length": 5,
          "values": [
           651,
           712,
           76,
           0.311,
           0.254
          ],
          "vectorType": "dense"
         }
        ],
        [
         673,
         687,
         87,
         0.327,
         0.253,
         0.376,
         {
          "length": 5,
          "values": [
           673,
           687,
           87,
           0.327,
           0.253
          ],
          "vectorType": "dense"
         }
        ],
        [
         685,
         609,
         92,
         0.334,
         0.264,
         0.364,
         {
          "length": 5,
          "values": [
           685,
           609,
           92,
           0.334,
           0.264
          ],
          "vectorType": "dense"
         }
        ],
        [
         590,
         749,
         64,
         0.308,
         0.249,
         0.359,
         {
          "length": 5,
          "values": [
           590,
           749,
           64,
           0.308,
           0.249
          ],
          "vectorType": "dense"
         }
        ],
        [
         651,
         701,
         78,
         0.314,
         0.262,
         0.383,
         {
          "length": 5,
          "values": [
           651,
           701,
           78,
           0.314,
           0.262
          ],
          "vectorType": "dense"
         }
        ],
        [
         630,
         660,
         81,
         0.307,
         0.25,
         0.38,
         {
          "length": 5,
          "values": [
           630,
           660,
           81,
           0.307,
           0.25
          ],
          "vectorType": "dense"
         }
        ],
        [
         805,
         640,
         100,
         0.342,
         0.273,
         0.413,
         {
          "length": 5,
          "values": [
           805,
           640,
           100,
           0.342,
           0.273
          ],
          "vectorType": "dense"
         }
        ],
        [
         757,
         767,
         83,
         0.34,
         0.283,
         0.436,
         {
          "length": 5,
          "values": [
           757,
           767,
           83,
           0.34,
           0.283
          ],
          "vectorType": "dense"
         }
        ],
        [
         698,
         797,
         65,
         0.332,
         0.265,
         0.378,
         {
          "length": 5,
          "values": [
           698,
           797,
           65,
           0.332,
           0.265
          ],
          "vectorType": "dense"
         }
        ],
        [
         614,
         728,
         64,
         0.309,
         0.251,
         0.365,
         {
          "length": 5,
          "values": [
           614,
           728,
           64,
           0.309,
           0.251
          ],
          "vectorType": "dense"
         }
        ],
        [
         587,
         722,
         70,
         0.311,
         0.259,
         0.37,
         {
          "length": 5,
          "values": [
           587,
           722,
           70,
           0.311,
           0.259
          ],
          "vectorType": "dense"
         }
        ],
        [
         707,
         670,
         89,
         0.327,
         0.262,
         0.386,
         {
          "length": 5,
          "values": [
           707,
           670,
           89,
           0.327,
           0.262
          ],
          "vectorType": "dense"
         }
        ],
        [
         738,
         807,
         79,
         0.35,
         0.277,
         0.381,
         {
          "length": 5,
          "values": [
           738,
           807,
           79,
           0.35,
           0.277
          ],
          "vectorType": "dense"
         }
        ],
        [
         830,
         757,
         84,
         0.348,
         0.273,
         0.409,
         {
          "length": 5,
          "values": [
           830,
           757,
           84,
           0.348,
           0.273
          ],
          "vectorType": "dense"
         }
        ],
        [
         637,
         589,
         93,
         0.326,
         0.261,
         0.367,
         {
          "length": 5,
          "values": [
           637,
           589,
           93,
           0.326,
           0.261
          ],
          "vectorType": "dense"
         }
        ],
        [
         809,
         694,
         97,
         0.345,
         0.286,
         0.413,
         {
          "length": 5,
          "values": [
           809,
           694,
           97,
           0.345,
           0.286
          ],
          "vectorType": "dense"
         }
        ],
        [
         663,
         591,
         92,
         0.323,
         0.263,
         0.388,
         {
          "length": 5,
          "values": [
           663,
           591,
           92,
           0.323,
           0.263
          ],
          "vectorType": "dense"
         }
        ],
        [
         811,
         682,
         86,
         0.329,
         0.275,
         0.448,
         {
          "length": 5,
          "values": [
           811,
           682,
           86,
           0.329,
           0.275
          ],
          "vectorType": "dense"
         }
        ],
        [
         670,
         724,
         77,
         0.319,
         0.265,
         0.381,
         {
          "length": 5,
          "values": [
           670,
           724,
           77,
           0.319,
           0.265
          ],
          "vectorType": "dense"
         }
        ],
        [
         694,
         629,
         90,
         0.324,
         0.257,
         0.388,
         {
          "length": 5,
          "values": [
           694,
           629,
           90,
           0.324,
           0.257
          ],
          "vectorType": "dense"
         }
        ],
        [
         611,
         702,
         67,
         0.319,
         0.257,
         0.345,
         {
          "length": 5,
          "values": [
           611,
           702,
           67,
           0.319,
           0.257
          ],
          "vectorType": "dense"
         }
        ],
        [
         820,
         662,
         103,
         0.343,
         0.267,
         0.425,
         {
          "length": 5,
          "values": [
           820,
           662,
           103,
           0.343,
           0.267
          ],
          "vectorType": "dense"
         }
        ],
        [
         686,
         642,
         83,
         0.322,
         0.259,
         0.385,
         {
          "length": 5,
          "values": [
           686,
           642,
           83,
           0.322,
           0.259
          ],
          "vectorType": "dense"
         }
        ],
        [
         728,
         639,
         91,
         0.327,
         0.27,
         0.4,
         {
          "length": 5,
          "values": [
           728,
           639,
           91,
           0.327,
           0.27
          ],
          "vectorType": "dense"
         }
        ],
        [
         666,
         646,
         83,
         0.322,
         0.266,
         0.388,
         {
          "length": 5,
          "values": [
           666,
           646,
           83,
           0.322,
           0.266
          ],
          "vectorType": "dense"
         }
        ],
        [
         591,
         654,
         73,
         0.324,
         0.255,
         0.342,
         {
          "length": 5,
          "values": [
           591,
           654,
           73,
           0.324,
           0.255
          ],
          "vectorType": "dense"
         }
        ],
        [
         610,
         793,
         59,
         0.308,
         0.248,
         0.356,
         {
          "length": 5,
          "values": [
           610,
           793,
           59,
           0.308,
           0.248
          ],
          "vectorType": "dense"
         }
        ],
        [
         573,
         634,
         75,
         0.308,
         0.244,
         0.342,
         {
          "length": 5,
          "values": [
           573,
           634,
           75,
           0.308,
           0.244
          ],
          "vectorType": "dense"
         }
        ],
        [
         738,
         710,
         74,
         0.328,
         0.275,
         0.4,
         {
          "length": 5,
          "values": [
           738,
           710,
           74,
           0.328,
           0.275
          ],
          "vectorType": "dense"
         }
        ],
        [
         756,
         752,
         76,
         0.339,
         0.284,
         0.405,
         {
          "length": 5,
          "values": [
           756,
           752,
           76,
           0.339,
           0.284
          ],
          "vectorType": "dense"
         }
        ],
        [
         624,
         762,
         67,
         0.309,
         0.251,
         0.383,
         {
          "length": 5,
          "values": [
           624,
           762,
           67,
           0.309,
           0.251
          ],
          "vectorType": "dense"
         }
        ],
        [
         669,
         763,
         66,
         0.318,
         0.256,
         0.377,
         {
          "length": 5,
          "values": [
           669,
           763,
           66,
           0.318,
           0.256
          ],
          "vectorType": "dense"
         }
        ],
        [
         757,
         582,
         102,
         0.336,
         0.261,
         0.419,
         {
          "length": 5,
          "values": [
           757,
           582,
           102,
           0.336,
           0.261
          ],
          "vectorType": "dense"
         }
        ],
        [
         841,
         711,
         91,
         0.344,
         0.283,
         0.456,
         {
          "length": 5,
          "values": [
           841,
           711,
           91,
           0.344,
           0.283
          ],
          "vectorType": "dense"
         }
        ],
        [
         866,
         768,
         88,
         0.351,
         0.282,
         0.429,
         {
          "length": 5,
          "values": [
           866,
           768,
           88,
           0.351,
           0.282
          ],
          "vectorType": "dense"
         }
        ],
        [
         706,
         707,
         80,
         0.329,
         0.269,
         0.403,
         {
          "length": 5,
          "values": [
           706,
           707,
           80,
           0.329,
           0.269
          ],
          "vectorType": "dense"
         }
        ],
        [
         730,
         748,
         73,
         0.333,
         0.275,
         0.41,
         {
          "length": 5,
          "values": [
           730,
           748,
           73,
           0.333,
           0.275
          ],
          "vectorType": "dense"
         }
        ],
        [
         731,
         644,
         90,
         0.338,
         0.264,
         0.396,
         {
          "length": 5,
          "values": [
           731,
           644,
           90,
           0.338,
           0.264
          ],
          "vectorType": "dense"
         }
        ],
        [
         760,
         805,
         81,
         0.34,
         0.258,
         0.384,
         {
          "length": 5,
          "values": [
           760,
           805,
           81,
           0.34,
           0.258
          ],
          "vectorType": "dense"
         }
        ],
        [
         770,
         738,
         84,
         0.339,
         0.269,
         0.415,
         {
          "length": 5,
          "values": [
           770,
           738,
           84,
           0.339,
           0.269
          ],
          "vectorType": "dense"
         }
        ],
        [
         583,
         582,
         89,
         0.315,
         0.256,
         0.344,
         {
          "length": 5,
          "values": [
           583,
           582,
           89,
           0.315,
           0.256
          ],
          "vectorType": "dense"
         }
        ],
        [
         851,
         816,
         85,
         0.343,
         0.282,
         0.422,
         {
          "length": 5,
          "values": [
           851,
           816,
           85,
           0.343,
           0.282
          ],
          "vectorType": "dense"
         }
        ],
        [
         739,
         717,
         79,
         0.331,
         0.263,
         0.412,
         {
          "length": 5,
          "values": [
           739,
           717,
           79,
           0.331,
           0.263
          ],
          "vectorType": "dense"
         }
        ],
        [
         807,
         722,
         95,
         0.345,
         0.28,
         0.448,
         {
          "length": 5,
          "values": [
           807,
           722,
           95,
           0.345,
           0.28
          ],
          "vectorType": "dense"
         }
        ],
        [
         764,
         725,
         82,
         0.341,
         0.278,
         0.402,
         {
          "length": 5,
          "values": [
           764,
           725,
           82,
           0.341,
           0.278
          ],
          "vectorType": "dense"
         }
        ],
        [
         701,
         581,
         95,
         0.319,
         0.264,
         0.408,
         {
          "length": 5,
          "values": [
           701,
           581,
           95,
           0.319,
           0.264
          ],
          "vectorType": "dense"
         }
        ],
        [
         593,
         706,
         63,
         0.313,
         0.25,
         0.35,
         {
          "length": 5,
          "values": [
           593,
           706,
           63,
           0.313,
           0.25
          ],
          "vectorType": "dense"
         }
        ],
        [
         734,
         672,
         89,
         0.328,
         0.266,
         0.406,
         {
          "length": 5,
          "values": [
           734,
           672,
           89,
           0.328,
           0.266
          ],
          "vectorType": "dense"
         }
        ],
        [
         573,
         860,
         54,
         0.302,
         0.239,
         0.346,
         {
          "length": 5,
          "values": [
           573,
           860,
           54,
           0.302,
           0.239
          ],
          "vectorType": "dense"
         }
        ],
        [
         683,
         718,
         84,
         0.34,
         0.266,
         0.396,
         {
          "length": 5,
          "values": [
           683,
           718,
           84,
           0.34,
           0.266
          ],
          "vectorType": "dense"
         }
        ],
        [
         775,
         643,
         98,
         0.33,
         0.272,
         0.416,
         {
          "length": 5,
          "values": [
           775,
           643,
           98,
           0.33,
           0.272
          ],
          "vectorType": "dense"
         }
        ],
        [
         603,
         681,
         68,
         0.311,
         0.242,
         0.348,
         {
          "length": 5,
          "values": [
           603,
           681,
           68,
           0.311,
           0.242
          ],
          "vectorType": "dense"
         }
        ],
        [
         711,
         820,
         67,
         0.331,
         0.269,
         0.404,
         {
          "length": 5,
          "values": [
           711,
           820,
           67,
           0.331,
           0.269
          ],
          "vectorType": "dense"
         }
        ],
        [
         672,
         751,
         71,
         0.319,
         0.246,
         0.365,
         {
          "length": 5,
          "values": [
           672,
           751,
           71,
           0.319,
           0.246
          ],
          "vectorType": "dense"
         }
        ],
        [
         731,
         693,
         86,
         0.331,
         0.278,
         0.401,
         {
          "length": 5,
          "values": [
           731,
           693,
           86,
           0.331,
           0.278
          ],
          "vectorType": "dense"
         }
        ],
        [
         750,
         698,
         83,
         0.334,
         0.278,
         0.409,
         {
          "length": 5,
          "values": [
           750,
           698,
           83,
           0.334,
           0.278
          ],
          "vectorType": "dense"
         }
        ],
        [
         613,
         862,
         53,
         0.311,
         0.251,
         0.363,
         {
          "length": 5,
          "values": [
           613,
           862,
           53,
           0.311,
           0.251
          ],
          "vectorType": "dense"
         }
        ],
        [
         600,
         750,
         69,
         0.315,
         0.244,
         0.363,
         {
          "length": 5,
          "values": [
           600,
           750,
           69,
           0.315,
           0.244
          ],
          "vectorType": "dense"
         }
        ],
        [
         659,
         633,
         90,
         0.326,
         0.258,
         0.396,
         {
          "length": 5,
          "values": [
           659,
           633,
           90,
           0.326,
           0.258
          ],
          "vectorType": "dense"
         }
        ],
        [
         796,
         657,
         99,
         0.336,
         0.267,
         0.424,
         {
          "length": 5,
          "values": [
           796,
           657,
           99,
           0.336,
           0.267
          ],
          "vectorType": "dense"
         }
        ],
        [
         691,
         666,
         87,
         0.33,
         0.259,
         0.37,
         {
          "length": 5,
          "values": [
           691,
           666,
           87,
           0.33,
           0.259
          ],
          "vectorType": "dense"
         }
        ],
        [
         664,
         724,
         79,
         0.331,
         0.264,
         0.361,
         {
          "length": 5,
          "values": [
           664,
           724,
           79,
           0.331,
           0.264
          ],
          "vectorType": "dense"
         }
        ],
        [
         634,
         731,
         71,
         0.317,
         0.264,
         0.379,
         {
          "length": 5,
          "values": [
           634,
           731,
           71,
           0.317,
           0.264
          ],
          "vectorType": "dense"
         }
        ],
        [
         710,
         688,
         92,
         0.334,
         0.256,
         0.393,
         {
          "length": 5,
          "values": [
           710,
           688,
           92,
           0.334,
           0.256
          ],
          "vectorType": "dense"
         }
        ],
        [
         639,
         694,
         69,
         0.323,
         0.261,
         0.379,
         {
          "length": 5,
          "values": [
           639,
           694,
           69,
           0.323,
           0.261
          ],
          "vectorType": "dense"
         }
        ],
        [
         714,
         653,
         86,
         0.339,
         0.271,
         0.392,
         {
          "length": 5,
          "values": [
           714,
           653,
           86,
           0.339,
           0.271
          ],
          "vectorType": "dense"
         }
        ],
        [
         605,
         634,
         74,
         0.313,
         0.258,
         0.355,
         {
          "length": 5,
          "values": [
           605,
           634,
           74,
           0.313,
           0.258
          ],
          "vectorType": "dense"
         }
        ],
        [
         743,
         634,
         92,
         0.329,
         0.268,
         0.399,
         {
          "length": 5,
          "values": [
           743,
           634,
           92,
           0.329,
           0.268
          ],
          "vectorType": "dense"
         }
        ],
        [
         727,
         573,
         95,
         0.338,
         0.264,
         0.402,
         {
          "length": 5,
          "values": [
           727,
           573,
           95,
           0.338,
           0.264
          ],
          "vectorType": "dense"
         }
        ],
        [
         804,
         650,
         93,
         0.339,
         0.276,
         0.432,
         {
          "length": 5,
          "values": [
           804,
           650,
           93,
           0.339,
           0.276
          ],
          "vectorType": "dense"
         }
        ],
        [
         666,
         678,
         73,
         0.339,
         0.267,
         0.375,
         {
          "length": 5,
          "values": [
           666,
           678,
           73,
           0.339,
           0.267
          ],
          "vectorType": "dense"
         }
        ],
        [
         633,
         611,
         76,
         0.306,
         0.254,
         0.379,
         {
          "length": 5,
          "values": [
           633,
           611,
           76,
           0.306,
           0.254
          ],
          "vectorType": "dense"
         }
        ],
        [
         607,
         690,
         66,
         0.314,
         0.245,
         0.352,
         {
          "length": 5,
          "values": [
           607,
           690,
           66,
           0.314,
           0.245
          ],
          "vectorType": "dense"
         }
        ],
        [
         735,
         582,
         100,
         0.329,
         0.267,
         0.388,
         {
          "length": 5,
          "values": [
           735,
           582,
           100,
           0.329,
           0.267
          ],
          "vectorType": "dense"
         }
        ],
        [
         532,
         690,
         69,
         0.303,
         0.245,
         0.351,
         {
          "length": 5,
          "values": [
           532,
           690,
           69,
           0.303,
           0.245
          ],
          "vectorType": "dense"
         }
        ],
        [
         708,
         586,
         90,
         0.328,
         0.258,
         0.388,
         {
          "length": 5,
          "values": [
           708,
           586,
           90,
           0.328,
           0.258
          ],
          "vectorType": "dense"
         }
        ],
        [
         684,
         637,
         88,
         0.32,
         0.257,
         0.385,
         {
          "length": 5,
          "values": [
           684,
           637,
           88,
           0.32,
           0.257
          ],
          "vectorType": "dense"
         }
        ],
        [
         591,
         598,
         84,
         0.321,
         0.252,
         0.348,
         {
          "length": 5,
          "values": [
           591,
           598,
           84,
           0.321,
           0.252
          ],
          "vectorType": "dense"
         }
        ],
        [
         614,
         834,
         56,
         0.314,
         0.248,
         0.359,
         {
          "length": 5,
          "values": [
           614,
           834,
           56,
           0.314,
           0.248
          ],
          "vectorType": "dense"
         }
        ],
        [
         613,
         594,
         89,
         0.318,
         0.248,
         0.374,
         {
          "length": 5,
          "values": [
           613,
           594,
           89,
           0.318,
           0.248
          ],
          "vectorType": "dense"
         }
        ],
        [
         600,
         657,
         69,
         0.303,
         0.249,
         0.358,
         {
          "length": 5,
          "values": [
           600,
           657,
           69,
           0.303,
           0.249
          ],
          "vectorType": "dense"
         }
        ],
        [
         692,
         632,
         87,
         0.332,
         0.253,
         0.381,
         {
          "length": 5,
          "values": [
           692,
           632,
           87,
           0.332,
           0.253
          ],
          "vectorType": "dense"
         }
        ],
        [
         590,
         775,
         59,
         0.308,
         0.25,
         0.359,
         {
          "length": 5,
          "values": [
           590,
           775,
           59,
           0.308,
           0.25
          ],
          "vectorType": "dense"
         }
        ],
        [
         678,
         895,
         61,
         0.32,
         0.254,
         0.376,
         {
          "length": 5,
          "values": [
           678,
           895,
           61,
           0.32,
           0.254
          ],
          "vectorType": "dense"
         }
        ],
        [
         719,
         653,
         97,
         0.329,
         0.261,
         0.393,
         {
          "length": 5,
          "values": [
           719,
           653,
           97,
           0.329,
           0.261
          ],
          "vectorType": "dense"
         }
        ],
        [
         859,
         712,
         97,
         0.345,
         0.281,
         0.465,
         {
          "length": 5,
          "values": [
           859,
           712,
           97,
           0.345,
           0.281
          ],
          "vectorType": "dense"
         }
        ],
        [
         675,
         695,
         74,
         0.324,
         0.255,
         0.386,
         {
          "length": 5,
          "values": [
           675,
           695,
           74,
           0.324,
           0.255
          ],
          "vectorType": "dense"
         }
        ],
        [
         692,
         739,
         81,
         0.33,
         0.266,
         0.387,
         {
          "length": 5,
          "values": [
           692,
           739,
           81,
           0.33,
           0.266
          ],
          "vectorType": "dense"
         }
        ],
        [
         844,
         771,
         90,
         0.344,
         0.278,
         0.444,
         {
          "length": 5,
          "values": [
           844,
           771,
           90,
           0.344,
           0.278
          ],
          "vectorType": "dense"
         }
        ],
        [
         802,
         725,
         88,
         0.345,
         0.274,
         0.436,
         {
          "length": 5,
          "values": [
           802,
           725,
           88,
           0.345,
           0.274
          ],
          "vectorType": "dense"
         }
        ],
        [
         676,
         739,
         71,
         0.334,
         0.269,
         0.38,
         {
          "length": 5,
          "values": [
           676,
           739,
           71,
           0.334,
           0.269
          ],
          "vectorType": "dense"
         }
        ],
        [
         714,
         751,
         74,
         0.318,
         0.264,
         0.41,
         {
          "length": 5,
          "values": [
           714,
           751,
           74,
           0.318,
           0.264
          ],
          "vectorType": "dense"
         }
        ],
        [
         680,
         650,
         81,
         0.32,
         0.254,
         0.385,
         {
          "length": 5,
          "values": [
           680,
           650,
           81,
           0.32,
           0.254
          ],
          "vectorType": "dense"
         }
        ],
        [
         822,
         651,
         102,
         0.34,
         0.277,
         0.436,
         {
          "length": 5,
          "values": [
           822,
           651,
           102,
           0.34,
           0.277
          ],
          "vectorType": "dense"
         }
        ],
        [
         769,
         582,
         98,
         0.336,
         0.266,
         0.418,
         {
          "length": 5,
          "values": [
           769,
           582,
           98,
           0.336,
           0.266
          ],
          "vectorType": "dense"
         }
        ],
        [
         639,
         765,
         67,
         0.314,
         0.258,
         0.389,
         {
          "length": 5,
          "values": [
           639,
           765,
           67,
           0.314,
           0.258
          ],
          "vectorType": "dense"
         }
        ],
        [
         867,
         776,
         84,
         0.348,
         0.282,
         0.417,
         {
          "length": 5,
          "values": [
           867,
           776,
           84,
           0.348,
           0.282
          ],
          "vectorType": "dense"
         }
        ],
        [
         665,
         736,
         75,
         0.318,
         0.26,
         0.402,
         {
          "length": 5,
          "values": [
           665,
           736,
           75,
           0.318,
           0.26
          ],
          "vectorType": "dense"
         }
        ],
        [
         587,
         663,
         64,
         0.313,
         0.244,
         0.346,
         {
          "length": 5,
          "values": [
           587,
           663,
           64,
           0.313,
           0.244
          ],
          "vectorType": "dense"
         }
        ],
        [
         831,
         651,
         100,
         0.344,
         0.281,
         0.444,
         {
          "length": 5,
          "values": [
           831,
           651,
           100,
           0.344,
           0.281
          ],
          "vectorType": "dense"
         }
        ],
        [
         605,
         749,
         63,
         0.308,
         0.24,
         0.352,
         {
          "length": 5,
          "values": [
           605,
           749,
           63,
           0.308,
           0.24
          ],
          "vectorType": "dense"
         }
        ],
        [
         847,
         668,
         101,
         0.346,
         0.279,
         0.448,
         {
          "length": 5,
          "values": [
           847,
           668,
           101,
           0.346,
           0.279
          ],
          "vectorType": "dense"
         }
        ],
        [
         734,
         665,
         96,
         0.331,
         0.274,
         0.413,
         {
          "length": 5,
          "values": [
           734,
           665,
           96,
           0.331,
           0.274
          ],
          "vectorType": "dense"
         }
        ],
        [
         692,
         834,
         69,
         0.324,
         0.249,
         0.375,
         {
          "length": 5,
          "values": [
           692,
           834,
           69,
           0.324,
           0.249
          ],
          "vectorType": "dense"
         }
        ],
        [
         624,
         855,
         64,
         0.312,
         0.256,
         0.381,
         {
          "length": 5,
          "values": [
           624,
           855,
           64,
           0.312,
           0.256
          ],
          "vectorType": "dense"
         }
        ],
        [
         673,
         711,
         75,
         0.323,
         0.253,
         0.383,
         {
          "length": 5,
          "values": [
           673,
           711,
           75,
           0.323,
           0.253
          ],
          "vectorType": "dense"
         }
        ],
        [
         737,
         688,
         83,
         0.33,
         0.27,
         0.388,
         {
          "length": 5,
          "values": [
           737,
           688,
           83,
           0.33,
           0.27
          ],
          "vectorType": "dense"
         }
        ],
        [
         767,
         657,
         94,
         0.342,
         0.27,
         0.405,
         {
          "length": 5,
          "values": [
           767,
           657,
           94,
           0.342,
           0.27
          ],
          "vectorType": "dense"
         }
        ],
        [
         605,
         822,
         54,
         0.316,
         0.252,
         0.365,
         {
          "length": 5,
          "values": [
           605,
           822,
           54,
           0.316,
           0.252
          ],
          "vectorType": "dense"
         }
        ],
        [
         620,
         700,
         70,
         0.32,
         0.245,
         0.334,
         {
          "length": 5,
          "values": [
           620,
           700,
           70,
           0.32,
           0.245
          ],
          "vectorType": "dense"
         }
        ],
        [
         619,
         598,
         88,
         0.31,
         0.243,
         0.358,
         {
          "length": 5,
          "values": [
           619,
           598,
           88,
           0.31,
           0.243
          ],
          "vectorType": "dense"
         }
        ],
        [
         716,
         660,
         83,
         0.324,
         0.263,
         0.402,
         {
          "length": 5,
          "values": [
           716,
           660,
           83,
           0.324,
           0.263
          ],
          "vectorType": "dense"
         }
        ],
        [
         550,
         631,
         76,
         0.306,
         0.235,
         0.318,
         {
          "length": 5,
          "values": [
           550,
           631,
           76,
           0.306,
           0.235
          ],
          "vectorType": "dense"
         }
        ],
        [
         611,
         728,
         75,
         0.313,
         0.251,
         0.356,
         {
          "length": 5,
          "values": [
           611,
           728,
           75,
           0.313,
           0.251
          ],
          "vectorType": "dense"
         }
        ],
        [
         586,
         745,
         64,
         0.314,
         0.255,
         0.349,
         {
          "length": 5,
          "values": [
           586,
           745,
           64,
           0.314,
           0.255
          ],
          "vectorType": "dense"
         }
        ],
        [
         857,
         633,
         102,
         0.357,
         0.28,
         0.424,
         {
          "length": 5,
          "values": [
           857,
           633,
           102,
           0.357,
           0.28
          ],
          "vectorType": "dense"
         }
        ],
        [
         615,
         615,
         81,
         0.321,
         0.263,
         0.359,
         {
          "length": 5,
          "values": [
           615,
           615,
           81,
           0.321,
           0.263
          ],
          "vectorType": "dense"
         }
        ],
        [
         609,
         709,
         74,
         0.315,
         0.257,
         0.365,
         {
          "length": 5,
          "values": [
           609,
           709,
           74,
           0.315,
           0.257
          ],
          "vectorType": "dense"
         }
        ],
        [
         625,
         657,
         80,
         0.322,
         0.256,
         0.347,
         {
          "length": 5,
          "values": [
           625,
           657,
           80,
           0.322,
           0.256
          ],
          "vectorType": "dense"
         }
        ],
        [
         713,
         611,
         90,
         0.327,
         0.269,
         0.371,
         {
          "length": 5,
          "values": [
           713,
           611,
           90,
           0.327,
           0.269
          ],
          "vectorType": "dense"
         }
        ],
        [
         608,
         543,
         92,
         0.313,
         0.251,
         0.349,
         {
          "length": 5,
          "values": [
           608,
           543,
           92,
           0.313,
           0.251
          ],
          "vectorType": "dense"
         }
        ],
        [
         570,
         655,
         66,
         0.311,
         0.246,
         0.34,
         {
          "length": 5,
          "values": [
           570,
           655,
           66,
           0.311,
           0.246
          ],
          "vectorType": "dense"
         }
        ],
        [
         743,
         704,
         85,
         0.341,
         0.274,
         0.375,
         {
          "length": 5,
          "values": [
           743,
           704,
           85,
           0.341,
           0.274
          ],
          "vectorType": "dense"
         }
        ],
        [
         531,
         734,
         55,
         0.291,
         0.235,
         0.34,
         {
          "length": 5,
          "values": [
           531,
           734,
           55,
           0.291,
           0.235
          ],
          "vectorType": "dense"
         }
        ],
        [
         615,
         538,
         86,
         0.319,
         0.246,
         0.352,
         {
          "length": 5,
          "values": [
           615,
           538,
           86,
           0.319,
           0.246
          ],
          "vectorType": "dense"
         }
        ],
        [
         730,
         575,
         97,
         0.328,
         0.269,
         0.389,
         {
          "length": 5,
          "values": [
           730,
           575,
           97,
           0.328,
           0.269
          ],
          "vectorType": "dense"
         }
        ],
        [
         686,
         598,
         87,
         0.323,
         0.246,
         0.361,
         {
          "length": 5,
          "values": [
           686,
           598,
           87,
           0.323,
           0.246
          ],
          "vectorType": "dense"
         }
        ],
        [
         770,
         557,
         101,
         0.338,
         0.272,
         0.395,
         {
          "length": 5,
          "values": [
           770,
           557,
           101,
           0.338,
           0.272
          ],
          "vectorType": "dense"
         }
        ],
        [
         708,
         630,
         92,
         0.321,
         0.267,
         0.391,
         {
          "length": 5,
          "values": [
           708,
           630,
           92,
           0.321,
           0.267
          ],
          "vectorType": "dense"
         }
        ],
        [
         570,
         662,
         73,
         0.31,
         0.247,
         0.337,
         {
          "length": 5,
          "values": [
           570,
           662,
           73,
           0.31,
           0.247
          ],
          "vectorType": "dense"
         }
        ],
        [
         595,
         686,
         74,
         0.312,
         0.246,
         0.345,
         {
          "length": 5,
          "values": [
           595,
           686,
           74,
           0.312,
           0.246
          ],
          "vectorType": "dense"
         }
        ],
        [
         629,
         671,
         72,
         0.323,
         0.26,
         0.359,
         {
          "length": 5,
          "values": [
           629,
           671,
           72,
           0.323,
           0.26
          ],
          "vectorType": "dense"
         }
        ],
        [
         616,
         652,
         76,
         0.321,
         0.25,
         0.341,
         {
          "length": 5,
          "values": [
           616,
           652,
           76,
           0.321,
           0.25
          ],
          "vectorType": "dense"
         }
        ],
        [
         583,
         739,
         67,
         0.313,
         0.244,
         0.346,
         {
          "length": 5,
          "values": [
           583,
           739,
           67,
           0.313,
           0.244
          ],
          "vectorType": "dense"
         }
        ],
        [
         682,
         553,
         90,
         0.326,
         0.252,
         0.373,
         {
          "length": 5,
          "values": [
           682,
           553,
           90,
           0.326,
           0.252
          ],
          "vectorType": "dense"
         }
        ],
        [
         796,
         709,
         95,
         0.344,
         0.275,
         0.417,
         {
          "length": 5,
          "values": [
           796,
           709,
           95,
           0.344,
           0.275
          ],
          "vectorType": "dense"
         }
        ],
        [
         628,
         723,
         72,
         0.322,
         0.246,
         0.328,
         {
          "length": 5,
          "values": [
           628,
           723,
           72,
           0.322,
           0.246
          ],
          "vectorType": "dense"
         }
        ],
        [
         712,
         827,
         75,
         0.338,
         0.259,
         0.368,
         {
          "length": 5,
          "values": [
           712,
           827,
           75,
           0.338,
           0.259
          ],
          "vectorType": "dense"
         }
        ],
        [
         655,
         703,
         75,
         0.331,
         0.255,
         0.358,
         {
          "length": 5,
          "values": [
           655,
           703,
           75,
           0.331,
           0.255
          ],
          "vectorType": "dense"
         }
        ],
        [
         840,
         586,
         108,
         0.353,
         0.271,
         0.401,
         {
          "length": 5,
          "values": [
           840,
           586,
           108,
           0.353,
           0.271
          ],
          "vectorType": "dense"
         }
        ],
        [
         688,
         703,
         79,
         0.327,
         0.261,
         0.392,
         {
          "length": 5,
          "values": [
           688,
           703,
           79,
           0.327,
           0.261
          ],
          "vectorType": "dense"
         }
        ],
        [
         570,
         786,
         57,
         0.301,
         0.249,
         0.366,
         {
          "length": 5,
          "values": [
           570,
           786,
           57,
           0.301,
           0.249
          ],
          "vectorType": "dense"
         }
        ],
        [
         664,
         711,
         64,
         0.32,
         0.254,
         0.359,
         {
          "length": 5,
          "values": [
           664,
           711,
           64,
           0.32,
           0.254
          ],
          "vectorType": "dense"
         }
        ],
        [
         710,
         649,
         91,
         0.333,
         0.261,
         0.394,
         {
          "length": 5,
          "values": [
           710,
           649,
           91,
           0.333,
           0.261
          ],
          "vectorType": "dense"
         }
        ],
        [
         648,
         534,
         88,
         0.325,
         0.248,
         0.365,
         {
          "length": 5,
          "values": [
           648,
           534,
           88,
           0.325,
           0.248
          ],
          "vectorType": "dense"
         }
        ],
        [
         675,
         792,
         68,
         0.32,
         0.25,
         0.389,
         {
          "length": 5,
          "values": [
           675,
           792,
           68,
           0.32,
           0.25
          ],
          "vectorType": "dense"
         }
        ],
        [
         724,
         736,
         76,
         0.341,
         0.271,
         0.386,
         {
          "length": 5,
          "values": [
           724,
           736,
           76,
           0.341,
           0.271
          ],
          "vectorType": "dense"
         }
        ],
        [
         601,
         690,
         75,
         0.317,
         0.244,
         0.348,
         {
          "length": 5,
          "values": [
           601,
           690,
           75,
           0.317,
           0.244
          ],
          "vectorType": "dense"
         }
        ],
        [
         646,
         625,
         82,
         0.319,
         0.256,
         0.361,
         {
          "length": 5,
          "values": [
           646,
           625,
           82,
           0.319,
           0.256
          ],
          "vectorType": "dense"
         }
        ],
        [
         681,
         588,
         83,
         0.325,
         0.264,
         0.382,
         {
          "length": 5,
          "values": [
           681,
           588,
           83,
           0.325,
           0.264
          ],
          "vectorType": "dense"
         }
        ],
        [
         758,
         606,
         98,
         0.333,
         0.254,
         0.391,
         {
          "length": 5,
          "values": [
           758,
           606,
           98,
           0.333,
           0.254
          ],
          "vectorType": "dense"
         }
        ],
        [
         735,
         694,
         86,
         0.342,
         0.269,
         0.402,
         {
          "length": 5,
          "values": [
           735,
           694,
           86,
           0.342,
           0.269
          ],
          "vectorType": "dense"
         }
        ],
        [
         712,
         565,
         92,
         0.323,
         0.263,
         0.402,
         {
          "length": 5,
          "values": [
           712,
           565,
           92,
           0.323,
           0.263
          ],
          "vectorType": "dense"
         }
        ],
        [
         552,
         683,
         71,
         0.31,
         0.244,
         0.335,
         {
          "length": 5,
          "values": [
           552,
           683,
           71,
           0.31,
           0.244
          ],
          "vectorType": "dense"
         }
        ],
        [
         659,
         671,
         80,
         0.333,
         0.259,
         0.365,
         {
          "length": 5,
          "values": [
           659,
           671,
           80,
           0.333,
           0.259
          ],
          "vectorType": "dense"
         }
        ],
        [
         662,
         689,
         82,
         0.327,
         0.273,
         0.375,
         {
          "length": 5,
          "values": [
           662,
           689,
           82,
           0.327,
           0.273
          ],
          "vectorType": "dense"
         }
        ],
        [
         714,
         733,
         79,
         0.33,
         0.256,
         0.371,
         {
          "length": 5,
          "values": [
           714,
           733,
           79,
           0.33,
           0.256
          ],
          "vectorType": "dense"
         }
        ],
        [
         661,
         563,
         88,
         0.319,
         0.249,
         0.363,
         {
          "length": 5,
          "values": [
           661,
           563,
           88,
           0.319,
           0.249
          ],
          "vectorType": "dense"
         }
        ],
        [
         659,
         612,
         91,
         0.322,
         0.256,
         0.37,
         {
          "length": 5,
          "values": [
           659,
           612,
           91,
           0.322,
           0.256
          ],
          "vectorType": "dense"
         }
        ],
        [
         696,
         661,
         84,
         0.333,
         0.264,
         0.377,
         {
          "length": 5,
          "values": [
           696,
           661,
           84,
           0.333,
           0.264
          ],
          "vectorType": "dense"
         }
        ],
        [
         618,
         657,
         68,
         0.321,
         0.254,
         0.356,
         {
          "length": 5,
          "values": [
           618,
           657,
           68,
           0.321,
           0.254
          ],
          "vectorType": "dense"
         }
        ],
        [
         669,
         826,
         66,
         0.327,
         0.251,
         0.365,
         {
          "length": 5,
          "values": [
           669,
           826,
           66,
           0.327,
           0.251
          ],
          "vectorType": "dense"
         }
        ],
        [
         684,
         721,
         80,
         0.33,
         0.268,
         0.389,
         {
          "length": 5,
          "values": [
           684,
           721,
           80,
           0.33,
           0.268
          ],
          "vectorType": "dense"
         }
        ],
        [
         776,
         631,
         98,
         0.343,
         0.26,
         0.394,
         {
          "length": 5,
          "values": [
           776,
           631,
           98,
           0.343,
           0.26
          ],
          "vectorType": "dense"
         }
        ],
        [
         662,
         694,
         77,
         0.311,
         0.255,
         0.37,
         {
          "length": 5,
          "values": [
           662,
           694,
           77,
           0.311,
           0.255
          ],
          "vectorType": "dense"
         }
        ],
        [
         620,
         768,
         72,
         0.303,
         0.247,
         0.366,
         {
          "length": 5,
          "values": [
           620,
           768,
           72,
           0.303,
           0.247
          ],
          "vectorType": "dense"
         }
        ],
        [
         653,
         632,
         81,
         0.322,
         0.263,
         0.378,
         {
          "length": 5,
          "values": [
           653,
           632,
           81,
           0.322,
           0.263
          ],
          "vectorType": "dense"
         }
        ],
        [
         667,
         662,
         77,
         0.327,
         0.259,
         0.364,
         {
          "length": 5,
          "values": [
           667,
           662,
           77,
           0.327,
           0.259
          ],
          "vectorType": "dense"
         }
        ],
        [
         798,
         561,
         102,
         0.342,
         0.272,
         0.401,
         {
          "length": 5,
          "values": [
           798,
           561,
           102,
           0.342,
           0.272
          ],
          "vectorType": "dense"
         }
        ],
        [
         647,
         660,
         76,
         0.309,
         0.244,
         0.369,
         {
          "length": 5,
          "values": [
           647,
           660,
           76,
           0.309,
           0.244
          ],
          "vectorType": "dense"
         }
        ],
        [
         673,
         669,
         82,
         0.336,
         0.272,
         0.378,
         {
          "length": 5,
          "values": [
           673,
           669,
           82,
           0.336,
           0.272
          ],
          "vectorType": "dense"
         }
        ],
        [
         662,
         657,
         79,
         0.335,
         0.254,
         0.35,
         {
          "length": 5,
          "values": [
           662,
           657,
           79,
           0.335,
           0.254
          ],
          "vectorType": "dense"
         }
        ],
        [
         572,
         646,
         71,
         0.311,
         0.235,
         0.329,
         {
          "length": 5,
          "values": [
           572,
           646,
           71,
           0.311,
           0.235
          ],
          "vectorType": "dense"
         }
        ],
        [
         671,
         623,
         89,
         0.324,
         0.263,
         0.368,
         {
          "length": 5,
          "values": [
           671,
           623,
           89,
           0.324,
           0.263
          ],
          "vectorType": "dense"
         }
        ],
        [
         689,
         551,
         90,
         0.321,
         0.247,
         0.373,
         {
          "length": 5,
          "values": [
           689,
           551,
           90,
           0.321,
           0.247
          ],
          "vectorType": "dense"
         }
        ],
        [
         676,
         701,
         80,
         0.32,
         0.261,
         0.373,
         {
          "length": 5,
          "values": [
           676,
           701,
           80,
           0.32,
           0.261
          ],
          "vectorType": "dense"
         }
        ],
        [
         751,
         657,
         88,
         0.335,
         0.274,
         0.391,
         {
          "length": 5,
          "values": [
           751,
           657,
           88,
           0.335,
           0.274
          ],
          "vectorType": "dense"
         }
        ],
        [
         541,
         830,
         60,
         0.302,
         0.229,
         0.33,
         {
          "length": 5,
          "values": [
           541,
           830,
           60,
           0.302,
           0.229
          ],
          "vectorType": "dense"
         }
        ],
        [
         634,
         723,
         72,
         0.322,
         0.252,
         0.358,
         {
          "length": 5,
          "values": [
           634,
           723,
           72,
           0.322,
           0.252
          ],
          "vectorType": "dense"
         }
        ],
        [
         677,
         643,
         86,
         0.331,
         0.265,
         0.365,
         {
          "length": 5,
          "values": [
           677,
           643,
           86,
           0.331,
           0.265
          ],
          "vectorType": "dense"
         }
        ],
        [
         690,
         698,
         83,
         0.336,
         0.272,
         0.377,
         {
          "length": 5,
          "values": [
           690,
           698,
           83,
           0.336,
           0.272
          ],
          "vectorType": "dense"
         }
        ],
        [
         799,
         774,
         76,
         0.339,
         0.266,
         0.427,
         {
          "length": 5,
          "values": [
           799,
           774,
           76,
           0.339,
           0.266
          ],
          "vectorType": "dense"
         }
        ],
        [
         754,
         561,
         97,
         0.345,
         0.266,
         0.389,
         {
          "length": 5,
          "values": [
           754,
           561,
           97,
           0.345,
           0.266
          ],
          "vectorType": "dense"
         }
        ],
        [
         738,
         647,
         89,
         0.338,
         0.267,
         0.401,
         {
          "length": 5,
          "values": [
           738,
           647,
           89,
           0.338,
           0.267
          ],
          "vectorType": "dense"
         }
        ],
        [
         629,
         657,
         79,
         0.318,
         0.253,
         0.348,
         {
          "length": 5,
          "values": [
           629,
           657,
           79,
           0.318,
           0.253
          ],
          "vectorType": "dense"
         }
        ]
       ],
       "datasetInfos": [],
       "dbfsResultPath": null,
       "isJsonSchema": true,
       "overflow": true,
       "plotOptions": {
        "customPlotOptions": {},
        "displayType": "table",
        "pivotAggregation": null,
        "pivotColumns": null,
        "xColumns": null,
        "yColumns": null
       },
       "removedWidgets": [],
       "schema": [
        {
         "metadata": "{}",
         "name": "var_1",
         "type": "\"integer\""
        },
        {
         "metadata": "{}",
         "name": "var_2",
         "type": "\"integer\""
        },
        {
         "metadata": "{}",
         "name": "var_3",
         "type": "\"integer\""
        },
        {
         "metadata": "{}",
         "name": "var_4",
         "type": "\"double\""
        },
        {
         "metadata": "{}",
         "name": "var_5",
         "type": "\"double\""
        },
        {
         "metadata": "{}",
         "name": "output",
         "type": "\"double\""
        },
        {
         "metadata": "{\"ml_attr\":{\"attrs\":{\"numeric\":[{\"idx\":0,\"name\":\"var_1\"},{\"idx\":1,\"name\":\"var_2\"},{\"idx\":2,\"name\":\"var_3\"},{\"idx\":3,\"name\":\"var_4\"},{\"idx\":4,\"name\":\"var_5\"}]},\"num_attrs\":5}}",
         "name": "features",
         "type": "{\"type\":\"udt\",\"class\":\"org.apache.spark.ml.linalg.VectorUDT\",\"pyClass\":\"pyspark.ml.linalg.VectorUDT\",\"sqlType\":{\"type\":\"struct\",\"fields\":[{\"name\":\"type\",\"type\":\"byte\",\"nullable\":false,\"metadata\":{}},{\"name\":\"size\",\"type\":\"integer\",\"nullable\":true,\"metadata\":{}},{\"name\":\"indices\",\"type\":{\"type\":\"array\",\"elementType\":\"integer\",\"containsNull\":false},\"nullable\":true,\"metadata\":{}},{\"name\":\"values\",\"type\":{\"type\":\"array\",\"elementType\":\"double\",\"containsNull\":false},\"nullable\":true,\"metadata\":{}}]}}"
        }
       ],
       "type": "table"
      }
     },
     "output_type": "display_data"
    }
   ],
   "source": [
    "display(features_df)"
   ]
  },
  {
   "cell_type": "code",
   "execution_count": 0,
   "metadata": {
    "application/vnd.databricks.v1+cell": {
     "inputWidgets": {},
     "nuid": "6f0a3cba-5674-4881-bbaa-4a57f809e680",
     "showTitle": false,
     "title": ""
    },
    "scrolled": true
   },
   "outputs": [
    {
     "data": {
      "text/html": [
       "<style scoped>\n",
       "  .ansiout {\n",
       "    display: block;\n",
       "    unicode-bidi: embed;\n",
       "    white-space: pre-wrap;\n",
       "    word-wrap: break-word;\n",
       "    word-break: break-all;\n",
       "    font-family: \"Source Code Pro\", \"Menlo\", monospace;;\n",
       "    font-size: 13px;\n",
       "    color: #555;\n",
       "    margin-left: 4px;\n",
       "    line-height: 19px;\n",
       "  }\n",
       "</style>\n",
       "<div class=\"ansiout\">+------------------------------+\n",
       "features                      |\n",
       "+------------------------------+\n",
       "[734.0,688.0,81.0,0.328,0.259]|\n",
       "[700.0,600.0,94.0,0.32,0.247] |\n",
       "[712.0,705.0,93.0,0.311,0.247]|\n",
       "[734.0,806.0,69.0,0.315,0.26] |\n",
       "[613.0,759.0,61.0,0.302,0.24] |\n",
       "+------------------------------+\n",
       "only showing top 5 rows\n",
       "\n",
       "</div>"
      ]
     },
     "metadata": {
      "application/vnd.databricks.v1+output": {
       "addedWidgets": {},
       "arguments": {},
       "data": "<div class=\"ansiout\">+------------------------------+\n|features                      |\n+------------------------------+\n|[734.0,688.0,81.0,0.328,0.259]|\n|[700.0,600.0,94.0,0.32,0.247] |\n|[712.0,705.0,93.0,0.311,0.247]|\n|[734.0,806.0,69.0,0.315,0.26] |\n|[613.0,759.0,61.0,0.302,0.24] |\n+------------------------------+\nonly showing top 5 rows\n\n</div>",
       "datasetInfos": [],
       "removedWidgets": [],
       "type": "html"
      }
     },
     "output_type": "display_data"
    }
   ],
   "source": [
    "#view the details of dense vector\n",
    "features_df.select('features').show(5,False)"
   ]
  },
  {
   "cell_type": "code",
   "execution_count": 0,
   "metadata": {
    "application/vnd.databricks.v1+cell": {
     "inputWidgets": {},
     "nuid": "700c794c-3ffd-4024-8e80-d2ba8128fa95",
     "showTitle": false,
     "title": ""
    }
   },
   "outputs": [
    {
     "data": {
      "text/html": [
       "<style scoped>\n",
       "  .ansiout {\n",
       "    display: block;\n",
       "    unicode-bidi: embed;\n",
       "    white-space: pre-wrap;\n",
       "    word-wrap: break-word;\n",
       "    word-break: break-all;\n",
       "    font-family: \"Source Code Pro\", \"Menlo\", monospace;;\n",
       "    font-size: 13px;\n",
       "    color: #555;\n",
       "    margin-left: 4px;\n",
       "    line-height: 19px;\n",
       "  }\n",
       "</style>\n",
       "<div class=\"ansiout\"></div>"
      ]
     },
     "metadata": {
      "application/vnd.databricks.v1+output": {
       "addedWidgets": {},
       "arguments": {},
       "data": "<div class=\"ansiout\"></div>",
       "datasetInfos": [],
       "removedWidgets": [],
       "type": "html"
      }
     },
     "output_type": "display_data"
    }
   ],
   "source": [
    "#create data containing input features and output column\n",
    "model_df=features_df.select('features','output')"
   ]
  },
  {
   "cell_type": "code",
   "execution_count": 0,
   "metadata": {
    "application/vnd.databricks.v1+cell": {
     "inputWidgets": {},
     "nuid": "03c0b702-e0fd-4010-a532-a8e6d8e7b0a0",
     "showTitle": false,
     "title": ""
    }
   },
   "outputs": [
    {
     "data": {
      "text/html": [
       "<style scoped>\n",
       "  .ansiout {\n",
       "    display: block;\n",
       "    unicode-bidi: embed;\n",
       "    white-space: pre-wrap;\n",
       "    word-wrap: break-word;\n",
       "    word-break: break-all;\n",
       "    font-family: \"Source Code Pro\", \"Menlo\", monospace;;\n",
       "    font-size: 13px;\n",
       "    color: #555;\n",
       "    margin-left: 4px;\n",
       "    line-height: 19px;\n",
       "  }\n",
       "</style>\n",
       "<div class=\"ansiout\">+------------------------------+------+\n",
       "features                      |output|\n",
       "+------------------------------+------+\n",
       "[734.0,688.0,81.0,0.328,0.259]|0.418 |\n",
       "[700.0,600.0,94.0,0.32,0.247] |0.389 |\n",
       "[712.0,705.0,93.0,0.311,0.247]|0.417 |\n",
       "[734.0,806.0,69.0,0.315,0.26] |0.415 |\n",
       "[613.0,759.0,61.0,0.302,0.24] |0.378 |\n",
       "+------------------------------+------+\n",
       "only showing top 5 rows\n",
       "\n",
       "</div>"
      ]
     },
     "metadata": {
      "application/vnd.databricks.v1+output": {
       "addedWidgets": {},
       "arguments": {},
       "data": "<div class=\"ansiout\">+------------------------------+------+\n|features                      |output|\n+------------------------------+------+\n|[734.0,688.0,81.0,0.328,0.259]|0.418 |\n|[700.0,600.0,94.0,0.32,0.247] |0.389 |\n|[712.0,705.0,93.0,0.311,0.247]|0.417 |\n|[734.0,806.0,69.0,0.315,0.26] |0.415 |\n|[613.0,759.0,61.0,0.302,0.24] |0.378 |\n+------------------------------+------+\nonly showing top 5 rows\n\n</div>",
       "datasetInfos": [],
       "removedWidgets": [],
       "type": "html"
      }
     },
     "output_type": "display_data"
    }
   ],
   "source": [
    "model_df.show(5,False)"
   ]
  },
  {
   "cell_type": "code",
   "execution_count": 0,
   "metadata": {
    "application/vnd.databricks.v1+cell": {
     "inputWidgets": {},
     "nuid": "48886c7d-4c92-4f1e-80d1-f9b116b2204b",
     "showTitle": false,
     "title": ""
    }
   },
   "outputs": [
    {
     "data": {
      "text/html": [
       "<style scoped>\n",
       "  .ansiout {\n",
       "    display: block;\n",
       "    unicode-bidi: embed;\n",
       "    white-space: pre-wrap;\n",
       "    word-wrap: break-word;\n",
       "    word-break: break-all;\n",
       "    font-family: \"Source Code Pro\", \"Menlo\", monospace;;\n",
       "    font-size: 13px;\n",
       "    color: #555;\n",
       "    margin-left: 4px;\n",
       "    line-height: 19px;\n",
       "  }\n",
       "</style>\n",
       "<div class=\"ansiout\">(1232, 2)\n",
       "</div>"
      ]
     },
     "metadata": {
      "application/vnd.databricks.v1+output": {
       "addedWidgets": {},
       "arguments": {},
       "data": "<div class=\"ansiout\">(1232, 2)\n</div>",
       "datasetInfos": [],
       "removedWidgets": [],
       "type": "html"
      }
     },
     "output_type": "display_data"
    }
   ],
   "source": [
    "#size of model df\n",
    "print((model_df.count(), len(model_df.columns)))"
   ]
  },
  {
   "cell_type": "markdown",
   "metadata": {
    "application/vnd.databricks.v1+cell": {
     "inputWidgets": {},
     "nuid": "29431802-b5a6-4a2a-955d-8cd2e9f9cb99",
     "showTitle": false,
     "title": ""
    }
   },
   "source": [
    "### Split Data - Train & Test sets"
   ]
  },
  {
   "cell_type": "code",
   "execution_count": 0,
   "metadata": {
    "application/vnd.databricks.v1+cell": {
     "inputWidgets": {},
     "nuid": "8d3eea1d-d58a-4dee-a26f-b44b42aa3651",
     "showTitle": false,
     "title": ""
    }
   },
   "outputs": [
    {
     "data": {
      "text/html": [
       "<style scoped>\n",
       "  .ansiout {\n",
       "    display: block;\n",
       "    unicode-bidi: embed;\n",
       "    white-space: pre-wrap;\n",
       "    word-wrap: break-word;\n",
       "    word-break: break-all;\n",
       "    font-family: \"Source Code Pro\", \"Menlo\", monospace;;\n",
       "    font-size: 13px;\n",
       "    color: #555;\n",
       "    margin-left: 4px;\n",
       "    line-height: 19px;\n",
       "  }\n",
       "</style>\n",
       "<div class=\"ansiout\"></div>"
      ]
     },
     "metadata": {
      "application/vnd.databricks.v1+output": {
       "addedWidgets": {},
       "arguments": {},
       "data": "<div class=\"ansiout\"></div>",
       "datasetInfos": [],
       "removedWidgets": [],
       "type": "html"
      }
     },
     "output_type": "display_data"
    }
   ],
   "source": [
    "#split the data into 70/30 ratio for train test purpose\n",
    "train_df,test_df=model_df.randomSplit([0.7,0.3])"
   ]
  },
  {
   "cell_type": "code",
   "execution_count": 0,
   "metadata": {
    "application/vnd.databricks.v1+cell": {
     "inputWidgets": {},
     "nuid": "4632aca3-aecb-41e7-a330-53b10ca21fb7",
     "showTitle": false,
     "title": ""
    }
   },
   "outputs": [
    {
     "data": {
      "text/html": [
       "<style scoped>\n",
       "  .ansiout {\n",
       "    display: block;\n",
       "    unicode-bidi: embed;\n",
       "    white-space: pre-wrap;\n",
       "    word-wrap: break-word;\n",
       "    word-break: break-all;\n",
       "    font-family: \"Source Code Pro\", \"Menlo\", monospace;;\n",
       "    font-size: 13px;\n",
       "    color: #555;\n",
       "    margin-left: 4px;\n",
       "    line-height: 19px;\n",
       "  }\n",
       "</style>\n",
       "<div class=\"ansiout\">(886, 2)\n",
       "</div>"
      ]
     },
     "metadata": {
      "application/vnd.databricks.v1+output": {
       "addedWidgets": {},
       "arguments": {},
       "data": "<div class=\"ansiout\">(886, 2)\n</div>",
       "datasetInfos": [],
       "removedWidgets": [],
       "type": "html"
      }
     },
     "output_type": "display_data"
    }
   ],
   "source": [
    "print((train_df.count(), len(train_df.columns)))"
   ]
  },
  {
   "cell_type": "code",
   "execution_count": 0,
   "metadata": {
    "application/vnd.databricks.v1+cell": {
     "inputWidgets": {},
     "nuid": "dd351257-29df-4574-a8c1-15014aae7fa5",
     "showTitle": false,
     "title": ""
    }
   },
   "outputs": [
    {
     "data": {
      "text/html": [
       "<style scoped>\n",
       "  .ansiout {\n",
       "    display: block;\n",
       "    unicode-bidi: embed;\n",
       "    white-space: pre-wrap;\n",
       "    word-wrap: break-word;\n",
       "    word-break: break-all;\n",
       "    font-family: \"Source Code Pro\", \"Menlo\", monospace;;\n",
       "    font-size: 13px;\n",
       "    color: #555;\n",
       "    margin-left: 4px;\n",
       "    line-height: 19px;\n",
       "  }\n",
       "</style>\n",
       "<div class=\"ansiout\">(346, 2)\n",
       "</div>"
      ]
     },
     "metadata": {
      "application/vnd.databricks.v1+output": {
       "addedWidgets": {},
       "arguments": {},
       "data": "<div class=\"ansiout\">(346, 2)\n</div>",
       "datasetInfos": [],
       "removedWidgets": [],
       "type": "html"
      }
     },
     "output_type": "display_data"
    }
   ],
   "source": [
    "print((test_df.count(), len(test_df.columns)))"
   ]
  },
  {
   "cell_type": "code",
   "execution_count": 0,
   "metadata": {
    "application/vnd.databricks.v1+cell": {
     "inputWidgets": {},
     "nuid": "854a106e-4b90-4934-a0a6-670a9cc932cb",
     "showTitle": false,
     "title": ""
    }
   },
   "outputs": [
    {
     "data": {
      "text/html": [
       "<style scoped>\n",
       "  .ansiout {\n",
       "    display: block;\n",
       "    unicode-bidi: embed;\n",
       "    white-space: pre-wrap;\n",
       "    word-wrap: break-word;\n",
       "    word-break: break-all;\n",
       "    font-family: \"Source Code Pro\", \"Menlo\", monospace;;\n",
       "    font-size: 13px;\n",
       "    color: #555;\n",
       "    margin-left: 4px;\n",
       "    line-height: 19px;\n",
       "  }\n",
       "</style>\n",
       "<div class=\"ansiout\">+-------+--------------------+\n",
       "summary|              output|\n",
       "+-------+--------------------+\n",
       "  count|                 871|\n",
       "   mean| 0.39661079219288153|\n",
       " stddev|0.033173681899225864|\n",
       "    min|               0.301|\n",
       "    max|               0.485|\n",
       "+-------+--------------------+\n",
       "\n",
       "</div>"
      ]
     },
     "metadata": {
      "application/vnd.databricks.v1+output": {
       "addedWidgets": {},
       "arguments": {},
       "data": "<div class=\"ansiout\">+-------+--------------------+\n|summary|              output|\n+-------+--------------------+\n|  count|                 871|\n|   mean| 0.39661079219288153|\n| stddev|0.033173681899225864|\n|    min|               0.301|\n|    max|               0.485|\n+-------+--------------------+\n\n</div>",
       "datasetInfos": [],
       "removedWidgets": [],
       "type": "html"
      }
     },
     "output_type": "display_data"
    }
   ],
   "source": [
    "train_df.describe().show()"
   ]
  },
  {
   "cell_type": "markdown",
   "metadata": {
    "application/vnd.databricks.v1+cell": {
     "inputWidgets": {},
     "nuid": "d050536d-7984-4409-b09b-a7f58854a08b",
     "showTitle": false,
     "title": ""
    }
   },
   "source": [
    "## Build Linear Regression Model"
   ]
  },
  {
   "cell_type": "code",
   "execution_count": 0,
   "metadata": {
    "application/vnd.databricks.v1+cell": {
     "inputWidgets": {},
     "nuid": "ca5acbe4-9c6f-459c-9fc5-f3ff7a17fee4",
     "showTitle": false,
     "title": ""
    }
   },
   "outputs": [
    {
     "data": {
      "text/html": [
       "<style scoped>\n",
       "  .ansiout {\n",
       "    display: block;\n",
       "    unicode-bidi: embed;\n",
       "    white-space: pre-wrap;\n",
       "    word-wrap: break-word;\n",
       "    word-break: break-all;\n",
       "    font-family: \"Source Code Pro\", \"Menlo\", monospace;;\n",
       "    font-size: 13px;\n",
       "    color: #555;\n",
       "    margin-left: 4px;\n",
       "    line-height: 19px;\n",
       "  }\n",
       "</style>\n",
       "<div class=\"ansiout\"></div>"
      ]
     },
     "metadata": {
      "application/vnd.databricks.v1+output": {
       "addedWidgets": {},
       "arguments": {},
       "data": "<div class=\"ansiout\"></div>",
       "datasetInfos": [],
       "removedWidgets": [],
       "type": "html"
      }
     },
     "output_type": "display_data"
    }
   ],
   "source": [
    "#Build Linear Regression model \n",
    "lin_Reg=LinearRegression(labelCol='output')"
   ]
  },
  {
   "cell_type": "code",
   "execution_count": 0,
   "metadata": {
    "application/vnd.databricks.v1+cell": {
     "inputWidgets": {},
     "nuid": "45dd60a7-7144-4f90-a0e7-4fc6f3163f3a",
     "showTitle": false,
     "title": ""
    }
   },
   "outputs": [
    {
     "data": {
      "text/html": [
       "<style scoped>\n",
       "  .ansiout {\n",
       "    display: block;\n",
       "    unicode-bidi: embed;\n",
       "    white-space: pre-wrap;\n",
       "    word-wrap: break-word;\n",
       "    word-break: break-all;\n",
       "    font-family: \"Source Code Pro\", \"Menlo\", monospace;;\n",
       "    font-size: 13px;\n",
       "    color: #555;\n",
       "    margin-left: 4px;\n",
       "    line-height: 19px;\n",
       "  }\n",
       "</style>\n",
       "<div class=\"ansiout\"></div>"
      ]
     },
     "metadata": {
      "application/vnd.databricks.v1+output": {
       "addedWidgets": {},
       "arguments": {},
       "data": "<div class=\"ansiout\"></div>",
       "datasetInfos": [],
       "removedWidgets": [],
       "type": "html"
      }
     },
     "output_type": "display_data"
    }
   ],
   "source": [
    "#fit the linear regression model on training data set \n",
    "lr_model=lin_Reg.fit(train_df)"
   ]
  },
  {
   "cell_type": "code",
   "execution_count": 0,
   "metadata": {
    "application/vnd.databricks.v1+cell": {
     "inputWidgets": {},
     "nuid": "c166e41f-5d06-4e94-8dbc-d52643733756",
     "showTitle": false,
     "title": ""
    }
   },
   "outputs": [
    {
     "data": {
      "text/html": [
       "<style scoped>\n",
       "  .ansiout {\n",
       "    display: block;\n",
       "    unicode-bidi: embed;\n",
       "    white-space: pre-wrap;\n",
       "    word-wrap: break-word;\n",
       "    word-break: break-all;\n",
       "    font-family: \"Source Code Pro\", \"Menlo\", monospace;;\n",
       "    font-size: 13px;\n",
       "    color: #555;\n",
       "    margin-left: 4px;\n",
       "    line-height: 19px;\n",
       "  }\n",
       "</style>\n",
       "<div class=\"ansiout\">Out[26]: 0.18544810811637163</div>"
      ]
     },
     "metadata": {
      "application/vnd.databricks.v1+output": {
       "addedWidgets": {},
       "arguments": {},
       "data": "<div class=\"ansiout\">Out[26]: 0.18544810811637163</div>",
       "datasetInfos": [],
       "removedWidgets": [],
       "type": "html"
      }
     },
     "output_type": "display_data"
    }
   ],
   "source": [
    "lr_model.intercept"
   ]
  },
  {
   "cell_type": "code",
   "execution_count": 0,
   "metadata": {
    "application/vnd.databricks.v1+cell": {
     "inputWidgets": {},
     "nuid": "abcda7e3-7aa5-456f-9dd4-16a1207af3ae",
     "showTitle": false,
     "title": ""
    }
   },
   "outputs": [
    {
     "data": {
      "text/html": [
       "<style scoped>\n",
       "  .ansiout {\n",
       "    display: block;\n",
       "    unicode-bidi: embed;\n",
       "    white-space: pre-wrap;\n",
       "    word-wrap: break-word;\n",
       "    word-break: break-all;\n",
       "    font-family: \"Source Code Pro\", \"Menlo\", monospace;;\n",
       "    font-size: 13px;\n",
       "    color: #555;\n",
       "    margin-left: 4px;\n",
       "    line-height: 19px;\n",
       "  }\n",
       "</style>\n",
       "<div class=\"ansiout\">[0.0003382255195031618,5.692360577405363e-05,0.00020809264775273358,-0.6891578480980304,0.5300551716226785]\n",
       "</div>"
      ]
     },
     "metadata": {
      "application/vnd.databricks.v1+output": {
       "addedWidgets": {},
       "arguments": {},
       "data": "<div class=\"ansiout\">[0.0003382255195031618,5.692360577405363e-05,0.00020809264775273358,-0.6891578480980304,0.5300551716226785]\n</div>",
       "datasetInfos": [],
       "removedWidgets": [],
       "type": "html"
      }
     },
     "output_type": "display_data"
    }
   ],
   "source": [
    "print(lr_model.coefficients)"
   ]
  },
  {
   "cell_type": "code",
   "execution_count": 0,
   "metadata": {
    "application/vnd.databricks.v1+cell": {
     "inputWidgets": {},
     "nuid": "14971184-2793-4b5b-aa6b-1b9efb4daa14",
     "showTitle": false,
     "title": ""
    }
   },
   "outputs": [
    {
     "data": {
      "text/html": [
       "<style scoped>\n",
       "  .ansiout {\n",
       "    display: block;\n",
       "    unicode-bidi: embed;\n",
       "    white-space: pre-wrap;\n",
       "    word-wrap: break-word;\n",
       "    word-break: break-all;\n",
       "    font-family: \"Source Code Pro\", \"Menlo\", monospace;;\n",
       "    font-size: 13px;\n",
       "    color: #555;\n",
       "    margin-left: 4px;\n",
       "    line-height: 19px;\n",
       "  }\n",
       "</style>\n",
       "<div class=\"ansiout\"></div>"
      ]
     },
     "metadata": {
      "application/vnd.databricks.v1+output": {
       "addedWidgets": {},
       "arguments": {},
       "data": "<div class=\"ansiout\"></div>",
       "datasetInfos": [],
       "removedWidgets": [],
       "type": "html"
      }
     },
     "output_type": "display_data"
    }
   ],
   "source": [
    "training_predictions=lr_model.evaluate(train_df)"
   ]
  },
  {
   "cell_type": "code",
   "execution_count": 0,
   "metadata": {
    "application/vnd.databricks.v1+cell": {
     "inputWidgets": {},
     "nuid": "989552fb-7814-4525-90c4-263da95446a4",
     "showTitle": false,
     "title": ""
    }
   },
   "outputs": [
    {
     "data": {
      "text/html": [
       "<style scoped>\n",
       "  .ansiout {\n",
       "    display: block;\n",
       "    unicode-bidi: embed;\n",
       "    white-space: pre-wrap;\n",
       "    word-wrap: break-word;\n",
       "    word-break: break-all;\n",
       "    font-family: \"Source Code Pro\", \"Menlo\", monospace;;\n",
       "    font-size: 13px;\n",
       "    color: #555;\n",
       "    margin-left: 4px;\n",
       "    line-height: 19px;\n",
       "  }\n",
       "</style>\n",
       "<div class=\"ansiout\">Out[29]: 0.00014498765916450405</div>"
      ]
     },
     "metadata": {
      "application/vnd.databricks.v1+output": {
       "addedWidgets": {},
       "arguments": {},
       "data": "<div class=\"ansiout\">Out[29]: 0.00014498765916450405</div>",
       "datasetInfos": [],
       "removedWidgets": [],
       "type": "html"
      }
     },
     "output_type": "display_data"
    }
   ],
   "source": [
    "training_predictions.meanSquaredError"
   ]
  },
  {
   "cell_type": "code",
   "execution_count": 0,
   "metadata": {
    "application/vnd.databricks.v1+cell": {
     "inputWidgets": {},
     "nuid": "7307e55a-213e-4102-af49-8242cfd31653",
     "showTitle": false,
     "title": ""
    }
   },
   "outputs": [
    {
     "data": {
      "text/html": [
       "<style scoped>\n",
       "  .ansiout {\n",
       "    display: block;\n",
       "    unicode-bidi: embed;\n",
       "    white-space: pre-wrap;\n",
       "    word-wrap: break-word;\n",
       "    word-break: break-all;\n",
       "    font-family: \"Source Code Pro\", \"Menlo\", monospace;;\n",
       "    font-size: 13px;\n",
       "    color: #555;\n",
       "    margin-left: 4px;\n",
       "    line-height: 19px;\n",
       "  }\n",
       "</style>\n",
       "<div class=\"ansiout\">Out[30]: 0.8648179839940929</div>"
      ]
     },
     "metadata": {
      "application/vnd.databricks.v1+output": {
       "addedWidgets": {},
       "arguments": {},
       "data": "<div class=\"ansiout\">Out[30]: 0.8648179839940929</div>",
       "datasetInfos": [],
       "removedWidgets": [],
       "type": "html"
      }
     },
     "output_type": "display_data"
    }
   ],
   "source": [
    "training_predictions.r2"
   ]
  },
  {
   "cell_type": "code",
   "execution_count": 0,
   "metadata": {
    "application/vnd.databricks.v1+cell": {
     "inputWidgets": {},
     "nuid": "6b102be4-b00d-4372-baf0-1824b23234e0",
     "showTitle": false,
     "title": ""
    }
   },
   "outputs": [
    {
     "data": {
      "text/html": [
       "<style scoped>\n",
       "  .ansiout {\n",
       "    display: block;\n",
       "    unicode-bidi: embed;\n",
       "    white-space: pre-wrap;\n",
       "    word-wrap: break-word;\n",
       "    word-break: break-all;\n",
       "    font-family: \"Source Code Pro\", \"Menlo\", monospace;;\n",
       "    font-size: 13px;\n",
       "    color: #555;\n",
       "    margin-left: 4px;\n",
       "    line-height: 19px;\n",
       "  }\n",
       "</style>\n",
       "<div class=\"ansiout\"></div>"
      ]
     },
     "metadata": {
      "application/vnd.databricks.v1+output": {
       "addedWidgets": {},
       "arguments": {},
       "data": "<div class=\"ansiout\"></div>",
       "datasetInfos": [],
       "removedWidgets": [],
       "type": "html"
      }
     },
     "output_type": "display_data"
    }
   ],
   "source": [
    "#make predictions on test data \n",
    "test_results=lr_model.evaluate(test_df)"
   ]
  },
  {
   "cell_type": "code",
   "execution_count": 0,
   "metadata": {
    "application/vnd.databricks.v1+cell": {
     "inputWidgets": {},
     "nuid": "2dec114a-de76-4fd3-847b-68d6126a0241",
     "showTitle": false,
     "title": ""
    }
   },
   "outputs": [
    {
     "data": {
      "text/html": [
       "<style scoped>\n",
       "  .ansiout {\n",
       "    display: block;\n",
       "    unicode-bidi: embed;\n",
       "    white-space: pre-wrap;\n",
       "    word-wrap: break-word;\n",
       "    word-break: break-all;\n",
       "    font-family: \"Source Code Pro\", \"Menlo\", monospace;;\n",
       "    font-size: 13px;\n",
       "    color: #555;\n",
       "    margin-left: 4px;\n",
       "    line-height: 19px;\n",
       "  }\n",
       "</style>\n",
       "<div class=\"ansiout\">+--------------------+\n",
       "           residuals|\n",
       "+--------------------+\n",
       "0.009124094258398496|\n",
       "0.013177632874641076|\n",
       "-0.01232452704187...|\n",
       "-0.00461223194124...|\n",
       "-0.00750640201599...|\n",
       "-0.00647057980795...|\n",
       "-4.71355433959874...|\n",
       " 9.97443680953003E-4|\n",
       " 0.01093154575505767|\n",
       "-0.00570576593416...|\n",
       "+--------------------+\n",
       "only showing top 10 rows\n",
       "\n",
       "</div>"
      ]
     },
     "metadata": {
      "application/vnd.databricks.v1+output": {
       "addedWidgets": {},
       "arguments": {},
       "data": "<div class=\"ansiout\">+--------------------+\n|           residuals|\n+--------------------+\n|0.009124094258398496|\n|0.013177632874641076|\n|-0.01232452704187...|\n|-0.00461223194124...|\n|-0.00750640201599...|\n|-0.00647057980795...|\n|-4.71355433959874...|\n| 9.97443680953003E-4|\n| 0.01093154575505767|\n|-0.00570576593416...|\n+--------------------+\nonly showing top 10 rows\n\n</div>",
       "datasetInfos": [],
       "removedWidgets": [],
       "type": "html"
      }
     },
     "output_type": "display_data"
    }
   ],
   "source": [
    "#view the residual errors based on predictions \n",
    "test_results.residuals.show(10)"
   ]
  },
  {
   "cell_type": "code",
   "execution_count": 0,
   "metadata": {
    "application/vnd.databricks.v1+cell": {
     "inputWidgets": {},
     "nuid": "980f2648-8707-45a4-90db-3c1313cbc9c4",
     "showTitle": false,
     "title": ""
    }
   },
   "outputs": [
    {
     "data": {
      "text/html": [
       "<style scoped>\n",
       "  .ansiout {\n",
       "    display: block;\n",
       "    unicode-bidi: embed;\n",
       "    white-space: pre-wrap;\n",
       "    word-wrap: break-word;\n",
       "    word-break: break-all;\n",
       "    font-family: \"Source Code Pro\", \"Menlo\", monospace;;\n",
       "    font-size: 13px;\n",
       "    color: #555;\n",
       "    margin-left: 4px;\n",
       "    line-height: 19px;\n",
       "  }\n",
       "</style>\n",
       "<div class=\"ansiout\">Out[33]: 0.8792370561432512</div>"
      ]
     },
     "metadata": {
      "application/vnd.databricks.v1+output": {
       "addedWidgets": {},
       "arguments": {},
       "data": "<div class=\"ansiout\">Out[33]: 0.8792370561432512</div>",
       "datasetInfos": [],
       "removedWidgets": [],
       "type": "html"
      }
     },
     "output_type": "display_data"
    }
   ],
   "source": [
    "#coefficient of determination value for model\n",
    "test_results.r2"
   ]
  },
  {
   "cell_type": "code",
   "execution_count": 0,
   "metadata": {
    "application/vnd.databricks.v1+cell": {
     "inputWidgets": {},
     "nuid": "dbe17585-d580-4476-94d1-359887178be0",
     "showTitle": false,
     "title": ""
    }
   },
   "outputs": [
    {
     "data": {
      "text/html": [
       "<style scoped>\n",
       "  .ansiout {\n",
       "    display: block;\n",
       "    unicode-bidi: embed;\n",
       "    white-space: pre-wrap;\n",
       "    word-wrap: break-word;\n",
       "    word-break: break-all;\n",
       "    font-family: \"Source Code Pro\", \"Menlo\", monospace;;\n",
       "    font-size: 13px;\n",
       "    color: #555;\n",
       "    margin-left: 4px;\n",
       "    line-height: 19px;\n",
       "  }\n",
       "</style>\n",
       "<div class=\"ansiout\">Out[34]: 0.011992526548275718</div>"
      ]
     },
     "metadata": {
      "application/vnd.databricks.v1+output": {
       "addedWidgets": {},
       "arguments": {},
       "data": "<div class=\"ansiout\">Out[34]: 0.011992526548275718</div>",
       "datasetInfos": [],
       "removedWidgets": [],
       "type": "html"
      }
     },
     "output_type": "display_data"
    }
   ],
   "source": [
    "test_results.rootMeanSquaredError"
   ]
  },
  {
   "cell_type": "code",
   "execution_count": 0,
   "metadata": {
    "application/vnd.databricks.v1+cell": {
     "inputWidgets": {},
     "nuid": "2a8d8e1c-a910-4a3f-b7c8-a717b3b5669b",
     "showTitle": false,
     "title": ""
    }
   },
   "outputs": [
    {
     "data": {
      "text/html": [
       "<style scoped>\n",
       "  .ansiout {\n",
       "    display: block;\n",
       "    unicode-bidi: embed;\n",
       "    white-space: pre-wrap;\n",
       "    word-wrap: break-word;\n",
       "    word-break: break-all;\n",
       "    font-family: \"Source Code Pro\", \"Menlo\", monospace;;\n",
       "    font-size: 13px;\n",
       "    color: #555;\n",
       "    margin-left: 4px;\n",
       "    line-height: 19px;\n",
       "  }\n",
       "</style>\n",
       "<div class=\"ansiout\">Out[35]: 0.0001438206930110979</div>"
      ]
     },
     "metadata": {
      "application/vnd.databricks.v1+output": {
       "addedWidgets": {},
       "arguments": {},
       "data": "<div class=\"ansiout\">Out[35]: 0.0001438206930110979</div>",
       "datasetInfos": [],
       "removedWidgets": [],
       "type": "html"
      }
     },
     "output_type": "display_data"
    }
   ],
   "source": [
    "test_results.meanSquaredError"
   ]
  },
  {
   "cell_type": "code",
   "execution_count": 0,
   "metadata": {
    "application/vnd.databricks.v1+cell": {
     "inputWidgets": {},
     "nuid": "3f228831-cdb5-4301-83ee-6ec6ad7e1bd3",
     "showTitle": false,
     "title": ""
    }
   },
   "outputs": [],
   "source": []
  }
 ],
 "metadata": {
  "application/vnd.databricks.v1+notebook": {
   "dashboards": [],
   "language": "python",
   "notebookName": "2_Linear_Regression",
   "notebookOrigID": 193850213023136,
   "widgets": {}
  },
  "kernelspec": {
   "display_name": "Python 3",
   "language": "python",
   "name": "python3"
  },
  "language_info": {
   "codemirror_mode": {
    "name": "ipython",
    "version": 3
   },
   "file_extension": ".py",
   "mimetype": "text/x-python",
   "name": "python",
   "nbconvert_exporter": "python",
   "pygments_lexer": "ipython3",
   "version": "3.8.5"
  }
 },
 "nbformat": 4,
 "nbformat_minor": 1
}
