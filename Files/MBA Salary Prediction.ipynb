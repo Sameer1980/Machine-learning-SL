{
 "cells": [
  {
   "cell_type": "code",
   "execution_count": 35,
   "metadata": {},
   "outputs": [],
   "source": [
    "import warnings\n",
    "warnings.filterwarnings('ignore')\n",
    "import pandas as pd\n",
    "import numpy as np\n",
    "np.set_printoptions(precision=4, linewidth=100)"
   ]
  },
  {
   "cell_type": "code",
   "execution_count": 36,
   "metadata": {},
   "outputs": [
    {
     "data": {
      "text/html": [
       "<div>\n",
       "<style scoped>\n",
       "    .dataframe tbody tr th:only-of-type {\n",
       "        vertical-align: middle;\n",
       "    }\n",
       "\n",
       "    .dataframe tbody tr th {\n",
       "        vertical-align: top;\n",
       "    }\n",
       "\n",
       "    .dataframe thead th {\n",
       "        text-align: right;\n",
       "    }\n",
       "</style>\n",
       "<table border=\"1\" class=\"dataframe\">\n",
       "  <thead>\n",
       "    <tr style=\"text-align: right;\">\n",
       "      <th></th>\n",
       "      <th>S. No.</th>\n",
       "      <th>Percentage in Grade 10</th>\n",
       "      <th>Salary</th>\n",
       "    </tr>\n",
       "  </thead>\n",
       "  <tbody>\n",
       "    <tr>\n",
       "      <th>0</th>\n",
       "      <td>1</td>\n",
       "      <td>62.00</td>\n",
       "      <td>270000</td>\n",
       "    </tr>\n",
       "    <tr>\n",
       "      <th>1</th>\n",
       "      <td>2</td>\n",
       "      <td>76.33</td>\n",
       "      <td>200000</td>\n",
       "    </tr>\n",
       "    <tr>\n",
       "      <th>2</th>\n",
       "      <td>3</td>\n",
       "      <td>72.00</td>\n",
       "      <td>240000</td>\n",
       "    </tr>\n",
       "    <tr>\n",
       "      <th>3</th>\n",
       "      <td>4</td>\n",
       "      <td>60.00</td>\n",
       "      <td>250000</td>\n",
       "    </tr>\n",
       "    <tr>\n",
       "      <th>4</th>\n",
       "      <td>5</td>\n",
       "      <td>61.00</td>\n",
       "      <td>180000</td>\n",
       "    </tr>\n",
       "    <tr>\n",
       "      <th>5</th>\n",
       "      <td>6</td>\n",
       "      <td>55.00</td>\n",
       "      <td>300000</td>\n",
       "    </tr>\n",
       "    <tr>\n",
       "      <th>6</th>\n",
       "      <td>7</td>\n",
       "      <td>70.00</td>\n",
       "      <td>260000</td>\n",
       "    </tr>\n",
       "    <tr>\n",
       "      <th>7</th>\n",
       "      <td>8</td>\n",
       "      <td>68.00</td>\n",
       "      <td>235000</td>\n",
       "    </tr>\n",
       "    <tr>\n",
       "      <th>8</th>\n",
       "      <td>9</td>\n",
       "      <td>82.80</td>\n",
       "      <td>425000</td>\n",
       "    </tr>\n",
       "    <tr>\n",
       "      <th>9</th>\n",
       "      <td>10</td>\n",
       "      <td>59.00</td>\n",
       "      <td>240000</td>\n",
       "    </tr>\n",
       "  </tbody>\n",
       "</table>\n",
       "</div>"
      ],
      "text/plain": [
       "   S. No.  Percentage in Grade 10  Salary\n",
       "0       1                   62.00  270000\n",
       "1       2                   76.33  200000\n",
       "2       3                   72.00  240000\n",
       "3       4                   60.00  250000\n",
       "4       5                   61.00  180000\n",
       "5       6                   55.00  300000\n",
       "6       7                   70.00  260000\n",
       "7       8                   68.00  235000\n",
       "8       9                   82.80  425000\n",
       "9      10                   59.00  240000"
      ]
     },
     "execution_count": 36,
     "metadata": {},
     "output_type": "execute_result"
    }
   ],
   "source": [
    "mba_salary_df = pd.read_csv('MBA Salary.csv' )\n",
    "mba_salary_df.head( 10 )"
   ]
  },
  {
   "cell_type": "code",
   "execution_count": 37,
   "metadata": {},
   "outputs": [
    {
     "name": "stdout",
     "output_type": "stream",
     "text": [
      "<class 'pandas.core.frame.DataFrame'>\n",
      "RangeIndex: 50 entries, 0 to 49\n",
      "Data columns (total 3 columns):\n",
      "S. No.                    50 non-null int64\n",
      "Percentage in Grade 10    50 non-null float64\n",
      "Salary                    50 non-null int64\n",
      "dtypes: float64(1), int64(2)\n",
      "memory usage: 1.3 KB\n"
     ]
    }
   ],
   "source": [
    "mba_salary_df.info()"
   ]
  },
  {
   "cell_type": "code",
   "execution_count": 38,
   "metadata": {},
   "outputs": [],
   "source": [
    "#Descriptive Stats using Pandas profiling ###"
   ]
  },
  {
   "cell_type": "code",
   "execution_count": 39,
   "metadata": {},
   "outputs": [],
   "source": [
    "import pandas_profiling"
   ]
  },
  {
   "cell_type": "code",
   "execution_count": 40,
   "metadata": {},
   "outputs": [],
   "source": [
    "pfr = pandas_profiling.ProfileReport(mba_salary_df)\n",
    "pfr.to_file(\"MBA_Salary_Prediction_EDA_report.html\")"
   ]
  },
  {
   "cell_type": "code",
   "execution_count": 41,
   "metadata": {},
   "outputs": [],
   "source": [
    "#Target Variable -  Numeric - Regression\n",
    "#target Variable - Catagory - Classification\n",
    "\n",
    "\n",
    "###Linear form or Non linear \n",
    "#Linear - Linear Regression for regression\n",
    "#       - Logistic Regression for Classsifaction\n",
    "###### Statsmodel / sklearn ####\n",
    "\n",
    "\n",
    "######Assumption check for Linearity############, if assumptions are met then it is linear, otherwise try non linear algos\n",
    "\n",
    "#Non Linear:\n",
    "#Regression - SVM, KNN, Decision Tree, Random FOrest, XGboost, AdaBoost, Neural Network.....\n",
    "\n",
    "#Classification - Naive Bayes, SVM, KNN, Decision Tree, Random FOrest, XGboost, AdaBoost, Neural Network.....\n",
    "#sklearn library\n",
    "\n",
    "\n",
    "#pyspark - Spark MLib\n",
    "\n",
    "###Enterprise level####\n",
    "# H2O.ai - Auto Selection, Programming, Drag and drop\n",
    "# Knime Analytics - Drag and drop and coading\n",
    "#Orange - Pictorial drag and drop"
   ]
  },
  {
   "cell_type": "code",
   "execution_count": 42,
   "metadata": {},
   "outputs": [
    {
     "data": {
      "text/plain": [
       "Index(['S._No.', 'Percentage_in_Grade_10', 'Salary'], dtype='object')"
      ]
     },
     "execution_count": 42,
     "metadata": {},
     "output_type": "execute_result"
    }
   ],
   "source": [
    "mba_salary_df.columns"
   ]
  },
  {
   "cell_type": "code",
   "execution_count": 43,
   "metadata": {},
   "outputs": [],
   "source": [
    "import statsmodels.api as sm"
   ]
  },
  {
   "cell_type": "code",
   "execution_count": 44,
   "metadata": {},
   "outputs": [
    {
     "data": {
      "text/html": [
       "<div>\n",
       "<style scoped>\n",
       "    .dataframe tbody tr th:only-of-type {\n",
       "        vertical-align: middle;\n",
       "    }\n",
       "\n",
       "    .dataframe tbody tr th {\n",
       "        vertical-align: top;\n",
       "    }\n",
       "\n",
       "    .dataframe thead th {\n",
       "        text-align: right;\n",
       "    }\n",
       "</style>\n",
       "<table border=\"1\" class=\"dataframe\">\n",
       "  <thead>\n",
       "    <tr style=\"text-align: right;\">\n",
       "      <th></th>\n",
       "      <th>const</th>\n",
       "      <th>Percentage_in_Grade_10</th>\n",
       "    </tr>\n",
       "  </thead>\n",
       "  <tbody>\n",
       "    <tr>\n",
       "      <th>0</th>\n",
       "      <td>1.0</td>\n",
       "      <td>62.00</td>\n",
       "    </tr>\n",
       "    <tr>\n",
       "      <th>1</th>\n",
       "      <td>1.0</td>\n",
       "      <td>76.33</td>\n",
       "    </tr>\n",
       "    <tr>\n",
       "      <th>2</th>\n",
       "      <td>1.0</td>\n",
       "      <td>72.00</td>\n",
       "    </tr>\n",
       "    <tr>\n",
       "      <th>3</th>\n",
       "      <td>1.0</td>\n",
       "      <td>60.00</td>\n",
       "    </tr>\n",
       "    <tr>\n",
       "      <th>4</th>\n",
       "      <td>1.0</td>\n",
       "      <td>61.00</td>\n",
       "    </tr>\n",
       "  </tbody>\n",
       "</table>\n",
       "</div>"
      ],
      "text/plain": [
       "   const  Percentage_in_Grade_10\n",
       "0    1.0                   62.00\n",
       "1    1.0                   76.33\n",
       "2    1.0                   72.00\n",
       "3    1.0                   60.00\n",
       "4    1.0                   61.00"
      ]
     },
     "execution_count": 44,
     "metadata": {},
     "output_type": "execute_result"
    }
   ],
   "source": [
    "X = sm.add_constant( mba_salary_df['Percentage_in_Grade_10'] )\n",
    "X.head(5)"
   ]
  },
  {
   "cell_type": "code",
   "execution_count": 45,
   "metadata": {},
   "outputs": [],
   "source": [
    "Y = mba_salary_df['Salary']"
   ]
  },
  {
   "cell_type": "code",
   "execution_count": null,
   "metadata": {},
   "outputs": [],
   "source": []
  },
  {
   "cell_type": "code",
   "execution_count": 46,
   "metadata": {},
   "outputs": [],
   "source": [
    "from sklearn.model_selection import train_test_split"
   ]
  },
  {
   "cell_type": "code",
   "execution_count": 47,
   "metadata": {},
   "outputs": [],
   "source": [
    "train_X, test_X, train_y, test_y = train_test_split( X ,Y,train_size = 0.8,random_state = 99999 )"
   ]
  },
  {
   "cell_type": "code",
   "execution_count": 48,
   "metadata": {},
   "outputs": [],
   "source": [
    "mba_salary_lm = sm.OLS( train_y, train_X ).fit()"
   ]
  },
  {
   "cell_type": "code",
   "execution_count": 49,
   "metadata": {},
   "outputs": [
    {
     "data": {
      "text/plain": [
       "<statsmodels.regression.linear_model.RegressionResultsWrapper at 0x267836de988>"
      ]
     },
     "execution_count": 49,
     "metadata": {},
     "output_type": "execute_result"
    }
   ],
   "source": [
    "mba_salary_lm"
   ]
  },
  {
   "cell_type": "code",
   "execution_count": 50,
   "metadata": {},
   "outputs": [
    {
     "name": "stdout",
     "output_type": "stream",
     "text": [
      "const                     36086.456578\n",
      "Percentage_in_Grade_10     3492.397999\n",
      "dtype: float64\n"
     ]
    }
   ],
   "source": [
    "print( mba_salary_lm.params )"
   ]
  },
  {
   "cell_type": "code",
   "execution_count": 51,
   "metadata": {},
   "outputs": [
    {
     "data": {
      "text/html": [
       "<table class=\"simpletable\">\n",
       "<tr>\n",
       "        <td>Model:</td>               <td>OLS</td>         <td>Adj. R-squared:</td>      <td>0.158</td>  \n",
       "</tr>\n",
       "<tr>\n",
       "  <td>Dependent Variable:</td>      <td>Salary</td>             <td>AIC:</td>          <td>1015.9909</td>\n",
       "</tr>\n",
       "<tr>\n",
       "         <td>Date:</td>        <td>2020-03-21 20:47</td>        <td>BIC:</td>          <td>1019.3687</td>\n",
       "</tr>\n",
       "<tr>\n",
       "   <td>No. Observations:</td>         <td>40</td>          <td>Log-Likelihood:</td>     <td>-506.00</td> \n",
       "</tr>\n",
       "<tr>\n",
       "       <td>Df Model:</td>              <td>1</td>           <td>F-statistic:</td>        <td>8.310</td>  \n",
       "</tr>\n",
       "<tr>\n",
       "     <td>Df Residuals:</td>           <td>38</td>        <td>Prob (F-statistic):</td>   <td>0.00645</td> \n",
       "</tr>\n",
       "<tr>\n",
       "      <td>R-squared:</td>            <td>0.179</td>            <td>Scale:</td>        <td>5.9890e+09</td>\n",
       "</tr>\n",
       "</table>\n",
       "<table class=\"simpletable\">\n",
       "<tr>\n",
       "             <td></td>               <th>Coef.</th>    <th>Std.Err.</th>     <th>t</th>    <th>P>|t|</th>    <th>[0.025</th>      <th>0.975]</th>   \n",
       "</tr>\n",
       "<tr>\n",
       "  <th>const</th>                  <td>36086.4566</td> <td>79034.0017</td> <td>0.4566</td> <td>0.6506</td> <td>-123909.5153</td> <td>196082.4285</td>\n",
       "</tr>\n",
       "<tr>\n",
       "  <th>Percentage_in_Grade_10</th>  <td>3492.3980</td>  <td>1211.4791</td> <td>2.8828</td> <td>0.0065</td>   <td>1039.8868</td>   <td>5944.9092</td> \n",
       "</tr>\n",
       "</table>\n",
       "<table class=\"simpletable\">\n",
       "<tr>\n",
       "     <td>Omnibus:</td>    <td>3.450</td>  <td>Durbin-Watson:</td>   <td>2.219</td>\n",
       "</tr>\n",
       "<tr>\n",
       "  <td>Prob(Omnibus):</td> <td>0.178</td> <td>Jarque-Bera (JB):</td> <td>1.816</td>\n",
       "</tr>\n",
       "<tr>\n",
       "       <td>Skew:</td>     <td>0.222</td>     <td>Prob(JB):</td>     <td>0.403</td>\n",
       "</tr>\n",
       "<tr>\n",
       "     <td>Kurtosis:</td>   <td>2.055</td>  <td>Condition No.:</td>    <td>421</td> \n",
       "</tr>\n",
       "</table>"
      ],
      "text/plain": [
       "<class 'statsmodels.iolib.summary2.Summary'>\n",
       "\"\"\"\n",
       "                          Results: Ordinary least squares\n",
       "===================================================================================\n",
       "Model:                    OLS                   Adj. R-squared:          0.158     \n",
       "Dependent Variable:       Salary                AIC:                     1015.9909 \n",
       "Date:                     2020-03-21 20:47      BIC:                     1019.3687 \n",
       "No. Observations:         40                    Log-Likelihood:          -506.00   \n",
       "Df Model:                 1                     F-statistic:             8.310     \n",
       "Df Residuals:             38                    Prob (F-statistic):      0.00645   \n",
       "R-squared:                0.179                 Scale:                   5.9890e+09\n",
       "-----------------------------------------------------------------------------------\n",
       "                         Coef.     Std.Err.    t    P>|t|     [0.025       0.975]  \n",
       "-----------------------------------------------------------------------------------\n",
       "const                  36086.4566 79034.0017 0.4566 0.6506 -123909.5153 196082.4285\n",
       "Percentage_in_Grade_10  3492.3980  1211.4791 2.8828 0.0065    1039.8868   5944.9092\n",
       "-----------------------------------------------------------------------------------\n",
       "Omnibus:                    3.450              Durbin-Watson:                 2.219\n",
       "Prob(Omnibus):              0.178              Jarque-Bera (JB):              1.816\n",
       "Skew:                       0.222              Prob(JB):                      0.403\n",
       "Kurtosis:                   2.055              Condition No.:                 421  \n",
       "===================================================================================\n",
       "\n",
       "\"\"\""
      ]
     },
     "execution_count": 51,
     "metadata": {},
     "output_type": "execute_result"
    }
   ],
   "source": [
    "mba_salary_lm.summary2()"
   ]
  },
  {
   "cell_type": "code",
   "execution_count": 32,
   "metadata": {},
   "outputs": [],
   "source": [
    "import matplotlib.pyplot as plt\n",
    "import seaborn as sn\n",
    "%matplotlib inline"
   ]
  },
  {
   "cell_type": "code",
   "execution_count": 33,
   "metadata": {},
   "outputs": [
    {
     "data": {
      "text/plain": [
       "<Figure size 576x432 with 0 Axes>"
      ]
     },
     "metadata": {},
     "output_type": "display_data"
    },
    {
     "data": {
      "image/png": "[encoded data removed]",
      "text/plain": [
       "<Figure size 432x288 with 1 Axes>"
      ]
     },
     "metadata": {
      "needs_background": "light"
     },
     "output_type": "display_data"
    }
   ],
   "source": [
    "mba_salary_resid = mba_salary_lm.resid\n",
    "probplot = sm.ProbPlot( mba_salary_resid )\n",
    "plt.figure( figsize = (8, 6) )\n",
    "probplot.ppplot( line='45' )\n",
    "plt.title( \"Fig 4.1 - Normal P-P Plot of Regression Standardized Residuals\" )\n",
    "plt.show()"
   ]
  },
  {
   "cell_type": "code",
   "execution_count": 34,
   "metadata": {},
   "outputs": [],
   "source": [
    "def get_standardized_values( vals ):\n",
    "    return (vals - vals.mean())/vals.std()"
   ]
  },
  {
   "cell_type": "code",
   "execution_count": 35,
   "metadata": {},
   "outputs": [
    {
     "data": {
      "image/png": "[encoded data removed]",
      "text/plain": [
       "<Figure size 432x288 with 1 Axes>"
      ]
     },
     "metadata": {
      "needs_background": "light"
     },
     "output_type": "display_data"
    }
   ],
   "source": [
    "plt.scatter( get_standardized_values( mba_salary_lm.fittedvalues ),\n",
    "get_standardized_values( mba_salary_resid ) )\n",
    "plt.title( \"Fig 4.2 - Residual Plot: MBA Salary Prediction\" );\n",
    "plt.xlabel( \"Standardized predicted values\")\n",
    "plt.ylabel( \"Standardized Residuals\");"
   ]
  },
  {
   "cell_type": "code",
   "execution_count": 36,
   "metadata": {},
   "outputs": [],
   "source": [
    "from scipy.stats import zscore"
   ]
  },
  {
   "cell_type": "code",
   "execution_count": 37,
   "metadata": {},
   "outputs": [],
   "source": [
    "mba_salary_df['z_score_salary'] = zscore( mba_salary_df.Salary )"
   ]
  },
  {
   "cell_type": "code",
   "execution_count": 38,
   "metadata": {},
   "outputs": [
    {
     "data": {
      "text/html": [
       "<div>\n",
       "<style scoped>\n",
       "    .dataframe tbody tr th:only-of-type {\n",
       "        vertical-align: middle;\n",
       "    }\n",
       "\n",
       "    .dataframe tbody tr th {\n",
       "        vertical-align: top;\n",
       "    }\n",
       "\n",
       "    .dataframe thead th {\n",
       "        text-align: right;\n",
       "    }\n",
       "</style>\n",
       "<table border=\"1\" class=\"dataframe\">\n",
       "  <thead>\n",
       "    <tr style=\"text-align: right;\">\n",
       "      <th></th>\n",
       "      <th>S._No.</th>\n",
       "      <th>Percentage_in_Grade_10</th>\n",
       "      <th>Salary</th>\n",
       "      <th>z_score_salary</th>\n",
       "    </tr>\n",
       "  </thead>\n",
       "  <tbody>\n",
       "  </tbody>\n",
       "</table>\n",
       "</div>"
      ],
      "text/plain": [
       "Empty DataFrame\n",
       "Columns: [S._No., Percentage_in_Grade_10, Salary, z_score_salary]\n",
       "Index: []"
      ]
     },
     "execution_count": 38,
     "metadata": {},
     "output_type": "execute_result"
    }
   ],
   "source": [
    "mba_salary_df[ (mba_salary_df.z_score_salary > 3.0) | (mba_salary_df.z_score_salary < -3.0) ]"
   ]
  },
  {
   "cell_type": "code",
   "execution_count": 39,
   "metadata": {},
   "outputs": [
    {
     "data": {
      "image/png": "[encoded data removed]",
      "text/plain": [
       "<Figure size 432x288 with 1 Axes>"
      ]
     },
     "metadata": {
      "needs_background": "light"
     },
     "output_type": "display_data"
    }
   ],
   "source": [
    "import numpy as np\n",
    "mba_influence = mba_salary_lm.get_influence()\n",
    "(c, p) = mba_influence.cooks_distance\n",
    "plt.stem( np.arange( len( train_X) ),\n",
    "np.round( c, 3 ),\n",
    "markerfmt=\",\" );\n",
    "plt.title( \"Figure 4.3 - Cooks distance for all observations in MBA Salaray dataset\" );\n",
    "plt.xlabel( \"Row index\")\n",
    "plt.ylabel( \"Cooks Distance\");"
   ]
  },
  {
   "cell_type": "code",
   "execution_count": 40,
   "metadata": {},
   "outputs": [
    {
     "data": {
      "image/png": "[encoded data removed]",
      "text/plain": [
       "<Figure size 576x432 with 1 Axes>"
      ]
     },
     "metadata": {
      "needs_background": "light"
     },
     "output_type": "display_data"
    }
   ],
   "source": [
    "from statsmodels.graphics.regressionplots import influence_plot\n",
    "fig, ax = plt.subplots( figsize=(8,6) )\n",
    "influence_plot( mba_salary_lm, ax = ax )\n",
    "plt.title( \"Figure 4.4 - Leverage Value Vs Residuals\")\n",
    "plt.show();"
   ]
  },
  {
   "cell_type": "code",
   "execution_count": 32,
   "metadata": {},
   "outputs": [],
   "source": [
    "pred_y = mba_salary_lm.predict( test_X )"
   ]
  },
  {
   "cell_type": "code",
   "execution_count": 33,
   "metadata": {},
   "outputs": [],
   "source": [
    "from sklearn.metrics import r2_score, mean_squared_error"
   ]
  },
  {
   "cell_type": "code",
   "execution_count": 34,
   "metadata": {},
   "outputs": [
    {
     "data": {
      "text/plain": [
       "0.15664584974230378"
      ]
     },
     "execution_count": 34,
     "metadata": {},
     "output_type": "execute_result"
    }
   ],
   "source": [
    "np.abs(r2_score(test_y, pred_y))"
   ]
  },
  {
   "cell_type": "code",
   "execution_count": 35,
   "metadata": {},
   "outputs": [],
   "source": [
    "import numpy"
   ]
  },
  {
   "cell_type": "code",
   "execution_count": 36,
   "metadata": {},
   "outputs": [
    {
     "data": {
      "text/plain": [
       "73458.04348346894"
      ]
     },
     "execution_count": 36,
     "metadata": {},
     "output_type": "execute_result"
    }
   ],
   "source": [
    "np.sqrt(mean_squared_error(test_y, pred_y))"
   ]
  },
  {
   "cell_type": "code",
   "execution_count": 37,
   "metadata": {},
   "outputs": [],
   "source": [
    "from statsmodels.sandbox.regression.predstd import wls_prediction_std\n",
    "# Predict the y values\n",
    "pred_y = mba_salary_lm.predict( test_X )\n",
    "# Predict the low and high interval values for y\n",
    "_, pred_y_low, pred_y_high = wls_prediction_std( mba_salary_lm,\n",
    "test_X,\n",
    "alpha = 0.1)\n",
    "# Store all the values in a dataframe\n",
    "pred_y_df = pd.DataFrame( { 'grade_10_perc': test_X['Percentage in Grade 10'],\n",
    "'pred_y': pred_y,\n",
    "'pred_y_left': pred_y_low,\n",
    "'pred_y_right': pred_y_high } )"
   ]
  },
  {
   "cell_type": "code",
   "execution_count": 38,
   "metadata": {},
   "outputs": [
    {
     "data": {
      "text/html": [
       "<div>\n",
       "<style scoped>\n",
       "    .dataframe tbody tr th:only-of-type {\n",
       "        vertical-align: middle;\n",
       "    }\n",
       "\n",
       "    .dataframe tbody tr th {\n",
       "        vertical-align: top;\n",
       "    }\n",
       "\n",
       "    .dataframe thead th {\n",
       "        text-align: right;\n",
       "    }\n",
       "</style>\n",
       "<table border=\"1\" class=\"dataframe\">\n",
       "  <thead>\n",
       "    <tr style=\"text-align: right;\">\n",
       "      <th></th>\n",
       "      <th>grade_10_perc</th>\n",
       "      <th>pred_y</th>\n",
       "      <th>pred_y_left</th>\n",
       "      <th>pred_y_right</th>\n",
       "    </tr>\n",
       "  </thead>\n",
       "  <tbody>\n",
       "    <tr>\n",
       "      <th>6</th>\n",
       "      <td>70.0</td>\n",
       "      <td>279828.402452</td>\n",
       "      <td>158379.832044</td>\n",
       "      <td>401276.972860</td>\n",
       "    </tr>\n",
       "    <tr>\n",
       "      <th>36</th>\n",
       "      <td>68.0</td>\n",
       "      <td>272707.227686</td>\n",
       "      <td>151576.715020</td>\n",
       "      <td>393837.740352</td>\n",
       "    </tr>\n",
       "    <tr>\n",
       "      <th>37</th>\n",
       "      <td>52.0</td>\n",
       "      <td>215737.829560</td>\n",
       "      <td>92950.942395</td>\n",
       "      <td>338524.716726</td>\n",
       "    </tr>\n",
       "    <tr>\n",
       "      <th>28</th>\n",
       "      <td>58.0</td>\n",
       "      <td>237101.353858</td>\n",
       "      <td>115806.869618</td>\n",
       "      <td>358395.838097</td>\n",
       "    </tr>\n",
       "    <tr>\n",
       "      <th>43</th>\n",
       "      <td>74.5</td>\n",
       "      <td>295851.045675</td>\n",
       "      <td>173266.083342</td>\n",
       "      <td>418436.008008</td>\n",
       "    </tr>\n",
       "    <tr>\n",
       "      <th>49</th>\n",
       "      <td>60.8</td>\n",
       "      <td>247070.998530</td>\n",
       "      <td>126117.560983</td>\n",
       "      <td>368024.436076</td>\n",
       "    </tr>\n",
       "    <tr>\n",
       "      <th>5</th>\n",
       "      <td>55.0</td>\n",
       "      <td>226419.591709</td>\n",
       "      <td>104507.444388</td>\n",
       "      <td>348331.739030</td>\n",
       "    </tr>\n",
       "    <tr>\n",
       "      <th>33</th>\n",
       "      <td>78.0</td>\n",
       "      <td>308313.101515</td>\n",
       "      <td>184450.060488</td>\n",
       "      <td>432176.142542</td>\n",
       "    </tr>\n",
       "    <tr>\n",
       "      <th>20</th>\n",
       "      <td>63.0</td>\n",
       "      <td>254904.290772</td>\n",
       "      <td>134057.999258</td>\n",
       "      <td>375750.582286</td>\n",
       "    </tr>\n",
       "    <tr>\n",
       "      <th>42</th>\n",
       "      <td>74.4</td>\n",
       "      <td>295494.986937</td>\n",
       "      <td>172941.528691</td>\n",
       "      <td>418048.445182</td>\n",
       "    </tr>\n",
       "  </tbody>\n",
       "</table>\n",
       "</div>"
      ],
      "text/plain": [
       "    grade_10_perc         pred_y    pred_y_left   pred_y_right\n",
       "6            70.0  279828.402452  158379.832044  401276.972860\n",
       "36           68.0  272707.227686  151576.715020  393837.740352\n",
       "37           52.0  215737.829560   92950.942395  338524.716726\n",
       "28           58.0  237101.353858  115806.869618  358395.838097\n",
       "43           74.5  295851.045675  173266.083342  418436.008008\n",
       "49           60.8  247070.998530  126117.560983  368024.436076\n",
       "5            55.0  226419.591709  104507.444388  348331.739030\n",
       "33           78.0  308313.101515  184450.060488  432176.142542\n",
       "20           63.0  254904.290772  134057.999258  375750.582286\n",
       "42           74.4  295494.986937  172941.528691  418048.445182"
      ]
     },
     "execution_count": 38,
     "metadata": {},
     "output_type": "execute_result"
    }
   ],
   "source": [
    "pred_y_df[0:10]"
   ]
  },
  {
   "cell_type": "code",
   "execution_count": null,
   "metadata": {},
   "outputs": [],
   "source": []
  }
 ],
 "metadata": {
  "kernelspec": {
   "display_name": "Python 3",
   "language": "python",
   "name": "python3"
  },
  "language_info": {
   "codemirror_mode": {
    "name": "ipython",
    "version": 3
   },
   "file_extension": ".py",
   "mimetype": "text/x-python",
   "name": "python",
   "nbconvert_exporter": "python",
   "pygments_lexer": "ipython3",
   "version": "3.7.4"
  }
 },
 "nbformat": 4,
 "nbformat_minor": 2
}
