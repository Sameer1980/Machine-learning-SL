{
 "cells": [
  {
   "cell_type": "markdown",
   "metadata": {},
   "source": [
    "# 1) 10 questions 45 min.\n",
    "# 2) Sample dataframe are given in questions, you can copy paste in cell and write the further code.\n",
    "# 3) *Kindly rename your notebook with your name before sending to us.\n",
    "# 4) *YOUR CODE MUST BE RUNNABLE IN OUR SYSTEM WITHOUT ANY ERROR."
   ]
  },
  {
   "cell_type": "markdown",
   "metadata": {},
   "source": [
    "## Requirments"
   ]
  },
  {
   "cell_type": "code",
   "execution_count": 4,
   "metadata": {},
   "outputs": [],
   "source": [
    "import pandas as pd\n",
    "import seaborn as sns\n",
    "import matplotlib.pyplot as plt\n",
    "from datetime import datetime\n",
    "from numpy import random"
   ]
  },
  {
   "cell_type": "markdown",
   "metadata": {},
   "source": [
    "# 1) Create dataframe of the given list and assign auto-incremented number for each group.\n",
    "# lst = ['A', 'B', 'C', 'A','A','B','D','E','F','F','Z']\n",
    "e.g if A occures three times then 1st A will get 1 second will get 2 and third will get 3, same for B, 1st B will get 1 2nd will get 2 .....,C....etc. And get max number of each"
   ]
  },
  {
   "cell_type": "code",
   "execution_count": null,
   "metadata": {},
   "outputs": [],
   "source": []
  },
  {
   "cell_type": "code",
   "execution_count": null,
   "metadata": {},
   "outputs": [],
   "source": []
  },
  {
   "cell_type": "code",
   "execution_count": null,
   "metadata": {},
   "outputs": [],
   "source": []
  },
  {
   "cell_type": "markdown",
   "metadata": {},
   "source": [
    "# 2) Update the values column age and set it to 22 where name is \"xyz\" or \"mnu\" in given datarame using isin()\n",
    "data = [['xyz', 10], ['abc', 15], ['pzq', 14], ['mnu', 15], ['xyz', 14]]  \n",
    "df = pd.DataFrame(data, columns = ['Name', 'Age'])"
   ]
  },
  {
   "cell_type": "code",
   "execution_count": null,
   "metadata": {},
   "outputs": [],
   "source": []
  },
  {
   "cell_type": "code",
   "execution_count": null,
   "metadata": {},
   "outputs": [],
   "source": []
  },
  {
   "cell_type": "code",
   "execution_count": null,
   "metadata": {},
   "outputs": [],
   "source": []
  },
  {
   "cell_type": "markdown",
   "metadata": {},
   "source": [
    "# 3) Print each alphabet of below string on new line using loop by removing white spaces.\n",
    " \"python is amazing\"\n"
   ]
  },
  {
   "cell_type": "code",
   "execution_count": null,
   "metadata": {},
   "outputs": [],
   "source": []
  },
  {
   "cell_type": "code",
   "execution_count": null,
   "metadata": {},
   "outputs": [],
   "source": []
  },
  {
   "cell_type": "code",
   "execution_count": null,
   "metadata": {},
   "outputs": [],
   "source": []
  },
  {
   "cell_type": "markdown",
   "metadata": {},
   "source": [
    "# 4) Develop code for the following logic 01\n",
    "1. Convert timestamp to date and add as a new feature date in dataset.\n",
    "2. Get month number from date and add as a new feature month in dataset.\n",
    "3. Get dayname from date and add as a new feature dayname in dataset.\n",
    "\n",
    "df = pd.DataFrame({'date':['20210101','20220201','19991001']})"
   ]
  },
  {
   "cell_type": "code",
   "execution_count": null,
   "metadata": {},
   "outputs": [],
   "source": []
  },
  {
   "cell_type": "code",
   "execution_count": null,
   "metadata": {},
   "outputs": [],
   "source": []
  },
  {
   "cell_type": "code",
   "execution_count": null,
   "metadata": {},
   "outputs": [],
   "source": []
  },
  {
   "cell_type": "markdown",
   "metadata": {},
   "source": [
    "# 5) Data Visualization\n",
    "1. From the below dataset, calculate the sum of sale values against each department\n",
    "1. (after sum of \"sale\")plot variable department on x-axis, sale on y-axis\n",
    "2. Give the names to the x-axis and y-axis, also add title to the plot by creating a self define function of name add_title()\n",
    "\n",
    "\n",
    "df = pd.DataFrame({'sale':[ 95228,  26413,  19699,  77988, 141460, 114889, 134434,  42803, 69876,  37574,  43581,  72795],\n",
    "                   'business':['A','B','B','C','A','B','A','A','C','C','B','A'],\n",
    "                  'department':['ABC','BCD','XYZ','ABC','ABC','XYZ','BCD','PQR','PQR','ABC','BCD','XYZ']})"
   ]
  },
  {
   "cell_type": "code",
   "execution_count": null,
   "metadata": {},
   "outputs": [],
   "source": []
  },
  {
   "cell_type": "code",
   "execution_count": null,
   "metadata": {},
   "outputs": [],
   "source": []
  },
  {
   "cell_type": "code",
   "execution_count": null,
   "metadata": {},
   "outputs": [],
   "source": []
  },
  {
   "cell_type": "markdown",
   "metadata": {},
   "source": [
    "# 6) Develop code for the following logic\n",
    "1. Using below datset get the minimum, maximum and mean sales of each business.\n",
    "2. Also get the minimum and maximum date for each business.\n",
    "3. Merge above summarized information with orignal dataset. (df columns will be date, sale, business, MinimumSale, MaximumSale,MinimumDate,MaximumDate)\n",
    "3. Sort the dataset using date for each business in descending order.\n",
    "\n",
    "\n",
    "df = pd.DataFrame({'date':['2021-04-01','2021-04-02','2021-04-03','2021-04-04','2021-04-05','2021-04-06',\n",
    "                           '2021-04-07','2021-04-08','2021-04-09','2021-04-10','2021-04-11','2021-04-12'],\n",
    "                   'sale':random.randint(10000,180000,12),\n",
    "                   'business':['A','B','B','C','A','B','A','A','C','C','B','A']})"
   ]
  },
  {
   "cell_type": "code",
   "execution_count": null,
   "metadata": {},
   "outputs": [],
   "source": []
  },
  {
   "cell_type": "code",
   "execution_count": null,
   "metadata": {},
   "outputs": [],
   "source": []
  },
  {
   "cell_type": "code",
   "execution_count": null,
   "metadata": {},
   "outputs": [],
   "source": []
  },
  {
   "cell_type": "markdown",
   "metadata": {},
   "source": [
    "# 7) Develop code for the following logic 03\n",
    "1. Using below dataset do the binning of month column. Make 4 binns 1-3,4-6,7-9,10-12 and name it as Quarter1, Quarter2, Quarter3 & Quarter4\n",
    "2. Name this new column as a Quarter\n",
    "\n",
    "df = pd.DataFrame({'month':random.randint(1,12,12),\n",
    "                   'sale':random.randint(10000,180000,12),\n",
    "                   'business':['A','B','B','C','A','B','A','A','C','C','B','A']})"
   ]
  },
  {
   "cell_type": "code",
   "execution_count": null,
   "metadata": {},
   "outputs": [],
   "source": []
  },
  {
   "cell_type": "code",
   "execution_count": null,
   "metadata": {},
   "outputs": [],
   "source": []
  },
  {
   "cell_type": "code",
   "execution_count": null,
   "metadata": {},
   "outputs": [],
   "source": []
  },
  {
   "cell_type": "markdown",
   "metadata": {},
   "source": [
    "# 8) join/merge the below dataframes on bussiness and local_business\n",
    "\n",
    "df1 LEFT JOIN df2 \n",
    "\n",
    "df1 = pd.DataFrame({'sale':[ 95228,  26413,  19699,  77988, 141460, 114889, 134434,  42803, 69876,  37574,  43581,  72795],\n",
    "                   'business':['A','B','B','C','A','B','A','A','C','C','B','A'],\n",
    "                  'department':['ABC','BCD','XYZ','ABC','ABC','XYZ','BCD','PQR','PQR','ABC','BCD','XYZ']})\n",
    "                  \n",
    "df2 = pd.DataFrame({'local_business':['A','B','C'],\n",
    "                  'tax':['18%','25%','30%']})"
   ]
  },
  {
   "cell_type": "code",
   "execution_count": null,
   "metadata": {},
   "outputs": [],
   "source": []
  },
  {
   "cell_type": "code",
   "execution_count": null,
   "metadata": {},
   "outputs": [],
   "source": []
  },
  {
   "cell_type": "code",
   "execution_count": null,
   "metadata": {},
   "outputs": [],
   "source": []
  },
  {
   "cell_type": "markdown",
   "metadata": {},
   "source": [
    "# 9) From below dataset select the countries whose region contain word 'Asia'\n",
    "\n",
    "\n",
    "df = pd.DataFrame({'country':['Afghanistan','Albania','Algeria','American Samoa','Andorra','Angola','Anguilla','Antarctica','Antigua and Barbuda','Argentina','Armenia','Aruba','Australia','Austria','Azerbaijan','Bahamas','Bahrain','Bangladesh','Barbados','Belarus','Belgium','Belize','Benin','Bermuda','Bhutan','Bolivia','Bosnia and Herzegovina','Botswana','Brazil','Brunei Darussalam','Bulgaria','Burkina Faso','Burundi','Cambodia','Cameroon','Canada','Cape Verde','Cayman Islands','Central African Republic','Chad','Chile','China','Christmas Island','Cocos (Keeling) Islands','Colombia','Comoros','Democratic Republic of the Congo (Kinshasa)','Congo Republic of (Brazzaville)','Cook Islands','Costa Rica','Côte Divoire (Ivory Coast)','Croatia','Cuba','Cyprus','Czech Republic','Denmark','Djibouti','Dominica','Dominican Republic'],\n",
    "                   'Region':['South-Central Asia','Balkan Peninsula','Northern Africa','Polynesia Oceania','Southern Europe','Central Africa','Leeward Islands Caribbean','Antarctica','Leeward Islands Caribbean','Southern South America','Western Asia','Leeward Islands Caribbean','Australia/Oceania','Western Europe','Caucasus Western Asia','Caribbean','Arabian Peninsula Middle East','South-Central Asia','Lesser Antilles Caribbean','Eastern Europe','Western Europe','Central America','West Africa','North America','South-Central Asia','Central South America','Southern Europe','Southern Africa','Central Eastern South America','Southeast Asia','Balkan Eastern Europe','West Africa','Eastern Africa African Great Lakes','South-East Asia','Central Africa','North North America','West Africa','Greater Antilles Caribbean','Central Africa','Central Africa','Western South America','Eastern Asia','Southeast Asia','South-East Asia Australia','North West South America','Eastern Africa','Central Africa','Central Africa','Polynesia Oceania','Central America','West Africa','Balkan Peninsula Southern Europe','Greater Antilles Caribbean','Mediterranean Western Asia','Eastern Europe','Northern Europe','Eastern Africa','Lesser Antilles Caribbean','Greater Antilles Caribbean']})\n",
    "\n",
    "\n",
    "`Note: This is generated data so country name & region name should be mismatch`"
   ]
  },
  {
   "cell_type": "code",
   "execution_count": null,
   "metadata": {},
   "outputs": [],
   "source": []
  },
  {
   "cell_type": "code",
   "execution_count": null,
   "metadata": {},
   "outputs": [],
   "source": []
  },
  {
   "cell_type": "code",
   "execution_count": null,
   "metadata": {},
   "outputs": [],
   "source": []
  },
  {
   "cell_type": "markdown",
   "metadata": {},
   "source": [
    "# 10) create new column and add 15 in age for each record where age>=20 using lambda function\n",
    "data = [['xyz', 10], ['abc', 15], ['pzq', 14], ['mnu', 20], ['xyz', 21]]\n",
    "df = pd.DataFrame(data, columns = ['Name', 'Age'])"
   ]
  },
  {
   "cell_type": "code",
   "execution_count": null,
   "metadata": {},
   "outputs": [],
   "source": []
  },
  {
   "cell_type": "code",
   "execution_count": null,
   "metadata": {},
   "outputs": [],
   "source": []
  },
  {
   "cell_type": "code",
   "execution_count": null,
   "metadata": {},
   "outputs": [],
   "source": []
  }
 ],
 "metadata": {
  "kernelspec": {
   "display_name": "Python 3",
   "language": "python",
   "name": "python3"
  },
  "language_info": {
   "codemirror_mode": {
    "name": "ipython",
    "version": 3
   },
   "file_extension": ".py",
   "mimetype": "text/x-python",
   "name": "python",
   "nbconvert_exporter": "python",
   "pygments_lexer": "ipython3",
   "version": "3.8.5"
  }
 },
 "nbformat": 4,
 "nbformat_minor": 2
}
