{
 "cells": [
  {
   "cell_type": "markdown",
   "metadata": {
    "application/vnd.databricks.v1+cell": {
     "inputWidgets": {},
     "nuid": "b1d8f207-4708-42da-96fe-8b0c7e825987",
     "showTitle": false,
     "title": ""
    }
   },
   "source": [
    "##Spark DataFrames"
   ]
  },
  {
   "cell_type": "markdown",
   "metadata": {
    "application/vnd.databricks.v1+cell": {
     "inputWidgets": {},
     "nuid": "5087617a-f10b-48d1-ae47-79cb68fd42b6",
     "showTitle": false,
     "title": ""
    }
   },
   "source": [
    "###Imports\n",
    "\n",
    "For these examples, we just need to import two **pyspark.sql** libraries:\n",
    "- `types`\n",
    "- `functions`\n",
    "\n",
    "We need `pyspark.sql.types` to define schemas for the DataFrames. The `pyspark.sql.functions` library contains all of the functions specific to SQL and DataFrames in **PySpark**."
   ]
  },
  {
   "cell_type": "code",
   "execution_count": 0,
   "metadata": {
    "application/vnd.databricks.v1+cell": {
     "inputWidgets": {},
     "nuid": "1c054f19-7e20-42bb-a308-fb01d02e6bb8",
     "showTitle": false,
     "title": ""
    }
   },
   "outputs": [
    {
     "data": {
      "text/html": [
       "<style scoped>\n",
       "  .ansiout {\n",
       "    display: block;\n",
       "    unicode-bidi: embed;\n",
       "    white-space: pre-wrap;\n",
       "    word-wrap: break-word;\n",
       "    word-break: break-all;\n",
       "    font-family: \"Source Code Pro\", \"Menlo\", monospace;;\n",
       "    font-size: 13px;\n",
       "    color: #555;\n",
       "    margin-left: 4px;\n",
       "    line-height: 19px;\n",
       "  }\n",
       "</style>\n",
       "<div class=\"ansiout\"></div>"
      ]
     },
     "metadata": {
      "application/vnd.databricks.v1+output": {
       "addedWidgets": {},
       "arguments": {},
       "data": "<div class=\"ansiout\"></div>",
       "datasetInfos": [],
       "removedWidgets": [],
       "type": "html"
      }
     },
     "output_type": "display_data"
    }
   ],
   "source": [
    "from pyspark.sql.types import *  # Necessary for creating schemas\n",
    "from pyspark.sql.functions import * # Importing PySpark functions"
   ]
  },
  {
   "cell_type": "markdown",
   "metadata": {
    "application/vnd.databricks.v1+cell": {
     "inputWidgets": {},
     "nuid": "b5243603-d59e-4009-a6bc-3ff2362609cf",
     "showTitle": false,
     "title": ""
    }
   },
   "source": [
    "###Creating DataFrames"
   ]
  },
  {
   "cell_type": "markdown",
   "metadata": {
    "application/vnd.databricks.v1+cell": {
     "inputWidgets": {},
     "nuid": "b241a967-30ed-4b48-9bba-0e15e70d1d34",
     "showTitle": false,
     "title": ""
    }
   },
   "source": [
    "#### Making a Simple DataFrame from a Tuple List"
   ]
  },
  {
   "cell_type": "code",
   "execution_count": 0,
   "metadata": {
    "application/vnd.databricks.v1+cell": {
     "inputWidgets": {},
     "nuid": "56320db3-c70c-4ea1-9d6b-3d668d567dba",
     "showTitle": false,
     "title": ""
    }
   },
   "outputs": [
    {
     "data": {
      "text/html": [
       "<style scoped>\n",
       "  .ansiout {\n",
       "    display: block;\n",
       "    unicode-bidi: embed;\n",
       "    white-space: pre-wrap;\n",
       "    word-wrap: break-word;\n",
       "    word-break: break-all;\n",
       "    font-family: \"Source Code Pro\", \"Menlo\", monospace;;\n",
       "    font-size: 13px;\n",
       "    color: #555;\n",
       "    margin-left: 4px;\n",
       "    line-height: 19px;\n",
       "  }\n",
       "</style>\n",
       "<div class=\"ansiout\">DataFrame[_1: string, _2: bigint]\n",
       "[Row(_1=&#39;a&#39;, _2=1), Row(_1=&#39;b&#39;, _2=2), Row(_1=&#39;c&#39;, _2=3)]\n",
       "+---+---+\n",
       " _1| _2|\n",
       "+---+---+\n",
       "  a|  1|\n",
       "  b|  2|\n",
       "  c|  3|\n",
       "+---+---+\n",
       "\n",
       "</div>"
      ]
     },
     "metadata": {
      "application/vnd.databricks.v1+output": {
       "addedWidgets": {},
       "arguments": {},
       "data": "<div class=\"ansiout\">DataFrame[_1: string, _2: bigint]\n[Row(_1=&#39;a&#39;, _2=1), Row(_1=&#39;b&#39;, _2=2), Row(_1=&#39;c&#39;, _2=3)]\n+---+---+\n| _1| _2|\n+---+---+\n|  a|  1|\n|  b|  2|\n|  c|  3|\n+---+---+\n\n</div>",
       "datasetInfos": [
        {
         "name": "df_from_list_no_schema",
         "schema": {
          "fields": [
           {
            "metadata": {},
            "name": "_1",
            "nullable": true,
            "type": "string"
           },
           {
            "metadata": {},
            "name": "_2",
            "nullable": true,
            "type": "long"
           }
          ],
          "type": "struct"
         },
         "tableIdentifier": null,
         "typeStr": "pyspark.sql.dataframe.DataFrame"
        }
       ],
       "removedWidgets": [],
       "type": "html"
      }
     },
     "output_type": "display_data"
    }
   ],
   "source": [
    "# Make a tuple list\n",
    "a_list = [('a', 1), ('b', 2), ('c', 3)]\n",
    "\n",
    "# Create a Spark DataFrame, without supplying a schema value\n",
    "df_from_list_no_schema = \\\n",
    "sqlContext.createDataFrame(a_list)\n",
    "\n",
    "# Print the DF object\n",
    "print(df_from_list_no_schema)\n",
    "\n",
    "# Print a collected list of Row objects\n",
    "print(df_from_list_no_schema.collect())\n",
    "\n",
    "# Show the DataFrame\n",
    "df_from_list_no_schema.show()"
   ]
  },
  {
   "cell_type": "markdown",
   "metadata": {
    "application/vnd.databricks.v1+cell": {
     "inputWidgets": {},
     "nuid": "1287d246-2e26-4948-993a-3cd16029795d",
     "showTitle": false,
     "title": ""
    }
   },
   "source": [
    "#### Making a Simple DataFrame from a Tuple List and a Schema"
   ]
  },
  {
   "cell_type": "code",
   "execution_count": 0,
   "metadata": {
    "application/vnd.databricks.v1+cell": {
     "inputWidgets": {},
     "nuid": "00624da6-b2fe-4169-8af6-226d4e6e9227",
     "showTitle": false,
     "title": ""
    }
   },
   "outputs": [
    {
     "data": {
      "text/html": [
       "<style scoped>\n",
       "  .ansiout {\n",
       "    display: block;\n",
       "    unicode-bidi: embed;\n",
       "    white-space: pre-wrap;\n",
       "    word-wrap: break-word;\n",
       "    word-break: break-all;\n",
       "    font-family: \"Source Code Pro\", \"Menlo\", monospace;;\n",
       "    font-size: 13px;\n",
       "    color: #555;\n",
       "    margin-left: 4px;\n",
       "    line-height: 19px;\n",
       "  }\n",
       "</style>\n",
       "<div class=\"ansiout\">+-------+-------+\n",
       "letters|numbers|\n",
       "+-------+-------+\n",
       "      a|      1|\n",
       "      b|      2|\n",
       "      c|      3|\n",
       "+-------+-------+\n",
       "\n",
       "root\n",
       "-- letters: string (nullable = true)\n",
       "-- numbers: long (nullable = true)\n",
       "\n",
       "</div>"
      ]
     },
     "metadata": {
      "application/vnd.databricks.v1+output": {
       "addedWidgets": {},
       "arguments": {},
       "data": "<div class=\"ansiout\">+-------+-------+\n|letters|numbers|\n+-------+-------+\n|      a|      1|\n|      b|      2|\n|      c|      3|\n+-------+-------+\n\nroot\n |-- letters: string (nullable = true)\n |-- numbers: long (nullable = true)\n\n</div>",
       "datasetInfos": [
        {
         "name": "df_from_list_with_schema",
         "schema": {
          "fields": [
           {
            "metadata": {},
            "name": "letters",
            "nullable": true,
            "type": "string"
           },
           {
            "metadata": {},
            "name": "numbers",
            "nullable": true,
            "type": "long"
           }
          ],
          "type": "struct"
         },
         "tableIdentifier": null,
         "typeStr": "pyspark.sql.dataframe.DataFrame"
        }
       ],
       "removedWidgets": [],
       "type": "html"
      }
     },
     "output_type": "display_data"
    }
   ],
   "source": [
    "# Create a Spark DataFrame, this time with schema\n",
    "df_from_list_with_schema = \\\n",
    "sqlContext.createDataFrame(a_list, ['letters', 'numbers']) # this simple schema contains just column names\n",
    "\n",
    "# Show the DataFrame\n",
    "df_from_list_with_schema.show()\n",
    "\n",
    "# Show the DataFrame's schema\n",
    "df_from_list_with_schema.printSchema()"
   ]
  },
  {
   "cell_type": "markdown",
   "metadata": {
    "application/vnd.databricks.v1+cell": {
     "inputWidgets": {},
     "nuid": "dee18ed6-480c-4679-beaf-67a7f0bcb881",
     "showTitle": false,
     "title": ""
    }
   },
   "source": [
    "#### Making a Simple DataFrame from a Dictionary"
   ]
  },
  {
   "cell_type": "code",
   "execution_count": 0,
   "metadata": {
    "application/vnd.databricks.v1+cell": {
     "inputWidgets": {},
     "nuid": "dd7a9d4f-ae5a-4f14-b4dd-0b8e7be18317",
     "showTitle": false,
     "title": ""
    }
   },
   "outputs": [
    {
     "data": {
      "text/html": [
       "<style scoped>\n",
       "  .ansiout {\n",
       "    display: block;\n",
       "    unicode-bidi: embed;\n",
       "    white-space: pre-wrap;\n",
       "    word-wrap: break-word;\n",
       "    word-break: break-all;\n",
       "    font-family: \"Source Code Pro\", \"Menlo\", monospace;;\n",
       "    font-size: 13px;\n",
       "    color: #555;\n",
       "    margin-left: 4px;\n",
       "    line-height: 19px;\n",
       "  }\n",
       "</style>\n",
       "<div class=\"ansiout\">/databricks/spark/python/pyspark/sql/session.py:355: UserWarning: inferring schema from dict is deprecated,please use pyspark.sql.Row instead\n",
       "  warnings.warn(&#34;inferring schema from dict is deprecated,&#34;\n",
       "+-------+-------+\n",
       "letters|numbers|\n",
       "+-------+-------+\n",
       "      a|      1|\n",
       "      b|      2|\n",
       "      c|      3|\n",
       "+-------+-------+\n",
       "\n",
       "</div>"
      ]
     },
     "metadata": {
      "application/vnd.databricks.v1+output": {
       "addedWidgets": {},
       "arguments": {},
       "data": "<div class=\"ansiout\">/databricks/spark/python/pyspark/sql/session.py:355: UserWarning: inferring schema from dict is deprecated,please use pyspark.sql.Row instead\n  warnings.warn(&#34;inferring schema from dict is deprecated,&#34;\n+-------+-------+\n|letters|numbers|\n+-------+-------+\n|      a|      1|\n|      b|      2|\n|      c|      3|\n+-------+-------+\n\n</div>",
       "datasetInfos": [
        {
         "name": "df_from_dict",
         "schema": {
          "fields": [
           {
            "metadata": {},
            "name": "letters",
            "nullable": true,
            "type": "string"
           },
           {
            "metadata": {},
            "name": "numbers",
            "nullable": true,
            "type": "long"
           }
          ],
          "type": "struct"
         },
         "tableIdentifier": null,
         "typeStr": "pyspark.sql.dataframe.DataFrame"
        }
       ],
       "removedWidgets": [],
       "type": "html"
      }
     },
     "output_type": "display_data"
    }
   ],
   "source": [
    "# Make a dictionary\n",
    "a_dict = [{'letters': 'a', 'numbers': 1},\n",
    "          {'letters': 'b', 'numbers': 2},\n",
    "          {'letters': 'c', 'numbers': 3}]\n",
    "\n",
    "# Create a Spark DataFrame from the dictionary\n",
    "df_from_dict = \\\n",
    "(sqlContext\n",
    " .createDataFrame(a_dict)) # You will get a warning about this\n",
    "\n",
    "# Show the DataFrame\n",
    "df_from_dict.show()"
   ]
  },
  {
   "cell_type": "markdown",
   "metadata": {
    "application/vnd.databricks.v1+cell": {
     "inputWidgets": {},
     "nuid": "6516cea8-eafa-4879-bf8a-e4873a20020b",
     "showTitle": false,
     "title": ""
    }
   },
   "source": [
    "#### Making a Simple DataFrame Using a StructType Schema + RDD"
   ]
  },
  {
   "cell_type": "code",
   "execution_count": 0,
   "metadata": {
    "application/vnd.databricks.v1+cell": {
     "inputWidgets": {},
     "nuid": "d95e4569-6bea-47d7-ad8a-2bee42de7fd7",
     "showTitle": false,
     "title": ""
    }
   },
   "outputs": [
    {
     "data": {
      "text/html": [
       "<style scoped>\n",
       "  .ansiout {\n",
       "    display: block;\n",
       "    unicode-bidi: embed;\n",
       "    white-space: pre-wrap;\n",
       "    word-wrap: break-word;\n",
       "    word-break: break-all;\n",
       "    font-family: \"Source Code Pro\", \"Menlo\", monospace;;\n",
       "    font-size: 13px;\n",
       "    color: #555;\n",
       "    margin-left: 4px;\n",
       "    line-height: 19px;\n",
       "  }\n",
       "</style>\n",
       "<div class=\"ansiout\">+-------+-------+\n",
       "letters|numbers|\n",
       "+-------+-------+\n",
       "      a|      1|\n",
       "      b|      2|\n",
       "      c|      3|\n",
       "+-------+-------+\n",
       "\n",
       "</div>"
      ]
     },
     "metadata": {
      "application/vnd.databricks.v1+output": {
       "addedWidgets": {},
       "arguments": {},
       "data": "<div class=\"ansiout\">+-------+-------+\n|letters|numbers|\n+-------+-------+\n|      a|      1|\n|      b|      2|\n|      c|      3|\n+-------+-------+\n\n</div>",
       "datasetInfos": [
        {
         "name": "nice_df",
         "schema": {
          "fields": [
           {
            "metadata": {},
            "name": "letters",
            "nullable": true,
            "type": "string"
           },
           {
            "metadata": {},
            "name": "numbers",
            "nullable": true,
            "type": "integer"
           }
          ],
          "type": "struct"
         },
         "tableIdentifier": null,
         "typeStr": "pyspark.sql.dataframe.DataFrame"
        }
       ],
       "removedWidgets": [],
       "type": "html"
      }
     },
     "output_type": "display_data"
    }
   ],
   "source": [
    "# Define the schema\n",
    "schema = StructType([\n",
    "    StructField('letters', StringType(), True),\n",
    "    StructField('numbers', IntegerType(), True)])\n",
    "\n",
    "# Create an RDD from a list\n",
    "rdd = sc.parallelize(a_list)\n",
    "\n",
    "# Create the DataFrame from these raw components\n",
    "nice_df = \\\n",
    "(sqlContext\n",
    " .createDataFrame(rdd, schema))\n",
    "\n",
    "# Show the DataFrame\n",
    "nice_df.show()"
   ]
  },
  {
   "cell_type": "code",
   "execution_count": 0,
   "metadata": {
    "application/vnd.databricks.v1+cell": {
     "inputWidgets": {},
     "nuid": "d04bed4c-e239-48f1-a326-f327178cffde",
     "showTitle": false,
     "title": ""
    }
   },
   "outputs": [
    {
     "data": {
      "text/html": [
       "<style scoped>\n",
       "  .ansiout {\n",
       "    display: block;\n",
       "    unicode-bidi: embed;\n",
       "    white-space: pre-wrap;\n",
       "    word-wrap: break-word;\n",
       "    word-break: break-all;\n",
       "    font-family: \"Source Code Pro\", \"Menlo\", monospace;;\n",
       "    font-size: 13px;\n",
       "    color: #555;\n",
       "    margin-left: 4px;\n",
       "    line-height: 19px;\n",
       "  }\n",
       "</style>\n",
       "<div class=\"ansiout\">+-------+-------+\n",
       "letters|numbers|\n",
       "+-------+-------+\n",
       "      a|      1|\n",
       "      b|      2|\n",
       "      c|      3|\n",
       "+-------+-------+\n",
       "\n",
       "</div>"
      ]
     },
     "metadata": {
      "application/vnd.databricks.v1+output": {
       "addedWidgets": {},
       "arguments": {},
       "data": "<div class=\"ansiout\">+-------+-------+\n|letters|numbers|\n+-------+-------+\n|      a|      1|\n|      b|      2|\n|      c|      3|\n+-------+-------+\n\n</div>",
       "datasetInfos": [
        {
         "name": "nice_df",
         "schema": {
          "fields": [
           {
            "metadata": {},
            "name": "letters",
            "nullable": true,
            "type": "string"
           },
           {
            "metadata": {},
            "name": "numbers",
            "nullable": true,
            "type": "integer"
           }
          ],
          "type": "struct"
         },
         "tableIdentifier": null,
         "typeStr": "pyspark.sql.dataframe.DataFrame"
        }
       ],
       "removedWidgets": [],
       "type": "html"
      }
     },
     "output_type": "display_data"
    }
   ],
   "source": [
    "# Define the schema\n",
    "schema = StructType([\n",
    "    StructField('letters', StringType(), True),\n",
    "    StructField('numbers', IntegerType(), True)])\n",
    "\n",
    "# Create an RDD from a list\n",
    "rdd = sc.parallelize(a_list)\n",
    "\n",
    "# Create the DataFrame from these raw components\n",
    "nice_df = \\\n",
    "(sqlContext\n",
    " .createDataFrame(rdd, schema))\n",
    "\n",
    "# Show the DataFrame\n",
    "nice_df.show()"
   ]
  },
  {
   "cell_type": "markdown",
   "metadata": {
    "application/vnd.databricks.v1+cell": {
     "inputWidgets": {},
     "nuid": "569a3d89-cbd7-4f86-9308-b8451e43e737",
     "showTitle": false,
     "title": ""
    }
   },
   "source": [
    "###Simple Inspection Functions\n",
    "\n",
    "We now have a `nice_df`, here are some nice functions for inspecting the DataFrame."
   ]
  },
  {
   "cell_type": "code",
   "execution_count": 0,
   "metadata": {
    "application/vnd.databricks.v1+cell": {
     "inputWidgets": {},
     "nuid": "b4f0c172-5b2c-480a-8266-ee820c078285",
     "showTitle": false,
     "title": ""
    }
   },
   "outputs": [
    {
     "data": {
      "text/html": [
       "<style scoped>\n",
       "  .ansiout {\n",
       "    display: block;\n",
       "    unicode-bidi: embed;\n",
       "    white-space: pre-wrap;\n",
       "    word-wrap: break-word;\n",
       "    word-break: break-all;\n",
       "    font-family: \"Source Code Pro\", \"Menlo\", monospace;;\n",
       "    font-size: 13px;\n",
       "    color: #555;\n",
       "    margin-left: 4px;\n",
       "    line-height: 19px;\n",
       "  }\n",
       "</style>\n",
       "<div class=\"ansiout\">Out[8]: [&#39;letters&#39;, &#39;numbers&#39;]</div>"
      ]
     },
     "metadata": {
      "application/vnd.databricks.v1+output": {
       "addedWidgets": {},
       "arguments": {},
       "data": "<div class=\"ansiout\">Out[8]: [&#39;letters&#39;, &#39;numbers&#39;]</div>",
       "datasetInfos": [],
       "removedWidgets": [],
       "type": "html"
      }
     },
     "output_type": "display_data"
    }
   ],
   "source": [
    "# `columns`: return all column names as a list\n",
    "nice_df.columns"
   ]
  },
  {
   "cell_type": "code",
   "execution_count": 0,
   "metadata": {
    "application/vnd.databricks.v1+cell": {
     "inputWidgets": {},
     "nuid": "c00c5a1e-1588-4f50-bfb0-37151fc5c274",
     "showTitle": false,
     "title": ""
    }
   },
   "outputs": [
    {
     "data": {
      "text/html": [
       "<style scoped>\n",
       "  .ansiout {\n",
       "    display: block;\n",
       "    unicode-bidi: embed;\n",
       "    white-space: pre-wrap;\n",
       "    word-wrap: break-word;\n",
       "    word-break: break-all;\n",
       "    font-family: \"Source Code Pro\", \"Menlo\", monospace;;\n",
       "    font-size: 13px;\n",
       "    color: #555;\n",
       "    margin-left: 4px;\n",
       "    line-height: 19px;\n",
       "  }\n",
       "</style>\n",
       "<div class=\"ansiout\">Out[9]: [(&#39;letters&#39;, &#39;string&#39;), (&#39;numbers&#39;, &#39;int&#39;)]</div>"
      ]
     },
     "metadata": {
      "application/vnd.databricks.v1+output": {
       "addedWidgets": {},
       "arguments": {},
       "data": "<div class=\"ansiout\">Out[9]: [(&#39;letters&#39;, &#39;string&#39;), (&#39;numbers&#39;, &#39;int&#39;)]</div>",
       "datasetInfos": [],
       "removedWidgets": [],
       "type": "html"
      }
     },
     "output_type": "display_data"
    }
   ],
   "source": [
    "# `dtypes`: get the datatypes for all columns\n",
    "nice_df.dtypes"
   ]
  },
  {
   "cell_type": "code",
   "execution_count": 0,
   "metadata": {
    "application/vnd.databricks.v1+cell": {
     "inputWidgets": {},
     "nuid": "8f653283-e8c7-457e-a973-860440b1f478",
     "showTitle": false,
     "title": ""
    }
   },
   "outputs": [
    {
     "data": {
      "text/html": [
       "<style scoped>\n",
       "  .ansiout {\n",
       "    display: block;\n",
       "    unicode-bidi: embed;\n",
       "    white-space: pre-wrap;\n",
       "    word-wrap: break-word;\n",
       "    word-break: break-all;\n",
       "    font-family: \"Source Code Pro\", \"Menlo\", monospace;;\n",
       "    font-size: 13px;\n",
       "    color: #555;\n",
       "    margin-left: 4px;\n",
       "    line-height: 19px;\n",
       "  }\n",
       "</style>\n",
       "<div class=\"ansiout\">root\n",
       "-- letters: string (nullable = true)\n",
       "-- numbers: integer (nullable = true)\n",
       "\n",
       "</div>"
      ]
     },
     "metadata": {
      "application/vnd.databricks.v1+output": {
       "addedWidgets": {},
       "arguments": {},
       "data": "<div class=\"ansiout\">root\n |-- letters: string (nullable = true)\n |-- numbers: integer (nullable = true)\n\n</div>",
       "datasetInfos": [],
       "removedWidgets": [],
       "type": "html"
      }
     },
     "output_type": "display_data"
    }
   ],
   "source": [
    "# `printSchema()`: prints the schema of the supplied DF\n",
    "nice_df.printSchema()"
   ]
  },
  {
   "cell_type": "code",
   "execution_count": 0,
   "metadata": {
    "application/vnd.databricks.v1+cell": {
     "inputWidgets": {},
     "nuid": "012ae381-6275-4b2b-9c0c-3af4a72f68dc",
     "showTitle": false,
     "title": ""
    }
   },
   "outputs": [
    {
     "data": {
      "text/html": [
       "<style scoped>\n",
       "  .ansiout {\n",
       "    display: block;\n",
       "    unicode-bidi: embed;\n",
       "    white-space: pre-wrap;\n",
       "    word-wrap: break-word;\n",
       "    word-break: break-all;\n",
       "    font-family: \"Source Code Pro\", \"Menlo\", monospace;;\n",
       "    font-size: 13px;\n",
       "    color: #555;\n",
       "    margin-left: 4px;\n",
       "    line-height: 19px;\n",
       "  }\n",
       "</style>\n",
       "<div class=\"ansiout\">Out[11]: StructType(List(StructField(letters,StringType,true),StructField(numbers,IntegerType,true)))</div>"
      ]
     },
     "metadata": {
      "application/vnd.databricks.v1+output": {
       "addedWidgets": {},
       "arguments": {},
       "data": "<div class=\"ansiout\">Out[11]: StructType(List(StructField(letters,StringType,true),StructField(numbers,IntegerType,true)))</div>",
       "datasetInfos": [],
       "removedWidgets": [],
       "type": "html"
      }
     },
     "output_type": "display_data"
    }
   ],
   "source": [
    "# `schema`: returns the schema of the provided DF as `StructType` schema\n",
    "nice_df.schema"
   ]
  },
  {
   "cell_type": "code",
   "execution_count": 0,
   "metadata": {
    "application/vnd.databricks.v1+cell": {
     "inputWidgets": {},
     "nuid": "0075ddab-ef6c-4a11-bcc9-92e457da941d",
     "showTitle": false,
     "title": ""
    }
   },
   "outputs": [
    {
     "data": {
      "text/html": [
       "<style scoped>\n",
       "  .ansiout {\n",
       "    display: block;\n",
       "    unicode-bidi: embed;\n",
       "    white-space: pre-wrap;\n",
       "    word-wrap: break-word;\n",
       "    word-break: break-all;\n",
       "    font-family: \"Source Code Pro\", \"Menlo\", monospace;;\n",
       "    font-size: 13px;\n",
       "    color: #555;\n",
       "    margin-left: 4px;\n",
       "    line-height: 19px;\n",
       "  }\n",
       "</style>\n",
       "<div class=\"ansiout\">Row(letters=&#39;a&#39;, numbers=1)\n",
       "[Row(letters=&#39;a&#39;, numbers=1), Row(letters=&#39;b&#39;, numbers=2)]\n",
       "[Row(letters=&#39;a&#39;, numbers=1), Row(letters=&#39;b&#39;, numbers=2)]\n",
       "</div>"
      ]
     },
     "metadata": {
      "application/vnd.databricks.v1+output": {
       "addedWidgets": {},
       "arguments": {},
       "data": "<div class=\"ansiout\">Row(letters=&#39;a&#39;, numbers=1)\n[Row(letters=&#39;a&#39;, numbers=1), Row(letters=&#39;b&#39;, numbers=2)]\n[Row(letters=&#39;a&#39;, numbers=1), Row(letters=&#39;b&#39;, numbers=2)]\n</div>",
       "datasetInfos": [],
       "removedWidgets": [],
       "type": "html"
      }
     },
     "output_type": "display_data"
    }
   ],
   "source": [
    "# `first()` returns the first row as a Row while\n",
    "# `head()` and `take()` return `n` number of Row objects\n",
    "print(nice_df.first()) # can't supply a value; never a list\n",
    "print(nice_df.head(2)) # can optionally supply a value (default: 1);\n",
    "                      # with n > 1, a list\n",
    "print(nice_df.take(2)) # expects a value; always a list"
   ]
  },
  {
   "cell_type": "code",
   "execution_count": 0,
   "metadata": {
    "application/vnd.databricks.v1+cell": {
     "inputWidgets": {},
     "nuid": "23c117d7-769c-4da8-bae6-d8f1876999d6",
     "showTitle": false,
     "title": ""
    }
   },
   "outputs": [
    {
     "data": {
      "text/html": [
       "<style scoped>\n",
       "  .ansiout {\n",
       "    display: block;\n",
       "    unicode-bidi: embed;\n",
       "    white-space: pre-wrap;\n",
       "    word-wrap: break-word;\n",
       "    word-break: break-all;\n",
       "    font-family: \"Source Code Pro\", \"Menlo\", monospace;;\n",
       "    font-size: 13px;\n",
       "    color: #555;\n",
       "    margin-left: 4px;\n",
       "    line-height: 19px;\n",
       "  }\n",
       "</style>\n",
       "<div class=\"ansiout\">Out[14]: 3</div>"
      ]
     },
     "metadata": {
      "application/vnd.databricks.v1+output": {
       "addedWidgets": {},
       "arguments": {},
       "data": "<div class=\"ansiout\">Out[14]: 3</div>",
       "datasetInfos": [],
       "removedWidgets": [],
       "type": "html"
      }
     },
     "output_type": "display_data"
    }
   ],
   "source": [
    "# `count()`: returns a count of all rows in DF\n",
    "nice_df.count()"
   ]
  },
  {
   "cell_type": "code",
   "execution_count": 0,
   "metadata": {
    "application/vnd.databricks.v1+cell": {
     "inputWidgets": {},
     "nuid": "c88c1c34-6b1f-4659-b169-c53057419f50",
     "showTitle": false,
     "title": ""
    }
   },
   "outputs": [
    {
     "data": {
      "text/html": [
       "<style scoped>\n",
       "  .ansiout {\n",
       "    display: block;\n",
       "    unicode-bidi: embed;\n",
       "    white-space: pre-wrap;\n",
       "    word-wrap: break-word;\n",
       "    word-break: break-all;\n",
       "    font-family: \"Source Code Pro\", \"Menlo\", monospace;;\n",
       "    font-size: 13px;\n",
       "    color: #555;\n",
       "    margin-left: 4px;\n",
       "    line-height: 19px;\n",
       "  }\n",
       "</style>\n",
       "<div class=\"ansiout\">+-------+-------+-------+\n",
       "summary|letters|numbers|\n",
       "+-------+-------+-------+\n",
       "  count|      3|      3|\n",
       "   mean|   null|    2.0|\n",
       " stddev|   null|    1.0|\n",
       "    min|      a|      1|\n",
       "    max|      c|      3|\n",
       "+-------+-------+-------+\n",
       "\n",
       "</div>"
      ]
     },
     "metadata": {
      "application/vnd.databricks.v1+output": {
       "addedWidgets": {},
       "arguments": {},
       "data": "<div class=\"ansiout\">+-------+-------+-------+\n|summary|letters|numbers|\n+-------+-------+-------+\n|  count|      3|      3|\n|   mean|   null|    2.0|\n| stddev|   null|    1.0|\n|    min|      a|      1|\n|    max|      c|      3|\n+-------+-------+-------+\n\n</div>",
       "datasetInfos": [],
       "removedWidgets": [],
       "type": "html"
      }
     },
     "output_type": "display_data"
    }
   ],
   "source": [
    "# `describe()`: print out stats for numerical columns\n",
    "nice_df.describe().show() # can optionally supply a list of column names"
   ]
  },
  {
   "cell_type": "code",
   "execution_count": 0,
   "metadata": {
    "application/vnd.databricks.v1+cell": {
     "inputWidgets": {},
     "nuid": "9343e53f-1080-4b9f-afc9-f9c4f6454fc5",
     "showTitle": false,
     "title": ""
    }
   },
   "outputs": [
    {
     "data": {
      "text/html": [
       "<style scoped>\n",
       "  .ansiout {\n",
       "    display: block;\n",
       "    unicode-bidi: embed;\n",
       "    white-space: pre-wrap;\n",
       "    word-wrap: break-word;\n",
       "    word-break: break-all;\n",
       "    font-family: \"Source Code Pro\", \"Menlo\", monospace;;\n",
       "    font-size: 13px;\n",
       "    color: #555;\n",
       "    margin-left: 4px;\n",
       "    line-height: 19px;\n",
       "  }\n",
       "</style>\n",
       "<div class=\"ansiout\">== Physical Plan ==\n",
       "*(1) Scan ExistingRDD[letters#70,numbers#71]\n",
       "</div>"
      ]
     },
     "metadata": {
      "application/vnd.databricks.v1+output": {
       "addedWidgets": {},
       "arguments": {},
       "data": "<div class=\"ansiout\">== Physical Plan ==\n*(1) Scan ExistingRDD[letters#70,numbers#71]\n</div>",
       "datasetInfos": [],
       "removedWidgets": [],
       "type": "html"
      }
     },
     "output_type": "display_data"
    }
   ],
   "source": [
    "# the `explain()` function explains the under-the-hood evaluation process\n",
    "nice_df.explain()"
   ]
  },
  {
   "cell_type": "markdown",
   "metadata": {
    "application/vnd.databricks.v1+cell": {
     "inputWidgets": {},
     "nuid": "c5b9c4d0-c931-42ef-a0c6-06d7fa0be83f",
     "showTitle": false,
     "title": ""
    }
   },
   "source": [
    "###Relatively Simple DataFrame Manipulation Functions\n",
    "\n",
    "Let's use these functions:\n",
    "- `unionAll()`: combine two DataFrames together\n",
    "- `orderBy()`: perform sorting of DataFrame columns\n",
    "- `select()`: select which DataFrame columns to retain\n",
    "- `drop()`: select a single DataFrame column to remove\n",
    "- `filter()`: retain DataFrame rows that match a condition"
   ]
  },
  {
   "cell_type": "code",
   "execution_count": 0,
   "metadata": {
    "application/vnd.databricks.v1+cell": {
     "inputWidgets": {},
     "nuid": "36565d6d-a618-4dae-a16b-f4601fb33c90",
     "showTitle": false,
     "title": ""
    }
   },
   "outputs": [
    {
     "data": {
      "text/html": [
       "<style scoped>\n",
       "  .ansiout {\n",
       "    display: block;\n",
       "    unicode-bidi: embed;\n",
       "    white-space: pre-wrap;\n",
       "    word-wrap: break-word;\n",
       "    word-break: break-all;\n",
       "    font-family: \"Source Code Pro\", \"Menlo\", monospace;;\n",
       "    font-size: 13px;\n",
       "    color: #555;\n",
       "    margin-left: 4px;\n",
       "    line-height: 19px;\n",
       "  }\n",
       "</style>\n",
       "<div class=\"ansiout\">+-------+-------+\n",
       "letters|numbers|\n",
       "+-------+-------+\n",
       "      a|      1|\n",
       "      b|      2|\n",
       "      c|      3|\n",
       "      a|      1|\n",
       "      b|      2|\n",
       "      c|      3|\n",
       "+-------+-------+\n",
       "\n",
       "</div>"
      ]
     },
     "metadata": {
      "application/vnd.databricks.v1+output": {
       "addedWidgets": {},
       "arguments": {},
       "data": "<div class=\"ansiout\">+-------+-------+\n|letters|numbers|\n+-------+-------+\n|      a|      1|\n|      b|      2|\n|      c|      3|\n|      a|      1|\n|      b|      2|\n|      c|      3|\n+-------+-------+\n\n</div>",
       "datasetInfos": [],
       "removedWidgets": [],
       "type": "html"
      }
     },
     "output_type": "display_data"
    }
   ],
   "source": [
    "(nice_df\n",
    " .unionAll(nice_df)\n",
    " .show())"
   ]
  },
  {
   "cell_type": "code",
   "execution_count": 0,
   "metadata": {
    "application/vnd.databricks.v1+cell": {
     "inputWidgets": {},
     "nuid": "698711fe-eb64-4474-b8df-28bc211cb2b9",
     "showTitle": false,
     "title": ""
    }
   },
   "outputs": [
    {
     "data": {
      "text/html": [
       "<style scoped>\n",
       "  .ansiout {\n",
       "    display: block;\n",
       "    unicode-bidi: embed;\n",
       "    white-space: pre-wrap;\n",
       "    word-wrap: break-word;\n",
       "    word-break: break-all;\n",
       "    font-family: \"Source Code Pro\", \"Menlo\", monospace;;\n",
       "    font-size: 13px;\n",
       "    color: #555;\n",
       "    margin-left: 4px;\n",
       "    line-height: 19px;\n",
       "  }\n",
       "</style>\n",
       "<div class=\"ansiout\">+-------+-------+\n",
       "letters|numbers|\n",
       "+-------+-------+\n",
       "      a|      1|\n",
       "      b|      2|\n",
       "      c|      3|\n",
       "      a|      1|\n",
       "      b|      2|\n",
       "      c|      3|\n",
       "      a|      1|\n",
       "      b|      2|\n",
       "      c|      3|\n",
       "+-------+-------+\n",
       "\n",
       "</div>"
      ]
     },
     "metadata": {
      "application/vnd.databricks.v1+output": {
       "addedWidgets": {},
       "arguments": {},
       "data": "<div class=\"ansiout\">+-------+-------+\n|letters|numbers|\n+-------+-------+\n|      a|      1|\n|      b|      2|\n|      c|      3|\n|      a|      1|\n|      b|      2|\n|      c|      3|\n|      a|      1|\n|      b|      2|\n|      c|      3|\n+-------+-------+\n\n</div>",
       "datasetInfos": [],
       "removedWidgets": [],
       "type": "html"
      }
     },
     "output_type": "display_data"
    }
   ],
   "source": [
    "# Add it to itself twice\n",
    "(nice_df\n",
    " .unionAll(nice_df)\n",
    " .unionAll(nice_df)\n",
    " .show())\n",
    "\n"
   ]
  },
  {
   "cell_type": "code",
   "execution_count": 0,
   "metadata": {
    "application/vnd.databricks.v1+cell": {
     "inputWidgets": {},
     "nuid": "b126e437-3b0b-43bc-a234-47fc1ba53d9f",
     "showTitle": false,
     "title": ""
    }
   },
   "outputs": [
    {
     "data": {
      "text/html": [
       "<style scoped>\n",
       "  .ansiout {\n",
       "    display: block;\n",
       "    unicode-bidi: embed;\n",
       "    white-space: pre-wrap;\n",
       "    word-wrap: break-word;\n",
       "    word-break: break-all;\n",
       "    font-family: \"Source Code Pro\", \"Menlo\", monospace;;\n",
       "    font-size: 13px;\n",
       "    color: #555;\n",
       "    margin-left: 4px;\n",
       "    line-height: 19px;\n",
       "  }\n",
       "</style>\n",
       "<div class=\"ansiout\">+-------+-------+\n",
       "letters|numbers|\n",
       "+-------+-------+\n",
       "      a|      1|\n",
       "      a|      1|\n",
       "      a|      1|\n",
       "      b|      2|\n",
       "      b|      2|\n",
       "      b|      2|\n",
       "      c|      3|\n",
       "      c|      3|\n",
       "      c|      3|\n",
       "+-------+-------+\n",
       "\n",
       "+-------+-------+\n",
       "letters|numbers|\n",
       "+-------+-------+\n",
       "      c|      3|\n",
       "      c|      3|\n",
       "      c|      3|\n",
       "      b|      2|\n",
       "      b|      2|\n",
       "      b|      2|\n",
       "      a|      1|\n",
       "      a|      1|\n",
       "      a|      1|\n",
       "+-------+-------+\n",
       "\n",
       "</div>"
      ]
     },
     "metadata": {
      "application/vnd.databricks.v1+output": {
       "addedWidgets": {},
       "arguments": {},
       "data": "<div class=\"ansiout\">+-------+-------+\n|letters|numbers|\n+-------+-------+\n|      a|      1|\n|      a|      1|\n|      a|      1|\n|      b|      2|\n|      b|      2|\n|      b|      2|\n|      c|      3|\n|      c|      3|\n|      c|      3|\n+-------+-------+\n\n+-------+-------+\n|letters|numbers|\n+-------+-------+\n|      c|      3|\n|      c|      3|\n|      c|      3|\n|      b|      2|\n|      b|      2|\n|      b|      2|\n|      a|      1|\n|      a|      1|\n|      a|      1|\n+-------+-------+\n\n</div>",
       "datasetInfos": [],
       "removedWidgets": [],
       "type": "html"
      }
     },
     "output_type": "display_data"
    }
   ],
   "source": [
    "# Sorting the DataFrame by the `numbers` column\n",
    "(nice_df\n",
    " .unionAll(nice_df)\n",
    " .unionAll(nice_df)\n",
    " .orderBy('numbers')\n",
    " .show())\n",
    "\n",
    "# Sort the same column in reverse order\n",
    "(nice_df\n",
    " .unionAll(nice_df)\n",
    " .unionAll(nice_df)\n",
    " .orderBy('numbers',\n",
    "          ascending = False)\n",
    " .show())"
   ]
  },
  {
   "cell_type": "code",
   "execution_count": 0,
   "metadata": {
    "application/vnd.databricks.v1+cell": {
     "inputWidgets": {},
     "nuid": "584bfe34-607c-44df-bd33-103fcaa95ceb",
     "showTitle": false,
     "title": ""
    }
   },
   "outputs": [
    {
     "data": {
      "text/html": [
       "<style scoped>\n",
       "  .ansiout {\n",
       "    display: block;\n",
       "    unicode-bidi: embed;\n",
       "    white-space: pre-wrap;\n",
       "    word-wrap: break-word;\n",
       "    word-break: break-all;\n",
       "    font-family: \"Source Code Pro\", \"Menlo\", monospace;;\n",
       "    font-size: 13px;\n",
       "    color: #555;\n",
       "    margin-left: 4px;\n",
       "    line-height: 19px;\n",
       "  }\n",
       "</style>\n",
       "<div class=\"ansiout\">+-------+\n",
       "letters|\n",
       "+-------+\n",
       "      a|\n",
       "      b|\n",
       "      c|\n",
       "+-------+\n",
       "\n",
       "+-------+-------+\n",
       "numbers|letters|\n",
       "+-------+-------+\n",
       "      1|      a|\n",
       "      2|      b|\n",
       "      3|      c|\n",
       "+-------+-------+\n",
       "\n",
       "+-------+\n",
       "numbers|\n",
       "+-------+\n",
       "      1|\n",
       "      2|\n",
       "      3|\n",
       "+-------+\n",
       "\n",
       "</div>"
      ]
     },
     "metadata": {
      "application/vnd.databricks.v1+output": {
       "addedWidgets": {},
       "arguments": {},
       "data": "<div class=\"ansiout\">+-------+\n|letters|\n+-------+\n|      a|\n|      b|\n|      c|\n+-------+\n\n+-------+-------+\n|numbers|letters|\n+-------+-------+\n|      1|      a|\n|      2|      b|\n|      3|      c|\n+-------+-------+\n\n+-------+\n|numbers|\n+-------+\n|      1|\n|      2|\n|      3|\n+-------+\n\n</div>",
       "datasetInfos": [],
       "removedWidgets": [],
       "type": "html"
      }
     },
     "output_type": "display_data"
    }
   ],
   "source": [
    "# `select()` and `drop()` both take a list of column names\n",
    "# and these functions do exactly what you might expect\n",
    "\n",
    "# Select only the first column of the DF\n",
    "(nice_df\n",
    " .select('letters')\n",
    " .show())\n",
    "\n",
    "# Re-order columns in the DF using `select()`\n",
    "(nice_df\n",
    " .select(['numbers', 'letters'])\n",
    " .show())\n",
    "\n",
    "# Drop the second column of the DF\n",
    "(nice_df\n",
    " .drop('letters')\n",
    " .show())"
   ]
  },
  {
   "cell_type": "code",
   "execution_count": 0,
   "metadata": {
    "application/vnd.databricks.v1+cell": {
     "inputWidgets": {},
     "nuid": "23acc1dd-c394-499f-8a0f-79f0792dcc7d",
     "showTitle": false,
     "title": ""
    }
   },
   "outputs": [
    {
     "data": {
      "text/html": [
       "<style scoped>\n",
       "  .ansiout {\n",
       "    display: block;\n",
       "    unicode-bidi: embed;\n",
       "    white-space: pre-wrap;\n",
       "    word-wrap: break-word;\n",
       "    word-break: break-all;\n",
       "    font-family: \"Source Code Pro\", \"Menlo\", monospace;;\n",
       "    font-size: 13px;\n",
       "    color: #555;\n",
       "    margin-left: 4px;\n",
       "    line-height: 19px;\n",
       "  }\n",
       "</style>\n",
       "<div class=\"ansiout\">+-------+-------+\n",
       "letters|numbers|\n",
       "+-------+-------+\n",
       "      b|      2|\n",
       "      c|      3|\n",
       "+-------+-------+\n",
       "\n",
       "+-------+-------+\n",
       "letters|numbers|\n",
       "+-------+-------+\n",
       "      b|      2|\n",
       "+-------+-------+\n",
       "\n",
       "+-------+-------+\n",
       "letters|numbers|\n",
       "+-------+-------+\n",
       "      a|      1|\n",
       "      b|      2|\n",
       "+-------+-------+\n",
       "\n",
       "</div>"
      ]
     },
     "metadata": {
      "application/vnd.databricks.v1+output": {
       "addedWidgets": {},
       "arguments": {},
       "data": "<div class=\"ansiout\">+-------+-------+\n|letters|numbers|\n+-------+-------+\n|      b|      2|\n|      c|      3|\n+-------+-------+\n\n+-------+-------+\n|letters|numbers|\n+-------+-------+\n|      b|      2|\n+-------+-------+\n\n+-------+-------+\n|letters|numbers|\n+-------+-------+\n|      a|      1|\n|      b|      2|\n+-------+-------+\n\n</div>",
       "datasetInfos": [],
       "removedWidgets": [],
       "type": "html"
      }
     },
     "output_type": "display_data"
    }
   ],
   "source": [
    "# The `filter()` function performs filtering of DF rows\n",
    "\n",
    "# Here is some numeric filtering with comparison operators\n",
    "# (>, <, >=, <=, ==, != all work)\n",
    "\n",
    "# Filter rows where values in `numbers` is > 1\n",
    "(nice_df\n",
    " .filter(nice_df.numbers > 1)\n",
    " .show())\n",
    "\n",
    "# Perform two filter operations\n",
    "(nice_df\n",
    " .filter(nice_df.numbers > 1)\n",
    " .filter(nice_df.numbers < 3)\n",
    " .show())\n",
    "\n",
    "# Not just numbers! Use the `filter()` + `isin()`\n",
    "# combo to filter on string columns with a set of values\n",
    "(nice_df\n",
    " .filter(nice_df.letters\n",
    "         .isin(['a', 'b']))\n",
    " .show())"
   ]
  }
 ],
 "metadata": {
  "application/vnd.databricks.v1+notebook": {
   "dashboards": [],
   "language": "python",
   "notebookName": "2_Bit_More_Data_Exploration",
   "notebookOrigID": 193850213023011,
   "widgets": {}
  },
  "kernelspec": {
   "display_name": "Python 3",
   "language": "python",
   "name": "python3"
  },
  "language_info": {
   "codemirror_mode": {
    "name": "ipython",
    "version": 3
   },
   "file_extension": ".py",
   "mimetype": "text/x-python",
   "name": "python",
   "nbconvert_exporter": "python",
   "pygments_lexer": "ipython3",
   "version": "3.8.5"
  },
  "name": "spark-dataframes",
  "notebookId": 96485
 },
 "nbformat": 4,
 "nbformat_minor": 1
}
