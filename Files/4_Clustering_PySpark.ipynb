{
 "cells": [
  {
   "cell_type": "code",
   "execution_count": 0,
   "metadata": {
    "application/vnd.databricks.v1+cell": {
     "inputWidgets": {},
     "nuid": "2c8c92e4-7246-4816-a319-d89c5c40e0f5",
     "showTitle": false,
     "title": ""
    }
   },
   "outputs": [
    {
     "data": {
      "text/html": [
       "<style scoped>\n",
       "  .ansiout {\n",
       "    display: block;\n",
       "    unicode-bidi: embed;\n",
       "    white-space: pre-wrap;\n",
       "    word-wrap: break-word;\n",
       "    word-break: break-all;\n",
       "    font-family: \"Source Code Pro\", \"Menlo\", monospace;;\n",
       "    font-size: 13px;\n",
       "    color: #555;\n",
       "    margin-left: 4px;\n",
       "    line-height: 19px;\n",
       "  }\n",
       "</style>\n",
       "<div class=\"ansiout\"></div>"
      ]
     },
     "metadata": {
      "application/vnd.databricks.v1+output": {
       "addedWidgets": {},
       "arguments": {},
       "data": "<div class=\"ansiout\"></div>",
       "datasetInfos": [],
       "removedWidgets": [],
       "type": "html"
      }
     },
     "output_type": "display_data"
    }
   ],
   "source": [
    "from pyspark.sql import SparkSession\n",
    "spark = SparkSession.builder.appName('k_means').getOrCreate()"
   ]
  },
  {
   "cell_type": "code",
   "execution_count": 0,
   "metadata": {
    "application/vnd.databricks.v1+cell": {
     "inputWidgets": {},
     "nuid": "de7721cf-be31-4402-abb2-f6f67778de01",
     "showTitle": false,
     "title": ""
    }
   },
   "outputs": [
    {
     "data": {
      "text/html": [
       "<style scoped>\n",
       "  .ansiout {\n",
       "    display: block;\n",
       "    unicode-bidi: embed;\n",
       "    white-space: pre-wrap;\n",
       "    word-wrap: break-word;\n",
       "    word-break: break-all;\n",
       "    font-family: \"Source Code Pro\", \"Menlo\", monospace;;\n",
       "    font-size: 13px;\n",
       "    color: #555;\n",
       "    margin-left: 4px;\n",
       "    line-height: 19px;\n",
       "  }\n",
       "</style>\n",
       "<div class=\"ansiout\"></div>"
      ]
     },
     "metadata": {
      "application/vnd.databricks.v1+output": {
       "addedWidgets": {},
       "arguments": {},
       "data": "<div class=\"ansiout\"></div>",
       "datasetInfos": [],
       "removedWidgets": [],
       "type": "html"
      }
     },
     "output_type": "display_data"
    }
   ],
   "source": [
    "import pyspark\n",
    "import pandas as pd\n",
    "import numpy as np\n",
    "import matplotlib.pyplot as plt\n",
    "from pyspark.sql.functions import * \n",
    "from pyspark.sql.types import *\n",
    "from pyspark.sql.functions import rand, randn\n",
    "from pyspark.ml.clustering import KMeans"
   ]
  },
  {
   "cell_type": "code",
   "execution_count": 0,
   "metadata": {
    "application/vnd.databricks.v1+cell": {
     "inputWidgets": {},
     "nuid": "aff48f13-fa72-4d03-85c6-04379ed2c632",
     "showTitle": false,
     "title": ""
    }
   },
   "outputs": [
    {
     "data": {
      "text/html": [
       "<style scoped>\n",
       "  .ansiout {\n",
       "    display: block;\n",
       "    unicode-bidi: embed;\n",
       "    white-space: pre-wrap;\n",
       "    word-wrap: break-word;\n",
       "    word-break: break-all;\n",
       "    font-family: \"Source Code Pro\", \"Menlo\", monospace;;\n",
       "    font-size: 13px;\n",
       "    color: #555;\n",
       "    margin-left: 4px;\n",
       "    line-height: 19px;\n",
       "  }\n",
       "</style>\n",
       "<div class=\"ansiout\"></div>"
      ]
     },
     "metadata": {
      "application/vnd.databricks.v1+output": {
       "addedWidgets": {},
       "arguments": {},
       "data": "<div class=\"ansiout\"></div>",
       "datasetInfos": [],
       "removedWidgets": [],
       "type": "html"
      }
     },
     "output_type": "display_data"
    }
   ],
   "source": [
    "df=spark.read.csv('/FileStore/tables/iris_dataset.csv',inferSchema=True,header=True)"
   ]
  },
  {
   "cell_type": "code",
   "execution_count": 0,
   "metadata": {
    "application/vnd.databricks.v1+cell": {
     "inputWidgets": {},
     "nuid": "8fff7ef7-f232-415e-942d-a48171bb09af",
     "showTitle": false,
     "title": ""
    }
   },
   "outputs": [
    {
     "data": {
      "text/html": [
       "<style scoped>\n",
       "  .ansiout {\n",
       "    display: block;\n",
       "    unicode-bidi: embed;\n",
       "    white-space: pre-wrap;\n",
       "    word-wrap: break-word;\n",
       "    word-break: break-all;\n",
       "    font-family: \"Source Code Pro\", \"Menlo\", monospace;;\n",
       "    font-size: 13px;\n",
       "    color: #555;\n",
       "    margin-left: 4px;\n",
       "    line-height: 19px;\n",
       "  }\n",
       "</style>\n",
       "<div class=\"ansiout\">(150, 5)\n",
       "</div>"
      ]
     },
     "metadata": {
      "application/vnd.databricks.v1+output": {
       "addedWidgets": {},
       "arguments": {},
       "data": "<div class=\"ansiout\">(150, 5)\n</div>",
       "datasetInfos": [],
       "removedWidgets": [],
       "type": "html"
      }
     },
     "output_type": "display_data"
    }
   ],
   "source": [
    "print((df.count(),len(df.columns)))"
   ]
  },
  {
   "cell_type": "code",
   "execution_count": 0,
   "metadata": {
    "application/vnd.databricks.v1+cell": {
     "inputWidgets": {},
     "nuid": "225691c1-5269-4b45-9201-ec3d420aee8b",
     "showTitle": false,
     "title": ""
    }
   },
   "outputs": [
    {
     "data": {
      "text/html": [
       "<style scoped>\n",
       "  .ansiout {\n",
       "    display: block;\n",
       "    unicode-bidi: embed;\n",
       "    white-space: pre-wrap;\n",
       "    word-wrap: break-word;\n",
       "    word-break: break-all;\n",
       "    font-family: \"Source Code Pro\", \"Menlo\", monospace;;\n",
       "    font-size: 13px;\n",
       "    color: #555;\n",
       "    margin-left: 4px;\n",
       "    line-height: 19px;\n",
       "  }\n",
       "</style>\n",
       "<div class=\"ansiout\">Out[10]: [&#39;sepal_length&#39;, &#39;sepal_width&#39;, &#39;petal_length&#39;, &#39;petal_width&#39;, &#39;species&#39;]</div>"
      ]
     },
     "metadata": {
      "application/vnd.databricks.v1+output": {
       "addedWidgets": {},
       "arguments": {},
       "data": "<div class=\"ansiout\">Out[10]: [&#39;sepal_length&#39;, &#39;sepal_width&#39;, &#39;petal_length&#39;, &#39;petal_width&#39;, &#39;species&#39;]</div>",
       "datasetInfos": [],
       "removedWidgets": [],
       "type": "html"
      }
     },
     "output_type": "display_data"
    }
   ],
   "source": [
    "df.columns"
   ]
  },
  {
   "cell_type": "code",
   "execution_count": 0,
   "metadata": {
    "application/vnd.databricks.v1+cell": {
     "inputWidgets": {},
     "nuid": "3bb28142-d1b2-4ef7-a472-03fdd21b23ee",
     "showTitle": false,
     "title": ""
    }
   },
   "outputs": [
    {
     "data": {
      "text/html": [
       "<style scoped>\n",
       "  .ansiout {\n",
       "    display: block;\n",
       "    unicode-bidi: embed;\n",
       "    white-space: pre-wrap;\n",
       "    word-wrap: break-word;\n",
       "    word-break: break-all;\n",
       "    font-family: \"Source Code Pro\", \"Menlo\", monospace;;\n",
       "    font-size: 13px;\n",
       "    color: #555;\n",
       "    margin-left: 4px;\n",
       "    line-height: 19px;\n",
       "  }\n",
       "</style>\n",
       "<div class=\"ansiout\">root\n",
       "-- sepal_length: double (nullable = true)\n",
       "-- sepal_width: double (nullable = true)\n",
       "-- petal_length: double (nullable = true)\n",
       "-- petal_width: double (nullable = true)\n",
       "-- species: string (nullable = true)\n",
       "\n",
       "</div>"
      ]
     },
     "metadata": {
      "application/vnd.databricks.v1+output": {
       "addedWidgets": {},
       "arguments": {},
       "data": "<div class=\"ansiout\">root\n |-- sepal_length: double (nullable = true)\n |-- sepal_width: double (nullable = true)\n |-- petal_length: double (nullable = true)\n |-- petal_width: double (nullable = true)\n |-- species: string (nullable = true)\n\n</div>",
       "datasetInfos": [],
       "removedWidgets": [],
       "type": "html"
      }
     },
     "output_type": "display_data"
    }
   ],
   "source": [
    "df.printSchema()"
   ]
  },
  {
   "cell_type": "code",
   "execution_count": 0,
   "metadata": {
    "application/vnd.databricks.v1+cell": {
     "inputWidgets": {},
     "nuid": "a9be4e14-5998-4baf-bc7f-08a479077e49",
     "showTitle": false,
     "title": ""
    }
   },
   "outputs": [
    {
     "data": {
      "text/html": [
       "<style scoped>\n",
       "  .ansiout {\n",
       "    display: block;\n",
       "    unicode-bidi: embed;\n",
       "    white-space: pre-wrap;\n",
       "    word-wrap: break-word;\n",
       "    word-break: break-all;\n",
       "    font-family: \"Source Code Pro\", \"Menlo\", monospace;;\n",
       "    font-size: 13px;\n",
       "    color: #555;\n",
       "    margin-left: 4px;\n",
       "    line-height: 19px;\n",
       "  }\n",
       "</style>\n",
       "<div class=\"ansiout\"></div>"
      ]
     },
     "metadata": {
      "application/vnd.databricks.v1+output": {
       "addedWidgets": {},
       "arguments": {},
       "data": "<div class=\"ansiout\"></div>",
       "datasetInfos": [],
       "removedWidgets": [],
       "type": "html"
      }
     },
     "output_type": "display_data"
    }
   ],
   "source": [
    "from pyspark.ml.linalg import Vectors\n",
    "from pyspark.ml.feature import VectorAssembler"
   ]
  },
  {
   "cell_type": "code",
   "execution_count": 0,
   "metadata": {
    "application/vnd.databricks.v1+cell": {
     "inputWidgets": {},
     "nuid": "41a4348d-6f24-4a98-8552-a5c62160141d",
     "showTitle": false,
     "title": ""
    }
   },
   "outputs": [
    {
     "data": {
      "text/html": [
       "<style scoped>\n",
       "  .ansiout {\n",
       "    display: block;\n",
       "    unicode-bidi: embed;\n",
       "    white-space: pre-wrap;\n",
       "    word-wrap: break-word;\n",
       "    word-break: break-all;\n",
       "    font-family: \"Source Code Pro\", \"Menlo\", monospace;;\n",
       "    font-size: 13px;\n",
       "    color: #555;\n",
       "    margin-left: 4px;\n",
       "    line-height: 19px;\n",
       "  }\n",
       "</style>\n",
       "<div class=\"ansiout\"></div>"
      ]
     },
     "metadata": {
      "application/vnd.databricks.v1+output": {
       "addedWidgets": {},
       "arguments": {},
       "data": "<div class=\"ansiout\"></div>",
       "datasetInfos": [],
       "removedWidgets": [],
       "type": "html"
      }
     },
     "output_type": "display_data"
    }
   ],
   "source": [
    "input_cols=['sepal_length', 'sepal_width', 'petal_length', 'petal_width']"
   ]
  },
  {
   "cell_type": "code",
   "execution_count": 0,
   "metadata": {
    "application/vnd.databricks.v1+cell": {
     "inputWidgets": {},
     "nuid": "38391e69-a109-4f57-b652-9caca393bb83",
     "showTitle": false,
     "title": ""
    }
   },
   "outputs": [
    {
     "data": {
      "text/html": [
       "<style scoped>\n",
       "  .ansiout {\n",
       "    display: block;\n",
       "    unicode-bidi: embed;\n",
       "    white-space: pre-wrap;\n",
       "    word-wrap: break-word;\n",
       "    word-break: break-all;\n",
       "    font-family: \"Source Code Pro\", \"Menlo\", monospace;;\n",
       "    font-size: 13px;\n",
       "    color: #555;\n",
       "    margin-left: 4px;\n",
       "    line-height: 19px;\n",
       "  }\n",
       "</style>\n",
       "<div class=\"ansiout\"></div>"
      ]
     },
     "metadata": {
      "application/vnd.databricks.v1+output": {
       "addedWidgets": {},
       "arguments": {},
       "data": "<div class=\"ansiout\"></div>",
       "datasetInfos": [],
       "removedWidgets": [],
       "type": "html"
      }
     },
     "output_type": "display_data"
    }
   ],
   "source": [
    "# Transform all features into a vector using VectorAssembler\n",
    "vec_assembler = VectorAssembler(inputCols = input_cols, outputCol='features')\n",
    "final_data = vec_assembler.transform(df)"
   ]
  },
  {
   "cell_type": "code",
   "execution_count": 0,
   "metadata": {
    "application/vnd.databricks.v1+cell": {
     "inputWidgets": {},
     "nuid": "02cc4ab9-54a9-4e3a-9335-3194e926375c",
     "showTitle": false,
     "title": ""
    }
   },
   "outputs": [
    {
     "data": {
      "text/html": [
       "<style scoped>\n",
       "  .table-result-container {\n",
       "    max-height: 300px;\n",
       "    overflow: auto;\n",
       "  }\n",
       "  table, th, td {\n",
       "    border: 1px solid black;\n",
       "    border-collapse: collapse;\n",
       "  }\n",
       "  th, td {\n",
       "    padding: 5px;\n",
       "  }\n",
       "  th {\n",
       "    text-align: left;\n",
       "  }\n",
       "</style><div class='table-result-container'><table class='table-result'><thead style='background-color: white'><tr><th>sepal_length</th><th>sepal_width</th><th>petal_length</th><th>petal_width</th><th>species</th><th>features</th></tr></thead><tbody><tr><td>5.1</td><td>3.5</td><td>1.4</td><td>0.2</td><td>setosa</td><td>Map(vectorType -> dense, length -> 4, values -> List(5.1, 3.5, 1.4, 0.2))</td></tr><tr><td>4.9</td><td>3.0</td><td>1.4</td><td>0.2</td><td>setosa</td><td>Map(vectorType -> dense, length -> 4, values -> List(4.9, 3.0, 1.4, 0.2))</td></tr><tr><td>4.7</td><td>3.2</td><td>1.3</td><td>0.2</td><td>setosa</td><td>Map(vectorType -> dense, length -> 4, values -> List(4.7, 3.2, 1.3, 0.2))</td></tr><tr><td>4.6</td><td>3.1</td><td>1.5</td><td>0.2</td><td>setosa</td><td>Map(vectorType -> dense, length -> 4, values -> List(4.6, 3.1, 1.5, 0.2))</td></tr><tr><td>5.0</td><td>3.6</td><td>1.4</td><td>0.2</td><td>setosa</td><td>Map(vectorType -> dense, length -> 4, values -> List(5.0, 3.6, 1.4, 0.2))</td></tr><tr><td>5.4</td><td>3.9</td><td>1.7</td><td>0.4</td><td>setosa</td><td>Map(vectorType -> dense, length -> 4, values -> List(5.4, 3.9, 1.7, 0.4))</td></tr><tr><td>4.6</td><td>3.4</td><td>1.4</td><td>0.3</td><td>setosa</td><td>Map(vectorType -> dense, length -> 4, values -> List(4.6, 3.4, 1.4, 0.3))</td></tr><tr><td>5.0</td><td>3.4</td><td>1.5</td><td>0.2</td><td>setosa</td><td>Map(vectorType -> dense, length -> 4, values -> List(5.0, 3.4, 1.5, 0.2))</td></tr><tr><td>4.4</td><td>2.9</td><td>1.4</td><td>0.2</td><td>setosa</td><td>Map(vectorType -> dense, length -> 4, values -> List(4.4, 2.9, 1.4, 0.2))</td></tr><tr><td>4.9</td><td>3.1</td><td>1.5</td><td>0.1</td><td>setosa</td><td>Map(vectorType -> dense, length -> 4, values -> List(4.9, 3.1, 1.5, 0.1))</td></tr><tr><td>5.4</td><td>3.7</td><td>1.5</td><td>0.2</td><td>setosa</td><td>Map(vectorType -> dense, length -> 4, values -> List(5.4, 3.7, 1.5, 0.2))</td></tr><tr><td>4.8</td><td>3.4</td><td>1.6</td><td>0.2</td><td>setosa</td><td>Map(vectorType -> dense, length -> 4, values -> List(4.8, 3.4, 1.6, 0.2))</td></tr><tr><td>4.8</td><td>3.0</td><td>1.4</td><td>0.1</td><td>setosa</td><td>Map(vectorType -> dense, length -> 4, values -> List(4.8, 3.0, 1.4, 0.1))</td></tr><tr><td>4.3</td><td>3.0</td><td>1.1</td><td>0.1</td><td>setosa</td><td>Map(vectorType -> dense, length -> 4, values -> List(4.3, 3.0, 1.1, 0.1))</td></tr><tr><td>5.8</td><td>4.0</td><td>1.2</td><td>0.2</td><td>setosa</td><td>Map(vectorType -> dense, length -> 4, values -> List(5.8, 4.0, 1.2, 0.2))</td></tr><tr><td>5.7</td><td>4.4</td><td>1.5</td><td>0.4</td><td>setosa</td><td>Map(vectorType -> dense, length -> 4, values -> List(5.7, 4.4, 1.5, 0.4))</td></tr><tr><td>5.4</td><td>3.9</td><td>1.3</td><td>0.4</td><td>setosa</td><td>Map(vectorType -> dense, length -> 4, values -> List(5.4, 3.9, 1.3, 0.4))</td></tr><tr><td>5.1</td><td>3.5</td><td>1.4</td><td>0.3</td><td>setosa</td><td>Map(vectorType -> dense, length -> 4, values -> List(5.1, 3.5, 1.4, 0.3))</td></tr><tr><td>5.7</td><td>3.8</td><td>1.7</td><td>0.3</td><td>setosa</td><td>Map(vectorType -> dense, length -> 4, values -> List(5.7, 3.8, 1.7, 0.3))</td></tr><tr><td>5.1</td><td>3.8</td><td>1.5</td><td>0.3</td><td>setosa</td><td>Map(vectorType -> dense, length -> 4, values -> List(5.1, 3.8, 1.5, 0.3))</td></tr><tr><td>5.4</td><td>3.4</td><td>1.7</td><td>0.2</td><td>setosa</td><td>Map(vectorType -> dense, length -> 4, values -> List(5.4, 3.4, 1.7, 0.2))</td></tr><tr><td>5.1</td><td>3.7</td><td>1.5</td><td>0.4</td><td>setosa</td><td>Map(vectorType -> dense, length -> 4, values -> List(5.1, 3.7, 1.5, 0.4))</td></tr><tr><td>4.6</td><td>3.6</td><td>1.0</td><td>0.2</td><td>setosa</td><td>Map(vectorType -> dense, length -> 4, values -> List(4.6, 3.6, 1.0, 0.2))</td></tr><tr><td>5.1</td><td>3.3</td><td>1.7</td><td>0.5</td><td>setosa</td><td>Map(vectorType -> dense, length -> 4, values -> List(5.1, 3.3, 1.7, 0.5))</td></tr><tr><td>4.8</td><td>3.4</td><td>1.9</td><td>0.2</td><td>setosa</td><td>Map(vectorType -> dense, length -> 4, values -> List(4.8, 3.4, 1.9, 0.2))</td></tr><tr><td>5.0</td><td>3.0</td><td>1.6</td><td>0.2</td><td>setosa</td><td>Map(vectorType -> dense, length -> 4, values -> List(5.0, 3.0, 1.6, 0.2))</td></tr><tr><td>5.0</td><td>3.4</td><td>1.6</td><td>0.4</td><td>setosa</td><td>Map(vectorType -> dense, length -> 4, values -> List(5.0, 3.4, 1.6, 0.4))</td></tr><tr><td>5.2</td><td>3.5</td><td>1.5</td><td>0.2</td><td>setosa</td><td>Map(vectorType -> dense, length -> 4, values -> List(5.2, 3.5, 1.5, 0.2))</td></tr><tr><td>5.2</td><td>3.4</td><td>1.4</td><td>0.2</td><td>setosa</td><td>Map(vectorType -> dense, length -> 4, values -> List(5.2, 3.4, 1.4, 0.2))</td></tr><tr><td>4.7</td><td>3.2</td><td>1.6</td><td>0.2</td><td>setosa</td><td>Map(vectorType -> dense, length -> 4, values -> List(4.7, 3.2, 1.6, 0.2))</td></tr><tr><td>4.8</td><td>3.1</td><td>1.6</td><td>0.2</td><td>setosa</td><td>Map(vectorType -> dense, length -> 4, values -> List(4.8, 3.1, 1.6, 0.2))</td></tr><tr><td>5.4</td><td>3.4</td><td>1.5</td><td>0.4</td><td>setosa</td><td>Map(vectorType -> dense, length -> 4, values -> List(5.4, 3.4, 1.5, 0.4))</td></tr><tr><td>5.2</td><td>4.1</td><td>1.5</td><td>0.1</td><td>setosa</td><td>Map(vectorType -> dense, length -> 4, values -> List(5.2, 4.1, 1.5, 0.1))</td></tr><tr><td>5.5</td><td>4.2</td><td>1.4</td><td>0.2</td><td>setosa</td><td>Map(vectorType -> dense, length -> 4, values -> List(5.5, 4.2, 1.4, 0.2))</td></tr><tr><td>4.9</td><td>3.1</td><td>1.5</td><td>0.1</td><td>setosa</td><td>Map(vectorType -> dense, length -> 4, values -> List(4.9, 3.1, 1.5, 0.1))</td></tr><tr><td>5.0</td><td>3.2</td><td>1.2</td><td>0.2</td><td>setosa</td><td>Map(vectorType -> dense, length -> 4, values -> List(5.0, 3.2, 1.2, 0.2))</td></tr><tr><td>5.5</td><td>3.5</td><td>1.3</td><td>0.2</td><td>setosa</td><td>Map(vectorType -> dense, length -> 4, values -> List(5.5, 3.5, 1.3, 0.2))</td></tr><tr><td>4.9</td><td>3.1</td><td>1.5</td><td>0.1</td><td>setosa</td><td>Map(vectorType -> dense, length -> 4, values -> List(4.9, 3.1, 1.5, 0.1))</td></tr><tr><td>4.4</td><td>3.0</td><td>1.3</td><td>0.2</td><td>setosa</td><td>Map(vectorType -> dense, length -> 4, values -> List(4.4, 3.0, 1.3, 0.2))</td></tr><tr><td>5.1</td><td>3.4</td><td>1.5</td><td>0.2</td><td>setosa</td><td>Map(vectorType -> dense, length -> 4, values -> List(5.1, 3.4, 1.5, 0.2))</td></tr><tr><td>5.0</td><td>3.5</td><td>1.3</td><td>0.3</td><td>setosa</td><td>Map(vectorType -> dense, length -> 4, values -> List(5.0, 3.5, 1.3, 0.3))</td></tr><tr><td>4.5</td><td>2.3</td><td>1.3</td><td>0.3</td><td>setosa</td><td>Map(vectorType -> dense, length -> 4, values -> List(4.5, 2.3, 1.3, 0.3))</td></tr><tr><td>4.4</td><td>3.2</td><td>1.3</td><td>0.2</td><td>setosa</td><td>Map(vectorType -> dense, length -> 4, values -> List(4.4, 3.2, 1.3, 0.2))</td></tr><tr><td>5.0</td><td>3.5</td><td>1.6</td><td>0.6</td><td>setosa</td><td>Map(vectorType -> dense, length -> 4, values -> List(5.0, 3.5, 1.6, 0.6))</td></tr><tr><td>5.1</td><td>3.8</td><td>1.9</td><td>0.4</td><td>setosa</td><td>Map(vectorType -> dense, length -> 4, values -> List(5.1, 3.8, 1.9, 0.4))</td></tr><tr><td>4.8</td><td>3.0</td><td>1.4</td><td>0.3</td><td>setosa</td><td>Map(vectorType -> dense, length -> 4, values -> List(4.8, 3.0, 1.4, 0.3))</td></tr><tr><td>5.1</td><td>3.8</td><td>1.6</td><td>0.2</td><td>setosa</td><td>Map(vectorType -> dense, length -> 4, values -> List(5.1, 3.8, 1.6, 0.2))</td></tr><tr><td>4.6</td><td>3.2</td><td>1.4</td><td>0.2</td><td>setosa</td><td>Map(vectorType -> dense, length -> 4, values -> List(4.6, 3.2, 1.4, 0.2))</td></tr><tr><td>5.3</td><td>3.7</td><td>1.5</td><td>0.2</td><td>setosa</td><td>Map(vectorType -> dense, length -> 4, values -> List(5.3, 3.7, 1.5, 0.2))</td></tr><tr><td>5.0</td><td>3.3</td><td>1.4</td><td>0.2</td><td>setosa</td><td>Map(vectorType -> dense, length -> 4, values -> List(5.0, 3.3, 1.4, 0.2))</td></tr><tr><td>7.0</td><td>3.2</td><td>4.7</td><td>1.4</td><td>versicolor</td><td>Map(vectorType -> dense, length -> 4, values -> List(7.0, 3.2, 4.7, 1.4))</td></tr><tr><td>6.4</td><td>3.2</td><td>4.5</td><td>1.5</td><td>versicolor</td><td>Map(vectorType -> dense, length -> 4, values -> List(6.4, 3.2, 4.5, 1.5))</td></tr><tr><td>6.9</td><td>3.1</td><td>4.9</td><td>1.5</td><td>versicolor</td><td>Map(vectorType -> dense, length -> 4, values -> List(6.9, 3.1, 4.9, 1.5))</td></tr><tr><td>5.5</td><td>2.3</td><td>4.0</td><td>1.3</td><td>versicolor</td><td>Map(vectorType -> dense, length -> 4, values -> List(5.5, 2.3, 4.0, 1.3))</td></tr><tr><td>6.5</td><td>2.8</td><td>4.6</td><td>1.5</td><td>versicolor</td><td>Map(vectorType -> dense, length -> 4, values -> List(6.5, 2.8, 4.6, 1.5))</td></tr><tr><td>5.7</td><td>2.8</td><td>4.5</td><td>1.3</td><td>versicolor</td><td>Map(vectorType -> dense, length -> 4, values -> List(5.7, 2.8, 4.5, 1.3))</td></tr><tr><td>6.3</td><td>3.3</td><td>4.7</td><td>1.6</td><td>versicolor</td><td>Map(vectorType -> dense, length -> 4, values -> List(6.3, 3.3, 4.7, 1.6))</td></tr><tr><td>4.9</td><td>2.4</td><td>3.3</td><td>1.0</td><td>versicolor</td><td>Map(vectorType -> dense, length -> 4, values -> List(4.9, 2.4, 3.3, 1.0))</td></tr><tr><td>6.6</td><td>2.9</td><td>4.6</td><td>1.3</td><td>versicolor</td><td>Map(vectorType -> dense, length -> 4, values -> List(6.6, 2.9, 4.6, 1.3))</td></tr><tr><td>5.2</td><td>2.7</td><td>3.9</td><td>1.4</td><td>versicolor</td><td>Map(vectorType -> dense, length -> 4, values -> List(5.2, 2.7, 3.9, 1.4))</td></tr><tr><td>5.0</td><td>2.0</td><td>3.5</td><td>1.0</td><td>versicolor</td><td>Map(vectorType -> dense, length -> 4, values -> List(5.0, 2.0, 3.5, 1.0))</td></tr><tr><td>5.9</td><td>3.0</td><td>4.2</td><td>1.5</td><td>versicolor</td><td>Map(vectorType -> dense, length -> 4, values -> List(5.9, 3.0, 4.2, 1.5))</td></tr><tr><td>6.0</td><td>2.2</td><td>4.0</td><td>1.0</td><td>versicolor</td><td>Map(vectorType -> dense, length -> 4, values -> List(6.0, 2.2, 4.0, 1.0))</td></tr><tr><td>6.1</td><td>2.9</td><td>4.7</td><td>1.4</td><td>versicolor</td><td>Map(vectorType -> dense, length -> 4, values -> List(6.1, 2.9, 4.7, 1.4))</td></tr><tr><td>5.6</td><td>2.9</td><td>3.6</td><td>1.3</td><td>versicolor</td><td>Map(vectorType -> dense, length -> 4, values -> List(5.6, 2.9, 3.6, 1.3))</td></tr><tr><td>6.7</td><td>3.1</td><td>4.4</td><td>1.4</td><td>versicolor</td><td>Map(vectorType -> dense, length -> 4, values -> List(6.7, 3.1, 4.4, 1.4))</td></tr><tr><td>5.6</td><td>3.0</td><td>4.5</td><td>1.5</td><td>versicolor</td><td>Map(vectorType -> dense, length -> 4, values -> List(5.6, 3.0, 4.5, 1.5))</td></tr><tr><td>5.8</td><td>2.7</td><td>4.1</td><td>1.0</td><td>versicolor</td><td>Map(vectorType -> dense, length -> 4, values -> List(5.8, 2.7, 4.1, 1.0))</td></tr><tr><td>6.2</td><td>2.2</td><td>4.5</td><td>1.5</td><td>versicolor</td><td>Map(vectorType -> dense, length -> 4, values -> List(6.2, 2.2, 4.5, 1.5))</td></tr><tr><td>5.6</td><td>2.5</td><td>3.9</td><td>1.1</td><td>versicolor</td><td>Map(vectorType -> dense, length -> 4, values -> List(5.6, 2.5, 3.9, 1.1))</td></tr><tr><td>5.9</td><td>3.2</td><td>4.8</td><td>1.8</td><td>versicolor</td><td>Map(vectorType -> dense, length -> 4, values -> List(5.9, 3.2, 4.8, 1.8))</td></tr><tr><td>6.1</td><td>2.8</td><td>4.0</td><td>1.3</td><td>versicolor</td><td>Map(vectorType -> dense, length -> 4, values -> List(6.1, 2.8, 4.0, 1.3))</td></tr><tr><td>6.3</td><td>2.5</td><td>4.9</td><td>1.5</td><td>versicolor</td><td>Map(vectorType -> dense, length -> 4, values -> List(6.3, 2.5, 4.9, 1.5))</td></tr><tr><td>6.1</td><td>2.8</td><td>4.7</td><td>1.2</td><td>versicolor</td><td>Map(vectorType -> dense, length -> 4, values -> List(6.1, 2.8, 4.7, 1.2))</td></tr><tr><td>6.4</td><td>2.9</td><td>4.3</td><td>1.3</td><td>versicolor</td><td>Map(vectorType -> dense, length -> 4, values -> List(6.4, 2.9, 4.3, 1.3))</td></tr><tr><td>6.6</td><td>3.0</td><td>4.4</td><td>1.4</td><td>versicolor</td><td>Map(vectorType -> dense, length -> 4, values -> List(6.6, 3.0, 4.4, 1.4))</td></tr><tr><td>6.8</td><td>2.8</td><td>4.8</td><td>1.4</td><td>versicolor</td><td>Map(vectorType -> dense, length -> 4, values -> List(6.8, 2.8, 4.8, 1.4))</td></tr><tr><td>6.7</td><td>3.0</td><td>5.0</td><td>1.7</td><td>versicolor</td><td>Map(vectorType -> dense, length -> 4, values -> List(6.7, 3.0, 5.0, 1.7))</td></tr><tr><td>6.0</td><td>2.9</td><td>4.5</td><td>1.5</td><td>versicolor</td><td>Map(vectorType -> dense, length -> 4, values -> List(6.0, 2.9, 4.5, 1.5))</td></tr><tr><td>5.7</td><td>2.6</td><td>3.5</td><td>1.0</td><td>versicolor</td><td>Map(vectorType -> dense, length -> 4, values -> List(5.7, 2.6, 3.5, 1.0))</td></tr><tr><td>5.5</td><td>2.4</td><td>3.8</td><td>1.1</td><td>versicolor</td><td>Map(vectorType -> dense, length -> 4, values -> List(5.5, 2.4, 3.8, 1.1))</td></tr><tr><td>5.5</td><td>2.4</td><td>3.7</td><td>1.0</td><td>versicolor</td><td>Map(vectorType -> dense, length -> 4, values -> List(5.5, 2.4, 3.7, 1.0))</td></tr><tr><td>5.8</td><td>2.7</td><td>3.9</td><td>1.2</td><td>versicolor</td><td>Map(vectorType -> dense, length -> 4, values -> List(5.8, 2.7, 3.9, 1.2))</td></tr><tr><td>6.0</td><td>2.7</td><td>5.1</td><td>1.6</td><td>versicolor</td><td>Map(vectorType -> dense, length -> 4, values -> List(6.0, 2.7, 5.1, 1.6))</td></tr><tr><td>5.4</td><td>3.0</td><td>4.5</td><td>1.5</td><td>versicolor</td><td>Map(vectorType -> dense, length -> 4, values -> List(5.4, 3.0, 4.5, 1.5))</td></tr><tr><td>6.0</td><td>3.4</td><td>4.5</td><td>1.6</td><td>versicolor</td><td>Map(vectorType -> dense, length -> 4, values -> List(6.0, 3.4, 4.5, 1.6))</td></tr><tr><td>6.7</td><td>3.1</td><td>4.7</td><td>1.5</td><td>versicolor</td><td>Map(vectorType -> dense, length -> 4, values -> List(6.7, 3.1, 4.7, 1.5))</td></tr><tr><td>6.3</td><td>2.3</td><td>4.4</td><td>1.3</td><td>versicolor</td><td>Map(vectorType -> dense, length -> 4, values -> List(6.3, 2.3, 4.4, 1.3))</td></tr><tr><td>5.6</td><td>3.0</td><td>4.1</td><td>1.3</td><td>versicolor</td><td>Map(vectorType -> dense, length -> 4, values -> List(5.6, 3.0, 4.1, 1.3))</td></tr><tr><td>5.5</td><td>2.5</td><td>4.0</td><td>1.3</td><td>versicolor</td><td>Map(vectorType -> dense, length -> 4, values -> List(5.5, 2.5, 4.0, 1.3))</td></tr><tr><td>5.5</td><td>2.6</td><td>4.4</td><td>1.2</td><td>versicolor</td><td>Map(vectorType -> dense, length -> 4, values -> List(5.5, 2.6, 4.4, 1.2))</td></tr><tr><td>6.1</td><td>3.0</td><td>4.6</td><td>1.4</td><td>versicolor</td><td>Map(vectorType -> dense, length -> 4, values -> List(6.1, 3.0, 4.6, 1.4))</td></tr><tr><td>5.8</td><td>2.6</td><td>4.0</td><td>1.2</td><td>versicolor</td><td>Map(vectorType -> dense, length -> 4, values -> List(5.8, 2.6, 4.0, 1.2))</td></tr><tr><td>5.0</td><td>2.3</td><td>3.3</td><td>1.0</td><td>versicolor</td><td>Map(vectorType -> dense, length -> 4, values -> List(5.0, 2.3, 3.3, 1.0))</td></tr><tr><td>5.6</td><td>2.7</td><td>4.2</td><td>1.3</td><td>versicolor</td><td>Map(vectorType -> dense, length -> 4, values -> List(5.6, 2.7, 4.2, 1.3))</td></tr><tr><td>5.7</td><td>3.0</td><td>4.2</td><td>1.2</td><td>versicolor</td><td>Map(vectorType -> dense, length -> 4, values -> List(5.7, 3.0, 4.2, 1.2))</td></tr><tr><td>5.7</td><td>2.9</td><td>4.2</td><td>1.3</td><td>versicolor</td><td>Map(vectorType -> dense, length -> 4, values -> List(5.7, 2.9, 4.2, 1.3))</td></tr><tr><td>6.2</td><td>2.9</td><td>4.3</td><td>1.3</td><td>versicolor</td><td>Map(vectorType -> dense, length -> 4, values -> List(6.2, 2.9, 4.3, 1.3))</td></tr><tr><td>5.1</td><td>2.5</td><td>3.0</td><td>1.1</td><td>versicolor</td><td>Map(vectorType -> dense, length -> 4, values -> List(5.1, 2.5, 3.0, 1.1))</td></tr><tr><td>5.7</td><td>2.8</td><td>4.1</td><td>1.3</td><td>versicolor</td><td>Map(vectorType -> dense, length -> 4, values -> List(5.7, 2.8, 4.1, 1.3))</td></tr><tr><td>6.3</td><td>3.3</td><td>6.0</td><td>2.5</td><td>virginica</td><td>Map(vectorType -> dense, length -> 4, values -> List(6.3, 3.3, 6.0, 2.5))</td></tr><tr><td>5.8</td><td>2.7</td><td>5.1</td><td>1.9</td><td>virginica</td><td>Map(vectorType -> dense, length -> 4, values -> List(5.8, 2.7, 5.1, 1.9))</td></tr><tr><td>7.1</td><td>3.0</td><td>5.9</td><td>2.1</td><td>virginica</td><td>Map(vectorType -> dense, length -> 4, values -> List(7.1, 3.0, 5.9, 2.1))</td></tr><tr><td>6.3</td><td>2.9</td><td>5.6</td><td>1.8</td><td>virginica</td><td>Map(vectorType -> dense, length -> 4, values -> List(6.3, 2.9, 5.6, 1.8))</td></tr><tr><td>6.5</td><td>3.0</td><td>5.8</td><td>2.2</td><td>virginica</td><td>Map(vectorType -> dense, length -> 4, values -> List(6.5, 3.0, 5.8, 2.2))</td></tr><tr><td>7.6</td><td>3.0</td><td>6.6</td><td>2.1</td><td>virginica</td><td>Map(vectorType -> dense, length -> 4, values -> List(7.6, 3.0, 6.6, 2.1))</td></tr><tr><td>4.9</td><td>2.5</td><td>4.5</td><td>1.7</td><td>virginica</td><td>Map(vectorType -> dense, length -> 4, values -> List(4.9, 2.5, 4.5, 1.7))</td></tr><tr><td>7.3</td><td>2.9</td><td>6.3</td><td>1.8</td><td>virginica</td><td>Map(vectorType -> dense, length -> 4, values -> List(7.3, 2.9, 6.3, 1.8))</td></tr><tr><td>6.7</td><td>2.5</td><td>5.8</td><td>1.8</td><td>virginica</td><td>Map(vectorType -> dense, length -> 4, values -> List(6.7, 2.5, 5.8, 1.8))</td></tr><tr><td>7.2</td><td>3.6</td><td>6.1</td><td>2.5</td><td>virginica</td><td>Map(vectorType -> dense, length -> 4, values -> List(7.2, 3.6, 6.1, 2.5))</td></tr><tr><td>6.5</td><td>3.2</td><td>5.1</td><td>2.0</td><td>virginica</td><td>Map(vectorType -> dense, length -> 4, values -> List(6.5, 3.2, 5.1, 2.0))</td></tr><tr><td>6.4</td><td>2.7</td><td>5.3</td><td>1.9</td><td>virginica</td><td>Map(vectorType -> dense, length -> 4, values -> List(6.4, 2.7, 5.3, 1.9))</td></tr><tr><td>6.8</td><td>3.0</td><td>5.5</td><td>2.1</td><td>virginica</td><td>Map(vectorType -> dense, length -> 4, values -> List(6.8, 3.0, 5.5, 2.1))</td></tr><tr><td>5.7</td><td>2.5</td><td>5.0</td><td>2.0</td><td>virginica</td><td>Map(vectorType -> dense, length -> 4, values -> List(5.7, 2.5, 5.0, 2.0))</td></tr><tr><td>5.8</td><td>2.8</td><td>5.1</td><td>2.4</td><td>virginica</td><td>Map(vectorType -> dense, length -> 4, values -> List(5.8, 2.8, 5.1, 2.4))</td></tr><tr><td>6.4</td><td>3.2</td><td>5.3</td><td>2.3</td><td>virginica</td><td>Map(vectorType -> dense, length -> 4, values -> List(6.4, 3.2, 5.3, 2.3))</td></tr><tr><td>6.5</td><td>3.0</td><td>5.5</td><td>1.8</td><td>virginica</td><td>Map(vectorType -> dense, length -> 4, values -> List(6.5, 3.0, 5.5, 1.8))</td></tr><tr><td>7.7</td><td>3.8</td><td>6.7</td><td>2.2</td><td>virginica</td><td>Map(vectorType -> dense, length -> 4, values -> List(7.7, 3.8, 6.7, 2.2))</td></tr><tr><td>7.7</td><td>2.6</td><td>6.9</td><td>2.3</td><td>virginica</td><td>Map(vectorType -> dense, length -> 4, values -> List(7.7, 2.6, 6.9, 2.3))</td></tr><tr><td>6.0</td><td>2.2</td><td>5.0</td><td>1.5</td><td>virginica</td><td>Map(vectorType -> dense, length -> 4, values -> List(6.0, 2.2, 5.0, 1.5))</td></tr><tr><td>6.9</td><td>3.2</td><td>5.7</td><td>2.3</td><td>virginica</td><td>Map(vectorType -> dense, length -> 4, values -> List(6.9, 3.2, 5.7, 2.3))</td></tr><tr><td>5.6</td><td>2.8</td><td>4.9</td><td>2.0</td><td>virginica</td><td>Map(vectorType -> dense, length -> 4, values -> List(5.6, 2.8, 4.9, 2.0))</td></tr><tr><td>7.7</td><td>2.8</td><td>6.7</td><td>2.0</td><td>virginica</td><td>Map(vectorType -> dense, length -> 4, values -> List(7.7, 2.8, 6.7, 2.0))</td></tr><tr><td>6.3</td><td>2.7</td><td>4.9</td><td>1.8</td><td>virginica</td><td>Map(vectorType -> dense, length -> 4, values -> List(6.3, 2.7, 4.9, 1.8))</td></tr><tr><td>6.7</td><td>3.3</td><td>5.7</td><td>2.1</td><td>virginica</td><td>Map(vectorType -> dense, length -> 4, values -> List(6.7, 3.3, 5.7, 2.1))</td></tr><tr><td>7.2</td><td>3.2</td><td>6.0</td><td>1.8</td><td>virginica</td><td>Map(vectorType -> dense, length -> 4, values -> List(7.2, 3.2, 6.0, 1.8))</td></tr><tr><td>6.2</td><td>2.8</td><td>4.8</td><td>1.8</td><td>virginica</td><td>Map(vectorType -> dense, length -> 4, values -> List(6.2, 2.8, 4.8, 1.8))</td></tr><tr><td>6.1</td><td>3.0</td><td>4.9</td><td>1.8</td><td>virginica</td><td>Map(vectorType -> dense, length -> 4, values -> List(6.1, 3.0, 4.9, 1.8))</td></tr><tr><td>6.4</td><td>2.8</td><td>5.6</td><td>2.1</td><td>virginica</td><td>Map(vectorType -> dense, length -> 4, values -> List(6.4, 2.8, 5.6, 2.1))</td></tr><tr><td>7.2</td><td>3.0</td><td>5.8</td><td>1.6</td><td>virginica</td><td>Map(vectorType -> dense, length -> 4, values -> List(7.2, 3.0, 5.8, 1.6))</td></tr><tr><td>7.4</td><td>2.8</td><td>6.1</td><td>1.9</td><td>virginica</td><td>Map(vectorType -> dense, length -> 4, values -> List(7.4, 2.8, 6.1, 1.9))</td></tr><tr><td>7.9</td><td>3.8</td><td>6.4</td><td>2.0</td><td>virginica</td><td>Map(vectorType -> dense, length -> 4, values -> List(7.9, 3.8, 6.4, 2.0))</td></tr><tr><td>6.4</td><td>2.8</td><td>5.6</td><td>2.2</td><td>virginica</td><td>Map(vectorType -> dense, length -> 4, values -> List(6.4, 2.8, 5.6, 2.2))</td></tr><tr><td>6.3</td><td>2.8</td><td>5.1</td><td>1.5</td><td>virginica</td><td>Map(vectorType -> dense, length -> 4, values -> List(6.3, 2.8, 5.1, 1.5))</td></tr><tr><td>6.1</td><td>2.6</td><td>5.6</td><td>1.4</td><td>virginica</td><td>Map(vectorType -> dense, length -> 4, values -> List(6.1, 2.6, 5.6, 1.4))</td></tr><tr><td>7.7</td><td>3.0</td><td>6.1</td><td>2.3</td><td>virginica</td><td>Map(vectorType -> dense, length -> 4, values -> List(7.7, 3.0, 6.1, 2.3))</td></tr><tr><td>6.3</td><td>3.4</td><td>5.6</td><td>2.4</td><td>virginica</td><td>Map(vectorType -> dense, length -> 4, values -> List(6.3, 3.4, 5.6, 2.4))</td></tr><tr><td>6.4</td><td>3.1</td><td>5.5</td><td>1.8</td><td>virginica</td><td>Map(vectorType -> dense, length -> 4, values -> List(6.4, 3.1, 5.5, 1.8))</td></tr><tr><td>6.0</td><td>3.0</td><td>4.8</td><td>1.8</td><td>virginica</td><td>Map(vectorType -> dense, length -> 4, values -> List(6.0, 3.0, 4.8, 1.8))</td></tr><tr><td>6.9</td><td>3.1</td><td>5.4</td><td>2.1</td><td>virginica</td><td>Map(vectorType -> dense, length -> 4, values -> List(6.9, 3.1, 5.4, 2.1))</td></tr><tr><td>6.7</td><td>3.1</td><td>5.6</td><td>2.4</td><td>virginica</td><td>Map(vectorType -> dense, length -> 4, values -> List(6.7, 3.1, 5.6, 2.4))</td></tr><tr><td>6.9</td><td>3.1</td><td>5.1</td><td>2.3</td><td>virginica</td><td>Map(vectorType -> dense, length -> 4, values -> List(6.9, 3.1, 5.1, 2.3))</td></tr><tr><td>5.8</td><td>2.7</td><td>5.1</td><td>1.9</td><td>virginica</td><td>Map(vectorType -> dense, length -> 4, values -> List(5.8, 2.7, 5.1, 1.9))</td></tr><tr><td>6.8</td><td>3.2</td><td>5.9</td><td>2.3</td><td>virginica</td><td>Map(vectorType -> dense, length -> 4, values -> List(6.8, 3.2, 5.9, 2.3))</td></tr><tr><td>6.7</td><td>3.3</td><td>5.7</td><td>2.5</td><td>virginica</td><td>Map(vectorType -> dense, length -> 4, values -> List(6.7, 3.3, 5.7, 2.5))</td></tr><tr><td>6.7</td><td>3.0</td><td>5.2</td><td>2.3</td><td>virginica</td><td>Map(vectorType -> dense, length -> 4, values -> List(6.7, 3.0, 5.2, 2.3))</td></tr><tr><td>6.3</td><td>2.5</td><td>5.0</td><td>1.9</td><td>virginica</td><td>Map(vectorType -> dense, length -> 4, values -> List(6.3, 2.5, 5.0, 1.9))</td></tr><tr><td>6.5</td><td>3.0</td><td>5.2</td><td>2.0</td><td>virginica</td><td>Map(vectorType -> dense, length -> 4, values -> List(6.5, 3.0, 5.2, 2.0))</td></tr><tr><td>6.2</td><td>3.4</td><td>5.4</td><td>2.3</td><td>virginica</td><td>Map(vectorType -> dense, length -> 4, values -> List(6.2, 3.4, 5.4, 2.3))</td></tr><tr><td>5.9</td><td>3.0</td><td>5.1</td><td>1.8</td><td>virginica</td><td>Map(vectorType -> dense, length -> 4, values -> List(5.9, 3.0, 5.1, 1.8))</td></tr></tbody></table></div>"
      ]
     },
     "metadata": {
      "application/vnd.databricks.v1+output": {
       "addedWidgets": {},
       "aggData": [],
       "aggError": "",
       "aggOverflow": false,
       "aggSchema": [],
       "aggSeriesLimitReached": false,
       "aggType": "",
       "arguments": {},
       "columnCustomDisplayInfos": {},
       "data": [
        [
         5.1,
         3.5,
         1.4,
         0.2,
         "setosa",
         {
          "length": 4,
          "values": [
           5.1,
           3.5,
           1.4,
           0.2
          ],
          "vectorType": "dense"
         }
        ],
        [
         4.9,
         3,
         1.4,
         0.2,
         "setosa",
         {
          "length": 4,
          "values": [
           4.9,
           3,
           1.4,
           0.2
          ],
          "vectorType": "dense"
         }
        ],
        [
         4.7,
         3.2,
         1.3,
         0.2,
         "setosa",
         {
          "length": 4,
          "values": [
           4.7,
           3.2,
           1.3,
           0.2
          ],
          "vectorType": "dense"
         }
        ],
        [
         4.6,
         3.1,
         1.5,
         0.2,
         "setosa",
         {
          "length": 4,
          "values": [
           4.6,
           3.1,
           1.5,
           0.2
          ],
          "vectorType": "dense"
         }
        ],
        [
         5,
         3.6,
         1.4,
         0.2,
         "setosa",
         {
          "length": 4,
          "values": [
           5,
           3.6,
           1.4,
           0.2
          ],
          "vectorType": "dense"
         }
        ],
        [
         5.4,
         3.9,
         1.7,
         0.4,
         "setosa",
         {
          "length": 4,
          "values": [
           5.4,
           3.9,
           1.7,
           0.4
          ],
          "vectorType": "dense"
         }
        ],
        [
         4.6,
         3.4,
         1.4,
         0.3,
         "setosa",
         {
          "length": 4,
          "values": [
           4.6,
           3.4,
           1.4,
           0.3
          ],
          "vectorType": "dense"
         }
        ],
        [
         5,
         3.4,
         1.5,
         0.2,
         "setosa",
         {
          "length": 4,
          "values": [
           5,
           3.4,
           1.5,
           0.2
          ],
          "vectorType": "dense"
         }
        ],
        [
         4.4,
         2.9,
         1.4,
         0.2,
         "setosa",
         {
          "length": 4,
          "values": [
           4.4,
           2.9,
           1.4,
           0.2
          ],
          "vectorType": "dense"
         }
        ],
        [
         4.9,
         3.1,
         1.5,
         0.1,
         "setosa",
         {
          "length": 4,
          "values": [
           4.9,
           3.1,
           1.5,
           0.1
          ],
          "vectorType": "dense"
         }
        ],
        [
         5.4,
         3.7,
         1.5,
         0.2,
         "setosa",
         {
          "length": 4,
          "values": [
           5.4,
           3.7,
           1.5,
           0.2
          ],
          "vectorType": "dense"
         }
        ],
        [
         4.8,
         3.4,
         1.6,
         0.2,
         "setosa",
         {
          "length": 4,
          "values": [
           4.8,
           3.4,
           1.6,
           0.2
          ],
          "vectorType": "dense"
         }
        ],
        [
         4.8,
         3,
         1.4,
         0.1,
         "setosa",
         {
          "length": 4,
          "values": [
           4.8,
           3,
           1.4,
           0.1
          ],
          "vectorType": "dense"
         }
        ],
        [
         4.3,
         3,
         1.1,
         0.1,
         "setosa",
         {
          "length": 4,
          "values": [
           4.3,
           3,
           1.1,
           0.1
          ],
          "vectorType": "dense"
         }
        ],
        [
         5.8,
         4,
         1.2,
         0.2,
         "setosa",
         {
          "length": 4,
          "values": [
           5.8,
           4,
           1.2,
           0.2
          ],
          "vectorType": "dense"
         }
        ],
        [
         5.7,
         4.4,
         1.5,
         0.4,
         "setosa",
         {
          "length": 4,
          "values": [
           5.7,
           4.4,
           1.5,
           0.4
          ],
          "vectorType": "dense"
         }
        ],
        [
         5.4,
         3.9,
         1.3,
         0.4,
         "setosa",
         {
          "length": 4,
          "values": [
           5.4,
           3.9,
           1.3,
           0.4
          ],
          "vectorType": "dense"
         }
        ],
        [
         5.1,
         3.5,
         1.4,
         0.3,
         "setosa",
         {
          "length": 4,
          "values": [
           5.1,
           3.5,
           1.4,
           0.3
          ],
          "vectorType": "dense"
         }
        ],
        [
         5.7,
         3.8,
         1.7,
         0.3,
         "setosa",
         {
          "length": 4,
          "values": [
           5.7,
           3.8,
           1.7,
           0.3
          ],
          "vectorType": "dense"
         }
        ],
        [
         5.1,
         3.8,
         1.5,
         0.3,
         "setosa",
         {
          "length": 4,
          "values": [
           5.1,
           3.8,
           1.5,
           0.3
          ],
          "vectorType": "dense"
         }
        ],
        [
         5.4,
         3.4,
         1.7,
         0.2,
         "setosa",
         {
          "length": 4,
          "values": [
           5.4,
           3.4,
           1.7,
           0.2
          ],
          "vectorType": "dense"
         }
        ],
        [
         5.1,
         3.7,
         1.5,
         0.4,
         "setosa",
         {
          "length": 4,
          "values": [
           5.1,
           3.7,
           1.5,
           0.4
          ],
          "vectorType": "dense"
         }
        ],
        [
         4.6,
         3.6,
         1,
         0.2,
         "setosa",
         {
          "length": 4,
          "values": [
           4.6,
           3.6,
           1,
           0.2
          ],
          "vectorType": "dense"
         }
        ],
        [
         5.1,
         3.3,
         1.7,
         0.5,
         "setosa",
         {
          "length": 4,
          "values": [
           5.1,
           3.3,
           1.7,
           0.5
          ],
          "vectorType": "dense"
         }
        ],
        [
         4.8,
         3.4,
         1.9,
         0.2,
         "setosa",
         {
          "length": 4,
          "values": [
           4.8,
           3.4,
           1.9,
           0.2
          ],
          "vectorType": "dense"
         }
        ],
        [
         5,
         3,
         1.6,
         0.2,
         "setosa",
         {
          "length": 4,
          "values": [
           5,
           3,
           1.6,
           0.2
          ],
          "vectorType": "dense"
         }
        ],
        [
         5,
         3.4,
         1.6,
         0.4,
         "setosa",
         {
          "length": 4,
          "values": [
           5,
           3.4,
           1.6,
           0.4
          ],
          "vectorType": "dense"
         }
        ],
        [
         5.2,
         3.5,
         1.5,
         0.2,
         "setosa",
         {
          "length": 4,
          "values": [
           5.2,
           3.5,
           1.5,
           0.2
          ],
          "vectorType": "dense"
         }
        ],
        [
         5.2,
         3.4,
         1.4,
         0.2,
         "setosa",
         {
          "length": 4,
          "values": [
           5.2,
           3.4,
           1.4,
           0.2
          ],
          "vectorType": "dense"
         }
        ],
        [
         4.7,
         3.2,
         1.6,
         0.2,
         "setosa",
         {
          "length": 4,
          "values": [
           4.7,
           3.2,
           1.6,
           0.2
          ],
          "vectorType": "dense"
         }
        ],
        [
         4.8,
         3.1,
         1.6,
         0.2,
         "setosa",
         {
          "length": 4,
          "values": [
           4.8,
           3.1,
           1.6,
           0.2
          ],
          "vectorType": "dense"
         }
        ],
        [
         5.4,
         3.4,
         1.5,
         0.4,
         "setosa",
         {
          "length": 4,
          "values": [
           5.4,
           3.4,
           1.5,
           0.4
          ],
          "vectorType": "dense"
         }
        ],
        [
         5.2,
         4.1,
         1.5,
         0.1,
         "setosa",
         {
          "length": 4,
          "values": [
           5.2,
           4.1,
           1.5,
           0.1
          ],
          "vectorType": "dense"
         }
        ],
        [
         5.5,
         4.2,
         1.4,
         0.2,
         "setosa",
         {
          "length": 4,
          "values": [
           5.5,
           4.2,
           1.4,
           0.2
          ],
          "vectorType": "dense"
         }
        ],
        [
         4.9,
         3.1,
         1.5,
         0.1,
         "setosa",
         {
          "length": 4,
          "values": [
           4.9,
           3.1,
           1.5,
           0.1
          ],
          "vectorType": "dense"
         }
        ],
        [
         5,
         3.2,
         1.2,
         0.2,
         "setosa",
         {
          "length": 4,
          "values": [
           5,
           3.2,
           1.2,
           0.2
          ],
          "vectorType": "dense"
         }
        ],
        [
         5.5,
         3.5,
         1.3,
         0.2,
         "setosa",
         {
          "length": 4,
          "values": [
           5.5,
           3.5,
           1.3,
           0.2
          ],
          "vectorType": "dense"
         }
        ],
        [
         4.9,
         3.1,
         1.5,
         0.1,
         "setosa",
         {
          "length": 4,
          "values": [
           4.9,
           3.1,
           1.5,
           0.1
          ],
          "vectorType": "dense"
         }
        ],
        [
         4.4,
         3,
         1.3,
         0.2,
         "setosa",
         {
          "length": 4,
          "values": [
           4.4,
           3,
           1.3,
           0.2
          ],
          "vectorType": "dense"
         }
        ],
        [
         5.1,
         3.4,
         1.5,
         0.2,
         "setosa",
         {
          "length": 4,
          "values": [
           5.1,
           3.4,
           1.5,
           0.2
          ],
          "vectorType": "dense"
         }
        ],
        [
         5,
         3.5,
         1.3,
         0.3,
         "setosa",
         {
          "length": 4,
          "values": [
           5,
           3.5,
           1.3,
           0.3
          ],
          "vectorType": "dense"
         }
        ],
        [
         4.5,
         2.3,
         1.3,
         0.3,
         "setosa",
         {
          "length": 4,
          "values": [
           4.5,
           2.3,
           1.3,
           0.3
          ],
          "vectorType": "dense"
         }
        ],
        [
         4.4,
         3.2,
         1.3,
         0.2,
         "setosa",
         {
          "length": 4,
          "values": [
           4.4,
           3.2,
           1.3,
           0.2
          ],
          "vectorType": "dense"
         }
        ],
        [
         5,
         3.5,
         1.6,
         0.6,
         "setosa",
         {
          "length": 4,
          "values": [
           5,
           3.5,
           1.6,
           0.6
          ],
          "vectorType": "dense"
         }
        ],
        [
         5.1,
         3.8,
         1.9,
         0.4,
         "setosa",
         {
          "length": 4,
          "values": [
           5.1,
           3.8,
           1.9,
           0.4
          ],
          "vectorType": "dense"
         }
        ],
        [
         4.8,
         3,
         1.4,
         0.3,
         "setosa",
         {
          "length": 4,
          "values": [
           4.8,
           3,
           1.4,
           0.3
          ],
          "vectorType": "dense"
         }
        ],
        [
         5.1,
         3.8,
         1.6,
         0.2,
         "setosa",
         {
          "length": 4,
          "values": [
           5.1,
           3.8,
           1.6,
           0.2
          ],
          "vectorType": "dense"
         }
        ],
        [
         4.6,
         3.2,
         1.4,
         0.2,
         "setosa",
         {
          "length": 4,
          "values": [
           4.6,
           3.2,
           1.4,
           0.2
          ],
          "vectorType": "dense"
         }
        ],
        [
         5.3,
         3.7,
         1.5,
         0.2,
         "setosa",
         {
          "length": 4,
          "values": [
           5.3,
           3.7,
           1.5,
           0.2
          ],
          "vectorType": "dense"
         }
        ],
        [
         5,
         3.3,
         1.4,
         0.2,
         "setosa",
         {
          "length": 4,
          "values": [
           5,
           3.3,
           1.4,
           0.2
          ],
          "vectorType": "dense"
         }
        ],
        [
         7,
         3.2,
         4.7,
         1.4,
         "versicolor",
         {
          "length": 4,
          "values": [
           7,
           3.2,
           4.7,
           1.4
          ],
          "vectorType": "dense"
         }
        ],
        [
         6.4,
         3.2,
         4.5,
         1.5,
         "versicolor",
         {
          "length": 4,
          "values": [
           6.4,
           3.2,
           4.5,
           1.5
          ],
          "vectorType": "dense"
         }
        ],
        [
         6.9,
         3.1,
         4.9,
         1.5,
         "versicolor",
         {
          "length": 4,
          "values": [
           6.9,
           3.1,
           4.9,
           1.5
          ],
          "vectorType": "dense"
         }
        ],
        [
         5.5,
         2.3,
         4,
         1.3,
         "versicolor",
         {
          "length": 4,
          "values": [
           5.5,
           2.3,
           4,
           1.3
          ],
          "vectorType": "dense"
         }
        ],
        [
         6.5,
         2.8,
         4.6,
         1.5,
         "versicolor",
         {
          "length": 4,
          "values": [
           6.5,
           2.8,
           4.6,
           1.5
          ],
          "vectorType": "dense"
         }
        ],
        [
         5.7,
         2.8,
         4.5,
         1.3,
         "versicolor",
         {
          "length": 4,
          "values": [
           5.7,
           2.8,
           4.5,
           1.3
          ],
          "vectorType": "dense"
         }
        ],
        [
         6.3,
         3.3,
         4.7,
         1.6,
         "versicolor",
         {
          "length": 4,
          "values": [
           6.3,
           3.3,
           4.7,
           1.6
          ],
          "vectorType": "dense"
         }
        ],
        [
         4.9,
         2.4,
         3.3,
         1,
         "versicolor",
         {
          "length": 4,
          "values": [
           4.9,
           2.4,
           3.3,
           1
          ],
          "vectorType": "dense"
         }
        ],
        [
         6.6,
         2.9,
         4.6,
         1.3,
         "versicolor",
         {
          "length": 4,
          "values": [
           6.6,
           2.9,
           4.6,
           1.3
          ],
          "vectorType": "dense"
         }
        ],
        [
         5.2,
         2.7,
         3.9,
         1.4,
         "versicolor",
         {
          "length": 4,
          "values": [
           5.2,
           2.7,
           3.9,
           1.4
          ],
          "vectorType": "dense"
         }
        ],
        [
         5,
         2,
         3.5,
         1,
         "versicolor",
         {
          "length": 4,
          "values": [
           5,
           2,
           3.5,
           1
          ],
          "vectorType": "dense"
         }
        ],
        [
         5.9,
         3,
         4.2,
         1.5,
         "versicolor",
         {
          "length": 4,
          "values": [
           5.9,
           3,
           4.2,
           1.5
          ],
          "vectorType": "dense"
         }
        ],
        [
         6,
         2.2,
         4,
         1,
         "versicolor",
         {
          "length": 4,
          "values": [
           6,
           2.2,
           4,
           1
          ],
          "vectorType": "dense"
         }
        ],
        [
         6.1,
         2.9,
         4.7,
         1.4,
         "versicolor",
         {
          "length": 4,
          "values": [
           6.1,
           2.9,
           4.7,
           1.4
          ],
          "vectorType": "dense"
         }
        ],
        [
         5.6,
         2.9,
         3.6,
         1.3,
         "versicolor",
         {
          "length": 4,
          "values": [
           5.6,
           2.9,
           3.6,
           1.3
          ],
          "vectorType": "dense"
         }
        ],
        [
         6.7,
         3.1,
         4.4,
         1.4,
         "versicolor",
         {
          "length": 4,
          "values": [
           6.7,
           3.1,
           4.4,
           1.4
          ],
          "vectorType": "dense"
         }
        ],
        [
         5.6,
         3,
         4.5,
         1.5,
         "versicolor",
         {
          "length": 4,
          "values": [
           5.6,
           3,
           4.5,
           1.5
          ],
          "vectorType": "dense"
         }
        ],
        [
         5.8,
         2.7,
         4.1,
         1,
         "versicolor",
         {
          "length": 4,
          "values": [
           5.8,
           2.7,
           4.1,
           1
          ],
          "vectorType": "dense"
         }
        ],
        [
         6.2,
         2.2,
         4.5,
         1.5,
         "versicolor",
         {
          "length": 4,
          "values": [
           6.2,
           2.2,
           4.5,
           1.5
          ],
          "vectorType": "dense"
         }
        ],
        [
         5.6,
         2.5,
         3.9,
         1.1,
         "versicolor",
         {
          "length": 4,
          "values": [
           5.6,
           2.5,
           3.9,
           1.1
          ],
          "vectorType": "dense"
         }
        ],
        [
         5.9,
         3.2,
         4.8,
         1.8,
         "versicolor",
         {
          "length": 4,
          "values": [
           5.9,
           3.2,
           4.8,
           1.8
          ],
          "vectorType": "dense"
         }
        ],
        [
         6.1,
         2.8,
         4,
         1.3,
         "versicolor",
         {
          "length": 4,
          "values": [
           6.1,
           2.8,
           4,
           1.3
          ],
          "vectorType": "dense"
         }
        ],
        [
         6.3,
         2.5,
         4.9,
         1.5,
         "versicolor",
         {
          "length": 4,
          "values": [
           6.3,
           2.5,
           4.9,
           1.5
          ],
          "vectorType": "dense"
         }
        ],
        [
         6.1,
         2.8,
         4.7,
         1.2,
         "versicolor",
         {
          "length": 4,
          "values": [
           6.1,
           2.8,
           4.7,
           1.2
          ],
          "vectorType": "dense"
         }
        ],
        [
         6.4,
         2.9,
         4.3,
         1.3,
         "versicolor",
         {
          "length": 4,
          "values": [
           6.4,
           2.9,
           4.3,
           1.3
          ],
          "vectorType": "dense"
         }
        ],
        [
         6.6,
         3,
         4.4,
         1.4,
         "versicolor",
         {
          "length": 4,
          "values": [
           6.6,
           3,
           4.4,
           1.4
          ],
          "vectorType": "dense"
         }
        ],
        [
         6.8,
         2.8,
         4.8,
         1.4,
         "versicolor",
         {
          "length": 4,
          "values": [
           6.8,
           2.8,
           4.8,
           1.4
          ],
          "vectorType": "dense"
         }
        ],
        [
         6.7,
         3,
         5,
         1.7,
         "versicolor",
         {
          "length": 4,
          "values": [
           6.7,
           3,
           5,
           1.7
          ],
          "vectorType": "dense"
         }
        ],
        [
         6,
         2.9,
         4.5,
         1.5,
         "versicolor",
         {
          "length": 4,
          "values": [
           6,
           2.9,
           4.5,
           1.5
          ],
          "vectorType": "dense"
         }
        ],
        [
         5.7,
         2.6,
         3.5,
         1,
         "versicolor",
         {
          "length": 4,
          "values": [
           5.7,
           2.6,
           3.5,
           1
          ],
          "vectorType": "dense"
         }
        ],
        [
         5.5,
         2.4,
         3.8,
         1.1,
         "versicolor",
         {
          "length": 4,
          "values": [
           5.5,
           2.4,
           3.8,
           1.1
          ],
          "vectorType": "dense"
         }
        ],
        [
         5.5,
         2.4,
         3.7,
         1,
         "versicolor",
         {
          "length": 4,
          "values": [
           5.5,
           2.4,
           3.7,
           1
          ],
          "vectorType": "dense"
         }
        ],
        [
         5.8,
         2.7,
         3.9,
         1.2,
         "versicolor",
         {
          "length": 4,
          "values": [
           5.8,
           2.7,
           3.9,
           1.2
          ],
          "vectorType": "dense"
         }
        ],
        [
         6,
         2.7,
         5.1,
         1.6,
         "versicolor",
         {
          "length": 4,
          "values": [
           6,
           2.7,
           5.1,
           1.6
          ],
          "vectorType": "dense"
         }
        ],
        [
         5.4,
         3,
         4.5,
         1.5,
         "versicolor",
         {
          "length": 4,
          "values": [
           5.4,
           3,
           4.5,
           1.5
          ],
          "vectorType": "dense"
         }
        ],
        [
         6,
         3.4,
         4.5,
         1.6,
         "versicolor",
         {
          "length": 4,
          "values": [
           6,
           3.4,
           4.5,
           1.6
          ],
          "vectorType": "dense"
         }
        ],
        [
         6.7,
         3.1,
         4.7,
         1.5,
         "versicolor",
         {
          "length": 4,
          "values": [
           6.7,
           3.1,
           4.7,
           1.5
          ],
          "vectorType": "dense"
         }
        ],
        [
         6.3,
         2.3,
         4.4,
         1.3,
         "versicolor",
         {
          "length": 4,
          "values": [
           6.3,
           2.3,
           4.4,
           1.3
          ],
          "vectorType": "dense"
         }
        ],
        [
         5.6,
         3,
         4.1,
         1.3,
         "versicolor",
         {
          "length": 4,
          "values": [
           5.6,
           3,
           4.1,
           1.3
          ],
          "vectorType": "dense"
         }
        ],
        [
         5.5,
         2.5,
         4,
         1.3,
         "versicolor",
         {
          "length": 4,
          "values": [
           5.5,
           2.5,
           4,
           1.3
          ],
          "vectorType": "dense"
         }
        ],
        [
         5.5,
         2.6,
         4.4,
         1.2,
         "versicolor",
         {
          "length": 4,
          "values": [
           5.5,
           2.6,
           4.4,
           1.2
          ],
          "vectorType": "dense"
         }
        ],
        [
         6.1,
         3,
         4.6,
         1.4,
         "versicolor",
         {
          "length": 4,
          "values": [
           6.1,
           3,
           4.6,
           1.4
          ],
          "vectorType": "dense"
         }
        ],
        [
         5.8,
         2.6,
         4,
         1.2,
         "versicolor",
         {
          "length": 4,
          "values": [
           5.8,
           2.6,
           4,
           1.2
          ],
          "vectorType": "dense"
         }
        ],
        [
         5,
         2.3,
         3.3,
         1,
         "versicolor",
         {
          "length": 4,
          "values": [
           5,
           2.3,
           3.3,
           1
          ],
          "vectorType": "dense"
         }
        ],
        [
         5.6,
         2.7,
         4.2,
         1.3,
         "versicolor",
         {
          "length": 4,
          "values": [
           5.6,
           2.7,
           4.2,
           1.3
          ],
          "vectorType": "dense"
         }
        ],
        [
         5.7,
         3,
         4.2,
         1.2,
         "versicolor",
         {
          "length": 4,
          "values": [
           5.7,
           3,
           4.2,
           1.2
          ],
          "vectorType": "dense"
         }
        ],
        [
         5.7,
         2.9,
         4.2,
         1.3,
         "versicolor",
         {
          "length": 4,
          "values": [
           5.7,
           2.9,
           4.2,
           1.3
          ],
          "vectorType": "dense"
         }
        ],
        [
         6.2,
         2.9,
         4.3,
         1.3,
         "versicolor",
         {
          "length": 4,
          "values": [
           6.2,
           2.9,
           4.3,
           1.3
          ],
          "vectorType": "dense"
         }
        ],
        [
         5.1,
         2.5,
         3,
         1.1,
         "versicolor",
         {
          "length": 4,
          "values": [
           5.1,
           2.5,
           3,
           1.1
          ],
          "vectorType": "dense"
         }
        ],
        [
         5.7,
         2.8,
         4.1,
         1.3,
         "versicolor",
         {
          "length": 4,
          "values": [
           5.7,
           2.8,
           4.1,
           1.3
          ],
          "vectorType": "dense"
         }
        ],
        [
         6.3,
         3.3,
         6,
         2.5,
         "virginica",
         {
          "length": 4,
          "values": [
           6.3,
           3.3,
           6,
           2.5
          ],
          "vectorType": "dense"
         }
        ],
        [
         5.8,
         2.7,
         5.1,
         1.9,
         "virginica",
         {
          "length": 4,
          "values": [
           5.8,
           2.7,
           5.1,
           1.9
          ],
          "vectorType": "dense"
         }
        ],
        [
         7.1,
         3,
         5.9,
         2.1,
         "virginica",
         {
          "length": 4,
          "values": [
           7.1,
           3,
           5.9,
           2.1
          ],
          "vectorType": "dense"
         }
        ],
        [
         6.3,
         2.9,
         5.6,
         1.8,
         "virginica",
         {
          "length": 4,
          "values": [
           6.3,
           2.9,
           5.6,
           1.8
          ],
          "vectorType": "dense"
         }
        ],
        [
         6.5,
         3,
         5.8,
         2.2,
         "virginica",
         {
          "length": 4,
          "values": [
           6.5,
           3,
           5.8,
           2.2
          ],
          "vectorType": "dense"
         }
        ],
        [
         7.6,
         3,
         6.6,
         2.1,
         "virginica",
         {
          "length": 4,
          "values": [
           7.6,
           3,
           6.6,
           2.1
          ],
          "vectorType": "dense"
         }
        ],
        [
         4.9,
         2.5,
         4.5,
         1.7,
         "virginica",
         {
          "length": 4,
          "values": [
           4.9,
           2.5,
           4.5,
           1.7
          ],
          "vectorType": "dense"
         }
        ],
        [
         7.3,
         2.9,
         6.3,
         1.8,
         "virginica",
         {
          "length": 4,
          "values": [
           7.3,
           2.9,
           6.3,
           1.8
          ],
          "vectorType": "dense"
         }
        ],
        [
         6.7,
         2.5,
         5.8,
         1.8,
         "virginica",
         {
          "length": 4,
          "values": [
           6.7,
           2.5,
           5.8,
           1.8
          ],
          "vectorType": "dense"
         }
        ],
        [
         7.2,
         3.6,
         6.1,
         2.5,
         "virginica",
         {
          "length": 4,
          "values": [
           7.2,
           3.6,
           6.1,
           2.5
          ],
          "vectorType": "dense"
         }
        ],
        [
         6.5,
         3.2,
         5.1,
         2,
         "virginica",
         {
          "length": 4,
          "values": [
           6.5,
           3.2,
           5.1,
           2
          ],
          "vectorType": "dense"
         }
        ],
        [
         6.4,
         2.7,
         5.3,
         1.9,
         "virginica",
         {
          "length": 4,
          "values": [
           6.4,
           2.7,
           5.3,
           1.9
          ],
          "vectorType": "dense"
         }
        ],
        [
         6.8,
         3,
         5.5,
         2.1,
         "virginica",
         {
          "length": 4,
          "values": [
           6.8,
           3,
           5.5,
           2.1
          ],
          "vectorType": "dense"
         }
        ],
        [
         5.7,
         2.5,
         5,
         2,
         "virginica",
         {
          "length": 4,
          "values": [
           5.7,
           2.5,
           5,
           2
          ],
          "vectorType": "dense"
         }
        ],
        [
         5.8,
         2.8,
         5.1,
         2.4,
         "virginica",
         {
          "length": 4,
          "values": [
           5.8,
           2.8,
           5.1,
           2.4
          ],
          "vectorType": "dense"
         }
        ],
        [
         6.4,
         3.2,
         5.3,
         2.3,
         "virginica",
         {
          "length": 4,
          "values": [
           6.4,
           3.2,
           5.3,
           2.3
          ],
          "vectorType": "dense"
         }
        ],
        [
         6.5,
         3,
         5.5,
         1.8,
         "virginica",
         {
          "length": 4,
          "values": [
           6.5,
           3,
           5.5,
           1.8
          ],
          "vectorType": "dense"
         }
        ],
        [
         7.7,
         3.8,
         6.7,
         2.2,
         "virginica",
         {
          "length": 4,
          "values": [
           7.7,
           3.8,
           6.7,
           2.2
          ],
          "vectorType": "dense"
         }
        ],
        [
         7.7,
         2.6,
         6.9,
         2.3,
         "virginica",
         {
          "length": 4,
          "values": [
           7.7,
           2.6,
           6.9,
           2.3
          ],
          "vectorType": "dense"
         }
        ],
        [
         6,
         2.2,
         5,
         1.5,
         "virginica",
         {
          "length": 4,
          "values": [
           6,
           2.2,
           5,
           1.5
          ],
          "vectorType": "dense"
         }
        ],
        [
         6.9,
         3.2,
         5.7,
         2.3,
         "virginica",
         {
          "length": 4,
          "values": [
           6.9,
           3.2,
           5.7,
           2.3
          ],
          "vectorType": "dense"
         }
        ],
        [
         5.6,
         2.8,
         4.9,
         2,
         "virginica",
         {
          "length": 4,
          "values": [
           5.6,
           2.8,
           4.9,
           2
          ],
          "vectorType": "dense"
         }
        ],
        [
         7.7,
         2.8,
         6.7,
         2,
         "virginica",
         {
          "length": 4,
          "values": [
           7.7,
           2.8,
           6.7,
           2
          ],
          "vectorType": "dense"
         }
        ],
        [
         6.3,
         2.7,
         4.9,
         1.8,
         "virginica",
         {
          "length": 4,
          "values": [
           6.3,
           2.7,
           4.9,
           1.8
          ],
          "vectorType": "dense"
         }
        ],
        [
         6.7,
         3.3,
         5.7,
         2.1,
         "virginica",
         {
          "length": 4,
          "values": [
           6.7,
           3.3,
           5.7,
           2.1
          ],
          "vectorType": "dense"
         }
        ],
        [
         7.2,
         3.2,
         6,
         1.8,
         "virginica",
         {
          "length": 4,
          "values": [
           7.2,
           3.2,
           6,
           1.8
          ],
          "vectorType": "dense"
         }
        ],
        [
         6.2,
         2.8,
         4.8,
         1.8,
         "virginica",
         {
          "length": 4,
          "values": [
           6.2,
           2.8,
           4.8,
           1.8
          ],
          "vectorType": "dense"
         }
        ],
        [
         6.1,
         3,
         4.9,
         1.8,
         "virginica",
         {
          "length": 4,
          "values": [
           6.1,
           3,
           4.9,
           1.8
          ],
          "vectorType": "dense"
         }
        ],
        [
         6.4,
         2.8,
         5.6,
         2.1,
         "virginica",
         {
          "length": 4,
          "values": [
           6.4,
           2.8,
           5.6,
           2.1
          ],
          "vectorType": "dense"
         }
        ],
        [
         7.2,
         3,
         5.8,
         1.6,
         "virginica",
         {
          "length": 4,
          "values": [
           7.2,
           3,
           5.8,
           1.6
          ],
          "vectorType": "dense"
         }
        ],
        [
         7.4,
         2.8,
         6.1,
         1.9,
         "virginica",
         {
          "length": 4,
          "values": [
           7.4,
           2.8,
           6.1,
           1.9
          ],
          "vectorType": "dense"
         }
        ],
        [
         7.9,
         3.8,
         6.4,
         2,
         "virginica",
         {
          "length": 4,
          "values": [
           7.9,
           3.8,
           6.4,
           2
          ],
          "vectorType": "dense"
         }
        ],
        [
         6.4,
         2.8,
         5.6,
         2.2,
         "virginica",
         {
          "length": 4,
          "values": [
           6.4,
           2.8,
           5.6,
           2.2
          ],
          "vectorType": "dense"
         }
        ],
        [
         6.3,
         2.8,
         5.1,
         1.5,
         "virginica",
         {
          "length": 4,
          "values": [
           6.3,
           2.8,
           5.1,
           1.5
          ],
          "vectorType": "dense"
         }
        ],
        [
         6.1,
         2.6,
         5.6,
         1.4,
         "virginica",
         {
          "length": 4,
          "values": [
           6.1,
           2.6,
           5.6,
           1.4
          ],
          "vectorType": "dense"
         }
        ],
        [
         7.7,
         3,
         6.1,
         2.3,
         "virginica",
         {
          "length": 4,
          "values": [
           7.7,
           3,
           6.1,
           2.3
          ],
          "vectorType": "dense"
         }
        ],
        [
         6.3,
         3.4,
         5.6,
         2.4,
         "virginica",
         {
          "length": 4,
          "values": [
           6.3,
           3.4,
           5.6,
           2.4
          ],
          "vectorType": "dense"
         }
        ],
        [
         6.4,
         3.1,
         5.5,
         1.8,
         "virginica",
         {
          "length": 4,
          "values": [
           6.4,
           3.1,
           5.5,
           1.8
          ],
          "vectorType": "dense"
         }
        ],
        [
         6,
         3,
         4.8,
         1.8,
         "virginica",
         {
          "length": 4,
          "values": [
           6,
           3,
           4.8,
           1.8
          ],
          "vectorType": "dense"
         }
        ],
        [
         6.9,
         3.1,
         5.4,
         2.1,
         "virginica",
         {
          "length": 4,
          "values": [
           6.9,
           3.1,
           5.4,
           2.1
          ],
          "vectorType": "dense"
         }
        ],
        [
         6.7,
         3.1,
         5.6,
         2.4,
         "virginica",
         {
          "length": 4,
          "values": [
           6.7,
           3.1,
           5.6,
           2.4
          ],
          "vectorType": "dense"
         }
        ],
        [
         6.9,
         3.1,
         5.1,
         2.3,
         "virginica",
         {
          "length": 4,
          "values": [
           6.9,
           3.1,
           5.1,
           2.3
          ],
          "vectorType": "dense"
         }
        ],
        [
         5.8,
         2.7,
         5.1,
         1.9,
         "virginica",
         {
          "length": 4,
          "values": [
           5.8,
           2.7,
           5.1,
           1.9
          ],
          "vectorType": "dense"
         }
        ],
        [
         6.8,
         3.2,
         5.9,
         2.3,
         "virginica",
         {
          "length": 4,
          "values": [
           6.8,
           3.2,
           5.9,
           2.3
          ],
          "vectorType": "dense"
         }
        ],
        [
         6.7,
         3.3,
         5.7,
         2.5,
         "virginica",
         {
          "length": 4,
          "values": [
           6.7,
           3.3,
           5.7,
           2.5
          ],
          "vectorType": "dense"
         }
        ],
        [
         6.7,
         3,
         5.2,
         2.3,
         "virginica",
         {
          "length": 4,
          "values": [
           6.7,
           3,
           5.2,
           2.3
          ],
          "vectorType": "dense"
         }
        ],
        [
         6.3,
         2.5,
         5,
         1.9,
         "virginica",
         {
          "length": 4,
          "values": [
           6.3,
           2.5,
           5,
           1.9
          ],
          "vectorType": "dense"
         }
        ],
        [
         6.5,
         3,
         5.2,
         2,
         "virginica",
         {
          "length": 4,
          "values": [
           6.5,
           3,
           5.2,
           2
          ],
          "vectorType": "dense"
         }
        ],
        [
         6.2,
         3.4,
         5.4,
         2.3,
         "virginica",
         {
          "length": 4,
          "values": [
           6.2,
           3.4,
           5.4,
           2.3
          ],
          "vectorType": "dense"
         }
        ],
        [
         5.9,
         3,
         5.1,
         1.8,
         "virginica",
         {
          "length": 4,
          "values": [
           5.9,
           3,
           5.1,
           1.8
          ],
          "vectorType": "dense"
         }
        ]
       ],
       "datasetInfos": [],
       "dbfsResultPath": null,
       "isJsonSchema": true,
       "overflow": false,
       "plotOptions": {
        "customPlotOptions": {},
        "displayType": "table",
        "pivotAggregation": null,
        "pivotColumns": null,
        "xColumns": null,
        "yColumns": null
       },
       "removedWidgets": [],
       "schema": [
        {
         "metadata": "{}",
         "name": "sepal_length",
         "type": "\"double\""
        },
        {
         "metadata": "{}",
         "name": "sepal_width",
         "type": "\"double\""
        },
        {
         "metadata": "{}",
         "name": "petal_length",
         "type": "\"double\""
        },
        {
         "metadata": "{}",
         "name": "petal_width",
         "type": "\"double\""
        },
        {
         "metadata": "{}",
         "name": "species",
         "type": "\"string\""
        },
        {
         "metadata": "{\"ml_attr\":{\"attrs\":{\"numeric\":[{\"idx\":0,\"name\":\"sepal_length\"},{\"idx\":1,\"name\":\"sepal_width\"},{\"idx\":2,\"name\":\"petal_length\"},{\"idx\":3,\"name\":\"petal_width\"}]},\"num_attrs\":4}}",
         "name": "features",
         "type": "{\"type\":\"udt\",\"class\":\"org.apache.spark.ml.linalg.VectorUDT\",\"pyClass\":\"pyspark.ml.linalg.VectorUDT\",\"sqlType\":{\"type\":\"struct\",\"fields\":[{\"name\":\"type\",\"type\":\"byte\",\"nullable\":false,\"metadata\":{}},{\"name\":\"size\",\"type\":\"integer\",\"nullable\":true,\"metadata\":{}},{\"name\":\"indices\",\"type\":{\"type\":\"array\",\"elementType\":\"integer\",\"containsNull\":false},\"nullable\":true,\"metadata\":{}},{\"name\":\"values\",\"type\":{\"type\":\"array\",\"elementType\":\"double\",\"containsNull\":false},\"nullable\":true,\"metadata\":{}}]}}"
        }
       ],
       "type": "table"
      }
     },
     "output_type": "display_data"
    }
   ],
   "source": [
    "display(final_data)"
   ]
  },
  {
   "cell_type": "code",
   "execution_count": 0,
   "metadata": {
    "application/vnd.databricks.v1+cell": {
     "inputWidgets": {},
     "nuid": "12191e41-0c3c-4636-8607-5770b63e4b20",
     "showTitle": false,
     "title": ""
    }
   },
   "outputs": [
    {
     "data": {
      "text/html": [
       "<style scoped>\n",
       "  .ansiout {\n",
       "    display: block;\n",
       "    unicode-bidi: embed;\n",
       "    white-space: pre-wrap;\n",
       "    word-wrap: break-word;\n",
       "    word-break: break-all;\n",
       "    font-family: \"Source Code Pro\", \"Menlo\", monospace;;\n",
       "    font-size: 13px;\n",
       "    color: #555;\n",
       "    margin-left: 4px;\n",
       "    line-height: 19px;\n",
       "  }\n",
       "</style>\n",
       "<div class=\"ansiout\">With K=2\n",
       "silhouette = 0.8501515983265806\n",
       "------------------------------------------------------------\n",
       "With K=3\n",
       "silhouette = 0.7354567373091194\n",
       "------------------------------------------------------------\n",
       "With K=4\n",
       "silhouette = 0.6766249818097015\n",
       "------------------------------------------------------------\n",
       "With K=5\n",
       "silhouette = 0.6191763605196434\n",
       "------------------------------------------------------------\n",
       "With K=6\n",
       "silhouette = 0.49698879837758025\n",
       "------------------------------------------------------------\n",
       "With K=7\n",
       "silhouette = 0.638202710839034\n",
       "------------------------------------------------------------\n",
       "With K=8\n",
       "silhouette = 0.6330648929174877\n",
       "------------------------------------------------------------\n",
       "With K=9\n",
       "silhouette = 0.4821479480295215\n",
       "------------------------------------------------------------\n",
       "</div>"
      ]
     },
     "metadata": {
      "application/vnd.databricks.v1+output": {
       "addedWidgets": {},
       "arguments": {},
       "data": "<div class=\"ansiout\">With K=2\nsilhouette = 0.8501515983265806\n------------------------------------------------------------\nWith K=3\nsilhouette = 0.7354567373091194\n------------------------------------------------------------\nWith K=4\nsilhouette = 0.6766249818097015\n------------------------------------------------------------\nWith K=5\nsilhouette = 0.6191763605196434\n------------------------------------------------------------\nWith K=6\nsilhouette = 0.49698879837758025\n------------------------------------------------------------\nWith K=7\nsilhouette = 0.638202710839034\n------------------------------------------------------------\nWith K=8\nsilhouette = 0.6330648929174877\n------------------------------------------------------------\nWith K=9\nsilhouette = 0.4821479480295215\n------------------------------------------------------------\n</div>",
       "datasetInfos": [],
       "removedWidgets": [],
       "type": "html"
      }
     },
     "output_type": "display_data"
    }
   ],
   "source": [
    "score=[]\n",
    "\n",
    "for k in range(2,10):\n",
    "    kmeans = KMeans(featuresCol='features',k=k)   \n",
    "    \n",
    "    model = kmeans.fit(final_data)\n",
    "    # Make predictions\n",
    "    predictions = model.transform(final_data)\n",
    "\n",
    "    # Evaluate clustering by computing Silhouette score\n",
    "    evaluator = ClusteringEvaluator()\n",
    "\n",
    "    silhouette = evaluator.evaluate(predictions)    \n",
    "\n",
    "    score.append(silhouette)\n",
    "    print(\"With K={}\".format(k))\n",
    "    print(\"silhouette = \" + str(silhouette))\n",
    "    print('--'*30)"
   ]
  },
  {
   "cell_type": "code",
   "execution_count": 0,
   "metadata": {
    "application/vnd.databricks.v1+cell": {
     "inputWidgets": {},
     "nuid": "71775838-035c-4372-8f69-a80b346ff578",
     "showTitle": false,
     "title": ""
    }
   },
   "outputs": [
    {
     "data": {
      "text/html": [
       "<style scoped>\n",
       "  .ansiout {\n",
       "    display: block;\n",
       "    unicode-bidi: embed;\n",
       "    white-space: pre-wrap;\n",
       "    word-wrap: break-word;\n",
       "    word-break: break-all;\n",
       "    font-family: \"Source Code Pro\", \"Menlo\", monospace;;\n",
       "    font-size: 13px;\n",
       "    color: #555;\n",
       "    margin-left: 4px;\n",
       "    line-height: 19px;\n",
       "  }\n",
       "</style>\n",
       "<div class=\"ansiout\"></div>"
      ]
     },
     "metadata": {
      "application/vnd.databricks.v1+output": {
       "addedWidgets": {},
       "arguments": {},
       "data": "<div class=\"ansiout\"></div>",
       "datasetInfos": [],
       "removedWidgets": [],
       "type": "html"
      }
     },
     "output_type": "display_data"
    }
   ],
   "source": [
    "#Selecting k =2 for kmeans clustering\n",
    "kmeans = KMeans(featuresCol='features',k=2)"
   ]
  },
  {
   "cell_type": "code",
   "execution_count": 0,
   "metadata": {
    "application/vnd.databricks.v1+cell": {
     "inputWidgets": {},
     "nuid": "c9b9e480-be8f-47ce-aedf-22c0c04f84b3",
     "showTitle": false,
     "title": ""
    }
   },
   "outputs": [
    {
     "data": {
      "text/html": [
       "<style scoped>\n",
       "  .ansiout {\n",
       "    display: block;\n",
       "    unicode-bidi: embed;\n",
       "    white-space: pre-wrap;\n",
       "    word-wrap: break-word;\n",
       "    word-break: break-all;\n",
       "    font-family: \"Source Code Pro\", \"Menlo\", monospace;;\n",
       "    font-size: 13px;\n",
       "    color: #555;\n",
       "    margin-left: 4px;\n",
       "    line-height: 19px;\n",
       "  }\n",
       "</style>\n",
       "<div class=\"ansiout\"></div>"
      ]
     },
     "metadata": {
      "application/vnd.databricks.v1+output": {
       "addedWidgets": {},
       "arguments": {},
       "data": "<div class=\"ansiout\"></div>",
       "datasetInfos": [],
       "removedWidgets": [],
       "type": "html"
      }
     },
     "output_type": "display_data"
    }
   ],
   "source": [
    "model = kmeans.fit(final_data)"
   ]
  },
  {
   "cell_type": "code",
   "execution_count": 0,
   "metadata": {
    "application/vnd.databricks.v1+cell": {
     "inputWidgets": {},
     "nuid": "ea43c7fa-311e-4feb-b243-6a8fe0815a31",
     "showTitle": false,
     "title": ""
    }
   },
   "outputs": [
    {
     "data": {
      "text/html": [
       "<style scoped>\n",
       "  .ansiout {\n",
       "    display: block;\n",
       "    unicode-bidi: embed;\n",
       "    white-space: pre-wrap;\n",
       "    word-wrap: break-word;\n",
       "    word-break: break-all;\n",
       "    font-family: \"Source Code Pro\", \"Menlo\", monospace;;\n",
       "    font-size: 13px;\n",
       "    color: #555;\n",
       "    margin-left: 4px;\n",
       "    line-height: 19px;\n",
       "  }\n",
       "</style>\n",
       "<div class=\"ansiout\">+----------+-----+\n",
       "prediction|count|\n",
       "+----------+-----+\n",
       "         1|   53|\n",
       "         0|   97|\n",
       "+----------+-----+\n",
       "\n",
       "</div>"
      ]
     },
     "metadata": {
      "application/vnd.databricks.v1+output": {
       "addedWidgets": {},
       "arguments": {},
       "data": "<div class=\"ansiout\">+----------+-----+\n|prediction|count|\n+----------+-----+\n|         1|   53|\n|         0|   97|\n+----------+-----+\n\n</div>",
       "datasetInfos": [],
       "removedWidgets": [],
       "type": "html"
      }
     },
     "output_type": "display_data"
    }
   ],
   "source": [
    "model.transform(final_data).groupBy('prediction').count().show()"
   ]
  },
  {
   "cell_type": "code",
   "execution_count": 0,
   "metadata": {
    "application/vnd.databricks.v1+cell": {
     "inputWidgets": {},
     "nuid": "0ba1a443-0121-4754-bf60-32070d21904c",
     "showTitle": false,
     "title": ""
    }
   },
   "outputs": [
    {
     "data": {
      "text/html": [
       "<style scoped>\n",
       "  .ansiout {\n",
       "    display: block;\n",
       "    unicode-bidi: embed;\n",
       "    white-space: pre-wrap;\n",
       "    word-wrap: break-word;\n",
       "    word-break: break-all;\n",
       "    font-family: \"Source Code Pro\", \"Menlo\", monospace;;\n",
       "    font-size: 13px;\n",
       "    color: #555;\n",
       "    margin-left: 4px;\n",
       "    line-height: 19px;\n",
       "  }\n",
       "</style>\n",
       "<div class=\"ansiout\"></div>"
      ]
     },
     "metadata": {
      "application/vnd.databricks.v1+output": {
       "addedWidgets": {},
       "arguments": {},
       "data": "<div class=\"ansiout\"></div>",
       "datasetInfos": [],
       "removedWidgets": [],
       "type": "html"
      }
     },
     "output_type": "display_data"
    }
   ],
   "source": [
    "predictions=model.transform(final_data)"
   ]
  },
  {
   "cell_type": "code",
   "execution_count": 0,
   "metadata": {
    "application/vnd.databricks.v1+cell": {
     "inputWidgets": {},
     "nuid": "0c036121-e3f4-42ab-873c-83a2359e1b89",
     "showTitle": false,
     "title": ""
    }
   },
   "outputs": [
    {
     "data": {
      "text/html": [
       "<style scoped>\n",
       "  .ansiout {\n",
       "    display: block;\n",
       "    unicode-bidi: embed;\n",
       "    white-space: pre-wrap;\n",
       "    word-wrap: break-word;\n",
       "    word-break: break-all;\n",
       "    font-family: \"Source Code Pro\", \"Menlo\", monospace;;\n",
       "    font-size: 13px;\n",
       "    color: #555;\n",
       "    margin-left: 4px;\n",
       "    line-height: 19px;\n",
       "  }\n",
       "</style>\n",
       "<div class=\"ansiout\">Out[23]: [&#39;sepal_length&#39;,\n",
       " &#39;sepal_width&#39;,\n",
       " &#39;petal_length&#39;,\n",
       " &#39;petal_width&#39;,\n",
       " &#39;species&#39;,\n",
       " &#39;features&#39;,\n",
       " &#39;prediction&#39;]</div>"
      ]
     },
     "metadata": {
      "application/vnd.databricks.v1+output": {
       "addedWidgets": {},
       "arguments": {},
       "data": "<div class=\"ansiout\">Out[23]: [&#39;sepal_length&#39;,\n &#39;sepal_width&#39;,\n &#39;petal_length&#39;,\n &#39;petal_width&#39;,\n &#39;species&#39;,\n &#39;features&#39;,\n &#39;prediction&#39;]</div>",
       "datasetInfos": [],
       "removedWidgets": [],
       "type": "html"
      }
     },
     "output_type": "display_data"
    }
   ],
   "source": [
    "predictions.columns"
   ]
  },
  {
   "cell_type": "code",
   "execution_count": 0,
   "metadata": {
    "application/vnd.databricks.v1+cell": {
     "inputWidgets": {},
     "nuid": "1de0cea7-5122-40df-901d-82b129d4738b",
     "showTitle": false,
     "title": ""
    }
   },
   "outputs": [
    {
     "data": {
      "text/html": [
       "<style scoped>\n",
       "  .ansiout {\n",
       "    display: block;\n",
       "    unicode-bidi: embed;\n",
       "    white-space: pre-wrap;\n",
       "    word-wrap: break-word;\n",
       "    word-break: break-all;\n",
       "    font-family: \"Source Code Pro\", \"Menlo\", monospace;;\n",
       "    font-size: 13px;\n",
       "    color: #555;\n",
       "    margin-left: 4px;\n",
       "    line-height: 19px;\n",
       "  }\n",
       "</style>\n",
       "<div class=\"ansiout\">+----------+----------+-----+\n",
       "   species|prediction|count|\n",
       "+----------+----------+-----+\n",
       " virginica|         0|   50|\n",
       "versicolor|         1|    3|\n",
       "versicolor|         0|   47|\n",
       "    setosa|         1|   50|\n",
       "+----------+----------+-----+\n",
       "\n",
       "</div>"
      ]
     },
     "metadata": {
      "application/vnd.databricks.v1+output": {
       "addedWidgets": {},
       "arguments": {},
       "data": "<div class=\"ansiout\">+----------+----------+-----+\n|   species|prediction|count|\n+----------+----------+-----+\n| virginica|         0|   50|\n|versicolor|         1|    3|\n|versicolor|         0|   47|\n|    setosa|         1|   50|\n+----------+----------+-----+\n\n</div>",
       "datasetInfos": [],
       "removedWidgets": [],
       "type": "html"
      }
     },
     "output_type": "display_data"
    }
   ],
   "source": [
    "predictions.groupBy('species','prediction').count().show()"
   ]
  },
  {
   "cell_type": "code",
   "execution_count": 0,
   "metadata": {
    "application/vnd.databricks.v1+cell": {
     "inputWidgets": {},
     "nuid": "86e5d1ec-2924-4793-8885-157c5d72fac9",
     "showTitle": false,
     "title": ""
    }
   },
   "outputs": [
    {
     "data": {
      "text/html": [
       "<style scoped>\n",
       "  .ansiout {\n",
       "    display: block;\n",
       "    unicode-bidi: embed;\n",
       "    white-space: pre-wrap;\n",
       "    word-wrap: break-word;\n",
       "    word-break: break-all;\n",
       "    font-family: \"Source Code Pro\", \"Menlo\", monospace;;\n",
       "    font-size: 13px;\n",
       "    color: #555;\n",
       "    margin-left: 4px;\n",
       "    line-height: 19px;\n",
       "  }\n",
       "</style>\n",
       "<div class=\"ansiout\">/databricks/spark/python/pyspark/sql/pandas/conversion.py:93: UserWarning: toPandas attempted Arrow optimization because &#39;spark.sql.execution.arrow.pyspark.enabled&#39; is set to true; however, failed by the reason below:\n",
       "  Unable to convert the field features. If this column is not necessary, you may consider dropping it or converting to primitive type before the conversion.\n",
       "Context: Unsupported type in conversion to Arrow: VectorUDT\n",
       "Attempting non-optimization as &#39;spark.sql.execution.arrow.pyspark.fallback.enabled&#39; is set to true.\n",
       "  warnings.warn(msg)\n",
       "Out[25]: </div>"
      ]
     },
     "metadata": {
      "application/vnd.databricks.v1+output": {
       "addedWidgets": {},
       "arguments": {},
       "data": "<div class=\"ansiout\">/databricks/spark/python/pyspark/sql/pandas/conversion.py:93: UserWarning: toPandas attempted Arrow optimization because &#39;spark.sql.execution.arrow.pyspark.enabled&#39; is set to true; however, failed by the reason below:\n  Unable to convert the field features. If this column is not necessary, you may consider dropping it or converting to primitive type before the conversion.\nContext: Unsupported type in conversion to Arrow: VectorUDT\nAttempting non-optimization as &#39;spark.sql.execution.arrow.pyspark.fallback.enabled&#39; is set to true.\n  warnings.warn(msg)\nOut[25]: </div>",
       "datasetInfos": [],
       "removedWidgets": [],
       "type": "html"
      }
     },
     "output_type": "display_data"
    },
    {
     "data": {
      "text/html": [
       "<div>\n",
       "<style scoped>\n",
       "    .dataframe tbody tr th:only-of-type {\n",
       "        vertical-align: middle;\n",
       "    }\n",
       "\n",
       "    .dataframe tbody tr th {\n",
       "        vertical-align: top;\n",
       "    }\n",
       "\n",
       "    .dataframe thead th {\n",
       "        text-align: right;\n",
       "    }\n",
       "</style>\n",
       "<table border=\"1\" class=\"dataframe\">\n",
       "  <thead>\n",
       "    <tr style=\"text-align: right;\">\n",
       "      <th></th>\n",
       "      <th>sepal_length</th>\n",
       "      <th>sepal_width</th>\n",
       "      <th>petal_length</th>\n",
       "      <th>petal_width</th>\n",
       "      <th>species</th>\n",
       "      <th>features</th>\n",
       "      <th>prediction</th>\n",
       "    </tr>\n",
       "  </thead>\n",
       "  <tbody>\n",
       "    <tr>\n",
       "      <th>137</th>\n",
       "      <td>6.4</td>\n",
       "      <td>3.1</td>\n",
       "      <td>5.5</td>\n",
       "      <td>1.8</td>\n",
       "      <td>virginica</td>\n",
       "      <td>[6.4, 3.1, 5.5, 1.8]</td>\n",
       "      <td>0</td>\n",
       "    </tr>\n",
       "    <tr>\n",
       "      <th>86</th>\n",
       "      <td>6.7</td>\n",
       "      <td>3.1</td>\n",
       "      <td>4.7</td>\n",
       "      <td>1.5</td>\n",
       "      <td>versicolor</td>\n",
       "      <td>[6.7, 3.1, 4.7, 1.5]</td>\n",
       "      <td>0</td>\n",
       "    </tr>\n",
       "    <tr>\n",
       "      <th>65</th>\n",
       "      <td>6.7</td>\n",
       "      <td>3.1</td>\n",
       "      <td>4.4</td>\n",
       "      <td>1.4</td>\n",
       "      <td>versicolor</td>\n",
       "      <td>[6.7, 3.1, 4.4, 1.4]</td>\n",
       "      <td>0</td>\n",
       "    </tr>\n",
       "    <tr>\n",
       "      <th>133</th>\n",
       "      <td>6.3</td>\n",
       "      <td>2.8</td>\n",
       "      <td>5.1</td>\n",
       "      <td>1.5</td>\n",
       "      <td>virginica</td>\n",
       "      <td>[6.3, 2.8, 5.1, 1.5]</td>\n",
       "      <td>0</td>\n",
       "    </tr>\n",
       "    <tr>\n",
       "      <th>73</th>\n",
       "      <td>6.1</td>\n",
       "      <td>2.8</td>\n",
       "      <td>4.7</td>\n",
       "      <td>1.2</td>\n",
       "      <td>versicolor</td>\n",
       "      <td>[6.1, 2.8, 4.7, 1.2]</td>\n",
       "      <td>0</td>\n",
       "    </tr>\n",
       "  </tbody>\n",
       "</table>\n",
       "</div>"
      ]
     },
     "metadata": {
      "application/vnd.databricks.v1+output": {
       "addedWidgets": {},
       "arguments": {},
       "data": "<div>\n<style scoped>\n    .dataframe tbody tr th:only-of-type {\n        vertical-align: middle;\n    }\n\n    .dataframe tbody tr th {\n        vertical-align: top;\n    }\n\n    .dataframe thead th {\n        text-align: right;\n    }\n</style>\n<table border=\"1\" class=\"dataframe\">\n  <thead>\n    <tr style=\"text-align: right;\">\n      <th></th>\n      <th>sepal_length</th>\n      <th>sepal_width</th>\n      <th>petal_length</th>\n      <th>petal_width</th>\n      <th>species</th>\n      <th>features</th>\n      <th>prediction</th>\n    </tr>\n  </thead>\n  <tbody>\n    <tr>\n      <th>137</th>\n      <td>6.4</td>\n      <td>3.1</td>\n      <td>5.5</td>\n      <td>1.8</td>\n      <td>virginica</td>\n      <td>[6.4, 3.1, 5.5, 1.8]</td>\n      <td>0</td>\n    </tr>\n    <tr>\n      <th>86</th>\n      <td>6.7</td>\n      <td>3.1</td>\n      <td>4.7</td>\n      <td>1.5</td>\n      <td>versicolor</td>\n      <td>[6.7, 3.1, 4.7, 1.5]</td>\n      <td>0</td>\n    </tr>\n    <tr>\n      <th>65</th>\n      <td>6.7</td>\n      <td>3.1</td>\n      <td>4.4</td>\n      <td>1.4</td>\n      <td>versicolor</td>\n      <td>[6.7, 3.1, 4.4, 1.4]</td>\n      <td>0</td>\n    </tr>\n    <tr>\n      <th>133</th>\n      <td>6.3</td>\n      <td>2.8</td>\n      <td>5.1</td>\n      <td>1.5</td>\n      <td>virginica</td>\n      <td>[6.3, 2.8, 5.1, 1.5]</td>\n      <td>0</td>\n    </tr>\n    <tr>\n      <th>73</th>\n      <td>6.1</td>\n      <td>2.8</td>\n      <td>4.7</td>\n      <td>1.2</td>\n      <td>versicolor</td>\n      <td>[6.1, 2.8, 4.7, 1.2]</td>\n      <td>0</td>\n    </tr>\n  </tbody>\n</table>\n</div>",
       "datasetInfos": [],
       "removedWidgets": [],
       "textData": null,
       "type": "htmlSandbox"
      }
     },
     "output_type": "display_data"
    }
   ],
   "source": [
    "pandas_df = predictions.toPandas()\n",
    "pandas_df.sample(5)"
   ]
  },
  {
   "cell_type": "code",
   "execution_count": 0,
   "metadata": {
    "application/vnd.databricks.v1+cell": {
     "inputWidgets": {},
     "nuid": "d49c3a15-d064-4da6-8eb1-f25e0cdf8dc8",
     "showTitle": false,
     "title": ""
    }
   },
   "outputs": [
    {
     "data": {
      "text/html": [
       "<style scoped>\n",
       "  .ansiout {\n",
       "    display: block;\n",
       "    unicode-bidi: embed;\n",
       "    white-space: pre-wrap;\n",
       "    word-wrap: break-word;\n",
       "    word-break: break-all;\n",
       "    font-family: \"Source Code Pro\", \"Menlo\", monospace;;\n",
       "    font-size: 13px;\n",
       "    color: #555;\n",
       "    margin-left: 4px;\n",
       "    line-height: 19px;\n",
       "  }\n",
       "</style>\n",
       "<div class=\"ansiout\"></div>"
      ]
     },
     "metadata": {
      "application/vnd.databricks.v1+output": {
       "addedWidgets": {},
       "arguments": {},
       "data": "<div class=\"ansiout\"></div>",
       "datasetInfos": [],
       "removedWidgets": [],
       "type": "html"
      }
     },
     "output_type": "display_data"
    }
   ],
   "source": [
    "import matplotlib.pyplot as plt\n",
    "from mpl_toolkits.mplot3d import Axes3D"
   ]
  },
  {
   "cell_type": "code",
   "execution_count": 0,
   "metadata": {
    "application/vnd.databricks.v1+cell": {
     "inputWidgets": {},
     "nuid": "1f958147-50d3-4bd9-887e-5d776b14ff80",
     "showTitle": false,
     "title": ""
    }
   },
   "outputs": [
    {
     "data": {
      "image/png": "[encoded data removed]"
     },
     "metadata": {
      "application/vnd.databricks.v1+output": {
       "addedWidgets": {},
       "arguments": {},
       "data": "/plots/e69b3489-f064-4d69-b6b6-9014590ca816.png",
       "datasetInfos": [],
       "removedWidgets": [],
       "type": "image"
      }
     },
     "output_type": "display_data"
    }
   ],
   "source": [
    "cluster_vis = plt.figure(figsize=(15,10)).gca(projection='3d')\n",
    "cluster_vis.scatter(pandas_df.sepal_length, pandas_df.sepal_width, pandas_df.petal_length, c=pandas_df.prediction,depthshade=False)\n",
    "plt.show()"
   ]
  },
  {
   "cell_type": "code",
   "execution_count": 0,
   "metadata": {
    "application/vnd.databricks.v1+cell": {
     "inputWidgets": {},
     "nuid": "0d535efd-cf3d-4bbd-a130-57a3ce98351d",
     "showTitle": false,
     "title": ""
    }
   },
   "outputs": [],
   "source": []
  }
 ],
 "metadata": {
  "application/vnd.databricks.v1+notebook": {
   "dashboards": [],
   "language": "python",
   "notebookName": "4_Clustering_PySpark",
   "notebookOrigID": 193850213023238,
   "widgets": {}
  },
  "kernelspec": {
   "display_name": "Python 3",
   "language": "python",
   "name": "python3"
  },
  "language_info": {
   "codemirror_mode": {
    "name": "ipython",
    "version": 3
   },
   "file_extension": ".py",
   "mimetype": "text/x-python",
   "name": "python",
   "nbconvert_exporter": "python",
   "pygments_lexer": "ipython3",
   "version": "3.8.5"
  }
 },
 "nbformat": 4,
 "nbformat_minor": 1
}
